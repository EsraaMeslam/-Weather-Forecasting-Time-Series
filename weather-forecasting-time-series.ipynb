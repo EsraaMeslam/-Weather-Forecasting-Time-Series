{
 "cells": [
  {
   "cell_type": "markdown",
   "id": "76dbf709",
   "metadata": {
    "execution": {
     "iopub.execute_input": "2024-03-29T22:29:33.942787Z",
     "iopub.status.busy": "2024-03-29T22:29:33.942227Z",
     "iopub.status.idle": "2024-03-29T22:29:37.259461Z",
     "shell.execute_reply": "2024-03-29T22:29:37.257335Z",
     "shell.execute_reply.started": "2024-03-29T22:29:33.942744Z"
    },
    "papermill": {
     "duration": 0.019888,
     "end_time": "2024-03-30T13:47:13.546566",
     "exception": false,
     "start_time": "2024-03-30T13:47:13.526678",
     "status": "completed"
    },
    "tags": []
   },
   "source": [
    "<h2 style=\"text-align: center;\">Hello! Welcome to my notebook💗"
   ]
  },
  {
   "cell_type": "markdown",
   "id": "35098fd6",
   "metadata": {
    "papermill": {
     "duration": 0.018497,
     "end_time": "2024-03-30T13:47:13.584232",
     "exception": false,
     "start_time": "2024-03-30T13:47:13.565735",
     "status": "completed"
    },
    "tags": []
   },
   "source": [
    "<img src=\"https://editor.analyticsvidhya.com/uploads/3951420200902_blog_-forecasting-with-time-series-models-using-python_pt2_website.png\" alt=\"Udemy Image\" width=\"800\" height=\"800\" style=\"display: block; margin: auto;\">"
   ]
  },
  {
   "cell_type": "markdown",
   "id": "4b5224e7",
   "metadata": {
    "papermill": {
     "duration": 0.019976,
     "end_time": "2024-03-30T13:47:13.622828",
     "exception": false,
     "start_time": "2024-03-30T13:47:13.602852",
     "status": "completed"
    },
    "tags": []
   },
   "source": [
    "# 🔖Importing Libraries "
   ]
  },
  {
   "cell_type": "code",
   "execution_count": 1,
   "id": "36a1bda1",
   "metadata": {
    "execution": {
     "iopub.execute_input": "2024-03-30T13:47:13.663200Z",
     "iopub.status.busy": "2024-03-30T13:47:13.662616Z",
     "iopub.status.idle": "2024-03-30T13:47:16.585845Z",
     "shell.execute_reply": "2024-03-30T13:47:16.584661Z"
    },
    "papermill": {
     "duration": 2.946987,
     "end_time": "2024-03-30T13:47:16.588851",
     "exception": false,
     "start_time": "2024-03-30T13:47:13.641864",
     "status": "completed"
    },
    "tags": []
   },
   "outputs": [],
   "source": [
    "import numpy as np\n",
    "import pandas as pd\n",
    "import matplotlib.pyplot as plt\n",
    "import seaborn as sns\n",
    "import plotly.graph_objects as go\n",
    "from sklearn.preprocessing import StandardScaler\n",
    "from statsmodels.tsa.ar_model import AutoReg\n",
    "from sklearn.metrics import mean_squared_error, mean_absolute_error"
   ]
  },
  {
   "cell_type": "markdown",
   "id": "08c57daa",
   "metadata": {
    "papermill": {
     "duration": 0.019116,
     "end_time": "2024-03-30T13:47:16.627477",
     "exception": false,
     "start_time": "2024-03-30T13:47:16.608361",
     "status": "completed"
    },
    "tags": []
   },
   "source": [
    "# 🔖Reading the Data"
   ]
  },
  {
   "cell_type": "code",
   "execution_count": 2,
   "id": "f1cdb663",
   "metadata": {
    "execution": {
     "iopub.execute_input": "2024-03-30T13:47:16.668411Z",
     "iopub.status.busy": "2024-03-30T13:47:16.667811Z",
     "iopub.status.idle": "2024-03-30T13:47:16.714198Z",
     "shell.execute_reply": "2024-03-30T13:47:16.713340Z"
    },
    "papermill": {
     "duration": 0.069833,
     "end_time": "2024-03-30T13:47:16.716712",
     "exception": false,
     "start_time": "2024-03-30T13:47:16.646879",
     "status": "completed"
    },
    "tags": []
   },
   "outputs": [],
   "source": [
    "df_train = pd.read_csv(\"/kaggle/input/daily-climate-time-series-data/DailyDelhiClimateTrain.csv\", parse_dates=['date'])\n",
    "df_test = pd.read_csv(\"/kaggle/input/daily-climate-time-series-data/DailyDelhiClimateTest.csv\", parse_dates=['date'])"
   ]
  },
  {
   "cell_type": "markdown",
   "id": "d74241b9",
   "metadata": {
    "execution": {
     "iopub.execute_input": "2024-03-29T22:54:40.685367Z",
     "iopub.status.busy": "2024-03-29T22:54:40.684863Z",
     "iopub.status.idle": "2024-03-29T22:54:40.690478Z",
     "shell.execute_reply": "2024-03-29T22:54:40.689476Z",
     "shell.execute_reply.started": "2024-03-29T22:54:40.685335Z"
    },
    "papermill": {
     "duration": 0.019151,
     "end_time": "2024-03-30T13:47:16.754945",
     "exception": false,
     "start_time": "2024-03-30T13:47:16.735794",
     "status": "completed"
    },
    "tags": []
   },
   "source": [
    "# 🔖Data Exploration "
   ]
  },
  {
   "cell_type": "markdown",
   "id": "7f694261",
   "metadata": {
    "papermill": {
     "duration": 0.019148,
     "end_time": "2024-03-30T13:47:16.793045",
     "exception": false,
     "start_time": "2024-03-30T13:47:16.773897",
     "status": "completed"
    },
    "tags": []
   },
   "source": [
    "### 🔗 heads & tails"
   ]
  },
  {
   "cell_type": "code",
   "execution_count": 3,
   "id": "6f109f62",
   "metadata": {
    "execution": {
     "iopub.execute_input": "2024-03-30T13:47:16.836035Z",
     "iopub.status.busy": "2024-03-30T13:47:16.835316Z",
     "iopub.status.idle": "2024-03-30T13:47:16.854898Z",
     "shell.execute_reply": "2024-03-30T13:47:16.854128Z"
    },
    "papermill": {
     "duration": 0.042068,
     "end_time": "2024-03-30T13:47:16.856890",
     "exception": false,
     "start_time": "2024-03-30T13:47:16.814822",
     "status": "completed"
    },
    "tags": []
   },
   "outputs": [
    {
     "data": {
      "text/html": [
       "<div>\n",
       "<style scoped>\n",
       "    .dataframe tbody tr th:only-of-type {\n",
       "        vertical-align: middle;\n",
       "    }\n",
       "\n",
       "    .dataframe tbody tr th {\n",
       "        vertical-align: top;\n",
       "    }\n",
       "\n",
       "    .dataframe thead th {\n",
       "        text-align: right;\n",
       "    }\n",
       "</style>\n",
       "<table border=\"1\" class=\"dataframe\">\n",
       "  <thead>\n",
       "    <tr style=\"text-align: right;\">\n",
       "      <th></th>\n",
       "      <th>date</th>\n",
       "      <th>meantemp</th>\n",
       "      <th>humidity</th>\n",
       "      <th>wind_speed</th>\n",
       "      <th>meanpressure</th>\n",
       "    </tr>\n",
       "  </thead>\n",
       "  <tbody>\n",
       "    <tr>\n",
       "      <th>0</th>\n",
       "      <td>2013-01-01</td>\n",
       "      <td>10.000000</td>\n",
       "      <td>84.500000</td>\n",
       "      <td>0.000000</td>\n",
       "      <td>1015.666667</td>\n",
       "    </tr>\n",
       "    <tr>\n",
       "      <th>1</th>\n",
       "      <td>2013-01-02</td>\n",
       "      <td>7.400000</td>\n",
       "      <td>92.000000</td>\n",
       "      <td>2.980000</td>\n",
       "      <td>1017.800000</td>\n",
       "    </tr>\n",
       "    <tr>\n",
       "      <th>2</th>\n",
       "      <td>2013-01-03</td>\n",
       "      <td>7.166667</td>\n",
       "      <td>87.000000</td>\n",
       "      <td>4.633333</td>\n",
       "      <td>1018.666667</td>\n",
       "    </tr>\n",
       "    <tr>\n",
       "      <th>3</th>\n",
       "      <td>2013-01-04</td>\n",
       "      <td>8.666667</td>\n",
       "      <td>71.333333</td>\n",
       "      <td>1.233333</td>\n",
       "      <td>1017.166667</td>\n",
       "    </tr>\n",
       "    <tr>\n",
       "      <th>4</th>\n",
       "      <td>2013-01-05</td>\n",
       "      <td>6.000000</td>\n",
       "      <td>86.833333</td>\n",
       "      <td>3.700000</td>\n",
       "      <td>1016.500000</td>\n",
       "    </tr>\n",
       "  </tbody>\n",
       "</table>\n",
       "</div>"
      ],
      "text/plain": [
       "        date   meantemp   humidity  wind_speed  meanpressure\n",
       "0 2013-01-01  10.000000  84.500000    0.000000   1015.666667\n",
       "1 2013-01-02   7.400000  92.000000    2.980000   1017.800000\n",
       "2 2013-01-03   7.166667  87.000000    4.633333   1018.666667\n",
       "3 2013-01-04   8.666667  71.333333    1.233333   1017.166667\n",
       "4 2013-01-05   6.000000  86.833333    3.700000   1016.500000"
      ]
     },
     "execution_count": 3,
     "metadata": {},
     "output_type": "execute_result"
    }
   ],
   "source": [
    "#head of train\n",
    "df_train.head()"
   ]
  },
  {
   "cell_type": "code",
   "execution_count": 4,
   "id": "6921598c",
   "metadata": {
    "execution": {
     "iopub.execute_input": "2024-03-30T13:47:16.897411Z",
     "iopub.status.busy": "2024-03-30T13:47:16.896980Z",
     "iopub.status.idle": "2024-03-30T13:47:16.908864Z",
     "shell.execute_reply": "2024-03-30T13:47:16.907922Z"
    },
    "papermill": {
     "duration": 0.034521,
     "end_time": "2024-03-30T13:47:16.910930",
     "exception": false,
     "start_time": "2024-03-30T13:47:16.876409",
     "status": "completed"
    },
    "tags": []
   },
   "outputs": [
    {
     "data": {
      "text/html": [
       "<div>\n",
       "<style scoped>\n",
       "    .dataframe tbody tr th:only-of-type {\n",
       "        vertical-align: middle;\n",
       "    }\n",
       "\n",
       "    .dataframe tbody tr th {\n",
       "        vertical-align: top;\n",
       "    }\n",
       "\n",
       "    .dataframe thead th {\n",
       "        text-align: right;\n",
       "    }\n",
       "</style>\n",
       "<table border=\"1\" class=\"dataframe\">\n",
       "  <thead>\n",
       "    <tr style=\"text-align: right;\">\n",
       "      <th></th>\n",
       "      <th>date</th>\n",
       "      <th>meantemp</th>\n",
       "      <th>humidity</th>\n",
       "      <th>wind_speed</th>\n",
       "      <th>meanpressure</th>\n",
       "    </tr>\n",
       "  </thead>\n",
       "  <tbody>\n",
       "    <tr>\n",
       "      <th>1457</th>\n",
       "      <td>2016-12-28</td>\n",
       "      <td>17.217391</td>\n",
       "      <td>68.043478</td>\n",
       "      <td>3.547826</td>\n",
       "      <td>1015.565217</td>\n",
       "    </tr>\n",
       "    <tr>\n",
       "      <th>1458</th>\n",
       "      <td>2016-12-29</td>\n",
       "      <td>15.238095</td>\n",
       "      <td>87.857143</td>\n",
       "      <td>6.000000</td>\n",
       "      <td>1016.904762</td>\n",
       "    </tr>\n",
       "    <tr>\n",
       "      <th>1459</th>\n",
       "      <td>2016-12-30</td>\n",
       "      <td>14.095238</td>\n",
       "      <td>89.666667</td>\n",
       "      <td>6.266667</td>\n",
       "      <td>1017.904762</td>\n",
       "    </tr>\n",
       "    <tr>\n",
       "      <th>1460</th>\n",
       "      <td>2016-12-31</td>\n",
       "      <td>15.052632</td>\n",
       "      <td>87.000000</td>\n",
       "      <td>7.325000</td>\n",
       "      <td>1016.100000</td>\n",
       "    </tr>\n",
       "    <tr>\n",
       "      <th>1461</th>\n",
       "      <td>2017-01-01</td>\n",
       "      <td>10.000000</td>\n",
       "      <td>100.000000</td>\n",
       "      <td>0.000000</td>\n",
       "      <td>1016.000000</td>\n",
       "    </tr>\n",
       "  </tbody>\n",
       "</table>\n",
       "</div>"
      ],
      "text/plain": [
       "           date   meantemp    humidity  wind_speed  meanpressure\n",
       "1457 2016-12-28  17.217391   68.043478    3.547826   1015.565217\n",
       "1458 2016-12-29  15.238095   87.857143    6.000000   1016.904762\n",
       "1459 2016-12-30  14.095238   89.666667    6.266667   1017.904762\n",
       "1460 2016-12-31  15.052632   87.000000    7.325000   1016.100000\n",
       "1461 2017-01-01  10.000000  100.000000    0.000000   1016.000000"
      ]
     },
     "execution_count": 4,
     "metadata": {},
     "output_type": "execute_result"
    }
   ],
   "source": [
    "#tail of train\n",
    "df_train.tail()"
   ]
  },
  {
   "cell_type": "code",
   "execution_count": 5,
   "id": "0356ce7c",
   "metadata": {
    "execution": {
     "iopub.execute_input": "2024-03-30T13:47:16.953736Z",
     "iopub.status.busy": "2024-03-30T13:47:16.952413Z",
     "iopub.status.idle": "2024-03-30T13:47:16.965612Z",
     "shell.execute_reply": "2024-03-30T13:47:16.964546Z"
    },
    "papermill": {
     "duration": 0.036855,
     "end_time": "2024-03-30T13:47:16.968063",
     "exception": false,
     "start_time": "2024-03-30T13:47:16.931208",
     "status": "completed"
    },
    "tags": []
   },
   "outputs": [
    {
     "data": {
      "text/html": [
       "<div>\n",
       "<style scoped>\n",
       "    .dataframe tbody tr th:only-of-type {\n",
       "        vertical-align: middle;\n",
       "    }\n",
       "\n",
       "    .dataframe tbody tr th {\n",
       "        vertical-align: top;\n",
       "    }\n",
       "\n",
       "    .dataframe thead th {\n",
       "        text-align: right;\n",
       "    }\n",
       "</style>\n",
       "<table border=\"1\" class=\"dataframe\">\n",
       "  <thead>\n",
       "    <tr style=\"text-align: right;\">\n",
       "      <th></th>\n",
       "      <th>date</th>\n",
       "      <th>meantemp</th>\n",
       "      <th>humidity</th>\n",
       "      <th>wind_speed</th>\n",
       "      <th>meanpressure</th>\n",
       "    </tr>\n",
       "  </thead>\n",
       "  <tbody>\n",
       "    <tr>\n",
       "      <th>0</th>\n",
       "      <td>2017-01-01</td>\n",
       "      <td>15.913043</td>\n",
       "      <td>85.869565</td>\n",
       "      <td>2.743478</td>\n",
       "      <td>59.000000</td>\n",
       "    </tr>\n",
       "    <tr>\n",
       "      <th>1</th>\n",
       "      <td>2017-01-02</td>\n",
       "      <td>18.500000</td>\n",
       "      <td>77.222222</td>\n",
       "      <td>2.894444</td>\n",
       "      <td>1018.277778</td>\n",
       "    </tr>\n",
       "    <tr>\n",
       "      <th>2</th>\n",
       "      <td>2017-01-03</td>\n",
       "      <td>17.111111</td>\n",
       "      <td>81.888889</td>\n",
       "      <td>4.016667</td>\n",
       "      <td>1018.333333</td>\n",
       "    </tr>\n",
       "    <tr>\n",
       "      <th>3</th>\n",
       "      <td>2017-01-04</td>\n",
       "      <td>18.700000</td>\n",
       "      <td>70.050000</td>\n",
       "      <td>4.545000</td>\n",
       "      <td>1015.700000</td>\n",
       "    </tr>\n",
       "    <tr>\n",
       "      <th>4</th>\n",
       "      <td>2017-01-05</td>\n",
       "      <td>18.388889</td>\n",
       "      <td>74.944444</td>\n",
       "      <td>3.300000</td>\n",
       "      <td>1014.333333</td>\n",
       "    </tr>\n",
       "  </tbody>\n",
       "</table>\n",
       "</div>"
      ],
      "text/plain": [
       "        date   meantemp   humidity  wind_speed  meanpressure\n",
       "0 2017-01-01  15.913043  85.869565    2.743478     59.000000\n",
       "1 2017-01-02  18.500000  77.222222    2.894444   1018.277778\n",
       "2 2017-01-03  17.111111  81.888889    4.016667   1018.333333\n",
       "3 2017-01-04  18.700000  70.050000    4.545000   1015.700000\n",
       "4 2017-01-05  18.388889  74.944444    3.300000   1014.333333"
      ]
     },
     "execution_count": 5,
     "metadata": {},
     "output_type": "execute_result"
    }
   ],
   "source": [
    "#head of test\n",
    "df_test.head()"
   ]
  },
  {
   "cell_type": "code",
   "execution_count": 6,
   "id": "3668821c",
   "metadata": {
    "execution": {
     "iopub.execute_input": "2024-03-30T13:47:17.010858Z",
     "iopub.status.busy": "2024-03-30T13:47:17.009725Z",
     "iopub.status.idle": "2024-03-30T13:47:17.023127Z",
     "shell.execute_reply": "2024-03-30T13:47:17.022020Z"
    },
    "papermill": {
     "duration": 0.036887,
     "end_time": "2024-03-30T13:47:17.025246",
     "exception": false,
     "start_time": "2024-03-30T13:47:16.988359",
     "status": "completed"
    },
    "tags": []
   },
   "outputs": [
    {
     "data": {
      "text/html": [
       "<div>\n",
       "<style scoped>\n",
       "    .dataframe tbody tr th:only-of-type {\n",
       "        vertical-align: middle;\n",
       "    }\n",
       "\n",
       "    .dataframe tbody tr th {\n",
       "        vertical-align: top;\n",
       "    }\n",
       "\n",
       "    .dataframe thead th {\n",
       "        text-align: right;\n",
       "    }\n",
       "</style>\n",
       "<table border=\"1\" class=\"dataframe\">\n",
       "  <thead>\n",
       "    <tr style=\"text-align: right;\">\n",
       "      <th></th>\n",
       "      <th>date</th>\n",
       "      <th>meantemp</th>\n",
       "      <th>humidity</th>\n",
       "      <th>wind_speed</th>\n",
       "      <th>meanpressure</th>\n",
       "    </tr>\n",
       "  </thead>\n",
       "  <tbody>\n",
       "    <tr>\n",
       "      <th>109</th>\n",
       "      <td>2017-04-20</td>\n",
       "      <td>34.500</td>\n",
       "      <td>27.500000</td>\n",
       "      <td>5.562500</td>\n",
       "      <td>998.625000</td>\n",
       "    </tr>\n",
       "    <tr>\n",
       "      <th>110</th>\n",
       "      <td>2017-04-21</td>\n",
       "      <td>34.250</td>\n",
       "      <td>39.375000</td>\n",
       "      <td>6.962500</td>\n",
       "      <td>999.875000</td>\n",
       "    </tr>\n",
       "    <tr>\n",
       "      <th>111</th>\n",
       "      <td>2017-04-22</td>\n",
       "      <td>32.900</td>\n",
       "      <td>40.900000</td>\n",
       "      <td>8.890000</td>\n",
       "      <td>1001.600000</td>\n",
       "    </tr>\n",
       "    <tr>\n",
       "      <th>112</th>\n",
       "      <td>2017-04-23</td>\n",
       "      <td>32.875</td>\n",
       "      <td>27.500000</td>\n",
       "      <td>9.962500</td>\n",
       "      <td>1002.125000</td>\n",
       "    </tr>\n",
       "    <tr>\n",
       "      <th>113</th>\n",
       "      <td>2017-04-24</td>\n",
       "      <td>32.000</td>\n",
       "      <td>27.142857</td>\n",
       "      <td>12.157143</td>\n",
       "      <td>1004.142857</td>\n",
       "    </tr>\n",
       "  </tbody>\n",
       "</table>\n",
       "</div>"
      ],
      "text/plain": [
       "          date  meantemp   humidity  wind_speed  meanpressure\n",
       "109 2017-04-20    34.500  27.500000    5.562500    998.625000\n",
       "110 2017-04-21    34.250  39.375000    6.962500    999.875000\n",
       "111 2017-04-22    32.900  40.900000    8.890000   1001.600000\n",
       "112 2017-04-23    32.875  27.500000    9.962500   1002.125000\n",
       "113 2017-04-24    32.000  27.142857   12.157143   1004.142857"
      ]
     },
     "execution_count": 6,
     "metadata": {},
     "output_type": "execute_result"
    }
   ],
   "source": [
    "#tail of test\n",
    "df_test.tail()"
   ]
  },
  {
   "cell_type": "markdown",
   "id": "d1d40754",
   "metadata": {
    "papermill": {
     "duration": 0.020298,
     "end_time": "2024-03-30T13:47:17.065823",
     "exception": false,
     "start_time": "2024-03-30T13:47:17.045525",
     "status": "completed"
    },
    "tags": []
   },
   "source": [
    "📝 I notice that Traing from  (2013-01-01 to 2017-01-01)<br>\n",
    "📝               Testing from (2017-01-01 to 2017-04-24)"
   ]
  },
  {
   "cell_type": "markdown",
   "id": "b0338fe5",
   "metadata": {
    "papermill": {
     "duration": 0.020131,
     "end_time": "2024-03-30T13:47:17.106236",
     "exception": false,
     "start_time": "2024-03-30T13:47:17.086105",
     "status": "completed"
    },
    "tags": []
   },
   "source": [
    "### 🔗Summary statistics "
   ]
  },
  {
   "cell_type": "code",
   "execution_count": 7,
   "id": "448ea5c5",
   "metadata": {
    "execution": {
     "iopub.execute_input": "2024-03-30T13:47:17.148400Z",
     "iopub.status.busy": "2024-03-30T13:47:17.147965Z",
     "iopub.status.idle": "2024-03-30T13:47:17.182266Z",
     "shell.execute_reply": "2024-03-30T13:47:17.181434Z"
    },
    "papermill": {
     "duration": 0.057887,
     "end_time": "2024-03-30T13:47:17.184341",
     "exception": false,
     "start_time": "2024-03-30T13:47:17.126454",
     "status": "completed"
    },
    "tags": []
   },
   "outputs": [
    {
     "data": {
      "text/html": [
       "<div>\n",
       "<style scoped>\n",
       "    .dataframe tbody tr th:only-of-type {\n",
       "        vertical-align: middle;\n",
       "    }\n",
       "\n",
       "    .dataframe tbody tr th {\n",
       "        vertical-align: top;\n",
       "    }\n",
       "\n",
       "    .dataframe thead th {\n",
       "        text-align: right;\n",
       "    }\n",
       "</style>\n",
       "<table border=\"1\" class=\"dataframe\">\n",
       "  <thead>\n",
       "    <tr style=\"text-align: right;\">\n",
       "      <th></th>\n",
       "      <th>count</th>\n",
       "      <th>mean</th>\n",
       "      <th>min</th>\n",
       "      <th>25%</th>\n",
       "      <th>50%</th>\n",
       "      <th>75%</th>\n",
       "      <th>max</th>\n",
       "      <th>std</th>\n",
       "    </tr>\n",
       "  </thead>\n",
       "  <tbody>\n",
       "    <tr>\n",
       "      <th>date</th>\n",
       "      <td>1462</td>\n",
       "      <td>2015-01-01 12:00:00</td>\n",
       "      <td>2013-01-01 00:00:00</td>\n",
       "      <td>2014-01-01 06:00:00</td>\n",
       "      <td>2015-01-01 12:00:00</td>\n",
       "      <td>2016-01-01 18:00:00</td>\n",
       "      <td>2017-01-01 00:00:00</td>\n",
       "      <td>NaN</td>\n",
       "    </tr>\n",
       "    <tr>\n",
       "      <th>meantemp</th>\n",
       "      <td>1462.0</td>\n",
       "      <td>25.495521</td>\n",
       "      <td>6.0</td>\n",
       "      <td>18.857143</td>\n",
       "      <td>27.714286</td>\n",
       "      <td>31.305804</td>\n",
       "      <td>38.714286</td>\n",
       "      <td>7.348103</td>\n",
       "    </tr>\n",
       "    <tr>\n",
       "      <th>humidity</th>\n",
       "      <td>1462.0</td>\n",
       "      <td>60.771702</td>\n",
       "      <td>13.428571</td>\n",
       "      <td>50.375</td>\n",
       "      <td>62.625</td>\n",
       "      <td>72.21875</td>\n",
       "      <td>100.0</td>\n",
       "      <td>16.769652</td>\n",
       "    </tr>\n",
       "    <tr>\n",
       "      <th>wind_speed</th>\n",
       "      <td>1462.0</td>\n",
       "      <td>6.802209</td>\n",
       "      <td>0.0</td>\n",
       "      <td>3.475</td>\n",
       "      <td>6.221667</td>\n",
       "      <td>9.238235</td>\n",
       "      <td>42.22</td>\n",
       "      <td>4.561602</td>\n",
       "    </tr>\n",
       "    <tr>\n",
       "      <th>meanpressure</th>\n",
       "      <td>1462.0</td>\n",
       "      <td>1011.104548</td>\n",
       "      <td>-3.041667</td>\n",
       "      <td>1001.580357</td>\n",
       "      <td>1008.563492</td>\n",
       "      <td>1014.944901</td>\n",
       "      <td>7679.333333</td>\n",
       "      <td>180.231668</td>\n",
       "    </tr>\n",
       "  </tbody>\n",
       "</table>\n",
       "</div>"
      ],
      "text/plain": [
       "               count                 mean                  min  \\\n",
       "date            1462  2015-01-01 12:00:00  2013-01-01 00:00:00   \n",
       "meantemp      1462.0            25.495521                  6.0   \n",
       "humidity      1462.0            60.771702            13.428571   \n",
       "wind_speed    1462.0             6.802209                  0.0   \n",
       "meanpressure  1462.0          1011.104548            -3.041667   \n",
       "\n",
       "                              25%                  50%                  75%  \\\n",
       "date          2014-01-01 06:00:00  2015-01-01 12:00:00  2016-01-01 18:00:00   \n",
       "meantemp                18.857143            27.714286            31.305804   \n",
       "humidity                   50.375               62.625             72.21875   \n",
       "wind_speed                  3.475             6.221667             9.238235   \n",
       "meanpressure          1001.580357          1008.563492          1014.944901   \n",
       "\n",
       "                              max         std  \n",
       "date          2017-01-01 00:00:00         NaN  \n",
       "meantemp                38.714286    7.348103  \n",
       "humidity                    100.0   16.769652  \n",
       "wind_speed                  42.22    4.561602  \n",
       "meanpressure          7679.333333  180.231668  "
      ]
     },
     "execution_count": 7,
     "metadata": {},
     "output_type": "execute_result"
    }
   ],
   "source": [
    "df_train.describe().T #for training"
   ]
  },
  {
   "cell_type": "code",
   "execution_count": 8,
   "id": "d913a84b",
   "metadata": {
    "execution": {
     "iopub.execute_input": "2024-03-30T13:47:17.227243Z",
     "iopub.status.busy": "2024-03-30T13:47:17.226854Z",
     "iopub.status.idle": "2024-03-30T13:47:17.252837Z",
     "shell.execute_reply": "2024-03-30T13:47:17.251836Z"
    },
    "papermill": {
     "duration": 0.050451,
     "end_time": "2024-03-30T13:47:17.255418",
     "exception": false,
     "start_time": "2024-03-30T13:47:17.204967",
     "status": "completed"
    },
    "tags": []
   },
   "outputs": [
    {
     "data": {
      "text/html": [
       "<div>\n",
       "<style scoped>\n",
       "    .dataframe tbody tr th:only-of-type {\n",
       "        vertical-align: middle;\n",
       "    }\n",
       "\n",
       "    .dataframe tbody tr th {\n",
       "        vertical-align: top;\n",
       "    }\n",
       "\n",
       "    .dataframe thead th {\n",
       "        text-align: right;\n",
       "    }\n",
       "</style>\n",
       "<table border=\"1\" class=\"dataframe\">\n",
       "  <thead>\n",
       "    <tr style=\"text-align: right;\">\n",
       "      <th></th>\n",
       "      <th>count</th>\n",
       "      <th>mean</th>\n",
       "      <th>min</th>\n",
       "      <th>25%</th>\n",
       "      <th>50%</th>\n",
       "      <th>75%</th>\n",
       "      <th>max</th>\n",
       "      <th>std</th>\n",
       "    </tr>\n",
       "  </thead>\n",
       "  <tbody>\n",
       "    <tr>\n",
       "      <th>date</th>\n",
       "      <td>114</td>\n",
       "      <td>2017-02-26 12:00:00</td>\n",
       "      <td>2017-01-01 00:00:00</td>\n",
       "      <td>2017-01-29 06:00:00</td>\n",
       "      <td>2017-02-26 12:00:00</td>\n",
       "      <td>2017-03-26 18:00:00</td>\n",
       "      <td>2017-04-24 00:00:00</td>\n",
       "      <td>NaN</td>\n",
       "    </tr>\n",
       "    <tr>\n",
       "      <th>meantemp</th>\n",
       "      <td>114.0</td>\n",
       "      <td>21.713079</td>\n",
       "      <td>11.0</td>\n",
       "      <td>16.437198</td>\n",
       "      <td>19.875</td>\n",
       "      <td>27.705357</td>\n",
       "      <td>34.5</td>\n",
       "      <td>6.360072</td>\n",
       "    </tr>\n",
       "    <tr>\n",
       "      <th>humidity</th>\n",
       "      <td>114.0</td>\n",
       "      <td>56.258362</td>\n",
       "      <td>17.75</td>\n",
       "      <td>39.625</td>\n",
       "      <td>57.75</td>\n",
       "      <td>71.902778</td>\n",
       "      <td>95.833333</td>\n",
       "      <td>19.068083</td>\n",
       "    </tr>\n",
       "    <tr>\n",
       "      <th>wind_speed</th>\n",
       "      <td>114.0</td>\n",
       "      <td>8.143924</td>\n",
       "      <td>1.3875</td>\n",
       "      <td>5.563542</td>\n",
       "      <td>8.069444</td>\n",
       "      <td>10.06875</td>\n",
       "      <td>19.314286</td>\n",
       "      <td>3.588049</td>\n",
       "    </tr>\n",
       "    <tr>\n",
       "      <th>meanpressure</th>\n",
       "      <td>114.0</td>\n",
       "      <td>1004.03509</td>\n",
       "      <td>59.0</td>\n",
       "      <td>1007.4375</td>\n",
       "      <td>1012.739316</td>\n",
       "      <td>1016.739583</td>\n",
       "      <td>1022.809524</td>\n",
       "      <td>89.474692</td>\n",
       "    </tr>\n",
       "  </tbody>\n",
       "</table>\n",
       "</div>"
      ],
      "text/plain": [
       "              count                 mean                  min  \\\n",
       "date            114  2017-02-26 12:00:00  2017-01-01 00:00:00   \n",
       "meantemp      114.0            21.713079                 11.0   \n",
       "humidity      114.0            56.258362                17.75   \n",
       "wind_speed    114.0             8.143924               1.3875   \n",
       "meanpressure  114.0           1004.03509                 59.0   \n",
       "\n",
       "                              25%                  50%                  75%  \\\n",
       "date          2017-01-29 06:00:00  2017-02-26 12:00:00  2017-03-26 18:00:00   \n",
       "meantemp                16.437198               19.875            27.705357   \n",
       "humidity                   39.625                57.75            71.902778   \n",
       "wind_speed               5.563542             8.069444             10.06875   \n",
       "meanpressure            1007.4375          1012.739316          1016.739583   \n",
       "\n",
       "                              max        std  \n",
       "date          2017-04-24 00:00:00        NaN  \n",
       "meantemp                     34.5   6.360072  \n",
       "humidity                95.833333  19.068083  \n",
       "wind_speed              19.314286   3.588049  \n",
       "meanpressure          1022.809524  89.474692  "
      ]
     },
     "execution_count": 8,
     "metadata": {},
     "output_type": "execute_result"
    }
   ],
   "source": [
    "df_test.describe().T #for testing"
   ]
  },
  {
   "cell_type": "markdown",
   "id": "845cdd26",
   "metadata": {
    "papermill": {
     "duration": 0.020531,
     "end_time": "2024-03-30T13:47:17.297942",
     "exception": false,
     "start_time": "2024-03-30T13:47:17.277411",
     "status": "completed"
    },
    "tags": []
   },
   "source": [
    "### 🔗More Information"
   ]
  },
  {
   "cell_type": "code",
   "execution_count": 9,
   "id": "553ced61",
   "metadata": {
    "execution": {
     "iopub.execute_input": "2024-03-30T13:47:17.341328Z",
     "iopub.status.busy": "2024-03-30T13:47:17.340927Z",
     "iopub.status.idle": "2024-03-30T13:47:17.360474Z",
     "shell.execute_reply": "2024-03-30T13:47:17.358990Z"
    },
    "papermill": {
     "duration": 0.044186,
     "end_time": "2024-03-30T13:47:17.362846",
     "exception": false,
     "start_time": "2024-03-30T13:47:17.318660",
     "status": "completed"
    },
    "tags": []
   },
   "outputs": [
    {
     "name": "stdout",
     "output_type": "stream",
     "text": [
      "<class 'pandas.core.frame.DataFrame'>\n",
      "RangeIndex: 1462 entries, 0 to 1461\n",
      "Data columns (total 5 columns):\n",
      " #   Column        Non-Null Count  Dtype         \n",
      "---  ------        --------------  -----         \n",
      " 0   date          1462 non-null   datetime64[ns]\n",
      " 1   meantemp      1462 non-null   float64       \n",
      " 2   humidity      1462 non-null   float64       \n",
      " 3   wind_speed    1462 non-null   float64       \n",
      " 4   meanpressure  1462 non-null   float64       \n",
      "dtypes: datetime64[ns](1), float64(4)\n",
      "memory usage: 57.2 KB\n"
     ]
    }
   ],
   "source": [
    "df_train.info()"
   ]
  },
  {
   "cell_type": "code",
   "execution_count": 10,
   "id": "e300f7bd",
   "metadata": {
    "execution": {
     "iopub.execute_input": "2024-03-30T13:47:17.406520Z",
     "iopub.status.busy": "2024-03-30T13:47:17.405865Z",
     "iopub.status.idle": "2024-03-30T13:47:17.416421Z",
     "shell.execute_reply": "2024-03-30T13:47:17.415297Z"
    },
    "papermill": {
     "duration": 0.035235,
     "end_time": "2024-03-30T13:47:17.419250",
     "exception": false,
     "start_time": "2024-03-30T13:47:17.384015",
     "status": "completed"
    },
    "tags": []
   },
   "outputs": [
    {
     "name": "stdout",
     "output_type": "stream",
     "text": [
      "<class 'pandas.core.frame.DataFrame'>\n",
      "RangeIndex: 114 entries, 0 to 113\n",
      "Data columns (total 5 columns):\n",
      " #   Column        Non-Null Count  Dtype         \n",
      "---  ------        --------------  -----         \n",
      " 0   date          114 non-null    datetime64[ns]\n",
      " 1   meantemp      114 non-null    float64       \n",
      " 2   humidity      114 non-null    float64       \n",
      " 3   wind_speed    114 non-null    float64       \n",
      " 4   meanpressure  114 non-null    float64       \n",
      "dtypes: datetime64[ns](1), float64(4)\n",
      "memory usage: 4.6 KB\n"
     ]
    }
   ],
   "source": [
    "df_test.info() "
   ]
  },
  {
   "cell_type": "markdown",
   "id": "f7371c7f",
   "metadata": {
    "papermill": {
     "duration": 0.020318,
     "end_time": "2024-03-30T13:47:17.460485",
     "exception": false,
     "start_time": "2024-03-30T13:47:17.440167",
     "status": "completed"
    },
    "tags": []
   },
   "source": [
    "📝 Data Training shape is (1462,5)<br>\n",
    "📝 Data Testing shape is (114,5)<br>\n",
    "📝 Data Training,Testing have no Null Values<br>\n",
    "📝 Type of date col is datetime64 ,others are float"
   ]
  },
  {
   "cell_type": "markdown",
   "id": "90d3f957",
   "metadata": {
    "papermill": {
     "duration": 0.020133,
     "end_time": "2024-03-30T13:47:17.501427",
     "exception": false,
     "start_time": "2024-03-30T13:47:17.481294",
     "status": "completed"
    },
    "tags": []
   },
   "source": [
    "### 🔗Setting date col as an index"
   ]
  },
  {
   "cell_type": "code",
   "execution_count": 11,
   "id": "80121ac1",
   "metadata": {
    "execution": {
     "iopub.execute_input": "2024-03-30T13:47:17.598584Z",
     "iopub.status.busy": "2024-03-30T13:47:17.598171Z",
     "iopub.status.idle": "2024-03-30T13:47:17.602961Z",
     "shell.execute_reply": "2024-03-30T13:47:17.601859Z"
    },
    "papermill": {
     "duration": 0.029632,
     "end_time": "2024-03-30T13:47:17.605309",
     "exception": false,
     "start_time": "2024-03-30T13:47:17.575677",
     "status": "completed"
    },
    "tags": []
   },
   "outputs": [],
   "source": [
    "date_train=df_train['date']\n",
    "date_test=df_test['date']"
   ]
  },
  {
   "cell_type": "code",
   "execution_count": 12,
   "id": "6a577742",
   "metadata": {
    "execution": {
     "iopub.execute_input": "2024-03-30T13:47:17.649632Z",
     "iopub.status.busy": "2024-03-30T13:47:17.649272Z",
     "iopub.status.idle": "2024-03-30T13:47:17.655525Z",
     "shell.execute_reply": "2024-03-30T13:47:17.654764Z"
    },
    "papermill": {
     "duration": 0.030763,
     "end_time": "2024-03-30T13:47:17.657624",
     "exception": false,
     "start_time": "2024-03-30T13:47:17.626861",
     "status": "completed"
    },
    "tags": []
   },
   "outputs": [],
   "source": [
    "df_train = df_train.set_index('date')\n",
    "df_test=df_test.set_index('date')"
   ]
  },
  {
   "cell_type": "code",
   "execution_count": 13,
   "id": "11ee59a2",
   "metadata": {
    "execution": {
     "iopub.execute_input": "2024-03-30T13:47:17.703456Z",
     "iopub.status.busy": "2024-03-30T13:47:17.702799Z",
     "iopub.status.idle": "2024-03-30T13:47:17.716549Z",
     "shell.execute_reply": "2024-03-30T13:47:17.715451Z"
    },
    "papermill": {
     "duration": 0.039163,
     "end_time": "2024-03-30T13:47:17.718998",
     "exception": false,
     "start_time": "2024-03-30T13:47:17.679835",
     "status": "completed"
    },
    "tags": []
   },
   "outputs": [
    {
     "data": {
      "text/html": [
       "<div>\n",
       "<style scoped>\n",
       "    .dataframe tbody tr th:only-of-type {\n",
       "        vertical-align: middle;\n",
       "    }\n",
       "\n",
       "    .dataframe tbody tr th {\n",
       "        vertical-align: top;\n",
       "    }\n",
       "\n",
       "    .dataframe thead th {\n",
       "        text-align: right;\n",
       "    }\n",
       "</style>\n",
       "<table border=\"1\" class=\"dataframe\">\n",
       "  <thead>\n",
       "    <tr style=\"text-align: right;\">\n",
       "      <th></th>\n",
       "      <th>meantemp</th>\n",
       "      <th>humidity</th>\n",
       "      <th>wind_speed</th>\n",
       "      <th>meanpressure</th>\n",
       "    </tr>\n",
       "    <tr>\n",
       "      <th>date</th>\n",
       "      <th></th>\n",
       "      <th></th>\n",
       "      <th></th>\n",
       "      <th></th>\n",
       "    </tr>\n",
       "  </thead>\n",
       "  <tbody>\n",
       "    <tr>\n",
       "      <th>2014-07-10</th>\n",
       "      <td>36.125</td>\n",
       "      <td>38.75</td>\n",
       "      <td>11.3375</td>\n",
       "      <td>996.875</td>\n",
       "    </tr>\n",
       "  </tbody>\n",
       "</table>\n",
       "</div>"
      ],
      "text/plain": [
       "            meantemp  humidity  wind_speed  meanpressure\n",
       "date                                                    \n",
       "2014-07-10    36.125     38.75     11.3375       996.875"
      ]
     },
     "execution_count": 13,
     "metadata": {},
     "output_type": "execute_result"
    }
   ],
   "source": [
    "df_train.sample() # to ensure that col became an index"
   ]
  },
  {
   "cell_type": "code",
   "execution_count": 14,
   "id": "8d2ff84a",
   "metadata": {
    "execution": {
     "iopub.execute_input": "2024-03-30T13:47:17.764472Z",
     "iopub.status.busy": "2024-03-30T13:47:17.763786Z",
     "iopub.status.idle": "2024-03-30T13:47:17.775642Z",
     "shell.execute_reply": "2024-03-30T13:47:17.774525Z"
    },
    "papermill": {
     "duration": 0.037401,
     "end_time": "2024-03-30T13:47:17.777865",
     "exception": false,
     "start_time": "2024-03-30T13:47:17.740464",
     "status": "completed"
    },
    "tags": []
   },
   "outputs": [
    {
     "data": {
      "text/html": [
       "<div>\n",
       "<style scoped>\n",
       "    .dataframe tbody tr th:only-of-type {\n",
       "        vertical-align: middle;\n",
       "    }\n",
       "\n",
       "    .dataframe tbody tr th {\n",
       "        vertical-align: top;\n",
       "    }\n",
       "\n",
       "    .dataframe thead th {\n",
       "        text-align: right;\n",
       "    }\n",
       "</style>\n",
       "<table border=\"1\" class=\"dataframe\">\n",
       "  <thead>\n",
       "    <tr style=\"text-align: right;\">\n",
       "      <th></th>\n",
       "      <th>meantemp</th>\n",
       "      <th>humidity</th>\n",
       "      <th>wind_speed</th>\n",
       "      <th>meanpressure</th>\n",
       "    </tr>\n",
       "    <tr>\n",
       "      <th>date</th>\n",
       "      <th></th>\n",
       "      <th></th>\n",
       "      <th></th>\n",
       "      <th></th>\n",
       "    </tr>\n",
       "  </thead>\n",
       "  <tbody>\n",
       "    <tr>\n",
       "      <th>2017-04-02</th>\n",
       "      <td>29.75</td>\n",
       "      <td>33.75</td>\n",
       "      <td>9.2625</td>\n",
       "      <td>1004.25</td>\n",
       "    </tr>\n",
       "  </tbody>\n",
       "</table>\n",
       "</div>"
      ],
      "text/plain": [
       "            meantemp  humidity  wind_speed  meanpressure\n",
       "date                                                    \n",
       "2017-04-02     29.75     33.75      9.2625       1004.25"
      ]
     },
     "execution_count": 14,
     "metadata": {},
     "output_type": "execute_result"
    }
   ],
   "source": [
    "df_test.sample() # to ensure that col became an index"
   ]
  },
  {
   "cell_type": "markdown",
   "id": "6754d917",
   "metadata": {
    "papermill": {
     "duration": 0.021526,
     "end_time": "2024-03-30T13:47:17.822912",
     "exception": false,
     "start_time": "2024-03-30T13:47:17.801386",
     "status": "completed"
    },
    "tags": []
   },
   "source": [
    "### 🔗Getting Year ,Month ,Day_name from the date"
   ]
  },
  {
   "cell_type": "code",
   "execution_count": 15,
   "id": "c93b663b",
   "metadata": {
    "execution": {
     "iopub.execute_input": "2024-03-30T13:47:17.868624Z",
     "iopub.status.busy": "2024-03-30T13:47:17.867786Z",
     "iopub.status.idle": "2024-03-30T13:47:17.901139Z",
     "shell.execute_reply": "2024-03-30T13:47:17.899992Z"
    },
    "papermill": {
     "duration": 0.059143,
     "end_time": "2024-03-30T13:47:17.903812",
     "exception": false,
     "start_time": "2024-03-30T13:47:17.844669",
     "status": "completed"
    },
    "tags": []
   },
   "outputs": [
    {
     "data": {
      "text/html": [
       "<div>\n",
       "<style scoped>\n",
       "    .dataframe tbody tr th:only-of-type {\n",
       "        vertical-align: middle;\n",
       "    }\n",
       "\n",
       "    .dataframe tbody tr th {\n",
       "        vertical-align: top;\n",
       "    }\n",
       "\n",
       "    .dataframe thead th {\n",
       "        text-align: right;\n",
       "    }\n",
       "</style>\n",
       "<table border=\"1\" class=\"dataframe\">\n",
       "  <thead>\n",
       "    <tr style=\"text-align: right;\">\n",
       "      <th></th>\n",
       "      <th>meantemp</th>\n",
       "      <th>humidity</th>\n",
       "      <th>wind_speed</th>\n",
       "      <th>meanpressure</th>\n",
       "      <th>year</th>\n",
       "      <th>month</th>\n",
       "      <th>day_name</th>\n",
       "    </tr>\n",
       "    <tr>\n",
       "      <th>date</th>\n",
       "      <th></th>\n",
       "      <th></th>\n",
       "      <th></th>\n",
       "      <th></th>\n",
       "      <th></th>\n",
       "      <th></th>\n",
       "      <th></th>\n",
       "    </tr>\n",
       "  </thead>\n",
       "  <tbody>\n",
       "    <tr>\n",
       "      <th>2013-01-01</th>\n",
       "      <td>10.000000</td>\n",
       "      <td>84.500000</td>\n",
       "      <td>0.000000</td>\n",
       "      <td>1015.666667</td>\n",
       "      <td>2013</td>\n",
       "      <td>1</td>\n",
       "      <td>Tuesday</td>\n",
       "    </tr>\n",
       "    <tr>\n",
       "      <th>2013-01-02</th>\n",
       "      <td>7.400000</td>\n",
       "      <td>92.000000</td>\n",
       "      <td>2.980000</td>\n",
       "      <td>1017.800000</td>\n",
       "      <td>2013</td>\n",
       "      <td>1</td>\n",
       "      <td>Wednesday</td>\n",
       "    </tr>\n",
       "    <tr>\n",
       "      <th>2013-01-03</th>\n",
       "      <td>7.166667</td>\n",
       "      <td>87.000000</td>\n",
       "      <td>4.633333</td>\n",
       "      <td>1018.666667</td>\n",
       "      <td>2013</td>\n",
       "      <td>1</td>\n",
       "      <td>Thursday</td>\n",
       "    </tr>\n",
       "    <tr>\n",
       "      <th>2013-01-04</th>\n",
       "      <td>8.666667</td>\n",
       "      <td>71.333333</td>\n",
       "      <td>1.233333</td>\n",
       "      <td>1017.166667</td>\n",
       "      <td>2013</td>\n",
       "      <td>1</td>\n",
       "      <td>Friday</td>\n",
       "    </tr>\n",
       "    <tr>\n",
       "      <th>2013-01-05</th>\n",
       "      <td>6.000000</td>\n",
       "      <td>86.833333</td>\n",
       "      <td>3.700000</td>\n",
       "      <td>1016.500000</td>\n",
       "      <td>2013</td>\n",
       "      <td>1</td>\n",
       "      <td>Saturday</td>\n",
       "    </tr>\n",
       "    <tr>\n",
       "      <th>...</th>\n",
       "      <td>...</td>\n",
       "      <td>...</td>\n",
       "      <td>...</td>\n",
       "      <td>...</td>\n",
       "      <td>...</td>\n",
       "      <td>...</td>\n",
       "      <td>...</td>\n",
       "    </tr>\n",
       "    <tr>\n",
       "      <th>2016-12-28</th>\n",
       "      <td>17.217391</td>\n",
       "      <td>68.043478</td>\n",
       "      <td>3.547826</td>\n",
       "      <td>1015.565217</td>\n",
       "      <td>2016</td>\n",
       "      <td>12</td>\n",
       "      <td>Wednesday</td>\n",
       "    </tr>\n",
       "    <tr>\n",
       "      <th>2016-12-29</th>\n",
       "      <td>15.238095</td>\n",
       "      <td>87.857143</td>\n",
       "      <td>6.000000</td>\n",
       "      <td>1016.904762</td>\n",
       "      <td>2016</td>\n",
       "      <td>12</td>\n",
       "      <td>Thursday</td>\n",
       "    </tr>\n",
       "    <tr>\n",
       "      <th>2016-12-30</th>\n",
       "      <td>14.095238</td>\n",
       "      <td>89.666667</td>\n",
       "      <td>6.266667</td>\n",
       "      <td>1017.904762</td>\n",
       "      <td>2016</td>\n",
       "      <td>12</td>\n",
       "      <td>Friday</td>\n",
       "    </tr>\n",
       "    <tr>\n",
       "      <th>2016-12-31</th>\n",
       "      <td>15.052632</td>\n",
       "      <td>87.000000</td>\n",
       "      <td>7.325000</td>\n",
       "      <td>1016.100000</td>\n",
       "      <td>2016</td>\n",
       "      <td>12</td>\n",
       "      <td>Saturday</td>\n",
       "    </tr>\n",
       "    <tr>\n",
       "      <th>2017-01-01</th>\n",
       "      <td>10.000000</td>\n",
       "      <td>100.000000</td>\n",
       "      <td>0.000000</td>\n",
       "      <td>1016.000000</td>\n",
       "      <td>2017</td>\n",
       "      <td>1</td>\n",
       "      <td>Sunday</td>\n",
       "    </tr>\n",
       "  </tbody>\n",
       "</table>\n",
       "<p>1462 rows × 7 columns</p>\n",
       "</div>"
      ],
      "text/plain": [
       "             meantemp    humidity  wind_speed  meanpressure  year  month  \\\n",
       "date                                                                       \n",
       "2013-01-01  10.000000   84.500000    0.000000   1015.666667  2013      1   \n",
       "2013-01-02   7.400000   92.000000    2.980000   1017.800000  2013      1   \n",
       "2013-01-03   7.166667   87.000000    4.633333   1018.666667  2013      1   \n",
       "2013-01-04   8.666667   71.333333    1.233333   1017.166667  2013      1   \n",
       "2013-01-05   6.000000   86.833333    3.700000   1016.500000  2013      1   \n",
       "...               ...         ...         ...           ...   ...    ...   \n",
       "2016-12-28  17.217391   68.043478    3.547826   1015.565217  2016     12   \n",
       "2016-12-29  15.238095   87.857143    6.000000   1016.904762  2016     12   \n",
       "2016-12-30  14.095238   89.666667    6.266667   1017.904762  2016     12   \n",
       "2016-12-31  15.052632   87.000000    7.325000   1016.100000  2016     12   \n",
       "2017-01-01  10.000000  100.000000    0.000000   1016.000000  2017      1   \n",
       "\n",
       "             day_name  \n",
       "date                   \n",
       "2013-01-01    Tuesday  \n",
       "2013-01-02  Wednesday  \n",
       "2013-01-03   Thursday  \n",
       "2013-01-04     Friday  \n",
       "2013-01-05   Saturday  \n",
       "...               ...  \n",
       "2016-12-28  Wednesday  \n",
       "2016-12-29   Thursday  \n",
       "2016-12-30     Friday  \n",
       "2016-12-31   Saturday  \n",
       "2017-01-01     Sunday  \n",
       "\n",
       "[1462 rows x 7 columns]"
      ]
     },
     "execution_count": 15,
     "metadata": {},
     "output_type": "execute_result"
    }
   ],
   "source": [
    "df_train['year'] = df_train.index.year\n",
    "df_train['month'] = df_train.index.month\n",
    "df_train['day_name'] = df_train.index.strftime('%A')\n",
    "df_train"
   ]
  },
  {
   "cell_type": "code",
   "execution_count": 16,
   "id": "63f16403",
   "metadata": {
    "execution": {
     "iopub.execute_input": "2024-03-30T13:47:17.950660Z",
     "iopub.status.busy": "2024-03-30T13:47:17.950239Z",
     "iopub.status.idle": "2024-03-30T13:47:17.969318Z",
     "shell.execute_reply": "2024-03-30T13:47:17.968532Z"
    },
    "papermill": {
     "duration": 0.045342,
     "end_time": "2024-03-30T13:47:17.971494",
     "exception": false,
     "start_time": "2024-03-30T13:47:17.926152",
     "status": "completed"
    },
    "tags": []
   },
   "outputs": [
    {
     "data": {
      "text/html": [
       "<div>\n",
       "<style scoped>\n",
       "    .dataframe tbody tr th:only-of-type {\n",
       "        vertical-align: middle;\n",
       "    }\n",
       "\n",
       "    .dataframe tbody tr th {\n",
       "        vertical-align: top;\n",
       "    }\n",
       "\n",
       "    .dataframe thead th {\n",
       "        text-align: right;\n",
       "    }\n",
       "</style>\n",
       "<table border=\"1\" class=\"dataframe\">\n",
       "  <thead>\n",
       "    <tr style=\"text-align: right;\">\n",
       "      <th></th>\n",
       "      <th>meantemp</th>\n",
       "      <th>humidity</th>\n",
       "      <th>wind_speed</th>\n",
       "      <th>meanpressure</th>\n",
       "      <th>year</th>\n",
       "      <th>month</th>\n",
       "      <th>day_name</th>\n",
       "    </tr>\n",
       "    <tr>\n",
       "      <th>date</th>\n",
       "      <th></th>\n",
       "      <th></th>\n",
       "      <th></th>\n",
       "      <th></th>\n",
       "      <th></th>\n",
       "      <th></th>\n",
       "      <th></th>\n",
       "    </tr>\n",
       "  </thead>\n",
       "  <tbody>\n",
       "    <tr>\n",
       "      <th>2017-01-01</th>\n",
       "      <td>15.913043</td>\n",
       "      <td>85.869565</td>\n",
       "      <td>2.743478</td>\n",
       "      <td>59.000000</td>\n",
       "      <td>2017</td>\n",
       "      <td>1</td>\n",
       "      <td>Sunday</td>\n",
       "    </tr>\n",
       "    <tr>\n",
       "      <th>2017-01-02</th>\n",
       "      <td>18.500000</td>\n",
       "      <td>77.222222</td>\n",
       "      <td>2.894444</td>\n",
       "      <td>1018.277778</td>\n",
       "      <td>2017</td>\n",
       "      <td>1</td>\n",
       "      <td>Monday</td>\n",
       "    </tr>\n",
       "    <tr>\n",
       "      <th>2017-01-03</th>\n",
       "      <td>17.111111</td>\n",
       "      <td>81.888889</td>\n",
       "      <td>4.016667</td>\n",
       "      <td>1018.333333</td>\n",
       "      <td>2017</td>\n",
       "      <td>1</td>\n",
       "      <td>Tuesday</td>\n",
       "    </tr>\n",
       "    <tr>\n",
       "      <th>2017-01-04</th>\n",
       "      <td>18.700000</td>\n",
       "      <td>70.050000</td>\n",
       "      <td>4.545000</td>\n",
       "      <td>1015.700000</td>\n",
       "      <td>2017</td>\n",
       "      <td>1</td>\n",
       "      <td>Wednesday</td>\n",
       "    </tr>\n",
       "    <tr>\n",
       "      <th>2017-01-05</th>\n",
       "      <td>18.388889</td>\n",
       "      <td>74.944444</td>\n",
       "      <td>3.300000</td>\n",
       "      <td>1014.333333</td>\n",
       "      <td>2017</td>\n",
       "      <td>1</td>\n",
       "      <td>Thursday</td>\n",
       "    </tr>\n",
       "    <tr>\n",
       "      <th>...</th>\n",
       "      <td>...</td>\n",
       "      <td>...</td>\n",
       "      <td>...</td>\n",
       "      <td>...</td>\n",
       "      <td>...</td>\n",
       "      <td>...</td>\n",
       "      <td>...</td>\n",
       "    </tr>\n",
       "    <tr>\n",
       "      <th>2017-04-20</th>\n",
       "      <td>34.500000</td>\n",
       "      <td>27.500000</td>\n",
       "      <td>5.562500</td>\n",
       "      <td>998.625000</td>\n",
       "      <td>2017</td>\n",
       "      <td>4</td>\n",
       "      <td>Thursday</td>\n",
       "    </tr>\n",
       "    <tr>\n",
       "      <th>2017-04-21</th>\n",
       "      <td>34.250000</td>\n",
       "      <td>39.375000</td>\n",
       "      <td>6.962500</td>\n",
       "      <td>999.875000</td>\n",
       "      <td>2017</td>\n",
       "      <td>4</td>\n",
       "      <td>Friday</td>\n",
       "    </tr>\n",
       "    <tr>\n",
       "      <th>2017-04-22</th>\n",
       "      <td>32.900000</td>\n",
       "      <td>40.900000</td>\n",
       "      <td>8.890000</td>\n",
       "      <td>1001.600000</td>\n",
       "      <td>2017</td>\n",
       "      <td>4</td>\n",
       "      <td>Saturday</td>\n",
       "    </tr>\n",
       "    <tr>\n",
       "      <th>2017-04-23</th>\n",
       "      <td>32.875000</td>\n",
       "      <td>27.500000</td>\n",
       "      <td>9.962500</td>\n",
       "      <td>1002.125000</td>\n",
       "      <td>2017</td>\n",
       "      <td>4</td>\n",
       "      <td>Sunday</td>\n",
       "    </tr>\n",
       "    <tr>\n",
       "      <th>2017-04-24</th>\n",
       "      <td>32.000000</td>\n",
       "      <td>27.142857</td>\n",
       "      <td>12.157143</td>\n",
       "      <td>1004.142857</td>\n",
       "      <td>2017</td>\n",
       "      <td>4</td>\n",
       "      <td>Monday</td>\n",
       "    </tr>\n",
       "  </tbody>\n",
       "</table>\n",
       "<p>114 rows × 7 columns</p>\n",
       "</div>"
      ],
      "text/plain": [
       "             meantemp   humidity  wind_speed  meanpressure  year  month  \\\n",
       "date                                                                      \n",
       "2017-01-01  15.913043  85.869565    2.743478     59.000000  2017      1   \n",
       "2017-01-02  18.500000  77.222222    2.894444   1018.277778  2017      1   \n",
       "2017-01-03  17.111111  81.888889    4.016667   1018.333333  2017      1   \n",
       "2017-01-04  18.700000  70.050000    4.545000   1015.700000  2017      1   \n",
       "2017-01-05  18.388889  74.944444    3.300000   1014.333333  2017      1   \n",
       "...               ...        ...         ...           ...   ...    ...   \n",
       "2017-04-20  34.500000  27.500000    5.562500    998.625000  2017      4   \n",
       "2017-04-21  34.250000  39.375000    6.962500    999.875000  2017      4   \n",
       "2017-04-22  32.900000  40.900000    8.890000   1001.600000  2017      4   \n",
       "2017-04-23  32.875000  27.500000    9.962500   1002.125000  2017      4   \n",
       "2017-04-24  32.000000  27.142857   12.157143   1004.142857  2017      4   \n",
       "\n",
       "             day_name  \n",
       "date                   \n",
       "2017-01-01     Sunday  \n",
       "2017-01-02     Monday  \n",
       "2017-01-03    Tuesday  \n",
       "2017-01-04  Wednesday  \n",
       "2017-01-05   Thursday  \n",
       "...               ...  \n",
       "2017-04-20   Thursday  \n",
       "2017-04-21     Friday  \n",
       "2017-04-22   Saturday  \n",
       "2017-04-23     Sunday  \n",
       "2017-04-24     Monday  \n",
       "\n",
       "[114 rows x 7 columns]"
      ]
     },
     "execution_count": 16,
     "metadata": {},
     "output_type": "execute_result"
    }
   ],
   "source": [
    "df_test['year'] = df_test.index.year\n",
    "df_test['month'] = df_test.index.month\n",
    "df_test['day_name'] = df_test.index.strftime('%A')\n",
    "df_test"
   ]
  },
  {
   "cell_type": "markdown",
   "id": "4961a3c4",
   "metadata": {
    "execution": {
     "iopub.execute_input": "2024-03-29T23:14:18.444593Z",
     "iopub.status.busy": "2024-03-29T23:14:18.444134Z",
     "iopub.status.idle": "2024-03-29T23:14:18.450151Z",
     "shell.execute_reply": "2024-03-29T23:14:18.449004Z",
     "shell.execute_reply.started": "2024-03-29T23:14:18.444560Z"
    },
    "papermill": {
     "duration": 0.021815,
     "end_time": "2024-03-30T13:47:18.015538",
     "exception": false,
     "start_time": "2024-03-30T13:47:17.993723",
     "status": "completed"
    },
    "tags": []
   },
   "source": [
    "### 🔗Getting all data for a specific year"
   ]
  },
  {
   "cell_type": "code",
   "execution_count": 17,
   "id": "9ed372bc",
   "metadata": {
    "execution": {
     "iopub.execute_input": "2024-03-30T13:47:18.061183Z",
     "iopub.status.busy": "2024-03-30T13:47:18.060770Z",
     "iopub.status.idle": "2024-03-30T13:47:18.084879Z",
     "shell.execute_reply": "2024-03-30T13:47:18.083862Z"
    },
    "papermill": {
     "duration": 0.049535,
     "end_time": "2024-03-30T13:47:18.086962",
     "exception": false,
     "start_time": "2024-03-30T13:47:18.037427",
     "status": "completed"
    },
    "tags": []
   },
   "outputs": [
    {
     "data": {
      "text/html": [
       "<div>\n",
       "<style scoped>\n",
       "    .dataframe tbody tr th:only-of-type {\n",
       "        vertical-align: middle;\n",
       "    }\n",
       "\n",
       "    .dataframe tbody tr th {\n",
       "        vertical-align: top;\n",
       "    }\n",
       "\n",
       "    .dataframe thead th {\n",
       "        text-align: right;\n",
       "    }\n",
       "</style>\n",
       "<table border=\"1\" class=\"dataframe\">\n",
       "  <thead>\n",
       "    <tr style=\"text-align: right;\">\n",
       "      <th></th>\n",
       "      <th>meantemp</th>\n",
       "      <th>humidity</th>\n",
       "      <th>wind_speed</th>\n",
       "      <th>meanpressure</th>\n",
       "      <th>year</th>\n",
       "      <th>month</th>\n",
       "      <th>day_name</th>\n",
       "    </tr>\n",
       "    <tr>\n",
       "      <th>date</th>\n",
       "      <th></th>\n",
       "      <th></th>\n",
       "      <th></th>\n",
       "      <th></th>\n",
       "      <th></th>\n",
       "      <th></th>\n",
       "      <th></th>\n",
       "    </tr>\n",
       "  </thead>\n",
       "  <tbody>\n",
       "    <tr>\n",
       "      <th>2015-01-01</th>\n",
       "      <td>14.750</td>\n",
       "      <td>72.000</td>\n",
       "      <td>0.9250</td>\n",
       "      <td>1017.500</td>\n",
       "      <td>2015</td>\n",
       "      <td>1</td>\n",
       "      <td>Thursday</td>\n",
       "    </tr>\n",
       "    <tr>\n",
       "      <th>2015-01-02</th>\n",
       "      <td>14.875</td>\n",
       "      <td>96.625</td>\n",
       "      <td>3.0125</td>\n",
       "      <td>1017.875</td>\n",
       "      <td>2015</td>\n",
       "      <td>1</td>\n",
       "      <td>Friday</td>\n",
       "    </tr>\n",
       "    <tr>\n",
       "      <th>2015-01-03</th>\n",
       "      <td>15.125</td>\n",
       "      <td>92.000</td>\n",
       "      <td>0.9250</td>\n",
       "      <td>1017.375</td>\n",
       "      <td>2015</td>\n",
       "      <td>1</td>\n",
       "      <td>Saturday</td>\n",
       "    </tr>\n",
       "    <tr>\n",
       "      <th>2015-01-04</th>\n",
       "      <td>14.125</td>\n",
       "      <td>78.750</td>\n",
       "      <td>9.5125</td>\n",
       "      <td>1019.625</td>\n",
       "      <td>2015</td>\n",
       "      <td>1</td>\n",
       "      <td>Sunday</td>\n",
       "    </tr>\n",
       "    <tr>\n",
       "      <th>2015-01-05</th>\n",
       "      <td>14.000</td>\n",
       "      <td>69.375</td>\n",
       "      <td>15.0500</td>\n",
       "      <td>1016.000</td>\n",
       "      <td>2015</td>\n",
       "      <td>1</td>\n",
       "      <td>Monday</td>\n",
       "    </tr>\n",
       "    <tr>\n",
       "      <th>...</th>\n",
       "      <td>...</td>\n",
       "      <td>...</td>\n",
       "      <td>...</td>\n",
       "      <td>...</td>\n",
       "      <td>...</td>\n",
       "      <td>...</td>\n",
       "      <td>...</td>\n",
       "    </tr>\n",
       "    <tr>\n",
       "      <th>2015-12-27</th>\n",
       "      <td>15.375</td>\n",
       "      <td>63.250</td>\n",
       "      <td>7.8875</td>\n",
       "      <td>1020.625</td>\n",
       "      <td>2015</td>\n",
       "      <td>12</td>\n",
       "      <td>Sunday</td>\n",
       "    </tr>\n",
       "    <tr>\n",
       "      <th>2015-12-28</th>\n",
       "      <td>17.125</td>\n",
       "      <td>58.125</td>\n",
       "      <td>10.8875</td>\n",
       "      <td>1020.875</td>\n",
       "      <td>2015</td>\n",
       "      <td>12</td>\n",
       "      <td>Monday</td>\n",
       "    </tr>\n",
       "    <tr>\n",
       "      <th>2015-12-29</th>\n",
       "      <td>16.375</td>\n",
       "      <td>65.000</td>\n",
       "      <td>7.4125</td>\n",
       "      <td>1018.125</td>\n",
       "      <td>2015</td>\n",
       "      <td>12</td>\n",
       "      <td>Tuesday</td>\n",
       "    </tr>\n",
       "    <tr>\n",
       "      <th>2015-12-30</th>\n",
       "      <td>15.500</td>\n",
       "      <td>71.750</td>\n",
       "      <td>2.1000</td>\n",
       "      <td>1017.500</td>\n",
       "      <td>2015</td>\n",
       "      <td>12</td>\n",
       "      <td>Wednesday</td>\n",
       "    </tr>\n",
       "    <tr>\n",
       "      <th>2015-12-31</th>\n",
       "      <td>15.000</td>\n",
       "      <td>71.375</td>\n",
       "      <td>2.0875</td>\n",
       "      <td>1020.500</td>\n",
       "      <td>2015</td>\n",
       "      <td>12</td>\n",
       "      <td>Thursday</td>\n",
       "    </tr>\n",
       "  </tbody>\n",
       "</table>\n",
       "<p>365 rows × 7 columns</p>\n",
       "</div>"
      ],
      "text/plain": [
       "            meantemp  humidity  wind_speed  meanpressure  year  month  \\\n",
       "date                                                                    \n",
       "2015-01-01    14.750    72.000      0.9250      1017.500  2015      1   \n",
       "2015-01-02    14.875    96.625      3.0125      1017.875  2015      1   \n",
       "2015-01-03    15.125    92.000      0.9250      1017.375  2015      1   \n",
       "2015-01-04    14.125    78.750      9.5125      1019.625  2015      1   \n",
       "2015-01-05    14.000    69.375     15.0500      1016.000  2015      1   \n",
       "...              ...       ...         ...           ...   ...    ...   \n",
       "2015-12-27    15.375    63.250      7.8875      1020.625  2015     12   \n",
       "2015-12-28    17.125    58.125     10.8875      1020.875  2015     12   \n",
       "2015-12-29    16.375    65.000      7.4125      1018.125  2015     12   \n",
       "2015-12-30    15.500    71.750      2.1000      1017.500  2015     12   \n",
       "2015-12-31    15.000    71.375      2.0875      1020.500  2015     12   \n",
       "\n",
       "             day_name  \n",
       "date                   \n",
       "2015-01-01   Thursday  \n",
       "2015-01-02     Friday  \n",
       "2015-01-03   Saturday  \n",
       "2015-01-04     Sunday  \n",
       "2015-01-05     Monday  \n",
       "...               ...  \n",
       "2015-12-27     Sunday  \n",
       "2015-12-28     Monday  \n",
       "2015-12-29    Tuesday  \n",
       "2015-12-30  Wednesday  \n",
       "2015-12-31   Thursday  \n",
       "\n",
       "[365 rows x 7 columns]"
      ]
     },
     "execution_count": 17,
     "metadata": {},
     "output_type": "execute_result"
    }
   ],
   "source": [
    "#say 2015\n",
    "df_train.loc['2015']"
   ]
  },
  {
   "cell_type": "markdown",
   "id": "e938d918",
   "metadata": {
    "papermill": {
     "duration": 0.022185,
     "end_time": "2024-03-30T13:47:18.131570",
     "exception": false,
     "start_time": "2024-03-30T13:47:18.109385",
     "status": "completed"
    },
    "tags": []
   },
   "source": [
    "### 🔗Getting data for a Specific Period"
   ]
  },
  {
   "cell_type": "code",
   "execution_count": 18,
   "id": "efb8d709",
   "metadata": {
    "execution": {
     "iopub.execute_input": "2024-03-30T13:47:18.177892Z",
     "iopub.status.busy": "2024-03-30T13:47:18.177526Z",
     "iopub.status.idle": "2024-03-30T13:47:18.199689Z",
     "shell.execute_reply": "2024-03-30T13:47:18.198430Z"
    },
    "papermill": {
     "duration": 0.048185,
     "end_time": "2024-03-30T13:47:18.201948",
     "exception": false,
     "start_time": "2024-03-30T13:47:18.153763",
     "status": "completed"
    },
    "tags": []
   },
   "outputs": [
    {
     "data": {
      "text/html": [
       "<div>\n",
       "<style scoped>\n",
       "    .dataframe tbody tr th:only-of-type {\n",
       "        vertical-align: middle;\n",
       "    }\n",
       "\n",
       "    .dataframe tbody tr th {\n",
       "        vertical-align: top;\n",
       "    }\n",
       "\n",
       "    .dataframe thead th {\n",
       "        text-align: right;\n",
       "    }\n",
       "</style>\n",
       "<table border=\"1\" class=\"dataframe\">\n",
       "  <thead>\n",
       "    <tr style=\"text-align: right;\">\n",
       "      <th></th>\n",
       "      <th>meantemp</th>\n",
       "      <th>humidity</th>\n",
       "      <th>wind_speed</th>\n",
       "      <th>meanpressure</th>\n",
       "      <th>year</th>\n",
       "      <th>month</th>\n",
       "      <th>day_name</th>\n",
       "    </tr>\n",
       "    <tr>\n",
       "      <th>date</th>\n",
       "      <th></th>\n",
       "      <th></th>\n",
       "      <th></th>\n",
       "      <th></th>\n",
       "      <th></th>\n",
       "      <th></th>\n",
       "      <th></th>\n",
       "    </tr>\n",
       "  </thead>\n",
       "  <tbody>\n",
       "    <tr>\n",
       "      <th>2014-01-01</th>\n",
       "      <td>13.375000</td>\n",
       "      <td>89.625000</td>\n",
       "      <td>7.650000</td>\n",
       "      <td>1021.000000</td>\n",
       "      <td>2014</td>\n",
       "      <td>1</td>\n",
       "      <td>Wednesday</td>\n",
       "    </tr>\n",
       "    <tr>\n",
       "      <th>2014-01-02</th>\n",
       "      <td>11.000000</td>\n",
       "      <td>78.375000</td>\n",
       "      <td>8.100000</td>\n",
       "      <td>1020.250000</td>\n",
       "      <td>2014</td>\n",
       "      <td>1</td>\n",
       "      <td>Thursday</td>\n",
       "    </tr>\n",
       "    <tr>\n",
       "      <th>2014-01-03</th>\n",
       "      <td>12.500000</td>\n",
       "      <td>74.875000</td>\n",
       "      <td>5.325000</td>\n",
       "      <td>1017.750000</td>\n",
       "      <td>2014</td>\n",
       "      <td>1</td>\n",
       "      <td>Friday</td>\n",
       "    </tr>\n",
       "    <tr>\n",
       "      <th>2014-01-04</th>\n",
       "      <td>12.875000</td>\n",
       "      <td>88.125000</td>\n",
       "      <td>1.162500</td>\n",
       "      <td>1016.250000</td>\n",
       "      <td>2014</td>\n",
       "      <td>1</td>\n",
       "      <td>Saturday</td>\n",
       "    </tr>\n",
       "    <tr>\n",
       "      <th>2014-01-05</th>\n",
       "      <td>12.375000</td>\n",
       "      <td>89.000000</td>\n",
       "      <td>0.462500</td>\n",
       "      <td>1014.500000</td>\n",
       "      <td>2014</td>\n",
       "      <td>1</td>\n",
       "      <td>Sunday</td>\n",
       "    </tr>\n",
       "    <tr>\n",
       "      <th>2014-01-06</th>\n",
       "      <td>11.428571</td>\n",
       "      <td>86.285714</td>\n",
       "      <td>27.337500</td>\n",
       "      <td>1017.625000</td>\n",
       "      <td>2014</td>\n",
       "      <td>1</td>\n",
       "      <td>Monday</td>\n",
       "    </tr>\n",
       "    <tr>\n",
       "      <th>2014-01-07</th>\n",
       "      <td>12.142857</td>\n",
       "      <td>72.285714</td>\n",
       "      <td>20.600000</td>\n",
       "      <td>1017.750000</td>\n",
       "      <td>2014</td>\n",
       "      <td>1</td>\n",
       "      <td>Tuesday</td>\n",
       "    </tr>\n",
       "    <tr>\n",
       "      <th>2014-01-08</th>\n",
       "      <td>11.875000</td>\n",
       "      <td>76.875000</td>\n",
       "      <td>1.850000</td>\n",
       "      <td>1017.875000</td>\n",
       "      <td>2014</td>\n",
       "      <td>1</td>\n",
       "      <td>Wednesday</td>\n",
       "    </tr>\n",
       "    <tr>\n",
       "      <th>2014-01-09</th>\n",
       "      <td>12.833333</td>\n",
       "      <td>83.000000</td>\n",
       "      <td>1.233333</td>\n",
       "      <td>1017.000000</td>\n",
       "      <td>2014</td>\n",
       "      <td>1</td>\n",
       "      <td>Thursday</td>\n",
       "    </tr>\n",
       "    <tr>\n",
       "      <th>2014-01-10</th>\n",
       "      <td>12.375000</td>\n",
       "      <td>85.375000</td>\n",
       "      <td>0.000000</td>\n",
       "      <td>1016.625000</td>\n",
       "      <td>2014</td>\n",
       "      <td>1</td>\n",
       "      <td>Friday</td>\n",
       "    </tr>\n",
       "    <tr>\n",
       "      <th>2014-01-11</th>\n",
       "      <td>12.125000</td>\n",
       "      <td>82.625000</td>\n",
       "      <td>6.725000</td>\n",
       "      <td>1019.625000</td>\n",
       "      <td>2014</td>\n",
       "      <td>1</td>\n",
       "      <td>Saturday</td>\n",
       "    </tr>\n",
       "    <tr>\n",
       "      <th>2014-01-12</th>\n",
       "      <td>12.875000</td>\n",
       "      <td>80.875000</td>\n",
       "      <td>3.250000</td>\n",
       "      <td>1020.750000</td>\n",
       "      <td>2014</td>\n",
       "      <td>1</td>\n",
       "      <td>Sunday</td>\n",
       "    </tr>\n",
       "    <tr>\n",
       "      <th>2014-01-13</th>\n",
       "      <td>14.000000</td>\n",
       "      <td>72.375000</td>\n",
       "      <td>1.162500</td>\n",
       "      <td>1019.375000</td>\n",
       "      <td>2014</td>\n",
       "      <td>1</td>\n",
       "      <td>Monday</td>\n",
       "    </tr>\n",
       "    <tr>\n",
       "      <th>2014-01-14</th>\n",
       "      <td>14.875000</td>\n",
       "      <td>76.750000</td>\n",
       "      <td>2.787500</td>\n",
       "      <td>1017.000000</td>\n",
       "      <td>2014</td>\n",
       "      <td>1</td>\n",
       "      <td>Tuesday</td>\n",
       "    </tr>\n",
       "    <tr>\n",
       "      <th>2014-01-15</th>\n",
       "      <td>12.000000</td>\n",
       "      <td>93.500000</td>\n",
       "      <td>0.462500</td>\n",
       "      <td>1019.750000</td>\n",
       "      <td>2014</td>\n",
       "      <td>1</td>\n",
       "      <td>Wednesday</td>\n",
       "    </tr>\n",
       "    <tr>\n",
       "      <th>2014-01-16</th>\n",
       "      <td>12.285714</td>\n",
       "      <td>90.571429</td>\n",
       "      <td>1.585714</td>\n",
       "      <td>1019.571429</td>\n",
       "      <td>2014</td>\n",
       "      <td>1</td>\n",
       "      <td>Thursday</td>\n",
       "    </tr>\n",
       "    <tr>\n",
       "      <th>2014-01-17</th>\n",
       "      <td>12.000000</td>\n",
       "      <td>95.750000</td>\n",
       "      <td>1.162500</td>\n",
       "      <td>1017.625000</td>\n",
       "      <td>2014</td>\n",
       "      <td>1</td>\n",
       "      <td>Friday</td>\n",
       "    </tr>\n",
       "    <tr>\n",
       "      <th>2014-01-18</th>\n",
       "      <td>12.500000</td>\n",
       "      <td>94.250000</td>\n",
       "      <td>1.850000</td>\n",
       "      <td>1020.250000</td>\n",
       "      <td>2014</td>\n",
       "      <td>1</td>\n",
       "      <td>Saturday</td>\n",
       "    </tr>\n",
       "    <tr>\n",
       "      <th>2014-01-19</th>\n",
       "      <td>14.500000</td>\n",
       "      <td>84.500000</td>\n",
       "      <td>3.475000</td>\n",
       "      <td>1023.000000</td>\n",
       "      <td>2014</td>\n",
       "      <td>1</td>\n",
       "      <td>Sunday</td>\n",
       "    </tr>\n",
       "    <tr>\n",
       "      <th>2014-01-20</th>\n",
       "      <td>14.625000</td>\n",
       "      <td>83.500000</td>\n",
       "      <td>4.412500</td>\n",
       "      <td>1021.375000</td>\n",
       "      <td>2014</td>\n",
       "      <td>1</td>\n",
       "      <td>Monday</td>\n",
       "    </tr>\n",
       "    <tr>\n",
       "      <th>2014-01-21</th>\n",
       "      <td>13.571429</td>\n",
       "      <td>96.857143</td>\n",
       "      <td>7.171429</td>\n",
       "      <td>1020.571429</td>\n",
       "      <td>2014</td>\n",
       "      <td>1</td>\n",
       "      <td>Tuesday</td>\n",
       "    </tr>\n",
       "    <tr>\n",
       "      <th>2014-01-22</th>\n",
       "      <td>15.250000</td>\n",
       "      <td>96.125000</td>\n",
       "      <td>6.712500</td>\n",
       "      <td>1019.875000</td>\n",
       "      <td>2014</td>\n",
       "      <td>1</td>\n",
       "      <td>Wednesday</td>\n",
       "    </tr>\n",
       "    <tr>\n",
       "      <th>2014-01-23</th>\n",
       "      <td>15.625000</td>\n",
       "      <td>90.125000</td>\n",
       "      <td>6.712500</td>\n",
       "      <td>1020.250000</td>\n",
       "      <td>2014</td>\n",
       "      <td>1</td>\n",
       "      <td>Thursday</td>\n",
       "    </tr>\n",
       "    <tr>\n",
       "      <th>2014-01-24</th>\n",
       "      <td>13.875000</td>\n",
       "      <td>88.875000</td>\n",
       "      <td>8.112500</td>\n",
       "      <td>1019.250000</td>\n",
       "      <td>2014</td>\n",
       "      <td>1</td>\n",
       "      <td>Friday</td>\n",
       "    </tr>\n",
       "    <tr>\n",
       "      <th>2014-01-25</th>\n",
       "      <td>11.750000</td>\n",
       "      <td>95.625000</td>\n",
       "      <td>8.337500</td>\n",
       "      <td>1019.750000</td>\n",
       "      <td>2014</td>\n",
       "      <td>1</td>\n",
       "      <td>Saturday</td>\n",
       "    </tr>\n",
       "    <tr>\n",
       "      <th>2014-01-26</th>\n",
       "      <td>14.375000</td>\n",
       "      <td>85.750000</td>\n",
       "      <td>8.812500</td>\n",
       "      <td>1019.125000</td>\n",
       "      <td>2014</td>\n",
       "      <td>1</td>\n",
       "      <td>Sunday</td>\n",
       "    </tr>\n",
       "    <tr>\n",
       "      <th>2014-01-27</th>\n",
       "      <td>16.625000</td>\n",
       "      <td>72.375000</td>\n",
       "      <td>9.950000</td>\n",
       "      <td>1018.750000</td>\n",
       "      <td>2014</td>\n",
       "      <td>1</td>\n",
       "      <td>Monday</td>\n",
       "    </tr>\n",
       "    <tr>\n",
       "      <th>2014-01-28</th>\n",
       "      <td>16.625000</td>\n",
       "      <td>69.875000</td>\n",
       "      <td>7.412500</td>\n",
       "      <td>1016.750000</td>\n",
       "      <td>2014</td>\n",
       "      <td>1</td>\n",
       "      <td>Tuesday</td>\n",
       "    </tr>\n",
       "    <tr>\n",
       "      <th>2014-01-29</th>\n",
       "      <td>14.875000</td>\n",
       "      <td>81.875000</td>\n",
       "      <td>4.625000</td>\n",
       "      <td>1018.625000</td>\n",
       "      <td>2014</td>\n",
       "      <td>1</td>\n",
       "      <td>Wednesday</td>\n",
       "    </tr>\n",
       "    <tr>\n",
       "      <th>2014-01-30</th>\n",
       "      <td>14.500000</td>\n",
       "      <td>83.250000</td>\n",
       "      <td>0.925000</td>\n",
       "      <td>1019.375000</td>\n",
       "      <td>2014</td>\n",
       "      <td>1</td>\n",
       "      <td>Thursday</td>\n",
       "    </tr>\n",
       "    <tr>\n",
       "      <th>2014-01-31</th>\n",
       "      <td>14.750000</td>\n",
       "      <td>82.500000</td>\n",
       "      <td>3.012500</td>\n",
       "      <td>1019.250000</td>\n",
       "      <td>2014</td>\n",
       "      <td>1</td>\n",
       "      <td>Friday</td>\n",
       "    </tr>\n",
       "    <tr>\n",
       "      <th>2014-02-01</th>\n",
       "      <td>14.000000</td>\n",
       "      <td>79.375000</td>\n",
       "      <td>2.550000</td>\n",
       "      <td>1019.750000</td>\n",
       "      <td>2014</td>\n",
       "      <td>2</td>\n",
       "      <td>Saturday</td>\n",
       "    </tr>\n",
       "  </tbody>\n",
       "</table>\n",
       "</div>"
      ],
      "text/plain": [
       "             meantemp   humidity  wind_speed  meanpressure  year  month  \\\n",
       "date                                                                      \n",
       "2014-01-01  13.375000  89.625000    7.650000   1021.000000  2014      1   \n",
       "2014-01-02  11.000000  78.375000    8.100000   1020.250000  2014      1   \n",
       "2014-01-03  12.500000  74.875000    5.325000   1017.750000  2014      1   \n",
       "2014-01-04  12.875000  88.125000    1.162500   1016.250000  2014      1   \n",
       "2014-01-05  12.375000  89.000000    0.462500   1014.500000  2014      1   \n",
       "2014-01-06  11.428571  86.285714   27.337500   1017.625000  2014      1   \n",
       "2014-01-07  12.142857  72.285714   20.600000   1017.750000  2014      1   \n",
       "2014-01-08  11.875000  76.875000    1.850000   1017.875000  2014      1   \n",
       "2014-01-09  12.833333  83.000000    1.233333   1017.000000  2014      1   \n",
       "2014-01-10  12.375000  85.375000    0.000000   1016.625000  2014      1   \n",
       "2014-01-11  12.125000  82.625000    6.725000   1019.625000  2014      1   \n",
       "2014-01-12  12.875000  80.875000    3.250000   1020.750000  2014      1   \n",
       "2014-01-13  14.000000  72.375000    1.162500   1019.375000  2014      1   \n",
       "2014-01-14  14.875000  76.750000    2.787500   1017.000000  2014      1   \n",
       "2014-01-15  12.000000  93.500000    0.462500   1019.750000  2014      1   \n",
       "2014-01-16  12.285714  90.571429    1.585714   1019.571429  2014      1   \n",
       "2014-01-17  12.000000  95.750000    1.162500   1017.625000  2014      1   \n",
       "2014-01-18  12.500000  94.250000    1.850000   1020.250000  2014      1   \n",
       "2014-01-19  14.500000  84.500000    3.475000   1023.000000  2014      1   \n",
       "2014-01-20  14.625000  83.500000    4.412500   1021.375000  2014      1   \n",
       "2014-01-21  13.571429  96.857143    7.171429   1020.571429  2014      1   \n",
       "2014-01-22  15.250000  96.125000    6.712500   1019.875000  2014      1   \n",
       "2014-01-23  15.625000  90.125000    6.712500   1020.250000  2014      1   \n",
       "2014-01-24  13.875000  88.875000    8.112500   1019.250000  2014      1   \n",
       "2014-01-25  11.750000  95.625000    8.337500   1019.750000  2014      1   \n",
       "2014-01-26  14.375000  85.750000    8.812500   1019.125000  2014      1   \n",
       "2014-01-27  16.625000  72.375000    9.950000   1018.750000  2014      1   \n",
       "2014-01-28  16.625000  69.875000    7.412500   1016.750000  2014      1   \n",
       "2014-01-29  14.875000  81.875000    4.625000   1018.625000  2014      1   \n",
       "2014-01-30  14.500000  83.250000    0.925000   1019.375000  2014      1   \n",
       "2014-01-31  14.750000  82.500000    3.012500   1019.250000  2014      1   \n",
       "2014-02-01  14.000000  79.375000    2.550000   1019.750000  2014      2   \n",
       "\n",
       "             day_name  \n",
       "date                   \n",
       "2014-01-01  Wednesday  \n",
       "2014-01-02   Thursday  \n",
       "2014-01-03     Friday  \n",
       "2014-01-04   Saturday  \n",
       "2014-01-05     Sunday  \n",
       "2014-01-06     Monday  \n",
       "2014-01-07    Tuesday  \n",
       "2014-01-08  Wednesday  \n",
       "2014-01-09   Thursday  \n",
       "2014-01-10     Friday  \n",
       "2014-01-11   Saturday  \n",
       "2014-01-12     Sunday  \n",
       "2014-01-13     Monday  \n",
       "2014-01-14    Tuesday  \n",
       "2014-01-15  Wednesday  \n",
       "2014-01-16   Thursday  \n",
       "2014-01-17     Friday  \n",
       "2014-01-18   Saturday  \n",
       "2014-01-19     Sunday  \n",
       "2014-01-20     Monday  \n",
       "2014-01-21    Tuesday  \n",
       "2014-01-22  Wednesday  \n",
       "2014-01-23   Thursday  \n",
       "2014-01-24     Friday  \n",
       "2014-01-25   Saturday  \n",
       "2014-01-26     Sunday  \n",
       "2014-01-27     Monday  \n",
       "2014-01-28    Tuesday  \n",
       "2014-01-29  Wednesday  \n",
       "2014-01-30   Thursday  \n",
       "2014-01-31     Friday  \n",
       "2014-02-01   Saturday  "
      ]
     },
     "execution_count": 18,
     "metadata": {},
     "output_type": "execute_result"
    }
   ],
   "source": [
    "# say from ('2014-01-01'to '2014-02-01')\n",
    "df_train.loc['2014-01-01':'2014-02-01']"
   ]
  },
  {
   "cell_type": "markdown",
   "id": "723c67a9",
   "metadata": {
    "papermill": {
     "duration": 0.02301,
     "end_time": "2024-03-30T13:47:18.248381",
     "exception": false,
     "start_time": "2024-03-30T13:47:18.225371",
     "status": "completed"
    },
    "tags": []
   },
   "source": [
    "# 🔖Plotting Time Series Data"
   ]
  },
  {
   "cell_type": "code",
   "execution_count": 19,
   "id": "2cb607b6",
   "metadata": {
    "execution": {
     "iopub.execute_input": "2024-03-30T13:47:18.297564Z",
     "iopub.status.busy": "2024-03-30T13:47:18.297153Z",
     "iopub.status.idle": "2024-03-30T13:47:20.261990Z",
     "shell.execute_reply": "2024-03-30T13:47:20.260875Z"
    },
    "papermill": {
     "duration": 1.9929,
     "end_time": "2024-03-30T13:47:20.264636",
     "exception": false,
     "start_time": "2024-03-30T13:47:18.271736",
     "status": "completed"
    },
    "tags": []
   },
   "outputs": [
    {
     "data": {
      "text/html": [
       "        <script type=\"text/javascript\">\n",
       "        window.PlotlyConfig = {MathJaxConfig: 'local'};\n",
       "        if (window.MathJax && window.MathJax.Hub && window.MathJax.Hub.Config) {window.MathJax.Hub.Config({SVG: {font: \"STIX-Web\"}});}\n",
       "        if (typeof require !== 'undefined') {\n",
       "        require.undef(\"plotly\");\n",
       "        requirejs.config({\n",
       "            paths: {\n",
       "                'plotly': ['https://cdn.plot.ly/plotly-2.27.0.min']\n",
       "            }\n",
       "        });\n",
       "        require(['plotly'], function(Plotly) {\n",
       "            window._Plotly = Plotly;\n",
       "        });\n",
       "        }\n",
       "        </script>\n",
       "        "
      ]
     },
     "metadata": {},
     "output_type": "display_data"
    },
    {
     "data": {
      "text/html": [
       "<div>                            <div id=\"487e0c08-0484-4375-955b-206d8272b3ad\" class=\"plotly-graph-div\" style=\"height:525px; width:100%;\"></div>            <script type=\"text/javascript\">                require([\"plotly\"], function(Plotly) {                    window.PLOTLYENV=window.PLOTLYENV || {};                                    if (document.getElementById(\"487e0c08-0484-4375-955b-206d8272b3ad\")) {                    Plotly.newPlot(                        \"487e0c08-0484-4375-955b-206d8272b3ad\",                        [{\"mode\":\"lines\",\"x\":[\"2013-01-01T00:00:00\",\"2013-01-02T00:00:00\",\"2013-01-03T00:00:00\",\"2013-01-04T00:00:00\",\"2013-01-05T00:00:00\",\"2013-01-06T00:00:00\",\"2013-01-07T00:00:00\",\"2013-01-08T00:00:00\",\"2013-01-09T00:00:00\",\"2013-01-10T00:00:00\",\"2013-01-11T00:00:00\",\"2013-01-12T00:00:00\",\"2013-01-13T00:00:00\",\"2013-01-14T00:00:00\",\"2013-01-15T00:00:00\",\"2013-01-16T00:00:00\",\"2013-01-17T00:00:00\",\"2013-01-18T00:00:00\",\"2013-01-19T00:00:00\",\"2013-01-20T00:00:00\",\"2013-01-21T00:00:00\",\"2013-01-22T00:00:00\",\"2013-01-23T00:00:00\",\"2013-01-24T00:00:00\",\"2013-01-25T00:00:00\",\"2013-01-26T00:00:00\",\"2013-01-27T00:00:00\",\"2013-01-28T00:00:00\",\"2013-01-29T00:00:00\",\"2013-01-30T00:00:00\",\"2013-01-31T00:00:00\",\"2013-02-01T00:00:00\",\"2013-02-02T00:00:00\",\"2013-02-03T00:00:00\",\"2013-02-04T00:00:00\",\"2013-02-05T00:00:00\",\"2013-02-06T00:00:00\",\"2013-02-07T00:00:00\",\"2013-02-08T00:00:00\",\"2013-02-09T00:00:00\",\"2013-02-10T00:00:00\",\"2013-02-11T00:00:00\",\"2013-02-12T00:00:00\",\"2013-02-13T00:00:00\",\"2013-02-14T00:00:00\",\"2013-02-15T00:00:00\",\"2013-02-16T00:00:00\",\"2013-02-17T00:00:00\",\"2013-02-18T00:00:00\",\"2013-02-19T00:00:00\",\"2013-02-20T00:00:00\",\"2013-02-21T00:00:00\",\"2013-02-22T00:00:00\",\"2013-02-23T00:00:00\",\"2013-02-24T00:00:00\",\"2013-02-25T00:00:00\",\"2013-02-26T00:00:00\",\"2013-02-27T00:00:00\",\"2013-02-28T00:00:00\",\"2013-03-01T00:00:00\",\"2013-03-02T00:00:00\",\"2013-03-03T00:00:00\",\"2013-03-04T00:00:00\",\"2013-03-05T00:00:00\",\"2013-03-06T00:00:00\",\"2013-03-07T00:00:00\",\"2013-03-08T00:00:00\",\"2013-03-09T00:00:00\",\"2013-03-10T00:00:00\",\"2013-03-11T00:00:00\",\"2013-03-12T00:00:00\",\"2013-03-13T00:00:00\",\"2013-03-14T00:00:00\",\"2013-03-15T00:00:00\",\"2013-03-16T00:00:00\",\"2013-03-17T00:00:00\",\"2013-03-18T00:00:00\",\"2013-03-19T00:00:00\",\"2013-03-20T00:00:00\",\"2013-03-21T00:00:00\",\"2013-03-22T00:00:00\",\"2013-03-23T00:00:00\",\"2013-03-24T00:00:00\",\"2013-03-25T00:00:00\",\"2013-03-26T00:00:00\",\"2013-03-27T00:00:00\",\"2013-03-28T00:00:00\",\"2013-03-29T00:00:00\",\"2013-03-30T00:00:00\",\"2013-03-31T00:00:00\",\"2013-04-01T00:00:00\",\"2013-04-02T00:00:00\",\"2013-04-03T00:00:00\",\"2013-04-04T00:00:00\",\"2013-04-05T00:00:00\",\"2013-04-06T00:00:00\",\"2013-04-07T00:00:00\",\"2013-04-08T00:00:00\",\"2013-04-09T00:00:00\",\"2013-04-10T00:00:00\",\"2013-04-11T00:00:00\",\"2013-04-12T00:00:00\",\"2013-04-13T00:00:00\",\"2013-04-14T00:00:00\",\"2013-04-15T00:00:00\",\"2013-04-16T00:00:00\",\"2013-04-17T00:00:00\",\"2013-04-18T00:00:00\",\"2013-04-19T00:00:00\",\"2013-04-20T00:00:00\",\"2013-04-21T00:00:00\",\"2013-04-22T00:00:00\",\"2013-04-23T00:00:00\",\"2013-04-24T00:00:00\",\"2013-04-25T00:00:00\",\"2013-04-26T00:00:00\",\"2013-04-27T00:00:00\",\"2013-04-28T00:00:00\",\"2013-04-29T00:00:00\",\"2013-04-30T00:00:00\",\"2013-05-01T00:00:00\",\"2013-05-02T00:00:00\",\"2013-05-03T00:00:00\",\"2013-05-04T00:00:00\",\"2013-05-05T00:00:00\",\"2013-05-06T00:00:00\",\"2013-05-07T00:00:00\",\"2013-05-08T00:00:00\",\"2013-05-09T00:00:00\",\"2013-05-10T00:00:00\",\"2013-05-11T00:00:00\",\"2013-05-12T00:00:00\",\"2013-05-13T00:00:00\",\"2013-05-14T00:00:00\",\"2013-05-15T00:00:00\",\"2013-05-16T00:00:00\",\"2013-05-17T00:00:00\",\"2013-05-18T00:00:00\",\"2013-05-19T00:00:00\",\"2013-05-20T00:00:00\",\"2013-05-21T00:00:00\",\"2013-05-22T00:00:00\",\"2013-05-23T00:00:00\",\"2013-05-24T00:00:00\",\"2013-05-25T00:00:00\",\"2013-05-26T00:00:00\",\"2013-05-27T00:00:00\",\"2013-05-28T00:00:00\",\"2013-05-29T00:00:00\",\"2013-05-30T00:00:00\",\"2013-05-31T00:00:00\",\"2013-06-01T00:00:00\",\"2013-06-02T00:00:00\",\"2013-06-03T00:00:00\",\"2013-06-04T00:00:00\",\"2013-06-05T00:00:00\",\"2013-06-06T00:00:00\",\"2013-06-07T00:00:00\",\"2013-06-08T00:00:00\",\"2013-06-09T00:00:00\",\"2013-06-10T00:00:00\",\"2013-06-11T00:00:00\",\"2013-06-12T00:00:00\",\"2013-06-13T00:00:00\",\"2013-06-14T00:00:00\",\"2013-06-15T00:00:00\",\"2013-06-16T00:00:00\",\"2013-06-17T00:00:00\",\"2013-06-18T00:00:00\",\"2013-06-19T00:00:00\",\"2013-06-20T00:00:00\",\"2013-06-21T00:00:00\",\"2013-06-22T00:00:00\",\"2013-06-23T00:00:00\",\"2013-06-24T00:00:00\",\"2013-06-25T00:00:00\",\"2013-06-26T00:00:00\",\"2013-06-27T00:00:00\",\"2013-06-28T00:00:00\",\"2013-06-29T00:00:00\",\"2013-06-30T00:00:00\",\"2013-07-01T00:00:00\",\"2013-07-02T00:00:00\",\"2013-07-03T00:00:00\",\"2013-07-04T00:00:00\",\"2013-07-05T00:00:00\",\"2013-07-06T00:00:00\",\"2013-07-07T00:00:00\",\"2013-07-08T00:00:00\",\"2013-07-09T00:00:00\",\"2013-07-10T00:00:00\",\"2013-07-11T00:00:00\",\"2013-07-12T00:00:00\",\"2013-07-13T00:00:00\",\"2013-07-14T00:00:00\",\"2013-07-15T00:00:00\",\"2013-07-16T00:00:00\",\"2013-07-17T00:00:00\",\"2013-07-18T00:00:00\",\"2013-07-19T00:00:00\",\"2013-07-20T00:00:00\",\"2013-07-21T00:00:00\",\"2013-07-22T00:00:00\",\"2013-07-23T00:00:00\",\"2013-07-24T00:00:00\",\"2013-07-25T00:00:00\",\"2013-07-26T00:00:00\",\"2013-07-27T00:00:00\",\"2013-07-28T00:00:00\",\"2013-07-29T00:00:00\",\"2013-07-30T00:00:00\",\"2013-07-31T00:00:00\",\"2013-08-01T00:00:00\",\"2013-08-02T00:00:00\",\"2013-08-03T00:00:00\",\"2013-08-04T00:00:00\",\"2013-08-05T00:00:00\",\"2013-08-06T00:00:00\",\"2013-08-07T00:00:00\",\"2013-08-08T00:00:00\",\"2013-08-09T00:00:00\",\"2013-08-10T00:00:00\",\"2013-08-11T00:00:00\",\"2013-08-12T00:00:00\",\"2013-08-13T00:00:00\",\"2013-08-14T00:00:00\",\"2013-08-15T00:00:00\",\"2013-08-16T00:00:00\",\"2013-08-17T00:00:00\",\"2013-08-18T00:00:00\",\"2013-08-19T00:00:00\",\"2013-08-20T00:00:00\",\"2013-08-21T00:00:00\",\"2013-08-22T00:00:00\",\"2013-08-23T00:00:00\",\"2013-08-24T00:00:00\",\"2013-08-25T00:00:00\",\"2013-08-26T00:00:00\",\"2013-08-27T00:00:00\",\"2013-08-28T00:00:00\",\"2013-08-29T00:00:00\",\"2013-08-30T00:00:00\",\"2013-08-31T00:00:00\",\"2013-09-01T00:00:00\",\"2013-09-02T00:00:00\",\"2013-09-03T00:00:00\",\"2013-09-04T00:00:00\",\"2013-09-05T00:00:00\",\"2013-09-06T00:00:00\",\"2013-09-07T00:00:00\",\"2013-09-08T00:00:00\",\"2013-09-09T00:00:00\",\"2013-09-10T00:00:00\",\"2013-09-11T00:00:00\",\"2013-09-12T00:00:00\",\"2013-09-13T00:00:00\",\"2013-09-14T00:00:00\",\"2013-09-15T00:00:00\",\"2013-09-16T00:00:00\",\"2013-09-17T00:00:00\",\"2013-09-18T00:00:00\",\"2013-09-19T00:00:00\",\"2013-09-20T00:00:00\",\"2013-09-21T00:00:00\",\"2013-09-22T00:00:00\",\"2013-09-23T00:00:00\",\"2013-09-24T00:00:00\",\"2013-09-25T00:00:00\",\"2013-09-26T00:00:00\",\"2013-09-27T00:00:00\",\"2013-09-28T00:00:00\",\"2013-09-29T00:00:00\",\"2013-09-30T00:00:00\",\"2013-10-01T00:00:00\",\"2013-10-02T00:00:00\",\"2013-10-03T00:00:00\",\"2013-10-04T00:00:00\",\"2013-10-05T00:00:00\",\"2013-10-06T00:00:00\",\"2013-10-07T00:00:00\",\"2013-10-08T00:00:00\",\"2013-10-09T00:00:00\",\"2013-10-10T00:00:00\",\"2013-10-11T00:00:00\",\"2013-10-12T00:00:00\",\"2013-10-13T00:00:00\",\"2013-10-14T00:00:00\",\"2013-10-15T00:00:00\",\"2013-10-16T00:00:00\",\"2013-10-17T00:00:00\",\"2013-10-18T00:00:00\",\"2013-10-19T00:00:00\",\"2013-10-20T00:00:00\",\"2013-10-21T00:00:00\",\"2013-10-22T00:00:00\",\"2013-10-23T00:00:00\",\"2013-10-24T00:00:00\",\"2013-10-25T00:00:00\",\"2013-10-26T00:00:00\",\"2013-10-27T00:00:00\",\"2013-10-28T00:00:00\",\"2013-10-29T00:00:00\",\"2013-10-30T00:00:00\",\"2013-10-31T00:00:00\",\"2013-11-01T00:00:00\",\"2013-11-02T00:00:00\",\"2013-11-03T00:00:00\",\"2013-11-04T00:00:00\",\"2013-11-05T00:00:00\",\"2013-11-06T00:00:00\",\"2013-11-07T00:00:00\",\"2013-11-08T00:00:00\",\"2013-11-09T00:00:00\",\"2013-11-10T00:00:00\",\"2013-11-11T00:00:00\",\"2013-11-12T00:00:00\",\"2013-11-13T00:00:00\",\"2013-11-14T00:00:00\",\"2013-11-15T00:00:00\",\"2013-11-16T00:00:00\",\"2013-11-17T00:00:00\",\"2013-11-18T00:00:00\",\"2013-11-19T00:00:00\",\"2013-11-20T00:00:00\",\"2013-11-21T00:00:00\",\"2013-11-22T00:00:00\",\"2013-11-23T00:00:00\",\"2013-11-24T00:00:00\",\"2013-11-25T00:00:00\",\"2013-11-26T00:00:00\",\"2013-11-27T00:00:00\",\"2013-11-28T00:00:00\",\"2013-11-29T00:00:00\",\"2013-11-30T00:00:00\",\"2013-12-01T00:00:00\",\"2013-12-02T00:00:00\",\"2013-12-03T00:00:00\",\"2013-12-04T00:00:00\",\"2013-12-05T00:00:00\",\"2013-12-06T00:00:00\",\"2013-12-07T00:00:00\",\"2013-12-08T00:00:00\",\"2013-12-09T00:00:00\",\"2013-12-10T00:00:00\",\"2013-12-11T00:00:00\",\"2013-12-12T00:00:00\",\"2013-12-13T00:00:00\",\"2013-12-14T00:00:00\",\"2013-12-15T00:00:00\",\"2013-12-16T00:00:00\",\"2013-12-17T00:00:00\",\"2013-12-18T00:00:00\",\"2013-12-19T00:00:00\",\"2013-12-20T00:00:00\",\"2013-12-21T00:00:00\",\"2013-12-22T00:00:00\",\"2013-12-23T00:00:00\",\"2013-12-24T00:00:00\",\"2013-12-25T00:00:00\",\"2013-12-26T00:00:00\",\"2013-12-27T00:00:00\",\"2013-12-28T00:00:00\",\"2013-12-29T00:00:00\",\"2013-12-30T00:00:00\",\"2013-12-31T00:00:00\",\"2014-01-01T00:00:00\",\"2014-01-02T00:00:00\",\"2014-01-03T00:00:00\",\"2014-01-04T00:00:00\",\"2014-01-05T00:00:00\",\"2014-01-06T00:00:00\",\"2014-01-07T00:00:00\",\"2014-01-08T00:00:00\",\"2014-01-09T00:00:00\",\"2014-01-10T00:00:00\",\"2014-01-11T00:00:00\",\"2014-01-12T00:00:00\",\"2014-01-13T00:00:00\",\"2014-01-14T00:00:00\",\"2014-01-15T00:00:00\",\"2014-01-16T00:00:00\",\"2014-01-17T00:00:00\",\"2014-01-18T00:00:00\",\"2014-01-19T00:00:00\",\"2014-01-20T00:00:00\",\"2014-01-21T00:00:00\",\"2014-01-22T00:00:00\",\"2014-01-23T00:00:00\",\"2014-01-24T00:00:00\",\"2014-01-25T00:00:00\",\"2014-01-26T00:00:00\",\"2014-01-27T00:00:00\",\"2014-01-28T00:00:00\",\"2014-01-29T00:00:00\",\"2014-01-30T00:00:00\",\"2014-01-31T00:00:00\",\"2014-02-01T00:00:00\",\"2014-02-02T00:00:00\",\"2014-02-03T00:00:00\",\"2014-02-04T00:00:00\",\"2014-02-05T00:00:00\",\"2014-02-06T00:00:00\",\"2014-02-07T00:00:00\",\"2014-02-08T00:00:00\",\"2014-02-09T00:00:00\",\"2014-02-10T00:00:00\",\"2014-02-11T00:00:00\",\"2014-02-12T00:00:00\",\"2014-02-13T00:00:00\",\"2014-02-14T00:00:00\",\"2014-02-15T00:00:00\",\"2014-02-16T00:00:00\",\"2014-02-17T00:00:00\",\"2014-02-18T00:00:00\",\"2014-02-19T00:00:00\",\"2014-02-20T00:00:00\",\"2014-02-21T00:00:00\",\"2014-02-22T00:00:00\",\"2014-02-23T00:00:00\",\"2014-02-24T00:00:00\",\"2014-02-25T00:00:00\",\"2014-02-26T00:00:00\",\"2014-02-27T00:00:00\",\"2014-02-28T00:00:00\",\"2014-03-01T00:00:00\",\"2014-03-02T00:00:00\",\"2014-03-03T00:00:00\",\"2014-03-04T00:00:00\",\"2014-03-05T00:00:00\",\"2014-03-06T00:00:00\",\"2014-03-07T00:00:00\",\"2014-03-08T00:00:00\",\"2014-03-09T00:00:00\",\"2014-03-10T00:00:00\",\"2014-03-11T00:00:00\",\"2014-03-12T00:00:00\",\"2014-03-13T00:00:00\",\"2014-03-14T00:00:00\",\"2014-03-15T00:00:00\",\"2014-03-16T00:00:00\",\"2014-03-17T00:00:00\",\"2014-03-18T00:00:00\",\"2014-03-19T00:00:00\",\"2014-03-20T00:00:00\",\"2014-03-21T00:00:00\",\"2014-03-22T00:00:00\",\"2014-03-23T00:00:00\",\"2014-03-24T00:00:00\",\"2014-03-25T00:00:00\",\"2014-03-26T00:00:00\",\"2014-03-27T00:00:00\",\"2014-03-28T00:00:00\",\"2014-03-29T00:00:00\",\"2014-03-30T00:00:00\",\"2014-03-31T00:00:00\",\"2014-04-01T00:00:00\",\"2014-04-02T00:00:00\",\"2014-04-03T00:00:00\",\"2014-04-04T00:00:00\",\"2014-04-05T00:00:00\",\"2014-04-06T00:00:00\",\"2014-04-07T00:00:00\",\"2014-04-08T00:00:00\",\"2014-04-09T00:00:00\",\"2014-04-10T00:00:00\",\"2014-04-11T00:00:00\",\"2014-04-12T00:00:00\",\"2014-04-13T00:00:00\",\"2014-04-14T00:00:00\",\"2014-04-15T00:00:00\",\"2014-04-16T00:00:00\",\"2014-04-17T00:00:00\",\"2014-04-18T00:00:00\",\"2014-04-19T00:00:00\",\"2014-04-20T00:00:00\",\"2014-04-21T00:00:00\",\"2014-04-22T00:00:00\",\"2014-04-23T00:00:00\",\"2014-04-24T00:00:00\",\"2014-04-25T00:00:00\",\"2014-04-26T00:00:00\",\"2014-04-27T00:00:00\",\"2014-04-28T00:00:00\",\"2014-04-29T00:00:00\",\"2014-04-30T00:00:00\",\"2014-05-01T00:00:00\",\"2014-05-02T00:00:00\",\"2014-05-03T00:00:00\",\"2014-05-04T00:00:00\",\"2014-05-05T00:00:00\",\"2014-05-06T00:00:00\",\"2014-05-07T00:00:00\",\"2014-05-08T00:00:00\",\"2014-05-09T00:00:00\",\"2014-05-10T00:00:00\",\"2014-05-11T00:00:00\",\"2014-05-12T00:00:00\",\"2014-05-13T00:00:00\",\"2014-05-14T00:00:00\",\"2014-05-15T00:00:00\",\"2014-05-16T00:00:00\",\"2014-05-17T00:00:00\",\"2014-05-18T00:00:00\",\"2014-05-19T00:00:00\",\"2014-05-20T00:00:00\",\"2014-05-21T00:00:00\",\"2014-05-22T00:00:00\",\"2014-05-23T00:00:00\",\"2014-05-24T00:00:00\",\"2014-05-25T00:00:00\",\"2014-05-26T00:00:00\",\"2014-05-27T00:00:00\",\"2014-05-28T00:00:00\",\"2014-05-29T00:00:00\",\"2014-05-30T00:00:00\",\"2014-05-31T00:00:00\",\"2014-06-01T00:00:00\",\"2014-06-02T00:00:00\",\"2014-06-03T00:00:00\",\"2014-06-04T00:00:00\",\"2014-06-05T00:00:00\",\"2014-06-06T00:00:00\",\"2014-06-07T00:00:00\",\"2014-06-08T00:00:00\",\"2014-06-09T00:00:00\",\"2014-06-10T00:00:00\",\"2014-06-11T00:00:00\",\"2014-06-12T00:00:00\",\"2014-06-13T00:00:00\",\"2014-06-14T00:00:00\",\"2014-06-15T00:00:00\",\"2014-06-16T00:00:00\",\"2014-06-17T00:00:00\",\"2014-06-18T00:00:00\",\"2014-06-19T00:00:00\",\"2014-06-20T00:00:00\",\"2014-06-21T00:00:00\",\"2014-06-22T00:00:00\",\"2014-06-23T00:00:00\",\"2014-06-24T00:00:00\",\"2014-06-25T00:00:00\",\"2014-06-26T00:00:00\",\"2014-06-27T00:00:00\",\"2014-06-28T00:00:00\",\"2014-06-29T00:00:00\",\"2014-06-30T00:00:00\",\"2014-07-01T00:00:00\",\"2014-07-02T00:00:00\",\"2014-07-03T00:00:00\",\"2014-07-04T00:00:00\",\"2014-07-05T00:00:00\",\"2014-07-06T00:00:00\",\"2014-07-07T00:00:00\",\"2014-07-08T00:00:00\",\"2014-07-09T00:00:00\",\"2014-07-10T00:00:00\",\"2014-07-11T00:00:00\",\"2014-07-12T00:00:00\",\"2014-07-13T00:00:00\",\"2014-07-14T00:00:00\",\"2014-07-15T00:00:00\",\"2014-07-16T00:00:00\",\"2014-07-17T00:00:00\",\"2014-07-18T00:00:00\",\"2014-07-19T00:00:00\",\"2014-07-20T00:00:00\",\"2014-07-21T00:00:00\",\"2014-07-22T00:00:00\",\"2014-07-23T00:00:00\",\"2014-07-24T00:00:00\",\"2014-07-25T00:00:00\",\"2014-07-26T00:00:00\",\"2014-07-27T00:00:00\",\"2014-07-28T00:00:00\",\"2014-07-29T00:00:00\",\"2014-07-30T00:00:00\",\"2014-07-31T00:00:00\",\"2014-08-01T00:00:00\",\"2014-08-02T00:00:00\",\"2014-08-03T00:00:00\",\"2014-08-04T00:00:00\",\"2014-08-05T00:00:00\",\"2014-08-06T00:00:00\",\"2014-08-07T00:00:00\",\"2014-08-08T00:00:00\",\"2014-08-09T00:00:00\",\"2014-08-10T00:00:00\",\"2014-08-11T00:00:00\",\"2014-08-12T00:00:00\",\"2014-08-13T00:00:00\",\"2014-08-14T00:00:00\",\"2014-08-15T00:00:00\",\"2014-08-16T00:00:00\",\"2014-08-17T00:00:00\",\"2014-08-18T00:00:00\",\"2014-08-19T00:00:00\",\"2014-08-20T00:00:00\",\"2014-08-21T00:00:00\",\"2014-08-22T00:00:00\",\"2014-08-23T00:00:00\",\"2014-08-24T00:00:00\",\"2014-08-25T00:00:00\",\"2014-08-26T00:00:00\",\"2014-08-27T00:00:00\",\"2014-08-28T00:00:00\",\"2014-08-29T00:00:00\",\"2014-08-30T00:00:00\",\"2014-08-31T00:00:00\",\"2014-09-01T00:00:00\",\"2014-09-02T00:00:00\",\"2014-09-03T00:00:00\",\"2014-09-04T00:00:00\",\"2014-09-05T00:00:00\",\"2014-09-06T00:00:00\",\"2014-09-07T00:00:00\",\"2014-09-08T00:00:00\",\"2014-09-09T00:00:00\",\"2014-09-10T00:00:00\",\"2014-09-11T00:00:00\",\"2014-09-12T00:00:00\",\"2014-09-13T00:00:00\",\"2014-09-14T00:00:00\",\"2014-09-15T00:00:00\",\"2014-09-16T00:00:00\",\"2014-09-17T00:00:00\",\"2014-09-18T00:00:00\",\"2014-09-19T00:00:00\",\"2014-09-20T00:00:00\",\"2014-09-21T00:00:00\",\"2014-09-22T00:00:00\",\"2014-09-23T00:00:00\",\"2014-09-24T00:00:00\",\"2014-09-25T00:00:00\",\"2014-09-26T00:00:00\",\"2014-09-27T00:00:00\",\"2014-09-28T00:00:00\",\"2014-09-29T00:00:00\",\"2014-09-30T00:00:00\",\"2014-10-01T00:00:00\",\"2014-10-02T00:00:00\",\"2014-10-03T00:00:00\",\"2014-10-04T00:00:00\",\"2014-10-05T00:00:00\",\"2014-10-06T00:00:00\",\"2014-10-07T00:00:00\",\"2014-10-08T00:00:00\",\"2014-10-09T00:00:00\",\"2014-10-10T00:00:00\",\"2014-10-11T00:00:00\",\"2014-10-12T00:00:00\",\"2014-10-13T00:00:00\",\"2014-10-14T00:00:00\",\"2014-10-15T00:00:00\",\"2014-10-16T00:00:00\",\"2014-10-17T00:00:00\",\"2014-10-18T00:00:00\",\"2014-10-19T00:00:00\",\"2014-10-20T00:00:00\",\"2014-10-21T00:00:00\",\"2014-10-22T00:00:00\",\"2014-10-23T00:00:00\",\"2014-10-24T00:00:00\",\"2014-10-25T00:00:00\",\"2014-10-26T00:00:00\",\"2014-10-27T00:00:00\",\"2014-10-28T00:00:00\",\"2014-10-29T00:00:00\",\"2014-10-30T00:00:00\",\"2014-10-31T00:00:00\",\"2014-11-01T00:00:00\",\"2014-11-02T00:00:00\",\"2014-11-03T00:00:00\",\"2014-11-04T00:00:00\",\"2014-11-05T00:00:00\",\"2014-11-06T00:00:00\",\"2014-11-07T00:00:00\",\"2014-11-08T00:00:00\",\"2014-11-09T00:00:00\",\"2014-11-10T00:00:00\",\"2014-11-11T00:00:00\",\"2014-11-12T00:00:00\",\"2014-11-13T00:00:00\",\"2014-11-14T00:00:00\",\"2014-11-15T00:00:00\",\"2014-11-16T00:00:00\",\"2014-11-17T00:00:00\",\"2014-11-18T00:00:00\",\"2014-11-19T00:00:00\",\"2014-11-20T00:00:00\",\"2014-11-21T00:00:00\",\"2014-11-22T00:00:00\",\"2014-11-23T00:00:00\",\"2014-11-24T00:00:00\",\"2014-11-25T00:00:00\",\"2014-11-26T00:00:00\",\"2014-11-27T00:00:00\",\"2014-11-28T00:00:00\",\"2014-11-29T00:00:00\",\"2014-11-30T00:00:00\",\"2014-12-01T00:00:00\",\"2014-12-02T00:00:00\",\"2014-12-03T00:00:00\",\"2014-12-04T00:00:00\",\"2014-12-05T00:00:00\",\"2014-12-06T00:00:00\",\"2014-12-07T00:00:00\",\"2014-12-08T00:00:00\",\"2014-12-09T00:00:00\",\"2014-12-10T00:00:00\",\"2014-12-11T00:00:00\",\"2014-12-12T00:00:00\",\"2014-12-13T00:00:00\",\"2014-12-14T00:00:00\",\"2014-12-15T00:00:00\",\"2014-12-16T00:00:00\",\"2014-12-17T00:00:00\",\"2014-12-18T00:00:00\",\"2014-12-19T00:00:00\",\"2014-12-20T00:00:00\",\"2014-12-21T00:00:00\",\"2014-12-22T00:00:00\",\"2014-12-23T00:00:00\",\"2014-12-24T00:00:00\",\"2014-12-25T00:00:00\",\"2014-12-26T00:00:00\",\"2014-12-27T00:00:00\",\"2014-12-28T00:00:00\",\"2014-12-29T00:00:00\",\"2014-12-30T00:00:00\",\"2014-12-31T00:00:00\",\"2015-01-01T00:00:00\",\"2015-01-02T00:00:00\",\"2015-01-03T00:00:00\",\"2015-01-04T00:00:00\",\"2015-01-05T00:00:00\",\"2015-01-06T00:00:00\",\"2015-01-07T00:00:00\",\"2015-01-08T00:00:00\",\"2015-01-09T00:00:00\",\"2015-01-10T00:00:00\",\"2015-01-11T00:00:00\",\"2015-01-12T00:00:00\",\"2015-01-13T00:00:00\",\"2015-01-14T00:00:00\",\"2015-01-15T00:00:00\",\"2015-01-16T00:00:00\",\"2015-01-17T00:00:00\",\"2015-01-18T00:00:00\",\"2015-01-19T00:00:00\",\"2015-01-20T00:00:00\",\"2015-01-21T00:00:00\",\"2015-01-22T00:00:00\",\"2015-01-23T00:00:00\",\"2015-01-24T00:00:00\",\"2015-01-25T00:00:00\",\"2015-01-26T00:00:00\",\"2015-01-27T00:00:00\",\"2015-01-28T00:00:00\",\"2015-01-29T00:00:00\",\"2015-01-30T00:00:00\",\"2015-01-31T00:00:00\",\"2015-02-01T00:00:00\",\"2015-02-02T00:00:00\",\"2015-02-03T00:00:00\",\"2015-02-04T00:00:00\",\"2015-02-05T00:00:00\",\"2015-02-06T00:00:00\",\"2015-02-07T00:00:00\",\"2015-02-08T00:00:00\",\"2015-02-09T00:00:00\",\"2015-02-10T00:00:00\",\"2015-02-11T00:00:00\",\"2015-02-12T00:00:00\",\"2015-02-13T00:00:00\",\"2015-02-14T00:00:00\",\"2015-02-15T00:00:00\",\"2015-02-16T00:00:00\",\"2015-02-17T00:00:00\",\"2015-02-18T00:00:00\",\"2015-02-19T00:00:00\",\"2015-02-20T00:00:00\",\"2015-02-21T00:00:00\",\"2015-02-22T00:00:00\",\"2015-02-23T00:00:00\",\"2015-02-24T00:00:00\",\"2015-02-25T00:00:00\",\"2015-02-26T00:00:00\",\"2015-02-27T00:00:00\",\"2015-02-28T00:00:00\",\"2015-03-01T00:00:00\",\"2015-03-02T00:00:00\",\"2015-03-03T00:00:00\",\"2015-03-04T00:00:00\",\"2015-03-05T00:00:00\",\"2015-03-06T00:00:00\",\"2015-03-07T00:00:00\",\"2015-03-08T00:00:00\",\"2015-03-09T00:00:00\",\"2015-03-10T00:00:00\",\"2015-03-11T00:00:00\",\"2015-03-12T00:00:00\",\"2015-03-13T00:00:00\",\"2015-03-14T00:00:00\",\"2015-03-15T00:00:00\",\"2015-03-16T00:00:00\",\"2015-03-17T00:00:00\",\"2015-03-18T00:00:00\",\"2015-03-19T00:00:00\",\"2015-03-20T00:00:00\",\"2015-03-21T00:00:00\",\"2015-03-22T00:00:00\",\"2015-03-23T00:00:00\",\"2015-03-24T00:00:00\",\"2015-03-25T00:00:00\",\"2015-03-26T00:00:00\",\"2015-03-27T00:00:00\",\"2015-03-28T00:00:00\",\"2015-03-29T00:00:00\",\"2015-03-30T00:00:00\",\"2015-03-31T00:00:00\",\"2015-04-01T00:00:00\",\"2015-04-02T00:00:00\",\"2015-04-03T00:00:00\",\"2015-04-04T00:00:00\",\"2015-04-05T00:00:00\",\"2015-04-06T00:00:00\",\"2015-04-07T00:00:00\",\"2015-04-08T00:00:00\",\"2015-04-09T00:00:00\",\"2015-04-10T00:00:00\",\"2015-04-11T00:00:00\",\"2015-04-12T00:00:00\",\"2015-04-13T00:00:00\",\"2015-04-14T00:00:00\",\"2015-04-15T00:00:00\",\"2015-04-16T00:00:00\",\"2015-04-17T00:00:00\",\"2015-04-18T00:00:00\",\"2015-04-19T00:00:00\",\"2015-04-20T00:00:00\",\"2015-04-21T00:00:00\",\"2015-04-22T00:00:00\",\"2015-04-23T00:00:00\",\"2015-04-24T00:00:00\",\"2015-04-25T00:00:00\",\"2015-04-26T00:00:00\",\"2015-04-27T00:00:00\",\"2015-04-28T00:00:00\",\"2015-04-29T00:00:00\",\"2015-04-30T00:00:00\",\"2015-05-01T00:00:00\",\"2015-05-02T00:00:00\",\"2015-05-03T00:00:00\",\"2015-05-04T00:00:00\",\"2015-05-05T00:00:00\",\"2015-05-06T00:00:00\",\"2015-05-07T00:00:00\",\"2015-05-08T00:00:00\",\"2015-05-09T00:00:00\",\"2015-05-10T00:00:00\",\"2015-05-11T00:00:00\",\"2015-05-12T00:00:00\",\"2015-05-13T00:00:00\",\"2015-05-14T00:00:00\",\"2015-05-15T00:00:00\",\"2015-05-16T00:00:00\",\"2015-05-17T00:00:00\",\"2015-05-18T00:00:00\",\"2015-05-19T00:00:00\",\"2015-05-20T00:00:00\",\"2015-05-21T00:00:00\",\"2015-05-22T00:00:00\",\"2015-05-23T00:00:00\",\"2015-05-24T00:00:00\",\"2015-05-25T00:00:00\",\"2015-05-26T00:00:00\",\"2015-05-27T00:00:00\",\"2015-05-28T00:00:00\",\"2015-05-29T00:00:00\",\"2015-05-30T00:00:00\",\"2015-05-31T00:00:00\",\"2015-06-01T00:00:00\",\"2015-06-02T00:00:00\",\"2015-06-03T00:00:00\",\"2015-06-04T00:00:00\",\"2015-06-05T00:00:00\",\"2015-06-06T00:00:00\",\"2015-06-07T00:00:00\",\"2015-06-08T00:00:00\",\"2015-06-09T00:00:00\",\"2015-06-10T00:00:00\",\"2015-06-11T00:00:00\",\"2015-06-12T00:00:00\",\"2015-06-13T00:00:00\",\"2015-06-14T00:00:00\",\"2015-06-15T00:00:00\",\"2015-06-16T00:00:00\",\"2015-06-17T00:00:00\",\"2015-06-18T00:00:00\",\"2015-06-19T00:00:00\",\"2015-06-20T00:00:00\",\"2015-06-21T00:00:00\",\"2015-06-22T00:00:00\",\"2015-06-23T00:00:00\",\"2015-06-24T00:00:00\",\"2015-06-25T00:00:00\",\"2015-06-26T00:00:00\",\"2015-06-27T00:00:00\",\"2015-06-28T00:00:00\",\"2015-06-29T00:00:00\",\"2015-06-30T00:00:00\",\"2015-07-01T00:00:00\",\"2015-07-02T00:00:00\",\"2015-07-03T00:00:00\",\"2015-07-04T00:00:00\",\"2015-07-05T00:00:00\",\"2015-07-06T00:00:00\",\"2015-07-07T00:00:00\",\"2015-07-08T00:00:00\",\"2015-07-09T00:00:00\",\"2015-07-10T00:00:00\",\"2015-07-11T00:00:00\",\"2015-07-12T00:00:00\",\"2015-07-13T00:00:00\",\"2015-07-14T00:00:00\",\"2015-07-15T00:00:00\",\"2015-07-16T00:00:00\",\"2015-07-17T00:00:00\",\"2015-07-18T00:00:00\",\"2015-07-19T00:00:00\",\"2015-07-20T00:00:00\",\"2015-07-21T00:00:00\",\"2015-07-22T00:00:00\",\"2015-07-23T00:00:00\",\"2015-07-24T00:00:00\",\"2015-07-25T00:00:00\",\"2015-07-26T00:00:00\",\"2015-07-27T00:00:00\",\"2015-07-28T00:00:00\",\"2015-07-29T00:00:00\",\"2015-07-30T00:00:00\",\"2015-07-31T00:00:00\",\"2015-08-01T00:00:00\",\"2015-08-02T00:00:00\",\"2015-08-03T00:00:00\",\"2015-08-04T00:00:00\",\"2015-08-05T00:00:00\",\"2015-08-06T00:00:00\",\"2015-08-07T00:00:00\",\"2015-08-08T00:00:00\",\"2015-08-09T00:00:00\",\"2015-08-10T00:00:00\",\"2015-08-11T00:00:00\",\"2015-08-12T00:00:00\",\"2015-08-13T00:00:00\",\"2015-08-14T00:00:00\",\"2015-08-15T00:00:00\",\"2015-08-16T00:00:00\",\"2015-08-17T00:00:00\",\"2015-08-18T00:00:00\",\"2015-08-19T00:00:00\",\"2015-08-20T00:00:00\",\"2015-08-21T00:00:00\",\"2015-08-22T00:00:00\",\"2015-08-23T00:00:00\",\"2015-08-24T00:00:00\",\"2015-08-25T00:00:00\",\"2015-08-26T00:00:00\",\"2015-08-27T00:00:00\",\"2015-08-28T00:00:00\",\"2015-08-29T00:00:00\",\"2015-08-30T00:00:00\",\"2015-08-31T00:00:00\",\"2015-09-01T00:00:00\",\"2015-09-02T00:00:00\",\"2015-09-03T00:00:00\",\"2015-09-04T00:00:00\",\"2015-09-05T00:00:00\",\"2015-09-06T00:00:00\",\"2015-09-07T00:00:00\",\"2015-09-08T00:00:00\",\"2015-09-09T00:00:00\",\"2015-09-10T00:00:00\",\"2015-09-11T00:00:00\",\"2015-09-12T00:00:00\",\"2015-09-13T00:00:00\",\"2015-09-14T00:00:00\",\"2015-09-15T00:00:00\",\"2015-09-16T00:00:00\",\"2015-09-17T00:00:00\",\"2015-09-18T00:00:00\",\"2015-09-19T00:00:00\",\"2015-09-20T00:00:00\",\"2015-09-21T00:00:00\",\"2015-09-22T00:00:00\",\"2015-09-23T00:00:00\",\"2015-09-24T00:00:00\",\"2015-09-25T00:00:00\",\"2015-09-26T00:00:00\",\"2015-09-27T00:00:00\",\"2015-09-28T00:00:00\",\"2015-09-29T00:00:00\",\"2015-09-30T00:00:00\",\"2015-10-01T00:00:00\",\"2015-10-02T00:00:00\",\"2015-10-03T00:00:00\",\"2015-10-04T00:00:00\",\"2015-10-05T00:00:00\",\"2015-10-06T00:00:00\",\"2015-10-07T00:00:00\",\"2015-10-08T00:00:00\",\"2015-10-09T00:00:00\",\"2015-10-10T00:00:00\",\"2015-10-11T00:00:00\",\"2015-10-12T00:00:00\",\"2015-10-13T00:00:00\",\"2015-10-14T00:00:00\",\"2015-10-15T00:00:00\",\"2015-10-16T00:00:00\",\"2015-10-17T00:00:00\",\"2015-10-18T00:00:00\",\"2015-10-19T00:00:00\",\"2015-10-20T00:00:00\",\"2015-10-21T00:00:00\",\"2015-10-22T00:00:00\",\"2015-10-23T00:00:00\",\"2015-10-24T00:00:00\",\"2015-10-25T00:00:00\",\"2015-10-26T00:00:00\",\"2015-10-27T00:00:00\",\"2015-10-28T00:00:00\",\"2015-10-29T00:00:00\",\"2015-10-30T00:00:00\",\"2015-10-31T00:00:00\",\"2015-11-01T00:00:00\",\"2015-11-02T00:00:00\",\"2015-11-03T00:00:00\",\"2015-11-04T00:00:00\",\"2015-11-05T00:00:00\",\"2015-11-06T00:00:00\",\"2015-11-07T00:00:00\",\"2015-11-08T00:00:00\",\"2015-11-09T00:00:00\",\"2015-11-10T00:00:00\",\"2015-11-11T00:00:00\",\"2015-11-12T00:00:00\",\"2015-11-13T00:00:00\",\"2015-11-14T00:00:00\",\"2015-11-15T00:00:00\",\"2015-11-16T00:00:00\",\"2015-11-17T00:00:00\",\"2015-11-18T00:00:00\",\"2015-11-19T00:00:00\",\"2015-11-20T00:00:00\",\"2015-11-21T00:00:00\",\"2015-11-22T00:00:00\",\"2015-11-23T00:00:00\",\"2015-11-24T00:00:00\",\"2015-11-25T00:00:00\",\"2015-11-26T00:00:00\",\"2015-11-27T00:00:00\",\"2015-11-28T00:00:00\",\"2015-11-29T00:00:00\",\"2015-11-30T00:00:00\",\"2015-12-01T00:00:00\",\"2015-12-02T00:00:00\",\"2015-12-03T00:00:00\",\"2015-12-04T00:00:00\",\"2015-12-05T00:00:00\",\"2015-12-06T00:00:00\",\"2015-12-07T00:00:00\",\"2015-12-08T00:00:00\",\"2015-12-09T00:00:00\",\"2015-12-10T00:00:00\",\"2015-12-11T00:00:00\",\"2015-12-12T00:00:00\",\"2015-12-13T00:00:00\",\"2015-12-14T00:00:00\",\"2015-12-15T00:00:00\",\"2015-12-16T00:00:00\",\"2015-12-17T00:00:00\",\"2015-12-18T00:00:00\",\"2015-12-19T00:00:00\",\"2015-12-20T00:00:00\",\"2015-12-21T00:00:00\",\"2015-12-22T00:00:00\",\"2015-12-23T00:00:00\",\"2015-12-24T00:00:00\",\"2015-12-25T00:00:00\",\"2015-12-26T00:00:00\",\"2015-12-27T00:00:00\",\"2015-12-28T00:00:00\",\"2015-12-29T00:00:00\",\"2015-12-30T00:00:00\",\"2015-12-31T00:00:00\",\"2016-01-01T00:00:00\",\"2016-01-02T00:00:00\",\"2016-01-03T00:00:00\",\"2016-01-04T00:00:00\",\"2016-01-05T00:00:00\",\"2016-01-06T00:00:00\",\"2016-01-07T00:00:00\",\"2016-01-08T00:00:00\",\"2016-01-09T00:00:00\",\"2016-01-10T00:00:00\",\"2016-01-11T00:00:00\",\"2016-01-12T00:00:00\",\"2016-01-13T00:00:00\",\"2016-01-14T00:00:00\",\"2016-01-15T00:00:00\",\"2016-01-16T00:00:00\",\"2016-01-17T00:00:00\",\"2016-01-18T00:00:00\",\"2016-01-19T00:00:00\",\"2016-01-20T00:00:00\",\"2016-01-21T00:00:00\",\"2016-01-22T00:00:00\",\"2016-01-23T00:00:00\",\"2016-01-24T00:00:00\",\"2016-01-25T00:00:00\",\"2016-01-26T00:00:00\",\"2016-01-27T00:00:00\",\"2016-01-28T00:00:00\",\"2016-01-29T00:00:00\",\"2016-01-30T00:00:00\",\"2016-01-31T00:00:00\",\"2016-02-01T00:00:00\",\"2016-02-02T00:00:00\",\"2016-02-03T00:00:00\",\"2016-02-04T00:00:00\",\"2016-02-05T00:00:00\",\"2016-02-06T00:00:00\",\"2016-02-07T00:00:00\",\"2016-02-08T00:00:00\",\"2016-02-09T00:00:00\",\"2016-02-10T00:00:00\",\"2016-02-11T00:00:00\",\"2016-02-12T00:00:00\",\"2016-02-13T00:00:00\",\"2016-02-14T00:00:00\",\"2016-02-15T00:00:00\",\"2016-02-16T00:00:00\",\"2016-02-17T00:00:00\",\"2016-02-18T00:00:00\",\"2016-02-19T00:00:00\",\"2016-02-20T00:00:00\",\"2016-02-21T00:00:00\",\"2016-02-22T00:00:00\",\"2016-02-23T00:00:00\",\"2016-02-24T00:00:00\",\"2016-02-25T00:00:00\",\"2016-02-26T00:00:00\",\"2016-02-27T00:00:00\",\"2016-02-28T00:00:00\",\"2016-02-29T00:00:00\",\"2016-03-01T00:00:00\",\"2016-03-02T00:00:00\",\"2016-03-03T00:00:00\",\"2016-03-04T00:00:00\",\"2016-03-05T00:00:00\",\"2016-03-06T00:00:00\",\"2016-03-07T00:00:00\",\"2016-03-08T00:00:00\",\"2016-03-09T00:00:00\",\"2016-03-10T00:00:00\",\"2016-03-11T00:00:00\",\"2016-03-12T00:00:00\",\"2016-03-13T00:00:00\",\"2016-03-14T00:00:00\",\"2016-03-15T00:00:00\",\"2016-03-16T00:00:00\",\"2016-03-17T00:00:00\",\"2016-03-18T00:00:00\",\"2016-03-19T00:00:00\",\"2016-03-20T00:00:00\",\"2016-03-21T00:00:00\",\"2016-03-22T00:00:00\",\"2016-03-23T00:00:00\",\"2016-03-24T00:00:00\",\"2016-03-25T00:00:00\",\"2016-03-26T00:00:00\",\"2016-03-27T00:00:00\",\"2016-03-28T00:00:00\",\"2016-03-29T00:00:00\",\"2016-03-30T00:00:00\",\"2016-03-31T00:00:00\",\"2016-04-01T00:00:00\",\"2016-04-02T00:00:00\",\"2016-04-03T00:00:00\",\"2016-04-04T00:00:00\",\"2016-04-05T00:00:00\",\"2016-04-06T00:00:00\",\"2016-04-07T00:00:00\",\"2016-04-08T00:00:00\",\"2016-04-09T00:00:00\",\"2016-04-10T00:00:00\",\"2016-04-11T00:00:00\",\"2016-04-12T00:00:00\",\"2016-04-13T00:00:00\",\"2016-04-14T00:00:00\",\"2016-04-15T00:00:00\",\"2016-04-16T00:00:00\",\"2016-04-17T00:00:00\",\"2016-04-18T00:00:00\",\"2016-04-19T00:00:00\",\"2016-04-20T00:00:00\",\"2016-04-21T00:00:00\",\"2016-04-22T00:00:00\",\"2016-04-23T00:00:00\",\"2016-04-24T00:00:00\",\"2016-04-25T00:00:00\",\"2016-04-26T00:00:00\",\"2016-04-27T00:00:00\",\"2016-04-28T00:00:00\",\"2016-04-29T00:00:00\",\"2016-04-30T00:00:00\",\"2016-05-01T00:00:00\",\"2016-05-02T00:00:00\",\"2016-05-03T00:00:00\",\"2016-05-04T00:00:00\",\"2016-05-05T00:00:00\",\"2016-05-06T00:00:00\",\"2016-05-07T00:00:00\",\"2016-05-08T00:00:00\",\"2016-05-09T00:00:00\",\"2016-05-10T00:00:00\",\"2016-05-11T00:00:00\",\"2016-05-12T00:00:00\",\"2016-05-13T00:00:00\",\"2016-05-14T00:00:00\",\"2016-05-15T00:00:00\",\"2016-05-16T00:00:00\",\"2016-05-17T00:00:00\",\"2016-05-18T00:00:00\",\"2016-05-19T00:00:00\",\"2016-05-20T00:00:00\",\"2016-05-21T00:00:00\",\"2016-05-22T00:00:00\",\"2016-05-23T00:00:00\",\"2016-05-24T00:00:00\",\"2016-05-25T00:00:00\",\"2016-05-26T00:00:00\",\"2016-05-27T00:00:00\",\"2016-05-28T00:00:00\",\"2016-05-29T00:00:00\",\"2016-05-30T00:00:00\",\"2016-05-31T00:00:00\",\"2016-06-01T00:00:00\",\"2016-06-02T00:00:00\",\"2016-06-03T00:00:00\",\"2016-06-04T00:00:00\",\"2016-06-05T00:00:00\",\"2016-06-06T00:00:00\",\"2016-06-07T00:00:00\",\"2016-06-08T00:00:00\",\"2016-06-09T00:00:00\",\"2016-06-10T00:00:00\",\"2016-06-11T00:00:00\",\"2016-06-12T00:00:00\",\"2016-06-13T00:00:00\",\"2016-06-14T00:00:00\",\"2016-06-15T00:00:00\",\"2016-06-16T00:00:00\",\"2016-06-17T00:00:00\",\"2016-06-18T00:00:00\",\"2016-06-19T00:00:00\",\"2016-06-20T00:00:00\",\"2016-06-21T00:00:00\",\"2016-06-22T00:00:00\",\"2016-06-23T00:00:00\",\"2016-06-24T00:00:00\",\"2016-06-25T00:00:00\",\"2016-06-26T00:00:00\",\"2016-06-27T00:00:00\",\"2016-06-28T00:00:00\",\"2016-06-29T00:00:00\",\"2016-06-30T00:00:00\",\"2016-07-01T00:00:00\",\"2016-07-02T00:00:00\",\"2016-07-03T00:00:00\",\"2016-07-04T00:00:00\",\"2016-07-05T00:00:00\",\"2016-07-06T00:00:00\",\"2016-07-07T00:00:00\",\"2016-07-08T00:00:00\",\"2016-07-09T00:00:00\",\"2016-07-10T00:00:00\",\"2016-07-11T00:00:00\",\"2016-07-12T00:00:00\",\"2016-07-13T00:00:00\",\"2016-07-14T00:00:00\",\"2016-07-15T00:00:00\",\"2016-07-16T00:00:00\",\"2016-07-17T00:00:00\",\"2016-07-18T00:00:00\",\"2016-07-19T00:00:00\",\"2016-07-20T00:00:00\",\"2016-07-21T00:00:00\",\"2016-07-22T00:00:00\",\"2016-07-23T00:00:00\",\"2016-07-24T00:00:00\",\"2016-07-25T00:00:00\",\"2016-07-26T00:00:00\",\"2016-07-27T00:00:00\",\"2016-07-28T00:00:00\",\"2016-07-29T00:00:00\",\"2016-07-30T00:00:00\",\"2016-07-31T00:00:00\",\"2016-08-01T00:00:00\",\"2016-08-02T00:00:00\",\"2016-08-03T00:00:00\",\"2016-08-04T00:00:00\",\"2016-08-05T00:00:00\",\"2016-08-06T00:00:00\",\"2016-08-07T00:00:00\",\"2016-08-08T00:00:00\",\"2016-08-09T00:00:00\",\"2016-08-10T00:00:00\",\"2016-08-11T00:00:00\",\"2016-08-12T00:00:00\",\"2016-08-13T00:00:00\",\"2016-08-14T00:00:00\",\"2016-08-15T00:00:00\",\"2016-08-16T00:00:00\",\"2016-08-17T00:00:00\",\"2016-08-18T00:00:00\",\"2016-08-19T00:00:00\",\"2016-08-20T00:00:00\",\"2016-08-21T00:00:00\",\"2016-08-22T00:00:00\",\"2016-08-23T00:00:00\",\"2016-08-24T00:00:00\",\"2016-08-25T00:00:00\",\"2016-08-26T00:00:00\",\"2016-08-27T00:00:00\",\"2016-08-28T00:00:00\",\"2016-08-29T00:00:00\",\"2016-08-30T00:00:00\",\"2016-08-31T00:00:00\",\"2016-09-01T00:00:00\",\"2016-09-02T00:00:00\",\"2016-09-03T00:00:00\",\"2016-09-04T00:00:00\",\"2016-09-05T00:00:00\",\"2016-09-06T00:00:00\",\"2016-09-07T00:00:00\",\"2016-09-08T00:00:00\",\"2016-09-09T00:00:00\",\"2016-09-10T00:00:00\",\"2016-09-11T00:00:00\",\"2016-09-12T00:00:00\",\"2016-09-13T00:00:00\",\"2016-09-14T00:00:00\",\"2016-09-15T00:00:00\",\"2016-09-16T00:00:00\",\"2016-09-17T00:00:00\",\"2016-09-18T00:00:00\",\"2016-09-19T00:00:00\",\"2016-09-20T00:00:00\",\"2016-09-21T00:00:00\",\"2016-09-22T00:00:00\",\"2016-09-23T00:00:00\",\"2016-09-24T00:00:00\",\"2016-09-25T00:00:00\",\"2016-09-26T00:00:00\",\"2016-09-27T00:00:00\",\"2016-09-28T00:00:00\",\"2016-09-29T00:00:00\",\"2016-09-30T00:00:00\",\"2016-10-01T00:00:00\",\"2016-10-02T00:00:00\",\"2016-10-03T00:00:00\",\"2016-10-04T00:00:00\",\"2016-10-05T00:00:00\",\"2016-10-06T00:00:00\",\"2016-10-07T00:00:00\",\"2016-10-08T00:00:00\",\"2016-10-09T00:00:00\",\"2016-10-10T00:00:00\",\"2016-10-11T00:00:00\",\"2016-10-12T00:00:00\",\"2016-10-13T00:00:00\",\"2016-10-14T00:00:00\",\"2016-10-15T00:00:00\",\"2016-10-16T00:00:00\",\"2016-10-17T00:00:00\",\"2016-10-18T00:00:00\",\"2016-10-19T00:00:00\",\"2016-10-20T00:00:00\",\"2016-10-21T00:00:00\",\"2016-10-22T00:00:00\",\"2016-10-23T00:00:00\",\"2016-10-24T00:00:00\",\"2016-10-25T00:00:00\",\"2016-10-26T00:00:00\",\"2016-10-27T00:00:00\",\"2016-10-28T00:00:00\",\"2016-10-29T00:00:00\",\"2016-10-30T00:00:00\",\"2016-10-31T00:00:00\",\"2016-11-01T00:00:00\",\"2016-11-02T00:00:00\",\"2016-11-03T00:00:00\",\"2016-11-04T00:00:00\",\"2016-11-05T00:00:00\",\"2016-11-06T00:00:00\",\"2016-11-07T00:00:00\",\"2016-11-08T00:00:00\",\"2016-11-09T00:00:00\",\"2016-11-10T00:00:00\",\"2016-11-11T00:00:00\",\"2016-11-12T00:00:00\",\"2016-11-13T00:00:00\",\"2016-11-14T00:00:00\",\"2016-11-15T00:00:00\",\"2016-11-16T00:00:00\",\"2016-11-17T00:00:00\",\"2016-11-18T00:00:00\",\"2016-11-19T00:00:00\",\"2016-11-20T00:00:00\",\"2016-11-21T00:00:00\",\"2016-11-22T00:00:00\",\"2016-11-23T00:00:00\",\"2016-11-24T00:00:00\",\"2016-11-25T00:00:00\",\"2016-11-26T00:00:00\",\"2016-11-27T00:00:00\",\"2016-11-28T00:00:00\",\"2016-11-29T00:00:00\",\"2016-11-30T00:00:00\",\"2016-12-01T00:00:00\",\"2016-12-02T00:00:00\",\"2016-12-03T00:00:00\",\"2016-12-04T00:00:00\",\"2016-12-05T00:00:00\",\"2016-12-06T00:00:00\",\"2016-12-07T00:00:00\",\"2016-12-08T00:00:00\",\"2016-12-09T00:00:00\",\"2016-12-10T00:00:00\",\"2016-12-11T00:00:00\",\"2016-12-12T00:00:00\",\"2016-12-13T00:00:00\",\"2016-12-14T00:00:00\",\"2016-12-15T00:00:00\",\"2016-12-16T00:00:00\",\"2016-12-17T00:00:00\",\"2016-12-18T00:00:00\",\"2016-12-19T00:00:00\",\"2016-12-20T00:00:00\",\"2016-12-21T00:00:00\",\"2016-12-22T00:00:00\",\"2016-12-23T00:00:00\",\"2016-12-24T00:00:00\",\"2016-12-25T00:00:00\",\"2016-12-26T00:00:00\",\"2016-12-27T00:00:00\",\"2016-12-28T00:00:00\",\"2016-12-29T00:00:00\",\"2016-12-30T00:00:00\",\"2016-12-31T00:00:00\",\"2017-01-01T00:00:00\"],\"y\":[10.0,7.4,7.166666666666667,8.666666666666666,6.0,7.0,7.0,8.857142857142858,14.0,11.0,15.714285714285714,14.0,15.833333333333334,12.833333333333334,14.714285714285714,13.833333333333334,16.5,13.833333333333334,12.5,11.285714285714286,11.2,9.5,14.0,13.833333333333334,12.25,12.666666666666666,12.857142857142858,14.833333333333334,14.125,14.714285714285714,16.2,16.0,16.285714285714285,18.0,17.428571428571427,16.625,16.666666666666668,15.6,14.0,15.428571428571429,15.25,15.875,15.333333333333334,16.285714285714285,17.333333333333332,19.166666666666668,14.428571428571429,13.666666666666666,15.6,15.857142857142858,17.714285714285715,20.0,20.5,17.428571428571427,16.857142857142858,16.875,17.857142857142858,20.8,19.428571428571427,17.333333333333332,19.0,19.33333333333333,17.6,20.875,20.857142857142858,23.428571428571427,24.166666666666668,25.428571428571427,23.142857142857142,24.0,23.5,21.5,22.33333333333333,24.166666666666668,20.33333333333333,22.666666666666668,23.428571428571427,22.5,29.166666666666668,23.83333333333333,25.25,27.375,27.0,23.5,24.142857142857142,21.0,22.428571428571427,21.25,23.5,23.2,25.375,25.166666666666668,26.2,24.6,25.6,25.857142857142858,29.142857142857142,28.714285714285715,30.166666666666668,30.0,30.0,28.857142857142858,30.2,28.25,28.25,32.125,29.2,30.285714285714285,28.285714285714285,30.625,27.666666666666668,27.375,28.625,30.285714285714285,31.142857142857142,29.875,31.142857142857142,30.571428571428573,32.125,31.142857142857142,31.857142857142858,29.83333333333333,28.571428571428573,32.857142857142854,32.625,32.75,32.875,34.5,34.285714285714285,34.0,30.75,29.857142857142858,31.714285714285715,32.285714285714285,33.0,33.0,32.833333333333336,31.4,35.333333333333336,36.4,36.0,36.75,37.5,38.42857142857143,38.71428571428572,37.8,35.857142857142854,35.333333333333336,34.142857142857146,32.2,33.625,32.0,32.4,35.6,35.857142857142854,37.16666666666666,31.285714285714285,34.0,34.2,36.16666666666666,36.625,30.166666666666668,34.142857142857146,29.83333333333333,30.142857142857142,30.714285714285715,27.0,26.875,28.4,29.857142857142858,33.0,34.833333333333336,35.6,35.166666666666664,33.142857142857146,30.571428571428573,30.666666666666668,31.428571428571427,31.5,33.25,32.833333333333336,33.857142857142854,33.142857142857146,31.571428571428573,32.375,32.8,31.0,31.166666666666668,29.83333333333333,29.0,29.75,32.5,28.875,31.75,30.75,31.75,29.875,31.125,31.75,30.5,26.83333333333333,28.2,29.5,31.857142857142858,29.714285714285715,28.33333333333333,30.0,30.142857142857142,32.285714285714285,31.0,30.5,28.83333333333333,30.0,31.571428571428573,32.5,32.5,29.5,27.166666666666668,28.375,28.5,27.166666666666668,29.428571428571427,30.0,29.5,30.75,29.666666666666668,27.714285714285715,26.6,27.428571428571427,28.33333333333333,28.166666666666668,27.375,28.33333333333333,29.166666666666668,31.285714285714285,32.0,29.0,32.0,32.142857142857146,30.142857142857142,31.5,29.166666666666668,29.0,30.0,31.857142857142858,32.75,31.714285714285715,31.666666666666668,30.571428571428573,30.83333333333333,28.0,31.0,29.666666666666668,30.857142857142858,31.166666666666668,31.142857142857142,30.5,31.625,29.666666666666668,29.25,29.142857142857142,29.8,28.666666666666668,25.2,28.33333333333333,30.285714285714285,30.75,28.571428571428573,28.2,29.0,30.0,28.142857142857142,26.857142857142858,28.285714285714285,29.2,28.6,24.83333333333333,28.5,29.75,29.714285714285715,29.2,30.83333333333333,29.428571428571427,23.857142857142858,26.142857142857142,27.166666666666668,27.714285714285715,25.857142857142858,26.428571428571427,26.857142857142858,26.33333333333333,24.571428571428573,24.33333333333333,24.875,27.8,25.0,23.857142857142858,22.8,23.0,22.875,22.666666666666668,23.0,22.857142857142858,23.666666666666668,23.428571428571427,21.625,20.625,21.166666666666668,18.83333333333333,20.571428571428573,20.142857142857142,18.0,19.857142857142858,16.833333333333332,18.857142857142858,16.571428571428573,17.75,17.625,17.0,16.625,15.571428571428571,18.5,17.875,18.25,17.875,17.625,18.142857142857142,19.125,21.25,21.25,19.125,18.625,17.75,17.875,18.0,17.25,17.5,17.142857142857142,17.142857142857142,16.125,16.0,16.5,16.125,15.5,16.625,17.75,17.142857142857142,16.142857142857142,15.5,15.25,14.75,14.875,16.125,15.375,14.75,15.25,14.25,13.5,13.666666666666666,12.125,11.875,10.875,10.571428571428571,12.375,14.5,13.375,11.0,12.5,12.875,12.375,11.428571428571429,12.142857142857142,11.875,12.833333333333334,12.375,12.125,12.875,14.0,14.875,12.0,12.285714285714286,12.0,12.5,14.5,14.625,13.571428571428571,15.25,15.625,13.875,11.75,14.375,16.625,16.625,14.875,14.5,14.75,14.0,15.25,18.428571428571427,18.857142857142858,17.0,18.5,19.625,13.625,12.875,12.625,13.375,13.25,15.25,13.0,12.375,13.5,15.125,15.25,15.125,16.125,17.125,16.625,16.5,16.375,18.125,18.75,18.625,15.625,16.142857142857142,16.125,17.875,18.75,18.875,18.375,18.5,19.875,22.0,20.0,20.714285714285715,20.0,19.0,19.625,21.625,23.125,26.25,24.857142857142858,21.75,21.5,22.5,25.0,22.75,22.375,24.625,25.125,23.5,24.428571428571427,25.875,24.125,24.125,24.875,26.75,25.0,25.857142857142858,27.375,30.125,27.25,25.75,25.75,26.375,28.142857142857142,29.125,26.875,27.625,29.0,27.125,26.375,24.25,25.625,27.0,28.0,29.375,29.125,29.375,30.625,31.5,30.625,31.5,32.125,33.25,34.875,34.375,31.75,31.875,29.75,29.571428571428573,31.75,31.375,30.5,30.0,29.625,28.0,25.25,26.875,29.5,31.125,29.875,31.5,32.375,31.125,33.0,33.25,34.625,31.5,31.5,30.125,31.875,33.625,35.25,33.125,34.625,32.75,32.75,34.875,35.25,36.875,37.5,38.5,37.625,37.875,37.25,37.625,32.875,30.25,30.5,33.875,36.375,36.875,33.875,35.75,38.0,36.875,34.5,32.125,33.0,32.25,32.5,34.75,34.875,33.0,32.0,31.375,29.5,28.875,31.38888888888889,34.705882352941174,30.625,34.0,35.0,36.0,36.125,36.625,35.875,31.625,32.375,33.125,32.625,30.75,27.25,29.875,30.875,32.125,31.625,30.625,30.5,30.75,32.5,31.714285714285715,30.0,30.25,31.875,32.5,33.25,30.125,31.5,30.5,29.75,32.125,31.125,31.0,29.235294117647054,28.5,31.125,32.125,32.125,30.375,31.125,30.428571428571427,31.375,31.875,33.0,33.25,32.5,33.0,33.125,33.125,33.875,34.125,33.857142857142854,29.625,30.375,28.625,27.625,29.428571428571427,29.25,28.625,27.875,26.5,28.5,31.0,31.25,31.0,28.75,26.571428571428573,28.5,29.375,29.125,29.625,30.625,30.625,30.5,31.0,31.125,30.5,30.625,31.0,29.625,30.0,30.0,30.5,30.25,30.5,30.625,30.428571428571427,30.375,30.5,31.0,30.625,30.625,31.0,28.75,27.625,27.125,25.714285714285715,26.0,27.625,24.5,24.5,23.0,25.0,24.0,23.75,24.75,25.625,25.75,25.25,25.5,25.25,25.125,24.875,25.125,24.75,23.875,23.375,22.5,22.875,23.375,23.625,22.75,23.0,24.0,23.875,24.125,21.375,19.25,19.625,18.5,18.375,18.625,18.25,17.75,17.625,17.5,20.375,18.25,19.875,17.125,16.875,16.5,19.625,18.125,19.375,20.25,19.75,20.0,21.375,25.0,21.25,17.75,18.25,17.25,17.0,15.285714285714286,21.5,19.625,17.5,16.0,16.875,16.625,17.75,12.875,11.75,11.75,11.25,9.5,9.375,9.625,9.875,9.25,10.75,10.375,9.0,11.125,11.625,12.375,14.75,14.875,15.125,14.125,14.0,12.0,9.625,10.0,10.625,11.125,11.0,10.625,12.25,12.0,12.375,13.0,13.5,13.0,13.75,13.375,13.25,12.625,14.625,12.375,13.25,13.75,13.25,11.714285714285714,11.5,12.75,13.75,15.0,17.375,16.75,14.625,14.625,15.125,15.875,16.625,16.875,15.75,16.0,15.5,17.25,19.375,18.875,20.625,21.142857142857142,21.25,22.75,22.75,21.875,22.142857142857142,21.5,22.875,23.125,20.0,19.25,21.25,17.375,17.5,16.25,16.75,18.75,20.0,18.375,19.5,18.125,17.75,18.25,20.5,21.375,21.5,17.625,19.857142857142858,20.875,20.25,21.125,22.5,24.875,25.125,24.75,25.75,26.625,28.5,27.375,27.0,25.0,23.5,25.25,26.428571428571427,28.714285714285715,24.5,21.0,23.571428571428573,25.0,23.75,25.625,26.0,27.125,28.25,24.375,24.75,26.25,27.625,25.25,28.125,30.125,32.125,32.875,31.75,30.75,30.75,31.125,30.5,28.75,30.125,31.0,31.25,32.625,31.25,30.125,31.0,30.875,32.125,34.125,35.42857142857143,34.125,35.125,35.125,34.0,33.125,27.75,29.625,28.5,30.0,33.25,35.375,31.5,33.125,35.625,36.25,37.375,36.0,37.75,35.25,33.75,34.75,35.125,32.25,34.25,29.375,31.625,28.625,31.875,32.625,33.375,35.0,36.5,37.625,36.625,35.625,35.875,31.125,27.0,31.0,32.375,33.875,35.125,35.875,33.125,30.375,32.125,31.5,37.25,26.625,31.125,32.625,34.25,31.125,30.875,32.0,33.75,33.0,34.125,35.714285714285715,27.875,28.125,31.25,29.625,26.625,25.5,25.5,29.875,30.875,33.375,31.75,30.75,29.5,30.125,29.125,31.375,32.25,32.125,32.0,30.857142857142858,30.0,29.625,29.5,28.5,29.0,29.0,28.25,29.625,31.5,29.428571428571427,29.59375,29.5,29.25,28.875,27.375,30.375,28.375,30.75,32.0,30.875,28.5,28.625,30.75,29.125,31.25,30.75,29.375,30.25,29.875,30.75,32.0,32.0,32.5,32.0,32.25,32.625,31.857142857142858,32.125,31.875,31.625,32.0,30.875,31.25,31.5,31.625,31.0,31.25,30.75,32.142857142857146,32.125,31.875,33.0,32.375,31.375,31.0,30.625,29.142857142857142,30.125,30.25,28.625,28.25,28.5,29.25,28.714285714285715,28.25,29.0,29.0,28.125,28.285714285714285,30.0,29.0,28.875,28.375,28.625,28.375,28.5,28.5,28.571428571428573,29.25,29.5,28.125,27.5,27.875,28.0,26.857142857142858,28.142857142857142,27.714285714285715,26.5,24.75,24.0,24.875,26.375,25.625,24.75,20.875,22.125,22.375,22.375,22.875,23.375,24.0,23.75,22.125,22.875,21.875,21.875,21.75,22.75,21.875,21.875,22.375,22.375,22.5,21.875,19.875,18.5,18.5,18.5,18.75,18.625,17.0,18.5,19.375,20.0,18.5,18.75,18.125,19.5,19.25,18.125,17.625,17.625,17.5,17.125,17.625,18.428571428571427,18.375,19.0,17.25,13.25,12.875,13.25,13.125,13.0,12.25,12.875,12.375,11.75,12.625,12.0,12.5,11.25,11.5,12.75,15.375,17.125,16.375,15.5,15.0,14.714285714285714,14.0,14.375,15.75,15.833333333333334,17.375,17.125,15.5,15.857142857142858,15.625,15.75,18.0,18.266666666666666,15.5625,13.0,13.6,14.0,13.266666666666667,12.357142857142858,12.066666666666666,12.1875,11.733333333333333,14.4375,11.1875,11.666666666666666,14.5625,17.583333333333332,16.857142857142858,19.5625,20.142857142857142,17.375,15.846153846153848,15.266666666666667,13.125,16.363636363636363,12.666666666666666,15.333333333333334,15.625,17.09090909090909,17.76923076923077,18.133333333333333,19.6875,19.2,17.066666666666666,17.642857142857142,17.6,18.214285714285715,18.714285714285715,19.466666666666665,23.153846153846157,23.625,21.0,21.0,21.428571428571427,21.6875,22.5625,22.8,22.8,23.0,23.875,24.916666666666668,24.933333333333334,26.0,27.3125,23.933333333333334,22.8125,23.714285714285715,23.428571428571427,24.0,25.5625,25.066666666666663,24.5625,24.25,22.375,24.066666666666663,23.9375,26.3125,26.1875,26.785714285714285,27.133333333333333,26.625,25.0625,26.2,28.133333333333333,29.875,24.666666666666668,26.25,25.933333333333334,27.125,29.571428571428573,30.0,30.571428571428573,32.3125,33.3125,32.8125,32.3125,31.375,29.933333333333334,29.266666666666666,30.73333333333333,32.25,29.8,30.2,31.75,33.125,33.625,35.6875,34.666666666666664,34.625,34.0,34.0625,34.0,33.25,31.916666666666668,31.3125,31.75,33.4375,33.125,34.15384615384615,34.07142857142857,33.0625,34.6875,38.0,35.5,33.714285714285715,30.6,31.4375,33.3125,35.13333333333333,33.53333333333333,34.0,32.5,35.375,37.294117647058826,36.5625,37.25,37.21428571428572,37.5,37.75,37.375,37.4,36.13333333333333,36.8,32.214285714285715,31.526315789473685,33.21739130434783,35.26923076923077,38.27272727272727,36.0625,31.5,26.8125,32.642857142857146,36.0,37.5625,37.5625,38.2,36.16666666666666,35.42857142857143,34.625,36.07142857142857,35.733333333333334,36.13333333333333,33.4375,35.5,36.0,32.625,34.733333333333334,33.5,34.1875,35.857142857142854,35.625,30.9375,32.875,33.125,33.84615384615385,36.4375,35.42857142857143,34.86666666666667,34.3125,30.785714285714285,35.375,35.46666666666667,32.125,28.4,29.5625,30.6875,33.25,33.266666666666666,33.5,30.8,33.25,32.5625,31.5,30.5,31.25,30.4375,31.0,27.125,28.125,27.666666666666668,32.3125,34.1875,34.13333333333333,34.125,31.875,31.4375,31.9375,30.3125,28.3125,29.53333333333333,27.375,27.33333333333333,29.266666666666666,29.125,30.6875,32.5625,33.111111111111114,33.8,30.066666666666663,33.11764705882353,33.80952380952381,31.615384615384617,32.0,28.107142857142858,29.035714285714285,30.321428571428573,28.933333333333334,31.678571428571427,31.33333333333333,29.928571428571427,29.88888888888889,32.07142857142857,33.18518518518518,31.59259259259259,32.18518518518518,31.48,30.178571428571427,31.52,31.22222222222222,31.785714285714285,33.4,29.571428571428573,30.04,27.25925925925926,27.96,30.73913043478261,30.894736842105264,31.692307692307693,31.07692307692308,30.375,31.1,31.916666666666668,30.55555555555556,31.23076923076923,31.0,31.642857142857142,32.53333333333333,30.857142857142858,31.727272727272727,31.4,32.30769230769231,32.25,32.375,33.44444444444444,33.36,30.03703703703704,31.0,31.24,31.130434782608692,31.48,32.18518518518518,32.44,32.22727272727273,32.214285714285715,32.541666666666664,32.81481481481482,33.26923076923077,30.55555555555556,28.83333333333333,30.703703703703702,30.96,30.6,30.92,29.77777777777778,29.666666666666668,29.571428571428573,29.96296296296296,29.75,27.74074074074074,28.428571428571427,28.6,28.5,28.925925925925927,29.07692307692308,28.40909090909091,29.33333333333333,27.5,28.5,28.04,27.57692307692308,26.55555555555556,25.51851851851852,25.814814814814813,24.82608695652174,24.53846153846154,24.384615384615383,23.727272727272727,25.64,24.814814814814813,23.115384615384617,22.925925925925927,24.545454545454547,23.73076923076923,23.0,23.51851851851852,23.92,23.53846153846154,24.296296296296298,23.346153846153847,22.24,21.76923076923077,21.73076923076923,21.73076923076923,20.666666666666668,22.25,21.53846153846154,22.57894736842105,22.82608695652174,21.42105263157895,23.6,24.294117647058822,23.63636363636364,22.454545454545453,21.61111111111111,19.869565217391305,19.75,19.20833333333333,21.20833333333333,18.9,18.63636363636364,18.53846153846154,18.25,16.9,19.416666666666668,16.444444444444443,20.041666666666668,19.90909090909091,19.05,18.55555555555556,18.166666666666668,15.833333333333334,17.5,16.083333333333332,17.857142857142858,19.8,18.05,17.285714285714285,15.55,17.318181818181817,14.0,17.142857142857142,16.85,17.217391304347824,15.238095238095235,14.095238095238097,15.052631578947368,10.0],\"type\":\"scatter\"}],                        {\"template\":{\"data\":{\"barpolar\":[{\"marker\":{\"line\":{\"color\":\"white\",\"width\":0.5},\"pattern\":{\"fillmode\":\"overlay\",\"size\":10,\"solidity\":0.2}},\"type\":\"barpolar\"}],\"bar\":[{\"error_x\":{\"color\":\"#2a3f5f\"},\"error_y\":{\"color\":\"#2a3f5f\"},\"marker\":{\"line\":{\"color\":\"white\",\"width\":0.5},\"pattern\":{\"fillmode\":\"overlay\",\"size\":10,\"solidity\":0.2}},\"type\":\"bar\"}],\"carpet\":[{\"aaxis\":{\"endlinecolor\":\"#2a3f5f\",\"gridcolor\":\"#C8D4E3\",\"linecolor\":\"#C8D4E3\",\"minorgridcolor\":\"#C8D4E3\",\"startlinecolor\":\"#2a3f5f\"},\"baxis\":{\"endlinecolor\":\"#2a3f5f\",\"gridcolor\":\"#C8D4E3\",\"linecolor\":\"#C8D4E3\",\"minorgridcolor\":\"#C8D4E3\",\"startlinecolor\":\"#2a3f5f\"},\"type\":\"carpet\"}],\"choropleth\":[{\"colorbar\":{\"outlinewidth\":0,\"ticks\":\"\"},\"type\":\"choropleth\"}],\"contourcarpet\":[{\"colorbar\":{\"outlinewidth\":0,\"ticks\":\"\"},\"type\":\"contourcarpet\"}],\"contour\":[{\"colorbar\":{\"outlinewidth\":0,\"ticks\":\"\"},\"colorscale\":[[0.0,\"#0d0887\"],[0.1111111111111111,\"#46039f\"],[0.2222222222222222,\"#7201a8\"],[0.3333333333333333,\"#9c179e\"],[0.4444444444444444,\"#bd3786\"],[0.5555555555555556,\"#d8576b\"],[0.6666666666666666,\"#ed7953\"],[0.7777777777777778,\"#fb9f3a\"],[0.8888888888888888,\"#fdca26\"],[1.0,\"#f0f921\"]],\"type\":\"contour\"}],\"heatmapgl\":[{\"colorbar\":{\"outlinewidth\":0,\"ticks\":\"\"},\"colorscale\":[[0.0,\"#0d0887\"],[0.1111111111111111,\"#46039f\"],[0.2222222222222222,\"#7201a8\"],[0.3333333333333333,\"#9c179e\"],[0.4444444444444444,\"#bd3786\"],[0.5555555555555556,\"#d8576b\"],[0.6666666666666666,\"#ed7953\"],[0.7777777777777778,\"#fb9f3a\"],[0.8888888888888888,\"#fdca26\"],[1.0,\"#f0f921\"]],\"type\":\"heatmapgl\"}],\"heatmap\":[{\"colorbar\":{\"outlinewidth\":0,\"ticks\":\"\"},\"colorscale\":[[0.0,\"#0d0887\"],[0.1111111111111111,\"#46039f\"],[0.2222222222222222,\"#7201a8\"],[0.3333333333333333,\"#9c179e\"],[0.4444444444444444,\"#bd3786\"],[0.5555555555555556,\"#d8576b\"],[0.6666666666666666,\"#ed7953\"],[0.7777777777777778,\"#fb9f3a\"],[0.8888888888888888,\"#fdca26\"],[1.0,\"#f0f921\"]],\"type\":\"heatmap\"}],\"histogram2dcontour\":[{\"colorbar\":{\"outlinewidth\":0,\"ticks\":\"\"},\"colorscale\":[[0.0,\"#0d0887\"],[0.1111111111111111,\"#46039f\"],[0.2222222222222222,\"#7201a8\"],[0.3333333333333333,\"#9c179e\"],[0.4444444444444444,\"#bd3786\"],[0.5555555555555556,\"#d8576b\"],[0.6666666666666666,\"#ed7953\"],[0.7777777777777778,\"#fb9f3a\"],[0.8888888888888888,\"#fdca26\"],[1.0,\"#f0f921\"]],\"type\":\"histogram2dcontour\"}],\"histogram2d\":[{\"colorbar\":{\"outlinewidth\":0,\"ticks\":\"\"},\"colorscale\":[[0.0,\"#0d0887\"],[0.1111111111111111,\"#46039f\"],[0.2222222222222222,\"#7201a8\"],[0.3333333333333333,\"#9c179e\"],[0.4444444444444444,\"#bd3786\"],[0.5555555555555556,\"#d8576b\"],[0.6666666666666666,\"#ed7953\"],[0.7777777777777778,\"#fb9f3a\"],[0.8888888888888888,\"#fdca26\"],[1.0,\"#f0f921\"]],\"type\":\"histogram2d\"}],\"histogram\":[{\"marker\":{\"pattern\":{\"fillmode\":\"overlay\",\"size\":10,\"solidity\":0.2}},\"type\":\"histogram\"}],\"mesh3d\":[{\"colorbar\":{\"outlinewidth\":0,\"ticks\":\"\"},\"type\":\"mesh3d\"}],\"parcoords\":[{\"line\":{\"colorbar\":{\"outlinewidth\":0,\"ticks\":\"\"}},\"type\":\"parcoords\"}],\"pie\":[{\"automargin\":true,\"type\":\"pie\"}],\"scatter3d\":[{\"line\":{\"colorbar\":{\"outlinewidth\":0,\"ticks\":\"\"}},\"marker\":{\"colorbar\":{\"outlinewidth\":0,\"ticks\":\"\"}},\"type\":\"scatter3d\"}],\"scattercarpet\":[{\"marker\":{\"colorbar\":{\"outlinewidth\":0,\"ticks\":\"\"}},\"type\":\"scattercarpet\"}],\"scattergeo\":[{\"marker\":{\"colorbar\":{\"outlinewidth\":0,\"ticks\":\"\"}},\"type\":\"scattergeo\"}],\"scattergl\":[{\"marker\":{\"colorbar\":{\"outlinewidth\":0,\"ticks\":\"\"}},\"type\":\"scattergl\"}],\"scattermapbox\":[{\"marker\":{\"colorbar\":{\"outlinewidth\":0,\"ticks\":\"\"}},\"type\":\"scattermapbox\"}],\"scatterpolargl\":[{\"marker\":{\"colorbar\":{\"outlinewidth\":0,\"ticks\":\"\"}},\"type\":\"scatterpolargl\"}],\"scatterpolar\":[{\"marker\":{\"colorbar\":{\"outlinewidth\":0,\"ticks\":\"\"}},\"type\":\"scatterpolar\"}],\"scatter\":[{\"fillpattern\":{\"fillmode\":\"overlay\",\"size\":10,\"solidity\":0.2},\"type\":\"scatter\"}],\"scatterternary\":[{\"marker\":{\"colorbar\":{\"outlinewidth\":0,\"ticks\":\"\"}},\"type\":\"scatterternary\"}],\"surface\":[{\"colorbar\":{\"outlinewidth\":0,\"ticks\":\"\"},\"colorscale\":[[0.0,\"#0d0887\"],[0.1111111111111111,\"#46039f\"],[0.2222222222222222,\"#7201a8\"],[0.3333333333333333,\"#9c179e\"],[0.4444444444444444,\"#bd3786\"],[0.5555555555555556,\"#d8576b\"],[0.6666666666666666,\"#ed7953\"],[0.7777777777777778,\"#fb9f3a\"],[0.8888888888888888,\"#fdca26\"],[1.0,\"#f0f921\"]],\"type\":\"surface\"}],\"table\":[{\"cells\":{\"fill\":{\"color\":\"#EBF0F8\"},\"line\":{\"color\":\"white\"}},\"header\":{\"fill\":{\"color\":\"#C8D4E3\"},\"line\":{\"color\":\"white\"}},\"type\":\"table\"}]},\"layout\":{\"annotationdefaults\":{\"arrowcolor\":\"#2a3f5f\",\"arrowhead\":0,\"arrowwidth\":1},\"autotypenumbers\":\"strict\",\"coloraxis\":{\"colorbar\":{\"outlinewidth\":0,\"ticks\":\"\"}},\"colorscale\":{\"diverging\":[[0,\"#8e0152\"],[0.1,\"#c51b7d\"],[0.2,\"#de77ae\"],[0.3,\"#f1b6da\"],[0.4,\"#fde0ef\"],[0.5,\"#f7f7f7\"],[0.6,\"#e6f5d0\"],[0.7,\"#b8e186\"],[0.8,\"#7fbc41\"],[0.9,\"#4d9221\"],[1,\"#276419\"]],\"sequential\":[[0.0,\"#0d0887\"],[0.1111111111111111,\"#46039f\"],[0.2222222222222222,\"#7201a8\"],[0.3333333333333333,\"#9c179e\"],[0.4444444444444444,\"#bd3786\"],[0.5555555555555556,\"#d8576b\"],[0.6666666666666666,\"#ed7953\"],[0.7777777777777778,\"#fb9f3a\"],[0.8888888888888888,\"#fdca26\"],[1.0,\"#f0f921\"]],\"sequentialminus\":[[0.0,\"#0d0887\"],[0.1111111111111111,\"#46039f\"],[0.2222222222222222,\"#7201a8\"],[0.3333333333333333,\"#9c179e\"],[0.4444444444444444,\"#bd3786\"],[0.5555555555555556,\"#d8576b\"],[0.6666666666666666,\"#ed7953\"],[0.7777777777777778,\"#fb9f3a\"],[0.8888888888888888,\"#fdca26\"],[1.0,\"#f0f921\"]]},\"colorway\":[\"#636efa\",\"#EF553B\",\"#00cc96\",\"#ab63fa\",\"#FFA15A\",\"#19d3f3\",\"#FF6692\",\"#B6E880\",\"#FF97FF\",\"#FECB52\"],\"font\":{\"color\":\"#2a3f5f\"},\"geo\":{\"bgcolor\":\"white\",\"lakecolor\":\"white\",\"landcolor\":\"white\",\"showlakes\":true,\"showland\":true,\"subunitcolor\":\"#C8D4E3\"},\"hoverlabel\":{\"align\":\"left\"},\"hovermode\":\"closest\",\"mapbox\":{\"style\":\"light\"},\"paper_bgcolor\":\"white\",\"plot_bgcolor\":\"white\",\"polar\":{\"angularaxis\":{\"gridcolor\":\"#EBF0F8\",\"linecolor\":\"#EBF0F8\",\"ticks\":\"\"},\"bgcolor\":\"white\",\"radialaxis\":{\"gridcolor\":\"#EBF0F8\",\"linecolor\":\"#EBF0F8\",\"ticks\":\"\"}},\"scene\":{\"xaxis\":{\"backgroundcolor\":\"white\",\"gridcolor\":\"#DFE8F3\",\"gridwidth\":2,\"linecolor\":\"#EBF0F8\",\"showbackground\":true,\"ticks\":\"\",\"zerolinecolor\":\"#EBF0F8\"},\"yaxis\":{\"backgroundcolor\":\"white\",\"gridcolor\":\"#DFE8F3\",\"gridwidth\":2,\"linecolor\":\"#EBF0F8\",\"showbackground\":true,\"ticks\":\"\",\"zerolinecolor\":\"#EBF0F8\"},\"zaxis\":{\"backgroundcolor\":\"white\",\"gridcolor\":\"#DFE8F3\",\"gridwidth\":2,\"linecolor\":\"#EBF0F8\",\"showbackground\":true,\"ticks\":\"\",\"zerolinecolor\":\"#EBF0F8\"}},\"shapedefaults\":{\"line\":{\"color\":\"#2a3f5f\"}},\"ternary\":{\"aaxis\":{\"gridcolor\":\"#DFE8F3\",\"linecolor\":\"#A2B1C6\",\"ticks\":\"\"},\"baxis\":{\"gridcolor\":\"#DFE8F3\",\"linecolor\":\"#A2B1C6\",\"ticks\":\"\"},\"bgcolor\":\"white\",\"caxis\":{\"gridcolor\":\"#DFE8F3\",\"linecolor\":\"#A2B1C6\",\"ticks\":\"\"}},\"title\":{\"x\":0.05},\"xaxis\":{\"automargin\":true,\"gridcolor\":\"#EBF0F8\",\"linecolor\":\"#EBF0F8\",\"ticks\":\"\",\"title\":{\"standoff\":15},\"zerolinecolor\":\"#EBF0F8\",\"zerolinewidth\":2},\"yaxis\":{\"automargin\":true,\"gridcolor\":\"#EBF0F8\",\"linecolor\":\"#EBF0F8\",\"ticks\":\"\",\"title\":{\"standoff\":15},\"zerolinecolor\":\"#EBF0F8\",\"zerolinewidth\":2}}},\"title\":{\"text\":\"Mean Temperature\",\"x\":0.5},\"xaxis\":{\"title\":{\"text\":\"Date\"}},\"yaxis\":{\"title\":{\"text\":\"Value\"}}},                        {\"responsive\": true}                    ).then(function(){\n",
       "                            \n",
       "var gd = document.getElementById('487e0c08-0484-4375-955b-206d8272b3ad');\n",
       "var x = new MutationObserver(function (mutations, observer) {{\n",
       "        var display = window.getComputedStyle(gd).display;\n",
       "        if (!display || display === 'none') {{\n",
       "            console.log([gd, 'removed!']);\n",
       "            Plotly.purge(gd);\n",
       "            observer.disconnect();\n",
       "        }}\n",
       "}});\n",
       "\n",
       "// Listen for the removal of the full notebook cells\n",
       "var notebookContainer = gd.closest('#notebook-container');\n",
       "if (notebookContainer) {{\n",
       "    x.observe(notebookContainer, {childList: true});\n",
       "}}\n",
       "\n",
       "// Listen for the clearing of the current output cell\n",
       "var outputEl = gd.closest('.output');\n",
       "if (outputEl) {{\n",
       "    x.observe(outputEl, {childList: true});\n",
       "}}\n",
       "\n",
       "                        })                };                });            </script>        </div>"
      ]
     },
     "metadata": {},
     "output_type": "display_data"
    },
    {
     "data": {
      "text/html": [
       "<div>                            <div id=\"c3ce766f-959c-4ad0-91d6-975b6b0c6c78\" class=\"plotly-graph-div\" style=\"height:525px; width:100%;\"></div>            <script type=\"text/javascript\">                require([\"plotly\"], function(Plotly) {                    window.PLOTLYENV=window.PLOTLYENV || {};                                    if (document.getElementById(\"c3ce766f-959c-4ad0-91d6-975b6b0c6c78\")) {                    Plotly.newPlot(                        \"c3ce766f-959c-4ad0-91d6-975b6b0c6c78\",                        [{\"mode\":\"lines\",\"x\":[\"2013-01-01T00:00:00\",\"2013-01-02T00:00:00\",\"2013-01-03T00:00:00\",\"2013-01-04T00:00:00\",\"2013-01-05T00:00:00\",\"2013-01-06T00:00:00\",\"2013-01-07T00:00:00\",\"2013-01-08T00:00:00\",\"2013-01-09T00:00:00\",\"2013-01-10T00:00:00\",\"2013-01-11T00:00:00\",\"2013-01-12T00:00:00\",\"2013-01-13T00:00:00\",\"2013-01-14T00:00:00\",\"2013-01-15T00:00:00\",\"2013-01-16T00:00:00\",\"2013-01-17T00:00:00\",\"2013-01-18T00:00:00\",\"2013-01-19T00:00:00\",\"2013-01-20T00:00:00\",\"2013-01-21T00:00:00\",\"2013-01-22T00:00:00\",\"2013-01-23T00:00:00\",\"2013-01-24T00:00:00\",\"2013-01-25T00:00:00\",\"2013-01-26T00:00:00\",\"2013-01-27T00:00:00\",\"2013-01-28T00:00:00\",\"2013-01-29T00:00:00\",\"2013-01-30T00:00:00\",\"2013-01-31T00:00:00\",\"2013-02-01T00:00:00\",\"2013-02-02T00:00:00\",\"2013-02-03T00:00:00\",\"2013-02-04T00:00:00\",\"2013-02-05T00:00:00\",\"2013-02-06T00:00:00\",\"2013-02-07T00:00:00\",\"2013-02-08T00:00:00\",\"2013-02-09T00:00:00\",\"2013-02-10T00:00:00\",\"2013-02-11T00:00:00\",\"2013-02-12T00:00:00\",\"2013-02-13T00:00:00\",\"2013-02-14T00:00:00\",\"2013-02-15T00:00:00\",\"2013-02-16T00:00:00\",\"2013-02-17T00:00:00\",\"2013-02-18T00:00:00\",\"2013-02-19T00:00:00\",\"2013-02-20T00:00:00\",\"2013-02-21T00:00:00\",\"2013-02-22T00:00:00\",\"2013-02-23T00:00:00\",\"2013-02-24T00:00:00\",\"2013-02-25T00:00:00\",\"2013-02-26T00:00:00\",\"2013-02-27T00:00:00\",\"2013-02-28T00:00:00\",\"2013-03-01T00:00:00\",\"2013-03-02T00:00:00\",\"2013-03-03T00:00:00\",\"2013-03-04T00:00:00\",\"2013-03-05T00:00:00\",\"2013-03-06T00:00:00\",\"2013-03-07T00:00:00\",\"2013-03-08T00:00:00\",\"2013-03-09T00:00:00\",\"2013-03-10T00:00:00\",\"2013-03-11T00:00:00\",\"2013-03-12T00:00:00\",\"2013-03-13T00:00:00\",\"2013-03-14T00:00:00\",\"2013-03-15T00:00:00\",\"2013-03-16T00:00:00\",\"2013-03-17T00:00:00\",\"2013-03-18T00:00:00\",\"2013-03-19T00:00:00\",\"2013-03-20T00:00:00\",\"2013-03-21T00:00:00\",\"2013-03-22T00:00:00\",\"2013-03-23T00:00:00\",\"2013-03-24T00:00:00\",\"2013-03-25T00:00:00\",\"2013-03-26T00:00:00\",\"2013-03-27T00:00:00\",\"2013-03-28T00:00:00\",\"2013-03-29T00:00:00\",\"2013-03-30T00:00:00\",\"2013-03-31T00:00:00\",\"2013-04-01T00:00:00\",\"2013-04-02T00:00:00\",\"2013-04-03T00:00:00\",\"2013-04-04T00:00:00\",\"2013-04-05T00:00:00\",\"2013-04-06T00:00:00\",\"2013-04-07T00:00:00\",\"2013-04-08T00:00:00\",\"2013-04-09T00:00:00\",\"2013-04-10T00:00:00\",\"2013-04-11T00:00:00\",\"2013-04-12T00:00:00\",\"2013-04-13T00:00:00\",\"2013-04-14T00:00:00\",\"2013-04-15T00:00:00\",\"2013-04-16T00:00:00\",\"2013-04-17T00:00:00\",\"2013-04-18T00:00:00\",\"2013-04-19T00:00:00\",\"2013-04-20T00:00:00\",\"2013-04-21T00:00:00\",\"2013-04-22T00:00:00\",\"2013-04-23T00:00:00\",\"2013-04-24T00:00:00\",\"2013-04-25T00:00:00\",\"2013-04-26T00:00:00\",\"2013-04-27T00:00:00\",\"2013-04-28T00:00:00\",\"2013-04-29T00:00:00\",\"2013-04-30T00:00:00\",\"2013-05-01T00:00:00\",\"2013-05-02T00:00:00\",\"2013-05-03T00:00:00\",\"2013-05-04T00:00:00\",\"2013-05-05T00:00:00\",\"2013-05-06T00:00:00\",\"2013-05-07T00:00:00\",\"2013-05-08T00:00:00\",\"2013-05-09T00:00:00\",\"2013-05-10T00:00:00\",\"2013-05-11T00:00:00\",\"2013-05-12T00:00:00\",\"2013-05-13T00:00:00\",\"2013-05-14T00:00:00\",\"2013-05-15T00:00:00\",\"2013-05-16T00:00:00\",\"2013-05-17T00:00:00\",\"2013-05-18T00:00:00\",\"2013-05-19T00:00:00\",\"2013-05-20T00:00:00\",\"2013-05-21T00:00:00\",\"2013-05-22T00:00:00\",\"2013-05-23T00:00:00\",\"2013-05-24T00:00:00\",\"2013-05-25T00:00:00\",\"2013-05-26T00:00:00\",\"2013-05-27T00:00:00\",\"2013-05-28T00:00:00\",\"2013-05-29T00:00:00\",\"2013-05-30T00:00:00\",\"2013-05-31T00:00:00\",\"2013-06-01T00:00:00\",\"2013-06-02T00:00:00\",\"2013-06-03T00:00:00\",\"2013-06-04T00:00:00\",\"2013-06-05T00:00:00\",\"2013-06-06T00:00:00\",\"2013-06-07T00:00:00\",\"2013-06-08T00:00:00\",\"2013-06-09T00:00:00\",\"2013-06-10T00:00:00\",\"2013-06-11T00:00:00\",\"2013-06-12T00:00:00\",\"2013-06-13T00:00:00\",\"2013-06-14T00:00:00\",\"2013-06-15T00:00:00\",\"2013-06-16T00:00:00\",\"2013-06-17T00:00:00\",\"2013-06-18T00:00:00\",\"2013-06-19T00:00:00\",\"2013-06-20T00:00:00\",\"2013-06-21T00:00:00\",\"2013-06-22T00:00:00\",\"2013-06-23T00:00:00\",\"2013-06-24T00:00:00\",\"2013-06-25T00:00:00\",\"2013-06-26T00:00:00\",\"2013-06-27T00:00:00\",\"2013-06-28T00:00:00\",\"2013-06-29T00:00:00\",\"2013-06-30T00:00:00\",\"2013-07-01T00:00:00\",\"2013-07-02T00:00:00\",\"2013-07-03T00:00:00\",\"2013-07-04T00:00:00\",\"2013-07-05T00:00:00\",\"2013-07-06T00:00:00\",\"2013-07-07T00:00:00\",\"2013-07-08T00:00:00\",\"2013-07-09T00:00:00\",\"2013-07-10T00:00:00\",\"2013-07-11T00:00:00\",\"2013-07-12T00:00:00\",\"2013-07-13T00:00:00\",\"2013-07-14T00:00:00\",\"2013-07-15T00:00:00\",\"2013-07-16T00:00:00\",\"2013-07-17T00:00:00\",\"2013-07-18T00:00:00\",\"2013-07-19T00:00:00\",\"2013-07-20T00:00:00\",\"2013-07-21T00:00:00\",\"2013-07-22T00:00:00\",\"2013-07-23T00:00:00\",\"2013-07-24T00:00:00\",\"2013-07-25T00:00:00\",\"2013-07-26T00:00:00\",\"2013-07-27T00:00:00\",\"2013-07-28T00:00:00\",\"2013-07-29T00:00:00\",\"2013-07-30T00:00:00\",\"2013-07-31T00:00:00\",\"2013-08-01T00:00:00\",\"2013-08-02T00:00:00\",\"2013-08-03T00:00:00\",\"2013-08-04T00:00:00\",\"2013-08-05T00:00:00\",\"2013-08-06T00:00:00\",\"2013-08-07T00:00:00\",\"2013-08-08T00:00:00\",\"2013-08-09T00:00:00\",\"2013-08-10T00:00:00\",\"2013-08-11T00:00:00\",\"2013-08-12T00:00:00\",\"2013-08-13T00:00:00\",\"2013-08-14T00:00:00\",\"2013-08-15T00:00:00\",\"2013-08-16T00:00:00\",\"2013-08-17T00:00:00\",\"2013-08-18T00:00:00\",\"2013-08-19T00:00:00\",\"2013-08-20T00:00:00\",\"2013-08-21T00:00:00\",\"2013-08-22T00:00:00\",\"2013-08-23T00:00:00\",\"2013-08-24T00:00:00\",\"2013-08-25T00:00:00\",\"2013-08-26T00:00:00\",\"2013-08-27T00:00:00\",\"2013-08-28T00:00:00\",\"2013-08-29T00:00:00\",\"2013-08-30T00:00:00\",\"2013-08-31T00:00:00\",\"2013-09-01T00:00:00\",\"2013-09-02T00:00:00\",\"2013-09-03T00:00:00\",\"2013-09-04T00:00:00\",\"2013-09-05T00:00:00\",\"2013-09-06T00:00:00\",\"2013-09-07T00:00:00\",\"2013-09-08T00:00:00\",\"2013-09-09T00:00:00\",\"2013-09-10T00:00:00\",\"2013-09-11T00:00:00\",\"2013-09-12T00:00:00\",\"2013-09-13T00:00:00\",\"2013-09-14T00:00:00\",\"2013-09-15T00:00:00\",\"2013-09-16T00:00:00\",\"2013-09-17T00:00:00\",\"2013-09-18T00:00:00\",\"2013-09-19T00:00:00\",\"2013-09-20T00:00:00\",\"2013-09-21T00:00:00\",\"2013-09-22T00:00:00\",\"2013-09-23T00:00:00\",\"2013-09-24T00:00:00\",\"2013-09-25T00:00:00\",\"2013-09-26T00:00:00\",\"2013-09-27T00:00:00\",\"2013-09-28T00:00:00\",\"2013-09-29T00:00:00\",\"2013-09-30T00:00:00\",\"2013-10-01T00:00:00\",\"2013-10-02T00:00:00\",\"2013-10-03T00:00:00\",\"2013-10-04T00:00:00\",\"2013-10-05T00:00:00\",\"2013-10-06T00:00:00\",\"2013-10-07T00:00:00\",\"2013-10-08T00:00:00\",\"2013-10-09T00:00:00\",\"2013-10-10T00:00:00\",\"2013-10-11T00:00:00\",\"2013-10-12T00:00:00\",\"2013-10-13T00:00:00\",\"2013-10-14T00:00:00\",\"2013-10-15T00:00:00\",\"2013-10-16T00:00:00\",\"2013-10-17T00:00:00\",\"2013-10-18T00:00:00\",\"2013-10-19T00:00:00\",\"2013-10-20T00:00:00\",\"2013-10-21T00:00:00\",\"2013-10-22T00:00:00\",\"2013-10-23T00:00:00\",\"2013-10-24T00:00:00\",\"2013-10-25T00:00:00\",\"2013-10-26T00:00:00\",\"2013-10-27T00:00:00\",\"2013-10-28T00:00:00\",\"2013-10-29T00:00:00\",\"2013-10-30T00:00:00\",\"2013-10-31T00:00:00\",\"2013-11-01T00:00:00\",\"2013-11-02T00:00:00\",\"2013-11-03T00:00:00\",\"2013-11-04T00:00:00\",\"2013-11-05T00:00:00\",\"2013-11-06T00:00:00\",\"2013-11-07T00:00:00\",\"2013-11-08T00:00:00\",\"2013-11-09T00:00:00\",\"2013-11-10T00:00:00\",\"2013-11-11T00:00:00\",\"2013-11-12T00:00:00\",\"2013-11-13T00:00:00\",\"2013-11-14T00:00:00\",\"2013-11-15T00:00:00\",\"2013-11-16T00:00:00\",\"2013-11-17T00:00:00\",\"2013-11-18T00:00:00\",\"2013-11-19T00:00:00\",\"2013-11-20T00:00:00\",\"2013-11-21T00:00:00\",\"2013-11-22T00:00:00\",\"2013-11-23T00:00:00\",\"2013-11-24T00:00:00\",\"2013-11-25T00:00:00\",\"2013-11-26T00:00:00\",\"2013-11-27T00:00:00\",\"2013-11-28T00:00:00\",\"2013-11-29T00:00:00\",\"2013-11-30T00:00:00\",\"2013-12-01T00:00:00\",\"2013-12-02T00:00:00\",\"2013-12-03T00:00:00\",\"2013-12-04T00:00:00\",\"2013-12-05T00:00:00\",\"2013-12-06T00:00:00\",\"2013-12-07T00:00:00\",\"2013-12-08T00:00:00\",\"2013-12-09T00:00:00\",\"2013-12-10T00:00:00\",\"2013-12-11T00:00:00\",\"2013-12-12T00:00:00\",\"2013-12-13T00:00:00\",\"2013-12-14T00:00:00\",\"2013-12-15T00:00:00\",\"2013-12-16T00:00:00\",\"2013-12-17T00:00:00\",\"2013-12-18T00:00:00\",\"2013-12-19T00:00:00\",\"2013-12-20T00:00:00\",\"2013-12-21T00:00:00\",\"2013-12-22T00:00:00\",\"2013-12-23T00:00:00\",\"2013-12-24T00:00:00\",\"2013-12-25T00:00:00\",\"2013-12-26T00:00:00\",\"2013-12-27T00:00:00\",\"2013-12-28T00:00:00\",\"2013-12-29T00:00:00\",\"2013-12-30T00:00:00\",\"2013-12-31T00:00:00\",\"2014-01-01T00:00:00\",\"2014-01-02T00:00:00\",\"2014-01-03T00:00:00\",\"2014-01-04T00:00:00\",\"2014-01-05T00:00:00\",\"2014-01-06T00:00:00\",\"2014-01-07T00:00:00\",\"2014-01-08T00:00:00\",\"2014-01-09T00:00:00\",\"2014-01-10T00:00:00\",\"2014-01-11T00:00:00\",\"2014-01-12T00:00:00\",\"2014-01-13T00:00:00\",\"2014-01-14T00:00:00\",\"2014-01-15T00:00:00\",\"2014-01-16T00:00:00\",\"2014-01-17T00:00:00\",\"2014-01-18T00:00:00\",\"2014-01-19T00:00:00\",\"2014-01-20T00:00:00\",\"2014-01-21T00:00:00\",\"2014-01-22T00:00:00\",\"2014-01-23T00:00:00\",\"2014-01-24T00:00:00\",\"2014-01-25T00:00:00\",\"2014-01-26T00:00:00\",\"2014-01-27T00:00:00\",\"2014-01-28T00:00:00\",\"2014-01-29T00:00:00\",\"2014-01-30T00:00:00\",\"2014-01-31T00:00:00\",\"2014-02-01T00:00:00\",\"2014-02-02T00:00:00\",\"2014-02-03T00:00:00\",\"2014-02-04T00:00:00\",\"2014-02-05T00:00:00\",\"2014-02-06T00:00:00\",\"2014-02-07T00:00:00\",\"2014-02-08T00:00:00\",\"2014-02-09T00:00:00\",\"2014-02-10T00:00:00\",\"2014-02-11T00:00:00\",\"2014-02-12T00:00:00\",\"2014-02-13T00:00:00\",\"2014-02-14T00:00:00\",\"2014-02-15T00:00:00\",\"2014-02-16T00:00:00\",\"2014-02-17T00:00:00\",\"2014-02-18T00:00:00\",\"2014-02-19T00:00:00\",\"2014-02-20T00:00:00\",\"2014-02-21T00:00:00\",\"2014-02-22T00:00:00\",\"2014-02-23T00:00:00\",\"2014-02-24T00:00:00\",\"2014-02-25T00:00:00\",\"2014-02-26T00:00:00\",\"2014-02-27T00:00:00\",\"2014-02-28T00:00:00\",\"2014-03-01T00:00:00\",\"2014-03-02T00:00:00\",\"2014-03-03T00:00:00\",\"2014-03-04T00:00:00\",\"2014-03-05T00:00:00\",\"2014-03-06T00:00:00\",\"2014-03-07T00:00:00\",\"2014-03-08T00:00:00\",\"2014-03-09T00:00:00\",\"2014-03-10T00:00:00\",\"2014-03-11T00:00:00\",\"2014-03-12T00:00:00\",\"2014-03-13T00:00:00\",\"2014-03-14T00:00:00\",\"2014-03-15T00:00:00\",\"2014-03-16T00:00:00\",\"2014-03-17T00:00:00\",\"2014-03-18T00:00:00\",\"2014-03-19T00:00:00\",\"2014-03-20T00:00:00\",\"2014-03-21T00:00:00\",\"2014-03-22T00:00:00\",\"2014-03-23T00:00:00\",\"2014-03-24T00:00:00\",\"2014-03-25T00:00:00\",\"2014-03-26T00:00:00\",\"2014-03-27T00:00:00\",\"2014-03-28T00:00:00\",\"2014-03-29T00:00:00\",\"2014-03-30T00:00:00\",\"2014-03-31T00:00:00\",\"2014-04-01T00:00:00\",\"2014-04-02T00:00:00\",\"2014-04-03T00:00:00\",\"2014-04-04T00:00:00\",\"2014-04-05T00:00:00\",\"2014-04-06T00:00:00\",\"2014-04-07T00:00:00\",\"2014-04-08T00:00:00\",\"2014-04-09T00:00:00\",\"2014-04-10T00:00:00\",\"2014-04-11T00:00:00\",\"2014-04-12T00:00:00\",\"2014-04-13T00:00:00\",\"2014-04-14T00:00:00\",\"2014-04-15T00:00:00\",\"2014-04-16T00:00:00\",\"2014-04-17T00:00:00\",\"2014-04-18T00:00:00\",\"2014-04-19T00:00:00\",\"2014-04-20T00:00:00\",\"2014-04-21T00:00:00\",\"2014-04-22T00:00:00\",\"2014-04-23T00:00:00\",\"2014-04-24T00:00:00\",\"2014-04-25T00:00:00\",\"2014-04-26T00:00:00\",\"2014-04-27T00:00:00\",\"2014-04-28T00:00:00\",\"2014-04-29T00:00:00\",\"2014-04-30T00:00:00\",\"2014-05-01T00:00:00\",\"2014-05-02T00:00:00\",\"2014-05-03T00:00:00\",\"2014-05-04T00:00:00\",\"2014-05-05T00:00:00\",\"2014-05-06T00:00:00\",\"2014-05-07T00:00:00\",\"2014-05-08T00:00:00\",\"2014-05-09T00:00:00\",\"2014-05-10T00:00:00\",\"2014-05-11T00:00:00\",\"2014-05-12T00:00:00\",\"2014-05-13T00:00:00\",\"2014-05-14T00:00:00\",\"2014-05-15T00:00:00\",\"2014-05-16T00:00:00\",\"2014-05-17T00:00:00\",\"2014-05-18T00:00:00\",\"2014-05-19T00:00:00\",\"2014-05-20T00:00:00\",\"2014-05-21T00:00:00\",\"2014-05-22T00:00:00\",\"2014-05-23T00:00:00\",\"2014-05-24T00:00:00\",\"2014-05-25T00:00:00\",\"2014-05-26T00:00:00\",\"2014-05-27T00:00:00\",\"2014-05-28T00:00:00\",\"2014-05-29T00:00:00\",\"2014-05-30T00:00:00\",\"2014-05-31T00:00:00\",\"2014-06-01T00:00:00\",\"2014-06-02T00:00:00\",\"2014-06-03T00:00:00\",\"2014-06-04T00:00:00\",\"2014-06-05T00:00:00\",\"2014-06-06T00:00:00\",\"2014-06-07T00:00:00\",\"2014-06-08T00:00:00\",\"2014-06-09T00:00:00\",\"2014-06-10T00:00:00\",\"2014-06-11T00:00:00\",\"2014-06-12T00:00:00\",\"2014-06-13T00:00:00\",\"2014-06-14T00:00:00\",\"2014-06-15T00:00:00\",\"2014-06-16T00:00:00\",\"2014-06-17T00:00:00\",\"2014-06-18T00:00:00\",\"2014-06-19T00:00:00\",\"2014-06-20T00:00:00\",\"2014-06-21T00:00:00\",\"2014-06-22T00:00:00\",\"2014-06-23T00:00:00\",\"2014-06-24T00:00:00\",\"2014-06-25T00:00:00\",\"2014-06-26T00:00:00\",\"2014-06-27T00:00:00\",\"2014-06-28T00:00:00\",\"2014-06-29T00:00:00\",\"2014-06-30T00:00:00\",\"2014-07-01T00:00:00\",\"2014-07-02T00:00:00\",\"2014-07-03T00:00:00\",\"2014-07-04T00:00:00\",\"2014-07-05T00:00:00\",\"2014-07-06T00:00:00\",\"2014-07-07T00:00:00\",\"2014-07-08T00:00:00\",\"2014-07-09T00:00:00\",\"2014-07-10T00:00:00\",\"2014-07-11T00:00:00\",\"2014-07-12T00:00:00\",\"2014-07-13T00:00:00\",\"2014-07-14T00:00:00\",\"2014-07-15T00:00:00\",\"2014-07-16T00:00:00\",\"2014-07-17T00:00:00\",\"2014-07-18T00:00:00\",\"2014-07-19T00:00:00\",\"2014-07-20T00:00:00\",\"2014-07-21T00:00:00\",\"2014-07-22T00:00:00\",\"2014-07-23T00:00:00\",\"2014-07-24T00:00:00\",\"2014-07-25T00:00:00\",\"2014-07-26T00:00:00\",\"2014-07-27T00:00:00\",\"2014-07-28T00:00:00\",\"2014-07-29T00:00:00\",\"2014-07-30T00:00:00\",\"2014-07-31T00:00:00\",\"2014-08-01T00:00:00\",\"2014-08-02T00:00:00\",\"2014-08-03T00:00:00\",\"2014-08-04T00:00:00\",\"2014-08-05T00:00:00\",\"2014-08-06T00:00:00\",\"2014-08-07T00:00:00\",\"2014-08-08T00:00:00\",\"2014-08-09T00:00:00\",\"2014-08-10T00:00:00\",\"2014-08-11T00:00:00\",\"2014-08-12T00:00:00\",\"2014-08-13T00:00:00\",\"2014-08-14T00:00:00\",\"2014-08-15T00:00:00\",\"2014-08-16T00:00:00\",\"2014-08-17T00:00:00\",\"2014-08-18T00:00:00\",\"2014-08-19T00:00:00\",\"2014-08-20T00:00:00\",\"2014-08-21T00:00:00\",\"2014-08-22T00:00:00\",\"2014-08-23T00:00:00\",\"2014-08-24T00:00:00\",\"2014-08-25T00:00:00\",\"2014-08-26T00:00:00\",\"2014-08-27T00:00:00\",\"2014-08-28T00:00:00\",\"2014-08-29T00:00:00\",\"2014-08-30T00:00:00\",\"2014-08-31T00:00:00\",\"2014-09-01T00:00:00\",\"2014-09-02T00:00:00\",\"2014-09-03T00:00:00\",\"2014-09-04T00:00:00\",\"2014-09-05T00:00:00\",\"2014-09-06T00:00:00\",\"2014-09-07T00:00:00\",\"2014-09-08T00:00:00\",\"2014-09-09T00:00:00\",\"2014-09-10T00:00:00\",\"2014-09-11T00:00:00\",\"2014-09-12T00:00:00\",\"2014-09-13T00:00:00\",\"2014-09-14T00:00:00\",\"2014-09-15T00:00:00\",\"2014-09-16T00:00:00\",\"2014-09-17T00:00:00\",\"2014-09-18T00:00:00\",\"2014-09-19T00:00:00\",\"2014-09-20T00:00:00\",\"2014-09-21T00:00:00\",\"2014-09-22T00:00:00\",\"2014-09-23T00:00:00\",\"2014-09-24T00:00:00\",\"2014-09-25T00:00:00\",\"2014-09-26T00:00:00\",\"2014-09-27T00:00:00\",\"2014-09-28T00:00:00\",\"2014-09-29T00:00:00\",\"2014-09-30T00:00:00\",\"2014-10-01T00:00:00\",\"2014-10-02T00:00:00\",\"2014-10-03T00:00:00\",\"2014-10-04T00:00:00\",\"2014-10-05T00:00:00\",\"2014-10-06T00:00:00\",\"2014-10-07T00:00:00\",\"2014-10-08T00:00:00\",\"2014-10-09T00:00:00\",\"2014-10-10T00:00:00\",\"2014-10-11T00:00:00\",\"2014-10-12T00:00:00\",\"2014-10-13T00:00:00\",\"2014-10-14T00:00:00\",\"2014-10-15T00:00:00\",\"2014-10-16T00:00:00\",\"2014-10-17T00:00:00\",\"2014-10-18T00:00:00\",\"2014-10-19T00:00:00\",\"2014-10-20T00:00:00\",\"2014-10-21T00:00:00\",\"2014-10-22T00:00:00\",\"2014-10-23T00:00:00\",\"2014-10-24T00:00:00\",\"2014-10-25T00:00:00\",\"2014-10-26T00:00:00\",\"2014-10-27T00:00:00\",\"2014-10-28T00:00:00\",\"2014-10-29T00:00:00\",\"2014-10-30T00:00:00\",\"2014-10-31T00:00:00\",\"2014-11-01T00:00:00\",\"2014-11-02T00:00:00\",\"2014-11-03T00:00:00\",\"2014-11-04T00:00:00\",\"2014-11-05T00:00:00\",\"2014-11-06T00:00:00\",\"2014-11-07T00:00:00\",\"2014-11-08T00:00:00\",\"2014-11-09T00:00:00\",\"2014-11-10T00:00:00\",\"2014-11-11T00:00:00\",\"2014-11-12T00:00:00\",\"2014-11-13T00:00:00\",\"2014-11-14T00:00:00\",\"2014-11-15T00:00:00\",\"2014-11-16T00:00:00\",\"2014-11-17T00:00:00\",\"2014-11-18T00:00:00\",\"2014-11-19T00:00:00\",\"2014-11-20T00:00:00\",\"2014-11-21T00:00:00\",\"2014-11-22T00:00:00\",\"2014-11-23T00:00:00\",\"2014-11-24T00:00:00\",\"2014-11-25T00:00:00\",\"2014-11-26T00:00:00\",\"2014-11-27T00:00:00\",\"2014-11-28T00:00:00\",\"2014-11-29T00:00:00\",\"2014-11-30T00:00:00\",\"2014-12-01T00:00:00\",\"2014-12-02T00:00:00\",\"2014-12-03T00:00:00\",\"2014-12-04T00:00:00\",\"2014-12-05T00:00:00\",\"2014-12-06T00:00:00\",\"2014-12-07T00:00:00\",\"2014-12-08T00:00:00\",\"2014-12-09T00:00:00\",\"2014-12-10T00:00:00\",\"2014-12-11T00:00:00\",\"2014-12-12T00:00:00\",\"2014-12-13T00:00:00\",\"2014-12-14T00:00:00\",\"2014-12-15T00:00:00\",\"2014-12-16T00:00:00\",\"2014-12-17T00:00:00\",\"2014-12-18T00:00:00\",\"2014-12-19T00:00:00\",\"2014-12-20T00:00:00\",\"2014-12-21T00:00:00\",\"2014-12-22T00:00:00\",\"2014-12-23T00:00:00\",\"2014-12-24T00:00:00\",\"2014-12-25T00:00:00\",\"2014-12-26T00:00:00\",\"2014-12-27T00:00:00\",\"2014-12-28T00:00:00\",\"2014-12-29T00:00:00\",\"2014-12-30T00:00:00\",\"2014-12-31T00:00:00\",\"2015-01-01T00:00:00\",\"2015-01-02T00:00:00\",\"2015-01-03T00:00:00\",\"2015-01-04T00:00:00\",\"2015-01-05T00:00:00\",\"2015-01-06T00:00:00\",\"2015-01-07T00:00:00\",\"2015-01-08T00:00:00\",\"2015-01-09T00:00:00\",\"2015-01-10T00:00:00\",\"2015-01-11T00:00:00\",\"2015-01-12T00:00:00\",\"2015-01-13T00:00:00\",\"2015-01-14T00:00:00\",\"2015-01-15T00:00:00\",\"2015-01-16T00:00:00\",\"2015-01-17T00:00:00\",\"2015-01-18T00:00:00\",\"2015-01-19T00:00:00\",\"2015-01-20T00:00:00\",\"2015-01-21T00:00:00\",\"2015-01-22T00:00:00\",\"2015-01-23T00:00:00\",\"2015-01-24T00:00:00\",\"2015-01-25T00:00:00\",\"2015-01-26T00:00:00\",\"2015-01-27T00:00:00\",\"2015-01-28T00:00:00\",\"2015-01-29T00:00:00\",\"2015-01-30T00:00:00\",\"2015-01-31T00:00:00\",\"2015-02-01T00:00:00\",\"2015-02-02T00:00:00\",\"2015-02-03T00:00:00\",\"2015-02-04T00:00:00\",\"2015-02-05T00:00:00\",\"2015-02-06T00:00:00\",\"2015-02-07T00:00:00\",\"2015-02-08T00:00:00\",\"2015-02-09T00:00:00\",\"2015-02-10T00:00:00\",\"2015-02-11T00:00:00\",\"2015-02-12T00:00:00\",\"2015-02-13T00:00:00\",\"2015-02-14T00:00:00\",\"2015-02-15T00:00:00\",\"2015-02-16T00:00:00\",\"2015-02-17T00:00:00\",\"2015-02-18T00:00:00\",\"2015-02-19T00:00:00\",\"2015-02-20T00:00:00\",\"2015-02-21T00:00:00\",\"2015-02-22T00:00:00\",\"2015-02-23T00:00:00\",\"2015-02-24T00:00:00\",\"2015-02-25T00:00:00\",\"2015-02-26T00:00:00\",\"2015-02-27T00:00:00\",\"2015-02-28T00:00:00\",\"2015-03-01T00:00:00\",\"2015-03-02T00:00:00\",\"2015-03-03T00:00:00\",\"2015-03-04T00:00:00\",\"2015-03-05T00:00:00\",\"2015-03-06T00:00:00\",\"2015-03-07T00:00:00\",\"2015-03-08T00:00:00\",\"2015-03-09T00:00:00\",\"2015-03-10T00:00:00\",\"2015-03-11T00:00:00\",\"2015-03-12T00:00:00\",\"2015-03-13T00:00:00\",\"2015-03-14T00:00:00\",\"2015-03-15T00:00:00\",\"2015-03-16T00:00:00\",\"2015-03-17T00:00:00\",\"2015-03-18T00:00:00\",\"2015-03-19T00:00:00\",\"2015-03-20T00:00:00\",\"2015-03-21T00:00:00\",\"2015-03-22T00:00:00\",\"2015-03-23T00:00:00\",\"2015-03-24T00:00:00\",\"2015-03-25T00:00:00\",\"2015-03-26T00:00:00\",\"2015-03-27T00:00:00\",\"2015-03-28T00:00:00\",\"2015-03-29T00:00:00\",\"2015-03-30T00:00:00\",\"2015-03-31T00:00:00\",\"2015-04-01T00:00:00\",\"2015-04-02T00:00:00\",\"2015-04-03T00:00:00\",\"2015-04-04T00:00:00\",\"2015-04-05T00:00:00\",\"2015-04-06T00:00:00\",\"2015-04-07T00:00:00\",\"2015-04-08T00:00:00\",\"2015-04-09T00:00:00\",\"2015-04-10T00:00:00\",\"2015-04-11T00:00:00\",\"2015-04-12T00:00:00\",\"2015-04-13T00:00:00\",\"2015-04-14T00:00:00\",\"2015-04-15T00:00:00\",\"2015-04-16T00:00:00\",\"2015-04-17T00:00:00\",\"2015-04-18T00:00:00\",\"2015-04-19T00:00:00\",\"2015-04-20T00:00:00\",\"2015-04-21T00:00:00\",\"2015-04-22T00:00:00\",\"2015-04-23T00:00:00\",\"2015-04-24T00:00:00\",\"2015-04-25T00:00:00\",\"2015-04-26T00:00:00\",\"2015-04-27T00:00:00\",\"2015-04-28T00:00:00\",\"2015-04-29T00:00:00\",\"2015-04-30T00:00:00\",\"2015-05-01T00:00:00\",\"2015-05-02T00:00:00\",\"2015-05-03T00:00:00\",\"2015-05-04T00:00:00\",\"2015-05-05T00:00:00\",\"2015-05-06T00:00:00\",\"2015-05-07T00:00:00\",\"2015-05-08T00:00:00\",\"2015-05-09T00:00:00\",\"2015-05-10T00:00:00\",\"2015-05-11T00:00:00\",\"2015-05-12T00:00:00\",\"2015-05-13T00:00:00\",\"2015-05-14T00:00:00\",\"2015-05-15T00:00:00\",\"2015-05-16T00:00:00\",\"2015-05-17T00:00:00\",\"2015-05-18T00:00:00\",\"2015-05-19T00:00:00\",\"2015-05-20T00:00:00\",\"2015-05-21T00:00:00\",\"2015-05-22T00:00:00\",\"2015-05-23T00:00:00\",\"2015-05-24T00:00:00\",\"2015-05-25T00:00:00\",\"2015-05-26T00:00:00\",\"2015-05-27T00:00:00\",\"2015-05-28T00:00:00\",\"2015-05-29T00:00:00\",\"2015-05-30T00:00:00\",\"2015-05-31T00:00:00\",\"2015-06-01T00:00:00\",\"2015-06-02T00:00:00\",\"2015-06-03T00:00:00\",\"2015-06-04T00:00:00\",\"2015-06-05T00:00:00\",\"2015-06-06T00:00:00\",\"2015-06-07T00:00:00\",\"2015-06-08T00:00:00\",\"2015-06-09T00:00:00\",\"2015-06-10T00:00:00\",\"2015-06-11T00:00:00\",\"2015-06-12T00:00:00\",\"2015-06-13T00:00:00\",\"2015-06-14T00:00:00\",\"2015-06-15T00:00:00\",\"2015-06-16T00:00:00\",\"2015-06-17T00:00:00\",\"2015-06-18T00:00:00\",\"2015-06-19T00:00:00\",\"2015-06-20T00:00:00\",\"2015-06-21T00:00:00\",\"2015-06-22T00:00:00\",\"2015-06-23T00:00:00\",\"2015-06-24T00:00:00\",\"2015-06-25T00:00:00\",\"2015-06-26T00:00:00\",\"2015-06-27T00:00:00\",\"2015-06-28T00:00:00\",\"2015-06-29T00:00:00\",\"2015-06-30T00:00:00\",\"2015-07-01T00:00:00\",\"2015-07-02T00:00:00\",\"2015-07-03T00:00:00\",\"2015-07-04T00:00:00\",\"2015-07-05T00:00:00\",\"2015-07-06T00:00:00\",\"2015-07-07T00:00:00\",\"2015-07-08T00:00:00\",\"2015-07-09T00:00:00\",\"2015-07-10T00:00:00\",\"2015-07-11T00:00:00\",\"2015-07-12T00:00:00\",\"2015-07-13T00:00:00\",\"2015-07-14T00:00:00\",\"2015-07-15T00:00:00\",\"2015-07-16T00:00:00\",\"2015-07-17T00:00:00\",\"2015-07-18T00:00:00\",\"2015-07-19T00:00:00\",\"2015-07-20T00:00:00\",\"2015-07-21T00:00:00\",\"2015-07-22T00:00:00\",\"2015-07-23T00:00:00\",\"2015-07-24T00:00:00\",\"2015-07-25T00:00:00\",\"2015-07-26T00:00:00\",\"2015-07-27T00:00:00\",\"2015-07-28T00:00:00\",\"2015-07-29T00:00:00\",\"2015-07-30T00:00:00\",\"2015-07-31T00:00:00\",\"2015-08-01T00:00:00\",\"2015-08-02T00:00:00\",\"2015-08-03T00:00:00\",\"2015-08-04T00:00:00\",\"2015-08-05T00:00:00\",\"2015-08-06T00:00:00\",\"2015-08-07T00:00:00\",\"2015-08-08T00:00:00\",\"2015-08-09T00:00:00\",\"2015-08-10T00:00:00\",\"2015-08-11T00:00:00\",\"2015-08-12T00:00:00\",\"2015-08-13T00:00:00\",\"2015-08-14T00:00:00\",\"2015-08-15T00:00:00\",\"2015-08-16T00:00:00\",\"2015-08-17T00:00:00\",\"2015-08-18T00:00:00\",\"2015-08-19T00:00:00\",\"2015-08-20T00:00:00\",\"2015-08-21T00:00:00\",\"2015-08-22T00:00:00\",\"2015-08-23T00:00:00\",\"2015-08-24T00:00:00\",\"2015-08-25T00:00:00\",\"2015-08-26T00:00:00\",\"2015-08-27T00:00:00\",\"2015-08-28T00:00:00\",\"2015-08-29T00:00:00\",\"2015-08-30T00:00:00\",\"2015-08-31T00:00:00\",\"2015-09-01T00:00:00\",\"2015-09-02T00:00:00\",\"2015-09-03T00:00:00\",\"2015-09-04T00:00:00\",\"2015-09-05T00:00:00\",\"2015-09-06T00:00:00\",\"2015-09-07T00:00:00\",\"2015-09-08T00:00:00\",\"2015-09-09T00:00:00\",\"2015-09-10T00:00:00\",\"2015-09-11T00:00:00\",\"2015-09-12T00:00:00\",\"2015-09-13T00:00:00\",\"2015-09-14T00:00:00\",\"2015-09-15T00:00:00\",\"2015-09-16T00:00:00\",\"2015-09-17T00:00:00\",\"2015-09-18T00:00:00\",\"2015-09-19T00:00:00\",\"2015-09-20T00:00:00\",\"2015-09-21T00:00:00\",\"2015-09-22T00:00:00\",\"2015-09-23T00:00:00\",\"2015-09-24T00:00:00\",\"2015-09-25T00:00:00\",\"2015-09-26T00:00:00\",\"2015-09-27T00:00:00\",\"2015-09-28T00:00:00\",\"2015-09-29T00:00:00\",\"2015-09-30T00:00:00\",\"2015-10-01T00:00:00\",\"2015-10-02T00:00:00\",\"2015-10-03T00:00:00\",\"2015-10-04T00:00:00\",\"2015-10-05T00:00:00\",\"2015-10-06T00:00:00\",\"2015-10-07T00:00:00\",\"2015-10-08T00:00:00\",\"2015-10-09T00:00:00\",\"2015-10-10T00:00:00\",\"2015-10-11T00:00:00\",\"2015-10-12T00:00:00\",\"2015-10-13T00:00:00\",\"2015-10-14T00:00:00\",\"2015-10-15T00:00:00\",\"2015-10-16T00:00:00\",\"2015-10-17T00:00:00\",\"2015-10-18T00:00:00\",\"2015-10-19T00:00:00\",\"2015-10-20T00:00:00\",\"2015-10-21T00:00:00\",\"2015-10-22T00:00:00\",\"2015-10-23T00:00:00\",\"2015-10-24T00:00:00\",\"2015-10-25T00:00:00\",\"2015-10-26T00:00:00\",\"2015-10-27T00:00:00\",\"2015-10-28T00:00:00\",\"2015-10-29T00:00:00\",\"2015-10-30T00:00:00\",\"2015-10-31T00:00:00\",\"2015-11-01T00:00:00\",\"2015-11-02T00:00:00\",\"2015-11-03T00:00:00\",\"2015-11-04T00:00:00\",\"2015-11-05T00:00:00\",\"2015-11-06T00:00:00\",\"2015-11-07T00:00:00\",\"2015-11-08T00:00:00\",\"2015-11-09T00:00:00\",\"2015-11-10T00:00:00\",\"2015-11-11T00:00:00\",\"2015-11-12T00:00:00\",\"2015-11-13T00:00:00\",\"2015-11-14T00:00:00\",\"2015-11-15T00:00:00\",\"2015-11-16T00:00:00\",\"2015-11-17T00:00:00\",\"2015-11-18T00:00:00\",\"2015-11-19T00:00:00\",\"2015-11-20T00:00:00\",\"2015-11-21T00:00:00\",\"2015-11-22T00:00:00\",\"2015-11-23T00:00:00\",\"2015-11-24T00:00:00\",\"2015-11-25T00:00:00\",\"2015-11-26T00:00:00\",\"2015-11-27T00:00:00\",\"2015-11-28T00:00:00\",\"2015-11-29T00:00:00\",\"2015-11-30T00:00:00\",\"2015-12-01T00:00:00\",\"2015-12-02T00:00:00\",\"2015-12-03T00:00:00\",\"2015-12-04T00:00:00\",\"2015-12-05T00:00:00\",\"2015-12-06T00:00:00\",\"2015-12-07T00:00:00\",\"2015-12-08T00:00:00\",\"2015-12-09T00:00:00\",\"2015-12-10T00:00:00\",\"2015-12-11T00:00:00\",\"2015-12-12T00:00:00\",\"2015-12-13T00:00:00\",\"2015-12-14T00:00:00\",\"2015-12-15T00:00:00\",\"2015-12-16T00:00:00\",\"2015-12-17T00:00:00\",\"2015-12-18T00:00:00\",\"2015-12-19T00:00:00\",\"2015-12-20T00:00:00\",\"2015-12-21T00:00:00\",\"2015-12-22T00:00:00\",\"2015-12-23T00:00:00\",\"2015-12-24T00:00:00\",\"2015-12-25T00:00:00\",\"2015-12-26T00:00:00\",\"2015-12-27T00:00:00\",\"2015-12-28T00:00:00\",\"2015-12-29T00:00:00\",\"2015-12-30T00:00:00\",\"2015-12-31T00:00:00\",\"2016-01-01T00:00:00\",\"2016-01-02T00:00:00\",\"2016-01-03T00:00:00\",\"2016-01-04T00:00:00\",\"2016-01-05T00:00:00\",\"2016-01-06T00:00:00\",\"2016-01-07T00:00:00\",\"2016-01-08T00:00:00\",\"2016-01-09T00:00:00\",\"2016-01-10T00:00:00\",\"2016-01-11T00:00:00\",\"2016-01-12T00:00:00\",\"2016-01-13T00:00:00\",\"2016-01-14T00:00:00\",\"2016-01-15T00:00:00\",\"2016-01-16T00:00:00\",\"2016-01-17T00:00:00\",\"2016-01-18T00:00:00\",\"2016-01-19T00:00:00\",\"2016-01-20T00:00:00\",\"2016-01-21T00:00:00\",\"2016-01-22T00:00:00\",\"2016-01-23T00:00:00\",\"2016-01-24T00:00:00\",\"2016-01-25T00:00:00\",\"2016-01-26T00:00:00\",\"2016-01-27T00:00:00\",\"2016-01-28T00:00:00\",\"2016-01-29T00:00:00\",\"2016-01-30T00:00:00\",\"2016-01-31T00:00:00\",\"2016-02-01T00:00:00\",\"2016-02-02T00:00:00\",\"2016-02-03T00:00:00\",\"2016-02-04T00:00:00\",\"2016-02-05T00:00:00\",\"2016-02-06T00:00:00\",\"2016-02-07T00:00:00\",\"2016-02-08T00:00:00\",\"2016-02-09T00:00:00\",\"2016-02-10T00:00:00\",\"2016-02-11T00:00:00\",\"2016-02-12T00:00:00\",\"2016-02-13T00:00:00\",\"2016-02-14T00:00:00\",\"2016-02-15T00:00:00\",\"2016-02-16T00:00:00\",\"2016-02-17T00:00:00\",\"2016-02-18T00:00:00\",\"2016-02-19T00:00:00\",\"2016-02-20T00:00:00\",\"2016-02-21T00:00:00\",\"2016-02-22T00:00:00\",\"2016-02-23T00:00:00\",\"2016-02-24T00:00:00\",\"2016-02-25T00:00:00\",\"2016-02-26T00:00:00\",\"2016-02-27T00:00:00\",\"2016-02-28T00:00:00\",\"2016-02-29T00:00:00\",\"2016-03-01T00:00:00\",\"2016-03-02T00:00:00\",\"2016-03-03T00:00:00\",\"2016-03-04T00:00:00\",\"2016-03-05T00:00:00\",\"2016-03-06T00:00:00\",\"2016-03-07T00:00:00\",\"2016-03-08T00:00:00\",\"2016-03-09T00:00:00\",\"2016-03-10T00:00:00\",\"2016-03-11T00:00:00\",\"2016-03-12T00:00:00\",\"2016-03-13T00:00:00\",\"2016-03-14T00:00:00\",\"2016-03-15T00:00:00\",\"2016-03-16T00:00:00\",\"2016-03-17T00:00:00\",\"2016-03-18T00:00:00\",\"2016-03-19T00:00:00\",\"2016-03-20T00:00:00\",\"2016-03-21T00:00:00\",\"2016-03-22T00:00:00\",\"2016-03-23T00:00:00\",\"2016-03-24T00:00:00\",\"2016-03-25T00:00:00\",\"2016-03-26T00:00:00\",\"2016-03-27T00:00:00\",\"2016-03-28T00:00:00\",\"2016-03-29T00:00:00\",\"2016-03-30T00:00:00\",\"2016-03-31T00:00:00\",\"2016-04-01T00:00:00\",\"2016-04-02T00:00:00\",\"2016-04-03T00:00:00\",\"2016-04-04T00:00:00\",\"2016-04-05T00:00:00\",\"2016-04-06T00:00:00\",\"2016-04-07T00:00:00\",\"2016-04-08T00:00:00\",\"2016-04-09T00:00:00\",\"2016-04-10T00:00:00\",\"2016-04-11T00:00:00\",\"2016-04-12T00:00:00\",\"2016-04-13T00:00:00\",\"2016-04-14T00:00:00\",\"2016-04-15T00:00:00\",\"2016-04-16T00:00:00\",\"2016-04-17T00:00:00\",\"2016-04-18T00:00:00\",\"2016-04-19T00:00:00\",\"2016-04-20T00:00:00\",\"2016-04-21T00:00:00\",\"2016-04-22T00:00:00\",\"2016-04-23T00:00:00\",\"2016-04-24T00:00:00\",\"2016-04-25T00:00:00\",\"2016-04-26T00:00:00\",\"2016-04-27T00:00:00\",\"2016-04-28T00:00:00\",\"2016-04-29T00:00:00\",\"2016-04-30T00:00:00\",\"2016-05-01T00:00:00\",\"2016-05-02T00:00:00\",\"2016-05-03T00:00:00\",\"2016-05-04T00:00:00\",\"2016-05-05T00:00:00\",\"2016-05-06T00:00:00\",\"2016-05-07T00:00:00\",\"2016-05-08T00:00:00\",\"2016-05-09T00:00:00\",\"2016-05-10T00:00:00\",\"2016-05-11T00:00:00\",\"2016-05-12T00:00:00\",\"2016-05-13T00:00:00\",\"2016-05-14T00:00:00\",\"2016-05-15T00:00:00\",\"2016-05-16T00:00:00\",\"2016-05-17T00:00:00\",\"2016-05-18T00:00:00\",\"2016-05-19T00:00:00\",\"2016-05-20T00:00:00\",\"2016-05-21T00:00:00\",\"2016-05-22T00:00:00\",\"2016-05-23T00:00:00\",\"2016-05-24T00:00:00\",\"2016-05-25T00:00:00\",\"2016-05-26T00:00:00\",\"2016-05-27T00:00:00\",\"2016-05-28T00:00:00\",\"2016-05-29T00:00:00\",\"2016-05-30T00:00:00\",\"2016-05-31T00:00:00\",\"2016-06-01T00:00:00\",\"2016-06-02T00:00:00\",\"2016-06-03T00:00:00\",\"2016-06-04T00:00:00\",\"2016-06-05T00:00:00\",\"2016-06-06T00:00:00\",\"2016-06-07T00:00:00\",\"2016-06-08T00:00:00\",\"2016-06-09T00:00:00\",\"2016-06-10T00:00:00\",\"2016-06-11T00:00:00\",\"2016-06-12T00:00:00\",\"2016-06-13T00:00:00\",\"2016-06-14T00:00:00\",\"2016-06-15T00:00:00\",\"2016-06-16T00:00:00\",\"2016-06-17T00:00:00\",\"2016-06-18T00:00:00\",\"2016-06-19T00:00:00\",\"2016-06-20T00:00:00\",\"2016-06-21T00:00:00\",\"2016-06-22T00:00:00\",\"2016-06-23T00:00:00\",\"2016-06-24T00:00:00\",\"2016-06-25T00:00:00\",\"2016-06-26T00:00:00\",\"2016-06-27T00:00:00\",\"2016-06-28T00:00:00\",\"2016-06-29T00:00:00\",\"2016-06-30T00:00:00\",\"2016-07-01T00:00:00\",\"2016-07-02T00:00:00\",\"2016-07-03T00:00:00\",\"2016-07-04T00:00:00\",\"2016-07-05T00:00:00\",\"2016-07-06T00:00:00\",\"2016-07-07T00:00:00\",\"2016-07-08T00:00:00\",\"2016-07-09T00:00:00\",\"2016-07-10T00:00:00\",\"2016-07-11T00:00:00\",\"2016-07-12T00:00:00\",\"2016-07-13T00:00:00\",\"2016-07-14T00:00:00\",\"2016-07-15T00:00:00\",\"2016-07-16T00:00:00\",\"2016-07-17T00:00:00\",\"2016-07-18T00:00:00\",\"2016-07-19T00:00:00\",\"2016-07-20T00:00:00\",\"2016-07-21T00:00:00\",\"2016-07-22T00:00:00\",\"2016-07-23T00:00:00\",\"2016-07-24T00:00:00\",\"2016-07-25T00:00:00\",\"2016-07-26T00:00:00\",\"2016-07-27T00:00:00\",\"2016-07-28T00:00:00\",\"2016-07-29T00:00:00\",\"2016-07-30T00:00:00\",\"2016-07-31T00:00:00\",\"2016-08-01T00:00:00\",\"2016-08-02T00:00:00\",\"2016-08-03T00:00:00\",\"2016-08-04T00:00:00\",\"2016-08-05T00:00:00\",\"2016-08-06T00:00:00\",\"2016-08-07T00:00:00\",\"2016-08-08T00:00:00\",\"2016-08-09T00:00:00\",\"2016-08-10T00:00:00\",\"2016-08-11T00:00:00\",\"2016-08-12T00:00:00\",\"2016-08-13T00:00:00\",\"2016-08-14T00:00:00\",\"2016-08-15T00:00:00\",\"2016-08-16T00:00:00\",\"2016-08-17T00:00:00\",\"2016-08-18T00:00:00\",\"2016-08-19T00:00:00\",\"2016-08-20T00:00:00\",\"2016-08-21T00:00:00\",\"2016-08-22T00:00:00\",\"2016-08-23T00:00:00\",\"2016-08-24T00:00:00\",\"2016-08-25T00:00:00\",\"2016-08-26T00:00:00\",\"2016-08-27T00:00:00\",\"2016-08-28T00:00:00\",\"2016-08-29T00:00:00\",\"2016-08-30T00:00:00\",\"2016-08-31T00:00:00\",\"2016-09-01T00:00:00\",\"2016-09-02T00:00:00\",\"2016-09-03T00:00:00\",\"2016-09-04T00:00:00\",\"2016-09-05T00:00:00\",\"2016-09-06T00:00:00\",\"2016-09-07T00:00:00\",\"2016-09-08T00:00:00\",\"2016-09-09T00:00:00\",\"2016-09-10T00:00:00\",\"2016-09-11T00:00:00\",\"2016-09-12T00:00:00\",\"2016-09-13T00:00:00\",\"2016-09-14T00:00:00\",\"2016-09-15T00:00:00\",\"2016-09-16T00:00:00\",\"2016-09-17T00:00:00\",\"2016-09-18T00:00:00\",\"2016-09-19T00:00:00\",\"2016-09-20T00:00:00\",\"2016-09-21T00:00:00\",\"2016-09-22T00:00:00\",\"2016-09-23T00:00:00\",\"2016-09-24T00:00:00\",\"2016-09-25T00:00:00\",\"2016-09-26T00:00:00\",\"2016-09-27T00:00:00\",\"2016-09-28T00:00:00\",\"2016-09-29T00:00:00\",\"2016-09-30T00:00:00\",\"2016-10-01T00:00:00\",\"2016-10-02T00:00:00\",\"2016-10-03T00:00:00\",\"2016-10-04T00:00:00\",\"2016-10-05T00:00:00\",\"2016-10-06T00:00:00\",\"2016-10-07T00:00:00\",\"2016-10-08T00:00:00\",\"2016-10-09T00:00:00\",\"2016-10-10T00:00:00\",\"2016-10-11T00:00:00\",\"2016-10-12T00:00:00\",\"2016-10-13T00:00:00\",\"2016-10-14T00:00:00\",\"2016-10-15T00:00:00\",\"2016-10-16T00:00:00\",\"2016-10-17T00:00:00\",\"2016-10-18T00:00:00\",\"2016-10-19T00:00:00\",\"2016-10-20T00:00:00\",\"2016-10-21T00:00:00\",\"2016-10-22T00:00:00\",\"2016-10-23T00:00:00\",\"2016-10-24T00:00:00\",\"2016-10-25T00:00:00\",\"2016-10-26T00:00:00\",\"2016-10-27T00:00:00\",\"2016-10-28T00:00:00\",\"2016-10-29T00:00:00\",\"2016-10-30T00:00:00\",\"2016-10-31T00:00:00\",\"2016-11-01T00:00:00\",\"2016-11-02T00:00:00\",\"2016-11-03T00:00:00\",\"2016-11-04T00:00:00\",\"2016-11-05T00:00:00\",\"2016-11-06T00:00:00\",\"2016-11-07T00:00:00\",\"2016-11-08T00:00:00\",\"2016-11-09T00:00:00\",\"2016-11-10T00:00:00\",\"2016-11-11T00:00:00\",\"2016-11-12T00:00:00\",\"2016-11-13T00:00:00\",\"2016-11-14T00:00:00\",\"2016-11-15T00:00:00\",\"2016-11-16T00:00:00\",\"2016-11-17T00:00:00\",\"2016-11-18T00:00:00\",\"2016-11-19T00:00:00\",\"2016-11-20T00:00:00\",\"2016-11-21T00:00:00\",\"2016-11-22T00:00:00\",\"2016-11-23T00:00:00\",\"2016-11-24T00:00:00\",\"2016-11-25T00:00:00\",\"2016-11-26T00:00:00\",\"2016-11-27T00:00:00\",\"2016-11-28T00:00:00\",\"2016-11-29T00:00:00\",\"2016-11-30T00:00:00\",\"2016-12-01T00:00:00\",\"2016-12-02T00:00:00\",\"2016-12-03T00:00:00\",\"2016-12-04T00:00:00\",\"2016-12-05T00:00:00\",\"2016-12-06T00:00:00\",\"2016-12-07T00:00:00\",\"2016-12-08T00:00:00\",\"2016-12-09T00:00:00\",\"2016-12-10T00:00:00\",\"2016-12-11T00:00:00\",\"2016-12-12T00:00:00\",\"2016-12-13T00:00:00\",\"2016-12-14T00:00:00\",\"2016-12-15T00:00:00\",\"2016-12-16T00:00:00\",\"2016-12-17T00:00:00\",\"2016-12-18T00:00:00\",\"2016-12-19T00:00:00\",\"2016-12-20T00:00:00\",\"2016-12-21T00:00:00\",\"2016-12-22T00:00:00\",\"2016-12-23T00:00:00\",\"2016-12-24T00:00:00\",\"2016-12-25T00:00:00\",\"2016-12-26T00:00:00\",\"2016-12-27T00:00:00\",\"2016-12-28T00:00:00\",\"2016-12-29T00:00:00\",\"2016-12-30T00:00:00\",\"2016-12-31T00:00:00\",\"2017-01-01T00:00:00\"],\"y\":[84.5,92.0,87.0,71.33333333333333,86.83333333333333,82.8,78.6,63.71428571428572,51.25,62.0,51.285714285714285,74.0,75.16666666666667,88.16666666666667,71.85714285714286,86.66666666666667,80.83333333333333,92.16666666666669,76.66666666666667,75.28571428571429,77.0,79.66666666666667,60.16666666666666,60.66666666666666,67.0,64.16666666666667,65.57142857142857,56.0,65.5,70.42857142857143,65.6,73.0,77.57142857142857,65.57142857142857,74.28571428571429,92.375,71.33333333333333,59.4,70.42857142857143,61.285714285714285,71.5,70.5,70.33333333333333,70.14285714285714,63.833333333333336,65.33333333333333,92.71428571428572,90.0,78.4,82.0,74.71428571428571,67.28571428571429,65.625,74.85714285714286,78.85714285714286,72.875,70.0,57.2,52.85714285714285,49.333333333333336,54.0,62.833333333333336,71.0,61.875,65.28571428571429,57.142857142857146,44.833333333333336,49.71428571428572,57.57142857142857,66.33333333333333,62.5,70.5,61.16666666666666,45.833333333333336,67.66666666666667,58.66666666666666,58.142857142857146,73.66666666666667,36.333333333333336,58.5,50.25,50.125,48.75,45.5,44.57142857142857,62.0,62.71428571428572,70.375,54.75,58.0,45.5,51.0,45.6,41.8,31.0,29.857142857142858,23.285714285714285,33.857142857142854,30.5,28.0,24.2,32.57142857142857,29.2,39.375,41.375,24.625,24.2,30.285714285714285,31.285714285714285,29.0,38.66666666666666,45.375,44.125,41.71428571428572,38.285714285714285,45.875,31.428571428571427,28.0,26.375,32.0,15.857142857142858,22.166666666666668,31.571428571428573,31.428571428571427,31.125,39.25,33.25,23.0,26.0,27.714285714285715,30.375,40.142857142857146,34.0,34.285714285714285,33.0,34.75,28.166666666666668,42.2,22.33333333333333,24.2,19.0,22.125,23.33333333333333,27.428571428571427,22.428571428571427,21.2,31.571428571428573,29.0,27.857142857142858,28.2,40.125,54.0,56.6,47.0,42.57142857142857,36.5,61.71428571428572,49.25,57.4,40.0,42.75,61.66666666666666,54.142857142857146,68.66666666666667,68.14285714285714,65.0,88.85714285714286,87.375,83.6,72.85714285714286,52.71428571428572,47.333333333333336,39.4,53.0,55.0,70.42857142857143,71.5,61.85714285714285,64.25,57.0,52.16666666666666,54.0,58.285714285714285,70.0,67.5,62.2,73.14285714285714,77.33333333333333,75.16666666666667,78.83333333333333,75.375,65.5,86.625,70.25,71.625,73.25,83.875,78.375,76.0,73.5,90.66666666666669,88.0,80.33333333333333,70.71428571428571,84.14285714285714,84.5,73.85714285714286,79.0,67.42857142857143,77.42857142857143,75.66666666666667,78.5,73.5,66.42857142857143,62.333333333333336,62.5,77.0,90.66666666666669,85.25,84.0,87.5,79.85714285714286,76.83333333333333,81.5,72.0,74.33333333333333,85.0,92.0,91.0,83.83333333333333,84.66666666666667,88.5,81.16666666666667,74.83333333333333,73.14285714285714,71.25,90.75,69.875,57.285714285714285,60.71428571428572,57.0,73.0,71.75,65.2,50.85714285714285,45.5,48.0,46.0,55.71428571428572,51.833333333333336,71.75,57.5,66.33333333333333,61.142857142857146,60.333333333333336,67.14285714285714,67.0,56.375,60.0,56.5,58.57142857142857,61.6,70.0,89.0,79.66666666666667,68.0,65.75,75.0,78.8,71.25,67.33333333333333,79.85714285714286,84.57142857142857,68.71428571428571,61.4,59.0,84.33333333333333,69.0,66.5,66.57142857142857,69.4,65.5,66.28571428571429,89.85714285714286,82.57142857142857,84.33333333333333,74.85714285714286,76.42857142857143,75.0,76.71428571428571,73.16666666666667,69.57142857142857,67.83333333333333,63.625,53.6,67.5,73.14285714285714,75.8,78.2,66.875,63.16666666666666,62.71428571428572,67.42857142857143,58.833333333333336,69.14285714285714,65.0,57.875,54.16666666666666,74.33333333333333,66.71428571428571,73.14285714285714,82.2,73.57142857142857,72.0,61.85714285714285,71.71428571428571,65.0,63.375,67.0,69.625,67.42857142857143,55.125,63.5,58.875,66.25,74.875,77.85714285714286,58.875,49.875,51.375,68.5,71.875,66.625,69.625,65.0,73.25,73.5,71.85714285714286,69.0,72.375,80.5,83.625,79.25,81.75,71.875,62.375,67.71428571428571,79.0,86.25,89.5,92.875,93.0,89.125,91.375,94.0,94.0,88.25,84.75,63.16666666666666,67.625,79.875,70.0,69.42857142857143,79.5,89.375,89.625,78.375,74.875,88.125,89.0,86.28571428571429,72.28571428571429,76.875,83.0,85.375,82.625,80.875,72.375,76.75,93.5,90.57142857142856,95.75,94.25,84.5,83.5,96.85714285714286,96.125,90.125,88.875,95.625,85.75,72.375,69.875,81.875,83.25,82.5,79.375,76.125,63.85714285714285,65.42857142857143,72.75,65.375,67.25,85.375,63.375,61.75,64.625,67.0,64.5,95.5,89.5,79.0,66.125,60.125,75.375,78.625,72.25,85.625,80.0,69.375,69.0,71.125,76.625,88.375,87.28571428571429,79.0,65.625,66.375,67.0,64.0,62.875,63.875,56.625,63.875,70.0,68.875,60.625,61.25,62.625,58.5,52.125,53.42857142857143,57.375,55.0,64.75,59.5,61.875,73.125,60.25,58.875,63.25,67.57142857142857,55.625,46.75,44.125,45.75,43.375,48.0,47.85714285714285,44.0,45.25,47.625,41.875,35.25,29.25,29.0,39.875,40.375,46.625,48.125,53.625,49.625,64.375,57.875,48.0,33.125,29.375,37.0,35.875,34.375,32.0,30.0,27.875,28.875,25.5,22.5,24.75,33.375,34.375,53.25,51.142857142857146,48.625,43.0,39.625,37.625,40.375,53.375,65.75,55.25,39.875,40.25,47.625,35.375,29.5,34.0,32.5,33.375,32.75,50.5,43.25,54.125,49.75,44.5,40.125,44.5,39.0,34.25,41.375,33.625,33.125,26.875,27.625,22.75,26.25,32.125,20.875,23.125,39.25,55.125,66.875,52.0,41.375,42.125,58.0,47.875,36.125,40.125,46.75,49.75,46.25,53.25,60.375,48.5,49.0,57.75,67.75,65.125,71.375,75.125,69.0,52.05882352941177,61.125,48.75,39.5,37.125,38.75,38.625,51.375,69.75,67.875,62.625,63.0,74.25,83.875,71.0,68.875,65.5,69.75,72.875,63.625,63.25,61.5,65.42857142857143,75.75,69.875,65.75,65.75,59.5,77.75,66.25,69.75,77.5,65.0,65.375,67.875,80.47058823529412,89.90625,72.125,57.5,57.71428571428572,57.5,54.875,59.85714285714285,53.875,56.625,52.42857142857143,47.125,43.0,47.125,45.75,46.25,46.625,40.25,44.71428571428572,67.75,69.25,78.125,86.125,65.85714285714286,71.0,77.875,80.75,85.75,76.875,67.625,66.375,70.125,77.5,85.71428571428571,73.0,68.25,65.5,63.125,65.125,61.875,62.375,56.625,55.75,54.875,50.0,47.0,53.0,52.5,52.5,46.875,48.875,48.75,50.125,52.85714285714285,53.375,52.625,53.5,56.125,56.75,59.375,52.75,49.875,57.375,57.142857142857146,58.625,59.75,67.625,68.0,58.875,47.66666666666666,56.142857142857146,57.75,55.625,56.125,64.875,66.0,67.5,67.125,65.5,62.875,64.75,65.75,61.375,58.25,50.875,49.125,52.75,56.625,56.25,56.25,66.125,66.25,56.375,52.125,55.125,52.0,50.5,43.0,44.75,47.625,51.75,53.0,58.125,54.625,62.125,58.875,57.375,52.25,51.5,51.0,63.875,67.375,67.625,54.75,42.625,47.625,66.57142857142857,68.875,59.875,48.875,48.375,49.875,67.57142857142857,65.5,70.5,65.625,71.875,86.625,75.75,72.375,72.125,79.75,81.75,77.0,79.125,85.0,78.625,83.0,81.125,77.0,69.0,86.0,72.625,70.625,67.125,72.0,96.625,92.0,78.75,69.375,79.875,86.0,87.875,80.625,73.125,80.75,79.5,77.875,82.25,79.125,78.125,76.625,73.875,78.0,74.375,73.375,94.125,85.0,86.25,77.75,88.125,74.25,67.0,67.5,56.125,57.625,65.25,63.875,71.25,81.125,62.875,62.625,67.625,63.875,63.5,64.0,66.625,69.625,59.0,63.125,70.125,71.25,72.57142857142857,72.875,73.5,67.125,63.5,58.85714285714285,74.375,72.375,58.625,34.375,43.125,45.5,92.75,89.875,82.5,69.25,64.0,62.375,80.375,74.125,54.25,68.5,69.875,63.375,65.25,64.625,89.125,81.85714285714286,70.375,69.625,66.0,65.75,60.5,64.0,65.75,65.5,65.625,54.375,51.375,53.625,52.75,66.25,64.875,59.71428571428572,45.285714285714285,71.125,77.5,67.71428571428571,60.125,62.125,50.375,52.875,52.25,44.875,63.0,70.875,62.75,59.25,58.25,48.75,44.5,41.0,37.875,28.5,30.25,33.0,39.5,43.125,51.125,53.0,48.25,47.25,44.75,43.5,40.25,39.25,39.25,31.125,22.0,13.428571428571429,22.375,27.0,25.0,32.625,46.0,61.0,49.625,52.125,51.625,40.375,35.75,44.0,31.625,24.625,19.5,21.75,29.25,22.25,26.625,20.5,29.5,27.25,38.75,25.0,41.75,39.25,50.5,48.375,39.875,39.75,36.25,33.0,23.875,32.285714285714285,34.75,34.625,48.125,77.625,60.75,52.125,49.75,45.125,46.75,48.5,63.625,59.5,61.625,63.875,82.75,54.25,48.25,47.5,56.625,58.625,53.25,45.875,49.0,51.5,47.285714285714285,83.25,86.125,72.0,77.25,92.125,98.0,94.75,73.125,67.875,52.875,61.375,75.625,78.875,70.0,78.0,69.25,64.125,64.875,64.75,71.0,71.625,69.0,61.0,68.125,67.75,71.0,71.75,69.5,58.625,77.78571428571429,79.65625,79.125,83.0,84.875,90.125,77.0,86.625,74.25,69.5,72.625,85.5,82.625,72.625,72.875,61.25,58.625,72.0,65.375,69.375,65.625,57.285714285714285,61.0,61.0,63.5,58.0,56.5,54.42857142857143,47.625,45.625,49.125,42.625,47.25,41.8,46.375,47.0,47.875,46.5,49.75,54.42857142857143,55.25,54.375,55.0,55.0,58.375,67.625,74.25,69.14285714285714,64.5,64.375,61.25,52.375,49.375,53.5,58.142857142857146,58.5,54.57142857142857,46.875,51.25,53.71428571428572,52.333333333333336,54.375,59.375,61.125,65.75,65.125,59.75,54.625,51.57142857142857,54.125,62.875,63.625,66.0,62.625,63.75,71.71428571428571,66.28571428571429,64.85714285714286,62.125,56.0,51.625,53.25,47.125,52.125,54.25,57.25,63.5,67.25,69.375,70.5,71.375,67.875,69.0,75.25,74.375,74.875,70.25,73.625,72.625,59.5,60.5,59.375,59.625,62.0,50.375,48.375,57.625,64.75,66.0,67.625,64.875,73.5,63.0,56.375,59.5,66.25,82.125,81.25,82.375,78.75,72.125,70.25,67.5,72.375,75.875,76.875,71.28571428571429,78.125,77.25,77.875,91.0,67.0,63.625,63.875,65.5,73.625,71.25,71.875,70.25,74.75,79.875,81.375,68.625,66.125,64.5,63.25,58.125,65.0,71.75,71.375,72.28571428571429,75.875,74.75,77.125,88.83333333333333,81.625,87.0,83.25,65.14285714285714,74.375,74.875,69.6875,75.8,80.4375,84.1875,80.06666666666666,77.66666666666667,80.46666666666667,88.57142857142857,84.2,73.1875,83.4,75.875,86.25,75.4,79.6875,69.16666666666667,69.35714285714286,70.625,78.5,78.25,65.76923076923077,55.86666666666667,66.5,53.0,70.66666666666667,69.5,77.0,67.18181818181819,67.46153846153847,64.86666666666666,54.75,57.86666666666667,62.13333333333333,61.92857142857143,59.53333333333333,56.142857142857146,59.285714285714285,76.0,70.23076923076923,73.125,61.125,51.42857142857143,50.642857142857146,58.0625,57.5,55.6,59.0,63.0625,63.9375,57.41666666666666,57.06666666666667,55.61538461538461,44.25,57.13333333333333,66.5625,64.14285714285714,60.21428571428572,57.5625,57.4375,67.8,66.9375,65.1875,66.0,58.93333333333333,53.75,50.3125,61.25,61.85714285714285,58.73333333333333,43.375,37.875,43.266666666666666,46.86666666666667,50.1875,62.66666666666666,53.6875,52.8,47.75,39.785714285714285,39.73333333333333,38.21428571428572,38.5625,44.25,33.125,29.3125,33.125,37.0,36.0,32.46666666666667,29.0,35.0,36.2,28.0625,23.875,25.375,23.6875,23.866666666666667,30.125,33.6,25.9375,24.666666666666668,24.25,21.818181818181817,22.125,22.8125,25.1875,29.0625,21.76923076923077,23.285714285714285,25.5625,23.375,18.466666666666665,30.375,31.857142857142858,42.0,37.4375,37.1875,36.333333333333336,40.6,39.75,49.9375,40.0,28.11764705882353,31.875,29.5,23.5,25.8125,27.625,40.5,44.2,45.4,44.8,47.92857142857143,53.526315789473685,46.60869565217392,44.57692307692308,26.09090909090909,37.25,57.0625,74.8125,51.21428571428572,42.2,35.3125,40.6875,42.06666666666667,51.75,45.71428571428572,59.1875,44.642857142857146,43.73333333333333,41.86666666666667,49.9375,37.125,43.3125,55.125,48.86666666666667,51.285714285714285,52.25,50.57142857142857,53.25,73.9375,62.1875,60.8125,51.61538461538461,46.5625,55.92857142857143,57.46666666666667,61.25,75.07142857142857,58.875,60.2,73.4,80.0,78.125,76.3125,68.6875,64.06666666666666,63.0,75.86666666666666,66.0625,65.6875,71.9375,80.1875,76.3125,80.4375,78.0625,93.875,86.5625,91.26666666666668,69.125,59.5625,56.86666666666667,56.125,66.0,72.25,69.125,82.0,88.25,81.33333333333333,92.4375,92.26666666666668,83.13333333333334,84.25,72.125,63.5625,63.888888888888886,61.66666666666666,76.0,65.17647058823529,62.38095238095238,71.65384615384616,71.25925925925925,89.46428571428571,85.0,77.07142857142857,83.7,67.64285714285714,66.41666666666667,72.5,79.81481481481481,68.28571428571429,66.48148148148148,68.07407407407408,65.55555555555556,70.08,79.28571428571429,72.44,73.81481481481481,70.28571428571429,66.24,82.32142857142857,76.8,89.55555555555556,87.24,71.73913043478261,62.68421052631579,59.30769230769231,60.30769230769231,55.0,57.7,58.0,56.66666666666666,58.23076923076923,56.4,55.5,57.06666666666667,70.35714285714286,59.63636363636363,58.0,58.0,58.833333333333336,59.458333333333336,54.07407407407408,58.96,67.62962962962963,66.10714285714286,66.48,62.30434782608695,60.88,57.81481481481482,55.28,61.31818181818182,59.35714285714285,61.91666666666666,61.81481481481482,59.57692307692308,69.81481481481481,71.875,64.81481481481481,59.96,57.96,59.2,51.11111111111112,51.14814814814815,47.285714285714285,44.0,47.875,54.14814814814815,49.85714285714285,49.24,48.458333333333336,49.18518518518518,47.73076923076923,50.40909090909091,49.48148148148148,54.96153846153846,51.42307692307692,54.56,56.19230769230769,59.37037037037037,58.77777777777778,62.77777777777778,71.04347826086956,66.8076923076923,58.73076923076923,65.9090909090909,59.76,58.2962962962963,66.57692307692308,63.851851851851855,51.31818181818182,52.26923076923077,49.7037037037037,50.14814814814815,54.04,58.03846153846154,55.81481481481482,60.73076923076923,55.72,53.23076923076923,51.73076923076923,53.61538461538461,60.66666666666666,59.9,60.46153846153846,50.1578947368421,51.43478260869565,51.47368421052632,30.55,32.64705882352941,33.63636363636363,37.31818181818182,53.72222222222222,80.08695652173913,84.0,75.875,52.16666666666666,55.25,56.59090909090909,69.92307692307692,74.35,73.3,68.125,82.83333333333333,69.58333333333333,63.86363636363637,62.35,58.61111111111112,56.625,63.27777777777778,63.388888888888886,64.54166666666667,56.095238095238095,48.53333333333333,54.3,57.85714285714285,74.7,78.63636363636364,94.3,74.85714285714286,67.55,68.04347826086956,87.85714285714286,89.66666666666667,87.0,100.0],\"type\":\"scatter\"}],                        {\"template\":{\"data\":{\"barpolar\":[{\"marker\":{\"line\":{\"color\":\"white\",\"width\":0.5},\"pattern\":{\"fillmode\":\"overlay\",\"size\":10,\"solidity\":0.2}},\"type\":\"barpolar\"}],\"bar\":[{\"error_x\":{\"color\":\"#2a3f5f\"},\"error_y\":{\"color\":\"#2a3f5f\"},\"marker\":{\"line\":{\"color\":\"white\",\"width\":0.5},\"pattern\":{\"fillmode\":\"overlay\",\"size\":10,\"solidity\":0.2}},\"type\":\"bar\"}],\"carpet\":[{\"aaxis\":{\"endlinecolor\":\"#2a3f5f\",\"gridcolor\":\"#C8D4E3\",\"linecolor\":\"#C8D4E3\",\"minorgridcolor\":\"#C8D4E3\",\"startlinecolor\":\"#2a3f5f\"},\"baxis\":{\"endlinecolor\":\"#2a3f5f\",\"gridcolor\":\"#C8D4E3\",\"linecolor\":\"#C8D4E3\",\"minorgridcolor\":\"#C8D4E3\",\"startlinecolor\":\"#2a3f5f\"},\"type\":\"carpet\"}],\"choropleth\":[{\"colorbar\":{\"outlinewidth\":0,\"ticks\":\"\"},\"type\":\"choropleth\"}],\"contourcarpet\":[{\"colorbar\":{\"outlinewidth\":0,\"ticks\":\"\"},\"type\":\"contourcarpet\"}],\"contour\":[{\"colorbar\":{\"outlinewidth\":0,\"ticks\":\"\"},\"colorscale\":[[0.0,\"#0d0887\"],[0.1111111111111111,\"#46039f\"],[0.2222222222222222,\"#7201a8\"],[0.3333333333333333,\"#9c179e\"],[0.4444444444444444,\"#bd3786\"],[0.5555555555555556,\"#d8576b\"],[0.6666666666666666,\"#ed7953\"],[0.7777777777777778,\"#fb9f3a\"],[0.8888888888888888,\"#fdca26\"],[1.0,\"#f0f921\"]],\"type\":\"contour\"}],\"heatmapgl\":[{\"colorbar\":{\"outlinewidth\":0,\"ticks\":\"\"},\"colorscale\":[[0.0,\"#0d0887\"],[0.1111111111111111,\"#46039f\"],[0.2222222222222222,\"#7201a8\"],[0.3333333333333333,\"#9c179e\"],[0.4444444444444444,\"#bd3786\"],[0.5555555555555556,\"#d8576b\"],[0.6666666666666666,\"#ed7953\"],[0.7777777777777778,\"#fb9f3a\"],[0.8888888888888888,\"#fdca26\"],[1.0,\"#f0f921\"]],\"type\":\"heatmapgl\"}],\"heatmap\":[{\"colorbar\":{\"outlinewidth\":0,\"ticks\":\"\"},\"colorscale\":[[0.0,\"#0d0887\"],[0.1111111111111111,\"#46039f\"],[0.2222222222222222,\"#7201a8\"],[0.3333333333333333,\"#9c179e\"],[0.4444444444444444,\"#bd3786\"],[0.5555555555555556,\"#d8576b\"],[0.6666666666666666,\"#ed7953\"],[0.7777777777777778,\"#fb9f3a\"],[0.8888888888888888,\"#fdca26\"],[1.0,\"#f0f921\"]],\"type\":\"heatmap\"}],\"histogram2dcontour\":[{\"colorbar\":{\"outlinewidth\":0,\"ticks\":\"\"},\"colorscale\":[[0.0,\"#0d0887\"],[0.1111111111111111,\"#46039f\"],[0.2222222222222222,\"#7201a8\"],[0.3333333333333333,\"#9c179e\"],[0.4444444444444444,\"#bd3786\"],[0.5555555555555556,\"#d8576b\"],[0.6666666666666666,\"#ed7953\"],[0.7777777777777778,\"#fb9f3a\"],[0.8888888888888888,\"#fdca26\"],[1.0,\"#f0f921\"]],\"type\":\"histogram2dcontour\"}],\"histogram2d\":[{\"colorbar\":{\"outlinewidth\":0,\"ticks\":\"\"},\"colorscale\":[[0.0,\"#0d0887\"],[0.1111111111111111,\"#46039f\"],[0.2222222222222222,\"#7201a8\"],[0.3333333333333333,\"#9c179e\"],[0.4444444444444444,\"#bd3786\"],[0.5555555555555556,\"#d8576b\"],[0.6666666666666666,\"#ed7953\"],[0.7777777777777778,\"#fb9f3a\"],[0.8888888888888888,\"#fdca26\"],[1.0,\"#f0f921\"]],\"type\":\"histogram2d\"}],\"histogram\":[{\"marker\":{\"pattern\":{\"fillmode\":\"overlay\",\"size\":10,\"solidity\":0.2}},\"type\":\"histogram\"}],\"mesh3d\":[{\"colorbar\":{\"outlinewidth\":0,\"ticks\":\"\"},\"type\":\"mesh3d\"}],\"parcoords\":[{\"line\":{\"colorbar\":{\"outlinewidth\":0,\"ticks\":\"\"}},\"type\":\"parcoords\"}],\"pie\":[{\"automargin\":true,\"type\":\"pie\"}],\"scatter3d\":[{\"line\":{\"colorbar\":{\"outlinewidth\":0,\"ticks\":\"\"}},\"marker\":{\"colorbar\":{\"outlinewidth\":0,\"ticks\":\"\"}},\"type\":\"scatter3d\"}],\"scattercarpet\":[{\"marker\":{\"colorbar\":{\"outlinewidth\":0,\"ticks\":\"\"}},\"type\":\"scattercarpet\"}],\"scattergeo\":[{\"marker\":{\"colorbar\":{\"outlinewidth\":0,\"ticks\":\"\"}},\"type\":\"scattergeo\"}],\"scattergl\":[{\"marker\":{\"colorbar\":{\"outlinewidth\":0,\"ticks\":\"\"}},\"type\":\"scattergl\"}],\"scattermapbox\":[{\"marker\":{\"colorbar\":{\"outlinewidth\":0,\"ticks\":\"\"}},\"type\":\"scattermapbox\"}],\"scatterpolargl\":[{\"marker\":{\"colorbar\":{\"outlinewidth\":0,\"ticks\":\"\"}},\"type\":\"scatterpolargl\"}],\"scatterpolar\":[{\"marker\":{\"colorbar\":{\"outlinewidth\":0,\"ticks\":\"\"}},\"type\":\"scatterpolar\"}],\"scatter\":[{\"fillpattern\":{\"fillmode\":\"overlay\",\"size\":10,\"solidity\":0.2},\"type\":\"scatter\"}],\"scatterternary\":[{\"marker\":{\"colorbar\":{\"outlinewidth\":0,\"ticks\":\"\"}},\"type\":\"scatterternary\"}],\"surface\":[{\"colorbar\":{\"outlinewidth\":0,\"ticks\":\"\"},\"colorscale\":[[0.0,\"#0d0887\"],[0.1111111111111111,\"#46039f\"],[0.2222222222222222,\"#7201a8\"],[0.3333333333333333,\"#9c179e\"],[0.4444444444444444,\"#bd3786\"],[0.5555555555555556,\"#d8576b\"],[0.6666666666666666,\"#ed7953\"],[0.7777777777777778,\"#fb9f3a\"],[0.8888888888888888,\"#fdca26\"],[1.0,\"#f0f921\"]],\"type\":\"surface\"}],\"table\":[{\"cells\":{\"fill\":{\"color\":\"#EBF0F8\"},\"line\":{\"color\":\"white\"}},\"header\":{\"fill\":{\"color\":\"#C8D4E3\"},\"line\":{\"color\":\"white\"}},\"type\":\"table\"}]},\"layout\":{\"annotationdefaults\":{\"arrowcolor\":\"#2a3f5f\",\"arrowhead\":0,\"arrowwidth\":1},\"autotypenumbers\":\"strict\",\"coloraxis\":{\"colorbar\":{\"outlinewidth\":0,\"ticks\":\"\"}},\"colorscale\":{\"diverging\":[[0,\"#8e0152\"],[0.1,\"#c51b7d\"],[0.2,\"#de77ae\"],[0.3,\"#f1b6da\"],[0.4,\"#fde0ef\"],[0.5,\"#f7f7f7\"],[0.6,\"#e6f5d0\"],[0.7,\"#b8e186\"],[0.8,\"#7fbc41\"],[0.9,\"#4d9221\"],[1,\"#276419\"]],\"sequential\":[[0.0,\"#0d0887\"],[0.1111111111111111,\"#46039f\"],[0.2222222222222222,\"#7201a8\"],[0.3333333333333333,\"#9c179e\"],[0.4444444444444444,\"#bd3786\"],[0.5555555555555556,\"#d8576b\"],[0.6666666666666666,\"#ed7953\"],[0.7777777777777778,\"#fb9f3a\"],[0.8888888888888888,\"#fdca26\"],[1.0,\"#f0f921\"]],\"sequentialminus\":[[0.0,\"#0d0887\"],[0.1111111111111111,\"#46039f\"],[0.2222222222222222,\"#7201a8\"],[0.3333333333333333,\"#9c179e\"],[0.4444444444444444,\"#bd3786\"],[0.5555555555555556,\"#d8576b\"],[0.6666666666666666,\"#ed7953\"],[0.7777777777777778,\"#fb9f3a\"],[0.8888888888888888,\"#fdca26\"],[1.0,\"#f0f921\"]]},\"colorway\":[\"#636efa\",\"#EF553B\",\"#00cc96\",\"#ab63fa\",\"#FFA15A\",\"#19d3f3\",\"#FF6692\",\"#B6E880\",\"#FF97FF\",\"#FECB52\"],\"font\":{\"color\":\"#2a3f5f\"},\"geo\":{\"bgcolor\":\"white\",\"lakecolor\":\"white\",\"landcolor\":\"white\",\"showlakes\":true,\"showland\":true,\"subunitcolor\":\"#C8D4E3\"},\"hoverlabel\":{\"align\":\"left\"},\"hovermode\":\"closest\",\"mapbox\":{\"style\":\"light\"},\"paper_bgcolor\":\"white\",\"plot_bgcolor\":\"white\",\"polar\":{\"angularaxis\":{\"gridcolor\":\"#EBF0F8\",\"linecolor\":\"#EBF0F8\",\"ticks\":\"\"},\"bgcolor\":\"white\",\"radialaxis\":{\"gridcolor\":\"#EBF0F8\",\"linecolor\":\"#EBF0F8\",\"ticks\":\"\"}},\"scene\":{\"xaxis\":{\"backgroundcolor\":\"white\",\"gridcolor\":\"#DFE8F3\",\"gridwidth\":2,\"linecolor\":\"#EBF0F8\",\"showbackground\":true,\"ticks\":\"\",\"zerolinecolor\":\"#EBF0F8\"},\"yaxis\":{\"backgroundcolor\":\"white\",\"gridcolor\":\"#DFE8F3\",\"gridwidth\":2,\"linecolor\":\"#EBF0F8\",\"showbackground\":true,\"ticks\":\"\",\"zerolinecolor\":\"#EBF0F8\"},\"zaxis\":{\"backgroundcolor\":\"white\",\"gridcolor\":\"#DFE8F3\",\"gridwidth\":2,\"linecolor\":\"#EBF0F8\",\"showbackground\":true,\"ticks\":\"\",\"zerolinecolor\":\"#EBF0F8\"}},\"shapedefaults\":{\"line\":{\"color\":\"#2a3f5f\"}},\"ternary\":{\"aaxis\":{\"gridcolor\":\"#DFE8F3\",\"linecolor\":\"#A2B1C6\",\"ticks\":\"\"},\"baxis\":{\"gridcolor\":\"#DFE8F3\",\"linecolor\":\"#A2B1C6\",\"ticks\":\"\"},\"bgcolor\":\"white\",\"caxis\":{\"gridcolor\":\"#DFE8F3\",\"linecolor\":\"#A2B1C6\",\"ticks\":\"\"}},\"title\":{\"x\":0.05},\"xaxis\":{\"automargin\":true,\"gridcolor\":\"#EBF0F8\",\"linecolor\":\"#EBF0F8\",\"ticks\":\"\",\"title\":{\"standoff\":15},\"zerolinecolor\":\"#EBF0F8\",\"zerolinewidth\":2},\"yaxis\":{\"automargin\":true,\"gridcolor\":\"#EBF0F8\",\"linecolor\":\"#EBF0F8\",\"ticks\":\"\",\"title\":{\"standoff\":15},\"zerolinecolor\":\"#EBF0F8\",\"zerolinewidth\":2}}},\"title\":{\"text\":\"Humidity\",\"x\":0.5},\"xaxis\":{\"title\":{\"text\":\"Date\"}},\"yaxis\":{\"title\":{\"text\":\"Value\"}}},                        {\"responsive\": true}                    ).then(function(){\n",
       "                            \n",
       "var gd = document.getElementById('c3ce766f-959c-4ad0-91d6-975b6b0c6c78');\n",
       "var x = new MutationObserver(function (mutations, observer) {{\n",
       "        var display = window.getComputedStyle(gd).display;\n",
       "        if (!display || display === 'none') {{\n",
       "            console.log([gd, 'removed!']);\n",
       "            Plotly.purge(gd);\n",
       "            observer.disconnect();\n",
       "        }}\n",
       "}});\n",
       "\n",
       "// Listen for the removal of the full notebook cells\n",
       "var notebookContainer = gd.closest('#notebook-container');\n",
       "if (notebookContainer) {{\n",
       "    x.observe(notebookContainer, {childList: true});\n",
       "}}\n",
       "\n",
       "// Listen for the clearing of the current output cell\n",
       "var outputEl = gd.closest('.output');\n",
       "if (outputEl) {{\n",
       "    x.observe(outputEl, {childList: true});\n",
       "}}\n",
       "\n",
       "                        })                };                });            </script>        </div>"
      ]
     },
     "metadata": {},
     "output_type": "display_data"
    },
    {
     "data": {
      "text/html": [
       "<div>                            <div id=\"77e5386b-9177-427f-9318-36bd544cea12\" class=\"plotly-graph-div\" style=\"height:525px; width:100%;\"></div>            <script type=\"text/javascript\">                require([\"plotly\"], function(Plotly) {                    window.PLOTLYENV=window.PLOTLYENV || {};                                    if (document.getElementById(\"77e5386b-9177-427f-9318-36bd544cea12\")) {                    Plotly.newPlot(                        \"77e5386b-9177-427f-9318-36bd544cea12\",                        [{\"mode\":\"lines\",\"x\":[\"2013-01-01T00:00:00\",\"2013-01-02T00:00:00\",\"2013-01-03T00:00:00\",\"2013-01-04T00:00:00\",\"2013-01-05T00:00:00\",\"2013-01-06T00:00:00\",\"2013-01-07T00:00:00\",\"2013-01-08T00:00:00\",\"2013-01-09T00:00:00\",\"2013-01-10T00:00:00\",\"2013-01-11T00:00:00\",\"2013-01-12T00:00:00\",\"2013-01-13T00:00:00\",\"2013-01-14T00:00:00\",\"2013-01-15T00:00:00\",\"2013-01-16T00:00:00\",\"2013-01-17T00:00:00\",\"2013-01-18T00:00:00\",\"2013-01-19T00:00:00\",\"2013-01-20T00:00:00\",\"2013-01-21T00:00:00\",\"2013-01-22T00:00:00\",\"2013-01-23T00:00:00\",\"2013-01-24T00:00:00\",\"2013-01-25T00:00:00\",\"2013-01-26T00:00:00\",\"2013-01-27T00:00:00\",\"2013-01-28T00:00:00\",\"2013-01-29T00:00:00\",\"2013-01-30T00:00:00\",\"2013-01-31T00:00:00\",\"2013-02-01T00:00:00\",\"2013-02-02T00:00:00\",\"2013-02-03T00:00:00\",\"2013-02-04T00:00:00\",\"2013-02-05T00:00:00\",\"2013-02-06T00:00:00\",\"2013-02-07T00:00:00\",\"2013-02-08T00:00:00\",\"2013-02-09T00:00:00\",\"2013-02-10T00:00:00\",\"2013-02-11T00:00:00\",\"2013-02-12T00:00:00\",\"2013-02-13T00:00:00\",\"2013-02-14T00:00:00\",\"2013-02-15T00:00:00\",\"2013-02-16T00:00:00\",\"2013-02-17T00:00:00\",\"2013-02-18T00:00:00\",\"2013-02-19T00:00:00\",\"2013-02-20T00:00:00\",\"2013-02-21T00:00:00\",\"2013-02-22T00:00:00\",\"2013-02-23T00:00:00\",\"2013-02-24T00:00:00\",\"2013-02-25T00:00:00\",\"2013-02-26T00:00:00\",\"2013-02-27T00:00:00\",\"2013-02-28T00:00:00\",\"2013-03-01T00:00:00\",\"2013-03-02T00:00:00\",\"2013-03-03T00:00:00\",\"2013-03-04T00:00:00\",\"2013-03-05T00:00:00\",\"2013-03-06T00:00:00\",\"2013-03-07T00:00:00\",\"2013-03-08T00:00:00\",\"2013-03-09T00:00:00\",\"2013-03-10T00:00:00\",\"2013-03-11T00:00:00\",\"2013-03-12T00:00:00\",\"2013-03-13T00:00:00\",\"2013-03-14T00:00:00\",\"2013-03-15T00:00:00\",\"2013-03-16T00:00:00\",\"2013-03-17T00:00:00\",\"2013-03-18T00:00:00\",\"2013-03-19T00:00:00\",\"2013-03-20T00:00:00\",\"2013-03-21T00:00:00\",\"2013-03-22T00:00:00\",\"2013-03-23T00:00:00\",\"2013-03-24T00:00:00\",\"2013-03-25T00:00:00\",\"2013-03-26T00:00:00\",\"2013-03-27T00:00:00\",\"2013-03-28T00:00:00\",\"2013-03-29T00:00:00\",\"2013-03-30T00:00:00\",\"2013-03-31T00:00:00\",\"2013-04-01T00:00:00\",\"2013-04-02T00:00:00\",\"2013-04-03T00:00:00\",\"2013-04-04T00:00:00\",\"2013-04-05T00:00:00\",\"2013-04-06T00:00:00\",\"2013-04-07T00:00:00\",\"2013-04-08T00:00:00\",\"2013-04-09T00:00:00\",\"2013-04-10T00:00:00\",\"2013-04-11T00:00:00\",\"2013-04-12T00:00:00\",\"2013-04-13T00:00:00\",\"2013-04-14T00:00:00\",\"2013-04-15T00:00:00\",\"2013-04-16T00:00:00\",\"2013-04-17T00:00:00\",\"2013-04-18T00:00:00\",\"2013-04-19T00:00:00\",\"2013-04-20T00:00:00\",\"2013-04-21T00:00:00\",\"2013-04-22T00:00:00\",\"2013-04-23T00:00:00\",\"2013-04-24T00:00:00\",\"2013-04-25T00:00:00\",\"2013-04-26T00:00:00\",\"2013-04-27T00:00:00\",\"2013-04-28T00:00:00\",\"2013-04-29T00:00:00\",\"2013-04-30T00:00:00\",\"2013-05-01T00:00:00\",\"2013-05-02T00:00:00\",\"2013-05-03T00:00:00\",\"2013-05-04T00:00:00\",\"2013-05-05T00:00:00\",\"2013-05-06T00:00:00\",\"2013-05-07T00:00:00\",\"2013-05-08T00:00:00\",\"2013-05-09T00:00:00\",\"2013-05-10T00:00:00\",\"2013-05-11T00:00:00\",\"2013-05-12T00:00:00\",\"2013-05-13T00:00:00\",\"2013-05-14T00:00:00\",\"2013-05-15T00:00:00\",\"2013-05-16T00:00:00\",\"2013-05-17T00:00:00\",\"2013-05-18T00:00:00\",\"2013-05-19T00:00:00\",\"2013-05-20T00:00:00\",\"2013-05-21T00:00:00\",\"2013-05-22T00:00:00\",\"2013-05-23T00:00:00\",\"2013-05-24T00:00:00\",\"2013-05-25T00:00:00\",\"2013-05-26T00:00:00\",\"2013-05-27T00:00:00\",\"2013-05-28T00:00:00\",\"2013-05-29T00:00:00\",\"2013-05-30T00:00:00\",\"2013-05-31T00:00:00\",\"2013-06-01T00:00:00\",\"2013-06-02T00:00:00\",\"2013-06-03T00:00:00\",\"2013-06-04T00:00:00\",\"2013-06-05T00:00:00\",\"2013-06-06T00:00:00\",\"2013-06-07T00:00:00\",\"2013-06-08T00:00:00\",\"2013-06-09T00:00:00\",\"2013-06-10T00:00:00\",\"2013-06-11T00:00:00\",\"2013-06-12T00:00:00\",\"2013-06-13T00:00:00\",\"2013-06-14T00:00:00\",\"2013-06-15T00:00:00\",\"2013-06-16T00:00:00\",\"2013-06-17T00:00:00\",\"2013-06-18T00:00:00\",\"2013-06-19T00:00:00\",\"2013-06-20T00:00:00\",\"2013-06-21T00:00:00\",\"2013-06-22T00:00:00\",\"2013-06-23T00:00:00\",\"2013-06-24T00:00:00\",\"2013-06-25T00:00:00\",\"2013-06-26T00:00:00\",\"2013-06-27T00:00:00\",\"2013-06-28T00:00:00\",\"2013-06-29T00:00:00\",\"2013-06-30T00:00:00\",\"2013-07-01T00:00:00\",\"2013-07-02T00:00:00\",\"2013-07-03T00:00:00\",\"2013-07-04T00:00:00\",\"2013-07-05T00:00:00\",\"2013-07-06T00:00:00\",\"2013-07-07T00:00:00\",\"2013-07-08T00:00:00\",\"2013-07-09T00:00:00\",\"2013-07-10T00:00:00\",\"2013-07-11T00:00:00\",\"2013-07-12T00:00:00\",\"2013-07-13T00:00:00\",\"2013-07-14T00:00:00\",\"2013-07-15T00:00:00\",\"2013-07-16T00:00:00\",\"2013-07-17T00:00:00\",\"2013-07-18T00:00:00\",\"2013-07-19T00:00:00\",\"2013-07-20T00:00:00\",\"2013-07-21T00:00:00\",\"2013-07-22T00:00:00\",\"2013-07-23T00:00:00\",\"2013-07-24T00:00:00\",\"2013-07-25T00:00:00\",\"2013-07-26T00:00:00\",\"2013-07-27T00:00:00\",\"2013-07-28T00:00:00\",\"2013-07-29T00:00:00\",\"2013-07-30T00:00:00\",\"2013-07-31T00:00:00\",\"2013-08-01T00:00:00\",\"2013-08-02T00:00:00\",\"2013-08-03T00:00:00\",\"2013-08-04T00:00:00\",\"2013-08-05T00:00:00\",\"2013-08-06T00:00:00\",\"2013-08-07T00:00:00\",\"2013-08-08T00:00:00\",\"2013-08-09T00:00:00\",\"2013-08-10T00:00:00\",\"2013-08-11T00:00:00\",\"2013-08-12T00:00:00\",\"2013-08-13T00:00:00\",\"2013-08-14T00:00:00\",\"2013-08-15T00:00:00\",\"2013-08-16T00:00:00\",\"2013-08-17T00:00:00\",\"2013-08-18T00:00:00\",\"2013-08-19T00:00:00\",\"2013-08-20T00:00:00\",\"2013-08-21T00:00:00\",\"2013-08-22T00:00:00\",\"2013-08-23T00:00:00\",\"2013-08-24T00:00:00\",\"2013-08-25T00:00:00\",\"2013-08-26T00:00:00\",\"2013-08-27T00:00:00\",\"2013-08-28T00:00:00\",\"2013-08-29T00:00:00\",\"2013-08-30T00:00:00\",\"2013-08-31T00:00:00\",\"2013-09-01T00:00:00\",\"2013-09-02T00:00:00\",\"2013-09-03T00:00:00\",\"2013-09-04T00:00:00\",\"2013-09-05T00:00:00\",\"2013-09-06T00:00:00\",\"2013-09-07T00:00:00\",\"2013-09-08T00:00:00\",\"2013-09-09T00:00:00\",\"2013-09-10T00:00:00\",\"2013-09-11T00:00:00\",\"2013-09-12T00:00:00\",\"2013-09-13T00:00:00\",\"2013-09-14T00:00:00\",\"2013-09-15T00:00:00\",\"2013-09-16T00:00:00\",\"2013-09-17T00:00:00\",\"2013-09-18T00:00:00\",\"2013-09-19T00:00:00\",\"2013-09-20T00:00:00\",\"2013-09-21T00:00:00\",\"2013-09-22T00:00:00\",\"2013-09-23T00:00:00\",\"2013-09-24T00:00:00\",\"2013-09-25T00:00:00\",\"2013-09-26T00:00:00\",\"2013-09-27T00:00:00\",\"2013-09-28T00:00:00\",\"2013-09-29T00:00:00\",\"2013-09-30T00:00:00\",\"2013-10-01T00:00:00\",\"2013-10-02T00:00:00\",\"2013-10-03T00:00:00\",\"2013-10-04T00:00:00\",\"2013-10-05T00:00:00\",\"2013-10-06T00:00:00\",\"2013-10-07T00:00:00\",\"2013-10-08T00:00:00\",\"2013-10-09T00:00:00\",\"2013-10-10T00:00:00\",\"2013-10-11T00:00:00\",\"2013-10-12T00:00:00\",\"2013-10-13T00:00:00\",\"2013-10-14T00:00:00\",\"2013-10-15T00:00:00\",\"2013-10-16T00:00:00\",\"2013-10-17T00:00:00\",\"2013-10-18T00:00:00\",\"2013-10-19T00:00:00\",\"2013-10-20T00:00:00\",\"2013-10-21T00:00:00\",\"2013-10-22T00:00:00\",\"2013-10-23T00:00:00\",\"2013-10-24T00:00:00\",\"2013-10-25T00:00:00\",\"2013-10-26T00:00:00\",\"2013-10-27T00:00:00\",\"2013-10-28T00:00:00\",\"2013-10-29T00:00:00\",\"2013-10-30T00:00:00\",\"2013-10-31T00:00:00\",\"2013-11-01T00:00:00\",\"2013-11-02T00:00:00\",\"2013-11-03T00:00:00\",\"2013-11-04T00:00:00\",\"2013-11-05T00:00:00\",\"2013-11-06T00:00:00\",\"2013-11-07T00:00:00\",\"2013-11-08T00:00:00\",\"2013-11-09T00:00:00\",\"2013-11-10T00:00:00\",\"2013-11-11T00:00:00\",\"2013-11-12T00:00:00\",\"2013-11-13T00:00:00\",\"2013-11-14T00:00:00\",\"2013-11-15T00:00:00\",\"2013-11-16T00:00:00\",\"2013-11-17T00:00:00\",\"2013-11-18T00:00:00\",\"2013-11-19T00:00:00\",\"2013-11-20T00:00:00\",\"2013-11-21T00:00:00\",\"2013-11-22T00:00:00\",\"2013-11-23T00:00:00\",\"2013-11-24T00:00:00\",\"2013-11-25T00:00:00\",\"2013-11-26T00:00:00\",\"2013-11-27T00:00:00\",\"2013-11-28T00:00:00\",\"2013-11-29T00:00:00\",\"2013-11-30T00:00:00\",\"2013-12-01T00:00:00\",\"2013-12-02T00:00:00\",\"2013-12-03T00:00:00\",\"2013-12-04T00:00:00\",\"2013-12-05T00:00:00\",\"2013-12-06T00:00:00\",\"2013-12-07T00:00:00\",\"2013-12-08T00:00:00\",\"2013-12-09T00:00:00\",\"2013-12-10T00:00:00\",\"2013-12-11T00:00:00\",\"2013-12-12T00:00:00\",\"2013-12-13T00:00:00\",\"2013-12-14T00:00:00\",\"2013-12-15T00:00:00\",\"2013-12-16T00:00:00\",\"2013-12-17T00:00:00\",\"2013-12-18T00:00:00\",\"2013-12-19T00:00:00\",\"2013-12-20T00:00:00\",\"2013-12-21T00:00:00\",\"2013-12-22T00:00:00\",\"2013-12-23T00:00:00\",\"2013-12-24T00:00:00\",\"2013-12-25T00:00:00\",\"2013-12-26T00:00:00\",\"2013-12-27T00:00:00\",\"2013-12-28T00:00:00\",\"2013-12-29T00:00:00\",\"2013-12-30T00:00:00\",\"2013-12-31T00:00:00\",\"2014-01-01T00:00:00\",\"2014-01-02T00:00:00\",\"2014-01-03T00:00:00\",\"2014-01-04T00:00:00\",\"2014-01-05T00:00:00\",\"2014-01-06T00:00:00\",\"2014-01-07T00:00:00\",\"2014-01-08T00:00:00\",\"2014-01-09T00:00:00\",\"2014-01-10T00:00:00\",\"2014-01-11T00:00:00\",\"2014-01-12T00:00:00\",\"2014-01-13T00:00:00\",\"2014-01-14T00:00:00\",\"2014-01-15T00:00:00\",\"2014-01-16T00:00:00\",\"2014-01-17T00:00:00\",\"2014-01-18T00:00:00\",\"2014-01-19T00:00:00\",\"2014-01-20T00:00:00\",\"2014-01-21T00:00:00\",\"2014-01-22T00:00:00\",\"2014-01-23T00:00:00\",\"2014-01-24T00:00:00\",\"2014-01-25T00:00:00\",\"2014-01-26T00:00:00\",\"2014-01-27T00:00:00\",\"2014-01-28T00:00:00\",\"2014-01-29T00:00:00\",\"2014-01-30T00:00:00\",\"2014-01-31T00:00:00\",\"2014-02-01T00:00:00\",\"2014-02-02T00:00:00\",\"2014-02-03T00:00:00\",\"2014-02-04T00:00:00\",\"2014-02-05T00:00:00\",\"2014-02-06T00:00:00\",\"2014-02-07T00:00:00\",\"2014-02-08T00:00:00\",\"2014-02-09T00:00:00\",\"2014-02-10T00:00:00\",\"2014-02-11T00:00:00\",\"2014-02-12T00:00:00\",\"2014-02-13T00:00:00\",\"2014-02-14T00:00:00\",\"2014-02-15T00:00:00\",\"2014-02-16T00:00:00\",\"2014-02-17T00:00:00\",\"2014-02-18T00:00:00\",\"2014-02-19T00:00:00\",\"2014-02-20T00:00:00\",\"2014-02-21T00:00:00\",\"2014-02-22T00:00:00\",\"2014-02-23T00:00:00\",\"2014-02-24T00:00:00\",\"2014-02-25T00:00:00\",\"2014-02-26T00:00:00\",\"2014-02-27T00:00:00\",\"2014-02-28T00:00:00\",\"2014-03-01T00:00:00\",\"2014-03-02T00:00:00\",\"2014-03-03T00:00:00\",\"2014-03-04T00:00:00\",\"2014-03-05T00:00:00\",\"2014-03-06T00:00:00\",\"2014-03-07T00:00:00\",\"2014-03-08T00:00:00\",\"2014-03-09T00:00:00\",\"2014-03-10T00:00:00\",\"2014-03-11T00:00:00\",\"2014-03-12T00:00:00\",\"2014-03-13T00:00:00\",\"2014-03-14T00:00:00\",\"2014-03-15T00:00:00\",\"2014-03-16T00:00:00\",\"2014-03-17T00:00:00\",\"2014-03-18T00:00:00\",\"2014-03-19T00:00:00\",\"2014-03-20T00:00:00\",\"2014-03-21T00:00:00\",\"2014-03-22T00:00:00\",\"2014-03-23T00:00:00\",\"2014-03-24T00:00:00\",\"2014-03-25T00:00:00\",\"2014-03-26T00:00:00\",\"2014-03-27T00:00:00\",\"2014-03-28T00:00:00\",\"2014-03-29T00:00:00\",\"2014-03-30T00:00:00\",\"2014-03-31T00:00:00\",\"2014-04-01T00:00:00\",\"2014-04-02T00:00:00\",\"2014-04-03T00:00:00\",\"2014-04-04T00:00:00\",\"2014-04-05T00:00:00\",\"2014-04-06T00:00:00\",\"2014-04-07T00:00:00\",\"2014-04-08T00:00:00\",\"2014-04-09T00:00:00\",\"2014-04-10T00:00:00\",\"2014-04-11T00:00:00\",\"2014-04-12T00:00:00\",\"2014-04-13T00:00:00\",\"2014-04-14T00:00:00\",\"2014-04-15T00:00:00\",\"2014-04-16T00:00:00\",\"2014-04-17T00:00:00\",\"2014-04-18T00:00:00\",\"2014-04-19T00:00:00\",\"2014-04-20T00:00:00\",\"2014-04-21T00:00:00\",\"2014-04-22T00:00:00\",\"2014-04-23T00:00:00\",\"2014-04-24T00:00:00\",\"2014-04-25T00:00:00\",\"2014-04-26T00:00:00\",\"2014-04-27T00:00:00\",\"2014-04-28T00:00:00\",\"2014-04-29T00:00:00\",\"2014-04-30T00:00:00\",\"2014-05-01T00:00:00\",\"2014-05-02T00:00:00\",\"2014-05-03T00:00:00\",\"2014-05-04T00:00:00\",\"2014-05-05T00:00:00\",\"2014-05-06T00:00:00\",\"2014-05-07T00:00:00\",\"2014-05-08T00:00:00\",\"2014-05-09T00:00:00\",\"2014-05-10T00:00:00\",\"2014-05-11T00:00:00\",\"2014-05-12T00:00:00\",\"2014-05-13T00:00:00\",\"2014-05-14T00:00:00\",\"2014-05-15T00:00:00\",\"2014-05-16T00:00:00\",\"2014-05-17T00:00:00\",\"2014-05-18T00:00:00\",\"2014-05-19T00:00:00\",\"2014-05-20T00:00:00\",\"2014-05-21T00:00:00\",\"2014-05-22T00:00:00\",\"2014-05-23T00:00:00\",\"2014-05-24T00:00:00\",\"2014-05-25T00:00:00\",\"2014-05-26T00:00:00\",\"2014-05-27T00:00:00\",\"2014-05-28T00:00:00\",\"2014-05-29T00:00:00\",\"2014-05-30T00:00:00\",\"2014-05-31T00:00:00\",\"2014-06-01T00:00:00\",\"2014-06-02T00:00:00\",\"2014-06-03T00:00:00\",\"2014-06-04T00:00:00\",\"2014-06-05T00:00:00\",\"2014-06-06T00:00:00\",\"2014-06-07T00:00:00\",\"2014-06-08T00:00:00\",\"2014-06-09T00:00:00\",\"2014-06-10T00:00:00\",\"2014-06-11T00:00:00\",\"2014-06-12T00:00:00\",\"2014-06-13T00:00:00\",\"2014-06-14T00:00:00\",\"2014-06-15T00:00:00\",\"2014-06-16T00:00:00\",\"2014-06-17T00:00:00\",\"2014-06-18T00:00:00\",\"2014-06-19T00:00:00\",\"2014-06-20T00:00:00\",\"2014-06-21T00:00:00\",\"2014-06-22T00:00:00\",\"2014-06-23T00:00:00\",\"2014-06-24T00:00:00\",\"2014-06-25T00:00:00\",\"2014-06-26T00:00:00\",\"2014-06-27T00:00:00\",\"2014-06-28T00:00:00\",\"2014-06-29T00:00:00\",\"2014-06-30T00:00:00\",\"2014-07-01T00:00:00\",\"2014-07-02T00:00:00\",\"2014-07-03T00:00:00\",\"2014-07-04T00:00:00\",\"2014-07-05T00:00:00\",\"2014-07-06T00:00:00\",\"2014-07-07T00:00:00\",\"2014-07-08T00:00:00\",\"2014-07-09T00:00:00\",\"2014-07-10T00:00:00\",\"2014-07-11T00:00:00\",\"2014-07-12T00:00:00\",\"2014-07-13T00:00:00\",\"2014-07-14T00:00:00\",\"2014-07-15T00:00:00\",\"2014-07-16T00:00:00\",\"2014-07-17T00:00:00\",\"2014-07-18T00:00:00\",\"2014-07-19T00:00:00\",\"2014-07-20T00:00:00\",\"2014-07-21T00:00:00\",\"2014-07-22T00:00:00\",\"2014-07-23T00:00:00\",\"2014-07-24T00:00:00\",\"2014-07-25T00:00:00\",\"2014-07-26T00:00:00\",\"2014-07-27T00:00:00\",\"2014-07-28T00:00:00\",\"2014-07-29T00:00:00\",\"2014-07-30T00:00:00\",\"2014-07-31T00:00:00\",\"2014-08-01T00:00:00\",\"2014-08-02T00:00:00\",\"2014-08-03T00:00:00\",\"2014-08-04T00:00:00\",\"2014-08-05T00:00:00\",\"2014-08-06T00:00:00\",\"2014-08-07T00:00:00\",\"2014-08-08T00:00:00\",\"2014-08-09T00:00:00\",\"2014-08-10T00:00:00\",\"2014-08-11T00:00:00\",\"2014-08-12T00:00:00\",\"2014-08-13T00:00:00\",\"2014-08-14T00:00:00\",\"2014-08-15T00:00:00\",\"2014-08-16T00:00:00\",\"2014-08-17T00:00:00\",\"2014-08-18T00:00:00\",\"2014-08-19T00:00:00\",\"2014-08-20T00:00:00\",\"2014-08-21T00:00:00\",\"2014-08-22T00:00:00\",\"2014-08-23T00:00:00\",\"2014-08-24T00:00:00\",\"2014-08-25T00:00:00\",\"2014-08-26T00:00:00\",\"2014-08-27T00:00:00\",\"2014-08-28T00:00:00\",\"2014-08-29T00:00:00\",\"2014-08-30T00:00:00\",\"2014-08-31T00:00:00\",\"2014-09-01T00:00:00\",\"2014-09-02T00:00:00\",\"2014-09-03T00:00:00\",\"2014-09-04T00:00:00\",\"2014-09-05T00:00:00\",\"2014-09-06T00:00:00\",\"2014-09-07T00:00:00\",\"2014-09-08T00:00:00\",\"2014-09-09T00:00:00\",\"2014-09-10T00:00:00\",\"2014-09-11T00:00:00\",\"2014-09-12T00:00:00\",\"2014-09-13T00:00:00\",\"2014-09-14T00:00:00\",\"2014-09-15T00:00:00\",\"2014-09-16T00:00:00\",\"2014-09-17T00:00:00\",\"2014-09-18T00:00:00\",\"2014-09-19T00:00:00\",\"2014-09-20T00:00:00\",\"2014-09-21T00:00:00\",\"2014-09-22T00:00:00\",\"2014-09-23T00:00:00\",\"2014-09-24T00:00:00\",\"2014-09-25T00:00:00\",\"2014-09-26T00:00:00\",\"2014-09-27T00:00:00\",\"2014-09-28T00:00:00\",\"2014-09-29T00:00:00\",\"2014-09-30T00:00:00\",\"2014-10-01T00:00:00\",\"2014-10-02T00:00:00\",\"2014-10-03T00:00:00\",\"2014-10-04T00:00:00\",\"2014-10-05T00:00:00\",\"2014-10-06T00:00:00\",\"2014-10-07T00:00:00\",\"2014-10-08T00:00:00\",\"2014-10-09T00:00:00\",\"2014-10-10T00:00:00\",\"2014-10-11T00:00:00\",\"2014-10-12T00:00:00\",\"2014-10-13T00:00:00\",\"2014-10-14T00:00:00\",\"2014-10-15T00:00:00\",\"2014-10-16T00:00:00\",\"2014-10-17T00:00:00\",\"2014-10-18T00:00:00\",\"2014-10-19T00:00:00\",\"2014-10-20T00:00:00\",\"2014-10-21T00:00:00\",\"2014-10-22T00:00:00\",\"2014-10-23T00:00:00\",\"2014-10-24T00:00:00\",\"2014-10-25T00:00:00\",\"2014-10-26T00:00:00\",\"2014-10-27T00:00:00\",\"2014-10-28T00:00:00\",\"2014-10-29T00:00:00\",\"2014-10-30T00:00:00\",\"2014-10-31T00:00:00\",\"2014-11-01T00:00:00\",\"2014-11-02T00:00:00\",\"2014-11-03T00:00:00\",\"2014-11-04T00:00:00\",\"2014-11-05T00:00:00\",\"2014-11-06T00:00:00\",\"2014-11-07T00:00:00\",\"2014-11-08T00:00:00\",\"2014-11-09T00:00:00\",\"2014-11-10T00:00:00\",\"2014-11-11T00:00:00\",\"2014-11-12T00:00:00\",\"2014-11-13T00:00:00\",\"2014-11-14T00:00:00\",\"2014-11-15T00:00:00\",\"2014-11-16T00:00:00\",\"2014-11-17T00:00:00\",\"2014-11-18T00:00:00\",\"2014-11-19T00:00:00\",\"2014-11-20T00:00:00\",\"2014-11-21T00:00:00\",\"2014-11-22T00:00:00\",\"2014-11-23T00:00:00\",\"2014-11-24T00:00:00\",\"2014-11-25T00:00:00\",\"2014-11-26T00:00:00\",\"2014-11-27T00:00:00\",\"2014-11-28T00:00:00\",\"2014-11-29T00:00:00\",\"2014-11-30T00:00:00\",\"2014-12-01T00:00:00\",\"2014-12-02T00:00:00\",\"2014-12-03T00:00:00\",\"2014-12-04T00:00:00\",\"2014-12-05T00:00:00\",\"2014-12-06T00:00:00\",\"2014-12-07T00:00:00\",\"2014-12-08T00:00:00\",\"2014-12-09T00:00:00\",\"2014-12-10T00:00:00\",\"2014-12-11T00:00:00\",\"2014-12-12T00:00:00\",\"2014-12-13T00:00:00\",\"2014-12-14T00:00:00\",\"2014-12-15T00:00:00\",\"2014-12-16T00:00:00\",\"2014-12-17T00:00:00\",\"2014-12-18T00:00:00\",\"2014-12-19T00:00:00\",\"2014-12-20T00:00:00\",\"2014-12-21T00:00:00\",\"2014-12-22T00:00:00\",\"2014-12-23T00:00:00\",\"2014-12-24T00:00:00\",\"2014-12-25T00:00:00\",\"2014-12-26T00:00:00\",\"2014-12-27T00:00:00\",\"2014-12-28T00:00:00\",\"2014-12-29T00:00:00\",\"2014-12-30T00:00:00\",\"2014-12-31T00:00:00\",\"2015-01-01T00:00:00\",\"2015-01-02T00:00:00\",\"2015-01-03T00:00:00\",\"2015-01-04T00:00:00\",\"2015-01-05T00:00:00\",\"2015-01-06T00:00:00\",\"2015-01-07T00:00:00\",\"2015-01-08T00:00:00\",\"2015-01-09T00:00:00\",\"2015-01-10T00:00:00\",\"2015-01-11T00:00:00\",\"2015-01-12T00:00:00\",\"2015-01-13T00:00:00\",\"2015-01-14T00:00:00\",\"2015-01-15T00:00:00\",\"2015-01-16T00:00:00\",\"2015-01-17T00:00:00\",\"2015-01-18T00:00:00\",\"2015-01-19T00:00:00\",\"2015-01-20T00:00:00\",\"2015-01-21T00:00:00\",\"2015-01-22T00:00:00\",\"2015-01-23T00:00:00\",\"2015-01-24T00:00:00\",\"2015-01-25T00:00:00\",\"2015-01-26T00:00:00\",\"2015-01-27T00:00:00\",\"2015-01-28T00:00:00\",\"2015-01-29T00:00:00\",\"2015-01-30T00:00:00\",\"2015-01-31T00:00:00\",\"2015-02-01T00:00:00\",\"2015-02-02T00:00:00\",\"2015-02-03T00:00:00\",\"2015-02-04T00:00:00\",\"2015-02-05T00:00:00\",\"2015-02-06T00:00:00\",\"2015-02-07T00:00:00\",\"2015-02-08T00:00:00\",\"2015-02-09T00:00:00\",\"2015-02-10T00:00:00\",\"2015-02-11T00:00:00\",\"2015-02-12T00:00:00\",\"2015-02-13T00:00:00\",\"2015-02-14T00:00:00\",\"2015-02-15T00:00:00\",\"2015-02-16T00:00:00\",\"2015-02-17T00:00:00\",\"2015-02-18T00:00:00\",\"2015-02-19T00:00:00\",\"2015-02-20T00:00:00\",\"2015-02-21T00:00:00\",\"2015-02-22T00:00:00\",\"2015-02-23T00:00:00\",\"2015-02-24T00:00:00\",\"2015-02-25T00:00:00\",\"2015-02-26T00:00:00\",\"2015-02-27T00:00:00\",\"2015-02-28T00:00:00\",\"2015-03-01T00:00:00\",\"2015-03-02T00:00:00\",\"2015-03-03T00:00:00\",\"2015-03-04T00:00:00\",\"2015-03-05T00:00:00\",\"2015-03-06T00:00:00\",\"2015-03-07T00:00:00\",\"2015-03-08T00:00:00\",\"2015-03-09T00:00:00\",\"2015-03-10T00:00:00\",\"2015-03-11T00:00:00\",\"2015-03-12T00:00:00\",\"2015-03-13T00:00:00\",\"2015-03-14T00:00:00\",\"2015-03-15T00:00:00\",\"2015-03-16T00:00:00\",\"2015-03-17T00:00:00\",\"2015-03-18T00:00:00\",\"2015-03-19T00:00:00\",\"2015-03-20T00:00:00\",\"2015-03-21T00:00:00\",\"2015-03-22T00:00:00\",\"2015-03-23T00:00:00\",\"2015-03-24T00:00:00\",\"2015-03-25T00:00:00\",\"2015-03-26T00:00:00\",\"2015-03-27T00:00:00\",\"2015-03-28T00:00:00\",\"2015-03-29T00:00:00\",\"2015-03-30T00:00:00\",\"2015-03-31T00:00:00\",\"2015-04-01T00:00:00\",\"2015-04-02T00:00:00\",\"2015-04-03T00:00:00\",\"2015-04-04T00:00:00\",\"2015-04-05T00:00:00\",\"2015-04-06T00:00:00\",\"2015-04-07T00:00:00\",\"2015-04-08T00:00:00\",\"2015-04-09T00:00:00\",\"2015-04-10T00:00:00\",\"2015-04-11T00:00:00\",\"2015-04-12T00:00:00\",\"2015-04-13T00:00:00\",\"2015-04-14T00:00:00\",\"2015-04-15T00:00:00\",\"2015-04-16T00:00:00\",\"2015-04-17T00:00:00\",\"2015-04-18T00:00:00\",\"2015-04-19T00:00:00\",\"2015-04-20T00:00:00\",\"2015-04-21T00:00:00\",\"2015-04-22T00:00:00\",\"2015-04-23T00:00:00\",\"2015-04-24T00:00:00\",\"2015-04-25T00:00:00\",\"2015-04-26T00:00:00\",\"2015-04-27T00:00:00\",\"2015-04-28T00:00:00\",\"2015-04-29T00:00:00\",\"2015-04-30T00:00:00\",\"2015-05-01T00:00:00\",\"2015-05-02T00:00:00\",\"2015-05-03T00:00:00\",\"2015-05-04T00:00:00\",\"2015-05-05T00:00:00\",\"2015-05-06T00:00:00\",\"2015-05-07T00:00:00\",\"2015-05-08T00:00:00\",\"2015-05-09T00:00:00\",\"2015-05-10T00:00:00\",\"2015-05-11T00:00:00\",\"2015-05-12T00:00:00\",\"2015-05-13T00:00:00\",\"2015-05-14T00:00:00\",\"2015-05-15T00:00:00\",\"2015-05-16T00:00:00\",\"2015-05-17T00:00:00\",\"2015-05-18T00:00:00\",\"2015-05-19T00:00:00\",\"2015-05-20T00:00:00\",\"2015-05-21T00:00:00\",\"2015-05-22T00:00:00\",\"2015-05-23T00:00:00\",\"2015-05-24T00:00:00\",\"2015-05-25T00:00:00\",\"2015-05-26T00:00:00\",\"2015-05-27T00:00:00\",\"2015-05-28T00:00:00\",\"2015-05-29T00:00:00\",\"2015-05-30T00:00:00\",\"2015-05-31T00:00:00\",\"2015-06-01T00:00:00\",\"2015-06-02T00:00:00\",\"2015-06-03T00:00:00\",\"2015-06-04T00:00:00\",\"2015-06-05T00:00:00\",\"2015-06-06T00:00:00\",\"2015-06-07T00:00:00\",\"2015-06-08T00:00:00\",\"2015-06-09T00:00:00\",\"2015-06-10T00:00:00\",\"2015-06-11T00:00:00\",\"2015-06-12T00:00:00\",\"2015-06-13T00:00:00\",\"2015-06-14T00:00:00\",\"2015-06-15T00:00:00\",\"2015-06-16T00:00:00\",\"2015-06-17T00:00:00\",\"2015-06-18T00:00:00\",\"2015-06-19T00:00:00\",\"2015-06-20T00:00:00\",\"2015-06-21T00:00:00\",\"2015-06-22T00:00:00\",\"2015-06-23T00:00:00\",\"2015-06-24T00:00:00\",\"2015-06-25T00:00:00\",\"2015-06-26T00:00:00\",\"2015-06-27T00:00:00\",\"2015-06-28T00:00:00\",\"2015-06-29T00:00:00\",\"2015-06-30T00:00:00\",\"2015-07-01T00:00:00\",\"2015-07-02T00:00:00\",\"2015-07-03T00:00:00\",\"2015-07-04T00:00:00\",\"2015-07-05T00:00:00\",\"2015-07-06T00:00:00\",\"2015-07-07T00:00:00\",\"2015-07-08T00:00:00\",\"2015-07-09T00:00:00\",\"2015-07-10T00:00:00\",\"2015-07-11T00:00:00\",\"2015-07-12T00:00:00\",\"2015-07-13T00:00:00\",\"2015-07-14T00:00:00\",\"2015-07-15T00:00:00\",\"2015-07-16T00:00:00\",\"2015-07-17T00:00:00\",\"2015-07-18T00:00:00\",\"2015-07-19T00:00:00\",\"2015-07-20T00:00:00\",\"2015-07-21T00:00:00\",\"2015-07-22T00:00:00\",\"2015-07-23T00:00:00\",\"2015-07-24T00:00:00\",\"2015-07-25T00:00:00\",\"2015-07-26T00:00:00\",\"2015-07-27T00:00:00\",\"2015-07-28T00:00:00\",\"2015-07-29T00:00:00\",\"2015-07-30T00:00:00\",\"2015-07-31T00:00:00\",\"2015-08-01T00:00:00\",\"2015-08-02T00:00:00\",\"2015-08-03T00:00:00\",\"2015-08-04T00:00:00\",\"2015-08-05T00:00:00\",\"2015-08-06T00:00:00\",\"2015-08-07T00:00:00\",\"2015-08-08T00:00:00\",\"2015-08-09T00:00:00\",\"2015-08-10T00:00:00\",\"2015-08-11T00:00:00\",\"2015-08-12T00:00:00\",\"2015-08-13T00:00:00\",\"2015-08-14T00:00:00\",\"2015-08-15T00:00:00\",\"2015-08-16T00:00:00\",\"2015-08-17T00:00:00\",\"2015-08-18T00:00:00\",\"2015-08-19T00:00:00\",\"2015-08-20T00:00:00\",\"2015-08-21T00:00:00\",\"2015-08-22T00:00:00\",\"2015-08-23T00:00:00\",\"2015-08-24T00:00:00\",\"2015-08-25T00:00:00\",\"2015-08-26T00:00:00\",\"2015-08-27T00:00:00\",\"2015-08-28T00:00:00\",\"2015-08-29T00:00:00\",\"2015-08-30T00:00:00\",\"2015-08-31T00:00:00\",\"2015-09-01T00:00:00\",\"2015-09-02T00:00:00\",\"2015-09-03T00:00:00\",\"2015-09-04T00:00:00\",\"2015-09-05T00:00:00\",\"2015-09-06T00:00:00\",\"2015-09-07T00:00:00\",\"2015-09-08T00:00:00\",\"2015-09-09T00:00:00\",\"2015-09-10T00:00:00\",\"2015-09-11T00:00:00\",\"2015-09-12T00:00:00\",\"2015-09-13T00:00:00\",\"2015-09-14T00:00:00\",\"2015-09-15T00:00:00\",\"2015-09-16T00:00:00\",\"2015-09-17T00:00:00\",\"2015-09-18T00:00:00\",\"2015-09-19T00:00:00\",\"2015-09-20T00:00:00\",\"2015-09-21T00:00:00\",\"2015-09-22T00:00:00\",\"2015-09-23T00:00:00\",\"2015-09-24T00:00:00\",\"2015-09-25T00:00:00\",\"2015-09-26T00:00:00\",\"2015-09-27T00:00:00\",\"2015-09-28T00:00:00\",\"2015-09-29T00:00:00\",\"2015-09-30T00:00:00\",\"2015-10-01T00:00:00\",\"2015-10-02T00:00:00\",\"2015-10-03T00:00:00\",\"2015-10-04T00:00:00\",\"2015-10-05T00:00:00\",\"2015-10-06T00:00:00\",\"2015-10-07T00:00:00\",\"2015-10-08T00:00:00\",\"2015-10-09T00:00:00\",\"2015-10-10T00:00:00\",\"2015-10-11T00:00:00\",\"2015-10-12T00:00:00\",\"2015-10-13T00:00:00\",\"2015-10-14T00:00:00\",\"2015-10-15T00:00:00\",\"2015-10-16T00:00:00\",\"2015-10-17T00:00:00\",\"2015-10-18T00:00:00\",\"2015-10-19T00:00:00\",\"2015-10-20T00:00:00\",\"2015-10-21T00:00:00\",\"2015-10-22T00:00:00\",\"2015-10-23T00:00:00\",\"2015-10-24T00:00:00\",\"2015-10-25T00:00:00\",\"2015-10-26T00:00:00\",\"2015-10-27T00:00:00\",\"2015-10-28T00:00:00\",\"2015-10-29T00:00:00\",\"2015-10-30T00:00:00\",\"2015-10-31T00:00:00\",\"2015-11-01T00:00:00\",\"2015-11-02T00:00:00\",\"2015-11-03T00:00:00\",\"2015-11-04T00:00:00\",\"2015-11-05T00:00:00\",\"2015-11-06T00:00:00\",\"2015-11-07T00:00:00\",\"2015-11-08T00:00:00\",\"2015-11-09T00:00:00\",\"2015-11-10T00:00:00\",\"2015-11-11T00:00:00\",\"2015-11-12T00:00:00\",\"2015-11-13T00:00:00\",\"2015-11-14T00:00:00\",\"2015-11-15T00:00:00\",\"2015-11-16T00:00:00\",\"2015-11-17T00:00:00\",\"2015-11-18T00:00:00\",\"2015-11-19T00:00:00\",\"2015-11-20T00:00:00\",\"2015-11-21T00:00:00\",\"2015-11-22T00:00:00\",\"2015-11-23T00:00:00\",\"2015-11-24T00:00:00\",\"2015-11-25T00:00:00\",\"2015-11-26T00:00:00\",\"2015-11-27T00:00:00\",\"2015-11-28T00:00:00\",\"2015-11-29T00:00:00\",\"2015-11-30T00:00:00\",\"2015-12-01T00:00:00\",\"2015-12-02T00:00:00\",\"2015-12-03T00:00:00\",\"2015-12-04T00:00:00\",\"2015-12-05T00:00:00\",\"2015-12-06T00:00:00\",\"2015-12-07T00:00:00\",\"2015-12-08T00:00:00\",\"2015-12-09T00:00:00\",\"2015-12-10T00:00:00\",\"2015-12-11T00:00:00\",\"2015-12-12T00:00:00\",\"2015-12-13T00:00:00\",\"2015-12-14T00:00:00\",\"2015-12-15T00:00:00\",\"2015-12-16T00:00:00\",\"2015-12-17T00:00:00\",\"2015-12-18T00:00:00\",\"2015-12-19T00:00:00\",\"2015-12-20T00:00:00\",\"2015-12-21T00:00:00\",\"2015-12-22T00:00:00\",\"2015-12-23T00:00:00\",\"2015-12-24T00:00:00\",\"2015-12-25T00:00:00\",\"2015-12-26T00:00:00\",\"2015-12-27T00:00:00\",\"2015-12-28T00:00:00\",\"2015-12-29T00:00:00\",\"2015-12-30T00:00:00\",\"2015-12-31T00:00:00\",\"2016-01-01T00:00:00\",\"2016-01-02T00:00:00\",\"2016-01-03T00:00:00\",\"2016-01-04T00:00:00\",\"2016-01-05T00:00:00\",\"2016-01-06T00:00:00\",\"2016-01-07T00:00:00\",\"2016-01-08T00:00:00\",\"2016-01-09T00:00:00\",\"2016-01-10T00:00:00\",\"2016-01-11T00:00:00\",\"2016-01-12T00:00:00\",\"2016-01-13T00:00:00\",\"2016-01-14T00:00:00\",\"2016-01-15T00:00:00\",\"2016-01-16T00:00:00\",\"2016-01-17T00:00:00\",\"2016-01-18T00:00:00\",\"2016-01-19T00:00:00\",\"2016-01-20T00:00:00\",\"2016-01-21T00:00:00\",\"2016-01-22T00:00:00\",\"2016-01-23T00:00:00\",\"2016-01-24T00:00:00\",\"2016-01-25T00:00:00\",\"2016-01-26T00:00:00\",\"2016-01-27T00:00:00\",\"2016-01-28T00:00:00\",\"2016-01-29T00:00:00\",\"2016-01-30T00:00:00\",\"2016-01-31T00:00:00\",\"2016-02-01T00:00:00\",\"2016-02-02T00:00:00\",\"2016-02-03T00:00:00\",\"2016-02-04T00:00:00\",\"2016-02-05T00:00:00\",\"2016-02-06T00:00:00\",\"2016-02-07T00:00:00\",\"2016-02-08T00:00:00\",\"2016-02-09T00:00:00\",\"2016-02-10T00:00:00\",\"2016-02-11T00:00:00\",\"2016-02-12T00:00:00\",\"2016-02-13T00:00:00\",\"2016-02-14T00:00:00\",\"2016-02-15T00:00:00\",\"2016-02-16T00:00:00\",\"2016-02-17T00:00:00\",\"2016-02-18T00:00:00\",\"2016-02-19T00:00:00\",\"2016-02-20T00:00:00\",\"2016-02-21T00:00:00\",\"2016-02-22T00:00:00\",\"2016-02-23T00:00:00\",\"2016-02-24T00:00:00\",\"2016-02-25T00:00:00\",\"2016-02-26T00:00:00\",\"2016-02-27T00:00:00\",\"2016-02-28T00:00:00\",\"2016-02-29T00:00:00\",\"2016-03-01T00:00:00\",\"2016-03-02T00:00:00\",\"2016-03-03T00:00:00\",\"2016-03-04T00:00:00\",\"2016-03-05T00:00:00\",\"2016-03-06T00:00:00\",\"2016-03-07T00:00:00\",\"2016-03-08T00:00:00\",\"2016-03-09T00:00:00\",\"2016-03-10T00:00:00\",\"2016-03-11T00:00:00\",\"2016-03-12T00:00:00\",\"2016-03-13T00:00:00\",\"2016-03-14T00:00:00\",\"2016-03-15T00:00:00\",\"2016-03-16T00:00:00\",\"2016-03-17T00:00:00\",\"2016-03-18T00:00:00\",\"2016-03-19T00:00:00\",\"2016-03-20T00:00:00\",\"2016-03-21T00:00:00\",\"2016-03-22T00:00:00\",\"2016-03-23T00:00:00\",\"2016-03-24T00:00:00\",\"2016-03-25T00:00:00\",\"2016-03-26T00:00:00\",\"2016-03-27T00:00:00\",\"2016-03-28T00:00:00\",\"2016-03-29T00:00:00\",\"2016-03-30T00:00:00\",\"2016-03-31T00:00:00\",\"2016-04-01T00:00:00\",\"2016-04-02T00:00:00\",\"2016-04-03T00:00:00\",\"2016-04-04T00:00:00\",\"2016-04-05T00:00:00\",\"2016-04-06T00:00:00\",\"2016-04-07T00:00:00\",\"2016-04-08T00:00:00\",\"2016-04-09T00:00:00\",\"2016-04-10T00:00:00\",\"2016-04-11T00:00:00\",\"2016-04-12T00:00:00\",\"2016-04-13T00:00:00\",\"2016-04-14T00:00:00\",\"2016-04-15T00:00:00\",\"2016-04-16T00:00:00\",\"2016-04-17T00:00:00\",\"2016-04-18T00:00:00\",\"2016-04-19T00:00:00\",\"2016-04-20T00:00:00\",\"2016-04-21T00:00:00\",\"2016-04-22T00:00:00\",\"2016-04-23T00:00:00\",\"2016-04-24T00:00:00\",\"2016-04-25T00:00:00\",\"2016-04-26T00:00:00\",\"2016-04-27T00:00:00\",\"2016-04-28T00:00:00\",\"2016-04-29T00:00:00\",\"2016-04-30T00:00:00\",\"2016-05-01T00:00:00\",\"2016-05-02T00:00:00\",\"2016-05-03T00:00:00\",\"2016-05-04T00:00:00\",\"2016-05-05T00:00:00\",\"2016-05-06T00:00:00\",\"2016-05-07T00:00:00\",\"2016-05-08T00:00:00\",\"2016-05-09T00:00:00\",\"2016-05-10T00:00:00\",\"2016-05-11T00:00:00\",\"2016-05-12T00:00:00\",\"2016-05-13T00:00:00\",\"2016-05-14T00:00:00\",\"2016-05-15T00:00:00\",\"2016-05-16T00:00:00\",\"2016-05-17T00:00:00\",\"2016-05-18T00:00:00\",\"2016-05-19T00:00:00\",\"2016-05-20T00:00:00\",\"2016-05-21T00:00:00\",\"2016-05-22T00:00:00\",\"2016-05-23T00:00:00\",\"2016-05-24T00:00:00\",\"2016-05-25T00:00:00\",\"2016-05-26T00:00:00\",\"2016-05-27T00:00:00\",\"2016-05-28T00:00:00\",\"2016-05-29T00:00:00\",\"2016-05-30T00:00:00\",\"2016-05-31T00:00:00\",\"2016-06-01T00:00:00\",\"2016-06-02T00:00:00\",\"2016-06-03T00:00:00\",\"2016-06-04T00:00:00\",\"2016-06-05T00:00:00\",\"2016-06-06T00:00:00\",\"2016-06-07T00:00:00\",\"2016-06-08T00:00:00\",\"2016-06-09T00:00:00\",\"2016-06-10T00:00:00\",\"2016-06-11T00:00:00\",\"2016-06-12T00:00:00\",\"2016-06-13T00:00:00\",\"2016-06-14T00:00:00\",\"2016-06-15T00:00:00\",\"2016-06-16T00:00:00\",\"2016-06-17T00:00:00\",\"2016-06-18T00:00:00\",\"2016-06-19T00:00:00\",\"2016-06-20T00:00:00\",\"2016-06-21T00:00:00\",\"2016-06-22T00:00:00\",\"2016-06-23T00:00:00\",\"2016-06-24T00:00:00\",\"2016-06-25T00:00:00\",\"2016-06-26T00:00:00\",\"2016-06-27T00:00:00\",\"2016-06-28T00:00:00\",\"2016-06-29T00:00:00\",\"2016-06-30T00:00:00\",\"2016-07-01T00:00:00\",\"2016-07-02T00:00:00\",\"2016-07-03T00:00:00\",\"2016-07-04T00:00:00\",\"2016-07-05T00:00:00\",\"2016-07-06T00:00:00\",\"2016-07-07T00:00:00\",\"2016-07-08T00:00:00\",\"2016-07-09T00:00:00\",\"2016-07-10T00:00:00\",\"2016-07-11T00:00:00\",\"2016-07-12T00:00:00\",\"2016-07-13T00:00:00\",\"2016-07-14T00:00:00\",\"2016-07-15T00:00:00\",\"2016-07-16T00:00:00\",\"2016-07-17T00:00:00\",\"2016-07-18T00:00:00\",\"2016-07-19T00:00:00\",\"2016-07-20T00:00:00\",\"2016-07-21T00:00:00\",\"2016-07-22T00:00:00\",\"2016-07-23T00:00:00\",\"2016-07-24T00:00:00\",\"2016-07-25T00:00:00\",\"2016-07-26T00:00:00\",\"2016-07-27T00:00:00\",\"2016-07-28T00:00:00\",\"2016-07-29T00:00:00\",\"2016-07-30T00:00:00\",\"2016-07-31T00:00:00\",\"2016-08-01T00:00:00\",\"2016-08-02T00:00:00\",\"2016-08-03T00:00:00\",\"2016-08-04T00:00:00\",\"2016-08-05T00:00:00\",\"2016-08-06T00:00:00\",\"2016-08-07T00:00:00\",\"2016-08-08T00:00:00\",\"2016-08-09T00:00:00\",\"2016-08-10T00:00:00\",\"2016-08-11T00:00:00\",\"2016-08-12T00:00:00\",\"2016-08-13T00:00:00\",\"2016-08-14T00:00:00\",\"2016-08-15T00:00:00\",\"2016-08-16T00:00:00\",\"2016-08-17T00:00:00\",\"2016-08-18T00:00:00\",\"2016-08-19T00:00:00\",\"2016-08-20T00:00:00\",\"2016-08-21T00:00:00\",\"2016-08-22T00:00:00\",\"2016-08-23T00:00:00\",\"2016-08-24T00:00:00\",\"2016-08-25T00:00:00\",\"2016-08-26T00:00:00\",\"2016-08-27T00:00:00\",\"2016-08-28T00:00:00\",\"2016-08-29T00:00:00\",\"2016-08-30T00:00:00\",\"2016-08-31T00:00:00\",\"2016-09-01T00:00:00\",\"2016-09-02T00:00:00\",\"2016-09-03T00:00:00\",\"2016-09-04T00:00:00\",\"2016-09-05T00:00:00\",\"2016-09-06T00:00:00\",\"2016-09-07T00:00:00\",\"2016-09-08T00:00:00\",\"2016-09-09T00:00:00\",\"2016-09-10T00:00:00\",\"2016-09-11T00:00:00\",\"2016-09-12T00:00:00\",\"2016-09-13T00:00:00\",\"2016-09-14T00:00:00\",\"2016-09-15T00:00:00\",\"2016-09-16T00:00:00\",\"2016-09-17T00:00:00\",\"2016-09-18T00:00:00\",\"2016-09-19T00:00:00\",\"2016-09-20T00:00:00\",\"2016-09-21T00:00:00\",\"2016-09-22T00:00:00\",\"2016-09-23T00:00:00\",\"2016-09-24T00:00:00\",\"2016-09-25T00:00:00\",\"2016-09-26T00:00:00\",\"2016-09-27T00:00:00\",\"2016-09-28T00:00:00\",\"2016-09-29T00:00:00\",\"2016-09-30T00:00:00\",\"2016-10-01T00:00:00\",\"2016-10-02T00:00:00\",\"2016-10-03T00:00:00\",\"2016-10-04T00:00:00\",\"2016-10-05T00:00:00\",\"2016-10-06T00:00:00\",\"2016-10-07T00:00:00\",\"2016-10-08T00:00:00\",\"2016-10-09T00:00:00\",\"2016-10-10T00:00:00\",\"2016-10-11T00:00:00\",\"2016-10-12T00:00:00\",\"2016-10-13T00:00:00\",\"2016-10-14T00:00:00\",\"2016-10-15T00:00:00\",\"2016-10-16T00:00:00\",\"2016-10-17T00:00:00\",\"2016-10-18T00:00:00\",\"2016-10-19T00:00:00\",\"2016-10-20T00:00:00\",\"2016-10-21T00:00:00\",\"2016-10-22T00:00:00\",\"2016-10-23T00:00:00\",\"2016-10-24T00:00:00\",\"2016-10-25T00:00:00\",\"2016-10-26T00:00:00\",\"2016-10-27T00:00:00\",\"2016-10-28T00:00:00\",\"2016-10-29T00:00:00\",\"2016-10-30T00:00:00\",\"2016-10-31T00:00:00\",\"2016-11-01T00:00:00\",\"2016-11-02T00:00:00\",\"2016-11-03T00:00:00\",\"2016-11-04T00:00:00\",\"2016-11-05T00:00:00\",\"2016-11-06T00:00:00\",\"2016-11-07T00:00:00\",\"2016-11-08T00:00:00\",\"2016-11-09T00:00:00\",\"2016-11-10T00:00:00\",\"2016-11-11T00:00:00\",\"2016-11-12T00:00:00\",\"2016-11-13T00:00:00\",\"2016-11-14T00:00:00\",\"2016-11-15T00:00:00\",\"2016-11-16T00:00:00\",\"2016-11-17T00:00:00\",\"2016-11-18T00:00:00\",\"2016-11-19T00:00:00\",\"2016-11-20T00:00:00\",\"2016-11-21T00:00:00\",\"2016-11-22T00:00:00\",\"2016-11-23T00:00:00\",\"2016-11-24T00:00:00\",\"2016-11-25T00:00:00\",\"2016-11-26T00:00:00\",\"2016-11-27T00:00:00\",\"2016-11-28T00:00:00\",\"2016-11-29T00:00:00\",\"2016-11-30T00:00:00\",\"2016-12-01T00:00:00\",\"2016-12-02T00:00:00\",\"2016-12-03T00:00:00\",\"2016-12-04T00:00:00\",\"2016-12-05T00:00:00\",\"2016-12-06T00:00:00\",\"2016-12-07T00:00:00\",\"2016-12-08T00:00:00\",\"2016-12-09T00:00:00\",\"2016-12-10T00:00:00\",\"2016-12-11T00:00:00\",\"2016-12-12T00:00:00\",\"2016-12-13T00:00:00\",\"2016-12-14T00:00:00\",\"2016-12-15T00:00:00\",\"2016-12-16T00:00:00\",\"2016-12-17T00:00:00\",\"2016-12-18T00:00:00\",\"2016-12-19T00:00:00\",\"2016-12-20T00:00:00\",\"2016-12-21T00:00:00\",\"2016-12-22T00:00:00\",\"2016-12-23T00:00:00\",\"2016-12-24T00:00:00\",\"2016-12-25T00:00:00\",\"2016-12-26T00:00:00\",\"2016-12-27T00:00:00\",\"2016-12-28T00:00:00\",\"2016-12-29T00:00:00\",\"2016-12-30T00:00:00\",\"2016-12-31T00:00:00\",\"2017-01-01T00:00:00\"],\"y\":[0.0,2.98,4.633333333333334,1.2333333333333334,3.7,1.48,6.3,7.142857142857143,12.5,7.399999999999999,10.571428571428571,13.228571428571428,4.633333333333334,0.6166666666666667,0.5285714285714286,0.0,5.250000000000001,8.950000000000001,5.883333333333333,8.471428571428572,2.22,3.083333333333333,4.016666666666667,6.166666666666667,5.55,6.800000000000001,5.557142857142857,3.7,3.2375,1.0571428571428572,2.96,2.22,1.3285714285714287,1.8571428571428568,11.114285714285714,9.725,8.633333333333333,10.74,9.257142857142856,9.257142857142856,3.475,5.325,7.416666666666667,6.085714285714287,4.333333333333333,10.183333333333335,8.485714285714286,0.0,12.220000000000002,5.814285714285715,5.814285714285715,6.614285714285714,10.875000000000002,9.257142857142856,7.400000000000001,4.6375,17.587500000000002,6.660000000000001,12.957142857142856,24.066666666666663,15.725,8.633333333333333,5.5600000000000005,4.1625000000000005,6.871428571428573,8.728571428571428,7.1000000000000005,5.285714285714286,4.228571428571429,0.9333333333333332,4.933333333333334,5.55,12.033333333333331,7.716666666666668,3.7,8.95,17.457142857142856,10.483333333333333,6.800000000000001,10.5,9.7125,9.95,10.8875,15.9625,12.957142857142856,1.85,7.4142857142857155,5.550000000000001,11.1125,6.660000000000001,4.4,8.65,8.14,11.12,15.56,11.900000000000002,10.314285714285717,5.3,8.65,6.1,7.780000000000001,6.342857142857143,10.000000000000002,6.487499999999999,6.25,10.425,6.659999999999999,4.757142857142858,3.971428571428571,7.6375,13.883333333333333,7.650000000000001,4.625000000000001,2.1142857142857143,3.7,6.7125,13.485714285714286,12.971428571428572,7.875,7.928571428571429,12.685714285714289,11.433333333333335,9.0,2.914285714285714,3.0125,3.7,7.175000000000001,9.25,8.985714285714284,9.528571428571428,14.8125,5.828571428571428,3.971428571428572,4.771428571428571,3.2375000000000003,7.175000000000001,9.866666666666667,12.966666666666669,15.749999999999998,7.4,11.371428571428572,17.5875,13.566666666666668,11.385714285714286,10.314285714285717,10.74,8.72857142857143,8.333333333333334,5.557142857142858,5.5600000000000005,10.6375,13.4375,14.2,12.239999999999998,5.028571428571429,9.866666666666664,10.042857142857144,7.412500000000001,13.34,11.416666666666666,8.100000000000001,16.349999999999998,7.4142857142857155,9.866666666666664,7.942857142857142,13.22857142857143,8.485714285714286,8.3375,5.18,4.228571428571429,4.771428571428571,5.866666666666667,10.74,8.350000000000001,13.22857142857143,11.114285714285716,6.483333333333333,7.957142857142856,8.8125,13.875,10.5,8.728571428571428,9.8,6.357142857142857,9.25,12.96,11.37142857142857,7.1000000000000005,6.483333333333334,8.016666666666667,6.4875,7.116666666666667,5.562500000000001,12.0625,4.8125,13.5375,9.0,8.65,5.550000000000001,9.266666666666666,4.933333333333333,2.24,4.333333333333333,3.971428571428572,3.971428571428571,8.016666666666667,5.571428571428572,4.228571428571429,6.085714285714286,4.771428571428571,8.016666666666667,9.866666666666664,5.550000000000001,11.114285714285716,10.816666666666665,5.1,6.783333333333334,4.016666666666667,3.25,6.166666666666667,3.716666666666667,6.1000000000000005,6.800000000000001,8.350000000000001,11.125,9.866666666666667,8.2,4.46,14.285714285714286,1.2333333333333334,5.550000000000001,5.325,10.314285714285717,6.483333333333334,2.642857142857143,18.525,0.925,6.475,17.071428571428573,11.642857142857142,9.275,3.1,4.65,11.48,15.342857142857142,14.8,14.54285714285714,13.566666666666668,10.042857142857144,6.783333333333334,2.325,42.22,3.7,3.971428571428571,2.7833333333333337,3.171428571428572,2.7833333333333337,3.9375,7.100000000000001,3.475,5.557142857142858,2.96,9.583333333333334,5.18,3.083333333333333,4.5,5.7875000000000005,6.614285714285715,4.08,7.4125,1.2333333333333334,5.557142857142858,4.228571428571429,6.371428571428571,7.42,7.4,6.783333333333334,2.0875,1.85,1.585714285714286,0.0,5.566666666666667,3.971428571428572,4.242857142857143,2.914285714285714,0.6166666666666667,5.557142857142858,3.7,0.0,1.0571428571428572,0.0,2.1142857142857143,1.55,1.3875000000000002,0.0,1.1625,1.0571428571428572,1.86,0.74,2.5500000000000003,4.933333333333334,3.971428571428571,2.385714285714286,3.083333333333333,1.0571428571428572,4.6375,5.5625,2.466666666666667,0.0,3.185714285714285,4.500000000000001,19.9125,0.5285714285714286,2.466666666666667,5.814285714285715,0.7999999999999999,3.0125,3.475,0.925,0.0,2.3857142857142857,7.412500000000001,7.175,2.55,2.0875,1.1625,0.7999999999999999,5.0875,9.5,9.75,2.7875,1.85,4.8625,11.8125,1.585714285714286,1.85,1.3875,4.228571428571429,6.885714285714286,3.7125,1.1625,0.0,2.3125,2.55,6.475000000000001,16.9,11.62857142857143,0.7999999999999999,2.55,1.1625,0.925,2.0875,3.25,4.4125000000000005,0.4625,1.3875000000000002,9.025,5.7875000000000005,34.4875,4.4,1.1625,5.325,5.325,6.4750000000000005,4.862500000000001,7.65,8.1,5.325,1.1625,0.4625,27.3375,20.6,1.85,1.2333333333333334,0.0,6.7250000000000005,3.2500000000000004,1.1625,2.7875,0.4625,1.585714285714286,1.1625,1.85,3.475,4.4125000000000005,7.171428571428572,6.7125,6.7125,8.1125,8.3375,8.8125,9.95,7.4125,4.625000000000001,0.925,3.0125,2.55,1.85,12.2875,13.425,1.625,6.012500000000001,15.05,8.1125,9.2625,3.7,3.7,9.2625,4.875,5.3375,3.9375,8.7875,12.725,8.799999999999999,1.85,1.8625,8.7875,6.250000000000001,7.887500000000001,5.3375,0.925,2.0875,7.175000000000001,5.799999999999999,4.242857142857143,5.7875000000000005,3.7,3.7125,5.325000000000001,4.6375,6.7125,9.9625,7.65,10.8875,15.6,6.4875,9.95,5.800000000000001,2.7875,6.25,6.7125,9.8,10.1875,7.4,5.3375,3.0125,9.025,9.4875,2.775,2.7750000000000004,4.8875,4.5,8.35,13.9,13.2,9.7125,7.175,10.425,11.914285714285716,9.2625,6.7125,12.9625,12.725,12.7375,12.500000000000002,10.05714285714286,5.1000000000000005,15.5125,5.3500000000000005,2.55,4.4,9.25,14.3375,5.1,4.6375,8.8125,12.5,6.025,7.875,8.1125,8.1125,8.350000000000001,10.1875,8.325,5.3375,9.7375,6.4875,6.475,5.8,9.0375,6.885714285714287,1.85,10.6625,6.487500000000001,7.8875,7.65,10.8875,9.9625,8.575000000000001,11.125,9.4875,7.175000000000001,13.9,11.575000000000005,7.6375,9.7125,11.1125,19.450000000000003,6.725,16.4375,4.175,2.55,3.95,4.4,11.5875,6.4875,16.2,4.6375,6.487500000000001,7.1875,8.5625,10.2,13.1875,6.7250000000000005,6.025,12.0375,14.8125,24.325,16.6625,6.487500000000001,8.1,10.8875,15.9625,10.425,10.8875,17.825,9.7375,4.4,6.7125,10.1875,13.2,3.2375,9.4875,5.7875,9.7125,3.25,6.25,5.787500000000001,5.0875,4.333333333333333,9.202941176470588,3.7125,5.5625,9.725,13.65,11.3375,8.7875,5.3375,6.025,6.725,8.825000000000001,10.45,6.7250000000000005,2.55,6.25,6.262499999999999,4.65,7.175,8.1125,12.0375,9.9625,7.175,6.25,18.05,5.7875000000000005,4.175000000000001,7.425,6.500000000000001,0.925,5.7875000000000005,5.1000000000000005,1.85,5.5625,6.949999999999999,6.012500000000001,6.652941176470588,5.2250000000000005,3.0125,8.3375,20.825,18.5125,14.5875,8.35,7.1875,5.5625,6.885714285714286,8.7875,10.8875,8.5625,9.2625,11.35,7.874999999999999,9.9625,8.112499999999999,6.7250000000000005,3.7,4.1625,4.4125,15.5125,10.425,15.0375,9.275,8.337499999999999,2.0875,1.4,3.475,1.85,4.875,17.825,1.625,4.1625,6.712500000000001,6.7125,6.25,7.4,6.7125,4.175000000000001,4.4,5.5625,13.437499999999998,30.685714285714283,8.1,9.725,5.7875,8.799999999999999,7.175,7.4125,6.712500000000001,3.1714285714285717,2.7875,1.85,0.0,0.0,0.0,1.1625,3.7125,3.2375,3.2375000000000003,6.9375,0.4625,8.799999999999999,5.325000000000001,3.2625,4.862500000000001,25.0125,21.3,4.1625,4.4,2.0875,0.4625,0.925,1.85,0.925,2.0875000000000004,1.8625,2.5625,1.625,1.85,3.7125,5.325000000000001,7.1875,4.1625,3.9375,4.625,6.25,2.3125,1.625,4.1625,3.4750000000000005,2.325,2.3125,3.2375,7.4125,2.775,2.55,2.7750000000000004,2.0875,1.1625,3.0250000000000004,3.2375,1.625,1.3875,4.175000000000001,2.55,5.550000000000001,0.0,0.0,0.0,2.55,8.799999999999999,7.875000000000001,11.37142857142857,4.862500000000001,2.55,4.8625,4.862500000000001,2.775,0.0,4.8625,3.25,0.4625,8.8,3.95,2.325,7.425000000000001,6.4875,3.0125,0.4625,5.800000000000001,0.925,1.3875000000000002,1.625,3.4750000000000005,8.100000000000001,7.6375,2.775,0.7,1.3875,2.55,2.7875,0.925,3.0125,0.925,9.5125,15.05,4.4,3.9375,3.4875,1.625,4.4125000000000005,4.8625,0.925,4.875,5.1000000000000005,0.925,4.6375,1.8625,2.5500000000000003,1.85,7.1875,3.7,3.2375,1.1625,9.7375,4.1625,0.925,5.3375,27.775,3.9375,12.0375,9.025,5.1000000000000005,11.8125,7.175000000000002,9.25,7.399999999999999,3.0125,1.85,4.4125000000000005,5.55,4.625,1.85,6.025,6.725,4.1625,1.3875000000000002,10.425,5.028571428571429,5.1000000000000005,7.65,7.187500000000001,11.3375,14.812499999999998,3.0250000000000004,6.0375,6.5,6.7125,5.800000000000001,6.950000000000001,14.8125,6.725,5.5625,6.7125,3.7,5.0875,4.175,7.8875,12.2625,8.5625,6.025,5.325000000000001,4.175000000000001,7.875,11.575,8.5625,13.2,12.2625,5.3375,9.025,5.7875,10.2,7.637499999999999,1.3875000000000002,2.55,9.2625,7.65,3.7125,13.1875,14.8125,3.7,6.7125,10.175,6.9625,1.3875000000000002,17.6,2.775,9.7375,6.712500000000001,9.0375,6.25,8.1,5.325,6.950000000000001,3.0125,5.7875000000000005,8.1125,8.3375,5.562500000000001,4.175,7.1875,11.1125,11.349999999999998,8.1,2.5500000000000003,12.975,15.7375,17.5875,12.5125,9.025,15.05,5.3375,4.4,3.0125,3.9375,7.649999999999999,11.3625,15.342857142857143,12.275,8.3375,6.9625,10.8875,6.0375000000000005,6.7125,4.4125,7.175000000000001,4.1625,8.35,5.562500000000001,14.812500000000002,14.6,11.3375,12.5125,12.725,5.1000000000000005,10.875,17.125,6.7125,8.3375,8.125,12.2625,14.5875,12.5125,8.575,6.7250000000000005,4.8625,6.0125,7.862500000000001,7.175000000000001,6.25,18.75,18.05,18.2875,12.7375,10.1875,3.95,3.0125,2.7875,3.25,3.0125,8.575,12.975,8.1125,4.4,6.012500000000001,6.5,6.2625,11.5625,14.1125,9.0375,11.562500000000002,9.9625,4.175000000000001,6.949999999999999,14.35,16.900000000000002,14.014285714285714,9.275,1.85,2.7750000000000004,2.55,6.025,3.2375000000000003,7.425000000000001,4.8625,10.875,17.137500000000003,13.437499999999998,4.4,4.175,0.7,4.8625,8.125,7.875000000000002,8.575000000000001,6.7125,19.9125,16.8875,11.3375,11.5875,10.875,9.9625,4.175000000000001,0.925,2.55,5.325,4.771428571428572,8.221875,3.0250000000000004,2.3125,1.625,3.0125,0.0,0.4625,0.0,0.4625,3.475,0.0,1.85,0.7,4.875,33.325,14.6,8.575,5.800000000000001,5.5625,7.1875,10.071428571428571,4.862500000000001,5.325000000000001,2.3125,5.812500000000001,9.275,13.485714285714286,15.275,12.7375,10.1875,11.35,7.637499999999999,7.6375,9.4875,11.8125,10.1875,8.575000000000001,6.012499999999999,3.171428571428572,1.3875000000000002,2.55,0.4625,1.4,1.1625,7.4125,2.0875000000000004,5.557142857142858,5.800000000000002,10.187499999999998,13.675,11.575,8.575,6.25,2.9142857142857146,3.9375,9.528571428571428,8.3375,5.574999999999999,14.5875,18.785714285714285,3.0250000000000004,1.3875000000000002,4.6375,6.4750000000000005,4.4125000000000005,6.025,6.7125,6.885714285714286,3.25,3.725000000000001,4.875000000000001,0.4625,0.925,3.7125,11.1125,3.4571428571428577,2.9142857142857146,2.0875,4.4,4.862500000000001,1.4,5.575,5.574999999999999,3.475,7.875000000000001,1.85,1.625,1.1625,0.925,0.4625,0.475,0.925,5.100000000000001,2.325,1.1625,1.8625,0.7,0.7,4.6375,5.7875,5.325,3.475,0.0,2.7875,5.1000000000000005,4.4,0.925,0.4625,1.3875000000000002,0.4625,0.0,1.625,5.7875000000000005,0.925,2.55,1.1625,1.1625,0.925,1.625,2.0875,7.1875,4.6375,0.925,1.4,2.3125,1.0571428571428572,3.475,2.0875000000000004,5.1000000000000005,4.4,3.475,7.400000000000001,5.325,1.1625,0.925,4.4,3.4875,1.1625,1.3875000000000002,0.7,3.4875000000000003,6.025,5.5625,6.4875,7.8875,10.8875,7.4125,2.1,2.0875,1.0571428571428572,2.0875,5.112500000000001,0.0,0.6166666666666667,2.3125,0.0,7.887500000000001,8.471428571428572,2.775,1.625,6.03125,5.08,4.300000000000001,10.775,11.239999999999998,2.1066666666666665,1.4800000000000002,4.65,6.193333333333333,7.887499999999998,3.586666666666667,3.2500000000000004,6.624999999999999,4.58,2.5500000000000003,4.025,5.028571428571429,2.54375,1.2,7.762500000000001,7.269230769230768,8.893333333333333,7.622222222222222,6.941666666666666,2.1666666666666665,3.7,2.7875,5.9,5.846153846153848,2.1,6.03125,0.7466666666666666,5.806666666666668,8.071428571428571,5.94,5.435714285714285,3.7071428571428577,5.186666666666667,4.146153846153847,11.11875,17.137500000000003,15.20714285714286,9.785714285714286,2.4437500000000005,5.3375,2.48,3.333333333333334,3.712500000000001,3.712500000000001,1.7,1.7333333333333334,4.292307692307692,6.14375,11.0,5.21875,5.171428571428572,6.742857142857142,9.375,7.981249999999999,6.546666666666667,9.4875,6.84375,6.275,8.646666666666667,10.88125,6.84375,6.7125,3.578571428571429,2.8466666666666667,12.2625,22.1,10.641666666666667,3.2133333333333334,3.3687500000000004,9.393333333333334,9.156249999999996,6.546666666666667,7.293749999999999,7.021428571428571,4.333333333333333,12.035714285714285,5.4625,2.55,8.0,9.26875,3.475,10.85,4.686666666666667,12.61875,5.225,16.04,19.380000000000003,18.64375,10.425,9.8375,11.1125,9.386666666666663,7.175,4.566666666666666,14.01875,15.75,8.35,19.65384615384616,10.1875,6.949999999999999,3.83125,4.981249999999999,11.823076923076922,9.123076923076924,5.2125,8.575,9.513333333333334,6.49375,10.464285714285715,11.246666666666666,8.225,4.65,7.293333333333332,18.425,10.55625,7.774999999999999,5.1,8.07058823529412,4.16875,4.75,9.019999999999998,9.6125,8.45,9.3875,8.413333333333334,10.873333333333331,6.553333333333333,14.95,8.494736842105263,10.160869565217393,15.17692307692308,15.31818181818182,14.405555555555551,11.68125,9.4875,7.4071428571428575,9.133333333333336,11.93125,2.7812500000000004,3.2066666666666666,8.5,11.0,21.30625,8.485714285714284,9.26,10.08125,8.812500000000002,9.1625,12.85,11.859999999999998,10.513333333333332,11.39285714285714,7.425,10.857142857142858,9.387499999999998,7.643750000000001,8.91875,7.418750000000001,5.875000000000001,7.762499999999999,9.664285714285713,7.660000000000001,7.993749999999999,5.435714285714285,8.449999999999998,6.793333333333333,8.35,5.231250000000001,1.96875,3.481250000000001,5.3375,8.878571428571428,5.91875,5.433333333333335,6.73125,4.7,8.046666666666665,5.5625,6.806666666666667,5.21875,7.271428571428571,4.371428571428571,6.6000000000000005,7.653333333333333,13.656249999999998,12.9625,11.48,8.687500000000002,7.768750000000001,2.43125,2.9125000000000005,6.485714285714287,4.293750000000001,5.186666666666667,2.43125,1.86,4.7,5.9125000000000005,6.375,5.45,7.927777777777779,4.319999999999999,6.926666666666667,7.852941176470587,9.440909090909091,9.55,10.159259259259262,7.82142857142857,3.848148148148149,3.2296296296296303,6.369999999999998,12.725,14.66666666666667,6.325,1.7222222222222223,1.917857142857143,10.366666666666667,10.022222222222224,8.237037037037037,6.084,8.419230769230769,6.276923076923075,4.392592592592593,7.15,7.2719999999999985,5.825,8.903846153846153,6.729629629629631,4.148,13.204347826086956,13.263157894736842,11.12307692307692,13.961538461538463,13.437499999999998,9.1,10.808333333333332,11.52222222222222,11.969230769230771,8.15,10.85,8.526666666666666,4.235714285714287,11.9,3.5200000000000005,2.707692307692308,17.908333333333335,2.0875,2.56923076923077,6.0920000000000005,8.107407407407404,3.571428571428573,5.496153846153845,3.1478260869565218,2.986956521739131,1.7807692307692309,2.5200000000000005,3.963636363636364,2.582142857142858,3.170833333333334,4.122222222222223,3.992592592592593,5.770370370370371,3.325,3.2333333333333325,15.825,8.76153846153846,3.184000000000001,4.807407407407408,8.922222222222224,11.371428571428568,13.022222222222224,8.934782608695652,6.662962962962963,7.014285714285715,7.1160000000000005,7.668181818181818,6.459259259259259,9.124,10.695454545454549,13.323076923076924,11.546153846153846,11.188461538461535,12.388461538461542,5.699999999999998,6.044444444444444,7.277777777777777,1.7148148148148148,2.0130434782608697,1.6423076923076925,2.7153846153846155,1.4318181818181817,2.2320000000000007,4.122222222222222,5.784615384615384,2.411111111111111,8.172727272727274,12.750000000000002,7.074074074074074,3.225925925925927,2.968,2.7846153846153854,4.4,1.4961538461538462,4.087999999999999,7.138461538461537,11.55,7.7799999999999985,2.8400000000000003,2.5050000000000003,2.7153846153846155,7.999999999999998,6.604347826086956,8.289473684210526,15.085000000000004,14.494117647058824,12.45909090909091,9.185714285714289,1.238888888888889,4.269565217391306,2.704166666666667,4.945833333333334,5.866666666666666,5.666666666666666,4.9523809523809526,2.5038461538461543,0.925,1.765,1.3125,5.355555555555556,4.716666666666667,3.2818181818181817,3.4300000000000006,8.027777777777775,9.879166666666666,3.9166666666666674,6.731578947368422,6.420833333333331,10.414285714285716,15.926666666666671,19.40476190476191,6.1809523809523785,1.205,5.236363636363636,9.085,8.784210526315787,8.335,3.547826086956522,6.0,6.266666666666667,7.325,0.0],\"type\":\"scatter\"}],                        {\"template\":{\"data\":{\"barpolar\":[{\"marker\":{\"line\":{\"color\":\"white\",\"width\":0.5},\"pattern\":{\"fillmode\":\"overlay\",\"size\":10,\"solidity\":0.2}},\"type\":\"barpolar\"}],\"bar\":[{\"error_x\":{\"color\":\"#2a3f5f\"},\"error_y\":{\"color\":\"#2a3f5f\"},\"marker\":{\"line\":{\"color\":\"white\",\"width\":0.5},\"pattern\":{\"fillmode\":\"overlay\",\"size\":10,\"solidity\":0.2}},\"type\":\"bar\"}],\"carpet\":[{\"aaxis\":{\"endlinecolor\":\"#2a3f5f\",\"gridcolor\":\"#C8D4E3\",\"linecolor\":\"#C8D4E3\",\"minorgridcolor\":\"#C8D4E3\",\"startlinecolor\":\"#2a3f5f\"},\"baxis\":{\"endlinecolor\":\"#2a3f5f\",\"gridcolor\":\"#C8D4E3\",\"linecolor\":\"#C8D4E3\",\"minorgridcolor\":\"#C8D4E3\",\"startlinecolor\":\"#2a3f5f\"},\"type\":\"carpet\"}],\"choropleth\":[{\"colorbar\":{\"outlinewidth\":0,\"ticks\":\"\"},\"type\":\"choropleth\"}],\"contourcarpet\":[{\"colorbar\":{\"outlinewidth\":0,\"ticks\":\"\"},\"type\":\"contourcarpet\"}],\"contour\":[{\"colorbar\":{\"outlinewidth\":0,\"ticks\":\"\"},\"colorscale\":[[0.0,\"#0d0887\"],[0.1111111111111111,\"#46039f\"],[0.2222222222222222,\"#7201a8\"],[0.3333333333333333,\"#9c179e\"],[0.4444444444444444,\"#bd3786\"],[0.5555555555555556,\"#d8576b\"],[0.6666666666666666,\"#ed7953\"],[0.7777777777777778,\"#fb9f3a\"],[0.8888888888888888,\"#fdca26\"],[1.0,\"#f0f921\"]],\"type\":\"contour\"}],\"heatmapgl\":[{\"colorbar\":{\"outlinewidth\":0,\"ticks\":\"\"},\"colorscale\":[[0.0,\"#0d0887\"],[0.1111111111111111,\"#46039f\"],[0.2222222222222222,\"#7201a8\"],[0.3333333333333333,\"#9c179e\"],[0.4444444444444444,\"#bd3786\"],[0.5555555555555556,\"#d8576b\"],[0.6666666666666666,\"#ed7953\"],[0.7777777777777778,\"#fb9f3a\"],[0.8888888888888888,\"#fdca26\"],[1.0,\"#f0f921\"]],\"type\":\"heatmapgl\"}],\"heatmap\":[{\"colorbar\":{\"outlinewidth\":0,\"ticks\":\"\"},\"colorscale\":[[0.0,\"#0d0887\"],[0.1111111111111111,\"#46039f\"],[0.2222222222222222,\"#7201a8\"],[0.3333333333333333,\"#9c179e\"],[0.4444444444444444,\"#bd3786\"],[0.5555555555555556,\"#d8576b\"],[0.6666666666666666,\"#ed7953\"],[0.7777777777777778,\"#fb9f3a\"],[0.8888888888888888,\"#fdca26\"],[1.0,\"#f0f921\"]],\"type\":\"heatmap\"}],\"histogram2dcontour\":[{\"colorbar\":{\"outlinewidth\":0,\"ticks\":\"\"},\"colorscale\":[[0.0,\"#0d0887\"],[0.1111111111111111,\"#46039f\"],[0.2222222222222222,\"#7201a8\"],[0.3333333333333333,\"#9c179e\"],[0.4444444444444444,\"#bd3786\"],[0.5555555555555556,\"#d8576b\"],[0.6666666666666666,\"#ed7953\"],[0.7777777777777778,\"#fb9f3a\"],[0.8888888888888888,\"#fdca26\"],[1.0,\"#f0f921\"]],\"type\":\"histogram2dcontour\"}],\"histogram2d\":[{\"colorbar\":{\"outlinewidth\":0,\"ticks\":\"\"},\"colorscale\":[[0.0,\"#0d0887\"],[0.1111111111111111,\"#46039f\"],[0.2222222222222222,\"#7201a8\"],[0.3333333333333333,\"#9c179e\"],[0.4444444444444444,\"#bd3786\"],[0.5555555555555556,\"#d8576b\"],[0.6666666666666666,\"#ed7953\"],[0.7777777777777778,\"#fb9f3a\"],[0.8888888888888888,\"#fdca26\"],[1.0,\"#f0f921\"]],\"type\":\"histogram2d\"}],\"histogram\":[{\"marker\":{\"pattern\":{\"fillmode\":\"overlay\",\"size\":10,\"solidity\":0.2}},\"type\":\"histogram\"}],\"mesh3d\":[{\"colorbar\":{\"outlinewidth\":0,\"ticks\":\"\"},\"type\":\"mesh3d\"}],\"parcoords\":[{\"line\":{\"colorbar\":{\"outlinewidth\":0,\"ticks\":\"\"}},\"type\":\"parcoords\"}],\"pie\":[{\"automargin\":true,\"type\":\"pie\"}],\"scatter3d\":[{\"line\":{\"colorbar\":{\"outlinewidth\":0,\"ticks\":\"\"}},\"marker\":{\"colorbar\":{\"outlinewidth\":0,\"ticks\":\"\"}},\"type\":\"scatter3d\"}],\"scattercarpet\":[{\"marker\":{\"colorbar\":{\"outlinewidth\":0,\"ticks\":\"\"}},\"type\":\"scattercarpet\"}],\"scattergeo\":[{\"marker\":{\"colorbar\":{\"outlinewidth\":0,\"ticks\":\"\"}},\"type\":\"scattergeo\"}],\"scattergl\":[{\"marker\":{\"colorbar\":{\"outlinewidth\":0,\"ticks\":\"\"}},\"type\":\"scattergl\"}],\"scattermapbox\":[{\"marker\":{\"colorbar\":{\"outlinewidth\":0,\"ticks\":\"\"}},\"type\":\"scattermapbox\"}],\"scatterpolargl\":[{\"marker\":{\"colorbar\":{\"outlinewidth\":0,\"ticks\":\"\"}},\"type\":\"scatterpolargl\"}],\"scatterpolar\":[{\"marker\":{\"colorbar\":{\"outlinewidth\":0,\"ticks\":\"\"}},\"type\":\"scatterpolar\"}],\"scatter\":[{\"fillpattern\":{\"fillmode\":\"overlay\",\"size\":10,\"solidity\":0.2},\"type\":\"scatter\"}],\"scatterternary\":[{\"marker\":{\"colorbar\":{\"outlinewidth\":0,\"ticks\":\"\"}},\"type\":\"scatterternary\"}],\"surface\":[{\"colorbar\":{\"outlinewidth\":0,\"ticks\":\"\"},\"colorscale\":[[0.0,\"#0d0887\"],[0.1111111111111111,\"#46039f\"],[0.2222222222222222,\"#7201a8\"],[0.3333333333333333,\"#9c179e\"],[0.4444444444444444,\"#bd3786\"],[0.5555555555555556,\"#d8576b\"],[0.6666666666666666,\"#ed7953\"],[0.7777777777777778,\"#fb9f3a\"],[0.8888888888888888,\"#fdca26\"],[1.0,\"#f0f921\"]],\"type\":\"surface\"}],\"table\":[{\"cells\":{\"fill\":{\"color\":\"#EBF0F8\"},\"line\":{\"color\":\"white\"}},\"header\":{\"fill\":{\"color\":\"#C8D4E3\"},\"line\":{\"color\":\"white\"}},\"type\":\"table\"}]},\"layout\":{\"annotationdefaults\":{\"arrowcolor\":\"#2a3f5f\",\"arrowhead\":0,\"arrowwidth\":1},\"autotypenumbers\":\"strict\",\"coloraxis\":{\"colorbar\":{\"outlinewidth\":0,\"ticks\":\"\"}},\"colorscale\":{\"diverging\":[[0,\"#8e0152\"],[0.1,\"#c51b7d\"],[0.2,\"#de77ae\"],[0.3,\"#f1b6da\"],[0.4,\"#fde0ef\"],[0.5,\"#f7f7f7\"],[0.6,\"#e6f5d0\"],[0.7,\"#b8e186\"],[0.8,\"#7fbc41\"],[0.9,\"#4d9221\"],[1,\"#276419\"]],\"sequential\":[[0.0,\"#0d0887\"],[0.1111111111111111,\"#46039f\"],[0.2222222222222222,\"#7201a8\"],[0.3333333333333333,\"#9c179e\"],[0.4444444444444444,\"#bd3786\"],[0.5555555555555556,\"#d8576b\"],[0.6666666666666666,\"#ed7953\"],[0.7777777777777778,\"#fb9f3a\"],[0.8888888888888888,\"#fdca26\"],[1.0,\"#f0f921\"]],\"sequentialminus\":[[0.0,\"#0d0887\"],[0.1111111111111111,\"#46039f\"],[0.2222222222222222,\"#7201a8\"],[0.3333333333333333,\"#9c179e\"],[0.4444444444444444,\"#bd3786\"],[0.5555555555555556,\"#d8576b\"],[0.6666666666666666,\"#ed7953\"],[0.7777777777777778,\"#fb9f3a\"],[0.8888888888888888,\"#fdca26\"],[1.0,\"#f0f921\"]]},\"colorway\":[\"#636efa\",\"#EF553B\",\"#00cc96\",\"#ab63fa\",\"#FFA15A\",\"#19d3f3\",\"#FF6692\",\"#B6E880\",\"#FF97FF\",\"#FECB52\"],\"font\":{\"color\":\"#2a3f5f\"},\"geo\":{\"bgcolor\":\"white\",\"lakecolor\":\"white\",\"landcolor\":\"white\",\"showlakes\":true,\"showland\":true,\"subunitcolor\":\"#C8D4E3\"},\"hoverlabel\":{\"align\":\"left\"},\"hovermode\":\"closest\",\"mapbox\":{\"style\":\"light\"},\"paper_bgcolor\":\"white\",\"plot_bgcolor\":\"white\",\"polar\":{\"angularaxis\":{\"gridcolor\":\"#EBF0F8\",\"linecolor\":\"#EBF0F8\",\"ticks\":\"\"},\"bgcolor\":\"white\",\"radialaxis\":{\"gridcolor\":\"#EBF0F8\",\"linecolor\":\"#EBF0F8\",\"ticks\":\"\"}},\"scene\":{\"xaxis\":{\"backgroundcolor\":\"white\",\"gridcolor\":\"#DFE8F3\",\"gridwidth\":2,\"linecolor\":\"#EBF0F8\",\"showbackground\":true,\"ticks\":\"\",\"zerolinecolor\":\"#EBF0F8\"},\"yaxis\":{\"backgroundcolor\":\"white\",\"gridcolor\":\"#DFE8F3\",\"gridwidth\":2,\"linecolor\":\"#EBF0F8\",\"showbackground\":true,\"ticks\":\"\",\"zerolinecolor\":\"#EBF0F8\"},\"zaxis\":{\"backgroundcolor\":\"white\",\"gridcolor\":\"#DFE8F3\",\"gridwidth\":2,\"linecolor\":\"#EBF0F8\",\"showbackground\":true,\"ticks\":\"\",\"zerolinecolor\":\"#EBF0F8\"}},\"shapedefaults\":{\"line\":{\"color\":\"#2a3f5f\"}},\"ternary\":{\"aaxis\":{\"gridcolor\":\"#DFE8F3\",\"linecolor\":\"#A2B1C6\",\"ticks\":\"\"},\"baxis\":{\"gridcolor\":\"#DFE8F3\",\"linecolor\":\"#A2B1C6\",\"ticks\":\"\"},\"bgcolor\":\"white\",\"caxis\":{\"gridcolor\":\"#DFE8F3\",\"linecolor\":\"#A2B1C6\",\"ticks\":\"\"}},\"title\":{\"x\":0.05},\"xaxis\":{\"automargin\":true,\"gridcolor\":\"#EBF0F8\",\"linecolor\":\"#EBF0F8\",\"ticks\":\"\",\"title\":{\"standoff\":15},\"zerolinecolor\":\"#EBF0F8\",\"zerolinewidth\":2},\"yaxis\":{\"automargin\":true,\"gridcolor\":\"#EBF0F8\",\"linecolor\":\"#EBF0F8\",\"ticks\":\"\",\"title\":{\"standoff\":15},\"zerolinecolor\":\"#EBF0F8\",\"zerolinewidth\":2}}},\"title\":{\"text\":\"Wind Speed\",\"x\":0.5},\"xaxis\":{\"title\":{\"text\":\"Date\"}},\"yaxis\":{\"title\":{\"text\":\"Value\"}}},                        {\"responsive\": true}                    ).then(function(){\n",
       "                            \n",
       "var gd = document.getElementById('77e5386b-9177-427f-9318-36bd544cea12');\n",
       "var x = new MutationObserver(function (mutations, observer) {{\n",
       "        var display = window.getComputedStyle(gd).display;\n",
       "        if (!display || display === 'none') {{\n",
       "            console.log([gd, 'removed!']);\n",
       "            Plotly.purge(gd);\n",
       "            observer.disconnect();\n",
       "        }}\n",
       "}});\n",
       "\n",
       "// Listen for the removal of the full notebook cells\n",
       "var notebookContainer = gd.closest('#notebook-container');\n",
       "if (notebookContainer) {{\n",
       "    x.observe(notebookContainer, {childList: true});\n",
       "}}\n",
       "\n",
       "// Listen for the clearing of the current output cell\n",
       "var outputEl = gd.closest('.output');\n",
       "if (outputEl) {{\n",
       "    x.observe(outputEl, {childList: true});\n",
       "}}\n",
       "\n",
       "                        })                };                });            </script>        </div>"
      ]
     },
     "metadata": {},
     "output_type": "display_data"
    },
    {
     "data": {
      "text/html": [
       "<div>                            <div id=\"63e2c848-14c1-46c9-a085-950d08935af3\" class=\"plotly-graph-div\" style=\"height:525px; width:100%;\"></div>            <script type=\"text/javascript\">                require([\"plotly\"], function(Plotly) {                    window.PLOTLYENV=window.PLOTLYENV || {};                                    if (document.getElementById(\"63e2c848-14c1-46c9-a085-950d08935af3\")) {                    Plotly.newPlot(                        \"63e2c848-14c1-46c9-a085-950d08935af3\",                        [{\"mode\":\"lines\",\"x\":[\"2013-01-01T00:00:00\",\"2013-01-02T00:00:00\",\"2013-01-03T00:00:00\",\"2013-01-04T00:00:00\",\"2013-01-05T00:00:00\",\"2013-01-06T00:00:00\",\"2013-01-07T00:00:00\",\"2013-01-08T00:00:00\",\"2013-01-09T00:00:00\",\"2013-01-10T00:00:00\",\"2013-01-11T00:00:00\",\"2013-01-12T00:00:00\",\"2013-01-13T00:00:00\",\"2013-01-14T00:00:00\",\"2013-01-15T00:00:00\",\"2013-01-16T00:00:00\",\"2013-01-17T00:00:00\",\"2013-01-18T00:00:00\",\"2013-01-19T00:00:00\",\"2013-01-20T00:00:00\",\"2013-01-21T00:00:00\",\"2013-01-22T00:00:00\",\"2013-01-23T00:00:00\",\"2013-01-24T00:00:00\",\"2013-01-25T00:00:00\",\"2013-01-26T00:00:00\",\"2013-01-27T00:00:00\",\"2013-01-28T00:00:00\",\"2013-01-29T00:00:00\",\"2013-01-30T00:00:00\",\"2013-01-31T00:00:00\",\"2013-02-01T00:00:00\",\"2013-02-02T00:00:00\",\"2013-02-03T00:00:00\",\"2013-02-04T00:00:00\",\"2013-02-05T00:00:00\",\"2013-02-06T00:00:00\",\"2013-02-07T00:00:00\",\"2013-02-08T00:00:00\",\"2013-02-09T00:00:00\",\"2013-02-10T00:00:00\",\"2013-02-11T00:00:00\",\"2013-02-12T00:00:00\",\"2013-02-13T00:00:00\",\"2013-02-14T00:00:00\",\"2013-02-15T00:00:00\",\"2013-02-16T00:00:00\",\"2013-02-17T00:00:00\",\"2013-02-18T00:00:00\",\"2013-02-19T00:00:00\",\"2013-02-20T00:00:00\",\"2013-02-21T00:00:00\",\"2013-02-22T00:00:00\",\"2013-02-23T00:00:00\",\"2013-02-24T00:00:00\",\"2013-02-25T00:00:00\",\"2013-02-26T00:00:00\",\"2013-02-27T00:00:00\",\"2013-02-28T00:00:00\",\"2013-03-01T00:00:00\",\"2013-03-02T00:00:00\",\"2013-03-03T00:00:00\",\"2013-03-04T00:00:00\",\"2013-03-05T00:00:00\",\"2013-03-06T00:00:00\",\"2013-03-07T00:00:00\",\"2013-03-08T00:00:00\",\"2013-03-09T00:00:00\",\"2013-03-10T00:00:00\",\"2013-03-11T00:00:00\",\"2013-03-12T00:00:00\",\"2013-03-13T00:00:00\",\"2013-03-14T00:00:00\",\"2013-03-15T00:00:00\",\"2013-03-16T00:00:00\",\"2013-03-17T00:00:00\",\"2013-03-18T00:00:00\",\"2013-03-19T00:00:00\",\"2013-03-20T00:00:00\",\"2013-03-21T00:00:00\",\"2013-03-22T00:00:00\",\"2013-03-23T00:00:00\",\"2013-03-24T00:00:00\",\"2013-03-25T00:00:00\",\"2013-03-26T00:00:00\",\"2013-03-27T00:00:00\",\"2013-03-28T00:00:00\",\"2013-03-29T00:00:00\",\"2013-03-30T00:00:00\",\"2013-03-31T00:00:00\",\"2013-04-01T00:00:00\",\"2013-04-02T00:00:00\",\"2013-04-03T00:00:00\",\"2013-04-04T00:00:00\",\"2013-04-05T00:00:00\",\"2013-04-06T00:00:00\",\"2013-04-07T00:00:00\",\"2013-04-08T00:00:00\",\"2013-04-09T00:00:00\",\"2013-04-10T00:00:00\",\"2013-04-11T00:00:00\",\"2013-04-12T00:00:00\",\"2013-04-13T00:00:00\",\"2013-04-14T00:00:00\",\"2013-04-15T00:00:00\",\"2013-04-16T00:00:00\",\"2013-04-17T00:00:00\",\"2013-04-18T00:00:00\",\"2013-04-19T00:00:00\",\"2013-04-20T00:00:00\",\"2013-04-21T00:00:00\",\"2013-04-22T00:00:00\",\"2013-04-23T00:00:00\",\"2013-04-24T00:00:00\",\"2013-04-25T00:00:00\",\"2013-04-26T00:00:00\",\"2013-04-27T00:00:00\",\"2013-04-28T00:00:00\",\"2013-04-29T00:00:00\",\"2013-04-30T00:00:00\",\"2013-05-01T00:00:00\",\"2013-05-02T00:00:00\",\"2013-05-03T00:00:00\",\"2013-05-04T00:00:00\",\"2013-05-05T00:00:00\",\"2013-05-06T00:00:00\",\"2013-05-07T00:00:00\",\"2013-05-08T00:00:00\",\"2013-05-09T00:00:00\",\"2013-05-10T00:00:00\",\"2013-05-11T00:00:00\",\"2013-05-12T00:00:00\",\"2013-05-13T00:00:00\",\"2013-05-14T00:00:00\",\"2013-05-15T00:00:00\",\"2013-05-16T00:00:00\",\"2013-05-17T00:00:00\",\"2013-05-18T00:00:00\",\"2013-05-19T00:00:00\",\"2013-05-20T00:00:00\",\"2013-05-21T00:00:00\",\"2013-05-22T00:00:00\",\"2013-05-23T00:00:00\",\"2013-05-24T00:00:00\",\"2013-05-25T00:00:00\",\"2013-05-26T00:00:00\",\"2013-05-27T00:00:00\",\"2013-05-28T00:00:00\",\"2013-05-29T00:00:00\",\"2013-05-30T00:00:00\",\"2013-05-31T00:00:00\",\"2013-06-01T00:00:00\",\"2013-06-02T00:00:00\",\"2013-06-03T00:00:00\",\"2013-06-04T00:00:00\",\"2013-06-05T00:00:00\",\"2013-06-06T00:00:00\",\"2013-06-07T00:00:00\",\"2013-06-08T00:00:00\",\"2013-06-09T00:00:00\",\"2013-06-10T00:00:00\",\"2013-06-11T00:00:00\",\"2013-06-12T00:00:00\",\"2013-06-13T00:00:00\",\"2013-06-14T00:00:00\",\"2013-06-15T00:00:00\",\"2013-06-16T00:00:00\",\"2013-06-17T00:00:00\",\"2013-06-18T00:00:00\",\"2013-06-19T00:00:00\",\"2013-06-20T00:00:00\",\"2013-06-21T00:00:00\",\"2013-06-22T00:00:00\",\"2013-06-23T00:00:00\",\"2013-06-24T00:00:00\",\"2013-06-25T00:00:00\",\"2013-06-26T00:00:00\",\"2013-06-27T00:00:00\",\"2013-06-28T00:00:00\",\"2013-06-29T00:00:00\",\"2013-06-30T00:00:00\",\"2013-07-01T00:00:00\",\"2013-07-02T00:00:00\",\"2013-07-03T00:00:00\",\"2013-07-04T00:00:00\",\"2013-07-05T00:00:00\",\"2013-07-06T00:00:00\",\"2013-07-07T00:00:00\",\"2013-07-08T00:00:00\",\"2013-07-09T00:00:00\",\"2013-07-10T00:00:00\",\"2013-07-11T00:00:00\",\"2013-07-12T00:00:00\",\"2013-07-13T00:00:00\",\"2013-07-14T00:00:00\",\"2013-07-15T00:00:00\",\"2013-07-16T00:00:00\",\"2013-07-17T00:00:00\",\"2013-07-18T00:00:00\",\"2013-07-19T00:00:00\",\"2013-07-20T00:00:00\",\"2013-07-21T00:00:00\",\"2013-07-22T00:00:00\",\"2013-07-23T00:00:00\",\"2013-07-24T00:00:00\",\"2013-07-25T00:00:00\",\"2013-07-26T00:00:00\",\"2013-07-27T00:00:00\",\"2013-07-28T00:00:00\",\"2013-07-29T00:00:00\",\"2013-07-30T00:00:00\",\"2013-07-31T00:00:00\",\"2013-08-01T00:00:00\",\"2013-08-02T00:00:00\",\"2013-08-03T00:00:00\",\"2013-08-04T00:00:00\",\"2013-08-05T00:00:00\",\"2013-08-06T00:00:00\",\"2013-08-07T00:00:00\",\"2013-08-08T00:00:00\",\"2013-08-09T00:00:00\",\"2013-08-10T00:00:00\",\"2013-08-11T00:00:00\",\"2013-08-12T00:00:00\",\"2013-08-13T00:00:00\",\"2013-08-14T00:00:00\",\"2013-08-15T00:00:00\",\"2013-08-16T00:00:00\",\"2013-08-17T00:00:00\",\"2013-08-18T00:00:00\",\"2013-08-19T00:00:00\",\"2013-08-20T00:00:00\",\"2013-08-21T00:00:00\",\"2013-08-22T00:00:00\",\"2013-08-23T00:00:00\",\"2013-08-24T00:00:00\",\"2013-08-25T00:00:00\",\"2013-08-26T00:00:00\",\"2013-08-27T00:00:00\",\"2013-08-28T00:00:00\",\"2013-08-29T00:00:00\",\"2013-08-30T00:00:00\",\"2013-08-31T00:00:00\",\"2013-09-01T00:00:00\",\"2013-09-02T00:00:00\",\"2013-09-03T00:00:00\",\"2013-09-04T00:00:00\",\"2013-09-05T00:00:00\",\"2013-09-06T00:00:00\",\"2013-09-07T00:00:00\",\"2013-09-08T00:00:00\",\"2013-09-09T00:00:00\",\"2013-09-10T00:00:00\",\"2013-09-11T00:00:00\",\"2013-09-12T00:00:00\",\"2013-09-13T00:00:00\",\"2013-09-14T00:00:00\",\"2013-09-15T00:00:00\",\"2013-09-16T00:00:00\",\"2013-09-17T00:00:00\",\"2013-09-18T00:00:00\",\"2013-09-19T00:00:00\",\"2013-09-20T00:00:00\",\"2013-09-21T00:00:00\",\"2013-09-22T00:00:00\",\"2013-09-23T00:00:00\",\"2013-09-24T00:00:00\",\"2013-09-25T00:00:00\",\"2013-09-26T00:00:00\",\"2013-09-27T00:00:00\",\"2013-09-28T00:00:00\",\"2013-09-29T00:00:00\",\"2013-09-30T00:00:00\",\"2013-10-01T00:00:00\",\"2013-10-02T00:00:00\",\"2013-10-03T00:00:00\",\"2013-10-04T00:00:00\",\"2013-10-05T00:00:00\",\"2013-10-06T00:00:00\",\"2013-10-07T00:00:00\",\"2013-10-08T00:00:00\",\"2013-10-09T00:00:00\",\"2013-10-10T00:00:00\",\"2013-10-11T00:00:00\",\"2013-10-12T00:00:00\",\"2013-10-13T00:00:00\",\"2013-10-14T00:00:00\",\"2013-10-15T00:00:00\",\"2013-10-16T00:00:00\",\"2013-10-17T00:00:00\",\"2013-10-18T00:00:00\",\"2013-10-19T00:00:00\",\"2013-10-20T00:00:00\",\"2013-10-21T00:00:00\",\"2013-10-22T00:00:00\",\"2013-10-23T00:00:00\",\"2013-10-24T00:00:00\",\"2013-10-25T00:00:00\",\"2013-10-26T00:00:00\",\"2013-10-27T00:00:00\",\"2013-10-28T00:00:00\",\"2013-10-29T00:00:00\",\"2013-10-30T00:00:00\",\"2013-10-31T00:00:00\",\"2013-11-01T00:00:00\",\"2013-11-02T00:00:00\",\"2013-11-03T00:00:00\",\"2013-11-04T00:00:00\",\"2013-11-05T00:00:00\",\"2013-11-06T00:00:00\",\"2013-11-07T00:00:00\",\"2013-11-08T00:00:00\",\"2013-11-09T00:00:00\",\"2013-11-10T00:00:00\",\"2013-11-11T00:00:00\",\"2013-11-12T00:00:00\",\"2013-11-13T00:00:00\",\"2013-11-14T00:00:00\",\"2013-11-15T00:00:00\",\"2013-11-16T00:00:00\",\"2013-11-17T00:00:00\",\"2013-11-18T00:00:00\",\"2013-11-19T00:00:00\",\"2013-11-20T00:00:00\",\"2013-11-21T00:00:00\",\"2013-11-22T00:00:00\",\"2013-11-23T00:00:00\",\"2013-11-24T00:00:00\",\"2013-11-25T00:00:00\",\"2013-11-26T00:00:00\",\"2013-11-27T00:00:00\",\"2013-11-28T00:00:00\",\"2013-11-29T00:00:00\",\"2013-11-30T00:00:00\",\"2013-12-01T00:00:00\",\"2013-12-02T00:00:00\",\"2013-12-03T00:00:00\",\"2013-12-04T00:00:00\",\"2013-12-05T00:00:00\",\"2013-12-06T00:00:00\",\"2013-12-07T00:00:00\",\"2013-12-08T00:00:00\",\"2013-12-09T00:00:00\",\"2013-12-10T00:00:00\",\"2013-12-11T00:00:00\",\"2013-12-12T00:00:00\",\"2013-12-13T00:00:00\",\"2013-12-14T00:00:00\",\"2013-12-15T00:00:00\",\"2013-12-16T00:00:00\",\"2013-12-17T00:00:00\",\"2013-12-18T00:00:00\",\"2013-12-19T00:00:00\",\"2013-12-20T00:00:00\",\"2013-12-21T00:00:00\",\"2013-12-22T00:00:00\",\"2013-12-23T00:00:00\",\"2013-12-24T00:00:00\",\"2013-12-25T00:00:00\",\"2013-12-26T00:00:00\",\"2013-12-27T00:00:00\",\"2013-12-28T00:00:00\",\"2013-12-29T00:00:00\",\"2013-12-30T00:00:00\",\"2013-12-31T00:00:00\",\"2014-01-01T00:00:00\",\"2014-01-02T00:00:00\",\"2014-01-03T00:00:00\",\"2014-01-04T00:00:00\",\"2014-01-05T00:00:00\",\"2014-01-06T00:00:00\",\"2014-01-07T00:00:00\",\"2014-01-08T00:00:00\",\"2014-01-09T00:00:00\",\"2014-01-10T00:00:00\",\"2014-01-11T00:00:00\",\"2014-01-12T00:00:00\",\"2014-01-13T00:00:00\",\"2014-01-14T00:00:00\",\"2014-01-15T00:00:00\",\"2014-01-16T00:00:00\",\"2014-01-17T00:00:00\",\"2014-01-18T00:00:00\",\"2014-01-19T00:00:00\",\"2014-01-20T00:00:00\",\"2014-01-21T00:00:00\",\"2014-01-22T00:00:00\",\"2014-01-23T00:00:00\",\"2014-01-24T00:00:00\",\"2014-01-25T00:00:00\",\"2014-01-26T00:00:00\",\"2014-01-27T00:00:00\",\"2014-01-28T00:00:00\",\"2014-01-29T00:00:00\",\"2014-01-30T00:00:00\",\"2014-01-31T00:00:00\",\"2014-02-01T00:00:00\",\"2014-02-02T00:00:00\",\"2014-02-03T00:00:00\",\"2014-02-04T00:00:00\",\"2014-02-05T00:00:00\",\"2014-02-06T00:00:00\",\"2014-02-07T00:00:00\",\"2014-02-08T00:00:00\",\"2014-02-09T00:00:00\",\"2014-02-10T00:00:00\",\"2014-02-11T00:00:00\",\"2014-02-12T00:00:00\",\"2014-02-13T00:00:00\",\"2014-02-14T00:00:00\",\"2014-02-15T00:00:00\",\"2014-02-16T00:00:00\",\"2014-02-17T00:00:00\",\"2014-02-18T00:00:00\",\"2014-02-19T00:00:00\",\"2014-02-20T00:00:00\",\"2014-02-21T00:00:00\",\"2014-02-22T00:00:00\",\"2014-02-23T00:00:00\",\"2014-02-24T00:00:00\",\"2014-02-25T00:00:00\",\"2014-02-26T00:00:00\",\"2014-02-27T00:00:00\",\"2014-02-28T00:00:00\",\"2014-03-01T00:00:00\",\"2014-03-02T00:00:00\",\"2014-03-03T00:00:00\",\"2014-03-04T00:00:00\",\"2014-03-05T00:00:00\",\"2014-03-06T00:00:00\",\"2014-03-07T00:00:00\",\"2014-03-08T00:00:00\",\"2014-03-09T00:00:00\",\"2014-03-10T00:00:00\",\"2014-03-11T00:00:00\",\"2014-03-12T00:00:00\",\"2014-03-13T00:00:00\",\"2014-03-14T00:00:00\",\"2014-03-15T00:00:00\",\"2014-03-16T00:00:00\",\"2014-03-17T00:00:00\",\"2014-03-18T00:00:00\",\"2014-03-19T00:00:00\",\"2014-03-20T00:00:00\",\"2014-03-21T00:00:00\",\"2014-03-22T00:00:00\",\"2014-03-23T00:00:00\",\"2014-03-24T00:00:00\",\"2014-03-25T00:00:00\",\"2014-03-26T00:00:00\",\"2014-03-27T00:00:00\",\"2014-03-28T00:00:00\",\"2014-03-29T00:00:00\",\"2014-03-30T00:00:00\",\"2014-03-31T00:00:00\",\"2014-04-01T00:00:00\",\"2014-04-02T00:00:00\",\"2014-04-03T00:00:00\",\"2014-04-04T00:00:00\",\"2014-04-05T00:00:00\",\"2014-04-06T00:00:00\",\"2014-04-07T00:00:00\",\"2014-04-08T00:00:00\",\"2014-04-09T00:00:00\",\"2014-04-10T00:00:00\",\"2014-04-11T00:00:00\",\"2014-04-12T00:00:00\",\"2014-04-13T00:00:00\",\"2014-04-14T00:00:00\",\"2014-04-15T00:00:00\",\"2014-04-16T00:00:00\",\"2014-04-17T00:00:00\",\"2014-04-18T00:00:00\",\"2014-04-19T00:00:00\",\"2014-04-20T00:00:00\",\"2014-04-21T00:00:00\",\"2014-04-22T00:00:00\",\"2014-04-23T00:00:00\",\"2014-04-24T00:00:00\",\"2014-04-25T00:00:00\",\"2014-04-26T00:00:00\",\"2014-04-27T00:00:00\",\"2014-04-28T00:00:00\",\"2014-04-29T00:00:00\",\"2014-04-30T00:00:00\",\"2014-05-01T00:00:00\",\"2014-05-02T00:00:00\",\"2014-05-03T00:00:00\",\"2014-05-04T00:00:00\",\"2014-05-05T00:00:00\",\"2014-05-06T00:00:00\",\"2014-05-07T00:00:00\",\"2014-05-08T00:00:00\",\"2014-05-09T00:00:00\",\"2014-05-10T00:00:00\",\"2014-05-11T00:00:00\",\"2014-05-12T00:00:00\",\"2014-05-13T00:00:00\",\"2014-05-14T00:00:00\",\"2014-05-15T00:00:00\",\"2014-05-16T00:00:00\",\"2014-05-17T00:00:00\",\"2014-05-18T00:00:00\",\"2014-05-19T00:00:00\",\"2014-05-20T00:00:00\",\"2014-05-21T00:00:00\",\"2014-05-22T00:00:00\",\"2014-05-23T00:00:00\",\"2014-05-24T00:00:00\",\"2014-05-25T00:00:00\",\"2014-05-26T00:00:00\",\"2014-05-27T00:00:00\",\"2014-05-28T00:00:00\",\"2014-05-29T00:00:00\",\"2014-05-30T00:00:00\",\"2014-05-31T00:00:00\",\"2014-06-01T00:00:00\",\"2014-06-02T00:00:00\",\"2014-06-03T00:00:00\",\"2014-06-04T00:00:00\",\"2014-06-05T00:00:00\",\"2014-06-06T00:00:00\",\"2014-06-07T00:00:00\",\"2014-06-08T00:00:00\",\"2014-06-09T00:00:00\",\"2014-06-10T00:00:00\",\"2014-06-11T00:00:00\",\"2014-06-12T00:00:00\",\"2014-06-13T00:00:00\",\"2014-06-14T00:00:00\",\"2014-06-15T00:00:00\",\"2014-06-16T00:00:00\",\"2014-06-17T00:00:00\",\"2014-06-18T00:00:00\",\"2014-06-19T00:00:00\",\"2014-06-20T00:00:00\",\"2014-06-21T00:00:00\",\"2014-06-22T00:00:00\",\"2014-06-23T00:00:00\",\"2014-06-24T00:00:00\",\"2014-06-25T00:00:00\",\"2014-06-26T00:00:00\",\"2014-06-27T00:00:00\",\"2014-06-28T00:00:00\",\"2014-06-29T00:00:00\",\"2014-06-30T00:00:00\",\"2014-07-01T00:00:00\",\"2014-07-02T00:00:00\",\"2014-07-03T00:00:00\",\"2014-07-04T00:00:00\",\"2014-07-05T00:00:00\",\"2014-07-06T00:00:00\",\"2014-07-07T00:00:00\",\"2014-07-08T00:00:00\",\"2014-07-09T00:00:00\",\"2014-07-10T00:00:00\",\"2014-07-11T00:00:00\",\"2014-07-12T00:00:00\",\"2014-07-13T00:00:00\",\"2014-07-14T00:00:00\",\"2014-07-15T00:00:00\",\"2014-07-16T00:00:00\",\"2014-07-17T00:00:00\",\"2014-07-18T00:00:00\",\"2014-07-19T00:00:00\",\"2014-07-20T00:00:00\",\"2014-07-21T00:00:00\",\"2014-07-22T00:00:00\",\"2014-07-23T00:00:00\",\"2014-07-24T00:00:00\",\"2014-07-25T00:00:00\",\"2014-07-26T00:00:00\",\"2014-07-27T00:00:00\",\"2014-07-28T00:00:00\",\"2014-07-29T00:00:00\",\"2014-07-30T00:00:00\",\"2014-07-31T00:00:00\",\"2014-08-01T00:00:00\",\"2014-08-02T00:00:00\",\"2014-08-03T00:00:00\",\"2014-08-04T00:00:00\",\"2014-08-05T00:00:00\",\"2014-08-06T00:00:00\",\"2014-08-07T00:00:00\",\"2014-08-08T00:00:00\",\"2014-08-09T00:00:00\",\"2014-08-10T00:00:00\",\"2014-08-11T00:00:00\",\"2014-08-12T00:00:00\",\"2014-08-13T00:00:00\",\"2014-08-14T00:00:00\",\"2014-08-15T00:00:00\",\"2014-08-16T00:00:00\",\"2014-08-17T00:00:00\",\"2014-08-18T00:00:00\",\"2014-08-19T00:00:00\",\"2014-08-20T00:00:00\",\"2014-08-21T00:00:00\",\"2014-08-22T00:00:00\",\"2014-08-23T00:00:00\",\"2014-08-24T00:00:00\",\"2014-08-25T00:00:00\",\"2014-08-26T00:00:00\",\"2014-08-27T00:00:00\",\"2014-08-28T00:00:00\",\"2014-08-29T00:00:00\",\"2014-08-30T00:00:00\",\"2014-08-31T00:00:00\",\"2014-09-01T00:00:00\",\"2014-09-02T00:00:00\",\"2014-09-03T00:00:00\",\"2014-09-04T00:00:00\",\"2014-09-05T00:00:00\",\"2014-09-06T00:00:00\",\"2014-09-07T00:00:00\",\"2014-09-08T00:00:00\",\"2014-09-09T00:00:00\",\"2014-09-10T00:00:00\",\"2014-09-11T00:00:00\",\"2014-09-12T00:00:00\",\"2014-09-13T00:00:00\",\"2014-09-14T00:00:00\",\"2014-09-15T00:00:00\",\"2014-09-16T00:00:00\",\"2014-09-17T00:00:00\",\"2014-09-18T00:00:00\",\"2014-09-19T00:00:00\",\"2014-09-20T00:00:00\",\"2014-09-21T00:00:00\",\"2014-09-22T00:00:00\",\"2014-09-23T00:00:00\",\"2014-09-24T00:00:00\",\"2014-09-25T00:00:00\",\"2014-09-26T00:00:00\",\"2014-09-27T00:00:00\",\"2014-09-28T00:00:00\",\"2014-09-29T00:00:00\",\"2014-09-30T00:00:00\",\"2014-10-01T00:00:00\",\"2014-10-02T00:00:00\",\"2014-10-03T00:00:00\",\"2014-10-04T00:00:00\",\"2014-10-05T00:00:00\",\"2014-10-06T00:00:00\",\"2014-10-07T00:00:00\",\"2014-10-08T00:00:00\",\"2014-10-09T00:00:00\",\"2014-10-10T00:00:00\",\"2014-10-11T00:00:00\",\"2014-10-12T00:00:00\",\"2014-10-13T00:00:00\",\"2014-10-14T00:00:00\",\"2014-10-15T00:00:00\",\"2014-10-16T00:00:00\",\"2014-10-17T00:00:00\",\"2014-10-18T00:00:00\",\"2014-10-19T00:00:00\",\"2014-10-20T00:00:00\",\"2014-10-21T00:00:00\",\"2014-10-22T00:00:00\",\"2014-10-23T00:00:00\",\"2014-10-24T00:00:00\",\"2014-10-25T00:00:00\",\"2014-10-26T00:00:00\",\"2014-10-27T00:00:00\",\"2014-10-28T00:00:00\",\"2014-10-29T00:00:00\",\"2014-10-30T00:00:00\",\"2014-10-31T00:00:00\",\"2014-11-01T00:00:00\",\"2014-11-02T00:00:00\",\"2014-11-03T00:00:00\",\"2014-11-04T00:00:00\",\"2014-11-05T00:00:00\",\"2014-11-06T00:00:00\",\"2014-11-07T00:00:00\",\"2014-11-08T00:00:00\",\"2014-11-09T00:00:00\",\"2014-11-10T00:00:00\",\"2014-11-11T00:00:00\",\"2014-11-12T00:00:00\",\"2014-11-13T00:00:00\",\"2014-11-14T00:00:00\",\"2014-11-15T00:00:00\",\"2014-11-16T00:00:00\",\"2014-11-17T00:00:00\",\"2014-11-18T00:00:00\",\"2014-11-19T00:00:00\",\"2014-11-20T00:00:00\",\"2014-11-21T00:00:00\",\"2014-11-22T00:00:00\",\"2014-11-23T00:00:00\",\"2014-11-24T00:00:00\",\"2014-11-25T00:00:00\",\"2014-11-26T00:00:00\",\"2014-11-27T00:00:00\",\"2014-11-28T00:00:00\",\"2014-11-29T00:00:00\",\"2014-11-30T00:00:00\",\"2014-12-01T00:00:00\",\"2014-12-02T00:00:00\",\"2014-12-03T00:00:00\",\"2014-12-04T00:00:00\",\"2014-12-05T00:00:00\",\"2014-12-06T00:00:00\",\"2014-12-07T00:00:00\",\"2014-12-08T00:00:00\",\"2014-12-09T00:00:00\",\"2014-12-10T00:00:00\",\"2014-12-11T00:00:00\",\"2014-12-12T00:00:00\",\"2014-12-13T00:00:00\",\"2014-12-14T00:00:00\",\"2014-12-15T00:00:00\",\"2014-12-16T00:00:00\",\"2014-12-17T00:00:00\",\"2014-12-18T00:00:00\",\"2014-12-19T00:00:00\",\"2014-12-20T00:00:00\",\"2014-12-21T00:00:00\",\"2014-12-22T00:00:00\",\"2014-12-23T00:00:00\",\"2014-12-24T00:00:00\",\"2014-12-25T00:00:00\",\"2014-12-26T00:00:00\",\"2014-12-27T00:00:00\",\"2014-12-28T00:00:00\",\"2014-12-29T00:00:00\",\"2014-12-30T00:00:00\",\"2014-12-31T00:00:00\",\"2015-01-01T00:00:00\",\"2015-01-02T00:00:00\",\"2015-01-03T00:00:00\",\"2015-01-04T00:00:00\",\"2015-01-05T00:00:00\",\"2015-01-06T00:00:00\",\"2015-01-07T00:00:00\",\"2015-01-08T00:00:00\",\"2015-01-09T00:00:00\",\"2015-01-10T00:00:00\",\"2015-01-11T00:00:00\",\"2015-01-12T00:00:00\",\"2015-01-13T00:00:00\",\"2015-01-14T00:00:00\",\"2015-01-15T00:00:00\",\"2015-01-16T00:00:00\",\"2015-01-17T00:00:00\",\"2015-01-18T00:00:00\",\"2015-01-19T00:00:00\",\"2015-01-20T00:00:00\",\"2015-01-21T00:00:00\",\"2015-01-22T00:00:00\",\"2015-01-23T00:00:00\",\"2015-01-24T00:00:00\",\"2015-01-25T00:00:00\",\"2015-01-26T00:00:00\",\"2015-01-27T00:00:00\",\"2015-01-28T00:00:00\",\"2015-01-29T00:00:00\",\"2015-01-30T00:00:00\",\"2015-01-31T00:00:00\",\"2015-02-01T00:00:00\",\"2015-02-02T00:00:00\",\"2015-02-03T00:00:00\",\"2015-02-04T00:00:00\",\"2015-02-05T00:00:00\",\"2015-02-06T00:00:00\",\"2015-02-07T00:00:00\",\"2015-02-08T00:00:00\",\"2015-02-09T00:00:00\",\"2015-02-10T00:00:00\",\"2015-02-11T00:00:00\",\"2015-02-12T00:00:00\",\"2015-02-13T00:00:00\",\"2015-02-14T00:00:00\",\"2015-02-15T00:00:00\",\"2015-02-16T00:00:00\",\"2015-02-17T00:00:00\",\"2015-02-18T00:00:00\",\"2015-02-19T00:00:00\",\"2015-02-20T00:00:00\",\"2015-02-21T00:00:00\",\"2015-02-22T00:00:00\",\"2015-02-23T00:00:00\",\"2015-02-24T00:00:00\",\"2015-02-25T00:00:00\",\"2015-02-26T00:00:00\",\"2015-02-27T00:00:00\",\"2015-02-28T00:00:00\",\"2015-03-01T00:00:00\",\"2015-03-02T00:00:00\",\"2015-03-03T00:00:00\",\"2015-03-04T00:00:00\",\"2015-03-05T00:00:00\",\"2015-03-06T00:00:00\",\"2015-03-07T00:00:00\",\"2015-03-08T00:00:00\",\"2015-03-09T00:00:00\",\"2015-03-10T00:00:00\",\"2015-03-11T00:00:00\",\"2015-03-12T00:00:00\",\"2015-03-13T00:00:00\",\"2015-03-14T00:00:00\",\"2015-03-15T00:00:00\",\"2015-03-16T00:00:00\",\"2015-03-17T00:00:00\",\"2015-03-18T00:00:00\",\"2015-03-19T00:00:00\",\"2015-03-20T00:00:00\",\"2015-03-21T00:00:00\",\"2015-03-22T00:00:00\",\"2015-03-23T00:00:00\",\"2015-03-24T00:00:00\",\"2015-03-25T00:00:00\",\"2015-03-26T00:00:00\",\"2015-03-27T00:00:00\",\"2015-03-28T00:00:00\",\"2015-03-29T00:00:00\",\"2015-03-30T00:00:00\",\"2015-03-31T00:00:00\",\"2015-04-01T00:00:00\",\"2015-04-02T00:00:00\",\"2015-04-03T00:00:00\",\"2015-04-04T00:00:00\",\"2015-04-05T00:00:00\",\"2015-04-06T00:00:00\",\"2015-04-07T00:00:00\",\"2015-04-08T00:00:00\",\"2015-04-09T00:00:00\",\"2015-04-10T00:00:00\",\"2015-04-11T00:00:00\",\"2015-04-12T00:00:00\",\"2015-04-13T00:00:00\",\"2015-04-14T00:00:00\",\"2015-04-15T00:00:00\",\"2015-04-16T00:00:00\",\"2015-04-17T00:00:00\",\"2015-04-18T00:00:00\",\"2015-04-19T00:00:00\",\"2015-04-20T00:00:00\",\"2015-04-21T00:00:00\",\"2015-04-22T00:00:00\",\"2015-04-23T00:00:00\",\"2015-04-24T00:00:00\",\"2015-04-25T00:00:00\",\"2015-04-26T00:00:00\",\"2015-04-27T00:00:00\",\"2015-04-28T00:00:00\",\"2015-04-29T00:00:00\",\"2015-04-30T00:00:00\",\"2015-05-01T00:00:00\",\"2015-05-02T00:00:00\",\"2015-05-03T00:00:00\",\"2015-05-04T00:00:00\",\"2015-05-05T00:00:00\",\"2015-05-06T00:00:00\",\"2015-05-07T00:00:00\",\"2015-05-08T00:00:00\",\"2015-05-09T00:00:00\",\"2015-05-10T00:00:00\",\"2015-05-11T00:00:00\",\"2015-05-12T00:00:00\",\"2015-05-13T00:00:00\",\"2015-05-14T00:00:00\",\"2015-05-15T00:00:00\",\"2015-05-16T00:00:00\",\"2015-05-17T00:00:00\",\"2015-05-18T00:00:00\",\"2015-05-19T00:00:00\",\"2015-05-20T00:00:00\",\"2015-05-21T00:00:00\",\"2015-05-22T00:00:00\",\"2015-05-23T00:00:00\",\"2015-05-24T00:00:00\",\"2015-05-25T00:00:00\",\"2015-05-26T00:00:00\",\"2015-05-27T00:00:00\",\"2015-05-28T00:00:00\",\"2015-05-29T00:00:00\",\"2015-05-30T00:00:00\",\"2015-05-31T00:00:00\",\"2015-06-01T00:00:00\",\"2015-06-02T00:00:00\",\"2015-06-03T00:00:00\",\"2015-06-04T00:00:00\",\"2015-06-05T00:00:00\",\"2015-06-06T00:00:00\",\"2015-06-07T00:00:00\",\"2015-06-08T00:00:00\",\"2015-06-09T00:00:00\",\"2015-06-10T00:00:00\",\"2015-06-11T00:00:00\",\"2015-06-12T00:00:00\",\"2015-06-13T00:00:00\",\"2015-06-14T00:00:00\",\"2015-06-15T00:00:00\",\"2015-06-16T00:00:00\",\"2015-06-17T00:00:00\",\"2015-06-18T00:00:00\",\"2015-06-19T00:00:00\",\"2015-06-20T00:00:00\",\"2015-06-21T00:00:00\",\"2015-06-22T00:00:00\",\"2015-06-23T00:00:00\",\"2015-06-24T00:00:00\",\"2015-06-25T00:00:00\",\"2015-06-26T00:00:00\",\"2015-06-27T00:00:00\",\"2015-06-28T00:00:00\",\"2015-06-29T00:00:00\",\"2015-06-30T00:00:00\",\"2015-07-01T00:00:00\",\"2015-07-02T00:00:00\",\"2015-07-03T00:00:00\",\"2015-07-04T00:00:00\",\"2015-07-05T00:00:00\",\"2015-07-06T00:00:00\",\"2015-07-07T00:00:00\",\"2015-07-08T00:00:00\",\"2015-07-09T00:00:00\",\"2015-07-10T00:00:00\",\"2015-07-11T00:00:00\",\"2015-07-12T00:00:00\",\"2015-07-13T00:00:00\",\"2015-07-14T00:00:00\",\"2015-07-15T00:00:00\",\"2015-07-16T00:00:00\",\"2015-07-17T00:00:00\",\"2015-07-18T00:00:00\",\"2015-07-19T00:00:00\",\"2015-07-20T00:00:00\",\"2015-07-21T00:00:00\",\"2015-07-22T00:00:00\",\"2015-07-23T00:00:00\",\"2015-07-24T00:00:00\",\"2015-07-25T00:00:00\",\"2015-07-26T00:00:00\",\"2015-07-27T00:00:00\",\"2015-07-28T00:00:00\",\"2015-07-29T00:00:00\",\"2015-07-30T00:00:00\",\"2015-07-31T00:00:00\",\"2015-08-01T00:00:00\",\"2015-08-02T00:00:00\",\"2015-08-03T00:00:00\",\"2015-08-04T00:00:00\",\"2015-08-05T00:00:00\",\"2015-08-06T00:00:00\",\"2015-08-07T00:00:00\",\"2015-08-08T00:00:00\",\"2015-08-09T00:00:00\",\"2015-08-10T00:00:00\",\"2015-08-11T00:00:00\",\"2015-08-12T00:00:00\",\"2015-08-13T00:00:00\",\"2015-08-14T00:00:00\",\"2015-08-15T00:00:00\",\"2015-08-16T00:00:00\",\"2015-08-17T00:00:00\",\"2015-08-18T00:00:00\",\"2015-08-19T00:00:00\",\"2015-08-20T00:00:00\",\"2015-08-21T00:00:00\",\"2015-08-22T00:00:00\",\"2015-08-23T00:00:00\",\"2015-08-24T00:00:00\",\"2015-08-25T00:00:00\",\"2015-08-26T00:00:00\",\"2015-08-27T00:00:00\",\"2015-08-28T00:00:00\",\"2015-08-29T00:00:00\",\"2015-08-30T00:00:00\",\"2015-08-31T00:00:00\",\"2015-09-01T00:00:00\",\"2015-09-02T00:00:00\",\"2015-09-03T00:00:00\",\"2015-09-04T00:00:00\",\"2015-09-05T00:00:00\",\"2015-09-06T00:00:00\",\"2015-09-07T00:00:00\",\"2015-09-08T00:00:00\",\"2015-09-09T00:00:00\",\"2015-09-10T00:00:00\",\"2015-09-11T00:00:00\",\"2015-09-12T00:00:00\",\"2015-09-13T00:00:00\",\"2015-09-14T00:00:00\",\"2015-09-15T00:00:00\",\"2015-09-16T00:00:00\",\"2015-09-17T00:00:00\",\"2015-09-18T00:00:00\",\"2015-09-19T00:00:00\",\"2015-09-20T00:00:00\",\"2015-09-21T00:00:00\",\"2015-09-22T00:00:00\",\"2015-09-23T00:00:00\",\"2015-09-24T00:00:00\",\"2015-09-25T00:00:00\",\"2015-09-26T00:00:00\",\"2015-09-27T00:00:00\",\"2015-09-28T00:00:00\",\"2015-09-29T00:00:00\",\"2015-09-30T00:00:00\",\"2015-10-01T00:00:00\",\"2015-10-02T00:00:00\",\"2015-10-03T00:00:00\",\"2015-10-04T00:00:00\",\"2015-10-05T00:00:00\",\"2015-10-06T00:00:00\",\"2015-10-07T00:00:00\",\"2015-10-08T00:00:00\",\"2015-10-09T00:00:00\",\"2015-10-10T00:00:00\",\"2015-10-11T00:00:00\",\"2015-10-12T00:00:00\",\"2015-10-13T00:00:00\",\"2015-10-14T00:00:00\",\"2015-10-15T00:00:00\",\"2015-10-16T00:00:00\",\"2015-10-17T00:00:00\",\"2015-10-18T00:00:00\",\"2015-10-19T00:00:00\",\"2015-10-20T00:00:00\",\"2015-10-21T00:00:00\",\"2015-10-22T00:00:00\",\"2015-10-23T00:00:00\",\"2015-10-24T00:00:00\",\"2015-10-25T00:00:00\",\"2015-10-26T00:00:00\",\"2015-10-27T00:00:00\",\"2015-10-28T00:00:00\",\"2015-10-29T00:00:00\",\"2015-10-30T00:00:00\",\"2015-10-31T00:00:00\",\"2015-11-01T00:00:00\",\"2015-11-02T00:00:00\",\"2015-11-03T00:00:00\",\"2015-11-04T00:00:00\",\"2015-11-05T00:00:00\",\"2015-11-06T00:00:00\",\"2015-11-07T00:00:00\",\"2015-11-08T00:00:00\",\"2015-11-09T00:00:00\",\"2015-11-10T00:00:00\",\"2015-11-11T00:00:00\",\"2015-11-12T00:00:00\",\"2015-11-13T00:00:00\",\"2015-11-14T00:00:00\",\"2015-11-15T00:00:00\",\"2015-11-16T00:00:00\",\"2015-11-17T00:00:00\",\"2015-11-18T00:00:00\",\"2015-11-19T00:00:00\",\"2015-11-20T00:00:00\",\"2015-11-21T00:00:00\",\"2015-11-22T00:00:00\",\"2015-11-23T00:00:00\",\"2015-11-24T00:00:00\",\"2015-11-25T00:00:00\",\"2015-11-26T00:00:00\",\"2015-11-27T00:00:00\",\"2015-11-28T00:00:00\",\"2015-11-29T00:00:00\",\"2015-11-30T00:00:00\",\"2015-12-01T00:00:00\",\"2015-12-02T00:00:00\",\"2015-12-03T00:00:00\",\"2015-12-04T00:00:00\",\"2015-12-05T00:00:00\",\"2015-12-06T00:00:00\",\"2015-12-07T00:00:00\",\"2015-12-08T00:00:00\",\"2015-12-09T00:00:00\",\"2015-12-10T00:00:00\",\"2015-12-11T00:00:00\",\"2015-12-12T00:00:00\",\"2015-12-13T00:00:00\",\"2015-12-14T00:00:00\",\"2015-12-15T00:00:00\",\"2015-12-16T00:00:00\",\"2015-12-17T00:00:00\",\"2015-12-18T00:00:00\",\"2015-12-19T00:00:00\",\"2015-12-20T00:00:00\",\"2015-12-21T00:00:00\",\"2015-12-22T00:00:00\",\"2015-12-23T00:00:00\",\"2015-12-24T00:00:00\",\"2015-12-25T00:00:00\",\"2015-12-26T00:00:00\",\"2015-12-27T00:00:00\",\"2015-12-28T00:00:00\",\"2015-12-29T00:00:00\",\"2015-12-30T00:00:00\",\"2015-12-31T00:00:00\",\"2016-01-01T00:00:00\",\"2016-01-02T00:00:00\",\"2016-01-03T00:00:00\",\"2016-01-04T00:00:00\",\"2016-01-05T00:00:00\",\"2016-01-06T00:00:00\",\"2016-01-07T00:00:00\",\"2016-01-08T00:00:00\",\"2016-01-09T00:00:00\",\"2016-01-10T00:00:00\",\"2016-01-11T00:00:00\",\"2016-01-12T00:00:00\",\"2016-01-13T00:00:00\",\"2016-01-14T00:00:00\",\"2016-01-15T00:00:00\",\"2016-01-16T00:00:00\",\"2016-01-17T00:00:00\",\"2016-01-18T00:00:00\",\"2016-01-19T00:00:00\",\"2016-01-20T00:00:00\",\"2016-01-21T00:00:00\",\"2016-01-22T00:00:00\",\"2016-01-23T00:00:00\",\"2016-01-24T00:00:00\",\"2016-01-25T00:00:00\",\"2016-01-26T00:00:00\",\"2016-01-27T00:00:00\",\"2016-01-28T00:00:00\",\"2016-01-29T00:00:00\",\"2016-01-30T00:00:00\",\"2016-01-31T00:00:00\",\"2016-02-01T00:00:00\",\"2016-02-02T00:00:00\",\"2016-02-03T00:00:00\",\"2016-02-04T00:00:00\",\"2016-02-05T00:00:00\",\"2016-02-06T00:00:00\",\"2016-02-07T00:00:00\",\"2016-02-08T00:00:00\",\"2016-02-09T00:00:00\",\"2016-02-10T00:00:00\",\"2016-02-11T00:00:00\",\"2016-02-12T00:00:00\",\"2016-02-13T00:00:00\",\"2016-02-14T00:00:00\",\"2016-02-15T00:00:00\",\"2016-02-16T00:00:00\",\"2016-02-17T00:00:00\",\"2016-02-18T00:00:00\",\"2016-02-19T00:00:00\",\"2016-02-20T00:00:00\",\"2016-02-21T00:00:00\",\"2016-02-22T00:00:00\",\"2016-02-23T00:00:00\",\"2016-02-24T00:00:00\",\"2016-02-25T00:00:00\",\"2016-02-26T00:00:00\",\"2016-02-27T00:00:00\",\"2016-02-28T00:00:00\",\"2016-02-29T00:00:00\",\"2016-03-01T00:00:00\",\"2016-03-02T00:00:00\",\"2016-03-03T00:00:00\",\"2016-03-04T00:00:00\",\"2016-03-05T00:00:00\",\"2016-03-06T00:00:00\",\"2016-03-07T00:00:00\",\"2016-03-08T00:00:00\",\"2016-03-09T00:00:00\",\"2016-03-10T00:00:00\",\"2016-03-11T00:00:00\",\"2016-03-12T00:00:00\",\"2016-03-13T00:00:00\",\"2016-03-14T00:00:00\",\"2016-03-15T00:00:00\",\"2016-03-16T00:00:00\",\"2016-03-17T00:00:00\",\"2016-03-18T00:00:00\",\"2016-03-19T00:00:00\",\"2016-03-20T00:00:00\",\"2016-03-21T00:00:00\",\"2016-03-22T00:00:00\",\"2016-03-23T00:00:00\",\"2016-03-24T00:00:00\",\"2016-03-25T00:00:00\",\"2016-03-26T00:00:00\",\"2016-03-27T00:00:00\",\"2016-03-28T00:00:00\",\"2016-03-29T00:00:00\",\"2016-03-30T00:00:00\",\"2016-03-31T00:00:00\",\"2016-04-01T00:00:00\",\"2016-04-02T00:00:00\",\"2016-04-03T00:00:00\",\"2016-04-04T00:00:00\",\"2016-04-05T00:00:00\",\"2016-04-06T00:00:00\",\"2016-04-07T00:00:00\",\"2016-04-08T00:00:00\",\"2016-04-09T00:00:00\",\"2016-04-10T00:00:00\",\"2016-04-11T00:00:00\",\"2016-04-12T00:00:00\",\"2016-04-13T00:00:00\",\"2016-04-14T00:00:00\",\"2016-04-15T00:00:00\",\"2016-04-16T00:00:00\",\"2016-04-17T00:00:00\",\"2016-04-18T00:00:00\",\"2016-04-19T00:00:00\",\"2016-04-20T00:00:00\",\"2016-04-21T00:00:00\",\"2016-04-22T00:00:00\",\"2016-04-23T00:00:00\",\"2016-04-24T00:00:00\",\"2016-04-25T00:00:00\",\"2016-04-26T00:00:00\",\"2016-04-27T00:00:00\",\"2016-04-28T00:00:00\",\"2016-04-29T00:00:00\",\"2016-04-30T00:00:00\",\"2016-05-01T00:00:00\",\"2016-05-02T00:00:00\",\"2016-05-03T00:00:00\",\"2016-05-04T00:00:00\",\"2016-05-05T00:00:00\",\"2016-05-06T00:00:00\",\"2016-05-07T00:00:00\",\"2016-05-08T00:00:00\",\"2016-05-09T00:00:00\",\"2016-05-10T00:00:00\",\"2016-05-11T00:00:00\",\"2016-05-12T00:00:00\",\"2016-05-13T00:00:00\",\"2016-05-14T00:00:00\",\"2016-05-15T00:00:00\",\"2016-05-16T00:00:00\",\"2016-05-17T00:00:00\",\"2016-05-18T00:00:00\",\"2016-05-19T00:00:00\",\"2016-05-20T00:00:00\",\"2016-05-21T00:00:00\",\"2016-05-22T00:00:00\",\"2016-05-23T00:00:00\",\"2016-05-24T00:00:00\",\"2016-05-25T00:00:00\",\"2016-05-26T00:00:00\",\"2016-05-27T00:00:00\",\"2016-05-28T00:00:00\",\"2016-05-29T00:00:00\",\"2016-05-30T00:00:00\",\"2016-05-31T00:00:00\",\"2016-06-01T00:00:00\",\"2016-06-02T00:00:00\",\"2016-06-03T00:00:00\",\"2016-06-04T00:00:00\",\"2016-06-05T00:00:00\",\"2016-06-06T00:00:00\",\"2016-06-07T00:00:00\",\"2016-06-08T00:00:00\",\"2016-06-09T00:00:00\",\"2016-06-10T00:00:00\",\"2016-06-11T00:00:00\",\"2016-06-12T00:00:00\",\"2016-06-13T00:00:00\",\"2016-06-14T00:00:00\",\"2016-06-15T00:00:00\",\"2016-06-16T00:00:00\",\"2016-06-17T00:00:00\",\"2016-06-18T00:00:00\",\"2016-06-19T00:00:00\",\"2016-06-20T00:00:00\",\"2016-06-21T00:00:00\",\"2016-06-22T00:00:00\",\"2016-06-23T00:00:00\",\"2016-06-24T00:00:00\",\"2016-06-25T00:00:00\",\"2016-06-26T00:00:00\",\"2016-06-27T00:00:00\",\"2016-06-28T00:00:00\",\"2016-06-29T00:00:00\",\"2016-06-30T00:00:00\",\"2016-07-01T00:00:00\",\"2016-07-02T00:00:00\",\"2016-07-03T00:00:00\",\"2016-07-04T00:00:00\",\"2016-07-05T00:00:00\",\"2016-07-06T00:00:00\",\"2016-07-07T00:00:00\",\"2016-07-08T00:00:00\",\"2016-07-09T00:00:00\",\"2016-07-10T00:00:00\",\"2016-07-11T00:00:00\",\"2016-07-12T00:00:00\",\"2016-07-13T00:00:00\",\"2016-07-14T00:00:00\",\"2016-07-15T00:00:00\",\"2016-07-16T00:00:00\",\"2016-07-17T00:00:00\",\"2016-07-18T00:00:00\",\"2016-07-19T00:00:00\",\"2016-07-20T00:00:00\",\"2016-07-21T00:00:00\",\"2016-07-22T00:00:00\",\"2016-07-23T00:00:00\",\"2016-07-24T00:00:00\",\"2016-07-25T00:00:00\",\"2016-07-26T00:00:00\",\"2016-07-27T00:00:00\",\"2016-07-28T00:00:00\",\"2016-07-29T00:00:00\",\"2016-07-30T00:00:00\",\"2016-07-31T00:00:00\",\"2016-08-01T00:00:00\",\"2016-08-02T00:00:00\",\"2016-08-03T00:00:00\",\"2016-08-04T00:00:00\",\"2016-08-05T00:00:00\",\"2016-08-06T00:00:00\",\"2016-08-07T00:00:00\",\"2016-08-08T00:00:00\",\"2016-08-09T00:00:00\",\"2016-08-10T00:00:00\",\"2016-08-11T00:00:00\",\"2016-08-12T00:00:00\",\"2016-08-13T00:00:00\",\"2016-08-14T00:00:00\",\"2016-08-15T00:00:00\",\"2016-08-16T00:00:00\",\"2016-08-17T00:00:00\",\"2016-08-18T00:00:00\",\"2016-08-19T00:00:00\",\"2016-08-20T00:00:00\",\"2016-08-21T00:00:00\",\"2016-08-22T00:00:00\",\"2016-08-23T00:00:00\",\"2016-08-24T00:00:00\",\"2016-08-25T00:00:00\",\"2016-08-26T00:00:00\",\"2016-08-27T00:00:00\",\"2016-08-28T00:00:00\",\"2016-08-29T00:00:00\",\"2016-08-30T00:00:00\",\"2016-08-31T00:00:00\",\"2016-09-01T00:00:00\",\"2016-09-02T00:00:00\",\"2016-09-03T00:00:00\",\"2016-09-04T00:00:00\",\"2016-09-05T00:00:00\",\"2016-09-06T00:00:00\",\"2016-09-07T00:00:00\",\"2016-09-08T00:00:00\",\"2016-09-09T00:00:00\",\"2016-09-10T00:00:00\",\"2016-09-11T00:00:00\",\"2016-09-12T00:00:00\",\"2016-09-13T00:00:00\",\"2016-09-14T00:00:00\",\"2016-09-15T00:00:00\",\"2016-09-16T00:00:00\",\"2016-09-17T00:00:00\",\"2016-09-18T00:00:00\",\"2016-09-19T00:00:00\",\"2016-09-20T00:00:00\",\"2016-09-21T00:00:00\",\"2016-09-22T00:00:00\",\"2016-09-23T00:00:00\",\"2016-09-24T00:00:00\",\"2016-09-25T00:00:00\",\"2016-09-26T00:00:00\",\"2016-09-27T00:00:00\",\"2016-09-28T00:00:00\",\"2016-09-29T00:00:00\",\"2016-09-30T00:00:00\",\"2016-10-01T00:00:00\",\"2016-10-02T00:00:00\",\"2016-10-03T00:00:00\",\"2016-10-04T00:00:00\",\"2016-10-05T00:00:00\",\"2016-10-06T00:00:00\",\"2016-10-07T00:00:00\",\"2016-10-08T00:00:00\",\"2016-10-09T00:00:00\",\"2016-10-10T00:00:00\",\"2016-10-11T00:00:00\",\"2016-10-12T00:00:00\",\"2016-10-13T00:00:00\",\"2016-10-14T00:00:00\",\"2016-10-15T00:00:00\",\"2016-10-16T00:00:00\",\"2016-10-17T00:00:00\",\"2016-10-18T00:00:00\",\"2016-10-19T00:00:00\",\"2016-10-20T00:00:00\",\"2016-10-21T00:00:00\",\"2016-10-22T00:00:00\",\"2016-10-23T00:00:00\",\"2016-10-24T00:00:00\",\"2016-10-25T00:00:00\",\"2016-10-26T00:00:00\",\"2016-10-27T00:00:00\",\"2016-10-28T00:00:00\",\"2016-10-29T00:00:00\",\"2016-10-30T00:00:00\",\"2016-10-31T00:00:00\",\"2016-11-01T00:00:00\",\"2016-11-02T00:00:00\",\"2016-11-03T00:00:00\",\"2016-11-04T00:00:00\",\"2016-11-05T00:00:00\",\"2016-11-06T00:00:00\",\"2016-11-07T00:00:00\",\"2016-11-08T00:00:00\",\"2016-11-09T00:00:00\",\"2016-11-10T00:00:00\",\"2016-11-11T00:00:00\",\"2016-11-12T00:00:00\",\"2016-11-13T00:00:00\",\"2016-11-14T00:00:00\",\"2016-11-15T00:00:00\",\"2016-11-16T00:00:00\",\"2016-11-17T00:00:00\",\"2016-11-18T00:00:00\",\"2016-11-19T00:00:00\",\"2016-11-20T00:00:00\",\"2016-11-21T00:00:00\",\"2016-11-22T00:00:00\",\"2016-11-23T00:00:00\",\"2016-11-24T00:00:00\",\"2016-11-25T00:00:00\",\"2016-11-26T00:00:00\",\"2016-11-27T00:00:00\",\"2016-11-28T00:00:00\",\"2016-11-29T00:00:00\",\"2016-11-30T00:00:00\",\"2016-12-01T00:00:00\",\"2016-12-02T00:00:00\",\"2016-12-03T00:00:00\",\"2016-12-04T00:00:00\",\"2016-12-05T00:00:00\",\"2016-12-06T00:00:00\",\"2016-12-07T00:00:00\",\"2016-12-08T00:00:00\",\"2016-12-09T00:00:00\",\"2016-12-10T00:00:00\",\"2016-12-11T00:00:00\",\"2016-12-12T00:00:00\",\"2016-12-13T00:00:00\",\"2016-12-14T00:00:00\",\"2016-12-15T00:00:00\",\"2016-12-16T00:00:00\",\"2016-12-17T00:00:00\",\"2016-12-18T00:00:00\",\"2016-12-19T00:00:00\",\"2016-12-20T00:00:00\",\"2016-12-21T00:00:00\",\"2016-12-22T00:00:00\",\"2016-12-23T00:00:00\",\"2016-12-24T00:00:00\",\"2016-12-25T00:00:00\",\"2016-12-26T00:00:00\",\"2016-12-27T00:00:00\",\"2016-12-28T00:00:00\",\"2016-12-29T00:00:00\",\"2016-12-30T00:00:00\",\"2016-12-31T00:00:00\",\"2017-01-01T00:00:00\"],\"y\":[1015.6666666666666,1017.8,1018.6666666666666,1017.1666666666666,1016.5,1018.0,1020.0,1018.7142857142856,1017.0,1015.6666666666666,1016.1428571428572,1015.5714285714286,1013.3333333333334,1015.1666666666666,1015.8571428571428,1016.6666666666666,1015.8333333333334,1014.5,1021.6666666666666,1020.2857142857144,1021.0,1021.8,1020.5,1020.5,1020.75,1019.6666666666666,1018.1428571428572,1017.8333333333334,1016.625,1017.8571428571428,1018.4,1016.0,1017.1428571428572,1015.2857142857144,1014.5714285714286,1016.375,1018.6666666666666,1018.6,1017.1428571428572,1016.8571428571428,1017.125,1016.5,1017.5,1016.0,1014.1666666666666,1011.6666666666666,1008.0,1012.6666666666666,1016.2,1015.7142857142856,1017.0,1015.4285714285714,1016.0,1017.0,1018.8571428571428,1018.25,1015.1428571428572,1015.2,1017.4285714285714,1016.3333333333334,1016.25,1016.1666666666666,1015.8,1016.375,1015.7142857142856,1015.2857142857144,1014.8333333333334,1009.2857142857144,1008.0,1011.1666666666666,1011.5,1009.0,1013.1666666666666,1016.1666666666666,1016.1666666666666,1015.0,1009.4285714285714,1011.0,1009.5,1008.3333333333334,1006.375,1007.625,1010.25,1010.625,1008.8571428571428,1009.0,1009.5714285714286,1009.75,1008.625,1008.6,1008.5,1009.5,1009.0,1007.8,1007.0,1006.1428571428572,1005.0,1006.0,1005.3333333333334,1006.7142857142856,1006.4,1007.5714285714286,1008.4,1007.0,1003.875,1000.0,1002.2,1002.8571428571428,1002.5714285714286,1003.375,1006.8333333333334,1010.0,1009.875,1008.5714285714286,1007.7142857142856,1008.375,1007.0,1005.4285714285714,1004.875,1004.8571428571428,1002.8333333333334,1001.2,999.4285714285714,999.0,1000.625,1001.625,1002.0,1001.1666666666666,1000.8571428571428,1000.1428571428572,999.875,1003.7142857142856,1003.5714285714286,1001.5714285714286,999.8571428571428,998.5,1000.3333333333334,999.0,999.6666666666666,998.4,998.6666666666666,998.625,997.1666666666666,996.4285714285714,998.1428571428572,998.2,999.1428571428572,1000.1666666666666,999.4285714285714,999.6,998.7142857142856,998.75,1001.0,999.6,999.8571428571428,998.0,997.2857142857144,998.0,997.0,995.1666666666666,995.125,1000.0,998.0,998.6666666666666,997.4285714285714,997.8571428571428,996.4285714285714,994.75,996.4,999.0,997.1666666666666,995.3333333333334,996.2,995.6666666666666,996.2857142857144,999.1666666666666,999.0,996.7142857142856,996.0,995.25,997.1666666666666,996.4285714285714,996.0,997.5714285714286,997.0,997.8,1000.5714285714286,1000.1666666666666,997.5,996.8333333333334,995.75,997.3333333333334,1000.0,998.875,997.375,998.375,999.0,998.0,995.0,995.3333333333334,999.1666666666666,996.4,996.8333333333334,998.0,997.1428571428572,995.1666666666666,995.4285714285714,997.2857142857144,998.1428571428572,997.1428571428572,996.5,996.6666666666666,998.0,999.4285714285714,1000.8333333333334,993.25,1001.0,1002.1666666666666,1001.875,1000.5,1001.0,1000.3333333333334,1001.1666666666666,1001.0,999.25,999.8333333333334,1001.7142857142856,1000.8,999.4285714285714,1000.1666666666666,1000.5,999.0,999.2857142857144,1001.1666666666666,1001.4285714285714,1000.3333333333334,998.75,997.8571428571428,999.8571428571428,1003.7142857142856,1003.25,1003.5,1003.25,1003.2,1003.7142857142856,1001.5,1002.1666666666666,1001.5,1003.4285714285714,1004.1666666666666,1007.25,1007.0,1005.3333333333334,1005.5714285714286,1008.1666666666666,1007.1428571428572,1003.8333333333334,1001.375,1002.3333333333334,1002.875,1003.1428571428572,1001.8,1003.0,1003.0,1001.6666666666666,1001.0,1002.75,1005.4285714285714,1006.6,1005.625,1005.3333333333334,1003.8571428571428,1004.7142857142856,1007.7142857142856,1010.0,1008.6,1007.5,1004.125,1005.25,1008.8571428571428,1009.8,1010.3333333333334,1010.8571428571428,1010.5714285714286,1008.2857142857144,1007.6666666666666,1007.0,1009.1428571428572,1009.0,1010.4285714285714,1010.5,1011.5714285714286,1010.6666666666666,1009.875,1011.0,1013.625,1013.2857142857144,1011.0,1011.2,1010.625,1010.0,1011.1428571428572,1012.8571428571428,1012.8333333333334,1013.2857142857144,1014.5,1016.0,1017.5,1017.5,1015.8571428571428,1015.6666666666666,1015.625,1016.7142857142856,1016.0,1013.4285714285714,1013.8571428571428,1014.25,1015.25,1016.5,1018.0,1017.7142857142856,1016.875,1015.5,1012.75,1013.125,1015.75,1014.5714285714286,1014.5,1012.875,1011.75,1014.75,1017.75,1016.875,1015.875,1016.1428571428572,1015.875,1016.75,1017.0,1015.2857142857144,1014.0,1014.25,1014.0,1013.5,1013.75,1014.125,1012.5,1012.0,1012.5714285714286,1015.125,1015.625,1014.25,1012.625,1012.875,1016.0,1017.0,1018.375,1020.5,1021.375,1020.625,1019.25,1018.625,1019.25,1018.5,1018.125,1020.5,1021.0,1020.25,1017.75,1016.25,1014.5,1017.625,1017.75,1017.875,1017.0,1016.625,1019.625,1020.75,1019.375,1017.0,1019.75,1019.5714285714286,1017.625,1020.25,1023.0,1021.375,1020.5714285714286,1019.875,1020.25,1019.25,1019.75,1019.125,1018.75,1016.75,1018.625,1019.375,1019.25,1019.75,1016.875,1014.125,1011.0,1011.5,1010.875,1009.25,1011.375,1012.0,1012.5,1013.5,1013.5,1013.625,1011.875,1012.875,1016.0,1017.75,1017.375,1016.625,1014.75,1014.25,1017.375,1019.375,1018.625,1017.25,1014.25,1013.125,1013.125,1015.2857142857144,1017.125,1016.25,1016.5,1016.125,1016.375,1017.125,1017.0,1014.5,1014.375,1013.7142857142856,1016.25,1016.25,1015.0,1016.375,1015.375,1011.25,1012.8571428571428,1013.25,1010.75,1007.125,1007.0,1010.625,1011.625,1010.5,1010.625,1011.75,1011.1428571428572,1011.25,1009.875,1008.25,1006.125,1005.75,1010.375,1009.8571428571428,1008.875,1007.5,1009.625,1010.375,1010.25,1010.875,1008.5714285714286,1007.125,1009.625,1010.625,1009.125,1008.25,1007.0,1011.625,1011.375,1010.5,1010.0,1011.75,1009.0,1005.875,1006.125,1006.375,1007.125,1005.625,1003.875,1003.75,1001.5,1001.875,1003.625,1003.0,1005.75,1006.8571428571428,1004.25,1002.625,1000.4285714285714,1000.75,1004.0,1004.875,1008.375,1006.5,1004.25,1003.5,1007.0,1007.375,1006.625,1006.625,1002.125,999.5,1000.0,1004.125,1005.5,1007.125,1004.75,1001.25,999.375,999.5714285714286,999.625,1003.25,1003.25,1000.0,998.125,996.125,994.875,994.0,993.125,993.125,994.75,995.625,997.0,997.625,997.375,997.125,995.625,994.125,994.25,993.25,991.375,993.875,996.375,996.25,995.5,997.625,1001.0,1001.625,999.375,997.75,997.5,1000.875,1001.125,998.2857142857144,998.7777777777778,1000.7058823529412,1000.5,998.25,996.875,996.5,996.875,996.125,996.0,998.0,997.125,996.0,997.25,996.125,994.875,995.125,996.75,996.0,997.0,997.75,998.7142857142856,1000.75,1001.875,1001.875,999.375,999.25,999.5714285714286,999.625,998.0,997.125,995.375,996.125,997.5,996.875,997.0,998.375,1001.6470588235294,1002.15625,999.875,998.75,998.25,997.375,998.875,1002.5,1003.25,1005.375,1004.8571428571428,1002.375,1001.25,1002.8571428571428,1003.25,1002.875,1002.375,1001.375,1001.125,1003.75,1003.5,1002.625,1001.25,1001.125,1001.875,1001.4285714285714,1000.375,1000.1428571428572,1002.375,1003.25,1003.125,1002.375,1003.25,1005.5714285714286,1005.125,1004.0,1004.25,1004.25,1002.25,1002.125,1003.875,1003.5,1002.875,1003.625,1004.5,1004.2857142857144,1006.25,1007.75,1008.125,1009.25,1009.625,1009.125,1009.625,1010.4285714285714,1009.125,1008.0,1008.5,1010.375,1010.125,1008.375,1009.875,1010.125,1008.75,1008.25,1008.375,1009.875,1010.875,1013.375,1014.0,1013.625,1012.875,1012.625,1013.125,1014.625,1014.5,1012.75,1011.75,1012.375,1014.875,1013.75,1012.0,1012.125,1014.5,1013.625,1014.125,1014.5,1013.5,1012.125,1012.375,1011.625,1012.875,1014.625,1015.125,1014.0,1014.75,1015.875,1016.5,1016.375,1014.875,1015.375,1016.125,1017.875,1016.5,1013.375,1012.75,1011.375,1014.625,1016.0,1014.875,1009.875,1011.75,1012.5,1012.375,1014.0,1013.75,1012.75,1007.0,1010.375,1017.125,1016.375,1014.75,1015.0,1016.8571428571428,1010.5,1011.625,1014.375,1016.125,1014.5,1016.125,1017.375,1020.25,1021.375,1022.125,1018.75,1018.0,1017.125,1017.875,1021.25,1020.125,1017.75,1018.625,1019.75,1017.25,1014.625,1016.875,1017.5,1017.875,1017.375,1019.625,1016.0,1015.5,1016.625,1019.125,1020.125,1018.875,1019.125,1019.5,1017.125,1017.5,1019.375,1019.25,1019.25,1018.75,1018.875,1020.0,1021.0,1020.625,1020.0,1020.75,1020.375,1019.875,1019.3333333333334,1018.25,1019.75,1020.375,1017.875,1017.75,1017.5,1020.5,1022.0,1019.25,1019.0,1017.0,1017.375,1019.75,1019.75,1017.125,1016.125,1012.625,1009.625,1012.625,1013.625,1011.8571428571428,1011.75,1012.0,1013.875,1014.125,1013.375,1014.25,1010.625,1008.5,1009.875,1013.0,1013.0,1011.125,1012.5,1013.75,1014.0,1015.75,1016.375,1013.7142857142856,1015.375,1021.0,1019.125,1018.125,1017.0,1014.75,1015.125,1015.5,1017.375,1015.875,1013.5,1014.875,1014.875,1014.875,1012.0,1010.0,1010.25,1011.8571428571428,1013.0,1012.0,1009.625,1008.625,1010.375,1010.1428571428572,1007.5,1004.625,1004.75,1005.25,1007.75,1007.75,1010.25,1012.0,1010.5,1008.5,1008.375,1012.375,1013.75,1012.75,1012.875,1013.875,1007.125,1002.375,1003.875,1005.75,1005.625,1003.125,1004.0,1004.375,1005.875,1008.0,1006.75,1004.5,1005.0,1004.0,1005.875,1006.25,1006.625,1006.625,1003.875,1001.875,1003.5714285714286,1003.25,1001.625,1001.375,1003.625,1004.875,1006.125,1007.25,1006.5,1003.25,1001.125,1000.0,1002.125,1002.0,1000.375,998.125,996.125,997.375,996.875,1001.5,1001.25,1000.625,1001.625,1003.875,1001.75,1003.25,1003.5,1004.625,1004.0,1003.5,1001.375,999.25,998.875,998.875,999.625,1000.0,998.5,998.8571428571428,1000.2857142857144,999.5714285714286,999.1428571428572,998.0,997.625,996.25,997.875,998.125,995.625,995.0,995.375,994.75,995.25,997.125,1000.2857142857144,1003.625,1002.625,1001.875,1001.125,999.625,997.5,995.4285714285714,997.875,998.125,998.625,998.625,998.75,999.3333333333334,998.625,1000.625,997.8571428571428,993.75,994.75,997.25,998.0,997.625,999.125,1000.0,1001.125,1001.75,1001.0,998.5714285714286,998.875,1000.2857142857144,1000.125,998.0,998.875,999.75,1002.75,1003.625,1001.875,1000.0714285714286,1000.28125,998.0,1000.0,1002.0,1000.25,1000.0,1003.0,1003.125,1001.875,1002.0,1002.75,1002.875,1001.375,1002.5714285714286,1002.375,1001.375,1002.0,1000.875,1000.8571428571428,1001.75,1001.0,1001.125,1002.0,1002.25,1001.375,1001.375,1001.8333333333334,1000.8571428571428,1001.75,1005.5,1007.875,1007.125,1006.25,1005.75,1005.5,1005.625,1006.75,1006.25,1006.0,1005.875,1003.625,1003.25,1003.625,1004.375,1005.125,1003.625,1002.8571428571428,1002.5,1002.5,1006.375,1004.625,1003.75,1005.25,1007.0,1009.0,1010.5714285714286,1011.375,1012.0,1010.75,1008.7142857142856,1008.125,1009.25,1009.0,1009.125,1007.5,1004.25,1005.0,1008.7142857142856,1010.0,1011.0,1013.25,1013.5,1013.5,1012.25,1013.125,1011.7142857142856,1009.8571428571428,1011.875,1012.25,1011.875,1011.625,1012.75,1014.875,1013.875,1015.875,1016.875,1016.375,1016.125,1016.25,1015.875,1014.25,1012.25,1012.375,1012.75,1014.625,1015.875,1015.0,1013.5,1014.375,1015.375,1014.875,1012.0,1012.0,1012.625,1013.5,1016.375,1017.5,1016.125,1015.5,1015.125,1015.875,1016.0,1014.75,1012.75,1011.25,1015.375,1018.0,1016.75,1014.75,1016.125,1016.0,1015.0,1015.875,1016.5,1017.25,1015.7142857142856,1015.25,1011.75,1011.375,1014.25,1016.5,1017.0,1016.5,1016.375,1016.875,1018.625,1019.0,1018.5,1018.875,1020.875,1020.625,1021.25,1022.0,1021.125,1020.625,1020.875,1018.125,1017.5,1020.5,1021.1428571428572,1021.0,1018.5,1017.625,1017.0,1016.5,1018.125,1017.25,1015.4285714285714,1017.5,1017.5,1014.9375,1014.3333333333334,1016.125,1017.0,1014.6,1016.2,1014.7333333333332,1015.2857142857144,1018.6666666666666,1020.1875,1019.4666666666668,1019.8125,1019.0625,1017.2,1015.375,1014.1666666666666,1015.0714285714286,1017.375,1014.5,1016.0,1017.1538461538462,1018.2,1018.0,1017.3333333333334,1016.8333333333334,1013.3333333333334,1015.75,1017.0909090909092,1014.6923076923076,1012.7333333333332,1011.25,1012.5333333333332,1014.8666666666668,1017.2142857142856,1018.7333333333332,1020.0714285714286,1019.1428571428572,1017.4,1014.6153846153846,1014.125,1014.75,1014.4285714285714,1012.5,1012.9375,1015.5,1018.4,1018.4666666666668,1018.9375,1018.625,1015.0,1015.4,1014.6153846153846,1012.6875,1012.6666666666666,1013.0625,1012.3571428571428,1011.6428571428572,1012.0625,1013.1875,1012.5333333333332,1009.5625,1011.1875,1014.3125,1014.8666666666668,1012.8125,1010.4375,1009.8125,1009.2142857142856,1010.3333333333334,1011.125,1009.375,1010.0,1013.3333333333334,1013.1875,1013.6,1012.8125,7679.333333333333,1011.3125,1011.1428571428572,1009.2,1006.7142857142856,1008.0,1008.375,1006.6875,1007.0,1006.875,1007.2666666666668,1009.2,1009.3125,1008.8125,1009.4,1006.3333333333334,1003.3125,1003.8125,1004.625,1003.0625,1002.6666666666666,1004.6875,1005.8666666666668,1006.4375,1003.4,1001.7272727272727,1001.8461538461538,1003.0625,1005.5625,1007.1875,1005.6875,1004.6923076923076,1005.7142857142856,1004.8125,1002.4375,1002.2,1004.3125,1003.7857142857144,1007.4666666666668,1007.0,1005.5625,1005.9333333333332,1006.0625,1006.5625,1006.0625,1002.25,1001.3529411764706,1003.125,1003.5625,1000.8,998.9375,997.8125,998.625,996.9333333333332,995.9333333333332,996.4666666666668,999.5714285714286,1000.7368421052632,997.4782608695652,999.1538461538462,999.9545454545456,999.8333333333334,1001.25,1003.8125,1002.3076923076924,1002.7333333333332,1002.0,1002.25,1001.8666666666668,1002.8333333333334,1001.5714285714286,1002.0625,999.2142857142856,938.0666666666668,998.25,999.0,998.8125,998.1875,997.8125,996.1333333333332,999.0,999.4285714285714,1000.8571428571428,1001.375,1000.6875,999.9375,1001.5625,999.6923076923076,998.3125,1000.0714285714286,1000.375,998.8666666666668,1001.5,1001.1875,997.8666666666668,1002.5625,998.375,998.25,997.125,995.5625,996.8666666666668,997.6875,997.4,996.75,996.0625,997.75,999.0625,998.4375,998.375,998.625,999.875,1001.3333333333334,1000.8,999.875,999.625,999.2666666666668,999.3333333333334,1001.625,946.3125,1001.875,1003.125,1004.625,1002.0666666666668,1000.9375,1001.2,1000.6666666666666,999.125,310.4375,998.5,998.7777777777778,999.3333333333334,1000.8,1000.529411764706,999.6363636363636,998.5,999.3703703703704,1001.6071428571428,1002.2857142857144,1001.0714285714286,633.9,999.2857142857144,-3.0416666666666665,999.5185185185184,999.9230769230768,999.8928571428572,1000.16,1001.1923076923076,1002.8888888888888,1003.24,1002.5,1004.4230769230768,1005.2222222222222,1006.1428571428572,1006.2,1003.6071428571428,1002.1923076923076,1003.0370370370372,1002.44,1001.2727272727273,1001.157894736842,1002.9230769230768,1003.2307692307692,1003.75,1003.4545454545456,1005.1666666666666,1004.3333333333334,1005.2307692307692,1003.8,1005.0714285714286,1006.4,1006.9285714285714,1004.75,1004.4,1003.1538461538462,1005.0,1004.7083333333334,1003.5185185185184,1005.4,1008.7777777777778,1005.3214285714286,1352.6153846153843,1004.782608695652,1006.76,1006.7037037037036,1005.28,1005.5909090909092,1005.5714285714286,1007.5,1009.1111111111112,1007.1851851851852,1005.3703703703704,1005.25,1007.1481481481482,1007.2,1006.8461538461538,1005.96,1006.1481481481482,1006.5925925925926,1006.25,1008.3333333333334,1009.125,1010.5185185185184,1011.8571428571428,1010.56,1009.4583333333334,1008.5555555555557,1007.5384615384615,1008.7272727272727,1009.3703703703704,1009.3076923076924,1008.2692307692308,1008.9230769230768,1011.7307692307692,1014.6296296296296,1012.4074074074074,1013.0,1014.608695652174,1017.8076923076924,1016.3846153846154,1016.5909090909092,1016.24,1012.6296296296296,1010.3461538461538,1011.5185185185184,1012.7727272727273,1013.64,1014.6666666666666,1013.8148148148148,1014.08,1015.1538461538462,1016.5185185185184,1015.7307692307692,1016.24,1017.5384615384615,1350.2962962962963,1014.6923076923076,1012.4666666666668,1013.35,1013.0,1012.8947368421052,1013.1739130434784,1014.9473684210526,1012.95,1013.25,1013.5909090909092,12.045454545454543,1015.0,1016.608695652174,1016.875,1017.75,1019.3333333333334,1019.7,1017.0454545454544,1017.9615384615385,1017.421052631579,1016.2,1013.4166666666666,1014.0,1013.2916666666666,1014.181818181818,1015.1,1017.3333333333334,1016.6666666666666,1018.7777777777778,1016.9473684210526,1018.0833333333334,1017.4285714285714,1015.2,1015.6190476190476,1016.1428571428572,1014.25,1011.318181818182,1014.35,1016.952380952381,1017.2,1015.5652173913044,1016.904761904762,1017.904761904762,1016.1,1016.0],\"type\":\"scatter\"}],                        {\"template\":{\"data\":{\"barpolar\":[{\"marker\":{\"line\":{\"color\":\"white\",\"width\":0.5},\"pattern\":{\"fillmode\":\"overlay\",\"size\":10,\"solidity\":0.2}},\"type\":\"barpolar\"}],\"bar\":[{\"error_x\":{\"color\":\"#2a3f5f\"},\"error_y\":{\"color\":\"#2a3f5f\"},\"marker\":{\"line\":{\"color\":\"white\",\"width\":0.5},\"pattern\":{\"fillmode\":\"overlay\",\"size\":10,\"solidity\":0.2}},\"type\":\"bar\"}],\"carpet\":[{\"aaxis\":{\"endlinecolor\":\"#2a3f5f\",\"gridcolor\":\"#C8D4E3\",\"linecolor\":\"#C8D4E3\",\"minorgridcolor\":\"#C8D4E3\",\"startlinecolor\":\"#2a3f5f\"},\"baxis\":{\"endlinecolor\":\"#2a3f5f\",\"gridcolor\":\"#C8D4E3\",\"linecolor\":\"#C8D4E3\",\"minorgridcolor\":\"#C8D4E3\",\"startlinecolor\":\"#2a3f5f\"},\"type\":\"carpet\"}],\"choropleth\":[{\"colorbar\":{\"outlinewidth\":0,\"ticks\":\"\"},\"type\":\"choropleth\"}],\"contourcarpet\":[{\"colorbar\":{\"outlinewidth\":0,\"ticks\":\"\"},\"type\":\"contourcarpet\"}],\"contour\":[{\"colorbar\":{\"outlinewidth\":0,\"ticks\":\"\"},\"colorscale\":[[0.0,\"#0d0887\"],[0.1111111111111111,\"#46039f\"],[0.2222222222222222,\"#7201a8\"],[0.3333333333333333,\"#9c179e\"],[0.4444444444444444,\"#bd3786\"],[0.5555555555555556,\"#d8576b\"],[0.6666666666666666,\"#ed7953\"],[0.7777777777777778,\"#fb9f3a\"],[0.8888888888888888,\"#fdca26\"],[1.0,\"#f0f921\"]],\"type\":\"contour\"}],\"heatmapgl\":[{\"colorbar\":{\"outlinewidth\":0,\"ticks\":\"\"},\"colorscale\":[[0.0,\"#0d0887\"],[0.1111111111111111,\"#46039f\"],[0.2222222222222222,\"#7201a8\"],[0.3333333333333333,\"#9c179e\"],[0.4444444444444444,\"#bd3786\"],[0.5555555555555556,\"#d8576b\"],[0.6666666666666666,\"#ed7953\"],[0.7777777777777778,\"#fb9f3a\"],[0.8888888888888888,\"#fdca26\"],[1.0,\"#f0f921\"]],\"type\":\"heatmapgl\"}],\"heatmap\":[{\"colorbar\":{\"outlinewidth\":0,\"ticks\":\"\"},\"colorscale\":[[0.0,\"#0d0887\"],[0.1111111111111111,\"#46039f\"],[0.2222222222222222,\"#7201a8\"],[0.3333333333333333,\"#9c179e\"],[0.4444444444444444,\"#bd3786\"],[0.5555555555555556,\"#d8576b\"],[0.6666666666666666,\"#ed7953\"],[0.7777777777777778,\"#fb9f3a\"],[0.8888888888888888,\"#fdca26\"],[1.0,\"#f0f921\"]],\"type\":\"heatmap\"}],\"histogram2dcontour\":[{\"colorbar\":{\"outlinewidth\":0,\"ticks\":\"\"},\"colorscale\":[[0.0,\"#0d0887\"],[0.1111111111111111,\"#46039f\"],[0.2222222222222222,\"#7201a8\"],[0.3333333333333333,\"#9c179e\"],[0.4444444444444444,\"#bd3786\"],[0.5555555555555556,\"#d8576b\"],[0.6666666666666666,\"#ed7953\"],[0.7777777777777778,\"#fb9f3a\"],[0.8888888888888888,\"#fdca26\"],[1.0,\"#f0f921\"]],\"type\":\"histogram2dcontour\"}],\"histogram2d\":[{\"colorbar\":{\"outlinewidth\":0,\"ticks\":\"\"},\"colorscale\":[[0.0,\"#0d0887\"],[0.1111111111111111,\"#46039f\"],[0.2222222222222222,\"#7201a8\"],[0.3333333333333333,\"#9c179e\"],[0.4444444444444444,\"#bd3786\"],[0.5555555555555556,\"#d8576b\"],[0.6666666666666666,\"#ed7953\"],[0.7777777777777778,\"#fb9f3a\"],[0.8888888888888888,\"#fdca26\"],[1.0,\"#f0f921\"]],\"type\":\"histogram2d\"}],\"histogram\":[{\"marker\":{\"pattern\":{\"fillmode\":\"overlay\",\"size\":10,\"solidity\":0.2}},\"type\":\"histogram\"}],\"mesh3d\":[{\"colorbar\":{\"outlinewidth\":0,\"ticks\":\"\"},\"type\":\"mesh3d\"}],\"parcoords\":[{\"line\":{\"colorbar\":{\"outlinewidth\":0,\"ticks\":\"\"}},\"type\":\"parcoords\"}],\"pie\":[{\"automargin\":true,\"type\":\"pie\"}],\"scatter3d\":[{\"line\":{\"colorbar\":{\"outlinewidth\":0,\"ticks\":\"\"}},\"marker\":{\"colorbar\":{\"outlinewidth\":0,\"ticks\":\"\"}},\"type\":\"scatter3d\"}],\"scattercarpet\":[{\"marker\":{\"colorbar\":{\"outlinewidth\":0,\"ticks\":\"\"}},\"type\":\"scattercarpet\"}],\"scattergeo\":[{\"marker\":{\"colorbar\":{\"outlinewidth\":0,\"ticks\":\"\"}},\"type\":\"scattergeo\"}],\"scattergl\":[{\"marker\":{\"colorbar\":{\"outlinewidth\":0,\"ticks\":\"\"}},\"type\":\"scattergl\"}],\"scattermapbox\":[{\"marker\":{\"colorbar\":{\"outlinewidth\":0,\"ticks\":\"\"}},\"type\":\"scattermapbox\"}],\"scatterpolargl\":[{\"marker\":{\"colorbar\":{\"outlinewidth\":0,\"ticks\":\"\"}},\"type\":\"scatterpolargl\"}],\"scatterpolar\":[{\"marker\":{\"colorbar\":{\"outlinewidth\":0,\"ticks\":\"\"}},\"type\":\"scatterpolar\"}],\"scatter\":[{\"fillpattern\":{\"fillmode\":\"overlay\",\"size\":10,\"solidity\":0.2},\"type\":\"scatter\"}],\"scatterternary\":[{\"marker\":{\"colorbar\":{\"outlinewidth\":0,\"ticks\":\"\"}},\"type\":\"scatterternary\"}],\"surface\":[{\"colorbar\":{\"outlinewidth\":0,\"ticks\":\"\"},\"colorscale\":[[0.0,\"#0d0887\"],[0.1111111111111111,\"#46039f\"],[0.2222222222222222,\"#7201a8\"],[0.3333333333333333,\"#9c179e\"],[0.4444444444444444,\"#bd3786\"],[0.5555555555555556,\"#d8576b\"],[0.6666666666666666,\"#ed7953\"],[0.7777777777777778,\"#fb9f3a\"],[0.8888888888888888,\"#fdca26\"],[1.0,\"#f0f921\"]],\"type\":\"surface\"}],\"table\":[{\"cells\":{\"fill\":{\"color\":\"#EBF0F8\"},\"line\":{\"color\":\"white\"}},\"header\":{\"fill\":{\"color\":\"#C8D4E3\"},\"line\":{\"color\":\"white\"}},\"type\":\"table\"}]},\"layout\":{\"annotationdefaults\":{\"arrowcolor\":\"#2a3f5f\",\"arrowhead\":0,\"arrowwidth\":1},\"autotypenumbers\":\"strict\",\"coloraxis\":{\"colorbar\":{\"outlinewidth\":0,\"ticks\":\"\"}},\"colorscale\":{\"diverging\":[[0,\"#8e0152\"],[0.1,\"#c51b7d\"],[0.2,\"#de77ae\"],[0.3,\"#f1b6da\"],[0.4,\"#fde0ef\"],[0.5,\"#f7f7f7\"],[0.6,\"#e6f5d0\"],[0.7,\"#b8e186\"],[0.8,\"#7fbc41\"],[0.9,\"#4d9221\"],[1,\"#276419\"]],\"sequential\":[[0.0,\"#0d0887\"],[0.1111111111111111,\"#46039f\"],[0.2222222222222222,\"#7201a8\"],[0.3333333333333333,\"#9c179e\"],[0.4444444444444444,\"#bd3786\"],[0.5555555555555556,\"#d8576b\"],[0.6666666666666666,\"#ed7953\"],[0.7777777777777778,\"#fb9f3a\"],[0.8888888888888888,\"#fdca26\"],[1.0,\"#f0f921\"]],\"sequentialminus\":[[0.0,\"#0d0887\"],[0.1111111111111111,\"#46039f\"],[0.2222222222222222,\"#7201a8\"],[0.3333333333333333,\"#9c179e\"],[0.4444444444444444,\"#bd3786\"],[0.5555555555555556,\"#d8576b\"],[0.6666666666666666,\"#ed7953\"],[0.7777777777777778,\"#fb9f3a\"],[0.8888888888888888,\"#fdca26\"],[1.0,\"#f0f921\"]]},\"colorway\":[\"#636efa\",\"#EF553B\",\"#00cc96\",\"#ab63fa\",\"#FFA15A\",\"#19d3f3\",\"#FF6692\",\"#B6E880\",\"#FF97FF\",\"#FECB52\"],\"font\":{\"color\":\"#2a3f5f\"},\"geo\":{\"bgcolor\":\"white\",\"lakecolor\":\"white\",\"landcolor\":\"white\",\"showlakes\":true,\"showland\":true,\"subunitcolor\":\"#C8D4E3\"},\"hoverlabel\":{\"align\":\"left\"},\"hovermode\":\"closest\",\"mapbox\":{\"style\":\"light\"},\"paper_bgcolor\":\"white\",\"plot_bgcolor\":\"white\",\"polar\":{\"angularaxis\":{\"gridcolor\":\"#EBF0F8\",\"linecolor\":\"#EBF0F8\",\"ticks\":\"\"},\"bgcolor\":\"white\",\"radialaxis\":{\"gridcolor\":\"#EBF0F8\",\"linecolor\":\"#EBF0F8\",\"ticks\":\"\"}},\"scene\":{\"xaxis\":{\"backgroundcolor\":\"white\",\"gridcolor\":\"#DFE8F3\",\"gridwidth\":2,\"linecolor\":\"#EBF0F8\",\"showbackground\":true,\"ticks\":\"\",\"zerolinecolor\":\"#EBF0F8\"},\"yaxis\":{\"backgroundcolor\":\"white\",\"gridcolor\":\"#DFE8F3\",\"gridwidth\":2,\"linecolor\":\"#EBF0F8\",\"showbackground\":true,\"ticks\":\"\",\"zerolinecolor\":\"#EBF0F8\"},\"zaxis\":{\"backgroundcolor\":\"white\",\"gridcolor\":\"#DFE8F3\",\"gridwidth\":2,\"linecolor\":\"#EBF0F8\",\"showbackground\":true,\"ticks\":\"\",\"zerolinecolor\":\"#EBF0F8\"}},\"shapedefaults\":{\"line\":{\"color\":\"#2a3f5f\"}},\"ternary\":{\"aaxis\":{\"gridcolor\":\"#DFE8F3\",\"linecolor\":\"#A2B1C6\",\"ticks\":\"\"},\"baxis\":{\"gridcolor\":\"#DFE8F3\",\"linecolor\":\"#A2B1C6\",\"ticks\":\"\"},\"bgcolor\":\"white\",\"caxis\":{\"gridcolor\":\"#DFE8F3\",\"linecolor\":\"#A2B1C6\",\"ticks\":\"\"}},\"title\":{\"x\":0.05},\"xaxis\":{\"automargin\":true,\"gridcolor\":\"#EBF0F8\",\"linecolor\":\"#EBF0F8\",\"ticks\":\"\",\"title\":{\"standoff\":15},\"zerolinecolor\":\"#EBF0F8\",\"zerolinewidth\":2},\"yaxis\":{\"automargin\":true,\"gridcolor\":\"#EBF0F8\",\"linecolor\":\"#EBF0F8\",\"ticks\":\"\",\"title\":{\"standoff\":15},\"zerolinecolor\":\"#EBF0F8\",\"zerolinewidth\":2}}},\"title\":{\"text\":\"Mean Pressure\",\"x\":0.5},\"xaxis\":{\"title\":{\"text\":\"Date\"}},\"yaxis\":{\"title\":{\"text\":\"Value\"}}},                        {\"responsive\": true}                    ).then(function(){\n",
       "                            \n",
       "var gd = document.getElementById('63e2c848-14c1-46c9-a085-950d08935af3');\n",
       "var x = new MutationObserver(function (mutations, observer) {{\n",
       "        var display = window.getComputedStyle(gd).display;\n",
       "        if (!display || display === 'none') {{\n",
       "            console.log([gd, 'removed!']);\n",
       "            Plotly.purge(gd);\n",
       "            observer.disconnect();\n",
       "        }}\n",
       "}});\n",
       "\n",
       "// Listen for the removal of the full notebook cells\n",
       "var notebookContainer = gd.closest('#notebook-container');\n",
       "if (notebookContainer) {{\n",
       "    x.observe(notebookContainer, {childList: true});\n",
       "}}\n",
       "\n",
       "// Listen for the clearing of the current output cell\n",
       "var outputEl = gd.closest('.output');\n",
       "if (outputEl) {{\n",
       "    x.observe(outputEl, {childList: true});\n",
       "}}\n",
       "\n",
       "                        })                };                });            </script>        </div>"
      ]
     },
     "metadata": {},
     "output_type": "display_data"
    }
   ],
   "source": [
    "# Mean Temperature\n",
    "fig_temp = go.Figure()\n",
    "fig_temp.add_trace(go.Scatter(x=df_train.index, y=df_train['meantemp'], mode='lines'))\n",
    "fig_temp.update_layout(title=\"Mean Temperature\", xaxis_title=\"Date\", yaxis_title=\"Value\", template='plotly_white', title_x=0.5)\n",
    "fig_temp.show()\n",
    "\n",
    "# Humidity\n",
    "fig_humidity = go.Figure()\n",
    "fig_humidity.add_trace(go.Scatter(x=df_train.index, y=df_train['humidity'], mode='lines'))\n",
    "fig_humidity.update_layout(title=\"Humidity\", xaxis_title=\"Date\", yaxis_title=\"Value\", template='plotly_white', title_x=0.5)\n",
    "fig_humidity.show()\n",
    "\n",
    "# Wind Speed\n",
    "fig_wind = go.Figure()\n",
    "fig_wind.add_trace(go.Scatter(x=df_train.index, y=df_train['wind_speed'], mode='lines'))\n",
    "fig_wind.update_layout(title=\"Wind Speed\", xaxis_title=\"Date\", yaxis_title=\"Value\", template='plotly_white', title_x=0.5)\n",
    "fig_wind.show()\n",
    "\n",
    "# Mean Pressure\n",
    "fig_pressure = go.Figure()\n",
    "fig_pressure.add_trace(go.Scatter(x=df_train.index, y=df_train['meanpressure'], mode='lines'))\n",
    "fig_pressure.update_layout(title=\"Mean Pressure\", xaxis_title=\"Date\", yaxis_title=\"Value\", template='plotly_white', title_x=0.5)\n",
    "fig_pressure.show()"
   ]
  },
  {
   "cell_type": "markdown",
   "id": "b8f7553e",
   "metadata": {
    "papermill": {
     "duration": 0.027281,
     "end_time": "2024-03-30T13:47:20.319466",
     "exception": false,
     "start_time": "2024-03-30T13:47:20.292185",
     "status": "completed"
    },
    "tags": []
   },
   "source": [
    "### 🔗2013 Vs 2016"
   ]
  },
  {
   "cell_type": "code",
   "execution_count": 20,
   "id": "9bb8e5ec",
   "metadata": {
    "execution": {
     "iopub.execute_input": "2024-03-30T13:47:20.376348Z",
     "iopub.status.busy": "2024-03-30T13:47:20.375926Z",
     "iopub.status.idle": "2024-03-30T13:47:20.886352Z",
     "shell.execute_reply": "2024-03-30T13:47:20.885087Z"
    },
    "papermill": {
     "duration": 0.541695,
     "end_time": "2024-03-30T13:47:20.888580",
     "exception": false,
     "start_time": "2024-03-30T13:47:20.346885",
     "status": "completed"
    },
    "tags": []
   },
   "outputs": [
    {
     "data": {
      "text/html": [
       "<div>                            <div id=\"deefed9e-33e5-42fd-b5b2-28b1c9235647\" class=\"plotly-graph-div\" style=\"height:380px; width:100%;\"></div>            <script type=\"text/javascript\">                require([\"plotly\"], function(Plotly) {                    window.PLOTLYENV=window.PLOTLYENV || {};                                    if (document.getElementById(\"deefed9e-33e5-42fd-b5b2-28b1c9235647\")) {                    Plotly.newPlot(                        \"deefed9e-33e5-42fd-b5b2-28b1c9235647\",                        [{\"line\":{\"color\":\"blue\"},\"mode\":\"lines\",\"x\":[\"2013-01-01T00:00:00\",\"2013-01-02T00:00:00\",\"2013-01-03T00:00:00\",\"2013-01-04T00:00:00\",\"2013-01-05T00:00:00\",\"2013-01-06T00:00:00\",\"2013-01-07T00:00:00\",\"2013-01-08T00:00:00\",\"2013-01-09T00:00:00\",\"2013-01-10T00:00:00\",\"2013-01-11T00:00:00\",\"2013-01-12T00:00:00\",\"2013-01-13T00:00:00\",\"2013-01-14T00:00:00\",\"2013-01-15T00:00:00\",\"2013-01-16T00:00:00\",\"2013-01-17T00:00:00\",\"2013-01-18T00:00:00\",\"2013-01-19T00:00:00\",\"2013-01-20T00:00:00\",\"2013-01-21T00:00:00\",\"2013-01-22T00:00:00\",\"2013-01-23T00:00:00\",\"2013-01-24T00:00:00\",\"2013-01-25T00:00:00\",\"2013-01-26T00:00:00\",\"2013-01-27T00:00:00\",\"2013-01-28T00:00:00\",\"2013-01-29T00:00:00\",\"2013-01-30T00:00:00\",\"2013-01-31T00:00:00\",\"2013-02-01T00:00:00\",\"2013-02-02T00:00:00\",\"2013-02-03T00:00:00\",\"2013-02-04T00:00:00\",\"2013-02-05T00:00:00\",\"2013-02-06T00:00:00\",\"2013-02-07T00:00:00\",\"2013-02-08T00:00:00\",\"2013-02-09T00:00:00\",\"2013-02-10T00:00:00\",\"2013-02-11T00:00:00\",\"2013-02-12T00:00:00\",\"2013-02-13T00:00:00\",\"2013-02-14T00:00:00\",\"2013-02-15T00:00:00\",\"2013-02-16T00:00:00\",\"2013-02-17T00:00:00\",\"2013-02-18T00:00:00\",\"2013-02-19T00:00:00\",\"2013-02-20T00:00:00\",\"2013-02-21T00:00:00\",\"2013-02-22T00:00:00\",\"2013-02-23T00:00:00\",\"2013-02-24T00:00:00\",\"2013-02-25T00:00:00\",\"2013-02-26T00:00:00\",\"2013-02-27T00:00:00\",\"2013-02-28T00:00:00\",\"2013-03-01T00:00:00\",\"2013-03-02T00:00:00\",\"2013-03-03T00:00:00\",\"2013-03-04T00:00:00\",\"2013-03-05T00:00:00\",\"2013-03-06T00:00:00\",\"2013-03-07T00:00:00\",\"2013-03-08T00:00:00\",\"2013-03-09T00:00:00\",\"2013-03-10T00:00:00\",\"2013-03-11T00:00:00\",\"2013-03-12T00:00:00\",\"2013-03-13T00:00:00\",\"2013-03-14T00:00:00\",\"2013-03-15T00:00:00\",\"2013-03-16T00:00:00\",\"2013-03-17T00:00:00\",\"2013-03-18T00:00:00\",\"2013-03-19T00:00:00\",\"2013-03-20T00:00:00\",\"2013-03-21T00:00:00\",\"2013-03-22T00:00:00\",\"2013-03-23T00:00:00\",\"2013-03-24T00:00:00\",\"2013-03-25T00:00:00\",\"2013-03-26T00:00:00\",\"2013-03-27T00:00:00\",\"2013-03-28T00:00:00\",\"2013-03-29T00:00:00\",\"2013-03-30T00:00:00\",\"2013-03-31T00:00:00\",\"2013-04-01T00:00:00\",\"2013-04-02T00:00:00\",\"2013-04-03T00:00:00\",\"2013-04-04T00:00:00\",\"2013-04-05T00:00:00\",\"2013-04-06T00:00:00\",\"2013-04-07T00:00:00\",\"2013-04-08T00:00:00\",\"2013-04-09T00:00:00\",\"2013-04-10T00:00:00\",\"2013-04-11T00:00:00\",\"2013-04-12T00:00:00\",\"2013-04-13T00:00:00\",\"2013-04-14T00:00:00\",\"2013-04-15T00:00:00\",\"2013-04-16T00:00:00\",\"2013-04-17T00:00:00\",\"2013-04-18T00:00:00\",\"2013-04-19T00:00:00\",\"2013-04-20T00:00:00\",\"2013-04-21T00:00:00\",\"2013-04-22T00:00:00\",\"2013-04-23T00:00:00\",\"2013-04-24T00:00:00\",\"2013-04-25T00:00:00\",\"2013-04-26T00:00:00\",\"2013-04-27T00:00:00\",\"2013-04-28T00:00:00\",\"2013-04-29T00:00:00\",\"2013-04-30T00:00:00\",\"2013-05-01T00:00:00\",\"2013-05-02T00:00:00\",\"2013-05-03T00:00:00\",\"2013-05-04T00:00:00\",\"2013-05-05T00:00:00\",\"2013-05-06T00:00:00\",\"2013-05-07T00:00:00\",\"2013-05-08T00:00:00\",\"2013-05-09T00:00:00\",\"2013-05-10T00:00:00\",\"2013-05-11T00:00:00\",\"2013-05-12T00:00:00\",\"2013-05-13T00:00:00\",\"2013-05-14T00:00:00\",\"2013-05-15T00:00:00\",\"2013-05-16T00:00:00\",\"2013-05-17T00:00:00\",\"2013-05-18T00:00:00\",\"2013-05-19T00:00:00\",\"2013-05-20T00:00:00\",\"2013-05-21T00:00:00\",\"2013-05-22T00:00:00\",\"2013-05-23T00:00:00\",\"2013-05-24T00:00:00\",\"2013-05-25T00:00:00\",\"2013-05-26T00:00:00\",\"2013-05-27T00:00:00\",\"2013-05-28T00:00:00\",\"2013-05-29T00:00:00\",\"2013-05-30T00:00:00\",\"2013-05-31T00:00:00\",\"2013-06-01T00:00:00\",\"2013-06-02T00:00:00\",\"2013-06-03T00:00:00\",\"2013-06-04T00:00:00\",\"2013-06-05T00:00:00\",\"2013-06-06T00:00:00\",\"2013-06-07T00:00:00\",\"2013-06-08T00:00:00\",\"2013-06-09T00:00:00\",\"2013-06-10T00:00:00\",\"2013-06-11T00:00:00\",\"2013-06-12T00:00:00\",\"2013-06-13T00:00:00\",\"2013-06-14T00:00:00\",\"2013-06-15T00:00:00\",\"2013-06-16T00:00:00\",\"2013-06-17T00:00:00\",\"2013-06-18T00:00:00\",\"2013-06-19T00:00:00\",\"2013-06-20T00:00:00\",\"2013-06-21T00:00:00\",\"2013-06-22T00:00:00\",\"2013-06-23T00:00:00\",\"2013-06-24T00:00:00\",\"2013-06-25T00:00:00\",\"2013-06-26T00:00:00\",\"2013-06-27T00:00:00\",\"2013-06-28T00:00:00\",\"2013-06-29T00:00:00\",\"2013-06-30T00:00:00\",\"2013-07-01T00:00:00\",\"2013-07-02T00:00:00\",\"2013-07-03T00:00:00\",\"2013-07-04T00:00:00\",\"2013-07-05T00:00:00\",\"2013-07-06T00:00:00\",\"2013-07-07T00:00:00\",\"2013-07-08T00:00:00\",\"2013-07-09T00:00:00\",\"2013-07-10T00:00:00\",\"2013-07-11T00:00:00\",\"2013-07-12T00:00:00\",\"2013-07-13T00:00:00\",\"2013-07-14T00:00:00\",\"2013-07-15T00:00:00\",\"2013-07-16T00:00:00\",\"2013-07-17T00:00:00\",\"2013-07-18T00:00:00\",\"2013-07-19T00:00:00\",\"2013-07-20T00:00:00\",\"2013-07-21T00:00:00\",\"2013-07-22T00:00:00\",\"2013-07-23T00:00:00\",\"2013-07-24T00:00:00\",\"2013-07-25T00:00:00\",\"2013-07-26T00:00:00\",\"2013-07-27T00:00:00\",\"2013-07-28T00:00:00\",\"2013-07-29T00:00:00\",\"2013-07-30T00:00:00\",\"2013-07-31T00:00:00\",\"2013-08-01T00:00:00\",\"2013-08-02T00:00:00\",\"2013-08-03T00:00:00\",\"2013-08-04T00:00:00\",\"2013-08-05T00:00:00\",\"2013-08-06T00:00:00\",\"2013-08-07T00:00:00\",\"2013-08-08T00:00:00\",\"2013-08-09T00:00:00\",\"2013-08-10T00:00:00\",\"2013-08-11T00:00:00\",\"2013-08-12T00:00:00\",\"2013-08-13T00:00:00\",\"2013-08-14T00:00:00\",\"2013-08-15T00:00:00\",\"2013-08-16T00:00:00\",\"2013-08-17T00:00:00\",\"2013-08-18T00:00:00\",\"2013-08-19T00:00:00\",\"2013-08-20T00:00:00\",\"2013-08-21T00:00:00\",\"2013-08-22T00:00:00\",\"2013-08-23T00:00:00\",\"2013-08-24T00:00:00\",\"2013-08-25T00:00:00\",\"2013-08-26T00:00:00\",\"2013-08-27T00:00:00\",\"2013-08-28T00:00:00\",\"2013-08-29T00:00:00\",\"2013-08-30T00:00:00\",\"2013-08-31T00:00:00\",\"2013-09-01T00:00:00\",\"2013-09-02T00:00:00\",\"2013-09-03T00:00:00\",\"2013-09-04T00:00:00\",\"2013-09-05T00:00:00\",\"2013-09-06T00:00:00\",\"2013-09-07T00:00:00\",\"2013-09-08T00:00:00\",\"2013-09-09T00:00:00\",\"2013-09-10T00:00:00\",\"2013-09-11T00:00:00\",\"2013-09-12T00:00:00\",\"2013-09-13T00:00:00\",\"2013-09-14T00:00:00\",\"2013-09-15T00:00:00\",\"2013-09-16T00:00:00\",\"2013-09-17T00:00:00\",\"2013-09-18T00:00:00\",\"2013-09-19T00:00:00\",\"2013-09-20T00:00:00\",\"2013-09-21T00:00:00\",\"2013-09-22T00:00:00\",\"2013-09-23T00:00:00\",\"2013-09-24T00:00:00\",\"2013-09-25T00:00:00\",\"2013-09-26T00:00:00\",\"2013-09-27T00:00:00\",\"2013-09-28T00:00:00\",\"2013-09-29T00:00:00\",\"2013-09-30T00:00:00\",\"2013-10-01T00:00:00\",\"2013-10-02T00:00:00\",\"2013-10-03T00:00:00\",\"2013-10-04T00:00:00\",\"2013-10-05T00:00:00\",\"2013-10-06T00:00:00\",\"2013-10-07T00:00:00\",\"2013-10-08T00:00:00\",\"2013-10-09T00:00:00\",\"2013-10-10T00:00:00\",\"2013-10-11T00:00:00\",\"2013-10-12T00:00:00\",\"2013-10-13T00:00:00\",\"2013-10-14T00:00:00\",\"2013-10-15T00:00:00\",\"2013-10-16T00:00:00\",\"2013-10-17T00:00:00\",\"2013-10-18T00:00:00\",\"2013-10-19T00:00:00\",\"2013-10-20T00:00:00\",\"2013-10-21T00:00:00\",\"2013-10-22T00:00:00\",\"2013-10-23T00:00:00\",\"2013-10-24T00:00:00\",\"2013-10-25T00:00:00\",\"2013-10-26T00:00:00\",\"2013-10-27T00:00:00\",\"2013-10-28T00:00:00\",\"2013-10-29T00:00:00\",\"2013-10-30T00:00:00\",\"2013-10-31T00:00:00\",\"2013-11-01T00:00:00\",\"2013-11-02T00:00:00\",\"2013-11-03T00:00:00\",\"2013-11-04T00:00:00\",\"2013-11-05T00:00:00\",\"2013-11-06T00:00:00\",\"2013-11-07T00:00:00\",\"2013-11-08T00:00:00\",\"2013-11-09T00:00:00\",\"2013-11-10T00:00:00\",\"2013-11-11T00:00:00\",\"2013-11-12T00:00:00\",\"2013-11-13T00:00:00\",\"2013-11-14T00:00:00\",\"2013-11-15T00:00:00\",\"2013-11-16T00:00:00\",\"2013-11-17T00:00:00\",\"2013-11-18T00:00:00\",\"2013-11-19T00:00:00\",\"2013-11-20T00:00:00\",\"2013-11-21T00:00:00\",\"2013-11-22T00:00:00\",\"2013-11-23T00:00:00\",\"2013-11-24T00:00:00\",\"2013-11-25T00:00:00\",\"2013-11-26T00:00:00\",\"2013-11-27T00:00:00\",\"2013-11-28T00:00:00\",\"2013-11-29T00:00:00\",\"2013-11-30T00:00:00\",\"2013-12-01T00:00:00\",\"2013-12-02T00:00:00\",\"2013-12-03T00:00:00\",\"2013-12-04T00:00:00\",\"2013-12-05T00:00:00\",\"2013-12-06T00:00:00\",\"2013-12-07T00:00:00\",\"2013-12-08T00:00:00\",\"2013-12-09T00:00:00\",\"2013-12-10T00:00:00\",\"2013-12-11T00:00:00\",\"2013-12-12T00:00:00\",\"2013-12-13T00:00:00\",\"2013-12-14T00:00:00\",\"2013-12-15T00:00:00\",\"2013-12-16T00:00:00\",\"2013-12-17T00:00:00\",\"2013-12-18T00:00:00\",\"2013-12-19T00:00:00\",\"2013-12-20T00:00:00\",\"2013-12-21T00:00:00\",\"2013-12-22T00:00:00\",\"2013-12-23T00:00:00\",\"2013-12-24T00:00:00\",\"2013-12-25T00:00:00\",\"2013-12-26T00:00:00\",\"2013-12-27T00:00:00\",\"2013-12-28T00:00:00\",\"2013-12-29T00:00:00\",\"2013-12-30T00:00:00\",\"2013-12-31T00:00:00\"],\"y\":[10.0,7.4,7.166666666666667,8.666666666666666,6.0,7.0,7.0,8.857142857142858,14.0,11.0,15.714285714285714,14.0,15.833333333333334,12.833333333333334,14.714285714285714,13.833333333333334,16.5,13.833333333333334,12.5,11.285714285714286,11.2,9.5,14.0,13.833333333333334,12.25,12.666666666666666,12.857142857142858,14.833333333333334,14.125,14.714285714285714,16.2,16.0,16.285714285714285,18.0,17.428571428571427,16.625,16.666666666666668,15.6,14.0,15.428571428571429,15.25,15.875,15.333333333333334,16.285714285714285,17.333333333333332,19.166666666666668,14.428571428571429,13.666666666666666,15.6,15.857142857142858,17.714285714285715,20.0,20.5,17.428571428571427,16.857142857142858,16.875,17.857142857142858,20.8,19.428571428571427,17.333333333333332,19.0,19.33333333333333,17.6,20.875,20.857142857142858,23.428571428571427,24.166666666666668,25.428571428571427,23.142857142857142,24.0,23.5,21.5,22.33333333333333,24.166666666666668,20.33333333333333,22.666666666666668,23.428571428571427,22.5,29.166666666666668,23.83333333333333,25.25,27.375,27.0,23.5,24.142857142857142,21.0,22.428571428571427,21.25,23.5,23.2,25.375,25.166666666666668,26.2,24.6,25.6,25.857142857142858,29.142857142857142,28.714285714285715,30.166666666666668,30.0,30.0,28.857142857142858,30.2,28.25,28.25,32.125,29.2,30.285714285714285,28.285714285714285,30.625,27.666666666666668,27.375,28.625,30.285714285714285,31.142857142857142,29.875,31.142857142857142,30.571428571428573,32.125,31.142857142857142,31.857142857142858,29.83333333333333,28.571428571428573,32.857142857142854,32.625,32.75,32.875,34.5,34.285714285714285,34.0,30.75,29.857142857142858,31.714285714285715,32.285714285714285,33.0,33.0,32.833333333333336,31.4,35.333333333333336,36.4,36.0,36.75,37.5,38.42857142857143,38.71428571428572,37.8,35.857142857142854,35.333333333333336,34.142857142857146,32.2,33.625,32.0,32.4,35.6,35.857142857142854,37.16666666666666,31.285714285714285,34.0,34.2,36.16666666666666,36.625,30.166666666666668,34.142857142857146,29.83333333333333,30.142857142857142,30.714285714285715,27.0,26.875,28.4,29.857142857142858,33.0,34.833333333333336,35.6,35.166666666666664,33.142857142857146,30.571428571428573,30.666666666666668,31.428571428571427,31.5,33.25,32.833333333333336,33.857142857142854,33.142857142857146,31.571428571428573,32.375,32.8,31.0,31.166666666666668,29.83333333333333,29.0,29.75,32.5,28.875,31.75,30.75,31.75,29.875,31.125,31.75,30.5,26.83333333333333,28.2,29.5,31.857142857142858,29.714285714285715,28.33333333333333,30.0,30.142857142857142,32.285714285714285,31.0,30.5,28.83333333333333,30.0,31.571428571428573,32.5,32.5,29.5,27.166666666666668,28.375,28.5,27.166666666666668,29.428571428571427,30.0,29.5,30.75,29.666666666666668,27.714285714285715,26.6,27.428571428571427,28.33333333333333,28.166666666666668,27.375,28.33333333333333,29.166666666666668,31.285714285714285,32.0,29.0,32.0,32.142857142857146,30.142857142857142,31.5,29.166666666666668,29.0,30.0,31.857142857142858,32.75,31.714285714285715,31.666666666666668,30.571428571428573,30.83333333333333,28.0,31.0,29.666666666666668,30.857142857142858,31.166666666666668,31.142857142857142,30.5,31.625,29.666666666666668,29.25,29.142857142857142,29.8,28.666666666666668,25.2,28.33333333333333,30.285714285714285,30.75,28.571428571428573,28.2,29.0,30.0,28.142857142857142,26.857142857142858,28.285714285714285,29.2,28.6,24.83333333333333,28.5,29.75,29.714285714285715,29.2,30.83333333333333,29.428571428571427,23.857142857142858,26.142857142857142,27.166666666666668,27.714285714285715,25.857142857142858,26.428571428571427,26.857142857142858,26.33333333333333,24.571428571428573,24.33333333333333,24.875,27.8,25.0,23.857142857142858,22.8,23.0,22.875,22.666666666666668,23.0,22.857142857142858,23.666666666666668,23.428571428571427,21.625,20.625,21.166666666666668,18.83333333333333,20.571428571428573,20.142857142857142,18.0,19.857142857142858,16.833333333333332,18.857142857142858,16.571428571428573,17.75,17.625,17.0,16.625,15.571428571428571,18.5,17.875,18.25,17.875,17.625,18.142857142857142,19.125,21.25,21.25,19.125,18.625,17.75,17.875,18.0,17.25,17.5,17.142857142857142,17.142857142857142,16.125,16.0,16.5,16.125,15.5,16.625,17.75,17.142857142857142,16.142857142857142,15.5,15.25,14.75,14.875,16.125,15.375,14.75,15.25,14.25,13.5,13.666666666666666,12.125,11.875,10.875,10.571428571428571,12.375,14.5],\"type\":\"scatter\"}],                        {\"template\":{\"data\":{\"barpolar\":[{\"marker\":{\"line\":{\"color\":\"white\",\"width\":0.5},\"pattern\":{\"fillmode\":\"overlay\",\"size\":10,\"solidity\":0.2}},\"type\":\"barpolar\"}],\"bar\":[{\"error_x\":{\"color\":\"#2a3f5f\"},\"error_y\":{\"color\":\"#2a3f5f\"},\"marker\":{\"line\":{\"color\":\"white\",\"width\":0.5},\"pattern\":{\"fillmode\":\"overlay\",\"size\":10,\"solidity\":0.2}},\"type\":\"bar\"}],\"carpet\":[{\"aaxis\":{\"endlinecolor\":\"#2a3f5f\",\"gridcolor\":\"#C8D4E3\",\"linecolor\":\"#C8D4E3\",\"minorgridcolor\":\"#C8D4E3\",\"startlinecolor\":\"#2a3f5f\"},\"baxis\":{\"endlinecolor\":\"#2a3f5f\",\"gridcolor\":\"#C8D4E3\",\"linecolor\":\"#C8D4E3\",\"minorgridcolor\":\"#C8D4E3\",\"startlinecolor\":\"#2a3f5f\"},\"type\":\"carpet\"}],\"choropleth\":[{\"colorbar\":{\"outlinewidth\":0,\"ticks\":\"\"},\"type\":\"choropleth\"}],\"contourcarpet\":[{\"colorbar\":{\"outlinewidth\":0,\"ticks\":\"\"},\"type\":\"contourcarpet\"}],\"contour\":[{\"colorbar\":{\"outlinewidth\":0,\"ticks\":\"\"},\"colorscale\":[[0.0,\"#0d0887\"],[0.1111111111111111,\"#46039f\"],[0.2222222222222222,\"#7201a8\"],[0.3333333333333333,\"#9c179e\"],[0.4444444444444444,\"#bd3786\"],[0.5555555555555556,\"#d8576b\"],[0.6666666666666666,\"#ed7953\"],[0.7777777777777778,\"#fb9f3a\"],[0.8888888888888888,\"#fdca26\"],[1.0,\"#f0f921\"]],\"type\":\"contour\"}],\"heatmapgl\":[{\"colorbar\":{\"outlinewidth\":0,\"ticks\":\"\"},\"colorscale\":[[0.0,\"#0d0887\"],[0.1111111111111111,\"#46039f\"],[0.2222222222222222,\"#7201a8\"],[0.3333333333333333,\"#9c179e\"],[0.4444444444444444,\"#bd3786\"],[0.5555555555555556,\"#d8576b\"],[0.6666666666666666,\"#ed7953\"],[0.7777777777777778,\"#fb9f3a\"],[0.8888888888888888,\"#fdca26\"],[1.0,\"#f0f921\"]],\"type\":\"heatmapgl\"}],\"heatmap\":[{\"colorbar\":{\"outlinewidth\":0,\"ticks\":\"\"},\"colorscale\":[[0.0,\"#0d0887\"],[0.1111111111111111,\"#46039f\"],[0.2222222222222222,\"#7201a8\"],[0.3333333333333333,\"#9c179e\"],[0.4444444444444444,\"#bd3786\"],[0.5555555555555556,\"#d8576b\"],[0.6666666666666666,\"#ed7953\"],[0.7777777777777778,\"#fb9f3a\"],[0.8888888888888888,\"#fdca26\"],[1.0,\"#f0f921\"]],\"type\":\"heatmap\"}],\"histogram2dcontour\":[{\"colorbar\":{\"outlinewidth\":0,\"ticks\":\"\"},\"colorscale\":[[0.0,\"#0d0887\"],[0.1111111111111111,\"#46039f\"],[0.2222222222222222,\"#7201a8\"],[0.3333333333333333,\"#9c179e\"],[0.4444444444444444,\"#bd3786\"],[0.5555555555555556,\"#d8576b\"],[0.6666666666666666,\"#ed7953\"],[0.7777777777777778,\"#fb9f3a\"],[0.8888888888888888,\"#fdca26\"],[1.0,\"#f0f921\"]],\"type\":\"histogram2dcontour\"}],\"histogram2d\":[{\"colorbar\":{\"outlinewidth\":0,\"ticks\":\"\"},\"colorscale\":[[0.0,\"#0d0887\"],[0.1111111111111111,\"#46039f\"],[0.2222222222222222,\"#7201a8\"],[0.3333333333333333,\"#9c179e\"],[0.4444444444444444,\"#bd3786\"],[0.5555555555555556,\"#d8576b\"],[0.6666666666666666,\"#ed7953\"],[0.7777777777777778,\"#fb9f3a\"],[0.8888888888888888,\"#fdca26\"],[1.0,\"#f0f921\"]],\"type\":\"histogram2d\"}],\"histogram\":[{\"marker\":{\"pattern\":{\"fillmode\":\"overlay\",\"size\":10,\"solidity\":0.2}},\"type\":\"histogram\"}],\"mesh3d\":[{\"colorbar\":{\"outlinewidth\":0,\"ticks\":\"\"},\"type\":\"mesh3d\"}],\"parcoords\":[{\"line\":{\"colorbar\":{\"outlinewidth\":0,\"ticks\":\"\"}},\"type\":\"parcoords\"}],\"pie\":[{\"automargin\":true,\"type\":\"pie\"}],\"scatter3d\":[{\"line\":{\"colorbar\":{\"outlinewidth\":0,\"ticks\":\"\"}},\"marker\":{\"colorbar\":{\"outlinewidth\":0,\"ticks\":\"\"}},\"type\":\"scatter3d\"}],\"scattercarpet\":[{\"marker\":{\"colorbar\":{\"outlinewidth\":0,\"ticks\":\"\"}},\"type\":\"scattercarpet\"}],\"scattergeo\":[{\"marker\":{\"colorbar\":{\"outlinewidth\":0,\"ticks\":\"\"}},\"type\":\"scattergeo\"}],\"scattergl\":[{\"marker\":{\"colorbar\":{\"outlinewidth\":0,\"ticks\":\"\"}},\"type\":\"scattergl\"}],\"scattermapbox\":[{\"marker\":{\"colorbar\":{\"outlinewidth\":0,\"ticks\":\"\"}},\"type\":\"scattermapbox\"}],\"scatterpolargl\":[{\"marker\":{\"colorbar\":{\"outlinewidth\":0,\"ticks\":\"\"}},\"type\":\"scatterpolargl\"}],\"scatterpolar\":[{\"marker\":{\"colorbar\":{\"outlinewidth\":0,\"ticks\":\"\"}},\"type\":\"scatterpolar\"}],\"scatter\":[{\"fillpattern\":{\"fillmode\":\"overlay\",\"size\":10,\"solidity\":0.2},\"type\":\"scatter\"}],\"scatterternary\":[{\"marker\":{\"colorbar\":{\"outlinewidth\":0,\"ticks\":\"\"}},\"type\":\"scatterternary\"}],\"surface\":[{\"colorbar\":{\"outlinewidth\":0,\"ticks\":\"\"},\"colorscale\":[[0.0,\"#0d0887\"],[0.1111111111111111,\"#46039f\"],[0.2222222222222222,\"#7201a8\"],[0.3333333333333333,\"#9c179e\"],[0.4444444444444444,\"#bd3786\"],[0.5555555555555556,\"#d8576b\"],[0.6666666666666666,\"#ed7953\"],[0.7777777777777778,\"#fb9f3a\"],[0.8888888888888888,\"#fdca26\"],[1.0,\"#f0f921\"]],\"type\":\"surface\"}],\"table\":[{\"cells\":{\"fill\":{\"color\":\"#EBF0F8\"},\"line\":{\"color\":\"white\"}},\"header\":{\"fill\":{\"color\":\"#C8D4E3\"},\"line\":{\"color\":\"white\"}},\"type\":\"table\"}]},\"layout\":{\"annotationdefaults\":{\"arrowcolor\":\"#2a3f5f\",\"arrowhead\":0,\"arrowwidth\":1},\"autotypenumbers\":\"strict\",\"coloraxis\":{\"colorbar\":{\"outlinewidth\":0,\"ticks\":\"\"}},\"colorscale\":{\"diverging\":[[0,\"#8e0152\"],[0.1,\"#c51b7d\"],[0.2,\"#de77ae\"],[0.3,\"#f1b6da\"],[0.4,\"#fde0ef\"],[0.5,\"#f7f7f7\"],[0.6,\"#e6f5d0\"],[0.7,\"#b8e186\"],[0.8,\"#7fbc41\"],[0.9,\"#4d9221\"],[1,\"#276419\"]],\"sequential\":[[0.0,\"#0d0887\"],[0.1111111111111111,\"#46039f\"],[0.2222222222222222,\"#7201a8\"],[0.3333333333333333,\"#9c179e\"],[0.4444444444444444,\"#bd3786\"],[0.5555555555555556,\"#d8576b\"],[0.6666666666666666,\"#ed7953\"],[0.7777777777777778,\"#fb9f3a\"],[0.8888888888888888,\"#fdca26\"],[1.0,\"#f0f921\"]],\"sequentialminus\":[[0.0,\"#0d0887\"],[0.1111111111111111,\"#46039f\"],[0.2222222222222222,\"#7201a8\"],[0.3333333333333333,\"#9c179e\"],[0.4444444444444444,\"#bd3786\"],[0.5555555555555556,\"#d8576b\"],[0.6666666666666666,\"#ed7953\"],[0.7777777777777778,\"#fb9f3a\"],[0.8888888888888888,\"#fdca26\"],[1.0,\"#f0f921\"]]},\"colorway\":[\"#636efa\",\"#EF553B\",\"#00cc96\",\"#ab63fa\",\"#FFA15A\",\"#19d3f3\",\"#FF6692\",\"#B6E880\",\"#FF97FF\",\"#FECB52\"],\"font\":{\"color\":\"#2a3f5f\"},\"geo\":{\"bgcolor\":\"white\",\"lakecolor\":\"white\",\"landcolor\":\"white\",\"showlakes\":true,\"showland\":true,\"subunitcolor\":\"#C8D4E3\"},\"hoverlabel\":{\"align\":\"left\"},\"hovermode\":\"closest\",\"mapbox\":{\"style\":\"light\"},\"paper_bgcolor\":\"white\",\"plot_bgcolor\":\"white\",\"polar\":{\"angularaxis\":{\"gridcolor\":\"#EBF0F8\",\"linecolor\":\"#EBF0F8\",\"ticks\":\"\"},\"bgcolor\":\"white\",\"radialaxis\":{\"gridcolor\":\"#EBF0F8\",\"linecolor\":\"#EBF0F8\",\"ticks\":\"\"}},\"scene\":{\"xaxis\":{\"backgroundcolor\":\"white\",\"gridcolor\":\"#DFE8F3\",\"gridwidth\":2,\"linecolor\":\"#EBF0F8\",\"showbackground\":true,\"ticks\":\"\",\"zerolinecolor\":\"#EBF0F8\"},\"yaxis\":{\"backgroundcolor\":\"white\",\"gridcolor\":\"#DFE8F3\",\"gridwidth\":2,\"linecolor\":\"#EBF0F8\",\"showbackground\":true,\"ticks\":\"\",\"zerolinecolor\":\"#EBF0F8\"},\"zaxis\":{\"backgroundcolor\":\"white\",\"gridcolor\":\"#DFE8F3\",\"gridwidth\":2,\"linecolor\":\"#EBF0F8\",\"showbackground\":true,\"ticks\":\"\",\"zerolinecolor\":\"#EBF0F8\"}},\"shapedefaults\":{\"line\":{\"color\":\"#2a3f5f\"}},\"ternary\":{\"aaxis\":{\"gridcolor\":\"#DFE8F3\",\"linecolor\":\"#A2B1C6\",\"ticks\":\"\"},\"baxis\":{\"gridcolor\":\"#DFE8F3\",\"linecolor\":\"#A2B1C6\",\"ticks\":\"\"},\"bgcolor\":\"white\",\"caxis\":{\"gridcolor\":\"#DFE8F3\",\"linecolor\":\"#A2B1C6\",\"ticks\":\"\"}},\"title\":{\"x\":0.05},\"xaxis\":{\"automargin\":true,\"gridcolor\":\"#EBF0F8\",\"linecolor\":\"#EBF0F8\",\"ticks\":\"\",\"title\":{\"standoff\":15},\"zerolinecolor\":\"#EBF0F8\",\"zerolinewidth\":2},\"yaxis\":{\"automargin\":true,\"gridcolor\":\"#EBF0F8\",\"linecolor\":\"#EBF0F8\",\"ticks\":\"\",\"title\":{\"standoff\":15},\"zerolinecolor\":\"#EBF0F8\",\"zerolinewidth\":2}}},\"title\":{\"text\":\"Mean Temperature (2013)\",\"x\":0.5},\"xaxis\":{\"title\":{\"text\":\"Date\"}},\"yaxis\":{\"title\":{\"text\":\"Value\"}},\"height\":380},                        {\"responsive\": true}                    ).then(function(){\n",
       "                            \n",
       "var gd = document.getElementById('deefed9e-33e5-42fd-b5b2-28b1c9235647');\n",
       "var x = new MutationObserver(function (mutations, observer) {{\n",
       "        var display = window.getComputedStyle(gd).display;\n",
       "        if (!display || display === 'none') {{\n",
       "            console.log([gd, 'removed!']);\n",
       "            Plotly.purge(gd);\n",
       "            observer.disconnect();\n",
       "        }}\n",
       "}});\n",
       "\n",
       "// Listen for the removal of the full notebook cells\n",
       "var notebookContainer = gd.closest('#notebook-container');\n",
       "if (notebookContainer) {{\n",
       "    x.observe(notebookContainer, {childList: true});\n",
       "}}\n",
       "\n",
       "// Listen for the clearing of the current output cell\n",
       "var outputEl = gd.closest('.output');\n",
       "if (outputEl) {{\n",
       "    x.observe(outputEl, {childList: true});\n",
       "}}\n",
       "\n",
       "                        })                };                });            </script>        </div>"
      ]
     },
     "metadata": {},
     "output_type": "display_data"
    },
    {
     "data": {
      "text/html": [
       "<div>                            <div id=\"00d99851-b531-4b33-8d2f-460bbacfaa94\" class=\"plotly-graph-div\" style=\"height:380px; width:100%;\"></div>            <script type=\"text/javascript\">                require([\"plotly\"], function(Plotly) {                    window.PLOTLYENV=window.PLOTLYENV || {};                                    if (document.getElementById(\"00d99851-b531-4b33-8d2f-460bbacfaa94\")) {                    Plotly.newPlot(                        \"00d99851-b531-4b33-8d2f-460bbacfaa94\",                        [{\"line\":{\"color\":\"blue\"},\"mode\":\"lines\",\"x\":[\"2016-01-01T00:00:00\",\"2016-01-02T00:00:00\",\"2016-01-03T00:00:00\",\"2016-01-04T00:00:00\",\"2016-01-05T00:00:00\",\"2016-01-06T00:00:00\",\"2016-01-07T00:00:00\",\"2016-01-08T00:00:00\",\"2016-01-09T00:00:00\",\"2016-01-10T00:00:00\",\"2016-01-11T00:00:00\",\"2016-01-12T00:00:00\",\"2016-01-13T00:00:00\",\"2016-01-14T00:00:00\",\"2016-01-15T00:00:00\",\"2016-01-16T00:00:00\",\"2016-01-17T00:00:00\",\"2016-01-18T00:00:00\",\"2016-01-19T00:00:00\",\"2016-01-20T00:00:00\",\"2016-01-21T00:00:00\",\"2016-01-22T00:00:00\",\"2016-01-23T00:00:00\",\"2016-01-24T00:00:00\",\"2016-01-25T00:00:00\",\"2016-01-26T00:00:00\",\"2016-01-27T00:00:00\",\"2016-01-28T00:00:00\",\"2016-01-29T00:00:00\",\"2016-01-30T00:00:00\",\"2016-01-31T00:00:00\",\"2016-02-01T00:00:00\",\"2016-02-02T00:00:00\",\"2016-02-03T00:00:00\",\"2016-02-04T00:00:00\",\"2016-02-05T00:00:00\",\"2016-02-06T00:00:00\",\"2016-02-07T00:00:00\",\"2016-02-08T00:00:00\",\"2016-02-09T00:00:00\",\"2016-02-10T00:00:00\",\"2016-02-11T00:00:00\",\"2016-02-12T00:00:00\",\"2016-02-13T00:00:00\",\"2016-02-14T00:00:00\",\"2016-02-15T00:00:00\",\"2016-02-16T00:00:00\",\"2016-02-17T00:00:00\",\"2016-02-18T00:00:00\",\"2016-02-19T00:00:00\",\"2016-02-20T00:00:00\",\"2016-02-21T00:00:00\",\"2016-02-22T00:00:00\",\"2016-02-23T00:00:00\",\"2016-02-24T00:00:00\",\"2016-02-25T00:00:00\",\"2016-02-26T00:00:00\",\"2016-02-27T00:00:00\",\"2016-02-28T00:00:00\",\"2016-02-29T00:00:00\",\"2016-03-01T00:00:00\",\"2016-03-02T00:00:00\",\"2016-03-03T00:00:00\",\"2016-03-04T00:00:00\",\"2016-03-05T00:00:00\",\"2016-03-06T00:00:00\",\"2016-03-07T00:00:00\",\"2016-03-08T00:00:00\",\"2016-03-09T00:00:00\",\"2016-03-10T00:00:00\",\"2016-03-11T00:00:00\",\"2016-03-12T00:00:00\",\"2016-03-13T00:00:00\",\"2016-03-14T00:00:00\",\"2016-03-15T00:00:00\",\"2016-03-16T00:00:00\",\"2016-03-17T00:00:00\",\"2016-03-18T00:00:00\",\"2016-03-19T00:00:00\",\"2016-03-20T00:00:00\",\"2016-03-21T00:00:00\",\"2016-03-22T00:00:00\",\"2016-03-23T00:00:00\",\"2016-03-24T00:00:00\",\"2016-03-25T00:00:00\",\"2016-03-26T00:00:00\",\"2016-03-27T00:00:00\",\"2016-03-28T00:00:00\",\"2016-03-29T00:00:00\",\"2016-03-30T00:00:00\",\"2016-03-31T00:00:00\",\"2016-04-01T00:00:00\",\"2016-04-02T00:00:00\",\"2016-04-03T00:00:00\",\"2016-04-04T00:00:00\",\"2016-04-05T00:00:00\",\"2016-04-06T00:00:00\",\"2016-04-07T00:00:00\",\"2016-04-08T00:00:00\",\"2016-04-09T00:00:00\",\"2016-04-10T00:00:00\",\"2016-04-11T00:00:00\",\"2016-04-12T00:00:00\",\"2016-04-13T00:00:00\",\"2016-04-14T00:00:00\",\"2016-04-15T00:00:00\",\"2016-04-16T00:00:00\",\"2016-04-17T00:00:00\",\"2016-04-18T00:00:00\",\"2016-04-19T00:00:00\",\"2016-04-20T00:00:00\",\"2016-04-21T00:00:00\",\"2016-04-22T00:00:00\",\"2016-04-23T00:00:00\",\"2016-04-24T00:00:00\",\"2016-04-25T00:00:00\",\"2016-04-26T00:00:00\",\"2016-04-27T00:00:00\",\"2016-04-28T00:00:00\",\"2016-04-29T00:00:00\",\"2016-04-30T00:00:00\",\"2016-05-01T00:00:00\",\"2016-05-02T00:00:00\",\"2016-05-03T00:00:00\",\"2016-05-04T00:00:00\",\"2016-05-05T00:00:00\",\"2016-05-06T00:00:00\",\"2016-05-07T00:00:00\",\"2016-05-08T00:00:00\",\"2016-05-09T00:00:00\",\"2016-05-10T00:00:00\",\"2016-05-11T00:00:00\",\"2016-05-12T00:00:00\",\"2016-05-13T00:00:00\",\"2016-05-14T00:00:00\",\"2016-05-15T00:00:00\",\"2016-05-16T00:00:00\",\"2016-05-17T00:00:00\",\"2016-05-18T00:00:00\",\"2016-05-19T00:00:00\",\"2016-05-20T00:00:00\",\"2016-05-21T00:00:00\",\"2016-05-22T00:00:00\",\"2016-05-23T00:00:00\",\"2016-05-24T00:00:00\",\"2016-05-25T00:00:00\",\"2016-05-26T00:00:00\",\"2016-05-27T00:00:00\",\"2016-05-28T00:00:00\",\"2016-05-29T00:00:00\",\"2016-05-30T00:00:00\",\"2016-05-31T00:00:00\",\"2016-06-01T00:00:00\",\"2016-06-02T00:00:00\",\"2016-06-03T00:00:00\",\"2016-06-04T00:00:00\",\"2016-06-05T00:00:00\",\"2016-06-06T00:00:00\",\"2016-06-07T00:00:00\",\"2016-06-08T00:00:00\",\"2016-06-09T00:00:00\",\"2016-06-10T00:00:00\",\"2016-06-11T00:00:00\",\"2016-06-12T00:00:00\",\"2016-06-13T00:00:00\",\"2016-06-14T00:00:00\",\"2016-06-15T00:00:00\",\"2016-06-16T00:00:00\",\"2016-06-17T00:00:00\",\"2016-06-18T00:00:00\",\"2016-06-19T00:00:00\",\"2016-06-20T00:00:00\",\"2016-06-21T00:00:00\",\"2016-06-22T00:00:00\",\"2016-06-23T00:00:00\",\"2016-06-24T00:00:00\",\"2016-06-25T00:00:00\",\"2016-06-26T00:00:00\",\"2016-06-27T00:00:00\",\"2016-06-28T00:00:00\",\"2016-06-29T00:00:00\",\"2016-06-30T00:00:00\",\"2016-07-01T00:00:00\",\"2016-07-02T00:00:00\",\"2016-07-03T00:00:00\",\"2016-07-04T00:00:00\",\"2016-07-05T00:00:00\",\"2016-07-06T00:00:00\",\"2016-07-07T00:00:00\",\"2016-07-08T00:00:00\",\"2016-07-09T00:00:00\",\"2016-07-10T00:00:00\",\"2016-07-11T00:00:00\",\"2016-07-12T00:00:00\",\"2016-07-13T00:00:00\",\"2016-07-14T00:00:00\",\"2016-07-15T00:00:00\",\"2016-07-16T00:00:00\",\"2016-07-17T00:00:00\",\"2016-07-18T00:00:00\",\"2016-07-19T00:00:00\",\"2016-07-20T00:00:00\",\"2016-07-21T00:00:00\",\"2016-07-22T00:00:00\",\"2016-07-23T00:00:00\",\"2016-07-24T00:00:00\",\"2016-07-25T00:00:00\",\"2016-07-26T00:00:00\",\"2016-07-27T00:00:00\",\"2016-07-28T00:00:00\",\"2016-07-29T00:00:00\",\"2016-07-30T00:00:00\",\"2016-07-31T00:00:00\",\"2016-08-01T00:00:00\",\"2016-08-02T00:00:00\",\"2016-08-03T00:00:00\",\"2016-08-04T00:00:00\",\"2016-08-05T00:00:00\",\"2016-08-06T00:00:00\",\"2016-08-07T00:00:00\",\"2016-08-08T00:00:00\",\"2016-08-09T00:00:00\",\"2016-08-10T00:00:00\",\"2016-08-11T00:00:00\",\"2016-08-12T00:00:00\",\"2016-08-13T00:00:00\",\"2016-08-14T00:00:00\",\"2016-08-15T00:00:00\",\"2016-08-16T00:00:00\",\"2016-08-17T00:00:00\",\"2016-08-18T00:00:00\",\"2016-08-19T00:00:00\",\"2016-08-20T00:00:00\",\"2016-08-21T00:00:00\",\"2016-08-22T00:00:00\",\"2016-08-23T00:00:00\",\"2016-08-24T00:00:00\",\"2016-08-25T00:00:00\",\"2016-08-26T00:00:00\",\"2016-08-27T00:00:00\",\"2016-08-28T00:00:00\",\"2016-08-29T00:00:00\",\"2016-08-30T00:00:00\",\"2016-08-31T00:00:00\",\"2016-09-01T00:00:00\",\"2016-09-02T00:00:00\",\"2016-09-03T00:00:00\",\"2016-09-04T00:00:00\",\"2016-09-05T00:00:00\",\"2016-09-06T00:00:00\",\"2016-09-07T00:00:00\",\"2016-09-08T00:00:00\",\"2016-09-09T00:00:00\",\"2016-09-10T00:00:00\",\"2016-09-11T00:00:00\",\"2016-09-12T00:00:00\",\"2016-09-13T00:00:00\",\"2016-09-14T00:00:00\",\"2016-09-15T00:00:00\",\"2016-09-16T00:00:00\",\"2016-09-17T00:00:00\",\"2016-09-18T00:00:00\",\"2016-09-19T00:00:00\",\"2016-09-20T00:00:00\",\"2016-09-21T00:00:00\",\"2016-09-22T00:00:00\",\"2016-09-23T00:00:00\",\"2016-09-24T00:00:00\",\"2016-09-25T00:00:00\",\"2016-09-26T00:00:00\",\"2016-09-27T00:00:00\",\"2016-09-28T00:00:00\",\"2016-09-29T00:00:00\",\"2016-09-30T00:00:00\",\"2016-10-01T00:00:00\",\"2016-10-02T00:00:00\",\"2016-10-03T00:00:00\",\"2016-10-04T00:00:00\",\"2016-10-05T00:00:00\",\"2016-10-06T00:00:00\",\"2016-10-07T00:00:00\",\"2016-10-08T00:00:00\",\"2016-10-09T00:00:00\",\"2016-10-10T00:00:00\",\"2016-10-11T00:00:00\",\"2016-10-12T00:00:00\",\"2016-10-13T00:00:00\",\"2016-10-14T00:00:00\",\"2016-10-15T00:00:00\",\"2016-10-16T00:00:00\",\"2016-10-17T00:00:00\",\"2016-10-18T00:00:00\",\"2016-10-19T00:00:00\",\"2016-10-20T00:00:00\",\"2016-10-21T00:00:00\",\"2016-10-22T00:00:00\",\"2016-10-23T00:00:00\",\"2016-10-24T00:00:00\",\"2016-10-25T00:00:00\",\"2016-10-26T00:00:00\",\"2016-10-27T00:00:00\",\"2016-10-28T00:00:00\",\"2016-10-29T00:00:00\",\"2016-10-30T00:00:00\",\"2016-10-31T00:00:00\",\"2016-11-01T00:00:00\",\"2016-11-02T00:00:00\",\"2016-11-03T00:00:00\",\"2016-11-04T00:00:00\",\"2016-11-05T00:00:00\",\"2016-11-06T00:00:00\",\"2016-11-07T00:00:00\",\"2016-11-08T00:00:00\",\"2016-11-09T00:00:00\",\"2016-11-10T00:00:00\",\"2016-11-11T00:00:00\",\"2016-11-12T00:00:00\",\"2016-11-13T00:00:00\",\"2016-11-14T00:00:00\",\"2016-11-15T00:00:00\",\"2016-11-16T00:00:00\",\"2016-11-17T00:00:00\",\"2016-11-18T00:00:00\",\"2016-11-19T00:00:00\",\"2016-11-20T00:00:00\",\"2016-11-21T00:00:00\",\"2016-11-22T00:00:00\",\"2016-11-23T00:00:00\",\"2016-11-24T00:00:00\",\"2016-11-25T00:00:00\",\"2016-11-26T00:00:00\",\"2016-11-27T00:00:00\",\"2016-11-28T00:00:00\",\"2016-11-29T00:00:00\",\"2016-11-30T00:00:00\",\"2016-12-01T00:00:00\",\"2016-12-02T00:00:00\",\"2016-12-03T00:00:00\",\"2016-12-04T00:00:00\",\"2016-12-05T00:00:00\",\"2016-12-06T00:00:00\",\"2016-12-07T00:00:00\",\"2016-12-08T00:00:00\",\"2016-12-09T00:00:00\",\"2016-12-10T00:00:00\",\"2016-12-11T00:00:00\",\"2016-12-12T00:00:00\",\"2016-12-13T00:00:00\",\"2016-12-14T00:00:00\",\"2016-12-15T00:00:00\",\"2016-12-16T00:00:00\",\"2016-12-17T00:00:00\",\"2016-12-18T00:00:00\",\"2016-12-19T00:00:00\",\"2016-12-20T00:00:00\",\"2016-12-21T00:00:00\",\"2016-12-22T00:00:00\",\"2016-12-23T00:00:00\",\"2016-12-24T00:00:00\",\"2016-12-25T00:00:00\",\"2016-12-26T00:00:00\",\"2016-12-27T00:00:00\",\"2016-12-28T00:00:00\",\"2016-12-29T00:00:00\",\"2016-12-30T00:00:00\",\"2016-12-31T00:00:00\"],\"y\":[14.714285714285714,14.0,14.375,15.75,15.833333333333334,17.375,17.125,15.5,15.857142857142858,15.625,15.75,18.0,18.266666666666666,15.5625,13.0,13.6,14.0,13.266666666666667,12.357142857142858,12.066666666666666,12.1875,11.733333333333333,14.4375,11.1875,11.666666666666666,14.5625,17.583333333333332,16.857142857142858,19.5625,20.142857142857142,17.375,15.846153846153848,15.266666666666667,13.125,16.363636363636363,12.666666666666666,15.333333333333334,15.625,17.09090909090909,17.76923076923077,18.133333333333333,19.6875,19.2,17.066666666666666,17.642857142857142,17.6,18.214285714285715,18.714285714285715,19.466666666666665,23.153846153846157,23.625,21.0,21.0,21.428571428571427,21.6875,22.5625,22.8,22.8,23.0,23.875,24.916666666666668,24.933333333333334,26.0,27.3125,23.933333333333334,22.8125,23.714285714285715,23.428571428571427,24.0,25.5625,25.066666666666663,24.5625,24.25,22.375,24.066666666666663,23.9375,26.3125,26.1875,26.785714285714285,27.133333333333333,26.625,25.0625,26.2,28.133333333333333,29.875,24.666666666666668,26.25,25.933333333333334,27.125,29.571428571428573,30.0,30.571428571428573,32.3125,33.3125,32.8125,32.3125,31.375,29.933333333333334,29.266666666666666,30.73333333333333,32.25,29.8,30.2,31.75,33.125,33.625,35.6875,34.666666666666664,34.625,34.0,34.0625,34.0,33.25,31.916666666666668,31.3125,31.75,33.4375,33.125,34.15384615384615,34.07142857142857,33.0625,34.6875,38.0,35.5,33.714285714285715,30.6,31.4375,33.3125,35.13333333333333,33.53333333333333,34.0,32.5,35.375,37.294117647058826,36.5625,37.25,37.21428571428572,37.5,37.75,37.375,37.4,36.13333333333333,36.8,32.214285714285715,31.526315789473685,33.21739130434783,35.26923076923077,38.27272727272727,36.0625,31.5,26.8125,32.642857142857146,36.0,37.5625,37.5625,38.2,36.16666666666666,35.42857142857143,34.625,36.07142857142857,35.733333333333334,36.13333333333333,33.4375,35.5,36.0,32.625,34.733333333333334,33.5,34.1875,35.857142857142854,35.625,30.9375,32.875,33.125,33.84615384615385,36.4375,35.42857142857143,34.86666666666667,34.3125,30.785714285714285,35.375,35.46666666666667,32.125,28.4,29.5625,30.6875,33.25,33.266666666666666,33.5,30.8,33.25,32.5625,31.5,30.5,31.25,30.4375,31.0,27.125,28.125,27.666666666666668,32.3125,34.1875,34.13333333333333,34.125,31.875,31.4375,31.9375,30.3125,28.3125,29.53333333333333,27.375,27.33333333333333,29.266666666666666,29.125,30.6875,32.5625,33.111111111111114,33.8,30.066666666666663,33.11764705882353,33.80952380952381,31.615384615384617,32.0,28.107142857142858,29.035714285714285,30.321428571428573,28.933333333333334,31.678571428571427,31.33333333333333,29.928571428571427,29.88888888888889,32.07142857142857,33.18518518518518,31.59259259259259,32.18518518518518,31.48,30.178571428571427,31.52,31.22222222222222,31.785714285714285,33.4,29.571428571428573,30.04,27.25925925925926,27.96,30.73913043478261,30.894736842105264,31.692307692307693,31.07692307692308,30.375,31.1,31.916666666666668,30.55555555555556,31.23076923076923,31.0,31.642857142857142,32.53333333333333,30.857142857142858,31.727272727272727,31.4,32.30769230769231,32.25,32.375,33.44444444444444,33.36,30.03703703703704,31.0,31.24,31.130434782608692,31.48,32.18518518518518,32.44,32.22727272727273,32.214285714285715,32.541666666666664,32.81481481481482,33.26923076923077,30.55555555555556,28.83333333333333,30.703703703703702,30.96,30.6,30.92,29.77777777777778,29.666666666666668,29.571428571428573,29.96296296296296,29.75,27.74074074074074,28.428571428571427,28.6,28.5,28.925925925925927,29.07692307692308,28.40909090909091,29.33333333333333,27.5,28.5,28.04,27.57692307692308,26.55555555555556,25.51851851851852,25.814814814814813,24.82608695652174,24.53846153846154,24.384615384615383,23.727272727272727,25.64,24.814814814814813,23.115384615384617,22.925925925925927,24.545454545454547,23.73076923076923,23.0,23.51851851851852,23.92,23.53846153846154,24.296296296296298,23.346153846153847,22.24,21.76923076923077,21.73076923076923,21.73076923076923,20.666666666666668,22.25,21.53846153846154,22.57894736842105,22.82608695652174,21.42105263157895,23.6,24.294117647058822,23.63636363636364,22.454545454545453,21.61111111111111,19.869565217391305,19.75,19.20833333333333,21.20833333333333,18.9,18.63636363636364,18.53846153846154,18.25,16.9,19.416666666666668,16.444444444444443,20.041666666666668,19.90909090909091,19.05,18.55555555555556,18.166666666666668,15.833333333333334,17.5,16.083333333333332,17.857142857142858,19.8,18.05,17.285714285714285,15.55,17.318181818181817,14.0,17.142857142857142,16.85,17.217391304347824,15.238095238095235,14.095238095238097,15.052631578947368],\"type\":\"scatter\"}],                        {\"template\":{\"data\":{\"barpolar\":[{\"marker\":{\"line\":{\"color\":\"white\",\"width\":0.5},\"pattern\":{\"fillmode\":\"overlay\",\"size\":10,\"solidity\":0.2}},\"type\":\"barpolar\"}],\"bar\":[{\"error_x\":{\"color\":\"#2a3f5f\"},\"error_y\":{\"color\":\"#2a3f5f\"},\"marker\":{\"line\":{\"color\":\"white\",\"width\":0.5},\"pattern\":{\"fillmode\":\"overlay\",\"size\":10,\"solidity\":0.2}},\"type\":\"bar\"}],\"carpet\":[{\"aaxis\":{\"endlinecolor\":\"#2a3f5f\",\"gridcolor\":\"#C8D4E3\",\"linecolor\":\"#C8D4E3\",\"minorgridcolor\":\"#C8D4E3\",\"startlinecolor\":\"#2a3f5f\"},\"baxis\":{\"endlinecolor\":\"#2a3f5f\",\"gridcolor\":\"#C8D4E3\",\"linecolor\":\"#C8D4E3\",\"minorgridcolor\":\"#C8D4E3\",\"startlinecolor\":\"#2a3f5f\"},\"type\":\"carpet\"}],\"choropleth\":[{\"colorbar\":{\"outlinewidth\":0,\"ticks\":\"\"},\"type\":\"choropleth\"}],\"contourcarpet\":[{\"colorbar\":{\"outlinewidth\":0,\"ticks\":\"\"},\"type\":\"contourcarpet\"}],\"contour\":[{\"colorbar\":{\"outlinewidth\":0,\"ticks\":\"\"},\"colorscale\":[[0.0,\"#0d0887\"],[0.1111111111111111,\"#46039f\"],[0.2222222222222222,\"#7201a8\"],[0.3333333333333333,\"#9c179e\"],[0.4444444444444444,\"#bd3786\"],[0.5555555555555556,\"#d8576b\"],[0.6666666666666666,\"#ed7953\"],[0.7777777777777778,\"#fb9f3a\"],[0.8888888888888888,\"#fdca26\"],[1.0,\"#f0f921\"]],\"type\":\"contour\"}],\"heatmapgl\":[{\"colorbar\":{\"outlinewidth\":0,\"ticks\":\"\"},\"colorscale\":[[0.0,\"#0d0887\"],[0.1111111111111111,\"#46039f\"],[0.2222222222222222,\"#7201a8\"],[0.3333333333333333,\"#9c179e\"],[0.4444444444444444,\"#bd3786\"],[0.5555555555555556,\"#d8576b\"],[0.6666666666666666,\"#ed7953\"],[0.7777777777777778,\"#fb9f3a\"],[0.8888888888888888,\"#fdca26\"],[1.0,\"#f0f921\"]],\"type\":\"heatmapgl\"}],\"heatmap\":[{\"colorbar\":{\"outlinewidth\":0,\"ticks\":\"\"},\"colorscale\":[[0.0,\"#0d0887\"],[0.1111111111111111,\"#46039f\"],[0.2222222222222222,\"#7201a8\"],[0.3333333333333333,\"#9c179e\"],[0.4444444444444444,\"#bd3786\"],[0.5555555555555556,\"#d8576b\"],[0.6666666666666666,\"#ed7953\"],[0.7777777777777778,\"#fb9f3a\"],[0.8888888888888888,\"#fdca26\"],[1.0,\"#f0f921\"]],\"type\":\"heatmap\"}],\"histogram2dcontour\":[{\"colorbar\":{\"outlinewidth\":0,\"ticks\":\"\"},\"colorscale\":[[0.0,\"#0d0887\"],[0.1111111111111111,\"#46039f\"],[0.2222222222222222,\"#7201a8\"],[0.3333333333333333,\"#9c179e\"],[0.4444444444444444,\"#bd3786\"],[0.5555555555555556,\"#d8576b\"],[0.6666666666666666,\"#ed7953\"],[0.7777777777777778,\"#fb9f3a\"],[0.8888888888888888,\"#fdca26\"],[1.0,\"#f0f921\"]],\"type\":\"histogram2dcontour\"}],\"histogram2d\":[{\"colorbar\":{\"outlinewidth\":0,\"ticks\":\"\"},\"colorscale\":[[0.0,\"#0d0887\"],[0.1111111111111111,\"#46039f\"],[0.2222222222222222,\"#7201a8\"],[0.3333333333333333,\"#9c179e\"],[0.4444444444444444,\"#bd3786\"],[0.5555555555555556,\"#d8576b\"],[0.6666666666666666,\"#ed7953\"],[0.7777777777777778,\"#fb9f3a\"],[0.8888888888888888,\"#fdca26\"],[1.0,\"#f0f921\"]],\"type\":\"histogram2d\"}],\"histogram\":[{\"marker\":{\"pattern\":{\"fillmode\":\"overlay\",\"size\":10,\"solidity\":0.2}},\"type\":\"histogram\"}],\"mesh3d\":[{\"colorbar\":{\"outlinewidth\":0,\"ticks\":\"\"},\"type\":\"mesh3d\"}],\"parcoords\":[{\"line\":{\"colorbar\":{\"outlinewidth\":0,\"ticks\":\"\"}},\"type\":\"parcoords\"}],\"pie\":[{\"automargin\":true,\"type\":\"pie\"}],\"scatter3d\":[{\"line\":{\"colorbar\":{\"outlinewidth\":0,\"ticks\":\"\"}},\"marker\":{\"colorbar\":{\"outlinewidth\":0,\"ticks\":\"\"}},\"type\":\"scatter3d\"}],\"scattercarpet\":[{\"marker\":{\"colorbar\":{\"outlinewidth\":0,\"ticks\":\"\"}},\"type\":\"scattercarpet\"}],\"scattergeo\":[{\"marker\":{\"colorbar\":{\"outlinewidth\":0,\"ticks\":\"\"}},\"type\":\"scattergeo\"}],\"scattergl\":[{\"marker\":{\"colorbar\":{\"outlinewidth\":0,\"ticks\":\"\"}},\"type\":\"scattergl\"}],\"scattermapbox\":[{\"marker\":{\"colorbar\":{\"outlinewidth\":0,\"ticks\":\"\"}},\"type\":\"scattermapbox\"}],\"scatterpolargl\":[{\"marker\":{\"colorbar\":{\"outlinewidth\":0,\"ticks\":\"\"}},\"type\":\"scatterpolargl\"}],\"scatterpolar\":[{\"marker\":{\"colorbar\":{\"outlinewidth\":0,\"ticks\":\"\"}},\"type\":\"scatterpolar\"}],\"scatter\":[{\"fillpattern\":{\"fillmode\":\"overlay\",\"size\":10,\"solidity\":0.2},\"type\":\"scatter\"}],\"scatterternary\":[{\"marker\":{\"colorbar\":{\"outlinewidth\":0,\"ticks\":\"\"}},\"type\":\"scatterternary\"}],\"surface\":[{\"colorbar\":{\"outlinewidth\":0,\"ticks\":\"\"},\"colorscale\":[[0.0,\"#0d0887\"],[0.1111111111111111,\"#46039f\"],[0.2222222222222222,\"#7201a8\"],[0.3333333333333333,\"#9c179e\"],[0.4444444444444444,\"#bd3786\"],[0.5555555555555556,\"#d8576b\"],[0.6666666666666666,\"#ed7953\"],[0.7777777777777778,\"#fb9f3a\"],[0.8888888888888888,\"#fdca26\"],[1.0,\"#f0f921\"]],\"type\":\"surface\"}],\"table\":[{\"cells\":{\"fill\":{\"color\":\"#EBF0F8\"},\"line\":{\"color\":\"white\"}},\"header\":{\"fill\":{\"color\":\"#C8D4E3\"},\"line\":{\"color\":\"white\"}},\"type\":\"table\"}]},\"layout\":{\"annotationdefaults\":{\"arrowcolor\":\"#2a3f5f\",\"arrowhead\":0,\"arrowwidth\":1},\"autotypenumbers\":\"strict\",\"coloraxis\":{\"colorbar\":{\"outlinewidth\":0,\"ticks\":\"\"}},\"colorscale\":{\"diverging\":[[0,\"#8e0152\"],[0.1,\"#c51b7d\"],[0.2,\"#de77ae\"],[0.3,\"#f1b6da\"],[0.4,\"#fde0ef\"],[0.5,\"#f7f7f7\"],[0.6,\"#e6f5d0\"],[0.7,\"#b8e186\"],[0.8,\"#7fbc41\"],[0.9,\"#4d9221\"],[1,\"#276419\"]],\"sequential\":[[0.0,\"#0d0887\"],[0.1111111111111111,\"#46039f\"],[0.2222222222222222,\"#7201a8\"],[0.3333333333333333,\"#9c179e\"],[0.4444444444444444,\"#bd3786\"],[0.5555555555555556,\"#d8576b\"],[0.6666666666666666,\"#ed7953\"],[0.7777777777777778,\"#fb9f3a\"],[0.8888888888888888,\"#fdca26\"],[1.0,\"#f0f921\"]],\"sequentialminus\":[[0.0,\"#0d0887\"],[0.1111111111111111,\"#46039f\"],[0.2222222222222222,\"#7201a8\"],[0.3333333333333333,\"#9c179e\"],[0.4444444444444444,\"#bd3786\"],[0.5555555555555556,\"#d8576b\"],[0.6666666666666666,\"#ed7953\"],[0.7777777777777778,\"#fb9f3a\"],[0.8888888888888888,\"#fdca26\"],[1.0,\"#f0f921\"]]},\"colorway\":[\"#636efa\",\"#EF553B\",\"#00cc96\",\"#ab63fa\",\"#FFA15A\",\"#19d3f3\",\"#FF6692\",\"#B6E880\",\"#FF97FF\",\"#FECB52\"],\"font\":{\"color\":\"#2a3f5f\"},\"geo\":{\"bgcolor\":\"white\",\"lakecolor\":\"white\",\"landcolor\":\"white\",\"showlakes\":true,\"showland\":true,\"subunitcolor\":\"#C8D4E3\"},\"hoverlabel\":{\"align\":\"left\"},\"hovermode\":\"closest\",\"mapbox\":{\"style\":\"light\"},\"paper_bgcolor\":\"white\",\"plot_bgcolor\":\"white\",\"polar\":{\"angularaxis\":{\"gridcolor\":\"#EBF0F8\",\"linecolor\":\"#EBF0F8\",\"ticks\":\"\"},\"bgcolor\":\"white\",\"radialaxis\":{\"gridcolor\":\"#EBF0F8\",\"linecolor\":\"#EBF0F8\",\"ticks\":\"\"}},\"scene\":{\"xaxis\":{\"backgroundcolor\":\"white\",\"gridcolor\":\"#DFE8F3\",\"gridwidth\":2,\"linecolor\":\"#EBF0F8\",\"showbackground\":true,\"ticks\":\"\",\"zerolinecolor\":\"#EBF0F8\"},\"yaxis\":{\"backgroundcolor\":\"white\",\"gridcolor\":\"#DFE8F3\",\"gridwidth\":2,\"linecolor\":\"#EBF0F8\",\"showbackground\":true,\"ticks\":\"\",\"zerolinecolor\":\"#EBF0F8\"},\"zaxis\":{\"backgroundcolor\":\"white\",\"gridcolor\":\"#DFE8F3\",\"gridwidth\":2,\"linecolor\":\"#EBF0F8\",\"showbackground\":true,\"ticks\":\"\",\"zerolinecolor\":\"#EBF0F8\"}},\"shapedefaults\":{\"line\":{\"color\":\"#2a3f5f\"}},\"ternary\":{\"aaxis\":{\"gridcolor\":\"#DFE8F3\",\"linecolor\":\"#A2B1C6\",\"ticks\":\"\"},\"baxis\":{\"gridcolor\":\"#DFE8F3\",\"linecolor\":\"#A2B1C6\",\"ticks\":\"\"},\"bgcolor\":\"white\",\"caxis\":{\"gridcolor\":\"#DFE8F3\",\"linecolor\":\"#A2B1C6\",\"ticks\":\"\"}},\"title\":{\"x\":0.05},\"xaxis\":{\"automargin\":true,\"gridcolor\":\"#EBF0F8\",\"linecolor\":\"#EBF0F8\",\"ticks\":\"\",\"title\":{\"standoff\":15},\"zerolinecolor\":\"#EBF0F8\",\"zerolinewidth\":2},\"yaxis\":{\"automargin\":true,\"gridcolor\":\"#EBF0F8\",\"linecolor\":\"#EBF0F8\",\"ticks\":\"\",\"title\":{\"standoff\":15},\"zerolinecolor\":\"#EBF0F8\",\"zerolinewidth\":2}}},\"title\":{\"text\":\"Mean Temperature (2016)\",\"x\":0.5},\"xaxis\":{\"title\":{\"text\":\"Date\"}},\"yaxis\":{\"title\":{\"text\":\"Value\"}},\"height\":380},                        {\"responsive\": true}                    ).then(function(){\n",
       "                            \n",
       "var gd = document.getElementById('00d99851-b531-4b33-8d2f-460bbacfaa94');\n",
       "var x = new MutationObserver(function (mutations, observer) {{\n",
       "        var display = window.getComputedStyle(gd).display;\n",
       "        if (!display || display === 'none') {{\n",
       "            console.log([gd, 'removed!']);\n",
       "            Plotly.purge(gd);\n",
       "            observer.disconnect();\n",
       "        }}\n",
       "}});\n",
       "\n",
       "// Listen for the removal of the full notebook cells\n",
       "var notebookContainer = gd.closest('#notebook-container');\n",
       "if (notebookContainer) {{\n",
       "    x.observe(notebookContainer, {childList: true});\n",
       "}}\n",
       "\n",
       "// Listen for the clearing of the current output cell\n",
       "var outputEl = gd.closest('.output');\n",
       "if (outputEl) {{\n",
       "    x.observe(outputEl, {childList: true});\n",
       "}}\n",
       "\n",
       "                        })                };                });            </script>        </div>"
      ]
     },
     "metadata": {},
     "output_type": "display_data"
    },
    {
     "data": {
      "text/html": [
       "<div>                            <div id=\"0ad2f73b-c5da-41d0-83ae-cd4fcfc3f07e\" class=\"plotly-graph-div\" style=\"height:380px; width:100%;\"></div>            <script type=\"text/javascript\">                require([\"plotly\"], function(Plotly) {                    window.PLOTLYENV=window.PLOTLYENV || {};                                    if (document.getElementById(\"0ad2f73b-c5da-41d0-83ae-cd4fcfc3f07e\")) {                    Plotly.newPlot(                        \"0ad2f73b-c5da-41d0-83ae-cd4fcfc3f07e\",                        [{\"line\":{\"color\":\"green\"},\"mode\":\"lines\",\"x\":[\"2013-01-01T00:00:00\",\"2013-01-02T00:00:00\",\"2013-01-03T00:00:00\",\"2013-01-04T00:00:00\",\"2013-01-05T00:00:00\",\"2013-01-06T00:00:00\",\"2013-01-07T00:00:00\",\"2013-01-08T00:00:00\",\"2013-01-09T00:00:00\",\"2013-01-10T00:00:00\",\"2013-01-11T00:00:00\",\"2013-01-12T00:00:00\",\"2013-01-13T00:00:00\",\"2013-01-14T00:00:00\",\"2013-01-15T00:00:00\",\"2013-01-16T00:00:00\",\"2013-01-17T00:00:00\",\"2013-01-18T00:00:00\",\"2013-01-19T00:00:00\",\"2013-01-20T00:00:00\",\"2013-01-21T00:00:00\",\"2013-01-22T00:00:00\",\"2013-01-23T00:00:00\",\"2013-01-24T00:00:00\",\"2013-01-25T00:00:00\",\"2013-01-26T00:00:00\",\"2013-01-27T00:00:00\",\"2013-01-28T00:00:00\",\"2013-01-29T00:00:00\",\"2013-01-30T00:00:00\",\"2013-01-31T00:00:00\",\"2013-02-01T00:00:00\",\"2013-02-02T00:00:00\",\"2013-02-03T00:00:00\",\"2013-02-04T00:00:00\",\"2013-02-05T00:00:00\",\"2013-02-06T00:00:00\",\"2013-02-07T00:00:00\",\"2013-02-08T00:00:00\",\"2013-02-09T00:00:00\",\"2013-02-10T00:00:00\",\"2013-02-11T00:00:00\",\"2013-02-12T00:00:00\",\"2013-02-13T00:00:00\",\"2013-02-14T00:00:00\",\"2013-02-15T00:00:00\",\"2013-02-16T00:00:00\",\"2013-02-17T00:00:00\",\"2013-02-18T00:00:00\",\"2013-02-19T00:00:00\",\"2013-02-20T00:00:00\",\"2013-02-21T00:00:00\",\"2013-02-22T00:00:00\",\"2013-02-23T00:00:00\",\"2013-02-24T00:00:00\",\"2013-02-25T00:00:00\",\"2013-02-26T00:00:00\",\"2013-02-27T00:00:00\",\"2013-02-28T00:00:00\",\"2013-03-01T00:00:00\",\"2013-03-02T00:00:00\",\"2013-03-03T00:00:00\",\"2013-03-04T00:00:00\",\"2013-03-05T00:00:00\",\"2013-03-06T00:00:00\",\"2013-03-07T00:00:00\",\"2013-03-08T00:00:00\",\"2013-03-09T00:00:00\",\"2013-03-10T00:00:00\",\"2013-03-11T00:00:00\",\"2013-03-12T00:00:00\",\"2013-03-13T00:00:00\",\"2013-03-14T00:00:00\",\"2013-03-15T00:00:00\",\"2013-03-16T00:00:00\",\"2013-03-17T00:00:00\",\"2013-03-18T00:00:00\",\"2013-03-19T00:00:00\",\"2013-03-20T00:00:00\",\"2013-03-21T00:00:00\",\"2013-03-22T00:00:00\",\"2013-03-23T00:00:00\",\"2013-03-24T00:00:00\",\"2013-03-25T00:00:00\",\"2013-03-26T00:00:00\",\"2013-03-27T00:00:00\",\"2013-03-28T00:00:00\",\"2013-03-29T00:00:00\",\"2013-03-30T00:00:00\",\"2013-03-31T00:00:00\",\"2013-04-01T00:00:00\",\"2013-04-02T00:00:00\",\"2013-04-03T00:00:00\",\"2013-04-04T00:00:00\",\"2013-04-05T00:00:00\",\"2013-04-06T00:00:00\",\"2013-04-07T00:00:00\",\"2013-04-08T00:00:00\",\"2013-04-09T00:00:00\",\"2013-04-10T00:00:00\",\"2013-04-11T00:00:00\",\"2013-04-12T00:00:00\",\"2013-04-13T00:00:00\",\"2013-04-14T00:00:00\",\"2013-04-15T00:00:00\",\"2013-04-16T00:00:00\",\"2013-04-17T00:00:00\",\"2013-04-18T00:00:00\",\"2013-04-19T00:00:00\",\"2013-04-20T00:00:00\",\"2013-04-21T00:00:00\",\"2013-04-22T00:00:00\",\"2013-04-23T00:00:00\",\"2013-04-24T00:00:00\",\"2013-04-25T00:00:00\",\"2013-04-26T00:00:00\",\"2013-04-27T00:00:00\",\"2013-04-28T00:00:00\",\"2013-04-29T00:00:00\",\"2013-04-30T00:00:00\",\"2013-05-01T00:00:00\",\"2013-05-02T00:00:00\",\"2013-05-03T00:00:00\",\"2013-05-04T00:00:00\",\"2013-05-05T00:00:00\",\"2013-05-06T00:00:00\",\"2013-05-07T00:00:00\",\"2013-05-08T00:00:00\",\"2013-05-09T00:00:00\",\"2013-05-10T00:00:00\",\"2013-05-11T00:00:00\",\"2013-05-12T00:00:00\",\"2013-05-13T00:00:00\",\"2013-05-14T00:00:00\",\"2013-05-15T00:00:00\",\"2013-05-16T00:00:00\",\"2013-05-17T00:00:00\",\"2013-05-18T00:00:00\",\"2013-05-19T00:00:00\",\"2013-05-20T00:00:00\",\"2013-05-21T00:00:00\",\"2013-05-22T00:00:00\",\"2013-05-23T00:00:00\",\"2013-05-24T00:00:00\",\"2013-05-25T00:00:00\",\"2013-05-26T00:00:00\",\"2013-05-27T00:00:00\",\"2013-05-28T00:00:00\",\"2013-05-29T00:00:00\",\"2013-05-30T00:00:00\",\"2013-05-31T00:00:00\",\"2013-06-01T00:00:00\",\"2013-06-02T00:00:00\",\"2013-06-03T00:00:00\",\"2013-06-04T00:00:00\",\"2013-06-05T00:00:00\",\"2013-06-06T00:00:00\",\"2013-06-07T00:00:00\",\"2013-06-08T00:00:00\",\"2013-06-09T00:00:00\",\"2013-06-10T00:00:00\",\"2013-06-11T00:00:00\",\"2013-06-12T00:00:00\",\"2013-06-13T00:00:00\",\"2013-06-14T00:00:00\",\"2013-06-15T00:00:00\",\"2013-06-16T00:00:00\",\"2013-06-17T00:00:00\",\"2013-06-18T00:00:00\",\"2013-06-19T00:00:00\",\"2013-06-20T00:00:00\",\"2013-06-21T00:00:00\",\"2013-06-22T00:00:00\",\"2013-06-23T00:00:00\",\"2013-06-24T00:00:00\",\"2013-06-25T00:00:00\",\"2013-06-26T00:00:00\",\"2013-06-27T00:00:00\",\"2013-06-28T00:00:00\",\"2013-06-29T00:00:00\",\"2013-06-30T00:00:00\",\"2013-07-01T00:00:00\",\"2013-07-02T00:00:00\",\"2013-07-03T00:00:00\",\"2013-07-04T00:00:00\",\"2013-07-05T00:00:00\",\"2013-07-06T00:00:00\",\"2013-07-07T00:00:00\",\"2013-07-08T00:00:00\",\"2013-07-09T00:00:00\",\"2013-07-10T00:00:00\",\"2013-07-11T00:00:00\",\"2013-07-12T00:00:00\",\"2013-07-13T00:00:00\",\"2013-07-14T00:00:00\",\"2013-07-15T00:00:00\",\"2013-07-16T00:00:00\",\"2013-07-17T00:00:00\",\"2013-07-18T00:00:00\",\"2013-07-19T00:00:00\",\"2013-07-20T00:00:00\",\"2013-07-21T00:00:00\",\"2013-07-22T00:00:00\",\"2013-07-23T00:00:00\",\"2013-07-24T00:00:00\",\"2013-07-25T00:00:00\",\"2013-07-26T00:00:00\",\"2013-07-27T00:00:00\",\"2013-07-28T00:00:00\",\"2013-07-29T00:00:00\",\"2013-07-30T00:00:00\",\"2013-07-31T00:00:00\",\"2013-08-01T00:00:00\",\"2013-08-02T00:00:00\",\"2013-08-03T00:00:00\",\"2013-08-04T00:00:00\",\"2013-08-05T00:00:00\",\"2013-08-06T00:00:00\",\"2013-08-07T00:00:00\",\"2013-08-08T00:00:00\",\"2013-08-09T00:00:00\",\"2013-08-10T00:00:00\",\"2013-08-11T00:00:00\",\"2013-08-12T00:00:00\",\"2013-08-13T00:00:00\",\"2013-08-14T00:00:00\",\"2013-08-15T00:00:00\",\"2013-08-16T00:00:00\",\"2013-08-17T00:00:00\",\"2013-08-18T00:00:00\",\"2013-08-19T00:00:00\",\"2013-08-20T00:00:00\",\"2013-08-21T00:00:00\",\"2013-08-22T00:00:00\",\"2013-08-23T00:00:00\",\"2013-08-24T00:00:00\",\"2013-08-25T00:00:00\",\"2013-08-26T00:00:00\",\"2013-08-27T00:00:00\",\"2013-08-28T00:00:00\",\"2013-08-29T00:00:00\",\"2013-08-30T00:00:00\",\"2013-08-31T00:00:00\",\"2013-09-01T00:00:00\",\"2013-09-02T00:00:00\",\"2013-09-03T00:00:00\",\"2013-09-04T00:00:00\",\"2013-09-05T00:00:00\",\"2013-09-06T00:00:00\",\"2013-09-07T00:00:00\",\"2013-09-08T00:00:00\",\"2013-09-09T00:00:00\",\"2013-09-10T00:00:00\",\"2013-09-11T00:00:00\",\"2013-09-12T00:00:00\",\"2013-09-13T00:00:00\",\"2013-09-14T00:00:00\",\"2013-09-15T00:00:00\",\"2013-09-16T00:00:00\",\"2013-09-17T00:00:00\",\"2013-09-18T00:00:00\",\"2013-09-19T00:00:00\",\"2013-09-20T00:00:00\",\"2013-09-21T00:00:00\",\"2013-09-22T00:00:00\",\"2013-09-23T00:00:00\",\"2013-09-24T00:00:00\",\"2013-09-25T00:00:00\",\"2013-09-26T00:00:00\",\"2013-09-27T00:00:00\",\"2013-09-28T00:00:00\",\"2013-09-29T00:00:00\",\"2013-09-30T00:00:00\",\"2013-10-01T00:00:00\",\"2013-10-02T00:00:00\",\"2013-10-03T00:00:00\",\"2013-10-04T00:00:00\",\"2013-10-05T00:00:00\",\"2013-10-06T00:00:00\",\"2013-10-07T00:00:00\",\"2013-10-08T00:00:00\",\"2013-10-09T00:00:00\",\"2013-10-10T00:00:00\",\"2013-10-11T00:00:00\",\"2013-10-12T00:00:00\",\"2013-10-13T00:00:00\",\"2013-10-14T00:00:00\",\"2013-10-15T00:00:00\",\"2013-10-16T00:00:00\",\"2013-10-17T00:00:00\",\"2013-10-18T00:00:00\",\"2013-10-19T00:00:00\",\"2013-10-20T00:00:00\",\"2013-10-21T00:00:00\",\"2013-10-22T00:00:00\",\"2013-10-23T00:00:00\",\"2013-10-24T00:00:00\",\"2013-10-25T00:00:00\",\"2013-10-26T00:00:00\",\"2013-10-27T00:00:00\",\"2013-10-28T00:00:00\",\"2013-10-29T00:00:00\",\"2013-10-30T00:00:00\",\"2013-10-31T00:00:00\",\"2013-11-01T00:00:00\",\"2013-11-02T00:00:00\",\"2013-11-03T00:00:00\",\"2013-11-04T00:00:00\",\"2013-11-05T00:00:00\",\"2013-11-06T00:00:00\",\"2013-11-07T00:00:00\",\"2013-11-08T00:00:00\",\"2013-11-09T00:00:00\",\"2013-11-10T00:00:00\",\"2013-11-11T00:00:00\",\"2013-11-12T00:00:00\",\"2013-11-13T00:00:00\",\"2013-11-14T00:00:00\",\"2013-11-15T00:00:00\",\"2013-11-16T00:00:00\",\"2013-11-17T00:00:00\",\"2013-11-18T00:00:00\",\"2013-11-19T00:00:00\",\"2013-11-20T00:00:00\",\"2013-11-21T00:00:00\",\"2013-11-22T00:00:00\",\"2013-11-23T00:00:00\",\"2013-11-24T00:00:00\",\"2013-11-25T00:00:00\",\"2013-11-26T00:00:00\",\"2013-11-27T00:00:00\",\"2013-11-28T00:00:00\",\"2013-11-29T00:00:00\",\"2013-11-30T00:00:00\",\"2013-12-01T00:00:00\",\"2013-12-02T00:00:00\",\"2013-12-03T00:00:00\",\"2013-12-04T00:00:00\",\"2013-12-05T00:00:00\",\"2013-12-06T00:00:00\",\"2013-12-07T00:00:00\",\"2013-12-08T00:00:00\",\"2013-12-09T00:00:00\",\"2013-12-10T00:00:00\",\"2013-12-11T00:00:00\",\"2013-12-12T00:00:00\",\"2013-12-13T00:00:00\",\"2013-12-14T00:00:00\",\"2013-12-15T00:00:00\",\"2013-12-16T00:00:00\",\"2013-12-17T00:00:00\",\"2013-12-18T00:00:00\",\"2013-12-19T00:00:00\",\"2013-12-20T00:00:00\",\"2013-12-21T00:00:00\",\"2013-12-22T00:00:00\",\"2013-12-23T00:00:00\",\"2013-12-24T00:00:00\",\"2013-12-25T00:00:00\",\"2013-12-26T00:00:00\",\"2013-12-27T00:00:00\",\"2013-12-28T00:00:00\",\"2013-12-29T00:00:00\",\"2013-12-30T00:00:00\",\"2013-12-31T00:00:00\"],\"y\":[84.5,92.0,87.0,71.33333333333333,86.83333333333333,82.8,78.6,63.71428571428572,51.25,62.0,51.285714285714285,74.0,75.16666666666667,88.16666666666667,71.85714285714286,86.66666666666667,80.83333333333333,92.16666666666669,76.66666666666667,75.28571428571429,77.0,79.66666666666667,60.16666666666666,60.66666666666666,67.0,64.16666666666667,65.57142857142857,56.0,65.5,70.42857142857143,65.6,73.0,77.57142857142857,65.57142857142857,74.28571428571429,92.375,71.33333333333333,59.4,70.42857142857143,61.285714285714285,71.5,70.5,70.33333333333333,70.14285714285714,63.833333333333336,65.33333333333333,92.71428571428572,90.0,78.4,82.0,74.71428571428571,67.28571428571429,65.625,74.85714285714286,78.85714285714286,72.875,70.0,57.2,52.85714285714285,49.333333333333336,54.0,62.833333333333336,71.0,61.875,65.28571428571429,57.142857142857146,44.833333333333336,49.71428571428572,57.57142857142857,66.33333333333333,62.5,70.5,61.16666666666666,45.833333333333336,67.66666666666667,58.66666666666666,58.142857142857146,73.66666666666667,36.333333333333336,58.5,50.25,50.125,48.75,45.5,44.57142857142857,62.0,62.71428571428572,70.375,54.75,58.0,45.5,51.0,45.6,41.8,31.0,29.857142857142858,23.285714285714285,33.857142857142854,30.5,28.0,24.2,32.57142857142857,29.2,39.375,41.375,24.625,24.2,30.285714285714285,31.285714285714285,29.0,38.66666666666666,45.375,44.125,41.71428571428572,38.285714285714285,45.875,31.428571428571427,28.0,26.375,32.0,15.857142857142858,22.166666666666668,31.571428571428573,31.428571428571427,31.125,39.25,33.25,23.0,26.0,27.714285714285715,30.375,40.142857142857146,34.0,34.285714285714285,33.0,34.75,28.166666666666668,42.2,22.33333333333333,24.2,19.0,22.125,23.33333333333333,27.428571428571427,22.428571428571427,21.2,31.571428571428573,29.0,27.857142857142858,28.2,40.125,54.0,56.6,47.0,42.57142857142857,36.5,61.71428571428572,49.25,57.4,40.0,42.75,61.66666666666666,54.142857142857146,68.66666666666667,68.14285714285714,65.0,88.85714285714286,87.375,83.6,72.85714285714286,52.71428571428572,47.333333333333336,39.4,53.0,55.0,70.42857142857143,71.5,61.85714285714285,64.25,57.0,52.16666666666666,54.0,58.285714285714285,70.0,67.5,62.2,73.14285714285714,77.33333333333333,75.16666666666667,78.83333333333333,75.375,65.5,86.625,70.25,71.625,73.25,83.875,78.375,76.0,73.5,90.66666666666669,88.0,80.33333333333333,70.71428571428571,84.14285714285714,84.5,73.85714285714286,79.0,67.42857142857143,77.42857142857143,75.66666666666667,78.5,73.5,66.42857142857143,62.333333333333336,62.5,77.0,90.66666666666669,85.25,84.0,87.5,79.85714285714286,76.83333333333333,81.5,72.0,74.33333333333333,85.0,92.0,91.0,83.83333333333333,84.66666666666667,88.5,81.16666666666667,74.83333333333333,73.14285714285714,71.25,90.75,69.875,57.285714285714285,60.71428571428572,57.0,73.0,71.75,65.2,50.85714285714285,45.5,48.0,46.0,55.71428571428572,51.833333333333336,71.75,57.5,66.33333333333333,61.142857142857146,60.333333333333336,67.14285714285714,67.0,56.375,60.0,56.5,58.57142857142857,61.6,70.0,89.0,79.66666666666667,68.0,65.75,75.0,78.8,71.25,67.33333333333333,79.85714285714286,84.57142857142857,68.71428571428571,61.4,59.0,84.33333333333333,69.0,66.5,66.57142857142857,69.4,65.5,66.28571428571429,89.85714285714286,82.57142857142857,84.33333333333333,74.85714285714286,76.42857142857143,75.0,76.71428571428571,73.16666666666667,69.57142857142857,67.83333333333333,63.625,53.6,67.5,73.14285714285714,75.8,78.2,66.875,63.16666666666666,62.71428571428572,67.42857142857143,58.833333333333336,69.14285714285714,65.0,57.875,54.16666666666666,74.33333333333333,66.71428571428571,73.14285714285714,82.2,73.57142857142857,72.0,61.85714285714285,71.71428571428571,65.0,63.375,67.0,69.625,67.42857142857143,55.125,63.5,58.875,66.25,74.875,77.85714285714286,58.875,49.875,51.375,68.5,71.875,66.625,69.625,65.0,73.25,73.5,71.85714285714286,69.0,72.375,80.5,83.625,79.25,81.75,71.875,62.375,67.71428571428571,79.0,86.25,89.5,92.875,93.0,89.125,91.375,94.0,94.0,88.25,84.75,63.16666666666666,67.625,79.875,70.0,69.42857142857143,79.5,89.375],\"type\":\"scatter\"}],                        {\"template\":{\"data\":{\"barpolar\":[{\"marker\":{\"line\":{\"color\":\"white\",\"width\":0.5},\"pattern\":{\"fillmode\":\"overlay\",\"size\":10,\"solidity\":0.2}},\"type\":\"barpolar\"}],\"bar\":[{\"error_x\":{\"color\":\"#2a3f5f\"},\"error_y\":{\"color\":\"#2a3f5f\"},\"marker\":{\"line\":{\"color\":\"white\",\"width\":0.5},\"pattern\":{\"fillmode\":\"overlay\",\"size\":10,\"solidity\":0.2}},\"type\":\"bar\"}],\"carpet\":[{\"aaxis\":{\"endlinecolor\":\"#2a3f5f\",\"gridcolor\":\"#C8D4E3\",\"linecolor\":\"#C8D4E3\",\"minorgridcolor\":\"#C8D4E3\",\"startlinecolor\":\"#2a3f5f\"},\"baxis\":{\"endlinecolor\":\"#2a3f5f\",\"gridcolor\":\"#C8D4E3\",\"linecolor\":\"#C8D4E3\",\"minorgridcolor\":\"#C8D4E3\",\"startlinecolor\":\"#2a3f5f\"},\"type\":\"carpet\"}],\"choropleth\":[{\"colorbar\":{\"outlinewidth\":0,\"ticks\":\"\"},\"type\":\"choropleth\"}],\"contourcarpet\":[{\"colorbar\":{\"outlinewidth\":0,\"ticks\":\"\"},\"type\":\"contourcarpet\"}],\"contour\":[{\"colorbar\":{\"outlinewidth\":0,\"ticks\":\"\"},\"colorscale\":[[0.0,\"#0d0887\"],[0.1111111111111111,\"#46039f\"],[0.2222222222222222,\"#7201a8\"],[0.3333333333333333,\"#9c179e\"],[0.4444444444444444,\"#bd3786\"],[0.5555555555555556,\"#d8576b\"],[0.6666666666666666,\"#ed7953\"],[0.7777777777777778,\"#fb9f3a\"],[0.8888888888888888,\"#fdca26\"],[1.0,\"#f0f921\"]],\"type\":\"contour\"}],\"heatmapgl\":[{\"colorbar\":{\"outlinewidth\":0,\"ticks\":\"\"},\"colorscale\":[[0.0,\"#0d0887\"],[0.1111111111111111,\"#46039f\"],[0.2222222222222222,\"#7201a8\"],[0.3333333333333333,\"#9c179e\"],[0.4444444444444444,\"#bd3786\"],[0.5555555555555556,\"#d8576b\"],[0.6666666666666666,\"#ed7953\"],[0.7777777777777778,\"#fb9f3a\"],[0.8888888888888888,\"#fdca26\"],[1.0,\"#f0f921\"]],\"type\":\"heatmapgl\"}],\"heatmap\":[{\"colorbar\":{\"outlinewidth\":0,\"ticks\":\"\"},\"colorscale\":[[0.0,\"#0d0887\"],[0.1111111111111111,\"#46039f\"],[0.2222222222222222,\"#7201a8\"],[0.3333333333333333,\"#9c179e\"],[0.4444444444444444,\"#bd3786\"],[0.5555555555555556,\"#d8576b\"],[0.6666666666666666,\"#ed7953\"],[0.7777777777777778,\"#fb9f3a\"],[0.8888888888888888,\"#fdca26\"],[1.0,\"#f0f921\"]],\"type\":\"heatmap\"}],\"histogram2dcontour\":[{\"colorbar\":{\"outlinewidth\":0,\"ticks\":\"\"},\"colorscale\":[[0.0,\"#0d0887\"],[0.1111111111111111,\"#46039f\"],[0.2222222222222222,\"#7201a8\"],[0.3333333333333333,\"#9c179e\"],[0.4444444444444444,\"#bd3786\"],[0.5555555555555556,\"#d8576b\"],[0.6666666666666666,\"#ed7953\"],[0.7777777777777778,\"#fb9f3a\"],[0.8888888888888888,\"#fdca26\"],[1.0,\"#f0f921\"]],\"type\":\"histogram2dcontour\"}],\"histogram2d\":[{\"colorbar\":{\"outlinewidth\":0,\"ticks\":\"\"},\"colorscale\":[[0.0,\"#0d0887\"],[0.1111111111111111,\"#46039f\"],[0.2222222222222222,\"#7201a8\"],[0.3333333333333333,\"#9c179e\"],[0.4444444444444444,\"#bd3786\"],[0.5555555555555556,\"#d8576b\"],[0.6666666666666666,\"#ed7953\"],[0.7777777777777778,\"#fb9f3a\"],[0.8888888888888888,\"#fdca26\"],[1.0,\"#f0f921\"]],\"type\":\"histogram2d\"}],\"histogram\":[{\"marker\":{\"pattern\":{\"fillmode\":\"overlay\",\"size\":10,\"solidity\":0.2}},\"type\":\"histogram\"}],\"mesh3d\":[{\"colorbar\":{\"outlinewidth\":0,\"ticks\":\"\"},\"type\":\"mesh3d\"}],\"parcoords\":[{\"line\":{\"colorbar\":{\"outlinewidth\":0,\"ticks\":\"\"}},\"type\":\"parcoords\"}],\"pie\":[{\"automargin\":true,\"type\":\"pie\"}],\"scatter3d\":[{\"line\":{\"colorbar\":{\"outlinewidth\":0,\"ticks\":\"\"}},\"marker\":{\"colorbar\":{\"outlinewidth\":0,\"ticks\":\"\"}},\"type\":\"scatter3d\"}],\"scattercarpet\":[{\"marker\":{\"colorbar\":{\"outlinewidth\":0,\"ticks\":\"\"}},\"type\":\"scattercarpet\"}],\"scattergeo\":[{\"marker\":{\"colorbar\":{\"outlinewidth\":0,\"ticks\":\"\"}},\"type\":\"scattergeo\"}],\"scattergl\":[{\"marker\":{\"colorbar\":{\"outlinewidth\":0,\"ticks\":\"\"}},\"type\":\"scattergl\"}],\"scattermapbox\":[{\"marker\":{\"colorbar\":{\"outlinewidth\":0,\"ticks\":\"\"}},\"type\":\"scattermapbox\"}],\"scatterpolargl\":[{\"marker\":{\"colorbar\":{\"outlinewidth\":0,\"ticks\":\"\"}},\"type\":\"scatterpolargl\"}],\"scatterpolar\":[{\"marker\":{\"colorbar\":{\"outlinewidth\":0,\"ticks\":\"\"}},\"type\":\"scatterpolar\"}],\"scatter\":[{\"fillpattern\":{\"fillmode\":\"overlay\",\"size\":10,\"solidity\":0.2},\"type\":\"scatter\"}],\"scatterternary\":[{\"marker\":{\"colorbar\":{\"outlinewidth\":0,\"ticks\":\"\"}},\"type\":\"scatterternary\"}],\"surface\":[{\"colorbar\":{\"outlinewidth\":0,\"ticks\":\"\"},\"colorscale\":[[0.0,\"#0d0887\"],[0.1111111111111111,\"#46039f\"],[0.2222222222222222,\"#7201a8\"],[0.3333333333333333,\"#9c179e\"],[0.4444444444444444,\"#bd3786\"],[0.5555555555555556,\"#d8576b\"],[0.6666666666666666,\"#ed7953\"],[0.7777777777777778,\"#fb9f3a\"],[0.8888888888888888,\"#fdca26\"],[1.0,\"#f0f921\"]],\"type\":\"surface\"}],\"table\":[{\"cells\":{\"fill\":{\"color\":\"#EBF0F8\"},\"line\":{\"color\":\"white\"}},\"header\":{\"fill\":{\"color\":\"#C8D4E3\"},\"line\":{\"color\":\"white\"}},\"type\":\"table\"}]},\"layout\":{\"annotationdefaults\":{\"arrowcolor\":\"#2a3f5f\",\"arrowhead\":0,\"arrowwidth\":1},\"autotypenumbers\":\"strict\",\"coloraxis\":{\"colorbar\":{\"outlinewidth\":0,\"ticks\":\"\"}},\"colorscale\":{\"diverging\":[[0,\"#8e0152\"],[0.1,\"#c51b7d\"],[0.2,\"#de77ae\"],[0.3,\"#f1b6da\"],[0.4,\"#fde0ef\"],[0.5,\"#f7f7f7\"],[0.6,\"#e6f5d0\"],[0.7,\"#b8e186\"],[0.8,\"#7fbc41\"],[0.9,\"#4d9221\"],[1,\"#276419\"]],\"sequential\":[[0.0,\"#0d0887\"],[0.1111111111111111,\"#46039f\"],[0.2222222222222222,\"#7201a8\"],[0.3333333333333333,\"#9c179e\"],[0.4444444444444444,\"#bd3786\"],[0.5555555555555556,\"#d8576b\"],[0.6666666666666666,\"#ed7953\"],[0.7777777777777778,\"#fb9f3a\"],[0.8888888888888888,\"#fdca26\"],[1.0,\"#f0f921\"]],\"sequentialminus\":[[0.0,\"#0d0887\"],[0.1111111111111111,\"#46039f\"],[0.2222222222222222,\"#7201a8\"],[0.3333333333333333,\"#9c179e\"],[0.4444444444444444,\"#bd3786\"],[0.5555555555555556,\"#d8576b\"],[0.6666666666666666,\"#ed7953\"],[0.7777777777777778,\"#fb9f3a\"],[0.8888888888888888,\"#fdca26\"],[1.0,\"#f0f921\"]]},\"colorway\":[\"#636efa\",\"#EF553B\",\"#00cc96\",\"#ab63fa\",\"#FFA15A\",\"#19d3f3\",\"#FF6692\",\"#B6E880\",\"#FF97FF\",\"#FECB52\"],\"font\":{\"color\":\"#2a3f5f\"},\"geo\":{\"bgcolor\":\"white\",\"lakecolor\":\"white\",\"landcolor\":\"white\",\"showlakes\":true,\"showland\":true,\"subunitcolor\":\"#C8D4E3\"},\"hoverlabel\":{\"align\":\"left\"},\"hovermode\":\"closest\",\"mapbox\":{\"style\":\"light\"},\"paper_bgcolor\":\"white\",\"plot_bgcolor\":\"white\",\"polar\":{\"angularaxis\":{\"gridcolor\":\"#EBF0F8\",\"linecolor\":\"#EBF0F8\",\"ticks\":\"\"},\"bgcolor\":\"white\",\"radialaxis\":{\"gridcolor\":\"#EBF0F8\",\"linecolor\":\"#EBF0F8\",\"ticks\":\"\"}},\"scene\":{\"xaxis\":{\"backgroundcolor\":\"white\",\"gridcolor\":\"#DFE8F3\",\"gridwidth\":2,\"linecolor\":\"#EBF0F8\",\"showbackground\":true,\"ticks\":\"\",\"zerolinecolor\":\"#EBF0F8\"},\"yaxis\":{\"backgroundcolor\":\"white\",\"gridcolor\":\"#DFE8F3\",\"gridwidth\":2,\"linecolor\":\"#EBF0F8\",\"showbackground\":true,\"ticks\":\"\",\"zerolinecolor\":\"#EBF0F8\"},\"zaxis\":{\"backgroundcolor\":\"white\",\"gridcolor\":\"#DFE8F3\",\"gridwidth\":2,\"linecolor\":\"#EBF0F8\",\"showbackground\":true,\"ticks\":\"\",\"zerolinecolor\":\"#EBF0F8\"}},\"shapedefaults\":{\"line\":{\"color\":\"#2a3f5f\"}},\"ternary\":{\"aaxis\":{\"gridcolor\":\"#DFE8F3\",\"linecolor\":\"#A2B1C6\",\"ticks\":\"\"},\"baxis\":{\"gridcolor\":\"#DFE8F3\",\"linecolor\":\"#A2B1C6\",\"ticks\":\"\"},\"bgcolor\":\"white\",\"caxis\":{\"gridcolor\":\"#DFE8F3\",\"linecolor\":\"#A2B1C6\",\"ticks\":\"\"}},\"title\":{\"x\":0.05},\"xaxis\":{\"automargin\":true,\"gridcolor\":\"#EBF0F8\",\"linecolor\":\"#EBF0F8\",\"ticks\":\"\",\"title\":{\"standoff\":15},\"zerolinecolor\":\"#EBF0F8\",\"zerolinewidth\":2},\"yaxis\":{\"automargin\":true,\"gridcolor\":\"#EBF0F8\",\"linecolor\":\"#EBF0F8\",\"ticks\":\"\",\"title\":{\"standoff\":15},\"zerolinecolor\":\"#EBF0F8\",\"zerolinewidth\":2}}},\"title\":{\"text\":\"Humidity (2013)\",\"x\":0.5},\"xaxis\":{\"title\":{\"text\":\"Date\"}},\"yaxis\":{\"title\":{\"text\":\"Value\"}},\"height\":380},                        {\"responsive\": true}                    ).then(function(){\n",
       "                            \n",
       "var gd = document.getElementById('0ad2f73b-c5da-41d0-83ae-cd4fcfc3f07e');\n",
       "var x = new MutationObserver(function (mutations, observer) {{\n",
       "        var display = window.getComputedStyle(gd).display;\n",
       "        if (!display || display === 'none') {{\n",
       "            console.log([gd, 'removed!']);\n",
       "            Plotly.purge(gd);\n",
       "            observer.disconnect();\n",
       "        }}\n",
       "}});\n",
       "\n",
       "// Listen for the removal of the full notebook cells\n",
       "var notebookContainer = gd.closest('#notebook-container');\n",
       "if (notebookContainer) {{\n",
       "    x.observe(notebookContainer, {childList: true});\n",
       "}}\n",
       "\n",
       "// Listen for the clearing of the current output cell\n",
       "var outputEl = gd.closest('.output');\n",
       "if (outputEl) {{\n",
       "    x.observe(outputEl, {childList: true});\n",
       "}}\n",
       "\n",
       "                        })                };                });            </script>        </div>"
      ]
     },
     "metadata": {},
     "output_type": "display_data"
    },
    {
     "data": {
      "text/html": [
       "<div>                            <div id=\"e0e80c9c-f22b-4f26-ade0-82dd64d0599d\" class=\"plotly-graph-div\" style=\"height:380px; width:100%;\"></div>            <script type=\"text/javascript\">                require([\"plotly\"], function(Plotly) {                    window.PLOTLYENV=window.PLOTLYENV || {};                                    if (document.getElementById(\"e0e80c9c-f22b-4f26-ade0-82dd64d0599d\")) {                    Plotly.newPlot(                        \"e0e80c9c-f22b-4f26-ade0-82dd64d0599d\",                        [{\"line\":{\"color\":\"green\"},\"mode\":\"lines\",\"x\":[\"2016-01-01T00:00:00\",\"2016-01-02T00:00:00\",\"2016-01-03T00:00:00\",\"2016-01-04T00:00:00\",\"2016-01-05T00:00:00\",\"2016-01-06T00:00:00\",\"2016-01-07T00:00:00\",\"2016-01-08T00:00:00\",\"2016-01-09T00:00:00\",\"2016-01-10T00:00:00\",\"2016-01-11T00:00:00\",\"2016-01-12T00:00:00\",\"2016-01-13T00:00:00\",\"2016-01-14T00:00:00\",\"2016-01-15T00:00:00\",\"2016-01-16T00:00:00\",\"2016-01-17T00:00:00\",\"2016-01-18T00:00:00\",\"2016-01-19T00:00:00\",\"2016-01-20T00:00:00\",\"2016-01-21T00:00:00\",\"2016-01-22T00:00:00\",\"2016-01-23T00:00:00\",\"2016-01-24T00:00:00\",\"2016-01-25T00:00:00\",\"2016-01-26T00:00:00\",\"2016-01-27T00:00:00\",\"2016-01-28T00:00:00\",\"2016-01-29T00:00:00\",\"2016-01-30T00:00:00\",\"2016-01-31T00:00:00\",\"2016-02-01T00:00:00\",\"2016-02-02T00:00:00\",\"2016-02-03T00:00:00\",\"2016-02-04T00:00:00\",\"2016-02-05T00:00:00\",\"2016-02-06T00:00:00\",\"2016-02-07T00:00:00\",\"2016-02-08T00:00:00\",\"2016-02-09T00:00:00\",\"2016-02-10T00:00:00\",\"2016-02-11T00:00:00\",\"2016-02-12T00:00:00\",\"2016-02-13T00:00:00\",\"2016-02-14T00:00:00\",\"2016-02-15T00:00:00\",\"2016-02-16T00:00:00\",\"2016-02-17T00:00:00\",\"2016-02-18T00:00:00\",\"2016-02-19T00:00:00\",\"2016-02-20T00:00:00\",\"2016-02-21T00:00:00\",\"2016-02-22T00:00:00\",\"2016-02-23T00:00:00\",\"2016-02-24T00:00:00\",\"2016-02-25T00:00:00\",\"2016-02-26T00:00:00\",\"2016-02-27T00:00:00\",\"2016-02-28T00:00:00\",\"2016-02-29T00:00:00\",\"2016-03-01T00:00:00\",\"2016-03-02T00:00:00\",\"2016-03-03T00:00:00\",\"2016-03-04T00:00:00\",\"2016-03-05T00:00:00\",\"2016-03-06T00:00:00\",\"2016-03-07T00:00:00\",\"2016-03-08T00:00:00\",\"2016-03-09T00:00:00\",\"2016-03-10T00:00:00\",\"2016-03-11T00:00:00\",\"2016-03-12T00:00:00\",\"2016-03-13T00:00:00\",\"2016-03-14T00:00:00\",\"2016-03-15T00:00:00\",\"2016-03-16T00:00:00\",\"2016-03-17T00:00:00\",\"2016-03-18T00:00:00\",\"2016-03-19T00:00:00\",\"2016-03-20T00:00:00\",\"2016-03-21T00:00:00\",\"2016-03-22T00:00:00\",\"2016-03-23T00:00:00\",\"2016-03-24T00:00:00\",\"2016-03-25T00:00:00\",\"2016-03-26T00:00:00\",\"2016-03-27T00:00:00\",\"2016-03-28T00:00:00\",\"2016-03-29T00:00:00\",\"2016-03-30T00:00:00\",\"2016-03-31T00:00:00\",\"2016-04-01T00:00:00\",\"2016-04-02T00:00:00\",\"2016-04-03T00:00:00\",\"2016-04-04T00:00:00\",\"2016-04-05T00:00:00\",\"2016-04-06T00:00:00\",\"2016-04-07T00:00:00\",\"2016-04-08T00:00:00\",\"2016-04-09T00:00:00\",\"2016-04-10T00:00:00\",\"2016-04-11T00:00:00\",\"2016-04-12T00:00:00\",\"2016-04-13T00:00:00\",\"2016-04-14T00:00:00\",\"2016-04-15T00:00:00\",\"2016-04-16T00:00:00\",\"2016-04-17T00:00:00\",\"2016-04-18T00:00:00\",\"2016-04-19T00:00:00\",\"2016-04-20T00:00:00\",\"2016-04-21T00:00:00\",\"2016-04-22T00:00:00\",\"2016-04-23T00:00:00\",\"2016-04-24T00:00:00\",\"2016-04-25T00:00:00\",\"2016-04-26T00:00:00\",\"2016-04-27T00:00:00\",\"2016-04-28T00:00:00\",\"2016-04-29T00:00:00\",\"2016-04-30T00:00:00\",\"2016-05-01T00:00:00\",\"2016-05-02T00:00:00\",\"2016-05-03T00:00:00\",\"2016-05-04T00:00:00\",\"2016-05-05T00:00:00\",\"2016-05-06T00:00:00\",\"2016-05-07T00:00:00\",\"2016-05-08T00:00:00\",\"2016-05-09T00:00:00\",\"2016-05-10T00:00:00\",\"2016-05-11T00:00:00\",\"2016-05-12T00:00:00\",\"2016-05-13T00:00:00\",\"2016-05-14T00:00:00\",\"2016-05-15T00:00:00\",\"2016-05-16T00:00:00\",\"2016-05-17T00:00:00\",\"2016-05-18T00:00:00\",\"2016-05-19T00:00:00\",\"2016-05-20T00:00:00\",\"2016-05-21T00:00:00\",\"2016-05-22T00:00:00\",\"2016-05-23T00:00:00\",\"2016-05-24T00:00:00\",\"2016-05-25T00:00:00\",\"2016-05-26T00:00:00\",\"2016-05-27T00:00:00\",\"2016-05-28T00:00:00\",\"2016-05-29T00:00:00\",\"2016-05-30T00:00:00\",\"2016-05-31T00:00:00\",\"2016-06-01T00:00:00\",\"2016-06-02T00:00:00\",\"2016-06-03T00:00:00\",\"2016-06-04T00:00:00\",\"2016-06-05T00:00:00\",\"2016-06-06T00:00:00\",\"2016-06-07T00:00:00\",\"2016-06-08T00:00:00\",\"2016-06-09T00:00:00\",\"2016-06-10T00:00:00\",\"2016-06-11T00:00:00\",\"2016-06-12T00:00:00\",\"2016-06-13T00:00:00\",\"2016-06-14T00:00:00\",\"2016-06-15T00:00:00\",\"2016-06-16T00:00:00\",\"2016-06-17T00:00:00\",\"2016-06-18T00:00:00\",\"2016-06-19T00:00:00\",\"2016-06-20T00:00:00\",\"2016-06-21T00:00:00\",\"2016-06-22T00:00:00\",\"2016-06-23T00:00:00\",\"2016-06-24T00:00:00\",\"2016-06-25T00:00:00\",\"2016-06-26T00:00:00\",\"2016-06-27T00:00:00\",\"2016-06-28T00:00:00\",\"2016-06-29T00:00:00\",\"2016-06-30T00:00:00\",\"2016-07-01T00:00:00\",\"2016-07-02T00:00:00\",\"2016-07-03T00:00:00\",\"2016-07-04T00:00:00\",\"2016-07-05T00:00:00\",\"2016-07-06T00:00:00\",\"2016-07-07T00:00:00\",\"2016-07-08T00:00:00\",\"2016-07-09T00:00:00\",\"2016-07-10T00:00:00\",\"2016-07-11T00:00:00\",\"2016-07-12T00:00:00\",\"2016-07-13T00:00:00\",\"2016-07-14T00:00:00\",\"2016-07-15T00:00:00\",\"2016-07-16T00:00:00\",\"2016-07-17T00:00:00\",\"2016-07-18T00:00:00\",\"2016-07-19T00:00:00\",\"2016-07-20T00:00:00\",\"2016-07-21T00:00:00\",\"2016-07-22T00:00:00\",\"2016-07-23T00:00:00\",\"2016-07-24T00:00:00\",\"2016-07-25T00:00:00\",\"2016-07-26T00:00:00\",\"2016-07-27T00:00:00\",\"2016-07-28T00:00:00\",\"2016-07-29T00:00:00\",\"2016-07-30T00:00:00\",\"2016-07-31T00:00:00\",\"2016-08-01T00:00:00\",\"2016-08-02T00:00:00\",\"2016-08-03T00:00:00\",\"2016-08-04T00:00:00\",\"2016-08-05T00:00:00\",\"2016-08-06T00:00:00\",\"2016-08-07T00:00:00\",\"2016-08-08T00:00:00\",\"2016-08-09T00:00:00\",\"2016-08-10T00:00:00\",\"2016-08-11T00:00:00\",\"2016-08-12T00:00:00\",\"2016-08-13T00:00:00\",\"2016-08-14T00:00:00\",\"2016-08-15T00:00:00\",\"2016-08-16T00:00:00\",\"2016-08-17T00:00:00\",\"2016-08-18T00:00:00\",\"2016-08-19T00:00:00\",\"2016-08-20T00:00:00\",\"2016-08-21T00:00:00\",\"2016-08-22T00:00:00\",\"2016-08-23T00:00:00\",\"2016-08-24T00:00:00\",\"2016-08-25T00:00:00\",\"2016-08-26T00:00:00\",\"2016-08-27T00:00:00\",\"2016-08-28T00:00:00\",\"2016-08-29T00:00:00\",\"2016-08-30T00:00:00\",\"2016-08-31T00:00:00\",\"2016-09-01T00:00:00\",\"2016-09-02T00:00:00\",\"2016-09-03T00:00:00\",\"2016-09-04T00:00:00\",\"2016-09-05T00:00:00\",\"2016-09-06T00:00:00\",\"2016-09-07T00:00:00\",\"2016-09-08T00:00:00\",\"2016-09-09T00:00:00\",\"2016-09-10T00:00:00\",\"2016-09-11T00:00:00\",\"2016-09-12T00:00:00\",\"2016-09-13T00:00:00\",\"2016-09-14T00:00:00\",\"2016-09-15T00:00:00\",\"2016-09-16T00:00:00\",\"2016-09-17T00:00:00\",\"2016-09-18T00:00:00\",\"2016-09-19T00:00:00\",\"2016-09-20T00:00:00\",\"2016-09-21T00:00:00\",\"2016-09-22T00:00:00\",\"2016-09-23T00:00:00\",\"2016-09-24T00:00:00\",\"2016-09-25T00:00:00\",\"2016-09-26T00:00:00\",\"2016-09-27T00:00:00\",\"2016-09-28T00:00:00\",\"2016-09-29T00:00:00\",\"2016-09-30T00:00:00\",\"2016-10-01T00:00:00\",\"2016-10-02T00:00:00\",\"2016-10-03T00:00:00\",\"2016-10-04T00:00:00\",\"2016-10-05T00:00:00\",\"2016-10-06T00:00:00\",\"2016-10-07T00:00:00\",\"2016-10-08T00:00:00\",\"2016-10-09T00:00:00\",\"2016-10-10T00:00:00\",\"2016-10-11T00:00:00\",\"2016-10-12T00:00:00\",\"2016-10-13T00:00:00\",\"2016-10-14T00:00:00\",\"2016-10-15T00:00:00\",\"2016-10-16T00:00:00\",\"2016-10-17T00:00:00\",\"2016-10-18T00:00:00\",\"2016-10-19T00:00:00\",\"2016-10-20T00:00:00\",\"2016-10-21T00:00:00\",\"2016-10-22T00:00:00\",\"2016-10-23T00:00:00\",\"2016-10-24T00:00:00\",\"2016-10-25T00:00:00\",\"2016-10-26T00:00:00\",\"2016-10-27T00:00:00\",\"2016-10-28T00:00:00\",\"2016-10-29T00:00:00\",\"2016-10-30T00:00:00\",\"2016-10-31T00:00:00\",\"2016-11-01T00:00:00\",\"2016-11-02T00:00:00\",\"2016-11-03T00:00:00\",\"2016-11-04T00:00:00\",\"2016-11-05T00:00:00\",\"2016-11-06T00:00:00\",\"2016-11-07T00:00:00\",\"2016-11-08T00:00:00\",\"2016-11-09T00:00:00\",\"2016-11-10T00:00:00\",\"2016-11-11T00:00:00\",\"2016-11-12T00:00:00\",\"2016-11-13T00:00:00\",\"2016-11-14T00:00:00\",\"2016-11-15T00:00:00\",\"2016-11-16T00:00:00\",\"2016-11-17T00:00:00\",\"2016-11-18T00:00:00\",\"2016-11-19T00:00:00\",\"2016-11-20T00:00:00\",\"2016-11-21T00:00:00\",\"2016-11-22T00:00:00\",\"2016-11-23T00:00:00\",\"2016-11-24T00:00:00\",\"2016-11-25T00:00:00\",\"2016-11-26T00:00:00\",\"2016-11-27T00:00:00\",\"2016-11-28T00:00:00\",\"2016-11-29T00:00:00\",\"2016-11-30T00:00:00\",\"2016-12-01T00:00:00\",\"2016-12-02T00:00:00\",\"2016-12-03T00:00:00\",\"2016-12-04T00:00:00\",\"2016-12-05T00:00:00\",\"2016-12-06T00:00:00\",\"2016-12-07T00:00:00\",\"2016-12-08T00:00:00\",\"2016-12-09T00:00:00\",\"2016-12-10T00:00:00\",\"2016-12-11T00:00:00\",\"2016-12-12T00:00:00\",\"2016-12-13T00:00:00\",\"2016-12-14T00:00:00\",\"2016-12-15T00:00:00\",\"2016-12-16T00:00:00\",\"2016-12-17T00:00:00\",\"2016-12-18T00:00:00\",\"2016-12-19T00:00:00\",\"2016-12-20T00:00:00\",\"2016-12-21T00:00:00\",\"2016-12-22T00:00:00\",\"2016-12-23T00:00:00\",\"2016-12-24T00:00:00\",\"2016-12-25T00:00:00\",\"2016-12-26T00:00:00\",\"2016-12-27T00:00:00\",\"2016-12-28T00:00:00\",\"2016-12-29T00:00:00\",\"2016-12-30T00:00:00\",\"2016-12-31T00:00:00\"],\"y\":[72.28571428571429,75.875,74.75,77.125,88.83333333333333,81.625,87.0,83.25,65.14285714285714,74.375,74.875,69.6875,75.8,80.4375,84.1875,80.06666666666666,77.66666666666667,80.46666666666667,88.57142857142857,84.2,73.1875,83.4,75.875,86.25,75.4,79.6875,69.16666666666667,69.35714285714286,70.625,78.5,78.25,65.76923076923077,55.86666666666667,66.5,53.0,70.66666666666667,69.5,77.0,67.18181818181819,67.46153846153847,64.86666666666666,54.75,57.86666666666667,62.13333333333333,61.92857142857143,59.53333333333333,56.142857142857146,59.285714285714285,76.0,70.23076923076923,73.125,61.125,51.42857142857143,50.642857142857146,58.0625,57.5,55.6,59.0,63.0625,63.9375,57.41666666666666,57.06666666666667,55.61538461538461,44.25,57.13333333333333,66.5625,64.14285714285714,60.21428571428572,57.5625,57.4375,67.8,66.9375,65.1875,66.0,58.93333333333333,53.75,50.3125,61.25,61.85714285714285,58.73333333333333,43.375,37.875,43.266666666666666,46.86666666666667,50.1875,62.66666666666666,53.6875,52.8,47.75,39.785714285714285,39.73333333333333,38.21428571428572,38.5625,44.25,33.125,29.3125,33.125,37.0,36.0,32.46666666666667,29.0,35.0,36.2,28.0625,23.875,25.375,23.6875,23.866666666666667,30.125,33.6,25.9375,24.666666666666668,24.25,21.818181818181817,22.125,22.8125,25.1875,29.0625,21.76923076923077,23.285714285714285,25.5625,23.375,18.466666666666665,30.375,31.857142857142858,42.0,37.4375,37.1875,36.333333333333336,40.6,39.75,49.9375,40.0,28.11764705882353,31.875,29.5,23.5,25.8125,27.625,40.5,44.2,45.4,44.8,47.92857142857143,53.526315789473685,46.60869565217392,44.57692307692308,26.09090909090909,37.25,57.0625,74.8125,51.21428571428572,42.2,35.3125,40.6875,42.06666666666667,51.75,45.71428571428572,59.1875,44.642857142857146,43.73333333333333,41.86666666666667,49.9375,37.125,43.3125,55.125,48.86666666666667,51.285714285714285,52.25,50.57142857142857,53.25,73.9375,62.1875,60.8125,51.61538461538461,46.5625,55.92857142857143,57.46666666666667,61.25,75.07142857142857,58.875,60.2,73.4,80.0,78.125,76.3125,68.6875,64.06666666666666,63.0,75.86666666666666,66.0625,65.6875,71.9375,80.1875,76.3125,80.4375,78.0625,93.875,86.5625,91.26666666666668,69.125,59.5625,56.86666666666667,56.125,66.0,72.25,69.125,82.0,88.25,81.33333333333333,92.4375,92.26666666666668,83.13333333333334,84.25,72.125,63.5625,63.888888888888886,61.66666666666666,76.0,65.17647058823529,62.38095238095238,71.65384615384616,71.25925925925925,89.46428571428571,85.0,77.07142857142857,83.7,67.64285714285714,66.41666666666667,72.5,79.81481481481481,68.28571428571429,66.48148148148148,68.07407407407408,65.55555555555556,70.08,79.28571428571429,72.44,73.81481481481481,70.28571428571429,66.24,82.32142857142857,76.8,89.55555555555556,87.24,71.73913043478261,62.68421052631579,59.30769230769231,60.30769230769231,55.0,57.7,58.0,56.66666666666666,58.23076923076923,56.4,55.5,57.06666666666667,70.35714285714286,59.63636363636363,58.0,58.0,58.833333333333336,59.458333333333336,54.07407407407408,58.96,67.62962962962963,66.10714285714286,66.48,62.30434782608695,60.88,57.81481481481482,55.28,61.31818181818182,59.35714285714285,61.91666666666666,61.81481481481482,59.57692307692308,69.81481481481481,71.875,64.81481481481481,59.96,57.96,59.2,51.11111111111112,51.14814814814815,47.285714285714285,44.0,47.875,54.14814814814815,49.85714285714285,49.24,48.458333333333336,49.18518518518518,47.73076923076923,50.40909090909091,49.48148148148148,54.96153846153846,51.42307692307692,54.56,56.19230769230769,59.37037037037037,58.77777777777778,62.77777777777778,71.04347826086956,66.8076923076923,58.73076923076923,65.9090909090909,59.76,58.2962962962963,66.57692307692308,63.851851851851855,51.31818181818182,52.26923076923077,49.7037037037037,50.14814814814815,54.04,58.03846153846154,55.81481481481482,60.73076923076923,55.72,53.23076923076923,51.73076923076923,53.61538461538461,60.66666666666666,59.9,60.46153846153846,50.1578947368421,51.43478260869565,51.47368421052632,30.55,32.64705882352941,33.63636363636363,37.31818181818182,53.72222222222222,80.08695652173913,84.0,75.875,52.16666666666666,55.25,56.59090909090909,69.92307692307692,74.35,73.3,68.125,82.83333333333333,69.58333333333333,63.86363636363637,62.35,58.61111111111112,56.625,63.27777777777778,63.388888888888886,64.54166666666667,56.095238095238095,48.53333333333333,54.3,57.85714285714285,74.7,78.63636363636364,94.3,74.85714285714286,67.55,68.04347826086956,87.85714285714286,89.66666666666667,87.0],\"type\":\"scatter\"}],                        {\"template\":{\"data\":{\"barpolar\":[{\"marker\":{\"line\":{\"color\":\"white\",\"width\":0.5},\"pattern\":{\"fillmode\":\"overlay\",\"size\":10,\"solidity\":0.2}},\"type\":\"barpolar\"}],\"bar\":[{\"error_x\":{\"color\":\"#2a3f5f\"},\"error_y\":{\"color\":\"#2a3f5f\"},\"marker\":{\"line\":{\"color\":\"white\",\"width\":0.5},\"pattern\":{\"fillmode\":\"overlay\",\"size\":10,\"solidity\":0.2}},\"type\":\"bar\"}],\"carpet\":[{\"aaxis\":{\"endlinecolor\":\"#2a3f5f\",\"gridcolor\":\"#C8D4E3\",\"linecolor\":\"#C8D4E3\",\"minorgridcolor\":\"#C8D4E3\",\"startlinecolor\":\"#2a3f5f\"},\"baxis\":{\"endlinecolor\":\"#2a3f5f\",\"gridcolor\":\"#C8D4E3\",\"linecolor\":\"#C8D4E3\",\"minorgridcolor\":\"#C8D4E3\",\"startlinecolor\":\"#2a3f5f\"},\"type\":\"carpet\"}],\"choropleth\":[{\"colorbar\":{\"outlinewidth\":0,\"ticks\":\"\"},\"type\":\"choropleth\"}],\"contourcarpet\":[{\"colorbar\":{\"outlinewidth\":0,\"ticks\":\"\"},\"type\":\"contourcarpet\"}],\"contour\":[{\"colorbar\":{\"outlinewidth\":0,\"ticks\":\"\"},\"colorscale\":[[0.0,\"#0d0887\"],[0.1111111111111111,\"#46039f\"],[0.2222222222222222,\"#7201a8\"],[0.3333333333333333,\"#9c179e\"],[0.4444444444444444,\"#bd3786\"],[0.5555555555555556,\"#d8576b\"],[0.6666666666666666,\"#ed7953\"],[0.7777777777777778,\"#fb9f3a\"],[0.8888888888888888,\"#fdca26\"],[1.0,\"#f0f921\"]],\"type\":\"contour\"}],\"heatmapgl\":[{\"colorbar\":{\"outlinewidth\":0,\"ticks\":\"\"},\"colorscale\":[[0.0,\"#0d0887\"],[0.1111111111111111,\"#46039f\"],[0.2222222222222222,\"#7201a8\"],[0.3333333333333333,\"#9c179e\"],[0.4444444444444444,\"#bd3786\"],[0.5555555555555556,\"#d8576b\"],[0.6666666666666666,\"#ed7953\"],[0.7777777777777778,\"#fb9f3a\"],[0.8888888888888888,\"#fdca26\"],[1.0,\"#f0f921\"]],\"type\":\"heatmapgl\"}],\"heatmap\":[{\"colorbar\":{\"outlinewidth\":0,\"ticks\":\"\"},\"colorscale\":[[0.0,\"#0d0887\"],[0.1111111111111111,\"#46039f\"],[0.2222222222222222,\"#7201a8\"],[0.3333333333333333,\"#9c179e\"],[0.4444444444444444,\"#bd3786\"],[0.5555555555555556,\"#d8576b\"],[0.6666666666666666,\"#ed7953\"],[0.7777777777777778,\"#fb9f3a\"],[0.8888888888888888,\"#fdca26\"],[1.0,\"#f0f921\"]],\"type\":\"heatmap\"}],\"histogram2dcontour\":[{\"colorbar\":{\"outlinewidth\":0,\"ticks\":\"\"},\"colorscale\":[[0.0,\"#0d0887\"],[0.1111111111111111,\"#46039f\"],[0.2222222222222222,\"#7201a8\"],[0.3333333333333333,\"#9c179e\"],[0.4444444444444444,\"#bd3786\"],[0.5555555555555556,\"#d8576b\"],[0.6666666666666666,\"#ed7953\"],[0.7777777777777778,\"#fb9f3a\"],[0.8888888888888888,\"#fdca26\"],[1.0,\"#f0f921\"]],\"type\":\"histogram2dcontour\"}],\"histogram2d\":[{\"colorbar\":{\"outlinewidth\":0,\"ticks\":\"\"},\"colorscale\":[[0.0,\"#0d0887\"],[0.1111111111111111,\"#46039f\"],[0.2222222222222222,\"#7201a8\"],[0.3333333333333333,\"#9c179e\"],[0.4444444444444444,\"#bd3786\"],[0.5555555555555556,\"#d8576b\"],[0.6666666666666666,\"#ed7953\"],[0.7777777777777778,\"#fb9f3a\"],[0.8888888888888888,\"#fdca26\"],[1.0,\"#f0f921\"]],\"type\":\"histogram2d\"}],\"histogram\":[{\"marker\":{\"pattern\":{\"fillmode\":\"overlay\",\"size\":10,\"solidity\":0.2}},\"type\":\"histogram\"}],\"mesh3d\":[{\"colorbar\":{\"outlinewidth\":0,\"ticks\":\"\"},\"type\":\"mesh3d\"}],\"parcoords\":[{\"line\":{\"colorbar\":{\"outlinewidth\":0,\"ticks\":\"\"}},\"type\":\"parcoords\"}],\"pie\":[{\"automargin\":true,\"type\":\"pie\"}],\"scatter3d\":[{\"line\":{\"colorbar\":{\"outlinewidth\":0,\"ticks\":\"\"}},\"marker\":{\"colorbar\":{\"outlinewidth\":0,\"ticks\":\"\"}},\"type\":\"scatter3d\"}],\"scattercarpet\":[{\"marker\":{\"colorbar\":{\"outlinewidth\":0,\"ticks\":\"\"}},\"type\":\"scattercarpet\"}],\"scattergeo\":[{\"marker\":{\"colorbar\":{\"outlinewidth\":0,\"ticks\":\"\"}},\"type\":\"scattergeo\"}],\"scattergl\":[{\"marker\":{\"colorbar\":{\"outlinewidth\":0,\"ticks\":\"\"}},\"type\":\"scattergl\"}],\"scattermapbox\":[{\"marker\":{\"colorbar\":{\"outlinewidth\":0,\"ticks\":\"\"}},\"type\":\"scattermapbox\"}],\"scatterpolargl\":[{\"marker\":{\"colorbar\":{\"outlinewidth\":0,\"ticks\":\"\"}},\"type\":\"scatterpolargl\"}],\"scatterpolar\":[{\"marker\":{\"colorbar\":{\"outlinewidth\":0,\"ticks\":\"\"}},\"type\":\"scatterpolar\"}],\"scatter\":[{\"fillpattern\":{\"fillmode\":\"overlay\",\"size\":10,\"solidity\":0.2},\"type\":\"scatter\"}],\"scatterternary\":[{\"marker\":{\"colorbar\":{\"outlinewidth\":0,\"ticks\":\"\"}},\"type\":\"scatterternary\"}],\"surface\":[{\"colorbar\":{\"outlinewidth\":0,\"ticks\":\"\"},\"colorscale\":[[0.0,\"#0d0887\"],[0.1111111111111111,\"#46039f\"],[0.2222222222222222,\"#7201a8\"],[0.3333333333333333,\"#9c179e\"],[0.4444444444444444,\"#bd3786\"],[0.5555555555555556,\"#d8576b\"],[0.6666666666666666,\"#ed7953\"],[0.7777777777777778,\"#fb9f3a\"],[0.8888888888888888,\"#fdca26\"],[1.0,\"#f0f921\"]],\"type\":\"surface\"}],\"table\":[{\"cells\":{\"fill\":{\"color\":\"#EBF0F8\"},\"line\":{\"color\":\"white\"}},\"header\":{\"fill\":{\"color\":\"#C8D4E3\"},\"line\":{\"color\":\"white\"}},\"type\":\"table\"}]},\"layout\":{\"annotationdefaults\":{\"arrowcolor\":\"#2a3f5f\",\"arrowhead\":0,\"arrowwidth\":1},\"autotypenumbers\":\"strict\",\"coloraxis\":{\"colorbar\":{\"outlinewidth\":0,\"ticks\":\"\"}},\"colorscale\":{\"diverging\":[[0,\"#8e0152\"],[0.1,\"#c51b7d\"],[0.2,\"#de77ae\"],[0.3,\"#f1b6da\"],[0.4,\"#fde0ef\"],[0.5,\"#f7f7f7\"],[0.6,\"#e6f5d0\"],[0.7,\"#b8e186\"],[0.8,\"#7fbc41\"],[0.9,\"#4d9221\"],[1,\"#276419\"]],\"sequential\":[[0.0,\"#0d0887\"],[0.1111111111111111,\"#46039f\"],[0.2222222222222222,\"#7201a8\"],[0.3333333333333333,\"#9c179e\"],[0.4444444444444444,\"#bd3786\"],[0.5555555555555556,\"#d8576b\"],[0.6666666666666666,\"#ed7953\"],[0.7777777777777778,\"#fb9f3a\"],[0.8888888888888888,\"#fdca26\"],[1.0,\"#f0f921\"]],\"sequentialminus\":[[0.0,\"#0d0887\"],[0.1111111111111111,\"#46039f\"],[0.2222222222222222,\"#7201a8\"],[0.3333333333333333,\"#9c179e\"],[0.4444444444444444,\"#bd3786\"],[0.5555555555555556,\"#d8576b\"],[0.6666666666666666,\"#ed7953\"],[0.7777777777777778,\"#fb9f3a\"],[0.8888888888888888,\"#fdca26\"],[1.0,\"#f0f921\"]]},\"colorway\":[\"#636efa\",\"#EF553B\",\"#00cc96\",\"#ab63fa\",\"#FFA15A\",\"#19d3f3\",\"#FF6692\",\"#B6E880\",\"#FF97FF\",\"#FECB52\"],\"font\":{\"color\":\"#2a3f5f\"},\"geo\":{\"bgcolor\":\"white\",\"lakecolor\":\"white\",\"landcolor\":\"white\",\"showlakes\":true,\"showland\":true,\"subunitcolor\":\"#C8D4E3\"},\"hoverlabel\":{\"align\":\"left\"},\"hovermode\":\"closest\",\"mapbox\":{\"style\":\"light\"},\"paper_bgcolor\":\"white\",\"plot_bgcolor\":\"white\",\"polar\":{\"angularaxis\":{\"gridcolor\":\"#EBF0F8\",\"linecolor\":\"#EBF0F8\",\"ticks\":\"\"},\"bgcolor\":\"white\",\"radialaxis\":{\"gridcolor\":\"#EBF0F8\",\"linecolor\":\"#EBF0F8\",\"ticks\":\"\"}},\"scene\":{\"xaxis\":{\"backgroundcolor\":\"white\",\"gridcolor\":\"#DFE8F3\",\"gridwidth\":2,\"linecolor\":\"#EBF0F8\",\"showbackground\":true,\"ticks\":\"\",\"zerolinecolor\":\"#EBF0F8\"},\"yaxis\":{\"backgroundcolor\":\"white\",\"gridcolor\":\"#DFE8F3\",\"gridwidth\":2,\"linecolor\":\"#EBF0F8\",\"showbackground\":true,\"ticks\":\"\",\"zerolinecolor\":\"#EBF0F8\"},\"zaxis\":{\"backgroundcolor\":\"white\",\"gridcolor\":\"#DFE8F3\",\"gridwidth\":2,\"linecolor\":\"#EBF0F8\",\"showbackground\":true,\"ticks\":\"\",\"zerolinecolor\":\"#EBF0F8\"}},\"shapedefaults\":{\"line\":{\"color\":\"#2a3f5f\"}},\"ternary\":{\"aaxis\":{\"gridcolor\":\"#DFE8F3\",\"linecolor\":\"#A2B1C6\",\"ticks\":\"\"},\"baxis\":{\"gridcolor\":\"#DFE8F3\",\"linecolor\":\"#A2B1C6\",\"ticks\":\"\"},\"bgcolor\":\"white\",\"caxis\":{\"gridcolor\":\"#DFE8F3\",\"linecolor\":\"#A2B1C6\",\"ticks\":\"\"}},\"title\":{\"x\":0.05},\"xaxis\":{\"automargin\":true,\"gridcolor\":\"#EBF0F8\",\"linecolor\":\"#EBF0F8\",\"ticks\":\"\",\"title\":{\"standoff\":15},\"zerolinecolor\":\"#EBF0F8\",\"zerolinewidth\":2},\"yaxis\":{\"automargin\":true,\"gridcolor\":\"#EBF0F8\",\"linecolor\":\"#EBF0F8\",\"ticks\":\"\",\"title\":{\"standoff\":15},\"zerolinecolor\":\"#EBF0F8\",\"zerolinewidth\":2}}},\"title\":{\"text\":\"Humidity (2016)\",\"x\":0.5},\"xaxis\":{\"title\":{\"text\":\"Date\"}},\"yaxis\":{\"title\":{\"text\":\"Value\"}},\"height\":380},                        {\"responsive\": true}                    ).then(function(){\n",
       "                            \n",
       "var gd = document.getElementById('e0e80c9c-f22b-4f26-ade0-82dd64d0599d');\n",
       "var x = new MutationObserver(function (mutations, observer) {{\n",
       "        var display = window.getComputedStyle(gd).display;\n",
       "        if (!display || display === 'none') {{\n",
       "            console.log([gd, 'removed!']);\n",
       "            Plotly.purge(gd);\n",
       "            observer.disconnect();\n",
       "        }}\n",
       "}});\n",
       "\n",
       "// Listen for the removal of the full notebook cells\n",
       "var notebookContainer = gd.closest('#notebook-container');\n",
       "if (notebookContainer) {{\n",
       "    x.observe(notebookContainer, {childList: true});\n",
       "}}\n",
       "\n",
       "// Listen for the clearing of the current output cell\n",
       "var outputEl = gd.closest('.output');\n",
       "if (outputEl) {{\n",
       "    x.observe(outputEl, {childList: true});\n",
       "}}\n",
       "\n",
       "                        })                };                });            </script>        </div>"
      ]
     },
     "metadata": {},
     "output_type": "display_data"
    },
    {
     "data": {
      "text/html": [
       "<div>                            <div id=\"744b9f79-4ced-439f-957f-77e1d2d8f061\" class=\"plotly-graph-div\" style=\"height:380px; width:100%;\"></div>            <script type=\"text/javascript\">                require([\"plotly\"], function(Plotly) {                    window.PLOTLYENV=window.PLOTLYENV || {};                                    if (document.getElementById(\"744b9f79-4ced-439f-957f-77e1d2d8f061\")) {                    Plotly.newPlot(                        \"744b9f79-4ced-439f-957f-77e1d2d8f061\",                        [{\"line\":{\"color\":\"red\"},\"mode\":\"lines\",\"x\":[\"2013-01-01T00:00:00\",\"2013-01-02T00:00:00\",\"2013-01-03T00:00:00\",\"2013-01-04T00:00:00\",\"2013-01-05T00:00:00\",\"2013-01-06T00:00:00\",\"2013-01-07T00:00:00\",\"2013-01-08T00:00:00\",\"2013-01-09T00:00:00\",\"2013-01-10T00:00:00\",\"2013-01-11T00:00:00\",\"2013-01-12T00:00:00\",\"2013-01-13T00:00:00\",\"2013-01-14T00:00:00\",\"2013-01-15T00:00:00\",\"2013-01-16T00:00:00\",\"2013-01-17T00:00:00\",\"2013-01-18T00:00:00\",\"2013-01-19T00:00:00\",\"2013-01-20T00:00:00\",\"2013-01-21T00:00:00\",\"2013-01-22T00:00:00\",\"2013-01-23T00:00:00\",\"2013-01-24T00:00:00\",\"2013-01-25T00:00:00\",\"2013-01-26T00:00:00\",\"2013-01-27T00:00:00\",\"2013-01-28T00:00:00\",\"2013-01-29T00:00:00\",\"2013-01-30T00:00:00\",\"2013-01-31T00:00:00\",\"2013-02-01T00:00:00\",\"2013-02-02T00:00:00\",\"2013-02-03T00:00:00\",\"2013-02-04T00:00:00\",\"2013-02-05T00:00:00\",\"2013-02-06T00:00:00\",\"2013-02-07T00:00:00\",\"2013-02-08T00:00:00\",\"2013-02-09T00:00:00\",\"2013-02-10T00:00:00\",\"2013-02-11T00:00:00\",\"2013-02-12T00:00:00\",\"2013-02-13T00:00:00\",\"2013-02-14T00:00:00\",\"2013-02-15T00:00:00\",\"2013-02-16T00:00:00\",\"2013-02-17T00:00:00\",\"2013-02-18T00:00:00\",\"2013-02-19T00:00:00\",\"2013-02-20T00:00:00\",\"2013-02-21T00:00:00\",\"2013-02-22T00:00:00\",\"2013-02-23T00:00:00\",\"2013-02-24T00:00:00\",\"2013-02-25T00:00:00\",\"2013-02-26T00:00:00\",\"2013-02-27T00:00:00\",\"2013-02-28T00:00:00\",\"2013-03-01T00:00:00\",\"2013-03-02T00:00:00\",\"2013-03-03T00:00:00\",\"2013-03-04T00:00:00\",\"2013-03-05T00:00:00\",\"2013-03-06T00:00:00\",\"2013-03-07T00:00:00\",\"2013-03-08T00:00:00\",\"2013-03-09T00:00:00\",\"2013-03-10T00:00:00\",\"2013-03-11T00:00:00\",\"2013-03-12T00:00:00\",\"2013-03-13T00:00:00\",\"2013-03-14T00:00:00\",\"2013-03-15T00:00:00\",\"2013-03-16T00:00:00\",\"2013-03-17T00:00:00\",\"2013-03-18T00:00:00\",\"2013-03-19T00:00:00\",\"2013-03-20T00:00:00\",\"2013-03-21T00:00:00\",\"2013-03-22T00:00:00\",\"2013-03-23T00:00:00\",\"2013-03-24T00:00:00\",\"2013-03-25T00:00:00\",\"2013-03-26T00:00:00\",\"2013-03-27T00:00:00\",\"2013-03-28T00:00:00\",\"2013-03-29T00:00:00\",\"2013-03-30T00:00:00\",\"2013-03-31T00:00:00\",\"2013-04-01T00:00:00\",\"2013-04-02T00:00:00\",\"2013-04-03T00:00:00\",\"2013-04-04T00:00:00\",\"2013-04-05T00:00:00\",\"2013-04-06T00:00:00\",\"2013-04-07T00:00:00\",\"2013-04-08T00:00:00\",\"2013-04-09T00:00:00\",\"2013-04-10T00:00:00\",\"2013-04-11T00:00:00\",\"2013-04-12T00:00:00\",\"2013-04-13T00:00:00\",\"2013-04-14T00:00:00\",\"2013-04-15T00:00:00\",\"2013-04-16T00:00:00\",\"2013-04-17T00:00:00\",\"2013-04-18T00:00:00\",\"2013-04-19T00:00:00\",\"2013-04-20T00:00:00\",\"2013-04-21T00:00:00\",\"2013-04-22T00:00:00\",\"2013-04-23T00:00:00\",\"2013-04-24T00:00:00\",\"2013-04-25T00:00:00\",\"2013-04-26T00:00:00\",\"2013-04-27T00:00:00\",\"2013-04-28T00:00:00\",\"2013-04-29T00:00:00\",\"2013-04-30T00:00:00\",\"2013-05-01T00:00:00\",\"2013-05-02T00:00:00\",\"2013-05-03T00:00:00\",\"2013-05-04T00:00:00\",\"2013-05-05T00:00:00\",\"2013-05-06T00:00:00\",\"2013-05-07T00:00:00\",\"2013-05-08T00:00:00\",\"2013-05-09T00:00:00\",\"2013-05-10T00:00:00\",\"2013-05-11T00:00:00\",\"2013-05-12T00:00:00\",\"2013-05-13T00:00:00\",\"2013-05-14T00:00:00\",\"2013-05-15T00:00:00\",\"2013-05-16T00:00:00\",\"2013-05-17T00:00:00\",\"2013-05-18T00:00:00\",\"2013-05-19T00:00:00\",\"2013-05-20T00:00:00\",\"2013-05-21T00:00:00\",\"2013-05-22T00:00:00\",\"2013-05-23T00:00:00\",\"2013-05-24T00:00:00\",\"2013-05-25T00:00:00\",\"2013-05-26T00:00:00\",\"2013-05-27T00:00:00\",\"2013-05-28T00:00:00\",\"2013-05-29T00:00:00\",\"2013-05-30T00:00:00\",\"2013-05-31T00:00:00\",\"2013-06-01T00:00:00\",\"2013-06-02T00:00:00\",\"2013-06-03T00:00:00\",\"2013-06-04T00:00:00\",\"2013-06-05T00:00:00\",\"2013-06-06T00:00:00\",\"2013-06-07T00:00:00\",\"2013-06-08T00:00:00\",\"2013-06-09T00:00:00\",\"2013-06-10T00:00:00\",\"2013-06-11T00:00:00\",\"2013-06-12T00:00:00\",\"2013-06-13T00:00:00\",\"2013-06-14T00:00:00\",\"2013-06-15T00:00:00\",\"2013-06-16T00:00:00\",\"2013-06-17T00:00:00\",\"2013-06-18T00:00:00\",\"2013-06-19T00:00:00\",\"2013-06-20T00:00:00\",\"2013-06-21T00:00:00\",\"2013-06-22T00:00:00\",\"2013-06-23T00:00:00\",\"2013-06-24T00:00:00\",\"2013-06-25T00:00:00\",\"2013-06-26T00:00:00\",\"2013-06-27T00:00:00\",\"2013-06-28T00:00:00\",\"2013-06-29T00:00:00\",\"2013-06-30T00:00:00\",\"2013-07-01T00:00:00\",\"2013-07-02T00:00:00\",\"2013-07-03T00:00:00\",\"2013-07-04T00:00:00\",\"2013-07-05T00:00:00\",\"2013-07-06T00:00:00\",\"2013-07-07T00:00:00\",\"2013-07-08T00:00:00\",\"2013-07-09T00:00:00\",\"2013-07-10T00:00:00\",\"2013-07-11T00:00:00\",\"2013-07-12T00:00:00\",\"2013-07-13T00:00:00\",\"2013-07-14T00:00:00\",\"2013-07-15T00:00:00\",\"2013-07-16T00:00:00\",\"2013-07-17T00:00:00\",\"2013-07-18T00:00:00\",\"2013-07-19T00:00:00\",\"2013-07-20T00:00:00\",\"2013-07-21T00:00:00\",\"2013-07-22T00:00:00\",\"2013-07-23T00:00:00\",\"2013-07-24T00:00:00\",\"2013-07-25T00:00:00\",\"2013-07-26T00:00:00\",\"2013-07-27T00:00:00\",\"2013-07-28T00:00:00\",\"2013-07-29T00:00:00\",\"2013-07-30T00:00:00\",\"2013-07-31T00:00:00\",\"2013-08-01T00:00:00\",\"2013-08-02T00:00:00\",\"2013-08-03T00:00:00\",\"2013-08-04T00:00:00\",\"2013-08-05T00:00:00\",\"2013-08-06T00:00:00\",\"2013-08-07T00:00:00\",\"2013-08-08T00:00:00\",\"2013-08-09T00:00:00\",\"2013-08-10T00:00:00\",\"2013-08-11T00:00:00\",\"2013-08-12T00:00:00\",\"2013-08-13T00:00:00\",\"2013-08-14T00:00:00\",\"2013-08-15T00:00:00\",\"2013-08-16T00:00:00\",\"2013-08-17T00:00:00\",\"2013-08-18T00:00:00\",\"2013-08-19T00:00:00\",\"2013-08-20T00:00:00\",\"2013-08-21T00:00:00\",\"2013-08-22T00:00:00\",\"2013-08-23T00:00:00\",\"2013-08-24T00:00:00\",\"2013-08-25T00:00:00\",\"2013-08-26T00:00:00\",\"2013-08-27T00:00:00\",\"2013-08-28T00:00:00\",\"2013-08-29T00:00:00\",\"2013-08-30T00:00:00\",\"2013-08-31T00:00:00\",\"2013-09-01T00:00:00\",\"2013-09-02T00:00:00\",\"2013-09-03T00:00:00\",\"2013-09-04T00:00:00\",\"2013-09-05T00:00:00\",\"2013-09-06T00:00:00\",\"2013-09-07T00:00:00\",\"2013-09-08T00:00:00\",\"2013-09-09T00:00:00\",\"2013-09-10T00:00:00\",\"2013-09-11T00:00:00\",\"2013-09-12T00:00:00\",\"2013-09-13T00:00:00\",\"2013-09-14T00:00:00\",\"2013-09-15T00:00:00\",\"2013-09-16T00:00:00\",\"2013-09-17T00:00:00\",\"2013-09-18T00:00:00\",\"2013-09-19T00:00:00\",\"2013-09-20T00:00:00\",\"2013-09-21T00:00:00\",\"2013-09-22T00:00:00\",\"2013-09-23T00:00:00\",\"2013-09-24T00:00:00\",\"2013-09-25T00:00:00\",\"2013-09-26T00:00:00\",\"2013-09-27T00:00:00\",\"2013-09-28T00:00:00\",\"2013-09-29T00:00:00\",\"2013-09-30T00:00:00\",\"2013-10-01T00:00:00\",\"2013-10-02T00:00:00\",\"2013-10-03T00:00:00\",\"2013-10-04T00:00:00\",\"2013-10-05T00:00:00\",\"2013-10-06T00:00:00\",\"2013-10-07T00:00:00\",\"2013-10-08T00:00:00\",\"2013-10-09T00:00:00\",\"2013-10-10T00:00:00\",\"2013-10-11T00:00:00\",\"2013-10-12T00:00:00\",\"2013-10-13T00:00:00\",\"2013-10-14T00:00:00\",\"2013-10-15T00:00:00\",\"2013-10-16T00:00:00\",\"2013-10-17T00:00:00\",\"2013-10-18T00:00:00\",\"2013-10-19T00:00:00\",\"2013-10-20T00:00:00\",\"2013-10-21T00:00:00\",\"2013-10-22T00:00:00\",\"2013-10-23T00:00:00\",\"2013-10-24T00:00:00\",\"2013-10-25T00:00:00\",\"2013-10-26T00:00:00\",\"2013-10-27T00:00:00\",\"2013-10-28T00:00:00\",\"2013-10-29T00:00:00\",\"2013-10-30T00:00:00\",\"2013-10-31T00:00:00\",\"2013-11-01T00:00:00\",\"2013-11-02T00:00:00\",\"2013-11-03T00:00:00\",\"2013-11-04T00:00:00\",\"2013-11-05T00:00:00\",\"2013-11-06T00:00:00\",\"2013-11-07T00:00:00\",\"2013-11-08T00:00:00\",\"2013-11-09T00:00:00\",\"2013-11-10T00:00:00\",\"2013-11-11T00:00:00\",\"2013-11-12T00:00:00\",\"2013-11-13T00:00:00\",\"2013-11-14T00:00:00\",\"2013-11-15T00:00:00\",\"2013-11-16T00:00:00\",\"2013-11-17T00:00:00\",\"2013-11-18T00:00:00\",\"2013-11-19T00:00:00\",\"2013-11-20T00:00:00\",\"2013-11-21T00:00:00\",\"2013-11-22T00:00:00\",\"2013-11-23T00:00:00\",\"2013-11-24T00:00:00\",\"2013-11-25T00:00:00\",\"2013-11-26T00:00:00\",\"2013-11-27T00:00:00\",\"2013-11-28T00:00:00\",\"2013-11-29T00:00:00\",\"2013-11-30T00:00:00\",\"2013-12-01T00:00:00\",\"2013-12-02T00:00:00\",\"2013-12-03T00:00:00\",\"2013-12-04T00:00:00\",\"2013-12-05T00:00:00\",\"2013-12-06T00:00:00\",\"2013-12-07T00:00:00\",\"2013-12-08T00:00:00\",\"2013-12-09T00:00:00\",\"2013-12-10T00:00:00\",\"2013-12-11T00:00:00\",\"2013-12-12T00:00:00\",\"2013-12-13T00:00:00\",\"2013-12-14T00:00:00\",\"2013-12-15T00:00:00\",\"2013-12-16T00:00:00\",\"2013-12-17T00:00:00\",\"2013-12-18T00:00:00\",\"2013-12-19T00:00:00\",\"2013-12-20T00:00:00\",\"2013-12-21T00:00:00\",\"2013-12-22T00:00:00\",\"2013-12-23T00:00:00\",\"2013-12-24T00:00:00\",\"2013-12-25T00:00:00\",\"2013-12-26T00:00:00\",\"2013-12-27T00:00:00\",\"2013-12-28T00:00:00\",\"2013-12-29T00:00:00\",\"2013-12-30T00:00:00\",\"2013-12-31T00:00:00\"],\"y\":[0.0,2.98,4.633333333333334,1.2333333333333334,3.7,1.48,6.3,7.142857142857143,12.5,7.399999999999999,10.571428571428571,13.228571428571428,4.633333333333334,0.6166666666666667,0.5285714285714286,0.0,5.250000000000001,8.950000000000001,5.883333333333333,8.471428571428572,2.22,3.083333333333333,4.016666666666667,6.166666666666667,5.55,6.800000000000001,5.557142857142857,3.7,3.2375,1.0571428571428572,2.96,2.22,1.3285714285714287,1.8571428571428568,11.114285714285714,9.725,8.633333333333333,10.74,9.257142857142856,9.257142857142856,3.475,5.325,7.416666666666667,6.085714285714287,4.333333333333333,10.183333333333335,8.485714285714286,0.0,12.220000000000002,5.814285714285715,5.814285714285715,6.614285714285714,10.875000000000002,9.257142857142856,7.400000000000001,4.6375,17.587500000000002,6.660000000000001,12.957142857142856,24.066666666666663,15.725,8.633333333333333,5.5600000000000005,4.1625000000000005,6.871428571428573,8.728571428571428,7.1000000000000005,5.285714285714286,4.228571428571429,0.9333333333333332,4.933333333333334,5.55,12.033333333333331,7.716666666666668,3.7,8.95,17.457142857142856,10.483333333333333,6.800000000000001,10.5,9.7125,9.95,10.8875,15.9625,12.957142857142856,1.85,7.4142857142857155,5.550000000000001,11.1125,6.660000000000001,4.4,8.65,8.14,11.12,15.56,11.900000000000002,10.314285714285717,5.3,8.65,6.1,7.780000000000001,6.342857142857143,10.000000000000002,6.487499999999999,6.25,10.425,6.659999999999999,4.757142857142858,3.971428571428571,7.6375,13.883333333333333,7.650000000000001,4.625000000000001,2.1142857142857143,3.7,6.7125,13.485714285714286,12.971428571428572,7.875,7.928571428571429,12.685714285714289,11.433333333333335,9.0,2.914285714285714,3.0125,3.7,7.175000000000001,9.25,8.985714285714284,9.528571428571428,14.8125,5.828571428571428,3.971428571428572,4.771428571428571,3.2375000000000003,7.175000000000001,9.866666666666667,12.966666666666669,15.749999999999998,7.4,11.371428571428572,17.5875,13.566666666666668,11.385714285714286,10.314285714285717,10.74,8.72857142857143,8.333333333333334,5.557142857142858,5.5600000000000005,10.6375,13.4375,14.2,12.239999999999998,5.028571428571429,9.866666666666664,10.042857142857144,7.412500000000001,13.34,11.416666666666666,8.100000000000001,16.349999999999998,7.4142857142857155,9.866666666666664,7.942857142857142,13.22857142857143,8.485714285714286,8.3375,5.18,4.228571428571429,4.771428571428571,5.866666666666667,10.74,8.350000000000001,13.22857142857143,11.114285714285716,6.483333333333333,7.957142857142856,8.8125,13.875,10.5,8.728571428571428,9.8,6.357142857142857,9.25,12.96,11.37142857142857,7.1000000000000005,6.483333333333334,8.016666666666667,6.4875,7.116666666666667,5.562500000000001,12.0625,4.8125,13.5375,9.0,8.65,5.550000000000001,9.266666666666666,4.933333333333333,2.24,4.333333333333333,3.971428571428572,3.971428571428571,8.016666666666667,5.571428571428572,4.228571428571429,6.085714285714286,4.771428571428571,8.016666666666667,9.866666666666664,5.550000000000001,11.114285714285716,10.816666666666665,5.1,6.783333333333334,4.016666666666667,3.25,6.166666666666667,3.716666666666667,6.1000000000000005,6.800000000000001,8.350000000000001,11.125,9.866666666666667,8.2,4.46,14.285714285714286,1.2333333333333334,5.550000000000001,5.325,10.314285714285717,6.483333333333334,2.642857142857143,18.525,0.925,6.475,17.071428571428573,11.642857142857142,9.275,3.1,4.65,11.48,15.342857142857142,14.8,14.54285714285714,13.566666666666668,10.042857142857144,6.783333333333334,2.325,42.22,3.7,3.971428571428571,2.7833333333333337,3.171428571428572,2.7833333333333337,3.9375,7.100000000000001,3.475,5.557142857142858,2.96,9.583333333333334,5.18,3.083333333333333,4.5,5.7875000000000005,6.614285714285715,4.08,7.4125,1.2333333333333334,5.557142857142858,4.228571428571429,6.371428571428571,7.42,7.4,6.783333333333334,2.0875,1.85,1.585714285714286,0.0,5.566666666666667,3.971428571428572,4.242857142857143,2.914285714285714,0.6166666666666667,5.557142857142858,3.7,0.0,1.0571428571428572,0.0,2.1142857142857143,1.55,1.3875000000000002,0.0,1.1625,1.0571428571428572,1.86,0.74,2.5500000000000003,4.933333333333334,3.971428571428571,2.385714285714286,3.083333333333333,1.0571428571428572,4.6375,5.5625,2.466666666666667,0.0,3.185714285714285,4.500000000000001,19.9125,0.5285714285714286,2.466666666666667,5.814285714285715,0.7999999999999999,3.0125,3.475,0.925,0.0,2.3857142857142857,7.412500000000001,7.175,2.55,2.0875,1.1625,0.7999999999999999,5.0875,9.5,9.75,2.7875,1.85,4.8625,11.8125,1.585714285714286,1.85,1.3875,4.228571428571429,6.885714285714286,3.7125,1.1625,0.0,2.3125,2.55,6.475000000000001,16.9,11.62857142857143,0.7999999999999999,2.55,1.1625,0.925,2.0875,3.25,4.4125000000000005,0.4625,1.3875000000000002,9.025,5.7875000000000005,34.4875,4.4,1.1625,5.325,5.325,6.4750000000000005,4.862500000000001],\"type\":\"scatter\"}],                        {\"template\":{\"data\":{\"barpolar\":[{\"marker\":{\"line\":{\"color\":\"white\",\"width\":0.5},\"pattern\":{\"fillmode\":\"overlay\",\"size\":10,\"solidity\":0.2}},\"type\":\"barpolar\"}],\"bar\":[{\"error_x\":{\"color\":\"#2a3f5f\"},\"error_y\":{\"color\":\"#2a3f5f\"},\"marker\":{\"line\":{\"color\":\"white\",\"width\":0.5},\"pattern\":{\"fillmode\":\"overlay\",\"size\":10,\"solidity\":0.2}},\"type\":\"bar\"}],\"carpet\":[{\"aaxis\":{\"endlinecolor\":\"#2a3f5f\",\"gridcolor\":\"#C8D4E3\",\"linecolor\":\"#C8D4E3\",\"minorgridcolor\":\"#C8D4E3\",\"startlinecolor\":\"#2a3f5f\"},\"baxis\":{\"endlinecolor\":\"#2a3f5f\",\"gridcolor\":\"#C8D4E3\",\"linecolor\":\"#C8D4E3\",\"minorgridcolor\":\"#C8D4E3\",\"startlinecolor\":\"#2a3f5f\"},\"type\":\"carpet\"}],\"choropleth\":[{\"colorbar\":{\"outlinewidth\":0,\"ticks\":\"\"},\"type\":\"choropleth\"}],\"contourcarpet\":[{\"colorbar\":{\"outlinewidth\":0,\"ticks\":\"\"},\"type\":\"contourcarpet\"}],\"contour\":[{\"colorbar\":{\"outlinewidth\":0,\"ticks\":\"\"},\"colorscale\":[[0.0,\"#0d0887\"],[0.1111111111111111,\"#46039f\"],[0.2222222222222222,\"#7201a8\"],[0.3333333333333333,\"#9c179e\"],[0.4444444444444444,\"#bd3786\"],[0.5555555555555556,\"#d8576b\"],[0.6666666666666666,\"#ed7953\"],[0.7777777777777778,\"#fb9f3a\"],[0.8888888888888888,\"#fdca26\"],[1.0,\"#f0f921\"]],\"type\":\"contour\"}],\"heatmapgl\":[{\"colorbar\":{\"outlinewidth\":0,\"ticks\":\"\"},\"colorscale\":[[0.0,\"#0d0887\"],[0.1111111111111111,\"#46039f\"],[0.2222222222222222,\"#7201a8\"],[0.3333333333333333,\"#9c179e\"],[0.4444444444444444,\"#bd3786\"],[0.5555555555555556,\"#d8576b\"],[0.6666666666666666,\"#ed7953\"],[0.7777777777777778,\"#fb9f3a\"],[0.8888888888888888,\"#fdca26\"],[1.0,\"#f0f921\"]],\"type\":\"heatmapgl\"}],\"heatmap\":[{\"colorbar\":{\"outlinewidth\":0,\"ticks\":\"\"},\"colorscale\":[[0.0,\"#0d0887\"],[0.1111111111111111,\"#46039f\"],[0.2222222222222222,\"#7201a8\"],[0.3333333333333333,\"#9c179e\"],[0.4444444444444444,\"#bd3786\"],[0.5555555555555556,\"#d8576b\"],[0.6666666666666666,\"#ed7953\"],[0.7777777777777778,\"#fb9f3a\"],[0.8888888888888888,\"#fdca26\"],[1.0,\"#f0f921\"]],\"type\":\"heatmap\"}],\"histogram2dcontour\":[{\"colorbar\":{\"outlinewidth\":0,\"ticks\":\"\"},\"colorscale\":[[0.0,\"#0d0887\"],[0.1111111111111111,\"#46039f\"],[0.2222222222222222,\"#7201a8\"],[0.3333333333333333,\"#9c179e\"],[0.4444444444444444,\"#bd3786\"],[0.5555555555555556,\"#d8576b\"],[0.6666666666666666,\"#ed7953\"],[0.7777777777777778,\"#fb9f3a\"],[0.8888888888888888,\"#fdca26\"],[1.0,\"#f0f921\"]],\"type\":\"histogram2dcontour\"}],\"histogram2d\":[{\"colorbar\":{\"outlinewidth\":0,\"ticks\":\"\"},\"colorscale\":[[0.0,\"#0d0887\"],[0.1111111111111111,\"#46039f\"],[0.2222222222222222,\"#7201a8\"],[0.3333333333333333,\"#9c179e\"],[0.4444444444444444,\"#bd3786\"],[0.5555555555555556,\"#d8576b\"],[0.6666666666666666,\"#ed7953\"],[0.7777777777777778,\"#fb9f3a\"],[0.8888888888888888,\"#fdca26\"],[1.0,\"#f0f921\"]],\"type\":\"histogram2d\"}],\"histogram\":[{\"marker\":{\"pattern\":{\"fillmode\":\"overlay\",\"size\":10,\"solidity\":0.2}},\"type\":\"histogram\"}],\"mesh3d\":[{\"colorbar\":{\"outlinewidth\":0,\"ticks\":\"\"},\"type\":\"mesh3d\"}],\"parcoords\":[{\"line\":{\"colorbar\":{\"outlinewidth\":0,\"ticks\":\"\"}},\"type\":\"parcoords\"}],\"pie\":[{\"automargin\":true,\"type\":\"pie\"}],\"scatter3d\":[{\"line\":{\"colorbar\":{\"outlinewidth\":0,\"ticks\":\"\"}},\"marker\":{\"colorbar\":{\"outlinewidth\":0,\"ticks\":\"\"}},\"type\":\"scatter3d\"}],\"scattercarpet\":[{\"marker\":{\"colorbar\":{\"outlinewidth\":0,\"ticks\":\"\"}},\"type\":\"scattercarpet\"}],\"scattergeo\":[{\"marker\":{\"colorbar\":{\"outlinewidth\":0,\"ticks\":\"\"}},\"type\":\"scattergeo\"}],\"scattergl\":[{\"marker\":{\"colorbar\":{\"outlinewidth\":0,\"ticks\":\"\"}},\"type\":\"scattergl\"}],\"scattermapbox\":[{\"marker\":{\"colorbar\":{\"outlinewidth\":0,\"ticks\":\"\"}},\"type\":\"scattermapbox\"}],\"scatterpolargl\":[{\"marker\":{\"colorbar\":{\"outlinewidth\":0,\"ticks\":\"\"}},\"type\":\"scatterpolargl\"}],\"scatterpolar\":[{\"marker\":{\"colorbar\":{\"outlinewidth\":0,\"ticks\":\"\"}},\"type\":\"scatterpolar\"}],\"scatter\":[{\"fillpattern\":{\"fillmode\":\"overlay\",\"size\":10,\"solidity\":0.2},\"type\":\"scatter\"}],\"scatterternary\":[{\"marker\":{\"colorbar\":{\"outlinewidth\":0,\"ticks\":\"\"}},\"type\":\"scatterternary\"}],\"surface\":[{\"colorbar\":{\"outlinewidth\":0,\"ticks\":\"\"},\"colorscale\":[[0.0,\"#0d0887\"],[0.1111111111111111,\"#46039f\"],[0.2222222222222222,\"#7201a8\"],[0.3333333333333333,\"#9c179e\"],[0.4444444444444444,\"#bd3786\"],[0.5555555555555556,\"#d8576b\"],[0.6666666666666666,\"#ed7953\"],[0.7777777777777778,\"#fb9f3a\"],[0.8888888888888888,\"#fdca26\"],[1.0,\"#f0f921\"]],\"type\":\"surface\"}],\"table\":[{\"cells\":{\"fill\":{\"color\":\"#EBF0F8\"},\"line\":{\"color\":\"white\"}},\"header\":{\"fill\":{\"color\":\"#C8D4E3\"},\"line\":{\"color\":\"white\"}},\"type\":\"table\"}]},\"layout\":{\"annotationdefaults\":{\"arrowcolor\":\"#2a3f5f\",\"arrowhead\":0,\"arrowwidth\":1},\"autotypenumbers\":\"strict\",\"coloraxis\":{\"colorbar\":{\"outlinewidth\":0,\"ticks\":\"\"}},\"colorscale\":{\"diverging\":[[0,\"#8e0152\"],[0.1,\"#c51b7d\"],[0.2,\"#de77ae\"],[0.3,\"#f1b6da\"],[0.4,\"#fde0ef\"],[0.5,\"#f7f7f7\"],[0.6,\"#e6f5d0\"],[0.7,\"#b8e186\"],[0.8,\"#7fbc41\"],[0.9,\"#4d9221\"],[1,\"#276419\"]],\"sequential\":[[0.0,\"#0d0887\"],[0.1111111111111111,\"#46039f\"],[0.2222222222222222,\"#7201a8\"],[0.3333333333333333,\"#9c179e\"],[0.4444444444444444,\"#bd3786\"],[0.5555555555555556,\"#d8576b\"],[0.6666666666666666,\"#ed7953\"],[0.7777777777777778,\"#fb9f3a\"],[0.8888888888888888,\"#fdca26\"],[1.0,\"#f0f921\"]],\"sequentialminus\":[[0.0,\"#0d0887\"],[0.1111111111111111,\"#46039f\"],[0.2222222222222222,\"#7201a8\"],[0.3333333333333333,\"#9c179e\"],[0.4444444444444444,\"#bd3786\"],[0.5555555555555556,\"#d8576b\"],[0.6666666666666666,\"#ed7953\"],[0.7777777777777778,\"#fb9f3a\"],[0.8888888888888888,\"#fdca26\"],[1.0,\"#f0f921\"]]},\"colorway\":[\"#636efa\",\"#EF553B\",\"#00cc96\",\"#ab63fa\",\"#FFA15A\",\"#19d3f3\",\"#FF6692\",\"#B6E880\",\"#FF97FF\",\"#FECB52\"],\"font\":{\"color\":\"#2a3f5f\"},\"geo\":{\"bgcolor\":\"white\",\"lakecolor\":\"white\",\"landcolor\":\"white\",\"showlakes\":true,\"showland\":true,\"subunitcolor\":\"#C8D4E3\"},\"hoverlabel\":{\"align\":\"left\"},\"hovermode\":\"closest\",\"mapbox\":{\"style\":\"light\"},\"paper_bgcolor\":\"white\",\"plot_bgcolor\":\"white\",\"polar\":{\"angularaxis\":{\"gridcolor\":\"#EBF0F8\",\"linecolor\":\"#EBF0F8\",\"ticks\":\"\"},\"bgcolor\":\"white\",\"radialaxis\":{\"gridcolor\":\"#EBF0F8\",\"linecolor\":\"#EBF0F8\",\"ticks\":\"\"}},\"scene\":{\"xaxis\":{\"backgroundcolor\":\"white\",\"gridcolor\":\"#DFE8F3\",\"gridwidth\":2,\"linecolor\":\"#EBF0F8\",\"showbackground\":true,\"ticks\":\"\",\"zerolinecolor\":\"#EBF0F8\"},\"yaxis\":{\"backgroundcolor\":\"white\",\"gridcolor\":\"#DFE8F3\",\"gridwidth\":2,\"linecolor\":\"#EBF0F8\",\"showbackground\":true,\"ticks\":\"\",\"zerolinecolor\":\"#EBF0F8\"},\"zaxis\":{\"backgroundcolor\":\"white\",\"gridcolor\":\"#DFE8F3\",\"gridwidth\":2,\"linecolor\":\"#EBF0F8\",\"showbackground\":true,\"ticks\":\"\",\"zerolinecolor\":\"#EBF0F8\"}},\"shapedefaults\":{\"line\":{\"color\":\"#2a3f5f\"}},\"ternary\":{\"aaxis\":{\"gridcolor\":\"#DFE8F3\",\"linecolor\":\"#A2B1C6\",\"ticks\":\"\"},\"baxis\":{\"gridcolor\":\"#DFE8F3\",\"linecolor\":\"#A2B1C6\",\"ticks\":\"\"},\"bgcolor\":\"white\",\"caxis\":{\"gridcolor\":\"#DFE8F3\",\"linecolor\":\"#A2B1C6\",\"ticks\":\"\"}},\"title\":{\"x\":0.05},\"xaxis\":{\"automargin\":true,\"gridcolor\":\"#EBF0F8\",\"linecolor\":\"#EBF0F8\",\"ticks\":\"\",\"title\":{\"standoff\":15},\"zerolinecolor\":\"#EBF0F8\",\"zerolinewidth\":2},\"yaxis\":{\"automargin\":true,\"gridcolor\":\"#EBF0F8\",\"linecolor\":\"#EBF0F8\",\"ticks\":\"\",\"title\":{\"standoff\":15},\"zerolinecolor\":\"#EBF0F8\",\"zerolinewidth\":2}}},\"title\":{\"text\":\"Wind Speed (2013)\",\"x\":0.5},\"xaxis\":{\"title\":{\"text\":\"Date\"}},\"yaxis\":{\"title\":{\"text\":\"Value\"}},\"height\":380},                        {\"responsive\": true}                    ).then(function(){\n",
       "                            \n",
       "var gd = document.getElementById('744b9f79-4ced-439f-957f-77e1d2d8f061');\n",
       "var x = new MutationObserver(function (mutations, observer) {{\n",
       "        var display = window.getComputedStyle(gd).display;\n",
       "        if (!display || display === 'none') {{\n",
       "            console.log([gd, 'removed!']);\n",
       "            Plotly.purge(gd);\n",
       "            observer.disconnect();\n",
       "        }}\n",
       "}});\n",
       "\n",
       "// Listen for the removal of the full notebook cells\n",
       "var notebookContainer = gd.closest('#notebook-container');\n",
       "if (notebookContainer) {{\n",
       "    x.observe(notebookContainer, {childList: true});\n",
       "}}\n",
       "\n",
       "// Listen for the clearing of the current output cell\n",
       "var outputEl = gd.closest('.output');\n",
       "if (outputEl) {{\n",
       "    x.observe(outputEl, {childList: true});\n",
       "}}\n",
       "\n",
       "                        })                };                });            </script>        </div>"
      ]
     },
     "metadata": {},
     "output_type": "display_data"
    },
    {
     "data": {
      "text/html": [
       "<div>                            <div id=\"ba4aaaee-2ab9-48c2-b76c-6fe218129e04\" class=\"plotly-graph-div\" style=\"height:380px; width:100%;\"></div>            <script type=\"text/javascript\">                require([\"plotly\"], function(Plotly) {                    window.PLOTLYENV=window.PLOTLYENV || {};                                    if (document.getElementById(\"ba4aaaee-2ab9-48c2-b76c-6fe218129e04\")) {                    Plotly.newPlot(                        \"ba4aaaee-2ab9-48c2-b76c-6fe218129e04\",                        [{\"line\":{\"color\":\"red\"},\"mode\":\"lines\",\"x\":[\"2016-01-01T00:00:00\",\"2016-01-02T00:00:00\",\"2016-01-03T00:00:00\",\"2016-01-04T00:00:00\",\"2016-01-05T00:00:00\",\"2016-01-06T00:00:00\",\"2016-01-07T00:00:00\",\"2016-01-08T00:00:00\",\"2016-01-09T00:00:00\",\"2016-01-10T00:00:00\",\"2016-01-11T00:00:00\",\"2016-01-12T00:00:00\",\"2016-01-13T00:00:00\",\"2016-01-14T00:00:00\",\"2016-01-15T00:00:00\",\"2016-01-16T00:00:00\",\"2016-01-17T00:00:00\",\"2016-01-18T00:00:00\",\"2016-01-19T00:00:00\",\"2016-01-20T00:00:00\",\"2016-01-21T00:00:00\",\"2016-01-22T00:00:00\",\"2016-01-23T00:00:00\",\"2016-01-24T00:00:00\",\"2016-01-25T00:00:00\",\"2016-01-26T00:00:00\",\"2016-01-27T00:00:00\",\"2016-01-28T00:00:00\",\"2016-01-29T00:00:00\",\"2016-01-30T00:00:00\",\"2016-01-31T00:00:00\",\"2016-02-01T00:00:00\",\"2016-02-02T00:00:00\",\"2016-02-03T00:00:00\",\"2016-02-04T00:00:00\",\"2016-02-05T00:00:00\",\"2016-02-06T00:00:00\",\"2016-02-07T00:00:00\",\"2016-02-08T00:00:00\",\"2016-02-09T00:00:00\",\"2016-02-10T00:00:00\",\"2016-02-11T00:00:00\",\"2016-02-12T00:00:00\",\"2016-02-13T00:00:00\",\"2016-02-14T00:00:00\",\"2016-02-15T00:00:00\",\"2016-02-16T00:00:00\",\"2016-02-17T00:00:00\",\"2016-02-18T00:00:00\",\"2016-02-19T00:00:00\",\"2016-02-20T00:00:00\",\"2016-02-21T00:00:00\",\"2016-02-22T00:00:00\",\"2016-02-23T00:00:00\",\"2016-02-24T00:00:00\",\"2016-02-25T00:00:00\",\"2016-02-26T00:00:00\",\"2016-02-27T00:00:00\",\"2016-02-28T00:00:00\",\"2016-02-29T00:00:00\",\"2016-03-01T00:00:00\",\"2016-03-02T00:00:00\",\"2016-03-03T00:00:00\",\"2016-03-04T00:00:00\",\"2016-03-05T00:00:00\",\"2016-03-06T00:00:00\",\"2016-03-07T00:00:00\",\"2016-03-08T00:00:00\",\"2016-03-09T00:00:00\",\"2016-03-10T00:00:00\",\"2016-03-11T00:00:00\",\"2016-03-12T00:00:00\",\"2016-03-13T00:00:00\",\"2016-03-14T00:00:00\",\"2016-03-15T00:00:00\",\"2016-03-16T00:00:00\",\"2016-03-17T00:00:00\",\"2016-03-18T00:00:00\",\"2016-03-19T00:00:00\",\"2016-03-20T00:00:00\",\"2016-03-21T00:00:00\",\"2016-03-22T00:00:00\",\"2016-03-23T00:00:00\",\"2016-03-24T00:00:00\",\"2016-03-25T00:00:00\",\"2016-03-26T00:00:00\",\"2016-03-27T00:00:00\",\"2016-03-28T00:00:00\",\"2016-03-29T00:00:00\",\"2016-03-30T00:00:00\",\"2016-03-31T00:00:00\",\"2016-04-01T00:00:00\",\"2016-04-02T00:00:00\",\"2016-04-03T00:00:00\",\"2016-04-04T00:00:00\",\"2016-04-05T00:00:00\",\"2016-04-06T00:00:00\",\"2016-04-07T00:00:00\",\"2016-04-08T00:00:00\",\"2016-04-09T00:00:00\",\"2016-04-10T00:00:00\",\"2016-04-11T00:00:00\",\"2016-04-12T00:00:00\",\"2016-04-13T00:00:00\",\"2016-04-14T00:00:00\",\"2016-04-15T00:00:00\",\"2016-04-16T00:00:00\",\"2016-04-17T00:00:00\",\"2016-04-18T00:00:00\",\"2016-04-19T00:00:00\",\"2016-04-20T00:00:00\",\"2016-04-21T00:00:00\",\"2016-04-22T00:00:00\",\"2016-04-23T00:00:00\",\"2016-04-24T00:00:00\",\"2016-04-25T00:00:00\",\"2016-04-26T00:00:00\",\"2016-04-27T00:00:00\",\"2016-04-28T00:00:00\",\"2016-04-29T00:00:00\",\"2016-04-30T00:00:00\",\"2016-05-01T00:00:00\",\"2016-05-02T00:00:00\",\"2016-05-03T00:00:00\",\"2016-05-04T00:00:00\",\"2016-05-05T00:00:00\",\"2016-05-06T00:00:00\",\"2016-05-07T00:00:00\",\"2016-05-08T00:00:00\",\"2016-05-09T00:00:00\",\"2016-05-10T00:00:00\",\"2016-05-11T00:00:00\",\"2016-05-12T00:00:00\",\"2016-05-13T00:00:00\",\"2016-05-14T00:00:00\",\"2016-05-15T00:00:00\",\"2016-05-16T00:00:00\",\"2016-05-17T00:00:00\",\"2016-05-18T00:00:00\",\"2016-05-19T00:00:00\",\"2016-05-20T00:00:00\",\"2016-05-21T00:00:00\",\"2016-05-22T00:00:00\",\"2016-05-23T00:00:00\",\"2016-05-24T00:00:00\",\"2016-05-25T00:00:00\",\"2016-05-26T00:00:00\",\"2016-05-27T00:00:00\",\"2016-05-28T00:00:00\",\"2016-05-29T00:00:00\",\"2016-05-30T00:00:00\",\"2016-05-31T00:00:00\",\"2016-06-01T00:00:00\",\"2016-06-02T00:00:00\",\"2016-06-03T00:00:00\",\"2016-06-04T00:00:00\",\"2016-06-05T00:00:00\",\"2016-06-06T00:00:00\",\"2016-06-07T00:00:00\",\"2016-06-08T00:00:00\",\"2016-06-09T00:00:00\",\"2016-06-10T00:00:00\",\"2016-06-11T00:00:00\",\"2016-06-12T00:00:00\",\"2016-06-13T00:00:00\",\"2016-06-14T00:00:00\",\"2016-06-15T00:00:00\",\"2016-06-16T00:00:00\",\"2016-06-17T00:00:00\",\"2016-06-18T00:00:00\",\"2016-06-19T00:00:00\",\"2016-06-20T00:00:00\",\"2016-06-21T00:00:00\",\"2016-06-22T00:00:00\",\"2016-06-23T00:00:00\",\"2016-06-24T00:00:00\",\"2016-06-25T00:00:00\",\"2016-06-26T00:00:00\",\"2016-06-27T00:00:00\",\"2016-06-28T00:00:00\",\"2016-06-29T00:00:00\",\"2016-06-30T00:00:00\",\"2016-07-01T00:00:00\",\"2016-07-02T00:00:00\",\"2016-07-03T00:00:00\",\"2016-07-04T00:00:00\",\"2016-07-05T00:00:00\",\"2016-07-06T00:00:00\",\"2016-07-07T00:00:00\",\"2016-07-08T00:00:00\",\"2016-07-09T00:00:00\",\"2016-07-10T00:00:00\",\"2016-07-11T00:00:00\",\"2016-07-12T00:00:00\",\"2016-07-13T00:00:00\",\"2016-07-14T00:00:00\",\"2016-07-15T00:00:00\",\"2016-07-16T00:00:00\",\"2016-07-17T00:00:00\",\"2016-07-18T00:00:00\",\"2016-07-19T00:00:00\",\"2016-07-20T00:00:00\",\"2016-07-21T00:00:00\",\"2016-07-22T00:00:00\",\"2016-07-23T00:00:00\",\"2016-07-24T00:00:00\",\"2016-07-25T00:00:00\",\"2016-07-26T00:00:00\",\"2016-07-27T00:00:00\",\"2016-07-28T00:00:00\",\"2016-07-29T00:00:00\",\"2016-07-30T00:00:00\",\"2016-07-31T00:00:00\",\"2016-08-01T00:00:00\",\"2016-08-02T00:00:00\",\"2016-08-03T00:00:00\",\"2016-08-04T00:00:00\",\"2016-08-05T00:00:00\",\"2016-08-06T00:00:00\",\"2016-08-07T00:00:00\",\"2016-08-08T00:00:00\",\"2016-08-09T00:00:00\",\"2016-08-10T00:00:00\",\"2016-08-11T00:00:00\",\"2016-08-12T00:00:00\",\"2016-08-13T00:00:00\",\"2016-08-14T00:00:00\",\"2016-08-15T00:00:00\",\"2016-08-16T00:00:00\",\"2016-08-17T00:00:00\",\"2016-08-18T00:00:00\",\"2016-08-19T00:00:00\",\"2016-08-20T00:00:00\",\"2016-08-21T00:00:00\",\"2016-08-22T00:00:00\",\"2016-08-23T00:00:00\",\"2016-08-24T00:00:00\",\"2016-08-25T00:00:00\",\"2016-08-26T00:00:00\",\"2016-08-27T00:00:00\",\"2016-08-28T00:00:00\",\"2016-08-29T00:00:00\",\"2016-08-30T00:00:00\",\"2016-08-31T00:00:00\",\"2016-09-01T00:00:00\",\"2016-09-02T00:00:00\",\"2016-09-03T00:00:00\",\"2016-09-04T00:00:00\",\"2016-09-05T00:00:00\",\"2016-09-06T00:00:00\",\"2016-09-07T00:00:00\",\"2016-09-08T00:00:00\",\"2016-09-09T00:00:00\",\"2016-09-10T00:00:00\",\"2016-09-11T00:00:00\",\"2016-09-12T00:00:00\",\"2016-09-13T00:00:00\",\"2016-09-14T00:00:00\",\"2016-09-15T00:00:00\",\"2016-09-16T00:00:00\",\"2016-09-17T00:00:00\",\"2016-09-18T00:00:00\",\"2016-09-19T00:00:00\",\"2016-09-20T00:00:00\",\"2016-09-21T00:00:00\",\"2016-09-22T00:00:00\",\"2016-09-23T00:00:00\",\"2016-09-24T00:00:00\",\"2016-09-25T00:00:00\",\"2016-09-26T00:00:00\",\"2016-09-27T00:00:00\",\"2016-09-28T00:00:00\",\"2016-09-29T00:00:00\",\"2016-09-30T00:00:00\",\"2016-10-01T00:00:00\",\"2016-10-02T00:00:00\",\"2016-10-03T00:00:00\",\"2016-10-04T00:00:00\",\"2016-10-05T00:00:00\",\"2016-10-06T00:00:00\",\"2016-10-07T00:00:00\",\"2016-10-08T00:00:00\",\"2016-10-09T00:00:00\",\"2016-10-10T00:00:00\",\"2016-10-11T00:00:00\",\"2016-10-12T00:00:00\",\"2016-10-13T00:00:00\",\"2016-10-14T00:00:00\",\"2016-10-15T00:00:00\",\"2016-10-16T00:00:00\",\"2016-10-17T00:00:00\",\"2016-10-18T00:00:00\",\"2016-10-19T00:00:00\",\"2016-10-20T00:00:00\",\"2016-10-21T00:00:00\",\"2016-10-22T00:00:00\",\"2016-10-23T00:00:00\",\"2016-10-24T00:00:00\",\"2016-10-25T00:00:00\",\"2016-10-26T00:00:00\",\"2016-10-27T00:00:00\",\"2016-10-28T00:00:00\",\"2016-10-29T00:00:00\",\"2016-10-30T00:00:00\",\"2016-10-31T00:00:00\",\"2016-11-01T00:00:00\",\"2016-11-02T00:00:00\",\"2016-11-03T00:00:00\",\"2016-11-04T00:00:00\",\"2016-11-05T00:00:00\",\"2016-11-06T00:00:00\",\"2016-11-07T00:00:00\",\"2016-11-08T00:00:00\",\"2016-11-09T00:00:00\",\"2016-11-10T00:00:00\",\"2016-11-11T00:00:00\",\"2016-11-12T00:00:00\",\"2016-11-13T00:00:00\",\"2016-11-14T00:00:00\",\"2016-11-15T00:00:00\",\"2016-11-16T00:00:00\",\"2016-11-17T00:00:00\",\"2016-11-18T00:00:00\",\"2016-11-19T00:00:00\",\"2016-11-20T00:00:00\",\"2016-11-21T00:00:00\",\"2016-11-22T00:00:00\",\"2016-11-23T00:00:00\",\"2016-11-24T00:00:00\",\"2016-11-25T00:00:00\",\"2016-11-26T00:00:00\",\"2016-11-27T00:00:00\",\"2016-11-28T00:00:00\",\"2016-11-29T00:00:00\",\"2016-11-30T00:00:00\",\"2016-12-01T00:00:00\",\"2016-12-02T00:00:00\",\"2016-12-03T00:00:00\",\"2016-12-04T00:00:00\",\"2016-12-05T00:00:00\",\"2016-12-06T00:00:00\",\"2016-12-07T00:00:00\",\"2016-12-08T00:00:00\",\"2016-12-09T00:00:00\",\"2016-12-10T00:00:00\",\"2016-12-11T00:00:00\",\"2016-12-12T00:00:00\",\"2016-12-13T00:00:00\",\"2016-12-14T00:00:00\",\"2016-12-15T00:00:00\",\"2016-12-16T00:00:00\",\"2016-12-17T00:00:00\",\"2016-12-18T00:00:00\",\"2016-12-19T00:00:00\",\"2016-12-20T00:00:00\",\"2016-12-21T00:00:00\",\"2016-12-22T00:00:00\",\"2016-12-23T00:00:00\",\"2016-12-24T00:00:00\",\"2016-12-25T00:00:00\",\"2016-12-26T00:00:00\",\"2016-12-27T00:00:00\",\"2016-12-28T00:00:00\",\"2016-12-29T00:00:00\",\"2016-12-30T00:00:00\",\"2016-12-31T00:00:00\"],\"y\":[1.0571428571428572,2.0875,5.112500000000001,0.0,0.6166666666666667,2.3125,0.0,7.887500000000001,8.471428571428572,2.775,1.625,6.03125,5.08,4.300000000000001,10.775,11.239999999999998,2.1066666666666665,1.4800000000000002,4.65,6.193333333333333,7.887499999999998,3.586666666666667,3.2500000000000004,6.624999999999999,4.58,2.5500000000000003,4.025,5.028571428571429,2.54375,1.2,7.762500000000001,7.269230769230768,8.893333333333333,7.622222222222222,6.941666666666666,2.1666666666666665,3.7,2.7875,5.9,5.846153846153848,2.1,6.03125,0.7466666666666666,5.806666666666668,8.071428571428571,5.94,5.435714285714285,3.7071428571428577,5.186666666666667,4.146153846153847,11.11875,17.137500000000003,15.20714285714286,9.785714285714286,2.4437500000000005,5.3375,2.48,3.333333333333334,3.712500000000001,3.712500000000001,1.7,1.7333333333333334,4.292307692307692,6.14375,11.0,5.21875,5.171428571428572,6.742857142857142,9.375,7.981249999999999,6.546666666666667,9.4875,6.84375,6.275,8.646666666666667,10.88125,6.84375,6.7125,3.578571428571429,2.8466666666666667,12.2625,22.1,10.641666666666667,3.2133333333333334,3.3687500000000004,9.393333333333334,9.156249999999996,6.546666666666667,7.293749999999999,7.021428571428571,4.333333333333333,12.035714285714285,5.4625,2.55,8.0,9.26875,3.475,10.85,4.686666666666667,12.61875,5.225,16.04,19.380000000000003,18.64375,10.425,9.8375,11.1125,9.386666666666663,7.175,4.566666666666666,14.01875,15.75,8.35,19.65384615384616,10.1875,6.949999999999999,3.83125,4.981249999999999,11.823076923076922,9.123076923076924,5.2125,8.575,9.513333333333334,6.49375,10.464285714285715,11.246666666666666,8.225,4.65,7.293333333333332,18.425,10.55625,7.774999999999999,5.1,8.07058823529412,4.16875,4.75,9.019999999999998,9.6125,8.45,9.3875,8.413333333333334,10.873333333333331,6.553333333333333,14.95,8.494736842105263,10.160869565217393,15.17692307692308,15.31818181818182,14.405555555555551,11.68125,9.4875,7.4071428571428575,9.133333333333336,11.93125,2.7812500000000004,3.2066666666666666,8.5,11.0,21.30625,8.485714285714284,9.26,10.08125,8.812500000000002,9.1625,12.85,11.859999999999998,10.513333333333332,11.39285714285714,7.425,10.857142857142858,9.387499999999998,7.643750000000001,8.91875,7.418750000000001,5.875000000000001,7.762499999999999,9.664285714285713,7.660000000000001,7.993749999999999,5.435714285714285,8.449999999999998,6.793333333333333,8.35,5.231250000000001,1.96875,3.481250000000001,5.3375,8.878571428571428,5.91875,5.433333333333335,6.73125,4.7,8.046666666666665,5.5625,6.806666666666667,5.21875,7.271428571428571,4.371428571428571,6.6000000000000005,7.653333333333333,13.656249999999998,12.9625,11.48,8.687500000000002,7.768750000000001,2.43125,2.9125000000000005,6.485714285714287,4.293750000000001,5.186666666666667,2.43125,1.86,4.7,5.9125000000000005,6.375,5.45,7.927777777777779,4.319999999999999,6.926666666666667,7.852941176470587,9.440909090909091,9.55,10.159259259259262,7.82142857142857,3.848148148148149,3.2296296296296303,6.369999999999998,12.725,14.66666666666667,6.325,1.7222222222222223,1.917857142857143,10.366666666666667,10.022222222222224,8.237037037037037,6.084,8.419230769230769,6.276923076923075,4.392592592592593,7.15,7.2719999999999985,5.825,8.903846153846153,6.729629629629631,4.148,13.204347826086956,13.263157894736842,11.12307692307692,13.961538461538463,13.437499999999998,9.1,10.808333333333332,11.52222222222222,11.969230769230771,8.15,10.85,8.526666666666666,4.235714285714287,11.9,3.5200000000000005,2.707692307692308,17.908333333333335,2.0875,2.56923076923077,6.0920000000000005,8.107407407407404,3.571428571428573,5.496153846153845,3.1478260869565218,2.986956521739131,1.7807692307692309,2.5200000000000005,3.963636363636364,2.582142857142858,3.170833333333334,4.122222222222223,3.992592592592593,5.770370370370371,3.325,3.2333333333333325,15.825,8.76153846153846,3.184000000000001,4.807407407407408,8.922222222222224,11.371428571428568,13.022222222222224,8.934782608695652,6.662962962962963,7.014285714285715,7.1160000000000005,7.668181818181818,6.459259259259259,9.124,10.695454545454549,13.323076923076924,11.546153846153846,11.188461538461535,12.388461538461542,5.699999999999998,6.044444444444444,7.277777777777777,1.7148148148148148,2.0130434782608697,1.6423076923076925,2.7153846153846155,1.4318181818181817,2.2320000000000007,4.122222222222222,5.784615384615384,2.411111111111111,8.172727272727274,12.750000000000002,7.074074074074074,3.225925925925927,2.968,2.7846153846153854,4.4,1.4961538461538462,4.087999999999999,7.138461538461537,11.55,7.7799999999999985,2.8400000000000003,2.5050000000000003,2.7153846153846155,7.999999999999998,6.604347826086956,8.289473684210526,15.085000000000004,14.494117647058824,12.45909090909091,9.185714285714289,1.238888888888889,4.269565217391306,2.704166666666667,4.945833333333334,5.866666666666666,5.666666666666666,4.9523809523809526,2.5038461538461543,0.925,1.765,1.3125,5.355555555555556,4.716666666666667,3.2818181818181817,3.4300000000000006,8.027777777777775,9.879166666666666,3.9166666666666674,6.731578947368422,6.420833333333331,10.414285714285716,15.926666666666671,19.40476190476191,6.1809523809523785,1.205,5.236363636363636,9.085,8.784210526315787,8.335,3.547826086956522,6.0,6.266666666666667,7.325],\"type\":\"scatter\"}],                        {\"template\":{\"data\":{\"barpolar\":[{\"marker\":{\"line\":{\"color\":\"white\",\"width\":0.5},\"pattern\":{\"fillmode\":\"overlay\",\"size\":10,\"solidity\":0.2}},\"type\":\"barpolar\"}],\"bar\":[{\"error_x\":{\"color\":\"#2a3f5f\"},\"error_y\":{\"color\":\"#2a3f5f\"},\"marker\":{\"line\":{\"color\":\"white\",\"width\":0.5},\"pattern\":{\"fillmode\":\"overlay\",\"size\":10,\"solidity\":0.2}},\"type\":\"bar\"}],\"carpet\":[{\"aaxis\":{\"endlinecolor\":\"#2a3f5f\",\"gridcolor\":\"#C8D4E3\",\"linecolor\":\"#C8D4E3\",\"minorgridcolor\":\"#C8D4E3\",\"startlinecolor\":\"#2a3f5f\"},\"baxis\":{\"endlinecolor\":\"#2a3f5f\",\"gridcolor\":\"#C8D4E3\",\"linecolor\":\"#C8D4E3\",\"minorgridcolor\":\"#C8D4E3\",\"startlinecolor\":\"#2a3f5f\"},\"type\":\"carpet\"}],\"choropleth\":[{\"colorbar\":{\"outlinewidth\":0,\"ticks\":\"\"},\"type\":\"choropleth\"}],\"contourcarpet\":[{\"colorbar\":{\"outlinewidth\":0,\"ticks\":\"\"},\"type\":\"contourcarpet\"}],\"contour\":[{\"colorbar\":{\"outlinewidth\":0,\"ticks\":\"\"},\"colorscale\":[[0.0,\"#0d0887\"],[0.1111111111111111,\"#46039f\"],[0.2222222222222222,\"#7201a8\"],[0.3333333333333333,\"#9c179e\"],[0.4444444444444444,\"#bd3786\"],[0.5555555555555556,\"#d8576b\"],[0.6666666666666666,\"#ed7953\"],[0.7777777777777778,\"#fb9f3a\"],[0.8888888888888888,\"#fdca26\"],[1.0,\"#f0f921\"]],\"type\":\"contour\"}],\"heatmapgl\":[{\"colorbar\":{\"outlinewidth\":0,\"ticks\":\"\"},\"colorscale\":[[0.0,\"#0d0887\"],[0.1111111111111111,\"#46039f\"],[0.2222222222222222,\"#7201a8\"],[0.3333333333333333,\"#9c179e\"],[0.4444444444444444,\"#bd3786\"],[0.5555555555555556,\"#d8576b\"],[0.6666666666666666,\"#ed7953\"],[0.7777777777777778,\"#fb9f3a\"],[0.8888888888888888,\"#fdca26\"],[1.0,\"#f0f921\"]],\"type\":\"heatmapgl\"}],\"heatmap\":[{\"colorbar\":{\"outlinewidth\":0,\"ticks\":\"\"},\"colorscale\":[[0.0,\"#0d0887\"],[0.1111111111111111,\"#46039f\"],[0.2222222222222222,\"#7201a8\"],[0.3333333333333333,\"#9c179e\"],[0.4444444444444444,\"#bd3786\"],[0.5555555555555556,\"#d8576b\"],[0.6666666666666666,\"#ed7953\"],[0.7777777777777778,\"#fb9f3a\"],[0.8888888888888888,\"#fdca26\"],[1.0,\"#f0f921\"]],\"type\":\"heatmap\"}],\"histogram2dcontour\":[{\"colorbar\":{\"outlinewidth\":0,\"ticks\":\"\"},\"colorscale\":[[0.0,\"#0d0887\"],[0.1111111111111111,\"#46039f\"],[0.2222222222222222,\"#7201a8\"],[0.3333333333333333,\"#9c179e\"],[0.4444444444444444,\"#bd3786\"],[0.5555555555555556,\"#d8576b\"],[0.6666666666666666,\"#ed7953\"],[0.7777777777777778,\"#fb9f3a\"],[0.8888888888888888,\"#fdca26\"],[1.0,\"#f0f921\"]],\"type\":\"histogram2dcontour\"}],\"histogram2d\":[{\"colorbar\":{\"outlinewidth\":0,\"ticks\":\"\"},\"colorscale\":[[0.0,\"#0d0887\"],[0.1111111111111111,\"#46039f\"],[0.2222222222222222,\"#7201a8\"],[0.3333333333333333,\"#9c179e\"],[0.4444444444444444,\"#bd3786\"],[0.5555555555555556,\"#d8576b\"],[0.6666666666666666,\"#ed7953\"],[0.7777777777777778,\"#fb9f3a\"],[0.8888888888888888,\"#fdca26\"],[1.0,\"#f0f921\"]],\"type\":\"histogram2d\"}],\"histogram\":[{\"marker\":{\"pattern\":{\"fillmode\":\"overlay\",\"size\":10,\"solidity\":0.2}},\"type\":\"histogram\"}],\"mesh3d\":[{\"colorbar\":{\"outlinewidth\":0,\"ticks\":\"\"},\"type\":\"mesh3d\"}],\"parcoords\":[{\"line\":{\"colorbar\":{\"outlinewidth\":0,\"ticks\":\"\"}},\"type\":\"parcoords\"}],\"pie\":[{\"automargin\":true,\"type\":\"pie\"}],\"scatter3d\":[{\"line\":{\"colorbar\":{\"outlinewidth\":0,\"ticks\":\"\"}},\"marker\":{\"colorbar\":{\"outlinewidth\":0,\"ticks\":\"\"}},\"type\":\"scatter3d\"}],\"scattercarpet\":[{\"marker\":{\"colorbar\":{\"outlinewidth\":0,\"ticks\":\"\"}},\"type\":\"scattercarpet\"}],\"scattergeo\":[{\"marker\":{\"colorbar\":{\"outlinewidth\":0,\"ticks\":\"\"}},\"type\":\"scattergeo\"}],\"scattergl\":[{\"marker\":{\"colorbar\":{\"outlinewidth\":0,\"ticks\":\"\"}},\"type\":\"scattergl\"}],\"scattermapbox\":[{\"marker\":{\"colorbar\":{\"outlinewidth\":0,\"ticks\":\"\"}},\"type\":\"scattermapbox\"}],\"scatterpolargl\":[{\"marker\":{\"colorbar\":{\"outlinewidth\":0,\"ticks\":\"\"}},\"type\":\"scatterpolargl\"}],\"scatterpolar\":[{\"marker\":{\"colorbar\":{\"outlinewidth\":0,\"ticks\":\"\"}},\"type\":\"scatterpolar\"}],\"scatter\":[{\"fillpattern\":{\"fillmode\":\"overlay\",\"size\":10,\"solidity\":0.2},\"type\":\"scatter\"}],\"scatterternary\":[{\"marker\":{\"colorbar\":{\"outlinewidth\":0,\"ticks\":\"\"}},\"type\":\"scatterternary\"}],\"surface\":[{\"colorbar\":{\"outlinewidth\":0,\"ticks\":\"\"},\"colorscale\":[[0.0,\"#0d0887\"],[0.1111111111111111,\"#46039f\"],[0.2222222222222222,\"#7201a8\"],[0.3333333333333333,\"#9c179e\"],[0.4444444444444444,\"#bd3786\"],[0.5555555555555556,\"#d8576b\"],[0.6666666666666666,\"#ed7953\"],[0.7777777777777778,\"#fb9f3a\"],[0.8888888888888888,\"#fdca26\"],[1.0,\"#f0f921\"]],\"type\":\"surface\"}],\"table\":[{\"cells\":{\"fill\":{\"color\":\"#EBF0F8\"},\"line\":{\"color\":\"white\"}},\"header\":{\"fill\":{\"color\":\"#C8D4E3\"},\"line\":{\"color\":\"white\"}},\"type\":\"table\"}]},\"layout\":{\"annotationdefaults\":{\"arrowcolor\":\"#2a3f5f\",\"arrowhead\":0,\"arrowwidth\":1},\"autotypenumbers\":\"strict\",\"coloraxis\":{\"colorbar\":{\"outlinewidth\":0,\"ticks\":\"\"}},\"colorscale\":{\"diverging\":[[0,\"#8e0152\"],[0.1,\"#c51b7d\"],[0.2,\"#de77ae\"],[0.3,\"#f1b6da\"],[0.4,\"#fde0ef\"],[0.5,\"#f7f7f7\"],[0.6,\"#e6f5d0\"],[0.7,\"#b8e186\"],[0.8,\"#7fbc41\"],[0.9,\"#4d9221\"],[1,\"#276419\"]],\"sequential\":[[0.0,\"#0d0887\"],[0.1111111111111111,\"#46039f\"],[0.2222222222222222,\"#7201a8\"],[0.3333333333333333,\"#9c179e\"],[0.4444444444444444,\"#bd3786\"],[0.5555555555555556,\"#d8576b\"],[0.6666666666666666,\"#ed7953\"],[0.7777777777777778,\"#fb9f3a\"],[0.8888888888888888,\"#fdca26\"],[1.0,\"#f0f921\"]],\"sequentialminus\":[[0.0,\"#0d0887\"],[0.1111111111111111,\"#46039f\"],[0.2222222222222222,\"#7201a8\"],[0.3333333333333333,\"#9c179e\"],[0.4444444444444444,\"#bd3786\"],[0.5555555555555556,\"#d8576b\"],[0.6666666666666666,\"#ed7953\"],[0.7777777777777778,\"#fb9f3a\"],[0.8888888888888888,\"#fdca26\"],[1.0,\"#f0f921\"]]},\"colorway\":[\"#636efa\",\"#EF553B\",\"#00cc96\",\"#ab63fa\",\"#FFA15A\",\"#19d3f3\",\"#FF6692\",\"#B6E880\",\"#FF97FF\",\"#FECB52\"],\"font\":{\"color\":\"#2a3f5f\"},\"geo\":{\"bgcolor\":\"white\",\"lakecolor\":\"white\",\"landcolor\":\"white\",\"showlakes\":true,\"showland\":true,\"subunitcolor\":\"#C8D4E3\"},\"hoverlabel\":{\"align\":\"left\"},\"hovermode\":\"closest\",\"mapbox\":{\"style\":\"light\"},\"paper_bgcolor\":\"white\",\"plot_bgcolor\":\"white\",\"polar\":{\"angularaxis\":{\"gridcolor\":\"#EBF0F8\",\"linecolor\":\"#EBF0F8\",\"ticks\":\"\"},\"bgcolor\":\"white\",\"radialaxis\":{\"gridcolor\":\"#EBF0F8\",\"linecolor\":\"#EBF0F8\",\"ticks\":\"\"}},\"scene\":{\"xaxis\":{\"backgroundcolor\":\"white\",\"gridcolor\":\"#DFE8F3\",\"gridwidth\":2,\"linecolor\":\"#EBF0F8\",\"showbackground\":true,\"ticks\":\"\",\"zerolinecolor\":\"#EBF0F8\"},\"yaxis\":{\"backgroundcolor\":\"white\",\"gridcolor\":\"#DFE8F3\",\"gridwidth\":2,\"linecolor\":\"#EBF0F8\",\"showbackground\":true,\"ticks\":\"\",\"zerolinecolor\":\"#EBF0F8\"},\"zaxis\":{\"backgroundcolor\":\"white\",\"gridcolor\":\"#DFE8F3\",\"gridwidth\":2,\"linecolor\":\"#EBF0F8\",\"showbackground\":true,\"ticks\":\"\",\"zerolinecolor\":\"#EBF0F8\"}},\"shapedefaults\":{\"line\":{\"color\":\"#2a3f5f\"}},\"ternary\":{\"aaxis\":{\"gridcolor\":\"#DFE8F3\",\"linecolor\":\"#A2B1C6\",\"ticks\":\"\"},\"baxis\":{\"gridcolor\":\"#DFE8F3\",\"linecolor\":\"#A2B1C6\",\"ticks\":\"\"},\"bgcolor\":\"white\",\"caxis\":{\"gridcolor\":\"#DFE8F3\",\"linecolor\":\"#A2B1C6\",\"ticks\":\"\"}},\"title\":{\"x\":0.05},\"xaxis\":{\"automargin\":true,\"gridcolor\":\"#EBF0F8\",\"linecolor\":\"#EBF0F8\",\"ticks\":\"\",\"title\":{\"standoff\":15},\"zerolinecolor\":\"#EBF0F8\",\"zerolinewidth\":2},\"yaxis\":{\"automargin\":true,\"gridcolor\":\"#EBF0F8\",\"linecolor\":\"#EBF0F8\",\"ticks\":\"\",\"title\":{\"standoff\":15},\"zerolinecolor\":\"#EBF0F8\",\"zerolinewidth\":2}}},\"title\":{\"text\":\"Wind Speed (2016)\",\"x\":0.5},\"xaxis\":{\"title\":{\"text\":\"Date\"}},\"yaxis\":{\"title\":{\"text\":\"Value\"}},\"height\":380},                        {\"responsive\": true}                    ).then(function(){\n",
       "                            \n",
       "var gd = document.getElementById('ba4aaaee-2ab9-48c2-b76c-6fe218129e04');\n",
       "var x = new MutationObserver(function (mutations, observer) {{\n",
       "        var display = window.getComputedStyle(gd).display;\n",
       "        if (!display || display === 'none') {{\n",
       "            console.log([gd, 'removed!']);\n",
       "            Plotly.purge(gd);\n",
       "            observer.disconnect();\n",
       "        }}\n",
       "}});\n",
       "\n",
       "// Listen for the removal of the full notebook cells\n",
       "var notebookContainer = gd.closest('#notebook-container');\n",
       "if (notebookContainer) {{\n",
       "    x.observe(notebookContainer, {childList: true});\n",
       "}}\n",
       "\n",
       "// Listen for the clearing of the current output cell\n",
       "var outputEl = gd.closest('.output');\n",
       "if (outputEl) {{\n",
       "    x.observe(outputEl, {childList: true});\n",
       "}}\n",
       "\n",
       "                        })                };                });            </script>        </div>"
      ]
     },
     "metadata": {},
     "output_type": "display_data"
    },
    {
     "data": {
      "text/html": [
       "<div>                            <div id=\"bad4519e-8620-4c4a-995c-1d894345a719\" class=\"plotly-graph-div\" style=\"height:380px; width:100%;\"></div>            <script type=\"text/javascript\">                require([\"plotly\"], function(Plotly) {                    window.PLOTLYENV=window.PLOTLYENV || {};                                    if (document.getElementById(\"bad4519e-8620-4c4a-995c-1d894345a719\")) {                    Plotly.newPlot(                        \"bad4519e-8620-4c4a-995c-1d894345a719\",                        [{\"line\":{\"color\":\"purple\"},\"mode\":\"lines\",\"x\":[\"2013-01-01T00:00:00\",\"2013-01-02T00:00:00\",\"2013-01-03T00:00:00\",\"2013-01-04T00:00:00\",\"2013-01-05T00:00:00\",\"2013-01-06T00:00:00\",\"2013-01-07T00:00:00\",\"2013-01-08T00:00:00\",\"2013-01-09T00:00:00\",\"2013-01-10T00:00:00\",\"2013-01-11T00:00:00\",\"2013-01-12T00:00:00\",\"2013-01-13T00:00:00\",\"2013-01-14T00:00:00\",\"2013-01-15T00:00:00\",\"2013-01-16T00:00:00\",\"2013-01-17T00:00:00\",\"2013-01-18T00:00:00\",\"2013-01-19T00:00:00\",\"2013-01-20T00:00:00\",\"2013-01-21T00:00:00\",\"2013-01-22T00:00:00\",\"2013-01-23T00:00:00\",\"2013-01-24T00:00:00\",\"2013-01-25T00:00:00\",\"2013-01-26T00:00:00\",\"2013-01-27T00:00:00\",\"2013-01-28T00:00:00\",\"2013-01-29T00:00:00\",\"2013-01-30T00:00:00\",\"2013-01-31T00:00:00\",\"2013-02-01T00:00:00\",\"2013-02-02T00:00:00\",\"2013-02-03T00:00:00\",\"2013-02-04T00:00:00\",\"2013-02-05T00:00:00\",\"2013-02-06T00:00:00\",\"2013-02-07T00:00:00\",\"2013-02-08T00:00:00\",\"2013-02-09T00:00:00\",\"2013-02-10T00:00:00\",\"2013-02-11T00:00:00\",\"2013-02-12T00:00:00\",\"2013-02-13T00:00:00\",\"2013-02-14T00:00:00\",\"2013-02-15T00:00:00\",\"2013-02-16T00:00:00\",\"2013-02-17T00:00:00\",\"2013-02-18T00:00:00\",\"2013-02-19T00:00:00\",\"2013-02-20T00:00:00\",\"2013-02-21T00:00:00\",\"2013-02-22T00:00:00\",\"2013-02-23T00:00:00\",\"2013-02-24T00:00:00\",\"2013-02-25T00:00:00\",\"2013-02-26T00:00:00\",\"2013-02-27T00:00:00\",\"2013-02-28T00:00:00\",\"2013-03-01T00:00:00\",\"2013-03-02T00:00:00\",\"2013-03-03T00:00:00\",\"2013-03-04T00:00:00\",\"2013-03-05T00:00:00\",\"2013-03-06T00:00:00\",\"2013-03-07T00:00:00\",\"2013-03-08T00:00:00\",\"2013-03-09T00:00:00\",\"2013-03-10T00:00:00\",\"2013-03-11T00:00:00\",\"2013-03-12T00:00:00\",\"2013-03-13T00:00:00\",\"2013-03-14T00:00:00\",\"2013-03-15T00:00:00\",\"2013-03-16T00:00:00\",\"2013-03-17T00:00:00\",\"2013-03-18T00:00:00\",\"2013-03-19T00:00:00\",\"2013-03-20T00:00:00\",\"2013-03-21T00:00:00\",\"2013-03-22T00:00:00\",\"2013-03-23T00:00:00\",\"2013-03-24T00:00:00\",\"2013-03-25T00:00:00\",\"2013-03-26T00:00:00\",\"2013-03-27T00:00:00\",\"2013-03-28T00:00:00\",\"2013-03-29T00:00:00\",\"2013-03-30T00:00:00\",\"2013-03-31T00:00:00\",\"2013-04-01T00:00:00\",\"2013-04-02T00:00:00\",\"2013-04-03T00:00:00\",\"2013-04-04T00:00:00\",\"2013-04-05T00:00:00\",\"2013-04-06T00:00:00\",\"2013-04-07T00:00:00\",\"2013-04-08T00:00:00\",\"2013-04-09T00:00:00\",\"2013-04-10T00:00:00\",\"2013-04-11T00:00:00\",\"2013-04-12T00:00:00\",\"2013-04-13T00:00:00\",\"2013-04-14T00:00:00\",\"2013-04-15T00:00:00\",\"2013-04-16T00:00:00\",\"2013-04-17T00:00:00\",\"2013-04-18T00:00:00\",\"2013-04-19T00:00:00\",\"2013-04-20T00:00:00\",\"2013-04-21T00:00:00\",\"2013-04-22T00:00:00\",\"2013-04-23T00:00:00\",\"2013-04-24T00:00:00\",\"2013-04-25T00:00:00\",\"2013-04-26T00:00:00\",\"2013-04-27T00:00:00\",\"2013-04-28T00:00:00\",\"2013-04-29T00:00:00\",\"2013-04-30T00:00:00\",\"2013-05-01T00:00:00\",\"2013-05-02T00:00:00\",\"2013-05-03T00:00:00\",\"2013-05-04T00:00:00\",\"2013-05-05T00:00:00\",\"2013-05-06T00:00:00\",\"2013-05-07T00:00:00\",\"2013-05-08T00:00:00\",\"2013-05-09T00:00:00\",\"2013-05-10T00:00:00\",\"2013-05-11T00:00:00\",\"2013-05-12T00:00:00\",\"2013-05-13T00:00:00\",\"2013-05-14T00:00:00\",\"2013-05-15T00:00:00\",\"2013-05-16T00:00:00\",\"2013-05-17T00:00:00\",\"2013-05-18T00:00:00\",\"2013-05-19T00:00:00\",\"2013-05-20T00:00:00\",\"2013-05-21T00:00:00\",\"2013-05-22T00:00:00\",\"2013-05-23T00:00:00\",\"2013-05-24T00:00:00\",\"2013-05-25T00:00:00\",\"2013-05-26T00:00:00\",\"2013-05-27T00:00:00\",\"2013-05-28T00:00:00\",\"2013-05-29T00:00:00\",\"2013-05-30T00:00:00\",\"2013-05-31T00:00:00\",\"2013-06-01T00:00:00\",\"2013-06-02T00:00:00\",\"2013-06-03T00:00:00\",\"2013-06-04T00:00:00\",\"2013-06-05T00:00:00\",\"2013-06-06T00:00:00\",\"2013-06-07T00:00:00\",\"2013-06-08T00:00:00\",\"2013-06-09T00:00:00\",\"2013-06-10T00:00:00\",\"2013-06-11T00:00:00\",\"2013-06-12T00:00:00\",\"2013-06-13T00:00:00\",\"2013-06-14T00:00:00\",\"2013-06-15T00:00:00\",\"2013-06-16T00:00:00\",\"2013-06-17T00:00:00\",\"2013-06-18T00:00:00\",\"2013-06-19T00:00:00\",\"2013-06-20T00:00:00\",\"2013-06-21T00:00:00\",\"2013-06-22T00:00:00\",\"2013-06-23T00:00:00\",\"2013-06-24T00:00:00\",\"2013-06-25T00:00:00\",\"2013-06-26T00:00:00\",\"2013-06-27T00:00:00\",\"2013-06-28T00:00:00\",\"2013-06-29T00:00:00\",\"2013-06-30T00:00:00\",\"2013-07-01T00:00:00\",\"2013-07-02T00:00:00\",\"2013-07-03T00:00:00\",\"2013-07-04T00:00:00\",\"2013-07-05T00:00:00\",\"2013-07-06T00:00:00\",\"2013-07-07T00:00:00\",\"2013-07-08T00:00:00\",\"2013-07-09T00:00:00\",\"2013-07-10T00:00:00\",\"2013-07-11T00:00:00\",\"2013-07-12T00:00:00\",\"2013-07-13T00:00:00\",\"2013-07-14T00:00:00\",\"2013-07-15T00:00:00\",\"2013-07-16T00:00:00\",\"2013-07-17T00:00:00\",\"2013-07-18T00:00:00\",\"2013-07-19T00:00:00\",\"2013-07-20T00:00:00\",\"2013-07-21T00:00:00\",\"2013-07-22T00:00:00\",\"2013-07-23T00:00:00\",\"2013-07-24T00:00:00\",\"2013-07-25T00:00:00\",\"2013-07-26T00:00:00\",\"2013-07-27T00:00:00\",\"2013-07-28T00:00:00\",\"2013-07-29T00:00:00\",\"2013-07-30T00:00:00\",\"2013-07-31T00:00:00\",\"2013-08-01T00:00:00\",\"2013-08-02T00:00:00\",\"2013-08-03T00:00:00\",\"2013-08-04T00:00:00\",\"2013-08-05T00:00:00\",\"2013-08-06T00:00:00\",\"2013-08-07T00:00:00\",\"2013-08-08T00:00:00\",\"2013-08-09T00:00:00\",\"2013-08-10T00:00:00\",\"2013-08-11T00:00:00\",\"2013-08-12T00:00:00\",\"2013-08-13T00:00:00\",\"2013-08-14T00:00:00\",\"2013-08-15T00:00:00\",\"2013-08-16T00:00:00\",\"2013-08-17T00:00:00\",\"2013-08-18T00:00:00\",\"2013-08-19T00:00:00\",\"2013-08-20T00:00:00\",\"2013-08-21T00:00:00\",\"2013-08-22T00:00:00\",\"2013-08-23T00:00:00\",\"2013-08-24T00:00:00\",\"2013-08-25T00:00:00\",\"2013-08-26T00:00:00\",\"2013-08-27T00:00:00\",\"2013-08-28T00:00:00\",\"2013-08-29T00:00:00\",\"2013-08-30T00:00:00\",\"2013-08-31T00:00:00\",\"2013-09-01T00:00:00\",\"2013-09-02T00:00:00\",\"2013-09-03T00:00:00\",\"2013-09-04T00:00:00\",\"2013-09-05T00:00:00\",\"2013-09-06T00:00:00\",\"2013-09-07T00:00:00\",\"2013-09-08T00:00:00\",\"2013-09-09T00:00:00\",\"2013-09-10T00:00:00\",\"2013-09-11T00:00:00\",\"2013-09-12T00:00:00\",\"2013-09-13T00:00:00\",\"2013-09-14T00:00:00\",\"2013-09-15T00:00:00\",\"2013-09-16T00:00:00\",\"2013-09-17T00:00:00\",\"2013-09-18T00:00:00\",\"2013-09-19T00:00:00\",\"2013-09-20T00:00:00\",\"2013-09-21T00:00:00\",\"2013-09-22T00:00:00\",\"2013-09-23T00:00:00\",\"2013-09-24T00:00:00\",\"2013-09-25T00:00:00\",\"2013-09-26T00:00:00\",\"2013-09-27T00:00:00\",\"2013-09-28T00:00:00\",\"2013-09-29T00:00:00\",\"2013-09-30T00:00:00\",\"2013-10-01T00:00:00\",\"2013-10-02T00:00:00\",\"2013-10-03T00:00:00\",\"2013-10-04T00:00:00\",\"2013-10-05T00:00:00\",\"2013-10-06T00:00:00\",\"2013-10-07T00:00:00\",\"2013-10-08T00:00:00\",\"2013-10-09T00:00:00\",\"2013-10-10T00:00:00\",\"2013-10-11T00:00:00\",\"2013-10-12T00:00:00\",\"2013-10-13T00:00:00\",\"2013-10-14T00:00:00\",\"2013-10-15T00:00:00\",\"2013-10-16T00:00:00\",\"2013-10-17T00:00:00\",\"2013-10-18T00:00:00\",\"2013-10-19T00:00:00\",\"2013-10-20T00:00:00\",\"2013-10-21T00:00:00\",\"2013-10-22T00:00:00\",\"2013-10-23T00:00:00\",\"2013-10-24T00:00:00\",\"2013-10-25T00:00:00\",\"2013-10-26T00:00:00\",\"2013-10-27T00:00:00\",\"2013-10-28T00:00:00\",\"2013-10-29T00:00:00\",\"2013-10-30T00:00:00\",\"2013-10-31T00:00:00\",\"2013-11-01T00:00:00\",\"2013-11-02T00:00:00\",\"2013-11-03T00:00:00\",\"2013-11-04T00:00:00\",\"2013-11-05T00:00:00\",\"2013-11-06T00:00:00\",\"2013-11-07T00:00:00\",\"2013-11-08T00:00:00\",\"2013-11-09T00:00:00\",\"2013-11-10T00:00:00\",\"2013-11-11T00:00:00\",\"2013-11-12T00:00:00\",\"2013-11-13T00:00:00\",\"2013-11-14T00:00:00\",\"2013-11-15T00:00:00\",\"2013-11-16T00:00:00\",\"2013-11-17T00:00:00\",\"2013-11-18T00:00:00\",\"2013-11-19T00:00:00\",\"2013-11-20T00:00:00\",\"2013-11-21T00:00:00\",\"2013-11-22T00:00:00\",\"2013-11-23T00:00:00\",\"2013-11-24T00:00:00\",\"2013-11-25T00:00:00\",\"2013-11-26T00:00:00\",\"2013-11-27T00:00:00\",\"2013-11-28T00:00:00\",\"2013-11-29T00:00:00\",\"2013-11-30T00:00:00\",\"2013-12-01T00:00:00\",\"2013-12-02T00:00:00\",\"2013-12-03T00:00:00\",\"2013-12-04T00:00:00\",\"2013-12-05T00:00:00\",\"2013-12-06T00:00:00\",\"2013-12-07T00:00:00\",\"2013-12-08T00:00:00\",\"2013-12-09T00:00:00\",\"2013-12-10T00:00:00\",\"2013-12-11T00:00:00\",\"2013-12-12T00:00:00\",\"2013-12-13T00:00:00\",\"2013-12-14T00:00:00\",\"2013-12-15T00:00:00\",\"2013-12-16T00:00:00\",\"2013-12-17T00:00:00\",\"2013-12-18T00:00:00\",\"2013-12-19T00:00:00\",\"2013-12-20T00:00:00\",\"2013-12-21T00:00:00\",\"2013-12-22T00:00:00\",\"2013-12-23T00:00:00\",\"2013-12-24T00:00:00\",\"2013-12-25T00:00:00\",\"2013-12-26T00:00:00\",\"2013-12-27T00:00:00\",\"2013-12-28T00:00:00\",\"2013-12-29T00:00:00\",\"2013-12-30T00:00:00\",\"2013-12-31T00:00:00\"],\"y\":[1015.6666666666666,1017.8,1018.6666666666666,1017.1666666666666,1016.5,1018.0,1020.0,1018.7142857142856,1017.0,1015.6666666666666,1016.1428571428572,1015.5714285714286,1013.3333333333334,1015.1666666666666,1015.8571428571428,1016.6666666666666,1015.8333333333334,1014.5,1021.6666666666666,1020.2857142857144,1021.0,1021.8,1020.5,1020.5,1020.75,1019.6666666666666,1018.1428571428572,1017.8333333333334,1016.625,1017.8571428571428,1018.4,1016.0,1017.1428571428572,1015.2857142857144,1014.5714285714286,1016.375,1018.6666666666666,1018.6,1017.1428571428572,1016.8571428571428,1017.125,1016.5,1017.5,1016.0,1014.1666666666666,1011.6666666666666,1008.0,1012.6666666666666,1016.2,1015.7142857142856,1017.0,1015.4285714285714,1016.0,1017.0,1018.8571428571428,1018.25,1015.1428571428572,1015.2,1017.4285714285714,1016.3333333333334,1016.25,1016.1666666666666,1015.8,1016.375,1015.7142857142856,1015.2857142857144,1014.8333333333334,1009.2857142857144,1008.0,1011.1666666666666,1011.5,1009.0,1013.1666666666666,1016.1666666666666,1016.1666666666666,1015.0,1009.4285714285714,1011.0,1009.5,1008.3333333333334,1006.375,1007.625,1010.25,1010.625,1008.8571428571428,1009.0,1009.5714285714286,1009.75,1008.625,1008.6,1008.5,1009.5,1009.0,1007.8,1007.0,1006.1428571428572,1005.0,1006.0,1005.3333333333334,1006.7142857142856,1006.4,1007.5714285714286,1008.4,1007.0,1003.875,1000.0,1002.2,1002.8571428571428,1002.5714285714286,1003.375,1006.8333333333334,1010.0,1009.875,1008.5714285714286,1007.7142857142856,1008.375,1007.0,1005.4285714285714,1004.875,1004.8571428571428,1002.8333333333334,1001.2,999.4285714285714,999.0,1000.625,1001.625,1002.0,1001.1666666666666,1000.8571428571428,1000.1428571428572,999.875,1003.7142857142856,1003.5714285714286,1001.5714285714286,999.8571428571428,998.5,1000.3333333333334,999.0,999.6666666666666,998.4,998.6666666666666,998.625,997.1666666666666,996.4285714285714,998.1428571428572,998.2,999.1428571428572,1000.1666666666666,999.4285714285714,999.6,998.7142857142856,998.75,1001.0,999.6,999.8571428571428,998.0,997.2857142857144,998.0,997.0,995.1666666666666,995.125,1000.0,998.0,998.6666666666666,997.4285714285714,997.8571428571428,996.4285714285714,994.75,996.4,999.0,997.1666666666666,995.3333333333334,996.2,995.6666666666666,996.2857142857144,999.1666666666666,999.0,996.7142857142856,996.0,995.25,997.1666666666666,996.4285714285714,996.0,997.5714285714286,997.0,997.8,1000.5714285714286,1000.1666666666666,997.5,996.8333333333334,995.75,997.3333333333334,1000.0,998.875,997.375,998.375,999.0,998.0,995.0,995.3333333333334,999.1666666666666,996.4,996.8333333333334,998.0,997.1428571428572,995.1666666666666,995.4285714285714,997.2857142857144,998.1428571428572,997.1428571428572,996.5,996.6666666666666,998.0,999.4285714285714,1000.8333333333334,993.25,1001.0,1002.1666666666666,1001.875,1000.5,1001.0,1000.3333333333334,1001.1666666666666,1001.0,999.25,999.8333333333334,1001.7142857142856,1000.8,999.4285714285714,1000.1666666666666,1000.5,999.0,999.2857142857144,1001.1666666666666,1001.4285714285714,1000.3333333333334,998.75,997.8571428571428,999.8571428571428,1003.7142857142856,1003.25,1003.5,1003.25,1003.2,1003.7142857142856,1001.5,1002.1666666666666,1001.5,1003.4285714285714,1004.1666666666666,1007.25,1007.0,1005.3333333333334,1005.5714285714286,1008.1666666666666,1007.1428571428572,1003.8333333333334,1001.375,1002.3333333333334,1002.875,1003.1428571428572,1001.8,1003.0,1003.0,1001.6666666666666,1001.0,1002.75,1005.4285714285714,1006.6,1005.625,1005.3333333333334,1003.8571428571428,1004.7142857142856,1007.7142857142856,1010.0,1008.6,1007.5,1004.125,1005.25,1008.8571428571428,1009.8,1010.3333333333334,1010.8571428571428,1010.5714285714286,1008.2857142857144,1007.6666666666666,1007.0,1009.1428571428572,1009.0,1010.4285714285714,1010.5,1011.5714285714286,1010.6666666666666,1009.875,1011.0,1013.625,1013.2857142857144,1011.0,1011.2,1010.625,1010.0,1011.1428571428572,1012.8571428571428,1012.8333333333334,1013.2857142857144,1014.5,1016.0,1017.5,1017.5,1015.8571428571428,1015.6666666666666,1015.625,1016.7142857142856,1016.0,1013.4285714285714,1013.8571428571428,1014.25,1015.25,1016.5,1018.0,1017.7142857142856,1016.875,1015.5,1012.75,1013.125,1015.75,1014.5714285714286,1014.5,1012.875,1011.75,1014.75,1017.75,1016.875,1015.875,1016.1428571428572,1015.875,1016.75,1017.0,1015.2857142857144,1014.0,1014.25,1014.0,1013.5,1013.75,1014.125,1012.5,1012.0,1012.5714285714286,1015.125,1015.625,1014.25,1012.625,1012.875,1016.0,1017.0,1018.375,1020.5,1021.375,1020.625,1019.25,1018.625,1019.25,1018.5,1018.125,1020.5],\"type\":\"scatter\"}],                        {\"template\":{\"data\":{\"barpolar\":[{\"marker\":{\"line\":{\"color\":\"white\",\"width\":0.5},\"pattern\":{\"fillmode\":\"overlay\",\"size\":10,\"solidity\":0.2}},\"type\":\"barpolar\"}],\"bar\":[{\"error_x\":{\"color\":\"#2a3f5f\"},\"error_y\":{\"color\":\"#2a3f5f\"},\"marker\":{\"line\":{\"color\":\"white\",\"width\":0.5},\"pattern\":{\"fillmode\":\"overlay\",\"size\":10,\"solidity\":0.2}},\"type\":\"bar\"}],\"carpet\":[{\"aaxis\":{\"endlinecolor\":\"#2a3f5f\",\"gridcolor\":\"#C8D4E3\",\"linecolor\":\"#C8D4E3\",\"minorgridcolor\":\"#C8D4E3\",\"startlinecolor\":\"#2a3f5f\"},\"baxis\":{\"endlinecolor\":\"#2a3f5f\",\"gridcolor\":\"#C8D4E3\",\"linecolor\":\"#C8D4E3\",\"minorgridcolor\":\"#C8D4E3\",\"startlinecolor\":\"#2a3f5f\"},\"type\":\"carpet\"}],\"choropleth\":[{\"colorbar\":{\"outlinewidth\":0,\"ticks\":\"\"},\"type\":\"choropleth\"}],\"contourcarpet\":[{\"colorbar\":{\"outlinewidth\":0,\"ticks\":\"\"},\"type\":\"contourcarpet\"}],\"contour\":[{\"colorbar\":{\"outlinewidth\":0,\"ticks\":\"\"},\"colorscale\":[[0.0,\"#0d0887\"],[0.1111111111111111,\"#46039f\"],[0.2222222222222222,\"#7201a8\"],[0.3333333333333333,\"#9c179e\"],[0.4444444444444444,\"#bd3786\"],[0.5555555555555556,\"#d8576b\"],[0.6666666666666666,\"#ed7953\"],[0.7777777777777778,\"#fb9f3a\"],[0.8888888888888888,\"#fdca26\"],[1.0,\"#f0f921\"]],\"type\":\"contour\"}],\"heatmapgl\":[{\"colorbar\":{\"outlinewidth\":0,\"ticks\":\"\"},\"colorscale\":[[0.0,\"#0d0887\"],[0.1111111111111111,\"#46039f\"],[0.2222222222222222,\"#7201a8\"],[0.3333333333333333,\"#9c179e\"],[0.4444444444444444,\"#bd3786\"],[0.5555555555555556,\"#d8576b\"],[0.6666666666666666,\"#ed7953\"],[0.7777777777777778,\"#fb9f3a\"],[0.8888888888888888,\"#fdca26\"],[1.0,\"#f0f921\"]],\"type\":\"heatmapgl\"}],\"heatmap\":[{\"colorbar\":{\"outlinewidth\":0,\"ticks\":\"\"},\"colorscale\":[[0.0,\"#0d0887\"],[0.1111111111111111,\"#46039f\"],[0.2222222222222222,\"#7201a8\"],[0.3333333333333333,\"#9c179e\"],[0.4444444444444444,\"#bd3786\"],[0.5555555555555556,\"#d8576b\"],[0.6666666666666666,\"#ed7953\"],[0.7777777777777778,\"#fb9f3a\"],[0.8888888888888888,\"#fdca26\"],[1.0,\"#f0f921\"]],\"type\":\"heatmap\"}],\"histogram2dcontour\":[{\"colorbar\":{\"outlinewidth\":0,\"ticks\":\"\"},\"colorscale\":[[0.0,\"#0d0887\"],[0.1111111111111111,\"#46039f\"],[0.2222222222222222,\"#7201a8\"],[0.3333333333333333,\"#9c179e\"],[0.4444444444444444,\"#bd3786\"],[0.5555555555555556,\"#d8576b\"],[0.6666666666666666,\"#ed7953\"],[0.7777777777777778,\"#fb9f3a\"],[0.8888888888888888,\"#fdca26\"],[1.0,\"#f0f921\"]],\"type\":\"histogram2dcontour\"}],\"histogram2d\":[{\"colorbar\":{\"outlinewidth\":0,\"ticks\":\"\"},\"colorscale\":[[0.0,\"#0d0887\"],[0.1111111111111111,\"#46039f\"],[0.2222222222222222,\"#7201a8\"],[0.3333333333333333,\"#9c179e\"],[0.4444444444444444,\"#bd3786\"],[0.5555555555555556,\"#d8576b\"],[0.6666666666666666,\"#ed7953\"],[0.7777777777777778,\"#fb9f3a\"],[0.8888888888888888,\"#fdca26\"],[1.0,\"#f0f921\"]],\"type\":\"histogram2d\"}],\"histogram\":[{\"marker\":{\"pattern\":{\"fillmode\":\"overlay\",\"size\":10,\"solidity\":0.2}},\"type\":\"histogram\"}],\"mesh3d\":[{\"colorbar\":{\"outlinewidth\":0,\"ticks\":\"\"},\"type\":\"mesh3d\"}],\"parcoords\":[{\"line\":{\"colorbar\":{\"outlinewidth\":0,\"ticks\":\"\"}},\"type\":\"parcoords\"}],\"pie\":[{\"automargin\":true,\"type\":\"pie\"}],\"scatter3d\":[{\"line\":{\"colorbar\":{\"outlinewidth\":0,\"ticks\":\"\"}},\"marker\":{\"colorbar\":{\"outlinewidth\":0,\"ticks\":\"\"}},\"type\":\"scatter3d\"}],\"scattercarpet\":[{\"marker\":{\"colorbar\":{\"outlinewidth\":0,\"ticks\":\"\"}},\"type\":\"scattercarpet\"}],\"scattergeo\":[{\"marker\":{\"colorbar\":{\"outlinewidth\":0,\"ticks\":\"\"}},\"type\":\"scattergeo\"}],\"scattergl\":[{\"marker\":{\"colorbar\":{\"outlinewidth\":0,\"ticks\":\"\"}},\"type\":\"scattergl\"}],\"scattermapbox\":[{\"marker\":{\"colorbar\":{\"outlinewidth\":0,\"ticks\":\"\"}},\"type\":\"scattermapbox\"}],\"scatterpolargl\":[{\"marker\":{\"colorbar\":{\"outlinewidth\":0,\"ticks\":\"\"}},\"type\":\"scatterpolargl\"}],\"scatterpolar\":[{\"marker\":{\"colorbar\":{\"outlinewidth\":0,\"ticks\":\"\"}},\"type\":\"scatterpolar\"}],\"scatter\":[{\"fillpattern\":{\"fillmode\":\"overlay\",\"size\":10,\"solidity\":0.2},\"type\":\"scatter\"}],\"scatterternary\":[{\"marker\":{\"colorbar\":{\"outlinewidth\":0,\"ticks\":\"\"}},\"type\":\"scatterternary\"}],\"surface\":[{\"colorbar\":{\"outlinewidth\":0,\"ticks\":\"\"},\"colorscale\":[[0.0,\"#0d0887\"],[0.1111111111111111,\"#46039f\"],[0.2222222222222222,\"#7201a8\"],[0.3333333333333333,\"#9c179e\"],[0.4444444444444444,\"#bd3786\"],[0.5555555555555556,\"#d8576b\"],[0.6666666666666666,\"#ed7953\"],[0.7777777777777778,\"#fb9f3a\"],[0.8888888888888888,\"#fdca26\"],[1.0,\"#f0f921\"]],\"type\":\"surface\"}],\"table\":[{\"cells\":{\"fill\":{\"color\":\"#EBF0F8\"},\"line\":{\"color\":\"white\"}},\"header\":{\"fill\":{\"color\":\"#C8D4E3\"},\"line\":{\"color\":\"white\"}},\"type\":\"table\"}]},\"layout\":{\"annotationdefaults\":{\"arrowcolor\":\"#2a3f5f\",\"arrowhead\":0,\"arrowwidth\":1},\"autotypenumbers\":\"strict\",\"coloraxis\":{\"colorbar\":{\"outlinewidth\":0,\"ticks\":\"\"}},\"colorscale\":{\"diverging\":[[0,\"#8e0152\"],[0.1,\"#c51b7d\"],[0.2,\"#de77ae\"],[0.3,\"#f1b6da\"],[0.4,\"#fde0ef\"],[0.5,\"#f7f7f7\"],[0.6,\"#e6f5d0\"],[0.7,\"#b8e186\"],[0.8,\"#7fbc41\"],[0.9,\"#4d9221\"],[1,\"#276419\"]],\"sequential\":[[0.0,\"#0d0887\"],[0.1111111111111111,\"#46039f\"],[0.2222222222222222,\"#7201a8\"],[0.3333333333333333,\"#9c179e\"],[0.4444444444444444,\"#bd3786\"],[0.5555555555555556,\"#d8576b\"],[0.6666666666666666,\"#ed7953\"],[0.7777777777777778,\"#fb9f3a\"],[0.8888888888888888,\"#fdca26\"],[1.0,\"#f0f921\"]],\"sequentialminus\":[[0.0,\"#0d0887\"],[0.1111111111111111,\"#46039f\"],[0.2222222222222222,\"#7201a8\"],[0.3333333333333333,\"#9c179e\"],[0.4444444444444444,\"#bd3786\"],[0.5555555555555556,\"#d8576b\"],[0.6666666666666666,\"#ed7953\"],[0.7777777777777778,\"#fb9f3a\"],[0.8888888888888888,\"#fdca26\"],[1.0,\"#f0f921\"]]},\"colorway\":[\"#636efa\",\"#EF553B\",\"#00cc96\",\"#ab63fa\",\"#FFA15A\",\"#19d3f3\",\"#FF6692\",\"#B6E880\",\"#FF97FF\",\"#FECB52\"],\"font\":{\"color\":\"#2a3f5f\"},\"geo\":{\"bgcolor\":\"white\",\"lakecolor\":\"white\",\"landcolor\":\"white\",\"showlakes\":true,\"showland\":true,\"subunitcolor\":\"#C8D4E3\"},\"hoverlabel\":{\"align\":\"left\"},\"hovermode\":\"closest\",\"mapbox\":{\"style\":\"light\"},\"paper_bgcolor\":\"white\",\"plot_bgcolor\":\"white\",\"polar\":{\"angularaxis\":{\"gridcolor\":\"#EBF0F8\",\"linecolor\":\"#EBF0F8\",\"ticks\":\"\"},\"bgcolor\":\"white\",\"radialaxis\":{\"gridcolor\":\"#EBF0F8\",\"linecolor\":\"#EBF0F8\",\"ticks\":\"\"}},\"scene\":{\"xaxis\":{\"backgroundcolor\":\"white\",\"gridcolor\":\"#DFE8F3\",\"gridwidth\":2,\"linecolor\":\"#EBF0F8\",\"showbackground\":true,\"ticks\":\"\",\"zerolinecolor\":\"#EBF0F8\"},\"yaxis\":{\"backgroundcolor\":\"white\",\"gridcolor\":\"#DFE8F3\",\"gridwidth\":2,\"linecolor\":\"#EBF0F8\",\"showbackground\":true,\"ticks\":\"\",\"zerolinecolor\":\"#EBF0F8\"},\"zaxis\":{\"backgroundcolor\":\"white\",\"gridcolor\":\"#DFE8F3\",\"gridwidth\":2,\"linecolor\":\"#EBF0F8\",\"showbackground\":true,\"ticks\":\"\",\"zerolinecolor\":\"#EBF0F8\"}},\"shapedefaults\":{\"line\":{\"color\":\"#2a3f5f\"}},\"ternary\":{\"aaxis\":{\"gridcolor\":\"#DFE8F3\",\"linecolor\":\"#A2B1C6\",\"ticks\":\"\"},\"baxis\":{\"gridcolor\":\"#DFE8F3\",\"linecolor\":\"#A2B1C6\",\"ticks\":\"\"},\"bgcolor\":\"white\",\"caxis\":{\"gridcolor\":\"#DFE8F3\",\"linecolor\":\"#A2B1C6\",\"ticks\":\"\"}},\"title\":{\"x\":0.05},\"xaxis\":{\"automargin\":true,\"gridcolor\":\"#EBF0F8\",\"linecolor\":\"#EBF0F8\",\"ticks\":\"\",\"title\":{\"standoff\":15},\"zerolinecolor\":\"#EBF0F8\",\"zerolinewidth\":2},\"yaxis\":{\"automargin\":true,\"gridcolor\":\"#EBF0F8\",\"linecolor\":\"#EBF0F8\",\"ticks\":\"\",\"title\":{\"standoff\":15},\"zerolinecolor\":\"#EBF0F8\",\"zerolinewidth\":2}}},\"title\":{\"text\":\"Mean Pressure (2013)\",\"x\":0.5},\"xaxis\":{\"title\":{\"text\":\"Date\"}},\"yaxis\":{\"title\":{\"text\":\"Value\"}},\"height\":380},                        {\"responsive\": true}                    ).then(function(){\n",
       "                            \n",
       "var gd = document.getElementById('bad4519e-8620-4c4a-995c-1d894345a719');\n",
       "var x = new MutationObserver(function (mutations, observer) {{\n",
       "        var display = window.getComputedStyle(gd).display;\n",
       "        if (!display || display === 'none') {{\n",
       "            console.log([gd, 'removed!']);\n",
       "            Plotly.purge(gd);\n",
       "            observer.disconnect();\n",
       "        }}\n",
       "}});\n",
       "\n",
       "// Listen for the removal of the full notebook cells\n",
       "var notebookContainer = gd.closest('#notebook-container');\n",
       "if (notebookContainer) {{\n",
       "    x.observe(notebookContainer, {childList: true});\n",
       "}}\n",
       "\n",
       "// Listen for the clearing of the current output cell\n",
       "var outputEl = gd.closest('.output');\n",
       "if (outputEl) {{\n",
       "    x.observe(outputEl, {childList: true});\n",
       "}}\n",
       "\n",
       "                        })                };                });            </script>        </div>"
      ]
     },
     "metadata": {},
     "output_type": "display_data"
    },
    {
     "data": {
      "text/html": [
       "<div>                            <div id=\"752d0b0d-b11a-4a1d-b5a4-c74544dc6fb4\" class=\"plotly-graph-div\" style=\"height:380px; width:100%;\"></div>            <script type=\"text/javascript\">                require([\"plotly\"], function(Plotly) {                    window.PLOTLYENV=window.PLOTLYENV || {};                                    if (document.getElementById(\"752d0b0d-b11a-4a1d-b5a4-c74544dc6fb4\")) {                    Plotly.newPlot(                        \"752d0b0d-b11a-4a1d-b5a4-c74544dc6fb4\",                        [{\"line\":{\"color\":\"purple\"},\"mode\":\"lines\",\"x\":[\"2016-01-01T00:00:00\",\"2016-01-02T00:00:00\",\"2016-01-03T00:00:00\",\"2016-01-04T00:00:00\",\"2016-01-05T00:00:00\",\"2016-01-06T00:00:00\",\"2016-01-07T00:00:00\",\"2016-01-08T00:00:00\",\"2016-01-09T00:00:00\",\"2016-01-10T00:00:00\",\"2016-01-11T00:00:00\",\"2016-01-12T00:00:00\",\"2016-01-13T00:00:00\",\"2016-01-14T00:00:00\",\"2016-01-15T00:00:00\",\"2016-01-16T00:00:00\",\"2016-01-17T00:00:00\",\"2016-01-18T00:00:00\",\"2016-01-19T00:00:00\",\"2016-01-20T00:00:00\",\"2016-01-21T00:00:00\",\"2016-01-22T00:00:00\",\"2016-01-23T00:00:00\",\"2016-01-24T00:00:00\",\"2016-01-25T00:00:00\",\"2016-01-26T00:00:00\",\"2016-01-27T00:00:00\",\"2016-01-28T00:00:00\",\"2016-01-29T00:00:00\",\"2016-01-30T00:00:00\",\"2016-01-31T00:00:00\",\"2016-02-01T00:00:00\",\"2016-02-02T00:00:00\",\"2016-02-03T00:00:00\",\"2016-02-04T00:00:00\",\"2016-02-05T00:00:00\",\"2016-02-06T00:00:00\",\"2016-02-07T00:00:00\",\"2016-02-08T00:00:00\",\"2016-02-09T00:00:00\",\"2016-02-10T00:00:00\",\"2016-02-11T00:00:00\",\"2016-02-12T00:00:00\",\"2016-02-13T00:00:00\",\"2016-02-14T00:00:00\",\"2016-02-15T00:00:00\",\"2016-02-16T00:00:00\",\"2016-02-17T00:00:00\",\"2016-02-18T00:00:00\",\"2016-02-19T00:00:00\",\"2016-02-20T00:00:00\",\"2016-02-21T00:00:00\",\"2016-02-22T00:00:00\",\"2016-02-23T00:00:00\",\"2016-02-24T00:00:00\",\"2016-02-25T00:00:00\",\"2016-02-26T00:00:00\",\"2016-02-27T00:00:00\",\"2016-02-28T00:00:00\",\"2016-02-29T00:00:00\",\"2016-03-01T00:00:00\",\"2016-03-02T00:00:00\",\"2016-03-03T00:00:00\",\"2016-03-04T00:00:00\",\"2016-03-05T00:00:00\",\"2016-03-06T00:00:00\",\"2016-03-07T00:00:00\",\"2016-03-08T00:00:00\",\"2016-03-09T00:00:00\",\"2016-03-10T00:00:00\",\"2016-03-11T00:00:00\",\"2016-03-12T00:00:00\",\"2016-03-13T00:00:00\",\"2016-03-14T00:00:00\",\"2016-03-15T00:00:00\",\"2016-03-16T00:00:00\",\"2016-03-17T00:00:00\",\"2016-03-18T00:00:00\",\"2016-03-19T00:00:00\",\"2016-03-20T00:00:00\",\"2016-03-21T00:00:00\",\"2016-03-22T00:00:00\",\"2016-03-23T00:00:00\",\"2016-03-24T00:00:00\",\"2016-03-25T00:00:00\",\"2016-03-26T00:00:00\",\"2016-03-27T00:00:00\",\"2016-03-28T00:00:00\",\"2016-03-29T00:00:00\",\"2016-03-30T00:00:00\",\"2016-03-31T00:00:00\",\"2016-04-01T00:00:00\",\"2016-04-02T00:00:00\",\"2016-04-03T00:00:00\",\"2016-04-04T00:00:00\",\"2016-04-05T00:00:00\",\"2016-04-06T00:00:00\",\"2016-04-07T00:00:00\",\"2016-04-08T00:00:00\",\"2016-04-09T00:00:00\",\"2016-04-10T00:00:00\",\"2016-04-11T00:00:00\",\"2016-04-12T00:00:00\",\"2016-04-13T00:00:00\",\"2016-04-14T00:00:00\",\"2016-04-15T00:00:00\",\"2016-04-16T00:00:00\",\"2016-04-17T00:00:00\",\"2016-04-18T00:00:00\",\"2016-04-19T00:00:00\",\"2016-04-20T00:00:00\",\"2016-04-21T00:00:00\",\"2016-04-22T00:00:00\",\"2016-04-23T00:00:00\",\"2016-04-24T00:00:00\",\"2016-04-25T00:00:00\",\"2016-04-26T00:00:00\",\"2016-04-27T00:00:00\",\"2016-04-28T00:00:00\",\"2016-04-29T00:00:00\",\"2016-04-30T00:00:00\",\"2016-05-01T00:00:00\",\"2016-05-02T00:00:00\",\"2016-05-03T00:00:00\",\"2016-05-04T00:00:00\",\"2016-05-05T00:00:00\",\"2016-05-06T00:00:00\",\"2016-05-07T00:00:00\",\"2016-05-08T00:00:00\",\"2016-05-09T00:00:00\",\"2016-05-10T00:00:00\",\"2016-05-11T00:00:00\",\"2016-05-12T00:00:00\",\"2016-05-13T00:00:00\",\"2016-05-14T00:00:00\",\"2016-05-15T00:00:00\",\"2016-05-16T00:00:00\",\"2016-05-17T00:00:00\",\"2016-05-18T00:00:00\",\"2016-05-19T00:00:00\",\"2016-05-20T00:00:00\",\"2016-05-21T00:00:00\",\"2016-05-22T00:00:00\",\"2016-05-23T00:00:00\",\"2016-05-24T00:00:00\",\"2016-05-25T00:00:00\",\"2016-05-26T00:00:00\",\"2016-05-27T00:00:00\",\"2016-05-28T00:00:00\",\"2016-05-29T00:00:00\",\"2016-05-30T00:00:00\",\"2016-05-31T00:00:00\",\"2016-06-01T00:00:00\",\"2016-06-02T00:00:00\",\"2016-06-03T00:00:00\",\"2016-06-04T00:00:00\",\"2016-06-05T00:00:00\",\"2016-06-06T00:00:00\",\"2016-06-07T00:00:00\",\"2016-06-08T00:00:00\",\"2016-06-09T00:00:00\",\"2016-06-10T00:00:00\",\"2016-06-11T00:00:00\",\"2016-06-12T00:00:00\",\"2016-06-13T00:00:00\",\"2016-06-14T00:00:00\",\"2016-06-15T00:00:00\",\"2016-06-16T00:00:00\",\"2016-06-17T00:00:00\",\"2016-06-18T00:00:00\",\"2016-06-19T00:00:00\",\"2016-06-20T00:00:00\",\"2016-06-21T00:00:00\",\"2016-06-22T00:00:00\",\"2016-06-23T00:00:00\",\"2016-06-24T00:00:00\",\"2016-06-25T00:00:00\",\"2016-06-26T00:00:00\",\"2016-06-27T00:00:00\",\"2016-06-28T00:00:00\",\"2016-06-29T00:00:00\",\"2016-06-30T00:00:00\",\"2016-07-01T00:00:00\",\"2016-07-02T00:00:00\",\"2016-07-03T00:00:00\",\"2016-07-04T00:00:00\",\"2016-07-05T00:00:00\",\"2016-07-06T00:00:00\",\"2016-07-07T00:00:00\",\"2016-07-08T00:00:00\",\"2016-07-09T00:00:00\",\"2016-07-10T00:00:00\",\"2016-07-11T00:00:00\",\"2016-07-12T00:00:00\",\"2016-07-13T00:00:00\",\"2016-07-14T00:00:00\",\"2016-07-15T00:00:00\",\"2016-07-16T00:00:00\",\"2016-07-17T00:00:00\",\"2016-07-18T00:00:00\",\"2016-07-19T00:00:00\",\"2016-07-20T00:00:00\",\"2016-07-21T00:00:00\",\"2016-07-22T00:00:00\",\"2016-07-23T00:00:00\",\"2016-07-24T00:00:00\",\"2016-07-25T00:00:00\",\"2016-07-26T00:00:00\",\"2016-07-27T00:00:00\",\"2016-07-28T00:00:00\",\"2016-07-29T00:00:00\",\"2016-07-30T00:00:00\",\"2016-07-31T00:00:00\",\"2016-08-01T00:00:00\",\"2016-08-02T00:00:00\",\"2016-08-03T00:00:00\",\"2016-08-04T00:00:00\",\"2016-08-05T00:00:00\",\"2016-08-06T00:00:00\",\"2016-08-07T00:00:00\",\"2016-08-08T00:00:00\",\"2016-08-09T00:00:00\",\"2016-08-10T00:00:00\",\"2016-08-11T00:00:00\",\"2016-08-12T00:00:00\",\"2016-08-13T00:00:00\",\"2016-08-14T00:00:00\",\"2016-08-15T00:00:00\",\"2016-08-16T00:00:00\",\"2016-08-17T00:00:00\",\"2016-08-18T00:00:00\",\"2016-08-19T00:00:00\",\"2016-08-20T00:00:00\",\"2016-08-21T00:00:00\",\"2016-08-22T00:00:00\",\"2016-08-23T00:00:00\",\"2016-08-24T00:00:00\",\"2016-08-25T00:00:00\",\"2016-08-26T00:00:00\",\"2016-08-27T00:00:00\",\"2016-08-28T00:00:00\",\"2016-08-29T00:00:00\",\"2016-08-30T00:00:00\",\"2016-08-31T00:00:00\",\"2016-09-01T00:00:00\",\"2016-09-02T00:00:00\",\"2016-09-03T00:00:00\",\"2016-09-04T00:00:00\",\"2016-09-05T00:00:00\",\"2016-09-06T00:00:00\",\"2016-09-07T00:00:00\",\"2016-09-08T00:00:00\",\"2016-09-09T00:00:00\",\"2016-09-10T00:00:00\",\"2016-09-11T00:00:00\",\"2016-09-12T00:00:00\",\"2016-09-13T00:00:00\",\"2016-09-14T00:00:00\",\"2016-09-15T00:00:00\",\"2016-09-16T00:00:00\",\"2016-09-17T00:00:00\",\"2016-09-18T00:00:00\",\"2016-09-19T00:00:00\",\"2016-09-20T00:00:00\",\"2016-09-21T00:00:00\",\"2016-09-22T00:00:00\",\"2016-09-23T00:00:00\",\"2016-09-24T00:00:00\",\"2016-09-25T00:00:00\",\"2016-09-26T00:00:00\",\"2016-09-27T00:00:00\",\"2016-09-28T00:00:00\",\"2016-09-29T00:00:00\",\"2016-09-30T00:00:00\",\"2016-10-01T00:00:00\",\"2016-10-02T00:00:00\",\"2016-10-03T00:00:00\",\"2016-10-04T00:00:00\",\"2016-10-05T00:00:00\",\"2016-10-06T00:00:00\",\"2016-10-07T00:00:00\",\"2016-10-08T00:00:00\",\"2016-10-09T00:00:00\",\"2016-10-10T00:00:00\",\"2016-10-11T00:00:00\",\"2016-10-12T00:00:00\",\"2016-10-13T00:00:00\",\"2016-10-14T00:00:00\",\"2016-10-15T00:00:00\",\"2016-10-16T00:00:00\",\"2016-10-17T00:00:00\",\"2016-10-18T00:00:00\",\"2016-10-19T00:00:00\",\"2016-10-20T00:00:00\",\"2016-10-21T00:00:00\",\"2016-10-22T00:00:00\",\"2016-10-23T00:00:00\",\"2016-10-24T00:00:00\",\"2016-10-25T00:00:00\",\"2016-10-26T00:00:00\",\"2016-10-27T00:00:00\",\"2016-10-28T00:00:00\",\"2016-10-29T00:00:00\",\"2016-10-30T00:00:00\",\"2016-10-31T00:00:00\",\"2016-11-01T00:00:00\",\"2016-11-02T00:00:00\",\"2016-11-03T00:00:00\",\"2016-11-04T00:00:00\",\"2016-11-05T00:00:00\",\"2016-11-06T00:00:00\",\"2016-11-07T00:00:00\",\"2016-11-08T00:00:00\",\"2016-11-09T00:00:00\",\"2016-11-10T00:00:00\",\"2016-11-11T00:00:00\",\"2016-11-12T00:00:00\",\"2016-11-13T00:00:00\",\"2016-11-14T00:00:00\",\"2016-11-15T00:00:00\",\"2016-11-16T00:00:00\",\"2016-11-17T00:00:00\",\"2016-11-18T00:00:00\",\"2016-11-19T00:00:00\",\"2016-11-20T00:00:00\",\"2016-11-21T00:00:00\",\"2016-11-22T00:00:00\",\"2016-11-23T00:00:00\",\"2016-11-24T00:00:00\",\"2016-11-25T00:00:00\",\"2016-11-26T00:00:00\",\"2016-11-27T00:00:00\",\"2016-11-28T00:00:00\",\"2016-11-29T00:00:00\",\"2016-11-30T00:00:00\",\"2016-12-01T00:00:00\",\"2016-12-02T00:00:00\",\"2016-12-03T00:00:00\",\"2016-12-04T00:00:00\",\"2016-12-05T00:00:00\",\"2016-12-06T00:00:00\",\"2016-12-07T00:00:00\",\"2016-12-08T00:00:00\",\"2016-12-09T00:00:00\",\"2016-12-10T00:00:00\",\"2016-12-11T00:00:00\",\"2016-12-12T00:00:00\",\"2016-12-13T00:00:00\",\"2016-12-14T00:00:00\",\"2016-12-15T00:00:00\",\"2016-12-16T00:00:00\",\"2016-12-17T00:00:00\",\"2016-12-18T00:00:00\",\"2016-12-19T00:00:00\",\"2016-12-20T00:00:00\",\"2016-12-21T00:00:00\",\"2016-12-22T00:00:00\",\"2016-12-23T00:00:00\",\"2016-12-24T00:00:00\",\"2016-12-25T00:00:00\",\"2016-12-26T00:00:00\",\"2016-12-27T00:00:00\",\"2016-12-28T00:00:00\",\"2016-12-29T00:00:00\",\"2016-12-30T00:00:00\",\"2016-12-31T00:00:00\"],\"y\":[1021.1428571428572,1021.0,1018.5,1017.625,1017.0,1016.5,1018.125,1017.25,1015.4285714285714,1017.5,1017.5,1014.9375,1014.3333333333334,1016.125,1017.0,1014.6,1016.2,1014.7333333333332,1015.2857142857144,1018.6666666666666,1020.1875,1019.4666666666668,1019.8125,1019.0625,1017.2,1015.375,1014.1666666666666,1015.0714285714286,1017.375,1014.5,1016.0,1017.1538461538462,1018.2,1018.0,1017.3333333333334,1016.8333333333334,1013.3333333333334,1015.75,1017.0909090909092,1014.6923076923076,1012.7333333333332,1011.25,1012.5333333333332,1014.8666666666668,1017.2142857142856,1018.7333333333332,1020.0714285714286,1019.1428571428572,1017.4,1014.6153846153846,1014.125,1014.75,1014.4285714285714,1012.5,1012.9375,1015.5,1018.4,1018.4666666666668,1018.9375,1018.625,1015.0,1015.4,1014.6153846153846,1012.6875,1012.6666666666666,1013.0625,1012.3571428571428,1011.6428571428572,1012.0625,1013.1875,1012.5333333333332,1009.5625,1011.1875,1014.3125,1014.8666666666668,1012.8125,1010.4375,1009.8125,1009.2142857142856,1010.3333333333334,1011.125,1009.375,1010.0,1013.3333333333334,1013.1875,1013.6,1012.8125,7679.333333333333,1011.3125,1011.1428571428572,1009.2,1006.7142857142856,1008.0,1008.375,1006.6875,1007.0,1006.875,1007.2666666666668,1009.2,1009.3125,1008.8125,1009.4,1006.3333333333334,1003.3125,1003.8125,1004.625,1003.0625,1002.6666666666666,1004.6875,1005.8666666666668,1006.4375,1003.4,1001.7272727272727,1001.8461538461538,1003.0625,1005.5625,1007.1875,1005.6875,1004.6923076923076,1005.7142857142856,1004.8125,1002.4375,1002.2,1004.3125,1003.7857142857144,1007.4666666666668,1007.0,1005.5625,1005.9333333333332,1006.0625,1006.5625,1006.0625,1002.25,1001.3529411764706,1003.125,1003.5625,1000.8,998.9375,997.8125,998.625,996.9333333333332,995.9333333333332,996.4666666666668,999.5714285714286,1000.7368421052632,997.4782608695652,999.1538461538462,999.9545454545456,999.8333333333334,1001.25,1003.8125,1002.3076923076924,1002.7333333333332,1002.0,1002.25,1001.8666666666668,1002.8333333333334,1001.5714285714286,1002.0625,999.2142857142856,938.0666666666668,998.25,999.0,998.8125,998.1875,997.8125,996.1333333333332,999.0,999.4285714285714,1000.8571428571428,1001.375,1000.6875,999.9375,1001.5625,999.6923076923076,998.3125,1000.0714285714286,1000.375,998.8666666666668,1001.5,1001.1875,997.8666666666668,1002.5625,998.375,998.25,997.125,995.5625,996.8666666666668,997.6875,997.4,996.75,996.0625,997.75,999.0625,998.4375,998.375,998.625,999.875,1001.3333333333334,1000.8,999.875,999.625,999.2666666666668,999.3333333333334,1001.625,946.3125,1001.875,1003.125,1004.625,1002.0666666666668,1000.9375,1001.2,1000.6666666666666,999.125,310.4375,998.5,998.7777777777778,999.3333333333334,1000.8,1000.529411764706,999.6363636363636,998.5,999.3703703703704,1001.6071428571428,1002.2857142857144,1001.0714285714286,633.9,999.2857142857144,-3.0416666666666665,999.5185185185184,999.9230769230768,999.8928571428572,1000.16,1001.1923076923076,1002.8888888888888,1003.24,1002.5,1004.4230769230768,1005.2222222222222,1006.1428571428572,1006.2,1003.6071428571428,1002.1923076923076,1003.0370370370372,1002.44,1001.2727272727273,1001.157894736842,1002.9230769230768,1003.2307692307692,1003.75,1003.4545454545456,1005.1666666666666,1004.3333333333334,1005.2307692307692,1003.8,1005.0714285714286,1006.4,1006.9285714285714,1004.75,1004.4,1003.1538461538462,1005.0,1004.7083333333334,1003.5185185185184,1005.4,1008.7777777777778,1005.3214285714286,1352.6153846153843,1004.782608695652,1006.76,1006.7037037037036,1005.28,1005.5909090909092,1005.5714285714286,1007.5,1009.1111111111112,1007.1851851851852,1005.3703703703704,1005.25,1007.1481481481482,1007.2,1006.8461538461538,1005.96,1006.1481481481482,1006.5925925925926,1006.25,1008.3333333333334,1009.125,1010.5185185185184,1011.8571428571428,1010.56,1009.4583333333334,1008.5555555555557,1007.5384615384615,1008.7272727272727,1009.3703703703704,1009.3076923076924,1008.2692307692308,1008.9230769230768,1011.7307692307692,1014.6296296296296,1012.4074074074074,1013.0,1014.608695652174,1017.8076923076924,1016.3846153846154,1016.5909090909092,1016.24,1012.6296296296296,1010.3461538461538,1011.5185185185184,1012.7727272727273,1013.64,1014.6666666666666,1013.8148148148148,1014.08,1015.1538461538462,1016.5185185185184,1015.7307692307692,1016.24,1017.5384615384615,1350.2962962962963,1014.6923076923076,1012.4666666666668,1013.35,1013.0,1012.8947368421052,1013.1739130434784,1014.9473684210526,1012.95,1013.25,1013.5909090909092,12.045454545454543,1015.0,1016.608695652174,1016.875,1017.75,1019.3333333333334,1019.7,1017.0454545454544,1017.9615384615385,1017.421052631579,1016.2,1013.4166666666666,1014.0,1013.2916666666666,1014.181818181818,1015.1,1017.3333333333334,1016.6666666666666,1018.7777777777778,1016.9473684210526,1018.0833333333334,1017.4285714285714,1015.2,1015.6190476190476,1016.1428571428572,1014.25,1011.318181818182,1014.35,1016.952380952381,1017.2,1015.5652173913044,1016.904761904762,1017.904761904762,1016.1],\"type\":\"scatter\"}],                        {\"template\":{\"data\":{\"barpolar\":[{\"marker\":{\"line\":{\"color\":\"white\",\"width\":0.5},\"pattern\":{\"fillmode\":\"overlay\",\"size\":10,\"solidity\":0.2}},\"type\":\"barpolar\"}],\"bar\":[{\"error_x\":{\"color\":\"#2a3f5f\"},\"error_y\":{\"color\":\"#2a3f5f\"},\"marker\":{\"line\":{\"color\":\"white\",\"width\":0.5},\"pattern\":{\"fillmode\":\"overlay\",\"size\":10,\"solidity\":0.2}},\"type\":\"bar\"}],\"carpet\":[{\"aaxis\":{\"endlinecolor\":\"#2a3f5f\",\"gridcolor\":\"#C8D4E3\",\"linecolor\":\"#C8D4E3\",\"minorgridcolor\":\"#C8D4E3\",\"startlinecolor\":\"#2a3f5f\"},\"baxis\":{\"endlinecolor\":\"#2a3f5f\",\"gridcolor\":\"#C8D4E3\",\"linecolor\":\"#C8D4E3\",\"minorgridcolor\":\"#C8D4E3\",\"startlinecolor\":\"#2a3f5f\"},\"type\":\"carpet\"}],\"choropleth\":[{\"colorbar\":{\"outlinewidth\":0,\"ticks\":\"\"},\"type\":\"choropleth\"}],\"contourcarpet\":[{\"colorbar\":{\"outlinewidth\":0,\"ticks\":\"\"},\"type\":\"contourcarpet\"}],\"contour\":[{\"colorbar\":{\"outlinewidth\":0,\"ticks\":\"\"},\"colorscale\":[[0.0,\"#0d0887\"],[0.1111111111111111,\"#46039f\"],[0.2222222222222222,\"#7201a8\"],[0.3333333333333333,\"#9c179e\"],[0.4444444444444444,\"#bd3786\"],[0.5555555555555556,\"#d8576b\"],[0.6666666666666666,\"#ed7953\"],[0.7777777777777778,\"#fb9f3a\"],[0.8888888888888888,\"#fdca26\"],[1.0,\"#f0f921\"]],\"type\":\"contour\"}],\"heatmapgl\":[{\"colorbar\":{\"outlinewidth\":0,\"ticks\":\"\"},\"colorscale\":[[0.0,\"#0d0887\"],[0.1111111111111111,\"#46039f\"],[0.2222222222222222,\"#7201a8\"],[0.3333333333333333,\"#9c179e\"],[0.4444444444444444,\"#bd3786\"],[0.5555555555555556,\"#d8576b\"],[0.6666666666666666,\"#ed7953\"],[0.7777777777777778,\"#fb9f3a\"],[0.8888888888888888,\"#fdca26\"],[1.0,\"#f0f921\"]],\"type\":\"heatmapgl\"}],\"heatmap\":[{\"colorbar\":{\"outlinewidth\":0,\"ticks\":\"\"},\"colorscale\":[[0.0,\"#0d0887\"],[0.1111111111111111,\"#46039f\"],[0.2222222222222222,\"#7201a8\"],[0.3333333333333333,\"#9c179e\"],[0.4444444444444444,\"#bd3786\"],[0.5555555555555556,\"#d8576b\"],[0.6666666666666666,\"#ed7953\"],[0.7777777777777778,\"#fb9f3a\"],[0.8888888888888888,\"#fdca26\"],[1.0,\"#f0f921\"]],\"type\":\"heatmap\"}],\"histogram2dcontour\":[{\"colorbar\":{\"outlinewidth\":0,\"ticks\":\"\"},\"colorscale\":[[0.0,\"#0d0887\"],[0.1111111111111111,\"#46039f\"],[0.2222222222222222,\"#7201a8\"],[0.3333333333333333,\"#9c179e\"],[0.4444444444444444,\"#bd3786\"],[0.5555555555555556,\"#d8576b\"],[0.6666666666666666,\"#ed7953\"],[0.7777777777777778,\"#fb9f3a\"],[0.8888888888888888,\"#fdca26\"],[1.0,\"#f0f921\"]],\"type\":\"histogram2dcontour\"}],\"histogram2d\":[{\"colorbar\":{\"outlinewidth\":0,\"ticks\":\"\"},\"colorscale\":[[0.0,\"#0d0887\"],[0.1111111111111111,\"#46039f\"],[0.2222222222222222,\"#7201a8\"],[0.3333333333333333,\"#9c179e\"],[0.4444444444444444,\"#bd3786\"],[0.5555555555555556,\"#d8576b\"],[0.6666666666666666,\"#ed7953\"],[0.7777777777777778,\"#fb9f3a\"],[0.8888888888888888,\"#fdca26\"],[1.0,\"#f0f921\"]],\"type\":\"histogram2d\"}],\"histogram\":[{\"marker\":{\"pattern\":{\"fillmode\":\"overlay\",\"size\":10,\"solidity\":0.2}},\"type\":\"histogram\"}],\"mesh3d\":[{\"colorbar\":{\"outlinewidth\":0,\"ticks\":\"\"},\"type\":\"mesh3d\"}],\"parcoords\":[{\"line\":{\"colorbar\":{\"outlinewidth\":0,\"ticks\":\"\"}},\"type\":\"parcoords\"}],\"pie\":[{\"automargin\":true,\"type\":\"pie\"}],\"scatter3d\":[{\"line\":{\"colorbar\":{\"outlinewidth\":0,\"ticks\":\"\"}},\"marker\":{\"colorbar\":{\"outlinewidth\":0,\"ticks\":\"\"}},\"type\":\"scatter3d\"}],\"scattercarpet\":[{\"marker\":{\"colorbar\":{\"outlinewidth\":0,\"ticks\":\"\"}},\"type\":\"scattercarpet\"}],\"scattergeo\":[{\"marker\":{\"colorbar\":{\"outlinewidth\":0,\"ticks\":\"\"}},\"type\":\"scattergeo\"}],\"scattergl\":[{\"marker\":{\"colorbar\":{\"outlinewidth\":0,\"ticks\":\"\"}},\"type\":\"scattergl\"}],\"scattermapbox\":[{\"marker\":{\"colorbar\":{\"outlinewidth\":0,\"ticks\":\"\"}},\"type\":\"scattermapbox\"}],\"scatterpolargl\":[{\"marker\":{\"colorbar\":{\"outlinewidth\":0,\"ticks\":\"\"}},\"type\":\"scatterpolargl\"}],\"scatterpolar\":[{\"marker\":{\"colorbar\":{\"outlinewidth\":0,\"ticks\":\"\"}},\"type\":\"scatterpolar\"}],\"scatter\":[{\"fillpattern\":{\"fillmode\":\"overlay\",\"size\":10,\"solidity\":0.2},\"type\":\"scatter\"}],\"scatterternary\":[{\"marker\":{\"colorbar\":{\"outlinewidth\":0,\"ticks\":\"\"}},\"type\":\"scatterternary\"}],\"surface\":[{\"colorbar\":{\"outlinewidth\":0,\"ticks\":\"\"},\"colorscale\":[[0.0,\"#0d0887\"],[0.1111111111111111,\"#46039f\"],[0.2222222222222222,\"#7201a8\"],[0.3333333333333333,\"#9c179e\"],[0.4444444444444444,\"#bd3786\"],[0.5555555555555556,\"#d8576b\"],[0.6666666666666666,\"#ed7953\"],[0.7777777777777778,\"#fb9f3a\"],[0.8888888888888888,\"#fdca26\"],[1.0,\"#f0f921\"]],\"type\":\"surface\"}],\"table\":[{\"cells\":{\"fill\":{\"color\":\"#EBF0F8\"},\"line\":{\"color\":\"white\"}},\"header\":{\"fill\":{\"color\":\"#C8D4E3\"},\"line\":{\"color\":\"white\"}},\"type\":\"table\"}]},\"layout\":{\"annotationdefaults\":{\"arrowcolor\":\"#2a3f5f\",\"arrowhead\":0,\"arrowwidth\":1},\"autotypenumbers\":\"strict\",\"coloraxis\":{\"colorbar\":{\"outlinewidth\":0,\"ticks\":\"\"}},\"colorscale\":{\"diverging\":[[0,\"#8e0152\"],[0.1,\"#c51b7d\"],[0.2,\"#de77ae\"],[0.3,\"#f1b6da\"],[0.4,\"#fde0ef\"],[0.5,\"#f7f7f7\"],[0.6,\"#e6f5d0\"],[0.7,\"#b8e186\"],[0.8,\"#7fbc41\"],[0.9,\"#4d9221\"],[1,\"#276419\"]],\"sequential\":[[0.0,\"#0d0887\"],[0.1111111111111111,\"#46039f\"],[0.2222222222222222,\"#7201a8\"],[0.3333333333333333,\"#9c179e\"],[0.4444444444444444,\"#bd3786\"],[0.5555555555555556,\"#d8576b\"],[0.6666666666666666,\"#ed7953\"],[0.7777777777777778,\"#fb9f3a\"],[0.8888888888888888,\"#fdca26\"],[1.0,\"#f0f921\"]],\"sequentialminus\":[[0.0,\"#0d0887\"],[0.1111111111111111,\"#46039f\"],[0.2222222222222222,\"#7201a8\"],[0.3333333333333333,\"#9c179e\"],[0.4444444444444444,\"#bd3786\"],[0.5555555555555556,\"#d8576b\"],[0.6666666666666666,\"#ed7953\"],[0.7777777777777778,\"#fb9f3a\"],[0.8888888888888888,\"#fdca26\"],[1.0,\"#f0f921\"]]},\"colorway\":[\"#636efa\",\"#EF553B\",\"#00cc96\",\"#ab63fa\",\"#FFA15A\",\"#19d3f3\",\"#FF6692\",\"#B6E880\",\"#FF97FF\",\"#FECB52\"],\"font\":{\"color\":\"#2a3f5f\"},\"geo\":{\"bgcolor\":\"white\",\"lakecolor\":\"white\",\"landcolor\":\"white\",\"showlakes\":true,\"showland\":true,\"subunitcolor\":\"#C8D4E3\"},\"hoverlabel\":{\"align\":\"left\"},\"hovermode\":\"closest\",\"mapbox\":{\"style\":\"light\"},\"paper_bgcolor\":\"white\",\"plot_bgcolor\":\"white\",\"polar\":{\"angularaxis\":{\"gridcolor\":\"#EBF0F8\",\"linecolor\":\"#EBF0F8\",\"ticks\":\"\"},\"bgcolor\":\"white\",\"radialaxis\":{\"gridcolor\":\"#EBF0F8\",\"linecolor\":\"#EBF0F8\",\"ticks\":\"\"}},\"scene\":{\"xaxis\":{\"backgroundcolor\":\"white\",\"gridcolor\":\"#DFE8F3\",\"gridwidth\":2,\"linecolor\":\"#EBF0F8\",\"showbackground\":true,\"ticks\":\"\",\"zerolinecolor\":\"#EBF0F8\"},\"yaxis\":{\"backgroundcolor\":\"white\",\"gridcolor\":\"#DFE8F3\",\"gridwidth\":2,\"linecolor\":\"#EBF0F8\",\"showbackground\":true,\"ticks\":\"\",\"zerolinecolor\":\"#EBF0F8\"},\"zaxis\":{\"backgroundcolor\":\"white\",\"gridcolor\":\"#DFE8F3\",\"gridwidth\":2,\"linecolor\":\"#EBF0F8\",\"showbackground\":true,\"ticks\":\"\",\"zerolinecolor\":\"#EBF0F8\"}},\"shapedefaults\":{\"line\":{\"color\":\"#2a3f5f\"}},\"ternary\":{\"aaxis\":{\"gridcolor\":\"#DFE8F3\",\"linecolor\":\"#A2B1C6\",\"ticks\":\"\"},\"baxis\":{\"gridcolor\":\"#DFE8F3\",\"linecolor\":\"#A2B1C6\",\"ticks\":\"\"},\"bgcolor\":\"white\",\"caxis\":{\"gridcolor\":\"#DFE8F3\",\"linecolor\":\"#A2B1C6\",\"ticks\":\"\"}},\"title\":{\"x\":0.05},\"xaxis\":{\"automargin\":true,\"gridcolor\":\"#EBF0F8\",\"linecolor\":\"#EBF0F8\",\"ticks\":\"\",\"title\":{\"standoff\":15},\"zerolinecolor\":\"#EBF0F8\",\"zerolinewidth\":2},\"yaxis\":{\"automargin\":true,\"gridcolor\":\"#EBF0F8\",\"linecolor\":\"#EBF0F8\",\"ticks\":\"\",\"title\":{\"standoff\":15},\"zerolinecolor\":\"#EBF0F8\",\"zerolinewidth\":2}}},\"title\":{\"text\":\"Mean Pressure (2016)\",\"x\":0.5},\"xaxis\":{\"title\":{\"text\":\"Date\"}},\"yaxis\":{\"title\":{\"text\":\"Value\"}},\"height\":380},                        {\"responsive\": true}                    ).then(function(){\n",
       "                            \n",
       "var gd = document.getElementById('752d0b0d-b11a-4a1d-b5a4-c74544dc6fb4');\n",
       "var x = new MutationObserver(function (mutations, observer) {{\n",
       "        var display = window.getComputedStyle(gd).display;\n",
       "        if (!display || display === 'none') {{\n",
       "            console.log([gd, 'removed!']);\n",
       "            Plotly.purge(gd);\n",
       "            observer.disconnect();\n",
       "        }}\n",
       "}});\n",
       "\n",
       "// Listen for the removal of the full notebook cells\n",
       "var notebookContainer = gd.closest('#notebook-container');\n",
       "if (notebookContainer) {{\n",
       "    x.observe(notebookContainer, {childList: true});\n",
       "}}\n",
       "\n",
       "// Listen for the clearing of the current output cell\n",
       "var outputEl = gd.closest('.output');\n",
       "if (outputEl) {{\n",
       "    x.observe(outputEl, {childList: true});\n",
       "}}\n",
       "\n",
       "                        })                };                });            </script>        </div>"
      ]
     },
     "metadata": {},
     "output_type": "display_data"
    }
   ],
   "source": [
    "# Mean Temperature for 2013\n",
    "fig_temp_2013 = go.Figure()\n",
    "fig_temp_2013.add_trace(go.Scatter(x=df_train.loc['2013', :].index, \n",
    "                                   y=df_train.loc['2013', 'meantemp'], \n",
    "                                   mode='lines',\n",
    "                                   line=dict(color='blue')))  \n",
    "fig_temp_2013.update_layout(title=\"Mean Temperature (2013)\", xaxis_title=\"Date\", yaxis_title=\"Value\", template='plotly_white', title_x=0.5, height=380)  \n",
    "fig_temp_2013.show()\n",
    "\n",
    "# Mean Temperature for 2016\n",
    "fig_temp_2016 = go.Figure()\n",
    "fig_temp_2016.add_trace(go.Scatter(x=df_train.loc['2016', :].index, \n",
    "                                   y=df_train.loc['2016', 'meantemp'], \n",
    "                                   mode='lines',\n",
    "                                   line=dict(color='blue'))) \n",
    "fig_temp_2016.update_layout(title=\"Mean Temperature (2016)\", xaxis_title=\"Date\", yaxis_title=\"Value\", template='plotly_white', title_x=0.5, height=380)  \n",
    "fig_temp_2016.show()\n",
    "\n",
    "# Humidity for 2013\n",
    "fig_humidity_2013 = go.Figure()\n",
    "fig_humidity_2013.add_trace(go.Scatter(x=df_train.loc['2013', :].index, \n",
    "                                       y=df_train.loc['2013', 'humidity'], \n",
    "                                       mode='lines',\n",
    "                                       line=dict(color='green'))) \n",
    "fig_humidity_2013.update_layout(title=\"Humidity (2013)\", xaxis_title=\"Date\", yaxis_title=\"Value\", template='plotly_white', title_x=0.5, height=380)  \n",
    "fig_humidity_2013.show()\n",
    "\n",
    "# Humidity for 2016\n",
    "fig_humidity_2016 = go.Figure()\n",
    "fig_humidity_2016.add_trace(go.Scatter(x=df_train.loc['2016', :].index, \n",
    "                                       y=df_train.loc['2016', 'humidity'], \n",
    "                                       mode='lines',\n",
    "                                       line=dict(color='green')))  \n",
    "fig_humidity_2016.update_layout(title=\"Humidity (2016)\", xaxis_title=\"Date\", yaxis_title=\"Value\", template='plotly_white', title_x=0.5, height=380)\n",
    "fig_humidity_2016.show()\n",
    "\n",
    "# Plotting Wind Speed for 2013\n",
    "fig_wind_2013 = go.Figure()\n",
    "fig_wind_2013.add_trace(go.Scatter(x=df_train.loc['2013', :].index, \n",
    "                                   y=df_train.loc['2013', 'wind_speed'], \n",
    "                                   mode='lines',\n",
    "                                   line=dict(color='red')))  \n",
    "fig_wind_2013.update_layout(title=\"Wind Speed (2013)\", xaxis_title=\"Date\", yaxis_title=\"Value\", template='plotly_white', title_x=0.5, height=380)  \n",
    "fig_wind_2013.show()\n",
    "\n",
    "# Wind Speed for 2016\n",
    "fig_wind_2016 = go.Figure()\n",
    "fig_wind_2016.add_trace(go.Scatter(x=df_train.loc['2016', :].index, \n",
    "                                   y=df_train.loc['2016', 'wind_speed'], \n",
    "                                   mode='lines',\n",
    "                                   line=dict(color='red')))  \n",
    "fig_wind_2016.update_layout(title=\"Wind Speed (2016)\", xaxis_title=\"Date\", yaxis_title=\"Value\", template='plotly_white', title_x=0.5, height=380)  \n",
    "fig_wind_2016.show()\n",
    "\n",
    "#Mean Pressure for 2013\n",
    "fig_pressure_2013 = go.Figure()\n",
    "fig_pressure_2013.add_trace(go.Scatter(x=df_train.loc['2013', :].index, \n",
    "                                       y=df_train.loc['2013', 'meanpressure'], \n",
    "                                       mode='lines',\n",
    "                                       line=dict(color='purple')))  \n",
    "fig_pressure_2013.update_layout(title=\"Mean Pressure (2013)\", xaxis_title=\"Date\", yaxis_title=\"Value\", template='plotly_white', title_x=0.5, height=380)  \n",
    "fig_pressure_2013.show()\n",
    "\n",
    "# Mean Pressure for 2016\n",
    "fig_pressure_2016 = go.Figure()\n",
    "fig_pressure_2016.add_trace(go.Scatter(x=df_train.loc['2016', :].index, \n",
    "                                       y=df_train.loc['2016', 'meanpressure'], \n",
    "                                       mode='lines',\n",
    "                                       line=dict(color='purple')))  \n",
    "fig_pressure_2016.update_layout(title=\"Mean Pressure (2016)\", xaxis_title=\"Date\", yaxis_title=\"Value\", template='plotly_white', title_x=0.5, height=380)  \n"
   ]
  },
  {
   "cell_type": "markdown",
   "id": "def73103",
   "metadata": {
    "papermill": {
     "duration": 0.030856,
     "end_time": "2024-03-30T13:47:20.950186",
     "exception": false,
     "start_time": "2024-03-30T13:47:20.919330",
     "status": "completed"
    },
    "tags": []
   },
   "source": [
    "# 🔖Preprocessing "
   ]
  },
  {
   "cell_type": "markdown",
   "id": "0a93c391",
   "metadata": {
    "papermill": {
     "duration": 0.031188,
     "end_time": "2024-03-30T13:47:21.012785",
     "exception": false,
     "start_time": "2024-03-30T13:47:20.981597",
     "status": "completed"
    },
    "tags": []
   },
   "source": [
    "### 🔗Checking Datatypes"
   ]
  },
  {
   "cell_type": "code",
   "execution_count": 21,
   "id": "b9b29128",
   "metadata": {
    "execution": {
     "iopub.execute_input": "2024-03-30T13:47:21.078295Z",
     "iopub.status.busy": "2024-03-30T13:47:21.077144Z",
     "iopub.status.idle": "2024-03-30T13:47:21.084986Z",
     "shell.execute_reply": "2024-03-30T13:47:21.084228Z"
    },
    "papermill": {
     "duration": 0.042305,
     "end_time": "2024-03-30T13:47:21.086979",
     "exception": false,
     "start_time": "2024-03-30T13:47:21.044674",
     "status": "completed"
    },
    "tags": []
   },
   "outputs": [
    {
     "data": {
      "text/plain": [
       "meantemp        float64\n",
       "humidity        float64\n",
       "wind_speed      float64\n",
       "meanpressure    float64\n",
       "year              int32\n",
       "month             int32\n",
       "day_name         object\n",
       "dtype: object"
      ]
     },
     "execution_count": 21,
     "metadata": {},
     "output_type": "execute_result"
    }
   ],
   "source": [
    "df_train.dtypes"
   ]
  },
  {
   "cell_type": "markdown",
   "id": "065a5740",
   "metadata": {
    "papermill": {
     "duration": 0.030934,
     "end_time": "2024-03-30T13:47:21.149026",
     "exception": false,
     "start_time": "2024-03-30T13:47:21.118092",
     "status": "completed"
    },
    "tags": []
   },
   "source": [
    "### 🔗Dropping unnermical col <br>\n",
    "'i see that it will not have a big affect'"
   ]
  },
  {
   "cell_type": "code",
   "execution_count": 22,
   "id": "f1b1ccfd",
   "metadata": {
    "execution": {
     "iopub.execute_input": "2024-03-30T13:47:21.214630Z",
     "iopub.status.busy": "2024-03-30T13:47:21.214233Z",
     "iopub.status.idle": "2024-03-30T13:47:21.220629Z",
     "shell.execute_reply": "2024-03-30T13:47:21.219755Z"
    },
    "papermill": {
     "duration": 0.042547,
     "end_time": "2024-03-30T13:47:21.222634",
     "exception": false,
     "start_time": "2024-03-30T13:47:21.180087",
     "status": "completed"
    },
    "tags": []
   },
   "outputs": [],
   "source": [
    "df_train_Numerical = df_train.drop(columns=['day_name'])\n",
    "df_test_Numerical = df_test.drop(columns=['day_name'])"
   ]
  },
  {
   "cell_type": "code",
   "execution_count": 23,
   "id": "455f8112",
   "metadata": {
    "execution": {
     "iopub.execute_input": "2024-03-30T13:47:21.285902Z",
     "iopub.status.busy": "2024-03-30T13:47:21.285509Z",
     "iopub.status.idle": "2024-03-30T13:47:21.291954Z",
     "shell.execute_reply": "2024-03-30T13:47:21.291144Z"
    },
    "papermill": {
     "duration": 0.040802,
     "end_time": "2024-03-30T13:47:21.293885",
     "exception": false,
     "start_time": "2024-03-30T13:47:21.253083",
     "status": "completed"
    },
    "tags": []
   },
   "outputs": [
    {
     "data": {
      "text/plain": [
       "Index(['meantemp', 'humidity', 'wind_speed', 'meanpressure', 'year', 'month'], dtype='object')"
      ]
     },
     "execution_count": 23,
     "metadata": {},
     "output_type": "execute_result"
    }
   ],
   "source": [
    "df_train_Numerical.columns"
   ]
  },
  {
   "cell_type": "code",
   "execution_count": 24,
   "id": "fd921569",
   "metadata": {
    "execution": {
     "iopub.execute_input": "2024-03-30T13:47:21.358572Z",
     "iopub.status.busy": "2024-03-30T13:47:21.357924Z",
     "iopub.status.idle": "2024-03-30T13:47:21.364809Z",
     "shell.execute_reply": "2024-03-30T13:47:21.363750Z"
    },
    "papermill": {
     "duration": 0.042003,
     "end_time": "2024-03-30T13:47:21.367247",
     "exception": false,
     "start_time": "2024-03-30T13:47:21.325244",
     "status": "completed"
    },
    "tags": []
   },
   "outputs": [
    {
     "data": {
      "text/plain": [
       "Index(['meantemp', 'humidity', 'wind_speed', 'meanpressure', 'year', 'month'], dtype='object')"
      ]
     },
     "execution_count": 24,
     "metadata": {},
     "output_type": "execute_result"
    }
   ],
   "source": [
    "df_test_Numerical.columns"
   ]
  },
  {
   "cell_type": "markdown",
   "id": "8e6144d9",
   "metadata": {
    "papermill": {
     "duration": 0.030936,
     "end_time": "2024-03-30T13:47:21.429510",
     "exception": false,
     "start_time": "2024-03-30T13:47:21.398574",
     "status": "completed"
    },
    "tags": []
   },
   "source": [
    "### 🔗Normalizing "
   ]
  },
  {
   "cell_type": "code",
   "execution_count": 25,
   "id": "bfddb7d7",
   "metadata": {
    "execution": {
     "iopub.execute_input": "2024-03-30T13:47:21.493641Z",
     "iopub.status.busy": "2024-03-30T13:47:21.493204Z",
     "iopub.status.idle": "2024-03-30T13:47:21.504995Z",
     "shell.execute_reply": "2024-03-30T13:47:21.504209Z"
    },
    "papermill": {
     "duration": 0.04646,
     "end_time": "2024-03-30T13:47:21.507118",
     "exception": false,
     "start_time": "2024-03-30T13:47:21.460658",
     "status": "completed"
    },
    "tags": []
   },
   "outputs": [],
   "source": [
    "scl = StandardScaler()\n",
    "df_train_scl = scl.fit_transform(df_train_Numerical)\n",
    "df_test_scl = scl.transform(df_test_Numerical)"
   ]
  },
  {
   "cell_type": "code",
   "execution_count": 26,
   "id": "1daf68a3",
   "metadata": {
    "execution": {
     "iopub.execute_input": "2024-03-30T13:47:21.572580Z",
     "iopub.status.busy": "2024-03-30T13:47:21.571561Z",
     "iopub.status.idle": "2024-03-30T13:47:21.578436Z",
     "shell.execute_reply": "2024-03-30T13:47:21.577474Z"
    },
    "papermill": {
     "duration": 0.041946,
     "end_time": "2024-03-30T13:47:21.580517",
     "exception": false,
     "start_time": "2024-03-30T13:47:21.538571",
     "status": "completed"
    },
    "tags": []
   },
   "outputs": [
    {
     "data": {
      "text/plain": [
       "numpy.ndarray"
      ]
     },
     "execution_count": 26,
     "metadata": {},
     "output_type": "execute_result"
    }
   ],
   "source": [
    "type(df_train_scl)"
   ]
  },
  {
   "cell_type": "markdown",
   "id": "70c31b16",
   "metadata": {
    "papermill": {
     "duration": 0.031327,
     "end_time": "2024-03-30T13:47:21.643250",
     "exception": false,
     "start_time": "2024-03-30T13:47:21.611923",
     "status": "completed"
    },
    "tags": []
   },
   "source": [
    "### 🔗Convert noramlized data from numpy to dataframe"
   ]
  },
  {
   "cell_type": "code",
   "execution_count": 27,
   "id": "5873ebcc",
   "metadata": {
    "execution": {
     "iopub.execute_input": "2024-03-30T13:47:21.708262Z",
     "iopub.status.busy": "2024-03-30T13:47:21.707649Z",
     "iopub.status.idle": "2024-03-30T13:47:21.723203Z",
     "shell.execute_reply": "2024-03-30T13:47:21.722108Z"
    },
    "papermill": {
     "duration": 0.051416,
     "end_time": "2024-03-30T13:47:21.725623",
     "exception": false,
     "start_time": "2024-03-30T13:47:21.674207",
     "status": "completed"
    },
    "tags": []
   },
   "outputs": [
    {
     "data": {
      "text/html": [
       "<div>\n",
       "<style scoped>\n",
       "    .dataframe tbody tr th:only-of-type {\n",
       "        vertical-align: middle;\n",
       "    }\n",
       "\n",
       "    .dataframe tbody tr th {\n",
       "        vertical-align: top;\n",
       "    }\n",
       "\n",
       "    .dataframe thead th {\n",
       "        text-align: right;\n",
       "    }\n",
       "</style>\n",
       "<table border=\"1\" class=\"dataframe\">\n",
       "  <thead>\n",
       "    <tr style=\"text-align: right;\">\n",
       "      <th></th>\n",
       "      <th>0</th>\n",
       "      <th>1</th>\n",
       "      <th>2</th>\n",
       "      <th>3</th>\n",
       "      <th>4</th>\n",
       "      <th>5</th>\n",
       "    </tr>\n",
       "  </thead>\n",
       "  <tbody>\n",
       "    <tr>\n",
       "      <th>0</th>\n",
       "      <td>-2.109500</td>\n",
       "      <td>1.415439</td>\n",
       "      <td>-1.491699</td>\n",
       "      <td>0.025321</td>\n",
       "      <td>-1.341891</td>\n",
       "      <td>-1.599501</td>\n",
       "    </tr>\n",
       "    <tr>\n",
       "      <th>1</th>\n",
       "      <td>-2.463454</td>\n",
       "      <td>1.862828</td>\n",
       "      <td>-0.838196</td>\n",
       "      <td>0.037162</td>\n",
       "      <td>-1.341891</td>\n",
       "      <td>-1.599501</td>\n",
       "    </tr>\n",
       "    <tr>\n",
       "      <th>2</th>\n",
       "      <td>-2.495219</td>\n",
       "      <td>1.564569</td>\n",
       "      <td>-0.475626</td>\n",
       "      <td>0.041972</td>\n",
       "      <td>-1.341891</td>\n",
       "      <td>-1.599501</td>\n",
       "    </tr>\n",
       "    <tr>\n",
       "      <th>3</th>\n",
       "      <td>-2.291015</td>\n",
       "      <td>0.630022</td>\n",
       "      <td>-1.221233</td>\n",
       "      <td>0.033647</td>\n",
       "      <td>-1.341891</td>\n",
       "      <td>-1.599501</td>\n",
       "    </tr>\n",
       "    <tr>\n",
       "      <th>4</th>\n",
       "      <td>-2.654044</td>\n",
       "      <td>1.554627</td>\n",
       "      <td>-0.680303</td>\n",
       "      <td>0.029946</td>\n",
       "      <td>-1.341891</td>\n",
       "      <td>-1.599501</td>\n",
       "    </tr>\n",
       "    <tr>\n",
       "      <th>...</th>\n",
       "      <td>...</td>\n",
       "      <td>...</td>\n",
       "      <td>...</td>\n",
       "      <td>...</td>\n",
       "      <td>...</td>\n",
       "      <td>...</td>\n",
       "    </tr>\n",
       "    <tr>\n",
       "      <th>1457</th>\n",
       "      <td>-1.126952</td>\n",
       "      <td>0.433776</td>\n",
       "      <td>-0.713674</td>\n",
       "      <td>0.024758</td>\n",
       "      <td>1.337005</td>\n",
       "      <td>1.588400</td>\n",
       "    </tr>\n",
       "    <tr>\n",
       "      <th>1458</th>\n",
       "      <td>-1.396406</td>\n",
       "      <td>1.615699</td>\n",
       "      <td>-0.175921</td>\n",
       "      <td>0.032193</td>\n",
       "      <td>1.337005</td>\n",
       "      <td>1.588400</td>\n",
       "    </tr>\n",
       "    <tr>\n",
       "      <th>1459</th>\n",
       "      <td>-1.551990</td>\n",
       "      <td>1.723641</td>\n",
       "      <td>-0.117442</td>\n",
       "      <td>0.037743</td>\n",
       "      <td>1.337005</td>\n",
       "      <td>1.588400</td>\n",
       "    </tr>\n",
       "    <tr>\n",
       "      <th>1460</th>\n",
       "      <td>-1.421654</td>\n",
       "      <td>1.564569</td>\n",
       "      <td>0.114646</td>\n",
       "      <td>0.027726</td>\n",
       "      <td>1.337005</td>\n",
       "      <td>1.588400</td>\n",
       "    </tr>\n",
       "    <tr>\n",
       "      <th>1461</th>\n",
       "      <td>-2.109500</td>\n",
       "      <td>2.340044</td>\n",
       "      <td>-1.491699</td>\n",
       "      <td>0.027171</td>\n",
       "      <td>2.229970</td>\n",
       "      <td>-1.599501</td>\n",
       "    </tr>\n",
       "  </tbody>\n",
       "</table>\n",
       "<p>1462 rows × 6 columns</p>\n",
       "</div>"
      ],
      "text/plain": [
       "             0         1         2         3         4         5\n",
       "0    -2.109500  1.415439 -1.491699  0.025321 -1.341891 -1.599501\n",
       "1    -2.463454  1.862828 -0.838196  0.037162 -1.341891 -1.599501\n",
       "2    -2.495219  1.564569 -0.475626  0.041972 -1.341891 -1.599501\n",
       "3    -2.291015  0.630022 -1.221233  0.033647 -1.341891 -1.599501\n",
       "4    -2.654044  1.554627 -0.680303  0.029946 -1.341891 -1.599501\n",
       "...        ...       ...       ...       ...       ...       ...\n",
       "1457 -1.126952  0.433776 -0.713674  0.024758  1.337005  1.588400\n",
       "1458 -1.396406  1.615699 -0.175921  0.032193  1.337005  1.588400\n",
       "1459 -1.551990  1.723641 -0.117442  0.037743  1.337005  1.588400\n",
       "1460 -1.421654  1.564569  0.114646  0.027726  1.337005  1.588400\n",
       "1461 -2.109500  2.340044 -1.491699  0.027171  2.229970 -1.599501\n",
       "\n",
       "[1462 rows x 6 columns]"
      ]
     },
     "execution_count": 27,
     "metadata": {},
     "output_type": "execute_result"
    }
   ],
   "source": [
    "df_train_scl=pd.DataFrame(df_train_scl)\n",
    "df_train_scl"
   ]
  },
  {
   "cell_type": "code",
   "execution_count": 28,
   "id": "1c6244d3",
   "metadata": {
    "execution": {
     "iopub.execute_input": "2024-03-30T13:47:21.791256Z",
     "iopub.status.busy": "2024-03-30T13:47:21.790200Z",
     "iopub.status.idle": "2024-03-30T13:47:21.806404Z",
     "shell.execute_reply": "2024-03-30T13:47:21.805345Z"
    },
    "papermill": {
     "duration": 0.051258,
     "end_time": "2024-03-30T13:47:21.808604",
     "exception": false,
     "start_time": "2024-03-30T13:47:21.757346",
     "status": "completed"
    },
    "tags": []
   },
   "outputs": [
    {
     "data": {
      "text/html": [
       "<div>\n",
       "<style scoped>\n",
       "    .dataframe tbody tr th:only-of-type {\n",
       "        vertical-align: middle;\n",
       "    }\n",
       "\n",
       "    .dataframe tbody tr th {\n",
       "        vertical-align: top;\n",
       "    }\n",
       "\n",
       "    .dataframe thead th {\n",
       "        text-align: right;\n",
       "    }\n",
       "</style>\n",
       "<table border=\"1\" class=\"dataframe\">\n",
       "  <thead>\n",
       "    <tr style=\"text-align: right;\">\n",
       "      <th></th>\n",
       "      <th>0</th>\n",
       "      <th>1</th>\n",
       "      <th>2</th>\n",
       "      <th>3</th>\n",
       "      <th>4</th>\n",
       "      <th>5</th>\n",
       "    </tr>\n",
       "  </thead>\n",
       "  <tbody>\n",
       "    <tr>\n",
       "      <th>0</th>\n",
       "      <td>-1.304521</td>\n",
       "      <td>1.497136</td>\n",
       "      <td>-0.890064</td>\n",
       "      <td>-5.284478</td>\n",
       "      <td>2.22997</td>\n",
       "      <td>-1.599501</td>\n",
       "    </tr>\n",
       "    <tr>\n",
       "      <th>1</th>\n",
       "      <td>-0.952343</td>\n",
       "      <td>0.981305</td>\n",
       "      <td>-0.856958</td>\n",
       "      <td>0.039814</td>\n",
       "      <td>2.22997</td>\n",
       "      <td>-1.599501</td>\n",
       "    </tr>\n",
       "    <tr>\n",
       "      <th>2</th>\n",
       "      <td>-1.141421</td>\n",
       "      <td>1.259681</td>\n",
       "      <td>-0.610859</td>\n",
       "      <td>0.040122</td>\n",
       "      <td>2.22997</td>\n",
       "      <td>-1.599501</td>\n",
       "    </tr>\n",
       "    <tr>\n",
       "      <th>3</th>\n",
       "      <td>-0.925116</td>\n",
       "      <td>0.553468</td>\n",
       "      <td>-0.494997</td>\n",
       "      <td>0.025506</td>\n",
       "      <td>2.22997</td>\n",
       "      <td>-1.599501</td>\n",
       "    </tr>\n",
       "    <tr>\n",
       "      <th>4</th>\n",
       "      <td>-0.967469</td>\n",
       "      <td>0.845432</td>\n",
       "      <td>-0.768021</td>\n",
       "      <td>0.017921</td>\n",
       "      <td>2.22997</td>\n",
       "      <td>-1.599501</td>\n",
       "    </tr>\n",
       "    <tr>\n",
       "      <th>...</th>\n",
       "      <td>...</td>\n",
       "      <td>...</td>\n",
       "      <td>...</td>\n",
       "      <td>...</td>\n",
       "      <td>...</td>\n",
       "      <td>...</td>\n",
       "    </tr>\n",
       "    <tr>\n",
       "      <th>109</th>\n",
       "      <td>1.225835</td>\n",
       "      <td>-1.984721</td>\n",
       "      <td>-0.271863</td>\n",
       "      <td>-0.069265</td>\n",
       "      <td>2.22997</td>\n",
       "      <td>-0.730073</td>\n",
       "    </tr>\n",
       "    <tr>\n",
       "      <th>110</th>\n",
       "      <td>1.191801</td>\n",
       "      <td>-1.276355</td>\n",
       "      <td>0.035151</td>\n",
       "      <td>-0.062328</td>\n",
       "      <td>2.22997</td>\n",
       "      <td>-0.730073</td>\n",
       "    </tr>\n",
       "    <tr>\n",
       "      <th>111</th>\n",
       "      <td>1.008017</td>\n",
       "      <td>-1.185385</td>\n",
       "      <td>0.457845</td>\n",
       "      <td>-0.052753</td>\n",
       "      <td>2.22997</td>\n",
       "      <td>-0.730073</td>\n",
       "    </tr>\n",
       "    <tr>\n",
       "      <th>112</th>\n",
       "      <td>1.004614</td>\n",
       "      <td>-1.984721</td>\n",
       "      <td>0.693040</td>\n",
       "      <td>-0.049839</td>\n",
       "      <td>2.22997</td>\n",
       "      <td>-0.730073</td>\n",
       "    </tr>\n",
       "    <tr>\n",
       "      <th>113</th>\n",
       "      <td>0.885495</td>\n",
       "      <td>-2.006026</td>\n",
       "      <td>1.174317</td>\n",
       "      <td>-0.038640</td>\n",
       "      <td>2.22997</td>\n",
       "      <td>-0.730073</td>\n",
       "    </tr>\n",
       "  </tbody>\n",
       "</table>\n",
       "<p>114 rows × 6 columns</p>\n",
       "</div>"
      ],
      "text/plain": [
       "            0         1         2         3        4         5\n",
       "0   -1.304521  1.497136 -0.890064 -5.284478  2.22997 -1.599501\n",
       "1   -0.952343  0.981305 -0.856958  0.039814  2.22997 -1.599501\n",
       "2   -1.141421  1.259681 -0.610859  0.040122  2.22997 -1.599501\n",
       "3   -0.925116  0.553468 -0.494997  0.025506  2.22997 -1.599501\n",
       "4   -0.967469  0.845432 -0.768021  0.017921  2.22997 -1.599501\n",
       "..        ...       ...       ...       ...      ...       ...\n",
       "109  1.225835 -1.984721 -0.271863 -0.069265  2.22997 -0.730073\n",
       "110  1.191801 -1.276355  0.035151 -0.062328  2.22997 -0.730073\n",
       "111  1.008017 -1.185385  0.457845 -0.052753  2.22997 -0.730073\n",
       "112  1.004614 -1.984721  0.693040 -0.049839  2.22997 -0.730073\n",
       "113  0.885495 -2.006026  1.174317 -0.038640  2.22997 -0.730073\n",
       "\n",
       "[114 rows x 6 columns]"
      ]
     },
     "execution_count": 28,
     "metadata": {},
     "output_type": "execute_result"
    }
   ],
   "source": [
    "df_test_scl=pd.DataFrame(df_test_scl)\n",
    "df_test_scl"
   ]
  },
  {
   "cell_type": "markdown",
   "id": "2682d0f3",
   "metadata": {
    "papermill": {
     "duration": 0.03202,
     "end_time": "2024-03-30T13:47:21.872555",
     "exception": false,
     "start_time": "2024-03-30T13:47:21.840535",
     "status": "completed"
    },
    "tags": []
   },
   "source": [
    "### 🔗Rename cols "
   ]
  },
  {
   "cell_type": "code",
   "execution_count": 29,
   "id": "2da8c559",
   "metadata": {
    "execution": {
     "iopub.execute_input": "2024-03-30T13:47:21.940032Z",
     "iopub.status.busy": "2024-03-30T13:47:21.939351Z",
     "iopub.status.idle": "2024-03-30T13:47:21.956241Z",
     "shell.execute_reply": "2024-03-30T13:47:21.955175Z"
    },
    "papermill": {
     "duration": 0.053606,
     "end_time": "2024-03-30T13:47:21.958452",
     "exception": false,
     "start_time": "2024-03-30T13:47:21.904846",
     "status": "completed"
    },
    "tags": []
   },
   "outputs": [
    {
     "data": {
      "text/html": [
       "<div>\n",
       "<style scoped>\n",
       "    .dataframe tbody tr th:only-of-type {\n",
       "        vertical-align: middle;\n",
       "    }\n",
       "\n",
       "    .dataframe tbody tr th {\n",
       "        vertical-align: top;\n",
       "    }\n",
       "\n",
       "    .dataframe thead th {\n",
       "        text-align: right;\n",
       "    }\n",
       "</style>\n",
       "<table border=\"1\" class=\"dataframe\">\n",
       "  <thead>\n",
       "    <tr style=\"text-align: right;\">\n",
       "      <th></th>\n",
       "      <th>meantemp</th>\n",
       "      <th>humidity</th>\n",
       "      <th>wind_speed</th>\n",
       "      <th>meanpressure</th>\n",
       "      <th>year</th>\n",
       "      <th>month</th>\n",
       "    </tr>\n",
       "  </thead>\n",
       "  <tbody>\n",
       "    <tr>\n",
       "      <th>0</th>\n",
       "      <td>-2.109500</td>\n",
       "      <td>1.415439</td>\n",
       "      <td>-1.491699</td>\n",
       "      <td>0.025321</td>\n",
       "      <td>-1.341891</td>\n",
       "      <td>-1.599501</td>\n",
       "    </tr>\n",
       "    <tr>\n",
       "      <th>1</th>\n",
       "      <td>-2.463454</td>\n",
       "      <td>1.862828</td>\n",
       "      <td>-0.838196</td>\n",
       "      <td>0.037162</td>\n",
       "      <td>-1.341891</td>\n",
       "      <td>-1.599501</td>\n",
       "    </tr>\n",
       "    <tr>\n",
       "      <th>2</th>\n",
       "      <td>-2.495219</td>\n",
       "      <td>1.564569</td>\n",
       "      <td>-0.475626</td>\n",
       "      <td>0.041972</td>\n",
       "      <td>-1.341891</td>\n",
       "      <td>-1.599501</td>\n",
       "    </tr>\n",
       "    <tr>\n",
       "      <th>3</th>\n",
       "      <td>-2.291015</td>\n",
       "      <td>0.630022</td>\n",
       "      <td>-1.221233</td>\n",
       "      <td>0.033647</td>\n",
       "      <td>-1.341891</td>\n",
       "      <td>-1.599501</td>\n",
       "    </tr>\n",
       "    <tr>\n",
       "      <th>4</th>\n",
       "      <td>-2.654044</td>\n",
       "      <td>1.554627</td>\n",
       "      <td>-0.680303</td>\n",
       "      <td>0.029946</td>\n",
       "      <td>-1.341891</td>\n",
       "      <td>-1.599501</td>\n",
       "    </tr>\n",
       "    <tr>\n",
       "      <th>...</th>\n",
       "      <td>...</td>\n",
       "      <td>...</td>\n",
       "      <td>...</td>\n",
       "      <td>...</td>\n",
       "      <td>...</td>\n",
       "      <td>...</td>\n",
       "    </tr>\n",
       "    <tr>\n",
       "      <th>1457</th>\n",
       "      <td>-1.126952</td>\n",
       "      <td>0.433776</td>\n",
       "      <td>-0.713674</td>\n",
       "      <td>0.024758</td>\n",
       "      <td>1.337005</td>\n",
       "      <td>1.588400</td>\n",
       "    </tr>\n",
       "    <tr>\n",
       "      <th>1458</th>\n",
       "      <td>-1.396406</td>\n",
       "      <td>1.615699</td>\n",
       "      <td>-0.175921</td>\n",
       "      <td>0.032193</td>\n",
       "      <td>1.337005</td>\n",
       "      <td>1.588400</td>\n",
       "    </tr>\n",
       "    <tr>\n",
       "      <th>1459</th>\n",
       "      <td>-1.551990</td>\n",
       "      <td>1.723641</td>\n",
       "      <td>-0.117442</td>\n",
       "      <td>0.037743</td>\n",
       "      <td>1.337005</td>\n",
       "      <td>1.588400</td>\n",
       "    </tr>\n",
       "    <tr>\n",
       "      <th>1460</th>\n",
       "      <td>-1.421654</td>\n",
       "      <td>1.564569</td>\n",
       "      <td>0.114646</td>\n",
       "      <td>0.027726</td>\n",
       "      <td>1.337005</td>\n",
       "      <td>1.588400</td>\n",
       "    </tr>\n",
       "    <tr>\n",
       "      <th>1461</th>\n",
       "      <td>-2.109500</td>\n",
       "      <td>2.340044</td>\n",
       "      <td>-1.491699</td>\n",
       "      <td>0.027171</td>\n",
       "      <td>2.229970</td>\n",
       "      <td>-1.599501</td>\n",
       "    </tr>\n",
       "  </tbody>\n",
       "</table>\n",
       "<p>1462 rows × 6 columns</p>\n",
       "</div>"
      ],
      "text/plain": [
       "      meantemp  humidity  wind_speed  meanpressure      year     month\n",
       "0    -2.109500  1.415439   -1.491699      0.025321 -1.341891 -1.599501\n",
       "1    -2.463454  1.862828   -0.838196      0.037162 -1.341891 -1.599501\n",
       "2    -2.495219  1.564569   -0.475626      0.041972 -1.341891 -1.599501\n",
       "3    -2.291015  0.630022   -1.221233      0.033647 -1.341891 -1.599501\n",
       "4    -2.654044  1.554627   -0.680303      0.029946 -1.341891 -1.599501\n",
       "...        ...       ...         ...           ...       ...       ...\n",
       "1457 -1.126952  0.433776   -0.713674      0.024758  1.337005  1.588400\n",
       "1458 -1.396406  1.615699   -0.175921      0.032193  1.337005  1.588400\n",
       "1459 -1.551990  1.723641   -0.117442      0.037743  1.337005  1.588400\n",
       "1460 -1.421654  1.564569    0.114646      0.027726  1.337005  1.588400\n",
       "1461 -2.109500  2.340044   -1.491699      0.027171  2.229970 -1.599501\n",
       "\n",
       "[1462 rows x 6 columns]"
      ]
     },
     "execution_count": 29,
     "metadata": {},
     "output_type": "execute_result"
    }
   ],
   "source": [
    "df_train_scl.rename(columns={0: 'meantemp', 1: 'humidity',2:'wind_speed',3:'meanpressure',4:'year',5:'month'}, inplace=True)\n",
    "df_train_scl"
   ]
  },
  {
   "cell_type": "code",
   "execution_count": 30,
   "id": "b3166aad",
   "metadata": {
    "execution": {
     "iopub.execute_input": "2024-03-30T13:47:22.026473Z",
     "iopub.status.busy": "2024-03-30T13:47:22.025721Z",
     "iopub.status.idle": "2024-03-30T13:47:22.043423Z",
     "shell.execute_reply": "2024-03-30T13:47:22.042295Z"
    },
    "papermill": {
     "duration": 0.05433,
     "end_time": "2024-03-30T13:47:22.045802",
     "exception": false,
     "start_time": "2024-03-30T13:47:21.991472",
     "status": "completed"
    },
    "tags": []
   },
   "outputs": [
    {
     "data": {
      "text/html": [
       "<div>\n",
       "<style scoped>\n",
       "    .dataframe tbody tr th:only-of-type {\n",
       "        vertical-align: middle;\n",
       "    }\n",
       "\n",
       "    .dataframe tbody tr th {\n",
       "        vertical-align: top;\n",
       "    }\n",
       "\n",
       "    .dataframe thead th {\n",
       "        text-align: right;\n",
       "    }\n",
       "</style>\n",
       "<table border=\"1\" class=\"dataframe\">\n",
       "  <thead>\n",
       "    <tr style=\"text-align: right;\">\n",
       "      <th></th>\n",
       "      <th>meantemp</th>\n",
       "      <th>humidity</th>\n",
       "      <th>wind_speed</th>\n",
       "      <th>meanpressure</th>\n",
       "      <th>year</th>\n",
       "      <th>month</th>\n",
       "    </tr>\n",
       "  </thead>\n",
       "  <tbody>\n",
       "    <tr>\n",
       "      <th>0</th>\n",
       "      <td>-1.304521</td>\n",
       "      <td>1.497136</td>\n",
       "      <td>-0.890064</td>\n",
       "      <td>-5.284478</td>\n",
       "      <td>2.22997</td>\n",
       "      <td>-1.599501</td>\n",
       "    </tr>\n",
       "    <tr>\n",
       "      <th>1</th>\n",
       "      <td>-0.952343</td>\n",
       "      <td>0.981305</td>\n",
       "      <td>-0.856958</td>\n",
       "      <td>0.039814</td>\n",
       "      <td>2.22997</td>\n",
       "      <td>-1.599501</td>\n",
       "    </tr>\n",
       "    <tr>\n",
       "      <th>2</th>\n",
       "      <td>-1.141421</td>\n",
       "      <td>1.259681</td>\n",
       "      <td>-0.610859</td>\n",
       "      <td>0.040122</td>\n",
       "      <td>2.22997</td>\n",
       "      <td>-1.599501</td>\n",
       "    </tr>\n",
       "    <tr>\n",
       "      <th>3</th>\n",
       "      <td>-0.925116</td>\n",
       "      <td>0.553468</td>\n",
       "      <td>-0.494997</td>\n",
       "      <td>0.025506</td>\n",
       "      <td>2.22997</td>\n",
       "      <td>-1.599501</td>\n",
       "    </tr>\n",
       "    <tr>\n",
       "      <th>4</th>\n",
       "      <td>-0.967469</td>\n",
       "      <td>0.845432</td>\n",
       "      <td>-0.768021</td>\n",
       "      <td>0.017921</td>\n",
       "      <td>2.22997</td>\n",
       "      <td>-1.599501</td>\n",
       "    </tr>\n",
       "    <tr>\n",
       "      <th>...</th>\n",
       "      <td>...</td>\n",
       "      <td>...</td>\n",
       "      <td>...</td>\n",
       "      <td>...</td>\n",
       "      <td>...</td>\n",
       "      <td>...</td>\n",
       "    </tr>\n",
       "    <tr>\n",
       "      <th>109</th>\n",
       "      <td>1.225835</td>\n",
       "      <td>-1.984721</td>\n",
       "      <td>-0.271863</td>\n",
       "      <td>-0.069265</td>\n",
       "      <td>2.22997</td>\n",
       "      <td>-0.730073</td>\n",
       "    </tr>\n",
       "    <tr>\n",
       "      <th>110</th>\n",
       "      <td>1.191801</td>\n",
       "      <td>-1.276355</td>\n",
       "      <td>0.035151</td>\n",
       "      <td>-0.062328</td>\n",
       "      <td>2.22997</td>\n",
       "      <td>-0.730073</td>\n",
       "    </tr>\n",
       "    <tr>\n",
       "      <th>111</th>\n",
       "      <td>1.008017</td>\n",
       "      <td>-1.185385</td>\n",
       "      <td>0.457845</td>\n",
       "      <td>-0.052753</td>\n",
       "      <td>2.22997</td>\n",
       "      <td>-0.730073</td>\n",
       "    </tr>\n",
       "    <tr>\n",
       "      <th>112</th>\n",
       "      <td>1.004614</td>\n",
       "      <td>-1.984721</td>\n",
       "      <td>0.693040</td>\n",
       "      <td>-0.049839</td>\n",
       "      <td>2.22997</td>\n",
       "      <td>-0.730073</td>\n",
       "    </tr>\n",
       "    <tr>\n",
       "      <th>113</th>\n",
       "      <td>0.885495</td>\n",
       "      <td>-2.006026</td>\n",
       "      <td>1.174317</td>\n",
       "      <td>-0.038640</td>\n",
       "      <td>2.22997</td>\n",
       "      <td>-0.730073</td>\n",
       "    </tr>\n",
       "  </tbody>\n",
       "</table>\n",
       "<p>114 rows × 6 columns</p>\n",
       "</div>"
      ],
      "text/plain": [
       "     meantemp  humidity  wind_speed  meanpressure     year     month\n",
       "0   -1.304521  1.497136   -0.890064     -5.284478  2.22997 -1.599501\n",
       "1   -0.952343  0.981305   -0.856958      0.039814  2.22997 -1.599501\n",
       "2   -1.141421  1.259681   -0.610859      0.040122  2.22997 -1.599501\n",
       "3   -0.925116  0.553468   -0.494997      0.025506  2.22997 -1.599501\n",
       "4   -0.967469  0.845432   -0.768021      0.017921  2.22997 -1.599501\n",
       "..        ...       ...         ...           ...      ...       ...\n",
       "109  1.225835 -1.984721   -0.271863     -0.069265  2.22997 -0.730073\n",
       "110  1.191801 -1.276355    0.035151     -0.062328  2.22997 -0.730073\n",
       "111  1.008017 -1.185385    0.457845     -0.052753  2.22997 -0.730073\n",
       "112  1.004614 -1.984721    0.693040     -0.049839  2.22997 -0.730073\n",
       "113  0.885495 -2.006026    1.174317     -0.038640  2.22997 -0.730073\n",
       "\n",
       "[114 rows x 6 columns]"
      ]
     },
     "execution_count": 30,
     "metadata": {},
     "output_type": "execute_result"
    }
   ],
   "source": [
    "df_test_scl.rename(columns={0: 'meantemp', 1: 'humidity',2:'wind_speed',3:'meanpressure',4:'year',5:'month'}, inplace=True)\n",
    "df_test_scl"
   ]
  },
  {
   "cell_type": "markdown",
   "id": "1f63e82e",
   "metadata": {
    "papermill": {
     "duration": 0.033087,
     "end_time": "2024-03-30T13:47:22.111980",
     "exception": false,
     "start_time": "2024-03-30T13:47:22.078893",
     "status": "completed"
    },
    "tags": []
   },
   "source": [
    "### 🔗Add date as a col to df then make it as index"
   ]
  },
  {
   "cell_type": "code",
   "execution_count": 31,
   "id": "0ad4c4e5",
   "metadata": {
    "execution": {
     "iopub.execute_input": "2024-03-30T13:47:22.179504Z",
     "iopub.status.busy": "2024-03-30T13:47:22.178763Z",
     "iopub.status.idle": "2024-03-30T13:47:22.186732Z",
     "shell.execute_reply": "2024-03-30T13:47:22.185438Z"
    },
    "papermill": {
     "duration": 0.044199,
     "end_time": "2024-03-30T13:47:22.188869",
     "exception": false,
     "start_time": "2024-03-30T13:47:22.144670",
     "status": "completed"
    },
    "tags": []
   },
   "outputs": [
    {
     "name": "stdout",
     "output_type": "stream",
     "text": [
      "Index(['meantemp', 'humidity', 'wind_speed', 'meanpressure', 'year', 'month',\n",
      "       'date_train'],\n",
      "      dtype='object')\n"
     ]
    }
   ],
   "source": [
    "df_date_train = pd.DataFrame({'date_train': date_train}) #to df\n",
    "df_train_scl = pd.concat([df_train_scl, df_date_train], axis=1)#concat\n",
    "print(df_train_scl.columns)"
   ]
  },
  {
   "cell_type": "code",
   "execution_count": 32,
   "id": "67254459",
   "metadata": {
    "execution": {
     "iopub.execute_input": "2024-03-30T13:47:22.257400Z",
     "iopub.status.busy": "2024-03-30T13:47:22.256686Z",
     "iopub.status.idle": "2024-03-30T13:47:22.267404Z",
     "shell.execute_reply": "2024-03-30T13:47:22.266078Z"
    },
    "papermill": {
     "duration": 0.048573,
     "end_time": "2024-03-30T13:47:22.270967",
     "exception": false,
     "start_time": "2024-03-30T13:47:22.222394",
     "status": "completed"
    },
    "tags": []
   },
   "outputs": [
    {
     "name": "stdout",
     "output_type": "stream",
     "text": [
      "            meantemp  humidity  wind_speed  meanpressure      year     month\n",
      "date_train                                                                  \n",
      "2013-01-01 -2.109500  1.415439   -1.491699      0.025321 -1.341891 -1.599501\n",
      "2013-01-02 -2.463454  1.862828   -0.838196      0.037162 -1.341891 -1.599501\n",
      "2013-01-03 -2.495219  1.564569   -0.475626      0.041972 -1.341891 -1.599501\n",
      "2013-01-04 -2.291015  0.630022   -1.221233      0.033647 -1.341891 -1.599501\n",
      "2013-01-05 -2.654044  1.554627   -0.680303      0.029946 -1.341891 -1.599501\n",
      "...              ...       ...         ...           ...       ...       ...\n",
      "2016-12-28 -1.126952  0.433776   -0.713674      0.024758  1.337005  1.588400\n",
      "2016-12-29 -1.396406  1.615699   -0.175921      0.032193  1.337005  1.588400\n",
      "2016-12-30 -1.551990  1.723641   -0.117442      0.037743  1.337005  1.588400\n",
      "2016-12-31 -1.421654  1.564569    0.114646      0.027726  1.337005  1.588400\n",
      "2017-01-01 -2.109500  2.340044   -1.491699      0.027171  2.229970 -1.599501\n",
      "\n",
      "[1462 rows x 6 columns]\n"
     ]
    }
   ],
   "source": [
    "df_train_scl.set_index('date_train', inplace=True)\n",
    "print(df_train_scl)"
   ]
  },
  {
   "cell_type": "code",
   "execution_count": 33,
   "id": "66d1b176",
   "metadata": {
    "execution": {
     "iopub.execute_input": "2024-03-30T13:47:22.343608Z",
     "iopub.status.busy": "2024-03-30T13:47:22.342650Z",
     "iopub.status.idle": "2024-03-30T13:47:22.349841Z",
     "shell.execute_reply": "2024-03-30T13:47:22.348667Z"
    },
    "papermill": {
     "duration": 0.044448,
     "end_time": "2024-03-30T13:47:22.351952",
     "exception": false,
     "start_time": "2024-03-30T13:47:22.307504",
     "status": "completed"
    },
    "tags": []
   },
   "outputs": [
    {
     "name": "stdout",
     "output_type": "stream",
     "text": [
      "Index(['meantemp', 'humidity', 'wind_speed', 'meanpressure', 'year', 'month',\n",
      "       'date_test'],\n",
      "      dtype='object')\n"
     ]
    }
   ],
   "source": [
    "df_date_test = pd.DataFrame({'date_test': date_test})\n",
    "df_test_scl = pd.concat([df_test_scl, df_date_test], axis=1)\n",
    "print(df_test_scl.columns)"
   ]
  },
  {
   "cell_type": "code",
   "execution_count": 34,
   "id": "0031cd5e",
   "metadata": {
    "execution": {
     "iopub.execute_input": "2024-03-30T13:47:22.421212Z",
     "iopub.status.busy": "2024-03-30T13:47:22.420535Z",
     "iopub.status.idle": "2024-03-30T13:47:22.436161Z",
     "shell.execute_reply": "2024-03-30T13:47:22.434995Z"
    },
    "papermill": {
     "duration": 0.053508,
     "end_time": "2024-03-30T13:47:22.439032",
     "exception": false,
     "start_time": "2024-03-30T13:47:22.385524",
     "status": "completed"
    },
    "tags": []
   },
   "outputs": [
    {
     "name": "stdout",
     "output_type": "stream",
     "text": [
      "            meantemp  humidity  wind_speed  meanpressure     year     month\n",
      "date_test                                                                  \n",
      "2017-01-01 -1.304521  1.497136   -0.890064     -5.284478  2.22997 -1.599501\n",
      "2017-01-02 -0.952343  0.981305   -0.856958      0.039814  2.22997 -1.599501\n",
      "2017-01-03 -1.141421  1.259681   -0.610859      0.040122  2.22997 -1.599501\n",
      "2017-01-04 -0.925116  0.553468   -0.494997      0.025506  2.22997 -1.599501\n",
      "2017-01-05 -0.967469  0.845432   -0.768021      0.017921  2.22997 -1.599501\n",
      "...              ...       ...         ...           ...      ...       ...\n",
      "2017-04-20  1.225835 -1.984721   -0.271863     -0.069265  2.22997 -0.730073\n",
      "2017-04-21  1.191801 -1.276355    0.035151     -0.062328  2.22997 -0.730073\n",
      "2017-04-22  1.008017 -1.185385    0.457845     -0.052753  2.22997 -0.730073\n",
      "2017-04-23  1.004614 -1.984721    0.693040     -0.049839  2.22997 -0.730073\n",
      "2017-04-24  0.885495 -2.006026    1.174317     -0.038640  2.22997 -0.730073\n",
      "\n",
      "[114 rows x 6 columns]\n"
     ]
    }
   ],
   "source": [
    "df_test_scl.set_index('date_test', inplace=True)\n",
    "print(df_test_scl)\n"
   ]
  },
  {
   "cell_type": "markdown",
   "id": "556ec451",
   "metadata": {
    "papermill": {
     "duration": 0.034372,
     "end_time": "2024-03-30T13:47:22.522520",
     "exception": false,
     "start_time": "2024-03-30T13:47:22.488148",
     "status": "completed"
    },
    "tags": []
   },
   "source": [
    "# 🔖AutoReg Model (Predict wind speed)"
   ]
  },
  {
   "cell_type": "markdown",
   "id": "1c881174",
   "metadata": {
    "papermill": {
     "duration": 0.033517,
     "end_time": "2024-03-30T13:47:22.599640",
     "exception": false,
     "start_time": "2024-03-30T13:47:22.566123",
     "status": "completed"
    },
    "tags": []
   },
   "source": [
    "### 🔗Extract the endogenous variable(wind speed)"
   ]
  },
  {
   "cell_type": "code",
   "execution_count": 35,
   "id": "eb1df3ef",
   "metadata": {
    "execution": {
     "iopub.execute_input": "2024-03-30T13:47:22.671576Z",
     "iopub.status.busy": "2024-03-30T13:47:22.670345Z",
     "iopub.status.idle": "2024-03-30T13:47:22.676224Z",
     "shell.execute_reply": "2024-03-30T13:47:22.675302Z"
    },
    "papermill": {
     "duration": 0.044869,
     "end_time": "2024-03-30T13:47:22.679408",
     "exception": false,
     "start_time": "2024-03-30T13:47:22.634539",
     "status": "completed"
    },
    "tags": []
   },
   "outputs": [],
   "source": [
    "wind_train = df_train_scl['wind_speed']\n",
    "wind_test = df_test_scl['wind_speed']"
   ]
  },
  {
   "cell_type": "markdown",
   "id": "d74c6fbe",
   "metadata": {
    "papermill": {
     "duration": 0.033713,
     "end_time": "2024-03-30T13:47:22.749191",
     "exception": false,
     "start_time": "2024-03-30T13:47:22.715478",
     "status": "completed"
    },
    "tags": []
   },
   "source": [
    "### 🔗Train the AR model"
   ]
  },
  {
   "cell_type": "code",
   "execution_count": 36,
   "id": "7e89583a",
   "metadata": {
    "execution": {
     "iopub.execute_input": "2024-03-30T13:47:22.819350Z",
     "iopub.status.busy": "2024-03-30T13:47:22.818779Z",
     "iopub.status.idle": "2024-03-30T13:47:23.040809Z",
     "shell.execute_reply": "2024-03-30T13:47:23.039329Z"
    },
    "papermill": {
     "duration": 0.261253,
     "end_time": "2024-03-30T13:47:23.044244",
     "exception": false,
     "start_time": "2024-03-30T13:47:22.782991",
     "status": "completed"
    },
    "tags": []
   },
   "outputs": [
    {
     "name": "stderr",
     "output_type": "stream",
     "text": [
      "/opt/conda/lib/python3.10/site-packages/statsmodels/tsa/base/tsa_model.py:473: ValueWarning:\n",
      "\n",
      "No frequency information was provided, so inferred frequency D will be used.\n",
      "\n"
     ]
    }
   ],
   "source": [
    "lag_order = 180\n",
    "ar_model_wind = AutoReg(wind_train, lags=lag_order)\n",
    "model_fit = ar_model_wind.fit()"
   ]
  },
  {
   "cell_type": "markdown",
   "id": "b16fc054",
   "metadata": {
    "papermill": {
     "duration": 0.052103,
     "end_time": "2024-03-30T13:47:23.187756",
     "exception": false,
     "start_time": "2024-03-30T13:47:23.135653",
     "status": "completed"
    },
    "tags": []
   },
   "source": [
    "### 🔗Make predictions"
   ]
  },
  {
   "cell_type": "code",
   "execution_count": 37,
   "id": "b9bf35fa",
   "metadata": {
    "execution": {
     "iopub.execute_input": "2024-03-30T13:47:23.258789Z",
     "iopub.status.busy": "2024-03-30T13:47:23.257890Z",
     "iopub.status.idle": "2024-03-30T13:47:23.327410Z",
     "shell.execute_reply": "2024-03-30T13:47:23.326192Z"
    },
    "papermill": {
     "duration": 0.108971,
     "end_time": "2024-03-30T13:47:23.330880",
     "exception": false,
     "start_time": "2024-03-30T13:47:23.221909",
     "status": "completed"
    },
    "tags": []
   },
   "outputs": [
    {
     "name": "stderr",
     "output_type": "stream",
     "text": [
      "/opt/conda/lib/python3.10/site-packages/statsmodels/tsa/deterministic.py:307: UserWarning:\n",
      "\n",
      "Only PeriodIndexes, DatetimeIndexes with a frequency set, RangesIndexes, and Index with a unit increment support extending. The index is set will contain the position relative to the data length.\n",
      "\n"
     ]
    }
   ],
   "source": [
    "predictions = model_fit.predict(start=len(wind_train), end=len(wind_train)+len(wind_test)-1, dynamic=False)"
   ]
  },
  {
   "cell_type": "markdown",
   "id": "4071d815",
   "metadata": {
    "papermill": {
     "duration": 0.033271,
     "end_time": "2024-03-30T13:47:23.400831",
     "exception": false,
     "start_time": "2024-03-30T13:47:23.367560",
     "status": "completed"
    },
    "tags": []
   },
   "source": [
    "### 🔗Evaluate the model"
   ]
  },
  {
   "cell_type": "code",
   "execution_count": 38,
   "id": "2e1e5d6a",
   "metadata": {
    "execution": {
     "iopub.execute_input": "2024-03-30T13:47:23.470409Z",
     "iopub.status.busy": "2024-03-30T13:47:23.469993Z",
     "iopub.status.idle": "2024-03-30T13:47:23.476732Z",
     "shell.execute_reply": "2024-03-30T13:47:23.475532Z"
    },
    "papermill": {
     "duration": 0.045138,
     "end_time": "2024-03-30T13:47:23.479751",
     "exception": false,
     "start_time": "2024-03-30T13:47:23.434613",
     "status": "completed"
    },
    "tags": []
   },
   "outputs": [
    {
     "name": "stdout",
     "output_type": "stream",
     "text": [
      "Mean Squared Error: 0.79548\n"
     ]
    }
   ],
   "source": [
    "mse_wind = mean_squared_error(wind_test, predictions)\n",
    "print(f'Mean Squared Error: {mse_wind:.5f}')"
   ]
  },
  {
   "cell_type": "code",
   "execution_count": 39,
   "id": "8650b51d",
   "metadata": {
    "execution": {
     "iopub.execute_input": "2024-03-30T13:47:23.549837Z",
     "iopub.status.busy": "2024-03-30T13:47:23.549104Z",
     "iopub.status.idle": "2024-03-30T13:47:23.555682Z",
     "shell.execute_reply": "2024-03-30T13:47:23.554687Z"
    },
    "papermill": {
     "duration": 0.044948,
     "end_time": "2024-03-30T13:47:23.558425",
     "exception": false,
     "start_time": "2024-03-30T13:47:23.513477",
     "status": "completed"
    },
    "tags": []
   },
   "outputs": [
    {
     "name": "stdout",
     "output_type": "stream",
     "text": [
      "Mean Absolute Error: 0.69607\n"
     ]
    }
   ],
   "source": [
    "mae_wind = mean_absolute_error(wind_test, predictions)\n",
    "print(f'Mean Absolute Error: {mae_wind:.5f}')"
   ]
  },
  {
   "cell_type": "code",
   "execution_count": 40,
   "id": "9872333e",
   "metadata": {
    "execution": {
     "iopub.execute_input": "2024-03-30T13:47:23.631357Z",
     "iopub.status.busy": "2024-03-30T13:47:23.630408Z",
     "iopub.status.idle": "2024-03-30T13:47:23.637757Z",
     "shell.execute_reply": "2024-03-30T13:47:23.636750Z"
    },
    "papermill": {
     "duration": 0.045185,
     "end_time": "2024-03-30T13:47:23.639787",
     "exception": false,
     "start_time": "2024-03-30T13:47:23.594602",
     "status": "completed"
    },
    "tags": []
   },
   "outputs": [
    {
     "name": "stdout",
     "output_type": "stream",
     "text": [
      "Root Mean Squared Error: 0.89190\n"
     ]
    }
   ],
   "source": [
    "rmse_wind = mean_squared_error(wind_test, predictions, squared=False)\n",
    "print(f'Root Mean Squared Error: {rmse_wind:.5f}')"
   ]
  },
  {
   "cell_type": "code",
   "execution_count": 41,
   "id": "8af3341d",
   "metadata": {
    "execution": {
     "iopub.execute_input": "2024-03-30T13:47:23.710945Z",
     "iopub.status.busy": "2024-03-30T13:47:23.710009Z",
     "iopub.status.idle": "2024-03-30T13:47:23.807252Z",
     "shell.execute_reply": "2024-03-30T13:47:23.806002Z"
    },
    "papermill": {
     "duration": 0.136417,
     "end_time": "2024-03-30T13:47:23.809944",
     "exception": false,
     "start_time": "2024-03-30T13:47:23.673527",
     "status": "completed"
    },
    "tags": []
   },
   "outputs": [
    {
     "data": {
      "text/html": [
       "<div>                            <div id=\"bcc9604b-bbe8-45b4-a44a-b754726fc229\" class=\"plotly-graph-div\" style=\"height:525px; width:100%;\"></div>            <script type=\"text/javascript\">                require([\"plotly\"], function(Plotly) {                    window.PLOTLYENV=window.PLOTLYENV || {};                                    if (document.getElementById(\"bcc9604b-bbe8-45b4-a44a-b754726fc229\")) {                    Plotly.newPlot(                        \"bcc9604b-bbe8-45b4-a44a-b754726fc229\",                        [{\"mode\":\"lines+markers\",\"name\":\"Actual\",\"x\":[\"2017-01-01T00:00:00\",\"2017-01-02T00:00:00\",\"2017-01-03T00:00:00\",\"2017-01-04T00:00:00\",\"2017-01-05T00:00:00\",\"2017-01-06T00:00:00\",\"2017-01-07T00:00:00\",\"2017-01-08T00:00:00\",\"2017-01-09T00:00:00\",\"2017-01-10T00:00:00\",\"2017-01-11T00:00:00\",\"2017-01-12T00:00:00\",\"2017-01-13T00:00:00\",\"2017-01-14T00:00:00\",\"2017-01-15T00:00:00\",\"2017-01-16T00:00:00\",\"2017-01-17T00:00:00\",\"2017-01-18T00:00:00\",\"2017-01-19T00:00:00\",\"2017-01-20T00:00:00\",\"2017-01-21T00:00:00\",\"2017-01-22T00:00:00\",\"2017-01-23T00:00:00\",\"2017-01-24T00:00:00\",\"2017-01-25T00:00:00\",\"2017-01-26T00:00:00\",\"2017-01-27T00:00:00\",\"2017-01-28T00:00:00\",\"2017-01-29T00:00:00\",\"2017-01-30T00:00:00\",\"2017-01-31T00:00:00\",\"2017-02-01T00:00:00\",\"2017-02-02T00:00:00\",\"2017-02-03T00:00:00\",\"2017-02-04T00:00:00\",\"2017-02-05T00:00:00\",\"2017-02-06T00:00:00\",\"2017-02-07T00:00:00\",\"2017-02-08T00:00:00\",\"2017-02-09T00:00:00\",\"2017-02-10T00:00:00\",\"2017-02-11T00:00:00\",\"2017-02-12T00:00:00\",\"2017-02-13T00:00:00\",\"2017-02-14T00:00:00\",\"2017-02-15T00:00:00\",\"2017-02-16T00:00:00\",\"2017-02-17T00:00:00\",\"2017-02-18T00:00:00\",\"2017-02-19T00:00:00\",\"2017-02-20T00:00:00\",\"2017-02-21T00:00:00\",\"2017-02-22T00:00:00\",\"2017-02-23T00:00:00\",\"2017-02-24T00:00:00\",\"2017-02-25T00:00:00\",\"2017-02-26T00:00:00\",\"2017-02-27T00:00:00\",\"2017-02-28T00:00:00\",\"2017-03-01T00:00:00\",\"2017-03-02T00:00:00\",\"2017-03-03T00:00:00\",\"2017-03-04T00:00:00\",\"2017-03-05T00:00:00\",\"2017-03-06T00:00:00\",\"2017-03-07T00:00:00\",\"2017-03-08T00:00:00\",\"2017-03-09T00:00:00\",\"2017-03-10T00:00:00\",\"2017-03-11T00:00:00\",\"2017-03-12T00:00:00\",\"2017-03-13T00:00:00\",\"2017-03-14T00:00:00\",\"2017-03-15T00:00:00\",\"2017-03-16T00:00:00\",\"2017-03-17T00:00:00\",\"2017-03-18T00:00:00\",\"2017-03-19T00:00:00\",\"2017-03-20T00:00:00\",\"2017-03-21T00:00:00\",\"2017-03-22T00:00:00\",\"2017-03-23T00:00:00\",\"2017-03-24T00:00:00\",\"2017-03-25T00:00:00\",\"2017-03-26T00:00:00\",\"2017-03-27T00:00:00\",\"2017-03-28T00:00:00\",\"2017-03-29T00:00:00\",\"2017-03-30T00:00:00\",\"2017-03-31T00:00:00\",\"2017-04-01T00:00:00\",\"2017-04-02T00:00:00\",\"2017-04-03T00:00:00\",\"2017-04-04T00:00:00\",\"2017-04-05T00:00:00\",\"2017-04-06T00:00:00\",\"2017-04-07T00:00:00\",\"2017-04-08T00:00:00\",\"2017-04-09T00:00:00\",\"2017-04-10T00:00:00\",\"2017-04-11T00:00:00\",\"2017-04-12T00:00:00\",\"2017-04-13T00:00:00\",\"2017-04-14T00:00:00\",\"2017-04-15T00:00:00\",\"2017-04-16T00:00:00\",\"2017-04-17T00:00:00\",\"2017-04-18T00:00:00\",\"2017-04-19T00:00:00\",\"2017-04-20T00:00:00\",\"2017-04-21T00:00:00\",\"2017-04-22T00:00:00\",\"2017-04-23T00:00:00\",\"2017-04-24T00:00:00\"],\"y\":[-0.8900643080149973,-0.8569579925891282,-0.6108588862393866,-0.4949973762697805,-0.7680211868290729,0.41219126918480903,0.7104009198808837,-1.064071101893366,-0.05687483000796717,0.5611576499410649,0.6513127681087925,-0.038572663161887115,-0.08046299628759933,-0.3346918296683004,-0.6955580836249304,0.7845961455081085,0.27119929691513245,-0.16952521656020952,0.7754065890616687,0.970190010390519,1.5117061784486236,-0.20486845950677346,-0.01080419274305984,-0.7479984872595075,0.4284590624974325,0.365270419250377,1.6570296606420187,0.633481104687412,0.7658341344299597,-0.5438517038174273,-0.4774536775993039,-0.3732879667433488,-0.8278292504784253,-1.0850039241706393,0.661790254814772,0.2846007333995241,0.49171384270376245,0.18317622546083176,-0.5969701247919259,0.2352590808888094,0.49658709233445036,-0.6254786351314504,-1.1353423777421774,-0.09307611297879163,0.03515126792868508,-0.2730382600549111,0.7972056789275134,0.5433702887890542,-0.12109729835524745,-0.16395974397061625,0.02966886209416086,1.2147822566570876,0.13383457295011594,1.6552021920305109,2.162324731723976,1.1241920269151917,0.9452306364596601,-0.3732879667433488,-0.6340068219851542,-0.08482907514224262,-0.1912720930371538,0.13383457295011594,0.3394247917447643,0.6930399680715585,0.6281648323630246,-0.1704389508659629,0.7590780383510515,0.33785839007775725,1.0219843181429953,-0.27094972449890203,0.18317622546083137,0.494150467519106,-0.4999924571412357,0.0817517175221387,-0.2724116993881082,1.028014964560971,0.07036518232735833,0.5172984032648743,0.7183199505307521,0.5395326047048878,0.7423816205822743,-0.7269031430701434,0.7085734512693771,0.7944644760102516,2.365721988184814,1.5016948286638405,0.447854596027571,1.4030115236424092,0.829708513517905,0.03241006501142287,0.4901909521941724,0.5395326047048878,0.029668862094161055,1.6486233050290822,1.6627932154936989,1.485856767364104,-0.4719712717647799,0.3366835888275017,1.6058605395197953,2.7438513506002664,1.910134063335874,0.5888742572156036,-0.40740071415816453,-1.187425233170155,-0.1832312311465188,-1.0311766668862226,-0.3148089711750936,0.2212484882005811,0.4874497492769106,-0.27186345880465596,0.03515126792868508,0.45784475777048134,0.6930399680715585,1.1743168802594108],\"type\":\"scatter\",\"marker\":{\"size\":4}},{\"mode\":\"lines+markers\",\"name\":\"Predicted\",\"x\":[\"2017-01-01T00:00:00\",\"2017-01-02T00:00:00\",\"2017-01-03T00:00:00\",\"2017-01-04T00:00:00\",\"2017-01-05T00:00:00\",\"2017-01-06T00:00:00\",\"2017-01-07T00:00:00\",\"2017-01-08T00:00:00\",\"2017-01-09T00:00:00\",\"2017-01-10T00:00:00\",\"2017-01-11T00:00:00\",\"2017-01-12T00:00:00\",\"2017-01-13T00:00:00\",\"2017-01-14T00:00:00\",\"2017-01-15T00:00:00\",\"2017-01-16T00:00:00\",\"2017-01-17T00:00:00\",\"2017-01-18T00:00:00\",\"2017-01-19T00:00:00\",\"2017-01-20T00:00:00\",\"2017-01-21T00:00:00\",\"2017-01-22T00:00:00\",\"2017-01-23T00:00:00\",\"2017-01-24T00:00:00\",\"2017-01-25T00:00:00\",\"2017-01-26T00:00:00\",\"2017-01-27T00:00:00\",\"2017-01-28T00:00:00\",\"2017-01-29T00:00:00\",\"2017-01-30T00:00:00\",\"2017-01-31T00:00:00\",\"2017-02-01T00:00:00\",\"2017-02-02T00:00:00\",\"2017-02-03T00:00:00\",\"2017-02-04T00:00:00\",\"2017-02-05T00:00:00\",\"2017-02-06T00:00:00\",\"2017-02-07T00:00:00\",\"2017-02-08T00:00:00\",\"2017-02-09T00:00:00\",\"2017-02-10T00:00:00\",\"2017-02-11T00:00:00\",\"2017-02-12T00:00:00\",\"2017-02-13T00:00:00\",\"2017-02-14T00:00:00\",\"2017-02-15T00:00:00\",\"2017-02-16T00:00:00\",\"2017-02-17T00:00:00\",\"2017-02-18T00:00:00\",\"2017-02-19T00:00:00\",\"2017-02-20T00:00:00\",\"2017-02-21T00:00:00\",\"2017-02-22T00:00:00\",\"2017-02-23T00:00:00\",\"2017-02-24T00:00:00\",\"2017-02-25T00:00:00\",\"2017-02-26T00:00:00\",\"2017-02-27T00:00:00\",\"2017-02-28T00:00:00\",\"2017-03-01T00:00:00\",\"2017-03-02T00:00:00\",\"2017-03-03T00:00:00\",\"2017-03-04T00:00:00\",\"2017-03-05T00:00:00\",\"2017-03-06T00:00:00\",\"2017-03-07T00:00:00\",\"2017-03-08T00:00:00\",\"2017-03-09T00:00:00\",\"2017-03-10T00:00:00\",\"2017-03-11T00:00:00\",\"2017-03-12T00:00:00\",\"2017-03-13T00:00:00\",\"2017-03-14T00:00:00\",\"2017-03-15T00:00:00\",\"2017-03-16T00:00:00\",\"2017-03-17T00:00:00\",\"2017-03-18T00:00:00\",\"2017-03-19T00:00:00\",\"2017-03-20T00:00:00\",\"2017-03-21T00:00:00\",\"2017-03-22T00:00:00\",\"2017-03-23T00:00:00\",\"2017-03-24T00:00:00\",\"2017-03-25T00:00:00\",\"2017-03-26T00:00:00\",\"2017-03-27T00:00:00\",\"2017-03-28T00:00:00\",\"2017-03-29T00:00:00\",\"2017-03-30T00:00:00\",\"2017-03-31T00:00:00\",\"2017-04-01T00:00:00\",\"2017-04-02T00:00:00\",\"2017-04-03T00:00:00\",\"2017-04-04T00:00:00\",\"2017-04-05T00:00:00\",\"2017-04-06T00:00:00\",\"2017-04-07T00:00:00\",\"2017-04-08T00:00:00\",\"2017-04-09T00:00:00\",\"2017-04-10T00:00:00\",\"2017-04-11T00:00:00\",\"2017-04-12T00:00:00\",\"2017-04-13T00:00:00\",\"2017-04-14T00:00:00\",\"2017-04-15T00:00:00\",\"2017-04-16T00:00:00\",\"2017-04-17T00:00:00\",\"2017-04-18T00:00:00\",\"2017-04-19T00:00:00\",\"2017-04-20T00:00:00\",\"2017-04-21T00:00:00\",\"2017-04-22T00:00:00\",\"2017-04-23T00:00:00\",\"2017-04-24T00:00:00\"],\"y\":[-0.701831707188068,-0.18931938968781822,-0.5232282589319356,-0.44862919048227895,-0.4082110275045406,-0.28879874078996864,-0.21222216179845743,0.26778538557700654,0.017584049847516978,-0.16944760076811013,-0.07834056917835373,-0.043319702790513365,0.08379103827781088,-0.0452586315766209,0.019922675373320924,-0.23979744523601,0.4532222804192405,0.664745024912346,0.12673993021573543,-0.3295551703262542,-0.03668707733489627,0.05885694591569837,-0.11412574458545659,0.1784898835957874,-0.1414734139127824,-0.14483325909990905,-0.14031186822063763,-0.22141223907124216,0.07439459899612774,-0.0831044767099425,-0.2708146527807004,-0.6656773480026978,-0.11504675021673068,0.181547340245733,-0.40832081770452344,-0.5147645585550953,-0.2793419920302993,-0.7430062431911041,-0.5761459280830753,-0.3741637792193205,-0.4773034015313521,-0.5783750452549167,-0.3445509824487733,-0.5596511661926489,-0.5886196711032858,0.05730290092772022,-0.01052643057402497,-0.04675976788624096,0.0701501893618546,0.169172520869027,0.05273596514784908,0.28615969016622333,0.4272429736881724,-0.06857936133702056,-0.007179532889299737,-0.022428018417196605,0.10636884129571407,0.14731603567312931,-0.07249603800495896,-0.2530947546082713,-0.07821106089965263,0.007646906152626615,-0.2795283959452601,-0.2799392592677896,-0.12597156651302982,0.05772910052898344,-0.47631137029218507,-0.32605391898593955,-0.3219740467057726,-0.2612847372944882,-0.1637836344020312,-0.5452280708941493,-0.22859942523064083,-0.38972792499622505,-0.37990923317826053,-0.2332175370703548,0.3368542574254113,0.4377035196880729,0.1840535314412504,-0.16119563513946883,0.11688619240559293,0.4091659669528484,0.43655315904459335,-0.1616429111614548,-0.1289667454224622,-0.034208041597594455,0.20715288668235118,0.2186667052114239,-0.11793185558321388,-0.214954861914937,-0.1499146220329592,0.17491777567082556,0.09767516532391646,-0.14577692501470116,-0.2730423005851249,0.2110755687660342,0.4000769259456113,0.36824611086520187,-0.04799240660041288,-0.1682165734313963,-0.0766829859644527,0.14340747183292063,-0.0571957646505183,-0.30363283341041813,-0.5041906771730357,-0.2501786667803233,-0.24013200228701315,-0.2171141487312962,-0.30465316437718015,-0.009939930545746774,0.25646657230591396,0.2241503405923165,0.3186996600107058,0.25327721448135004],\"type\":\"scatter\",\"marker\":{\"size\":4}}],                        {\"template\":{\"data\":{\"barpolar\":[{\"marker\":{\"line\":{\"color\":\"white\",\"width\":0.5},\"pattern\":{\"fillmode\":\"overlay\",\"size\":10,\"solidity\":0.2}},\"type\":\"barpolar\"}],\"bar\":[{\"error_x\":{\"color\":\"#2a3f5f\"},\"error_y\":{\"color\":\"#2a3f5f\"},\"marker\":{\"line\":{\"color\":\"white\",\"width\":0.5},\"pattern\":{\"fillmode\":\"overlay\",\"size\":10,\"solidity\":0.2}},\"type\":\"bar\"}],\"carpet\":[{\"aaxis\":{\"endlinecolor\":\"#2a3f5f\",\"gridcolor\":\"#C8D4E3\",\"linecolor\":\"#C8D4E3\",\"minorgridcolor\":\"#C8D4E3\",\"startlinecolor\":\"#2a3f5f\"},\"baxis\":{\"endlinecolor\":\"#2a3f5f\",\"gridcolor\":\"#C8D4E3\",\"linecolor\":\"#C8D4E3\",\"minorgridcolor\":\"#C8D4E3\",\"startlinecolor\":\"#2a3f5f\"},\"type\":\"carpet\"}],\"choropleth\":[{\"colorbar\":{\"outlinewidth\":0,\"ticks\":\"\"},\"type\":\"choropleth\"}],\"contourcarpet\":[{\"colorbar\":{\"outlinewidth\":0,\"ticks\":\"\"},\"type\":\"contourcarpet\"}],\"contour\":[{\"colorbar\":{\"outlinewidth\":0,\"ticks\":\"\"},\"colorscale\":[[0.0,\"#0d0887\"],[0.1111111111111111,\"#46039f\"],[0.2222222222222222,\"#7201a8\"],[0.3333333333333333,\"#9c179e\"],[0.4444444444444444,\"#bd3786\"],[0.5555555555555556,\"#d8576b\"],[0.6666666666666666,\"#ed7953\"],[0.7777777777777778,\"#fb9f3a\"],[0.8888888888888888,\"#fdca26\"],[1.0,\"#f0f921\"]],\"type\":\"contour\"}],\"heatmapgl\":[{\"colorbar\":{\"outlinewidth\":0,\"ticks\":\"\"},\"colorscale\":[[0.0,\"#0d0887\"],[0.1111111111111111,\"#46039f\"],[0.2222222222222222,\"#7201a8\"],[0.3333333333333333,\"#9c179e\"],[0.4444444444444444,\"#bd3786\"],[0.5555555555555556,\"#d8576b\"],[0.6666666666666666,\"#ed7953\"],[0.7777777777777778,\"#fb9f3a\"],[0.8888888888888888,\"#fdca26\"],[1.0,\"#f0f921\"]],\"type\":\"heatmapgl\"}],\"heatmap\":[{\"colorbar\":{\"outlinewidth\":0,\"ticks\":\"\"},\"colorscale\":[[0.0,\"#0d0887\"],[0.1111111111111111,\"#46039f\"],[0.2222222222222222,\"#7201a8\"],[0.3333333333333333,\"#9c179e\"],[0.4444444444444444,\"#bd3786\"],[0.5555555555555556,\"#d8576b\"],[0.6666666666666666,\"#ed7953\"],[0.7777777777777778,\"#fb9f3a\"],[0.8888888888888888,\"#fdca26\"],[1.0,\"#f0f921\"]],\"type\":\"heatmap\"}],\"histogram2dcontour\":[{\"colorbar\":{\"outlinewidth\":0,\"ticks\":\"\"},\"colorscale\":[[0.0,\"#0d0887\"],[0.1111111111111111,\"#46039f\"],[0.2222222222222222,\"#7201a8\"],[0.3333333333333333,\"#9c179e\"],[0.4444444444444444,\"#bd3786\"],[0.5555555555555556,\"#d8576b\"],[0.6666666666666666,\"#ed7953\"],[0.7777777777777778,\"#fb9f3a\"],[0.8888888888888888,\"#fdca26\"],[1.0,\"#f0f921\"]],\"type\":\"histogram2dcontour\"}],\"histogram2d\":[{\"colorbar\":{\"outlinewidth\":0,\"ticks\":\"\"},\"colorscale\":[[0.0,\"#0d0887\"],[0.1111111111111111,\"#46039f\"],[0.2222222222222222,\"#7201a8\"],[0.3333333333333333,\"#9c179e\"],[0.4444444444444444,\"#bd3786\"],[0.5555555555555556,\"#d8576b\"],[0.6666666666666666,\"#ed7953\"],[0.7777777777777778,\"#fb9f3a\"],[0.8888888888888888,\"#fdca26\"],[1.0,\"#f0f921\"]],\"type\":\"histogram2d\"}],\"histogram\":[{\"marker\":{\"pattern\":{\"fillmode\":\"overlay\",\"size\":10,\"solidity\":0.2}},\"type\":\"histogram\"}],\"mesh3d\":[{\"colorbar\":{\"outlinewidth\":0,\"ticks\":\"\"},\"type\":\"mesh3d\"}],\"parcoords\":[{\"line\":{\"colorbar\":{\"outlinewidth\":0,\"ticks\":\"\"}},\"type\":\"parcoords\"}],\"pie\":[{\"automargin\":true,\"type\":\"pie\"}],\"scatter3d\":[{\"line\":{\"colorbar\":{\"outlinewidth\":0,\"ticks\":\"\"}},\"marker\":{\"colorbar\":{\"outlinewidth\":0,\"ticks\":\"\"}},\"type\":\"scatter3d\"}],\"scattercarpet\":[{\"marker\":{\"colorbar\":{\"outlinewidth\":0,\"ticks\":\"\"}},\"type\":\"scattercarpet\"}],\"scattergeo\":[{\"marker\":{\"colorbar\":{\"outlinewidth\":0,\"ticks\":\"\"}},\"type\":\"scattergeo\"}],\"scattergl\":[{\"marker\":{\"colorbar\":{\"outlinewidth\":0,\"ticks\":\"\"}},\"type\":\"scattergl\"}],\"scattermapbox\":[{\"marker\":{\"colorbar\":{\"outlinewidth\":0,\"ticks\":\"\"}},\"type\":\"scattermapbox\"}],\"scatterpolargl\":[{\"marker\":{\"colorbar\":{\"outlinewidth\":0,\"ticks\":\"\"}},\"type\":\"scatterpolargl\"}],\"scatterpolar\":[{\"marker\":{\"colorbar\":{\"outlinewidth\":0,\"ticks\":\"\"}},\"type\":\"scatterpolar\"}],\"scatter\":[{\"fillpattern\":{\"fillmode\":\"overlay\",\"size\":10,\"solidity\":0.2},\"type\":\"scatter\"}],\"scatterternary\":[{\"marker\":{\"colorbar\":{\"outlinewidth\":0,\"ticks\":\"\"}},\"type\":\"scatterternary\"}],\"surface\":[{\"colorbar\":{\"outlinewidth\":0,\"ticks\":\"\"},\"colorscale\":[[0.0,\"#0d0887\"],[0.1111111111111111,\"#46039f\"],[0.2222222222222222,\"#7201a8\"],[0.3333333333333333,\"#9c179e\"],[0.4444444444444444,\"#bd3786\"],[0.5555555555555556,\"#d8576b\"],[0.6666666666666666,\"#ed7953\"],[0.7777777777777778,\"#fb9f3a\"],[0.8888888888888888,\"#fdca26\"],[1.0,\"#f0f921\"]],\"type\":\"surface\"}],\"table\":[{\"cells\":{\"fill\":{\"color\":\"#EBF0F8\"},\"line\":{\"color\":\"white\"}},\"header\":{\"fill\":{\"color\":\"#C8D4E3\"},\"line\":{\"color\":\"white\"}},\"type\":\"table\"}]},\"layout\":{\"annotationdefaults\":{\"arrowcolor\":\"#2a3f5f\",\"arrowhead\":0,\"arrowwidth\":1},\"autotypenumbers\":\"strict\",\"coloraxis\":{\"colorbar\":{\"outlinewidth\":0,\"ticks\":\"\"}},\"colorscale\":{\"diverging\":[[0,\"#8e0152\"],[0.1,\"#c51b7d\"],[0.2,\"#de77ae\"],[0.3,\"#f1b6da\"],[0.4,\"#fde0ef\"],[0.5,\"#f7f7f7\"],[0.6,\"#e6f5d0\"],[0.7,\"#b8e186\"],[0.8,\"#7fbc41\"],[0.9,\"#4d9221\"],[1,\"#276419\"]],\"sequential\":[[0.0,\"#0d0887\"],[0.1111111111111111,\"#46039f\"],[0.2222222222222222,\"#7201a8\"],[0.3333333333333333,\"#9c179e\"],[0.4444444444444444,\"#bd3786\"],[0.5555555555555556,\"#d8576b\"],[0.6666666666666666,\"#ed7953\"],[0.7777777777777778,\"#fb9f3a\"],[0.8888888888888888,\"#fdca26\"],[1.0,\"#f0f921\"]],\"sequentialminus\":[[0.0,\"#0d0887\"],[0.1111111111111111,\"#46039f\"],[0.2222222222222222,\"#7201a8\"],[0.3333333333333333,\"#9c179e\"],[0.4444444444444444,\"#bd3786\"],[0.5555555555555556,\"#d8576b\"],[0.6666666666666666,\"#ed7953\"],[0.7777777777777778,\"#fb9f3a\"],[0.8888888888888888,\"#fdca26\"],[1.0,\"#f0f921\"]]},\"colorway\":[\"#636efa\",\"#EF553B\",\"#00cc96\",\"#ab63fa\",\"#FFA15A\",\"#19d3f3\",\"#FF6692\",\"#B6E880\",\"#FF97FF\",\"#FECB52\"],\"font\":{\"color\":\"#2a3f5f\"},\"geo\":{\"bgcolor\":\"white\",\"lakecolor\":\"white\",\"landcolor\":\"white\",\"showlakes\":true,\"showland\":true,\"subunitcolor\":\"#C8D4E3\"},\"hoverlabel\":{\"align\":\"left\"},\"hovermode\":\"closest\",\"mapbox\":{\"style\":\"light\"},\"paper_bgcolor\":\"white\",\"plot_bgcolor\":\"white\",\"polar\":{\"angularaxis\":{\"gridcolor\":\"#EBF0F8\",\"linecolor\":\"#EBF0F8\",\"ticks\":\"\"},\"bgcolor\":\"white\",\"radialaxis\":{\"gridcolor\":\"#EBF0F8\",\"linecolor\":\"#EBF0F8\",\"ticks\":\"\"}},\"scene\":{\"xaxis\":{\"backgroundcolor\":\"white\",\"gridcolor\":\"#DFE8F3\",\"gridwidth\":2,\"linecolor\":\"#EBF0F8\",\"showbackground\":true,\"ticks\":\"\",\"zerolinecolor\":\"#EBF0F8\"},\"yaxis\":{\"backgroundcolor\":\"white\",\"gridcolor\":\"#DFE8F3\",\"gridwidth\":2,\"linecolor\":\"#EBF0F8\",\"showbackground\":true,\"ticks\":\"\",\"zerolinecolor\":\"#EBF0F8\"},\"zaxis\":{\"backgroundcolor\":\"white\",\"gridcolor\":\"#DFE8F3\",\"gridwidth\":2,\"linecolor\":\"#EBF0F8\",\"showbackground\":true,\"ticks\":\"\",\"zerolinecolor\":\"#EBF0F8\"}},\"shapedefaults\":{\"line\":{\"color\":\"#2a3f5f\"}},\"ternary\":{\"aaxis\":{\"gridcolor\":\"#DFE8F3\",\"linecolor\":\"#A2B1C6\",\"ticks\":\"\"},\"baxis\":{\"gridcolor\":\"#DFE8F3\",\"linecolor\":\"#A2B1C6\",\"ticks\":\"\"},\"bgcolor\":\"white\",\"caxis\":{\"gridcolor\":\"#DFE8F3\",\"linecolor\":\"#A2B1C6\",\"ticks\":\"\"}},\"title\":{\"x\":0.05},\"xaxis\":{\"automargin\":true,\"gridcolor\":\"#EBF0F8\",\"linecolor\":\"#EBF0F8\",\"ticks\":\"\",\"title\":{\"standoff\":15},\"zerolinecolor\":\"#EBF0F8\",\"zerolinewidth\":2},\"yaxis\":{\"automargin\":true,\"gridcolor\":\"#EBF0F8\",\"linecolor\":\"#EBF0F8\",\"ticks\":\"\",\"title\":{\"standoff\":15},\"zerolinecolor\":\"#EBF0F8\",\"zerolinewidth\":2}}},\"legend\":{\"orientation\":\"h\",\"yanchor\":\"top\",\"y\":1.1,\"xanchor\":\"right\",\"x\":1},\"margin\":{\"l\":50,\"r\":50,\"t\":80,\"b\":50},\"title\":{\"text\":\"AR Model Forecasting\",\"x\":0.5},\"xaxis\":{\"title\":{\"text\":\"Date\"}},\"yaxis\":{\"title\":{\"text\":\"Wind Speed\"}}},                        {\"responsive\": true}                    ).then(function(){\n",
       "                            \n",
       "var gd = document.getElementById('bcc9604b-bbe8-45b4-a44a-b754726fc229');\n",
       "var x = new MutationObserver(function (mutations, observer) {{\n",
       "        var display = window.getComputedStyle(gd).display;\n",
       "        if (!display || display === 'none') {{\n",
       "            console.log([gd, 'removed!']);\n",
       "            Plotly.purge(gd);\n",
       "            observer.disconnect();\n",
       "        }}\n",
       "}});\n",
       "\n",
       "// Listen for the removal of the full notebook cells\n",
       "var notebookContainer = gd.closest('#notebook-container');\n",
       "if (notebookContainer) {{\n",
       "    x.observe(notebookContainer, {childList: true});\n",
       "}}\n",
       "\n",
       "// Listen for the clearing of the current output cell\n",
       "var outputEl = gd.closest('.output');\n",
       "if (outputEl) {{\n",
       "    x.observe(outputEl, {childList: true});\n",
       "}}\n",
       "\n",
       "                        })                };                });            </script>        </div>"
      ]
     },
     "metadata": {},
     "output_type": "display_data"
    }
   ],
   "source": [
    "fig = go.Figure()\n",
    "\n",
    "fig.add_trace(go.Scatter(x=wind_test.index, y=wind_test, mode='lines+markers', name='Actual'))\n",
    "fig.add_trace(go.Scatter(x=wind_test.index, y=predictions, mode='lines+markers', name='Predicted'))\n",
    "\n",
    "fig.update_layout(title='AR Model Forecasting',\n",
    "                  xaxis_title='Date',\n",
    "                  yaxis_title='Wind Speed',\n",
    "                  legend=dict(orientation='h', yanchor='top', y=1.1, xanchor='right', x=1),\n",
    "                  margin=dict(l=50, r=50, t=80, b=50),\n",
    "                  template='plotly_white',\n",
    "                  title_x=0.5) \n",
    "\n",
    "# Decrease the size of markers\n",
    "fig.update_traces(marker=dict(size=4))\n",
    "\n",
    "fig.show()\n"
   ]
  },
  {
   "cell_type": "code",
   "execution_count": 42,
   "id": "c8e6a427",
   "metadata": {
    "execution": {
     "iopub.execute_input": "2024-03-30T13:47:23.884385Z",
     "iopub.status.busy": "2024-03-30T13:47:23.883985Z",
     "iopub.status.idle": "2024-03-30T13:47:23.891297Z",
     "shell.execute_reply": "2024-03-30T13:47:23.890209Z"
    },
    "papermill": {
     "duration": 0.047169,
     "end_time": "2024-03-30T13:47:23.893781",
     "exception": false,
     "start_time": "2024-03-30T13:47:23.846612",
     "status": "completed"
    },
    "tags": []
   },
   "outputs": [
    {
     "name": "stdout",
     "output_type": "stream",
     "text": [
      "date_test\n",
      "2017-01-01   -0.890064\n",
      "2017-01-02   -0.856958\n",
      "2017-01-03   -0.610859\n",
      "2017-01-04   -0.494997\n",
      "2017-01-05   -0.768021\n",
      "                ...   \n",
      "2017-04-20   -0.271863\n",
      "2017-04-21    0.035151\n",
      "2017-04-22    0.457845\n",
      "2017-04-23    0.693040\n",
      "2017-04-24    1.174317\n",
      "Name: wind_speed, Length: 114, dtype: float64\n"
     ]
    }
   ],
   "source": [
    "print(wind_test)"
   ]
  },
  {
   "cell_type": "code",
   "execution_count": 43,
   "id": "7332c854",
   "metadata": {
    "execution": {
     "iopub.execute_input": "2024-03-30T13:47:23.965695Z",
     "iopub.status.busy": "2024-03-30T13:47:23.965246Z",
     "iopub.status.idle": "2024-03-30T13:47:23.971702Z",
     "shell.execute_reply": "2024-03-30T13:47:23.970844Z"
    },
    "papermill": {
     "duration": 0.045522,
     "end_time": "2024-03-30T13:47:23.974138",
     "exception": false,
     "start_time": "2024-03-30T13:47:23.928616",
     "status": "completed"
    },
    "tags": []
   },
   "outputs": [
    {
     "name": "stdout",
     "output_type": "stream",
     "text": [
      "2017-01-02   -0.701832\n",
      "2017-01-03   -0.189319\n",
      "2017-01-04   -0.523228\n",
      "2017-01-05   -0.448629\n",
      "2017-01-06   -0.408211\n",
      "                ...   \n",
      "2017-04-21   -0.009940\n",
      "2017-04-22    0.256467\n",
      "2017-04-23    0.224150\n",
      "2017-04-24    0.318700\n",
      "2017-04-25    0.253277\n",
      "Freq: D, Length: 114, dtype: float64\n"
     ]
    }
   ],
   "source": [
    "print(predictions)"
   ]
  },
  {
   "cell_type": "markdown",
   "id": "6f227acd",
   "metadata": {
    "papermill": {
     "duration": 0.03454,
     "end_time": "2024-03-30T13:47:24.043586",
     "exception": false,
     "start_time": "2024-03-30T13:47:24.009046",
     "status": "completed"
    },
    "tags": []
   },
   "source": [
    "### Wish you Luck💕💕\n",
    "##### Esraa Meslam"
   ]
  }
 ],
 "metadata": {
  "kaggle": {
   "accelerator": "none",
   "dataSources": [
    {
     "datasetId": 312121,
     "sourceId": 636393,
     "sourceType": "datasetVersion"
    }
   ],
   "dockerImageVersionId": 30673,
   "isGpuEnabled": false,
   "isInternetEnabled": true,
   "language": "python",
   "sourceType": "notebook"
  },
  "kernelspec": {
   "display_name": "Python 3",
   "language": "python",
   "name": "python3"
  },
  "language_info": {
   "codemirror_mode": {
    "name": "ipython",
    "version": 3
   },
   "file_extension": ".py",
   "mimetype": "text/x-python",
   "name": "python",
   "nbconvert_exporter": "python",
   "pygments_lexer": "ipython3",
   "version": "3.10.13"
  },
  "papermill": {
   "default_parameters": {},
   "duration": 14.410176,
   "end_time": "2024-03-30T13:47:24.699261",
   "environment_variables": {},
   "exception": null,
   "input_path": "__notebook__.ipynb",
   "output_path": "__notebook__.ipynb",
   "parameters": {},
   "start_time": "2024-03-30T13:47:10.289085",
   "version": "2.5.0"
  }
 },
 "nbformat": 4,
 "nbformat_minor": 5
}
